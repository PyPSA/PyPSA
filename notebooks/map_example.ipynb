{
 "cells": [
  {
   "cell_type": "code",
   "execution_count": null,
   "id": "23d8cb1f",
   "metadata": {},
   "outputs": [],
   "source": [
    "import pypsa\n",
    "\n",
    "# Check if pydeck is installed\n",
    "# try:\n",
    "#     import pydeck\n",
    "# except ImportError:\n",
    "#     print(\"pydeck is not installed. You can install it using:\")\n",
    "#     print(\"conda install -c conda-forge pydeck\")"
   ]
  },
  {
   "cell_type": "code",
   "execution_count": null,
   "id": "ae4c01ab",
   "metadata": {},
   "outputs": [],
   "source": [
    "conda install -c conda-forge pydeck"
   ]
  },
  {
   "cell_type": "code",
   "execution_count": null,
   "id": "c6b84c48",
   "metadata": {},
   "outputs": [],
   "source": [
    "n_scigrid = \"../examples/networks/scigrid-de/scigrid-de.nc\""
   ]
  },
  {
   "cell_type": "code",
   "execution_count": null,
   "id": "2c3772e8",
   "metadata": {},
   "outputs": [],
   "source": [
    "n = pypsa.Network(n_scigrid)"
   ]
  },
  {
   "cell_type": "code",
   "execution_count": null,
   "id": "8ea21f07",
   "metadata": {},
   "outputs": [],
   "source": [
    "pdk_map = n.plot.explore(components=[\"Bus\"], bus_columns=[])"
   ]
  },
  {
   "cell_type": "code",
   "execution_count": null,
   "id": "c9c0507b",
   "metadata": {},
   "outputs": [],
   "source": [
    "pdk_map"
   ]
  },
  {
   "cell_type": "code",
   "execution_count": null,
   "id": "a82c4ac0",
   "metadata": {},
   "outputs": [],
   "source": [
    "# Export the map to an HTML file\n",
    "pdk_map.to_html(\"pypsa_map.html\")"
   ]
  },
  {
   "cell_type": "code",
   "execution_count": null,
   "id": "6869cc9e",
   "metadata": {},
   "outputs": [],
   "source": []
  }
 ],
 "metadata": {
  "kernelspec": {
   "display_name": "",
   "language": "python",
   "name": ""
  },
  "language_info": {
   "codemirror_mode": {
    "name": "ipython",
    "version": 3
   },
   "file_extension": ".py",
   "mimetype": "text/x-python",
   "name": "python",
   "nbconvert_exporter": "python",
   "pygments_lexer": "ipython3",
   "version": "3.12.11"
  }
 },
 "nbformat": 4,
 "nbformat_minor": 5
}
