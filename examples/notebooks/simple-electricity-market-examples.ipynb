{
 "cells": [
  {
   "cell_type": "markdown",
   "metadata": {},
   "source": [
    "# Simple electricity market examples\n",
    "\n",
    "This example gradually builds up more and more complicated energy-only electricity markets in PyPSA, starting from a single bidding zone, going up to multiple bidding zones connected with transmission (NTCs) along with variable renewables and storage."
   ]
  },
  {
   "cell_type": "markdown",
   "metadata": {},
   "source": [
    "## Preliminaries\n",
    "\n",
    "Here libraries are imported and data is defined."
   ]
  },
  {
   "cell_type": "code",
   "execution_count": null,
   "metadata": {},
   "outputs": [],
   "source": [
    "import numpy as np\n",
    "\n",
    "import pypsa"
   ]
  },
  {
   "cell_type": "code",
   "execution_count": null,
   "metadata": {},
   "outputs": [],
   "source": [
    "# marginal costs in EUR/MWh\n",
    "marginal_costs = {\"Wind\": 0, \"Hydro\": 0, \"Coal\": 30, \"Gas\": 60, \"Oil\": 80}\n",
    "\n",
    "# power plant capacities (nominal powers in MW) in each country (not necessarily realistic)\n",
    "power_plant_p_nom = {\n",
    "    \"South Africa\": {\"Coal\": 35000, \"Wind\": 3000, \"Gas\": 8000, \"Oil\": 2000},\n",
    "    \"Mozambique\": {\n",
    "        \"Hydro\": 1200,\n",
    "    },\n",
    "    \"Swaziland\": {\n",
    "        \"Hydro\": 600,\n",
    "    },\n",
    "}\n",
    "\n",
    "# transmission capacities in MW (not necessarily realistic)\n",
    "transmission = {\n",
    "    \"South Africa\": {\"Mozambique\": 500, \"Swaziland\": 250},\n",
    "    \"Mozambique\": {\"Swaziland\": 100},\n",
    "}\n",
    "\n",
    "# country electrical loads in MW (not necessarily realistic)\n",
    "loads = {\"South Africa\": 42000, \"Mozambique\": 650, \"Swaziland\": 250}"
   ]
  },
  {
   "cell_type": "markdown",
   "metadata": {},
   "source": [
    "## Single bidding zone with fixed load, one period\n",
    "\n",
    "In this example we consider a single market bidding zone, South Africa.\n",
    "\n",
    "The inelastic load has essentially infinite marginal utility (or higher than the marginal cost of any generator)."
   ]
  },
  {
   "cell_type": "code",
   "execution_count": null,
   "metadata": {},
   "outputs": [],
   "source": [
    "country = \"South Africa\"\n",
    "\n",
    "network = pypsa.Network()\n",
    "\n",
    "network.add(\"Bus\", country)\n",
    "\n",
    "for tech in power_plant_p_nom[country]:\n",
    "    network.add(\n",
    "        \"Generator\",\n",
    "        f\"{country} {tech}\",\n",
    "        bus=country,\n",
    "        p_nom=power_plant_p_nom[country][tech],\n",
    "        marginal_cost=marginal_costs[tech],\n",
    "    )\n",
    "\n",
    "\n",
    "network.add(\"Load\", f\"{country} load\", bus=country, p_set=loads[country])"
   ]
  },
  {
   "cell_type": "code",
   "execution_count": null,
   "metadata": {},
   "outputs": [],
   "source": [
    "# Run optimisation to determine market dispatch\n",
    "network.optimize()"
   ]
  },
  {
   "cell_type": "code",
   "execution_count": null,
   "metadata": {},
   "outputs": [],
   "source": [
    "# print the load active power (P) consumption\n",
    "network.loads_t.p"
   ]
  },
  {
   "cell_type": "code",
   "execution_count": null,
   "metadata": {},
   "outputs": [],
   "source": [
    "# print the generator active power (P) dispatch\n",
    "network.generators_t.p"
   ]
  },
  {
   "cell_type": "code",
   "execution_count": null,
   "metadata": {},
   "outputs": [],
   "source": [
    "# print the clearing price (corresponding to gas)\n",
    "network.buses_t.marginal_price"
   ]
  },
  {
   "cell_type": "markdown",
   "metadata": {},
   "source": [
    "## Two bidding zones connected by transmission, one period\n",
    "\n",
    "In this example we have bidirectional transmission capacity between two bidding zones. The power transfer is treated as controllable (like an A/NTC (Available/Net Transfer Capacity) or HVDC line). Note that in the physical grid, power flows passively according to the network impedances."
   ]
  },
  {
   "cell_type": "code",
   "execution_count": null,
   "metadata": {},
   "outputs": [],
   "source": [
    "network = pypsa.Network()\n",
    "\n",
    "countries = [\"Mozambique\", \"South Africa\"]\n",
    "\n",
    "for country in countries:\n",
    "    network.add(\"Bus\", country)\n",
    "\n",
    "    for tech in power_plant_p_nom[country]:\n",
    "        network.add(\n",
    "            \"Generator\",\n",
    "            f\"{country} {tech}\",\n",
    "            bus=country,\n",
    "            p_nom=power_plant_p_nom[country][tech],\n",
    "            marginal_cost=marginal_costs[tech],\n",
    "        )\n",
    "\n",
    "    network.add(\"Load\", f\"{country} load\", bus=country, p_set=loads[country])\n",
    "\n",
    "    # add transmission as controllable Link\n",
    "    if country not in transmission:\n",
    "        continue\n",
    "\n",
    "    for other_country in countries:\n",
    "        if other_country not in transmission[country]:\n",
    "            continue\n",
    "\n",
    "        # NB: Link is by default unidirectional, so have to set p_min_pu = -1\n",
    "        # to allow bidirectional (i.e. also negative) flow\n",
    "        network.add(\n",
    "            \"Link\",\n",
    "            f\"{country} - {other_country} link\",\n",
    "            bus0=country,\n",
    "            bus1=other_country,\n",
    "            p_nom=transmission[country][other_country],\n",
    "            p_min_pu=-1,\n",
    "        )"
   ]
  },
  {
   "cell_type": "code",
   "execution_count": null,
   "metadata": {},
   "outputs": [],
   "source": [
    "network.optimize()"
   ]
  },
  {
   "cell_type": "code",
   "execution_count": null,
   "metadata": {},
   "outputs": [],
   "source": [
    "network.loads_t.p"
   ]
  },
  {
   "cell_type": "code",
   "execution_count": null,
   "metadata": {},
   "outputs": [],
   "source": [
    "network.generators_t.p"
   ]
  },
  {
   "cell_type": "code",
   "execution_count": null,
   "metadata": {},
   "outputs": [],
   "source": [
    "network.links_t.p0"
   ]
  },
  {
   "cell_type": "code",
   "execution_count": null,
   "metadata": {},
   "outputs": [],
   "source": [
    "# print the clearing price (corresponding to water in Mozambique and gas in SA)\n",
    "network.buses_t.marginal_price"
   ]
  },
  {
   "cell_type": "code",
   "execution_count": null,
   "metadata": {},
   "outputs": [],
   "source": [
    "# link shadow prices\n",
    "network.links_t.mu_lower"
   ]
  },
  {
   "cell_type": "markdown",
   "metadata": {},
   "source": [
    "## Three bidding zones connected by transmission, one period\n",
    "\n",
    "In this example we have bidirectional transmission capacity between three bidding zones. The power transfer is treated as controllable (like an A/NTC (Available/Net Transfer Capacity) or HVDC line). Note that in the physical grid, power flows passively according to the network impedances."
   ]
  },
  {
   "cell_type": "code",
   "execution_count": null,
   "metadata": {},
   "outputs": [],
   "source": [
    "network = pypsa.Network()\n",
    "\n",
    "countries = [\"Swaziland\", \"Mozambique\", \"South Africa\"]\n",
    "\n",
    "for country in countries:\n",
    "    network.add(\"Bus\", country)\n",
    "\n",
    "    for tech in power_plant_p_nom[country]:\n",
    "        network.add(\n",
    "            \"Generator\",\n",
    "            f\"{country} {tech}\",\n",
    "            bus=country,\n",
    "            p_nom=power_plant_p_nom[country][tech],\n",
    "            marginal_cost=marginal_costs[tech],\n",
    "        )\n",
    "\n",
    "    network.add(\"Load\", f\"{country} load\", bus=country, p_set=loads[country])\n",
    "\n",
    "    # add transmission as controllable Link\n",
    "    if country not in transmission:\n",
    "        continue\n",
    "\n",
    "    for other_country in countries:\n",
    "        if other_country not in transmission[country]:\n",
    "            continue\n",
    "\n",
    "        # NB: Link is by default unidirectional, so have to set p_min_pu = -1\n",
    "        # to allow bidirectional (i.e. also negative) flow\n",
    "        network.add(\n",
    "            \"Link\",\n",
    "            f\"{country} - {other_country} link\",\n",
    "            bus0=country,\n",
    "            bus1=other_country,\n",
    "            p_nom=transmission[country][other_country],\n",
    "            p_min_pu=-1,\n",
    "        )"
   ]
  },
  {
   "cell_type": "code",
   "execution_count": null,
   "metadata": {},
   "outputs": [],
   "source": [
    "network.optimize()"
   ]
  },
  {
   "cell_type": "code",
   "execution_count": null,
   "metadata": {},
   "outputs": [],
   "source": [
    "network.loads_t.p"
   ]
  },
  {
   "cell_type": "code",
   "execution_count": null,
   "metadata": {},
   "outputs": [],
   "source": [
    "network.generators_t.p"
   ]
  },
  {
   "cell_type": "code",
   "execution_count": null,
   "metadata": {},
   "outputs": [],
   "source": [
    "network.links_t.p0"
   ]
  },
  {
   "cell_type": "code",
   "execution_count": null,
   "metadata": {},
   "outputs": [],
   "source": [
    "# print the clearing price (corresponding to hydro in S and M, and gas in SA)\n",
    "network.buses_t.marginal_price"
   ]
  },
  {
   "cell_type": "code",
   "execution_count": null,
   "metadata": {},
   "outputs": [],
   "source": [
    "# link shadow prices\n",
    "network.links_t.mu_lower"
   ]
  },
  {
   "cell_type": "markdown",
   "metadata": {},
   "source": [
    "## Single bidding zone with price-sensitive industrial load, one period\n",
    "\n",
    "In this example we consider a single market bidding zone, South Africa.\n",
    "\n",
    "Now there is a large industrial load with a marginal utility which is low enough to interact with the generation marginal cost."
   ]
  },
  {
   "cell_type": "code",
   "execution_count": null,
   "metadata": {},
   "outputs": [],
   "source": [
    "country = \"South Africa\"\n",
    "\n",
    "network = pypsa.Network()\n",
    "\n",
    "network.add(\"Bus\", country)\n",
    "\n",
    "for tech in power_plant_p_nom[country]:\n",
    "    network.add(\n",
    "        \"Generator\",\n",
    "        f\"{country} {tech}\",\n",
    "        bus=country,\n",
    "        p_nom=power_plant_p_nom[country][tech],\n",
    "        marginal_cost=marginal_costs[tech],\n",
    "    )\n",
    "\n",
    "# standard high marginal utility consumers\n",
    "network.add(\"Load\", f\"{country} load\", bus=country, p_set=loads[country])\n",
    "\n",
    "# add an industrial load as a dummy negative-dispatch generator with marginal utility of 70 EUR/MWh for 8000 MW\n",
    "network.add(\n",
    "    \"Generator\",\n",
    "    f\"{country} industrial load\",\n",
    "    bus=country,\n",
    "    p_max_pu=0,\n",
    "    p_min_pu=-1,\n",
    "    p_nom=8000,\n",
    "    marginal_cost=70,\n",
    ")"
   ]
  },
  {
   "cell_type": "code",
   "execution_count": null,
   "metadata": {},
   "outputs": [],
   "source": [
    "network.optimize()"
   ]
  },
  {
   "cell_type": "code",
   "execution_count": null,
   "metadata": {},
   "outputs": [],
   "source": [
    "network.loads_t.p"
   ]
  },
  {
   "cell_type": "code",
   "execution_count": null,
   "metadata": {},
   "outputs": [],
   "source": [
    "# NB only half of industrial load is served, because this maxes out\n",
    "# Gas. Oil is too expensive with a marginal cost of 80 EUR/MWh\n",
    "network.generators_t.p"
   ]
  },
  {
   "cell_type": "code",
   "execution_count": null,
   "metadata": {},
   "outputs": [],
   "source": [
    "network.buses_t.marginal_price"
   ]
  },
  {
   "cell_type": "markdown",
   "metadata": {},
   "source": [
    "## Single bidding zone with fixed load, several periods\n",
    "\n",
    "In this example we consider a single market bidding zone, South Africa.\n",
    "\n",
    "We consider multiple time periods (labelled [0,1,2,3]) to represent variable wind generation."
   ]
  },
  {
   "cell_type": "code",
   "execution_count": null,
   "metadata": {},
   "outputs": [],
   "source": [
    "country = \"South Africa\"\n",
    "\n",
    "network = pypsa.Network()\n",
    "\n",
    "# snapshots labelled by [0,1,2,3]\n",
    "network.set_snapshots(range(4))\n",
    "\n",
    "network.add(\"Bus\", country)\n",
    "\n",
    "# p_max_pu is variable for wind\n",
    "for tech in power_plant_p_nom[country]:\n",
    "    network.add(\n",
    "        \"Generator\",\n",
    "        f\"{country} {tech}\",\n",
    "        bus=country,\n",
    "        p_nom=power_plant_p_nom[country][tech],\n",
    "        marginal_cost=marginal_costs[tech],\n",
    "        p_max_pu=([0.3, 0.6, 0.4, 0.5] if tech == \"Wind\" else 1),\n",
    "    )\n",
    "\n",
    "# load which varies over the snapshots\n",
    "network.add(\n",
    "    \"Load\",\n",
    "    f\"{country} load\",\n",
    "    bus=country,\n",
    "    p_set=loads[country] + np.array([0, 1000, 3000, 4000]),\n",
    ")"
   ]
  },
  {
   "cell_type": "code",
   "execution_count": null,
   "metadata": {},
   "outputs": [],
   "source": [
    "network.optimize()"
   ]
  },
  {
   "cell_type": "code",
   "execution_count": null,
   "metadata": {},
   "outputs": [],
   "source": [
    "network.loads_t.p"
   ]
  },
  {
   "cell_type": "code",
   "execution_count": null,
   "metadata": {},
   "outputs": [],
   "source": [
    "network.generators_t.p"
   ]
  },
  {
   "cell_type": "code",
   "execution_count": null,
   "metadata": {},
   "outputs": [],
   "source": [
    "network.buses_t.marginal_price"
   ]
  },
  {
   "cell_type": "markdown",
   "metadata": {},
   "source": [
    "## Single bidding zone with fixed load and storage, several periods\n",
    "\n",
    "In this example we consider a single market bidding zone, South Africa.\n",
    "\n",
    "We consider multiple time periods (labelled [0,1,2,3]) to represent variable wind generation. Storage is allowed to do price arbitrage to reduce oil consumption."
   ]
  },
  {
   "cell_type": "code",
   "execution_count": null,
   "metadata": {},
   "outputs": [],
   "source": [
    "country = \"South Africa\"\n",
    "\n",
    "network = pypsa.Network()\n",
    "\n",
    "# snapshots labelled by [0,1,2,3]\n",
    "network.set_snapshots(range(4))\n",
    "\n",
    "network.add(\"Bus\", country)\n",
    "\n",
    "# p_max_pu is variable for wind\n",
    "for tech in power_plant_p_nom[country]:\n",
    "    network.add(\n",
    "        \"Generator\",\n",
    "        f\"{country} {tech}\",\n",
    "        bus=country,\n",
    "        p_nom=power_plant_p_nom[country][tech],\n",
    "        marginal_cost=marginal_costs[tech],\n",
    "        p_max_pu=([0.3, 0.6, 0.4, 0.5] if tech == \"Wind\" else 1),\n",
    "    )\n",
    "\n",
    "# load which varies over the snapshots\n",
    "network.add(\n",
    "    \"Load\",\n",
    "    f\"{country} load\",\n",
    "    bus=country,\n",
    "    p_set=loads[country] + np.array([0, 1000, 3000, 4000]),\n",
    ")\n",
    "\n",
    "# storage unit to do price arbitrage\n",
    "network.add(\n",
    "    \"StorageUnit\",\n",
    "    f\"{country} pumped hydro\",\n",
    "    bus=country,\n",
    "    p_nom=1000,\n",
    "    max_hours=6,  # energy storage in terms of hours at full power\n",
    ")"
   ]
  },
  {
   "cell_type": "code",
   "execution_count": null,
   "metadata": {},
   "outputs": [],
   "source": [
    "network.optimize()"
   ]
  },
  {
   "cell_type": "code",
   "execution_count": null,
   "metadata": {},
   "outputs": [],
   "source": [
    "network.loads_t.p"
   ]
  },
  {
   "cell_type": "code",
   "execution_count": null,
   "metadata": {},
   "outputs": [],
   "source": [
    "network.generators_t.p"
   ]
  },
  {
   "cell_type": "code",
   "execution_count": null,
   "metadata": {},
   "outputs": [],
   "source": [
    "network.storage_units_t.p"
   ]
  },
  {
   "cell_type": "code",
   "execution_count": null,
   "metadata": {},
   "outputs": [],
   "source": [
    "network.storage_units_t.state_of_charge"
   ]
  },
  {
   "cell_type": "code",
   "execution_count": null,
   "metadata": {},
   "outputs": [],
   "source": [
    "network.buses_t.marginal_price"
   ]
  }
 ],
 "metadata": {
  "@webio": {
   "lastCommId": null,
   "lastKernelId": null
  },
  "kernelspec": {
   "display_name": "",
   "language": "python",
   "name": ""
  },
  "language_info": {
   "codemirror_mode": {
    "name": "ipython",
    "version": 3
   },
   "file_extension": ".py",
   "mimetype": "text/x-python",
   "name": "python",
   "nbconvert_exporter": "python",
   "pygments_lexer": "ipython3",
   "version": "3.10.5"
  }
 },
 "nbformat": 4,
 "nbformat_minor": 1
}
