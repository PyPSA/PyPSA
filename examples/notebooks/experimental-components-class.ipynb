{
 "cells": [
  {
   "attachments": {},
   "cell_type": "markdown",
   "metadata": {},
   "source": [
    "# Components class\n",
    "\n",
    "Version `0.33` of PyPSA introduces a structural refactoring of how component data is stored and accessed. The new structure adds an extra layer to move all component-specific data from the networks class to a new component class. With version `0.33`, most of these changes will be unnoticeable to the user. \n",
    "\n",
    "But this makes it easy to add new features. Below are some simple examples to show which other features could be added in the future. If you have any ideas, wishes, feedback or suggestions, please let us know via https://github.com/PyPSA/PyPSA/issues.\n",
    "\n",
    "Note that this is experimental. Features will be added and the newly introduced API may change. You can still use PyPSA as usual. Major API changes will not be introduced before version `1.0`. While the `Components` class does not introduce any breaking changes, **the `ComponentsStore` leads to slightly different behavior for `n.components`**. See the explanation below.\n",
    "\n",
    "Also, while all classes and methods have docstrings, there is no dedicated documentation yet."
   ]
  },
  {
   "cell_type": "markdown",
   "metadata": {},
   "source": [
    "## General"
   ]
  },
  {
   "cell_type": "code",
   "execution_count": null,
   "metadata": {},
   "outputs": [],
   "source": [
    "import pypsa\n",
    "\n",
    "n = pypsa.examples.scigrid_de()"
   ]
  },
  {
   "cell_type": "markdown",
   "metadata": {},
   "source": [
    "### Components class"
   ]
  },
  {
   "cell_type": "markdown",
   "metadata": {},
   "source": [
    "So far, components data was directly attached to the network object (e.g. `n.generators`, `n.generators_t` etc.). While you still can access the data there, both actually sit now in a new `Components` class:"
   ]
  },
  {
   "cell_type": "code",
   "execution_count": null,
   "metadata": {},
   "outputs": [],
   "source": [
    "c = n.components.generators  # also via alias n.c.generators\n",
    "c"
   ]
  },
  {
   "cell_type": "markdown",
   "metadata": {},
   "source": [
    "The datasets for static and dynamic data can be accessed via the class now, but also still via the old network properties:"
   ]
  },
  {
   "cell_type": "code",
   "execution_count": null,
   "metadata": {},
   "outputs": [],
   "source": [
    "c.static.head()"
   ]
  },
  {
   "cell_type": "code",
   "execution_count": null,
   "metadata": {},
   "outputs": [],
   "source": [
    "c.dynamic.keys()"
   ]
  },
  {
   "cell_type": "code",
   "execution_count": null,
   "metadata": {},
   "outputs": [],
   "source": [
    "# Both ways refer to the same DataFrame/ Dict Container of\n",
    "print(c.static is n.generators)\n",
    "print(c.dynamic is n.generators_t)"
   ]
  },
  {
   "cell_type": "markdown",
   "metadata": {},
   "source": [
    "### Components Store\n",
    "There have been some major changes to `n.components`, which is now the basic store for all components. Before version `0.33`, `n.components` was a dictionary containing only the default component data, and no static or dynamic data. Now it contains both (as described above), while still allowing access to the default data:"
   ]
  },
  {
   "cell_type": "code",
   "execution_count": null,
   "metadata": {},
   "outputs": [],
   "source": [
    "print(f\"List name: '{n.components['Generator'].list_name}'\")\n",
    "print(f\"Description: '{n.components['Generator'].description}'\")"
   ]
  },
  {
   "cell_type": "markdown",
   "metadata": {},
   "source": [
    "But the **iteration behaviour is different**. While a dictionary only returns the keys, the new `ComponentsStore' object returns the components themselves (similar to a list). This leads to a break when using it:"
   ]
  },
  {
   "cell_type": "code",
   "execution_count": null,
   "metadata": {},
   "outputs": [],
   "source": [
    "for comp in n.components:\n",
    "    break"
   ]
  },
  {
   "cell_type": "markdown",
   "metadata": {},
   "source": [
    "and `__contains__`/ x in n.components is not supported anymore:"
   ]
  },
  {
   "cell_type": "code",
   "execution_count": null,
   "metadata": {},
   "outputs": [],
   "source": [
    "\"x\" in n.components"
   ]
  },
  {
   "cell_type": "markdown",
   "metadata": {},
   "source": [
    "## Examples"
   ]
  },
  {
   "cell_type": "code",
   "execution_count": null,
   "metadata": {},
   "outputs": [],
   "source": [
    "c = n.components.generators"
   ]
  },
  {
   "cell_type": "markdown",
   "metadata": {},
   "source": [
    "### Simple alias properties"
   ]
  },
  {
   "cell_type": "code",
   "execution_count": null,
   "metadata": {},
   "outputs": [],
   "source": [
    "# Basic component information\n",
    "print(f\"Component name: '{c.name}'\")\n",
    "print(f\"Component list name: '{c.list_name}'\")\n",
    "print(f\"Component type: '{c.type}'\")\n",
    "\n",
    "# Other maybe useful properties\n",
    "print(f\"Nominal attribute: '{c.nominal_attr}'\")"
   ]
  },
  {
   "cell_type": "code",
   "execution_count": null,
   "metadata": {},
   "outputs": [],
   "source": [
    "# Quick access to attribute units\n",
    "c.units.head()"
   ]
  },
  {
   "cell_type": "code",
   "execution_count": null,
   "metadata": {},
   "outputs": [],
   "source": [
    "# Get ports of component (e.g. for multiport components)\n",
    "n.c.links.ports"
   ]
  },
  {
   "cell_type": "code",
   "execution_count": null,
   "metadata": {},
   "outputs": [],
   "source": [
    "# Check if component is attached to network\n",
    "if c.attached:\n",
    "    print(f\"{c} is attached to {c.n}\")"
   ]
  },
  {
   "cell_type": "markdown",
   "metadata": {},
   "source": [
    "### Rename components and propagate new names through network"
   ]
  },
  {
   "cell_type": "code",
   "execution_count": null,
   "metadata": {},
   "outputs": [],
   "source": [
    "# Old names\n",
    "print(f\"Old bus names: {', '.join(c.static.head(2).index)}\")"
   ]
  },
  {
   "cell_type": "code",
   "execution_count": null,
   "metadata": {},
   "outputs": [],
   "source": [
    "# Rename \"1 Gas\" component\n",
    "c = n.components.buses\n",
    "rename_map = {\"1\": \"Super Bus\"}\n",
    "c.rename_component_names(**rename_map)"
   ]
  },
  {
   "cell_type": "code",
   "execution_count": null,
   "metadata": {},
   "outputs": [],
   "source": [
    "# New names\n",
    "print(f\"New bus names: {', '.join(c.static.head(2).index)}\")"
   ]
  },
  {
   "cell_type": "code",
   "execution_count": null,
   "metadata": {},
   "outputs": [],
   "source": [
    "# Changes in other components of network\n",
    "n.c.generators.static.head(2)"
   ]
  },
  {
   "cell_type": "markdown",
   "metadata": {},
   "source": [
    "### Calculate line length from attached buses"
   ]
  },
  {
   "cell_type": "code",
   "execution_count": null,
   "metadata": {},
   "outputs": [],
   "source": [
    "c = n.c.lines\n",
    "c.calculate_line_length()"
   ]
  },
  {
   "cell_type": "markdown",
   "metadata": {},
   "source": [
    "Those are just a couple of simple examples. Many other features could be added. If you have any ideas, wishes, feedback or suggestions, please let us know via the https://github.com/PyPSA/PyPSA/issues."
   ]
  },
  {
   "cell_type": "markdown",
   "metadata": {},
   "source": []
  }
 ],
 "metadata": {
  "@webio": {
   "lastCommId": null,
   "lastKernelId": null
  },
  "kernelspec": {
   "display_name": "",
   "language": "python",
   "name": ""
  },
  "language_info": {
   "codemirror_mode": {
    "name": "ipython",
    "version": 3
   },
   "file_extension": ".py",
   "mimetype": "text/x-python",
   "name": "python",
   "nbconvert_exporter": "python",
   "pygments_lexer": "ipython3",
   "version": "3.13.1"
  }
 },
 "nbformat": 4,
 "nbformat_minor": 2
}
