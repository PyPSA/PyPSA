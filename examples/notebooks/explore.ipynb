{
 "cells": [
  {
   "cell_type": "markdown",
   "id": "8ff5544d",
   "metadata": {},
   "source": [
    "# Interactive exploration of networks"
   ]
  },
  {
   "cell_type": "markdown",
   "id": "a103fda6",
   "metadata": {},
   "source": [
    "This notebook demonstrates the interactive exploration capabilities of PyPSA networks."
   ]
  },
  {
   "cell_type": "markdown",
   "id": "30dff83f",
   "metadata": {},
   "source": []
  }
 ],
 "metadata": {
  "language_info": {
   "name": "python"
  }
 },
 "nbformat": 4,
 "nbformat_minor": 5
}
