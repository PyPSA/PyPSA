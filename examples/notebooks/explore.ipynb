{
 "cells": [
  {
   "cell_type": "markdown",
   "id": "8ff5544d",
   "metadata": {},
   "source": [
    "# Interactive exploration of networks"
   ]
  },
  {
   "cell_type": "markdown",
   "id": "a103fda6",
   "metadata": {},
   "source": [
    "This notebook demonstrates the interactive exploration capabilities of PyPSA networks."
   ]
  },
  {
   "cell_type": "code",
   "execution_count": null,
   "id": "30dff83f",
   "metadata": {},
   "outputs": [],
   "source": [
    "import pypsa"
   ]
  },
  {
   "cell_type": "code",
   "execution_count": null,
   "id": "edd31b3a",
   "metadata": {},
   "outputs": [],
   "source": [
    "# Load the SciGRID-DE example network\n",
    "n = pypsa.examples.scigrid_de()"
   ]
  },
  {
   "cell_type": "markdown",
   "id": "2816c286",
   "metadata": {},
   "source": [
    "Lets optimize the SciGRID-DE example network to obtain flows and dispatches."
   ]
  },
  {
   "cell_type": "code",
   "execution_count": null,
   "id": "8683fa78",
   "metadata": {},
   "outputs": [],
   "source": [
    "n.optimize()"
   ]
  },
  {
   "cell_type": "markdown",
   "id": "1a805f02",
   "metadata": {},
   "source": [
    "Using `n.statistics()` we can extract key results. Note that links do not exist in this network. By dividing through the number of snapshots, we get mean values."
   ]
  },
  {
   "cell_type": "code",
   "execution_count": null,
   "id": "220e85db",
   "metadata": {},
   "outputs": [],
   "source": [
    "bus_sizes = n.statistics.supply(\n",
    "    groupby=[\"bus\"],\n",
    "    comps=[\"Generator\", \"StorageUnit\"],\n",
    "    aggregate_across_components=True,\n",
    ").div(len(n.snapshots))\n",
    "line_widths = n.lines_t.p0.sum(axis=0).div(len(n.snapshots))\n",
    "transformer_widths = n.transformers_t.p0.sum(axis=0).div(len(n.snapshots))"
   ]
  },
  {
   "cell_type": "markdown",
   "id": "6c90f128",
   "metadata": {},
   "source": [
    "We use scaling factors to adjust to our needs."
   ]
  },
  {
   "cell_type": "code",
   "execution_count": null,
   "id": "d99cf7a9",
   "metadata": {},
   "outputs": [],
   "source": [
    "bus_sizes_factor = 10\n",
    "line_factor = 5\n",
    "arrow_size_factor = 2"
   ]
  },
  {
   "cell_type": "markdown",
   "id": "4d7394bd",
   "metadata": {},
   "source": [
    "# Interactive plot"
   ]
  },
  {
   "cell_type": "code",
   "execution_count": null,
   "id": "c611a6a8",
   "metadata": {},
   "outputs": [],
   "source": [
    "map = n.explore(\n",
    "    bus_sizes=bus_sizes * bus_sizes_factor,\n",
    "    bus_colors=\"deeppink\",\n",
    "    line_flow=line_widths * line_factor,\n",
    "    line_colors=\"orange\",\n",
    "    line_widths=line_widths * line_factor,\n",
    "    line_columns=[\"s_nom_opt\", \"voltage\"],\n",
    "    transformer_widths=transformer_widths * line_factor,\n",
    "    arrow_colors=\"orange\",\n",
    "    arrow_size_factor=arrow_size_factor,\n",
    "    map_style=\"dark\",\n",
    ")"
   ]
  },
  {
   "cell_type": "code",
   "execution_count": null,
   "id": "330ccae5",
   "metadata": {},
   "outputs": [],
   "source": [
    "map"
   ]
  },
  {
   "cell_type": "markdown",
   "id": "12525b9b",
   "metadata": {},
   "source": [
    "# Multi-index bus sizes, pie charts"
   ]
  },
  {
   "cell_type": "markdown",
   "id": "f79a2624",
   "metadata": {},
   "source": [
    "To explore multi-index bus sizes, e.g. supply colored by carriers mapped to individual buses, we need to obtain the results via `n.statistics()`"
   ]
  },
  {
   "cell_type": "code",
   "execution_count": null,
   "id": "5ea6c684",
   "metadata": {},
   "outputs": [],
   "source": [
    "supply = n.statistics.supply(\n",
    "    groupby=[\"bus\", \"carrier\"], aggregate_across_components=True, comps=[\"Generator\"]\n",
    ")"
   ]
  },
  {
   "cell_type": "markdown",
   "id": "aae095fe",
   "metadata": {},
   "source": [
    "We also need to set colors for all carriers."
   ]
  },
  {
   "cell_type": "code",
   "execution_count": null,
   "id": "d4347ffb",
   "metadata": {},
   "outputs": [],
   "source": [
    "n.carriers.loc[\"Solar\", \"color\"] = \"yellow\"\n",
    "n.carriers.loc[\"Wind Onshore\", \"color\"] = \"blue\"\n",
    "n.carriers.loc[\"Run of River\", \"color\"] = \"darkblue\"\n",
    "n.carriers.loc[\"Waste\", \"color\"] = \"brown\"\n",
    "n.carriers.loc[\"Brown Coal\", \"color\"] = \"brown\"\n",
    "n.carriers.loc[\"Storage Hydro\", \"color\"] = \"cyan\"\n",
    "n.carriers.loc[\"Other\", \"color\"] = \"grey\"\n",
    "n.carriers.loc[\"Hard Coal\", \"color\"] = \"black\"\n",
    "n.carriers.loc[\"Nuclear\", \"color\"] = \"darkred\"\n",
    "n.carriers.loc[\"Wind Offshore\", \"color\"] = \"green\"\n",
    "n.carriers.loc[\"Gas\", \"color\"] = \"orange\"\n",
    "n.carriers.loc[\"Geothermal\", \"color\"] = \"purple\""
   ]
  },
  {
   "cell_type": "markdown",
   "id": "cf831f14",
   "metadata": {},
   "source": [
    "Let's pass the supply results to the function method used previously."
   ]
  },
  {
   "cell_type": "code",
   "execution_count": null,
   "id": "0d3e28b4",
   "metadata": {},
   "outputs": [],
   "source": [
    "map = n.explore(\n",
    "    bus_sizes=supply,\n",
    "    bus_colors=\"deeppink\",\n",
    "    line_flow=line_widths * line_factor,\n",
    "    line_colors=\"orange\",\n",
    "    line_widths=line_widths * line_factor,\n",
    "    line_columns=[\"s_nom_opt\", \"voltage\"],\n",
    "    transformer_widths=transformer_widths * line_factor,\n",
    "    arrow_colors=\"orange\",\n",
    "    arrow_size_factor=arrow_size_factor,\n",
    "    map_style=\"dark\",\n",
    ")"
   ]
  },
  {
   "cell_type": "markdown",
   "id": "4f8dd015",
   "metadata": {},
   "source": [
    "To export to a self-contained html, run:"
   ]
  },
  {
   "cell_type": "code",
   "execution_count": null,
   "id": "a2e9b271",
   "metadata": {},
   "outputs": [],
   "source": [
    "map.to_html(\"interactive_map.html\", offline=True)"
   ]
  },
  {
   "cell_type": "code",
   "execution_count": null,
   "id": "53a71d93",
   "metadata": {},
   "outputs": [],
   "source": []
  }
 ],
 "metadata": {
  "kernelspec": {
   "display_name": "",
   "language": "python",
   "name": ""
  },
  "language_info": {
   "codemirror_mode": {
    "name": "ipython",
    "version": 3
   },
   "file_extension": ".py",
   "mimetype": "text/x-python",
   "name": "python",
   "nbconvert_exporter": "python",
   "pygments_lexer": "ipython3",
   "version": "3.13.5"
  }
 },
 "nbformat": 4,
 "nbformat_minor": 5
}
