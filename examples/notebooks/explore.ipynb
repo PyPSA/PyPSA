{
 "cells": [
  {
   "cell_type": "markdown",
   "id": "8ff5544d",
   "metadata": {},
   "source": [
    "# Interactive exploration of networks"
   ]
  },
  {
   "cell_type": "markdown",
   "id": "a103fda6",
   "metadata": {},
   "source": [
    "This notebook demonstrates the interactive exploration capabilities of PyPSA networks."
   ]
  },
  {
   "cell_type": "code",
   "execution_count": null,
   "id": "30dff83f",
   "metadata": {},
   "outputs": [],
   "source": [
    "import pypsa"
   ]
  },
  {
   "cell_type": "code",
   "execution_count": null,
   "id": "ce836ae7",
   "metadata": {},
   "outputs": [],
   "source": [
    "n = pypsa.Network(\"../networks/scigrid-de/scigrid-de.nc\")"
   ]
  },
  {
   "cell_type": "code",
   "execution_count": null,
   "id": "220e85db",
   "metadata": {},
   "outputs": [],
   "source": [
    "import numpy as np\n",
    "import pandas as pd\n",
    "\n",
    "rng = np.random.default_rng()\n",
    "bus_sizes = pd.Series(rng.integers(200, 30000, size=len(n.buses)), index=n.buses.index)\n",
    "dict_bus_sizes = dict(zip(bus_sizes.index, bus_sizes))"
   ]
  },
  {
   "cell_type": "code",
   "execution_count": null,
   "id": "e2ba197e",
   "metadata": {},
   "outputs": [],
   "source": [
    "# n.explore(bus_sizes=bus_sizes)\n",
    "n.explore(bus_sizes=dict_bus_sizes)"
   ]
  },
  {
   "cell_type": "code",
   "execution_count": null,
   "id": "bc69ff35",
   "metadata": {},
   "outputs": [],
   "source": [
    "# Alternatively\n",
    "from pypsa.plot.maps.interactive import PydeckPlotter\n",
    "\n",
    "plotter = PydeckPlotter(n)\n",
    "print(plotter)\n",
    "print(plotter._layers)\n",
    "print(\"Adding bus layer with sizes...\")\n",
    "plotter.add_bus_layer(bus_sizes=bus_sizes)\n",
    "print(plotter._layers.keys())\n",
    "print(\"Showing the plot...\")\n",
    "plotter.show()"
   ]
  },
  {
   "cell_type": "code",
   "execution_count": null,
   "id": "34feb33c",
   "metadata": {},
   "outputs": [],
   "source": [
    "n.optimi"
   ]
  },
  {
   "cell_type": "code",
   "execution_count": null,
   "id": "89d8b49d",
   "metadata": {},
   "outputs": [],
   "source": []
  }
 ],
 "metadata": {
  "kernelspec": {
   "display_name": "",
   "language": "python",
   "name": ""
  },
  "language_info": {
   "codemirror_mode": {
    "name": "ipython",
    "version": 3
   },
   "file_extension": ".py",
   "mimetype": "text/x-python",
   "name": "python",
   "nbconvert_exporter": "python",
   "pygments_lexer": "ipython3",
   "version": "3.13.5"
  }
 },
 "nbformat": 4,
 "nbformat_minor": 5
}
