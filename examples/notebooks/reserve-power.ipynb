{
 "cells": [
  {
   "cell_type": "markdown",
   "metadata": {},
   "source": [
    "# Implementing spinning reserve constraints\n",
    "\n",
    "## Objective\n",
    "\n",
    "When using a linear programming approach in an energy system, the optimization usually results in all generators either running at full capacity or not running at all, depending on their position in the merit order.\n",
    "In the real world, generators often run at partial load.\n",
    "Unfortunately, most of the reasons why generators run at partial load are difficult to account for in modeling.\n",
    "One reason for generators to run at partial load is to be able to act as spinning reserves, i.e. to be able to ramp up or down quickly when needed to maintain system stability.\n",
    "\n",
    "In this example we will implement spinning reserve constraints in PyPSA in a very simplified way.\n",
    "The objective is to force some generators to provide reserve power by running below their rated capacity, but still maintain a linear programming problem formulation. \n",
    "\n",
    "To do this, we need to implement additional variables and additional constraints in the model.\n",
    "\n",
    "## Methodology\n",
    "We follow the approach presented by Andreas Hösl et al here: https://www.youtube.com/watch?v=fmwDxNpSMM4&t=8043s\n",
    "\n",
    "The basic idea is that each generator must provide reserve power **symmetrically**. This means that it must be able to increase and decrease its output by the same amount in order to contribute to meeting reserve requirements. This ensures that generators must operate at partial load to provide reserve power. \n",
    "\n",
    "The following changes need to be made to the linopy model in a PyPSA network:\n",
    "\n",
    "- a new variable $p_{\\text{reserve}}(g,t)$ representing the reserve power provided by generator $g$ at time step $t$. \n",
    "\n",
    "- a constraint that ensures that for each time step $t$, the sum of all reserve power provided is greater than or equal to the required reserves.\n",
    "$$\n",
    "\\forall t: \\sum_{g} p_{\\text{reserve}}(g,t) \\geq \\text{reserve requirement}\n",
    "$$\n",
    "\n",
    "- A constraint to ensure that the reserve power of a generator is less than or equal to the difference between its power $p$ and its nominal power $p_\\text{nom}$, multiplied by a scalar coefficient $a$. This coefficient can take any value between 0 and 1 and represents the technical availability of a generator to provide reserve power. \n",
    "$$\n",
    "\\forall g, t: p_\\text{reserve}(g, t) \\leq a(g) p_\\text{nom}(g) - p(g,t)\n",
    "$$\n",
    "\n",
    "- a constraint to ensure that the reserve power of a generator is less than or equal to its actual power $p$ multiplied by a scalar coefficient $b$. This coefficient can take any value between 0 and 1 and represents the technical availability of a generator to provide reserve power. \n",
    "\n",
    "$$\n",
    "\\forall g, t: p_\\text{reserve}(g, t) \\leq b(g) p(g,t)\n",
    "$$\n",
    "\n",
    "The relationships between the variables $a$, $b$, $p_\\text{nom}$, $p$ and $p_\\text{reserve}$ are shown in the following schematic diagram.\n",
    "\n",
    "![reserve-power-graph](../../doc/img/reserve-power-graph.png)"
   ]
  },
  {
   "cell_type": "markdown",
   "metadata": {},
   "source": [
    "## Limitations and other approaches\n",
    "\n",
    "Note that this is an oversimplified approach that has significant limitations:\n",
    "- It does not distinguish between different categories of reserves, such as primary or secondary reserves. \n",
    "- Reserves are provided symmetrically; there is no distinction between positive and negative reserves.\n",
    "- The approach only considers the provision of reserve power, not the actual delivery.\n",
    "  The additional constraints simply force some generators to run at partial load so that they **could** ramp up or down when reserves are required.  \n",
    "\n",
    "All of these issues can be addressed in a MIP unit commitment model, albeit at a much higher numerical cost. \n",
    "\n",
    "\n",
    "## Implementation"
   ]
  },
  {
   "cell_type": "code",
   "execution_count": null,
   "metadata": {},
   "outputs": [],
   "source": [
    "import matplotlib.pyplot as plt\n",
    "import numpy as np\n",
    "import pandas as pd\n",
    "\n",
    "import pypsa"
   ]
  },
  {
   "cell_type": "markdown",
   "metadata": {},
   "source": [
    "### Basic model\n",
    "\n",
    "Our toy model consists of a single bus with generators that have different marginal costs. We use a sine function for the load profile."
   ]
  },
  {
   "cell_type": "code",
   "execution_count": null,
   "metadata": {},
   "outputs": [],
   "source": [
    "n_basic = pypsa.Network()\n",
    "n_basic.add(\"Carrier\", name=\"carrier1\")\n",
    "n_basic.add(\"Bus\", name=\"bus1\", carrier=\"carrier1\")\n",
    "\n",
    "# add generators with increasing marginal cost\n",
    "n_basic.add(\"Generator\", name=\"gen1\", bus=\"bus1\", p_nom=10, marginal_cost=1)\n",
    "n_basic.add(\"Generator\", name=\"gen2\", bus=\"bus1\", p_nom=10, marginal_cost=2)\n",
    "n_basic.add(\"Generator\", name=\"gen3\", bus=\"bus1\", p_nom=10, marginal_cost=3)\n",
    "n_basic.add(\"Generator\", name=\"gen4\", bus=\"bus1\", p_nom=10, marginal_cost=4)\n",
    "\n",
    "# create 48 snapshots\n",
    "snapshots = np.arange(1, 49)\n",
    "n_basic.set_snapshots(snapshots)\n",
    "\n",
    "# create load\n",
    "load_max = 30\n",
    "load_profile = np.sin(snapshots / 12 * np.pi) + 3.5\n",
    "load_profile = load_profile / load_profile.max() * load_max\n",
    "n_basic.add(\"Load\", name=\"load1\", bus=\"bus1\", p_set=load_profile)"
   ]
  },
  {
   "cell_type": "markdown",
   "metadata": {},
   "source": [
    "We make a copy of the basic model, which we later modify to add reserve power constraints."
   ]
  },
  {
   "cell_type": "code",
   "execution_count": null,
   "metadata": {},
   "outputs": [],
   "source": [
    "n_reserve = n_basic.copy()"
   ]
  },
  {
   "cell_type": "markdown",
   "metadata": {},
   "source": [
    "As a reference point, we solve the model without any additional constraints.\n"
   ]
  },
  {
   "cell_type": "code",
   "execution_count": null,
   "metadata": {},
   "outputs": [],
   "source": [
    "n_basic.optimize()"
   ]
  },
  {
   "cell_type": "markdown",
   "metadata": {},
   "source": [
    "We plot the dispatch over time. As expected, the generators are dispatched strictly according to their marginal cost, each one running at nominal capacity until demand is met. "
   ]
  },
  {
   "cell_type": "code",
   "execution_count": null,
   "metadata": {},
   "outputs": [],
   "source": [
    "n_basic.generators_t[\"p\"].plot.area(lw=0).legend(\n",
    "    loc=\"upper left\", bbox_to_anchor=(1.0, 1.0)\n",
    ")\n",
    "plt.show()"
   ]
  },
  {
   "cell_type": "markdown",
   "metadata": {},
   "source": [
    "### Modified model with custum variable and constraints\n",
    "\n",
    "Now let's modify the model by adding some additional constraints.\n",
    "We create a new network and create a model instance attached to it.\n",
    "Now we can inspect the model instance to get a list of variables and constraints: "
   ]
  },
  {
   "cell_type": "code",
   "execution_count": null,
   "metadata": {},
   "outputs": [],
   "source": [
    "n_reserve.optimize.create_model()\n",
    "n_reserve.model"
   ]
  },
  {
   "cell_type": "markdown",
   "metadata": {},
   "source": [
    "We now add a new variable ``p_reserve`` which represents the reserve power.\n",
    "It has a lower bound of zero, is defined for all dispatchable generators and has a time index."
   ]
  },
  {
   "cell_type": "code",
   "execution_count": null,
   "metadata": {},
   "outputs": [],
   "source": [
    "v_rp = n_reserve.model.add_variables(\n",
    "    lower=0,\n",
    "    coords=[n_reserve.snapshots, n_reserve.generators.index],\n",
    "    name=\"Generator-p_reserve\",\n",
    ")\n",
    "v_rp"
   ]
  },
  {
   "cell_type": "markdown",
   "metadata": {},
   "source": [
    "Next, we define a new constraint which ensures that for each snapshot the total reserve requirement is satisfied by the sum of the reserve power provided by all generators.\n"
   ]
  },
  {
   "cell_type": "code",
   "execution_count": null,
   "metadata": {},
   "outputs": [],
   "source": [
    "reserve_req = 10\n",
    "\n",
    "c_sum = n_reserve.model.add_constraints(\n",
    "    v_rp.sum(\"Generator\") >= reserve_req, name=\"GlobalConstraint-sum_of_reserves\"\n",
    ")\n",
    "c_sum"
   ]
  },
  {
   "cell_type": "markdown",
   "metadata": {},
   "source": [
    "Now we need to limit the amount of reserve power that each generator can provide. The following constraint ensures that the reserve power provided by a generator must be less than or equal to the difference between its power ``p``  and its nominal power ``p_nom``:"
   ]
  },
  {
   "cell_type": "code",
   "execution_count": null,
   "metadata": {},
   "outputs": [],
   "source": [
    "a = 1\n",
    "\n",
    "c_rpos = n_reserve.model.add_constraints(\n",
    "    v_rp\n",
    "    <= -n_reserve.model.variables[\"Generator-p\"] + a * n_reserve.generators[\"p_nom\"],\n",
    "    name=\"Generator-reserve_upper_limit\",\n",
    ")\n",
    "c_rpos"
   ]
  },
  {
   "cell_type": "markdown",
   "metadata": {},
   "source": [
    "Finally, we add a constraint to ensure that the reserve power provided by a generator must be less than or equal to its actual power ``p`` multiplied by a scalar coefficient ``b``.\n",
    "This coefficient can take any value between 0 and 1 and represents the technical availability of a generator to provide reserve power."
   ]
  },
  {
   "cell_type": "code",
   "execution_count": null,
   "metadata": {},
   "outputs": [],
   "source": [
    "b = 0.7\n",
    "\n",
    "c_rneg = n_reserve.model.add_constraints(\n",
    "    v_rp <= b * n_reserve.model.variables[\"Generator-p\"],\n",
    "    name=\"Generator-reserve_lower_limit\",\n",
    ")\n",
    "c_rneg"
   ]
  },
  {
   "cell_type": "markdown",
   "metadata": {},
   "source": [
    "We can now inspect the model formulation. We can see that our new variables and constraints have been successfully added:"
   ]
  },
  {
   "cell_type": "code",
   "execution_count": null,
   "metadata": {},
   "outputs": [],
   "source": [
    "n_reserve.model"
   ]
  },
  {
   "cell_type": "markdown",
   "metadata": {},
   "source": [
    "We can now solve the modified model:"
   ]
  },
  {
   "cell_type": "code",
   "execution_count": null,
   "metadata": {},
   "outputs": [],
   "source": [
    "n_reserve.optimize.solve_model()"
   ]
  },
  {
   "cell_type": "markdown",
   "metadata": {},
   "source": [
    "### Examine the results\n",
    "\n",
    "We create a plot to examine the results of the modified model.\n",
    "On the left subplot we plot the active power generation `p` over time for each generator.\n",
    "On the right subplot we plot the reserve power `p_reserve` over time for each generator.\n",
    "The following observations can be made:\n",
    "\n",
    "- The reserve requirement of 20 MW is met in every time step.\n",
    "- In order to provide reserves, some generators must always run below their nominal power.\n",
    "- Among all running generators, those with the highest marginal costs provide as much reserve capacity as possible. \n",
    " "
   ]
  },
  {
   "cell_type": "code",
   "execution_count": null,
   "metadata": {},
   "outputs": [],
   "source": [
    "fig, axs = plt.subplots(1, 2, sharey=True, figsize=(10, 5))\n",
    "n_reserve.generators_t[\"p\"].plot.area(\n",
    "    ax=axs[0], title=\"p\", legend=False, ylabel=\"p [MW]\"\n",
    ")\n",
    "n_reserve.generators_t[\"p_reserve\"].plot.area(ax=axs[1], title=\"p_reserve\")\n",
    "plt.tight_layout()\n",
    "plt.show()"
   ]
  },
  {
   "cell_type": "markdown",
   "metadata": {},
   "source": [
    "Looking at the average reserve power provided by a generator, we can see that the cheapest and most expensive generators provide less reserve power on average than the other two generators."
   ]
  },
  {
   "cell_type": "code",
   "execution_count": null,
   "metadata": {},
   "outputs": [],
   "source": [
    "n_reserve.generators_t[\"p_reserve\"].mean().plot(\n",
    "    kind=\"bar\", ylabel=\"mean(p_reserve) [MW]\"\n",
    ")\n",
    "plt.show()"
   ]
  },
  {
   "cell_type": "markdown",
   "metadata": {},
   "source": [
    "### Comparison of the two model versions\n",
    "\n",
    "To visually compare the base model with the modified model, we plot the active power generation `p` over time for both models. On the left we plot the base model, on the right we plot the model with additional constraints."
   ]
  },
  {
   "cell_type": "code",
   "execution_count": null,
   "metadata": {},
   "outputs": [],
   "source": [
    "fig, axs = plt.subplots(1, 2, sharex=True, sharey=True, figsize=(10, 4))\n",
    "for i, (n, r) in enumerate([(n_basic, 0), (n_reserve, reserve_req)]):\n",
    "    n.generators_t[\"p\"].plot.area(\n",
    "        ax=axs[i], ylabel=\"p [MW]\", title=f\"{r} MW reserve required\", legend=False, lw=0\n",
    "    )\n",
    "\n",
    "plt.tight_layout()\n",
    "plt.show()"
   ]
  },
  {
   "cell_type": "markdown",
   "metadata": {},
   "source": [
    "We can also compare average power and reserve power over time.\n",
    "The graph shows that adding reserve constraints reduces the average generation of the cheaper generators and increases the average generation of the more expensive generators."
   ]
  },
  {
   "cell_type": "code",
   "execution_count": null,
   "metadata": {},
   "outputs": [],
   "source": [
    "data = pd.concat(\n",
    "    [n.generators_t.get(\"p\").mean() for n in [n_basic, n_reserve]],\n",
    "    axis=1,\n",
    "    keys=[\"0 MW\", f\"{reserve_req} MW\"],\n",
    ")\n",
    "data.plot(kind=\"bar\", ylabel=\"mean(p) [MW]\")\n",
    "plt.show()"
   ]
  },
  {
   "cell_type": "markdown",
   "metadata": {},
   "source": [
    "And that's it. Feel free to change the values of ``reserve_req``, ``a`` and ``b`` and see how this affects the results.\n",
    "However, be aware that reserve requirements that are too high can make the model infeasible.\n",
    "\n",
    "You can also try out an interactive dashboard to play around with a small example model where you can try out different reserve settings at https://pypsa-reserves-dashboard.streamlit.app/ "
   ]
  }
 ],
 "metadata": {
  "kernelspec": {
   "display_name": "",
   "language": "python",
   "name": ""
  },
  "language_info": {
   "codemirror_mode": {
    "name": "ipython",
    "version": 3
   },
   "file_extension": ".py",
   "mimetype": "text/x-python",
   "name": "python",
   "nbconvert_exporter": "python",
   "pygments_lexer": "ipython3",
   "version": "3.10.0"
  },
  "orig_nbformat": 4
 },
 "nbformat": 4,
 "nbformat_minor": 2
}
