{
 "cells": [
  {
   "cell_type": "markdown",
   "metadata": {},
   "source": [
    "# Using the statistics module in PyPSA\n",
    "\n",
    "The `statistics` module is used to easily extract information from your networks. This is useful when inspecting your solved networks and creating first visualizations of your results.\n",
    "\n",
    "With the `statistics` module, you can look at different metrics of your network. A list of the implemented metrics are:\n",
    "    \n",
    "- Capital expenditure\n",
    "- Operational expenditure\n",
    "- Installed capacities\n",
    "- Optimal capacities\n",
    "- Supply\n",
    "- Withdrawal\n",
    "- Curtailment\n",
    "- Capacity Factor\n",
    "- Revenue\n",
    "- Market value\n",
    "- Energy balance\n",
    "\n",
    "Now lets look at an example."
   ]
  },
  {
   "cell_type": "code",
   "execution_count": null,
   "metadata": {},
   "outputs": [],
   "source": [
    "import matplotlib.pyplot as plt\n",
    "import numpy as np\n",
    "\n",
    "import pypsa"
   ]
  },
  {
   "cell_type": "markdown",
   "metadata": {},
   "source": [
    "First, we open an example network we want to investigate."
   ]
  },
  {
   "cell_type": "code",
   "execution_count": null,
   "metadata": {},
   "outputs": [],
   "source": [
    "n = pypsa.examples.scigrid_de()"
   ]
  },
  {
   "cell_type": "markdown",
   "metadata": {},
   "source": [
    "Lets run an overview of all statistics by calling:"
   ]
  },
  {
   "cell_type": "code",
   "execution_count": null,
   "metadata": {},
   "outputs": [],
   "source": [
    "n.statistics().dropna()"
   ]
  },
  {
   "cell_type": "markdown",
   "metadata": {},
   "source": [
    "So far the `statistics` are not so interesting, because we have not solved the network yet. We can only see that the network already has some installed capacities for different components.\n",
    "\n",
    "You can see that `statistics` returns a `pandas.DataFrame`. The MultiIndex of the `DataFrame` provides the name of the network component (i.e. first entry of the MultiIndex, like *Generator, Line,...*) on the first index level. The `carrier` index level provides the carrier name of the given component. For example, in `n.generators`, we have the carriers *Brown Coal, Gas* and so on.\n",
    "\n",
    "Now lets solve the network."
   ]
  },
  {
   "cell_type": "code",
   "execution_count": null,
   "metadata": {},
   "outputs": [],
   "source": [
    "n.optimize(n.snapshots[:4])"
   ]
  },
  {
   "cell_type": "markdown",
   "metadata": {},
   "source": [
    "Now we can look at the `statistics` of the solved network."
   ]
  },
  {
   "cell_type": "code",
   "execution_count": null,
   "metadata": {},
   "outputs": [],
   "source": [
    "n.statistics().round(1)"
   ]
  },
  {
   "cell_type": "markdown",
   "metadata": {},
   "source": [
    "As you can see there is now much more information available. There are still no capital expenditures in the network, because we only performed an operational optimization with this example network.\n",
    "\n",
    "If you are interested in a specific metric, e.g. curtailment, you can run"
   ]
  },
  {
   "cell_type": "code",
   "execution_count": null,
   "metadata": {},
   "outputs": [],
   "source": [
    "curtailment = n.statistics.curtailment()\n",
    "curtailment[curtailment != 0]"
   ]
  },
  {
   "cell_type": "markdown",
   "metadata": {},
   "source": [
    "Note that when calling a specific metric the `statistics` module returns a `pandas.Series`.\n",
    "To find the unit of the data returned by `statistics`, you can call `attrs` on the `DataFrame` or `Series`."
   ]
  },
  {
   "cell_type": "code",
   "execution_count": null,
   "metadata": {},
   "outputs": [],
   "source": [
    "curtailment.attrs"
   ]
  },
  {
   "cell_type": "markdown",
   "metadata": {},
   "source": [
    "So the unit of curtailment is given in `MWh`. You can also customize your request.\n",
    "\n",
    "For this you have various options:\n",
    "1. You can select the component from which you want to get the metric with the attribute `comps`. Careful, `comps` has to be a list of strings."
   ]
  },
  {
   "cell_type": "code",
   "execution_count": null,
   "metadata": {},
   "outputs": [],
   "source": [
    "n.statistics.supply(comps=[\"Generator\"])"
   ]
  },
  {
   "cell_type": "markdown",
   "metadata": {},
   "source": [
    "2. For metrics which have a time dimension, you can choose the aggregation method or decide to not aggregate them at all. Just use the `aggregate_time` attribute to specify what you want to do.\n",
    "\n",
    "For example calculate the mean supply/generation per time step is"
   ]
  },
  {
   "cell_type": "code",
   "execution_count": null,
   "metadata": {},
   "outputs": [],
   "source": [
    "n.statistics.supply(comps=[\"Generator\"], aggregate_time=\"mean\")"
   ]
  },
  {
   "cell_type": "markdown",
   "metadata": {},
   "source": [
    "Or retrieve the supply time series by not aggregating the time series. "
   ]
  },
  {
   "cell_type": "code",
   "execution_count": null,
   "metadata": {},
   "outputs": [],
   "source": [
    "n.statistics.supply(comps=[\"Generator\"], aggregate_time=False).iloc[:, :4]"
   ]
  },
  {
   "cell_type": "markdown",
   "metadata": {},
   "source": [
    "3. You can choose how you want to group the components of the network and how to aggregate the groups. By default the components are grouped by their carriers and summed. However, you can change this by providing different `groupby` and `aggregate_groups` attributes."
   ]
  },
  {
   "cell_type": "code",
   "execution_count": null,
   "metadata": {},
   "outputs": [],
   "source": [
    "n.statistics.supply(comps=[\"Generator\"], groupby=[\"bus\"], aggregate_groups=\"max\")"
   ]
  },
  {
   "cell_type": "markdown",
   "metadata": {},
   "source": [
    "Now you obtained the maximal supply in one time step for every bus in the network.\n",
    "\n",
    "The keys in the provided in the `groupby` argument is primarily referring to grouper functions registered in the `n.statistics.grouper` class. You can also provide a custom function to group the components. Let's say you want to group the components by the carrier and the price zone. The carrier grouping is already implemented in the `grouper` class, but the price zone grouping is not. You can provide a custom function to group the components by the price zone."
   ]
  },
  {
   "cell_type": "code",
   "execution_count": null,
   "metadata": {},
   "outputs": [],
   "source": [
    "# Create random number generator\n",
    "rng = np.random.default_rng()\n",
    "\n",
    "# Use new Generator API\n",
    "n.buses[\"price_zone\"] = rng.choice(\n",
    "    [1, 2, 3, 4], size=n.buses.shape[0]\n",
    ")  # add random price zones\n",
    "\n",
    "\n",
    "def get_price_zone(n, c, port):\n",
    "    bus = f\"bus{port}\"\n",
    "    return n.static(c)[bus].map(n.buses.price_zone).rename(\"price_zone\")\n",
    "\n",
    "\n",
    "n.statistics.groupers.register_grouper(\"price_zone\", get_price_zone)\n",
    "\n",
    "n.statistics.supply(\n",
    "    comps=[\"Generator\"], groupby=[\"carrier\", \"price_zone\"], aggregate_groups=\"sum\"\n",
    ")"
   ]
  },
  {
   "cell_type": "markdown",
   "metadata": {},
   "source": [
    "Often it is better when inspecting your network to visualize the tables. Therefore, you can easily make plots to analyze your results. For example the supply of the generators."
   ]
  },
  {
   "cell_type": "code",
   "execution_count": null,
   "metadata": {},
   "outputs": [],
   "source": [
    "n.statistics.supply(comps=[\"Generator\"]).droplevel(0).div(1e3).plot.bar(\n",
    "    title=\"Generator in GWh\"\n",
    ")"
   ]
  },
  {
   "cell_type": "markdown",
   "metadata": {},
   "source": [
    "Or you could plot the generation time series of the generators."
   ]
  },
  {
   "cell_type": "code",
   "execution_count": null,
   "metadata": {},
   "outputs": [],
   "source": [
    "fig, ax = plt.subplots()\n",
    "n.statistics.supply(comps=[\"Generator\"], aggregate_time=False).droplevel(0).iloc[\n",
    "    :, :4\n",
    "].div(1e3).T.plot.area(\n",
    "    title=\"Generation in GW\",\n",
    "    ax=ax,\n",
    "    legend=False,\n",
    "    linewidth=0,\n",
    ")\n",
    "ax.legend(bbox_to_anchor=(1, 0), loc=\"lower left\", title=None, ncol=1)"
   ]
  },
  {
   "cell_type": "markdown",
   "metadata": {},
   "source": [
    "Finally, we want to look at the energy balance of the network. The energy balance is not included in the overview of the statistics module. To calculate the energy balance, you can do"
   ]
  },
  {
   "cell_type": "code",
   "execution_count": null,
   "metadata": {},
   "outputs": [],
   "source": [
    "n.statistics.energy_balance()"
   ]
  },
  {
   "cell_type": "markdown",
   "metadata": {},
   "source": [
    "Note that there is now an additional index level called bus carrier. This is because an energy balance is defined for every bus carrier. The bus carriers you have in your network you can find by looking at `n.buses.carrier.unique()`. For this network, there is only one bus carrier which is AC and corresponds to electricity. However, you can have further bus carriers for example when you have a sector coupled network. You could have heat or CO $_2$ as bus carrier. Therefore, for many `statistics` functions you have to be careful about the units of the values and it is not always given by the `attr` object of the `DataFrame` or `Series`.\n",
    "\n",
    "Finally, we want to plot the energy balance and the energy balance time series for electrcity which has the bus carrier AC. In a sector coupled network, you could also choose other bus carriers like H2 or heat. Note that in this example \"-\" represents the load in the system."
   ]
  },
  {
   "cell_type": "code",
   "execution_count": null,
   "metadata": {},
   "outputs": [],
   "source": [
    "fig, ax = plt.subplots()\n",
    "n.statistics.energy_balance().loc[:, :, \"AC\"].groupby(\n",
    "    \"carrier\"\n",
    ").sum().to_frame().T.plot.bar(stacked=True, ax=ax, title=\"Energy Balance\")\n",
    "ax.legend(bbox_to_anchor=(1, 0), loc=\"lower left\", title=None, ncol=1)"
   ]
  },
  {
   "cell_type": "code",
   "execution_count": null,
   "metadata": {},
   "outputs": [],
   "source": [
    "fig, ax = plt.subplots()\n",
    "n.statistics.energy_balance(aggregate_time=False).loc[:, :, \"AC\"].droplevel(0).iloc[\n",
    "    :, :4\n",
    "].groupby(\"carrier\").sum().where(lambda x: np.abs(x) > 1).fillna(0).T.plot.area(\n",
    "    ax=ax, title=\"Energy Balance Timeseries\"\n",
    ")\n",
    "ax.legend(bbox_to_anchor=(1, 0), loc=\"lower left\", title=None, ncol=1)"
   ]
  }
 ],
 "metadata": {
  "kernelspec": {
   "display_name": "",
   "language": "python",
   "name": ""
  },
  "language_info": {
   "codemirror_mode": {
    "name": "ipython",
    "version": 3
   },
   "file_extension": ".py",
   "mimetype": "text/x-python",
   "name": "python",
   "nbconvert_exporter": "python",
   "pygments_lexer": "ipython3",
   "version": "3.12.5"
  },
  "orig_nbformat": 4
 },
 "nbformat": 4,
 "nbformat_minor": 2
}
