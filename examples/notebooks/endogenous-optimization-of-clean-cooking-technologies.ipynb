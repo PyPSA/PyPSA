{
 "cells": [
  {
   "attachments": {},
   "cell_type": "markdown",
   "metadata": {},
   "source": [
    "# Endogenous optimization of clean cooking technologies\n",
    "\n",
    "This minimal example simulates a single day of electrical consumption at a single house for a 24 hours snapshot.\n",
    "\n",
    "This pypsa network will consists of\n",
    "- 1  bio-diesel generator\n",
    "- 1 gas store, \n",
    "- 1 pallet store\n",
    "- 1 electric cooker\n",
    "- 1 gas cooker \n",
    "- 1 bio-pallet cooker\n",
    "- A constant baseload\n",
    "- A variable cooking load\n",
    "- 1 load-shedding generator"
   ]
  },
  {
   "cell_type": "code",
   "execution_count": null,
   "metadata": {},
   "outputs": [],
   "source": [
    "# Import essential modules into current workspace\n",
    "import pypsa\n",
    "import matplotlib.pyplot as plt\n",
    "import numpy as np\n",
    "import pandas as pd\n",
    "\n",
    "# show all pandas dataframe columns\n",
    "pd.set_option(\"display.max_columns\", None)\n",
    "\n",
    "# Create a pypsa network\n",
    "network = pypsa.Network()\n",
    "\n",
    "# create 24-hour snapshot with hourly resolution\n",
    "index = pd.date_range(start=\"2023-10-30 00:00\", end=\"2023-10-30 23:00\", freq=\"H\")\n",
    "\n",
    "# assign created snapshot to pypsa network\n",
    "network.set_snapshots(index)\n",
    "\n",
    "# Add energy carriers to pypsa network\n",
    "\n",
    "# add electricity\n",
    "network.add(\"Carrier\", name=\"AC\", nice_name=\"electricity\")\n",
    "\n",
    "# add gas\n",
    "network.add(\"Carrier\", name=\"gas\", nice_name=\"cooking gas\")\n",
    "\n",
    "# add solid biomass e.g pallets\n",
    "network.add(\"Carrier\", name=\"solid biomass\", nice_name=\"pallets\")\n",
    "\n",
    "# add heat\n",
    "network.add(\"Carrier\", name=\"heat\")\n",
    "\n",
    "# add electric bus to pypsa network\n",
    "network.add(\"Bus\", name=\"electric bus\", carrier=\"AC\")\n",
    "\n",
    "# add diesel generator to pypsa network\n",
    "network.add(\n",
    "    \"Generator\",\n",
    "    name=\"diesel genset\",\n",
    "    bus=\"electric bus\",\n",
    "    carrier=\"AC\",\n",
    "    p_nom=10.0,  # energy capacity in MWh\n",
    "    capital_cost=5.5,\n",
    "    p_max_pu=1,  # use generator at 100 percent\n",
    "    marginal_cost=3.5,\n",
    "    control=\"PQ\",\n",
    "    efficiency=0.85,\n",
    ")\n",
    "\n",
    "# add cooking bus to pypsa network\n",
    "network.add(\"Bus\", name=\"cooking bus\", carrier=\"heat\")\n",
    "\n",
    "# add electric cooker to pypsa network\n",
    "network.add(\n",
    "    \"Link\",\n",
    "    name=\"electric cooker\",\n",
    "    bus0=\"electric bus\",\n",
    "    bus1=\"cooking bus\",\n",
    "    efficiency=0.85,\n",
    "    capital_cost=2.5,  # cost of increasing capacity by 1MWh\n",
    "    marginal_cost=1.50,  # cost of producing 1 MWh of energy\n",
    "    p_nom=10.5,  # energy capacity in MWh\n",
    "    p_max_pu=1,\n",
    ")\n",
    "\n",
    "# add gas bus to pypsa network\n",
    "network.add(\"Bus\", name=\"gas bus\", carrier=\"gas\")\n",
    "\n",
    "# add store for gas to pypsa network\n",
    "network.add(\n",
    "    \"Store\",\n",
    "    name=\"gas store\",\n",
    "    bus=\"gas bus\",\n",
    "    carrier=\"gas\",  # energy carrier of store\n",
    "    e_cyclic=False,  # store is not cyclic\n",
    "    e_nom=30.0,  # energy capacity in MWh\n",
    "    e_initial=30.0,  # stored filled with 30 MWh of gas\n",
    "    marginal_cost=0.001,  # cost of producinh 1 MWh of energy\n",
    "    capital_cost=0.01,  # cost of increasing capacity by 1MWh\n",
    ")\n",
    "\n",
    "# add gas cooker to pypsa network\n",
    "network.add(\n",
    "    \"Link\",\n",
    "    name=\"gas cooker\",\n",
    "    bus0=\"gas bus\",\n",
    "    bus1=\"cooking bus\",\n",
    "    efficiency=0.90,\n",
    "    capital_cost=0.01,  # cost of increasing capacity by 1MWh\n",
    "    marginal_cost=0.0001,  # cost of producing 1 MWh of energy\n",
    "    p_nom=10.0,  # energy capacity in MWh\n",
    "    p_max_pu=1,\n",
    ")\n",
    "\n",
    "# add biomass bus to pypsa network\n",
    "network.add(\"Bus\", name=\"biomass bus\", carrier=\"solid biomass\")\n",
    "\n",
    "# add stores: bio-pallet to pypsa network\n",
    "network.add(\n",
    "    \"Store\",\n",
    "    name=\"pallet store\",\n",
    "    bus=\"biomass bus\",\n",
    "    carrier=\"solid biomass\",\n",
    "    e_cyclic=True,\n",
    "    e_nom=7.5,  # energy capacity in MWh\n",
    "    marginal_cost=0.4,  # cost of producinh 1 MWh of energy\n",
    "    capital_cost=0.8,  # cost of increasing capacity by 1MWh\n",
    ")\n",
    "\n",
    "# add pallet cooker to pypsa network\n",
    "network.add(\n",
    "    \"Link\",\n",
    "    name=\"pallet cooker\",\n",
    "    bus0=\"biomass bus\",\n",
    "    bus1=\"cooking bus\",\n",
    "    efficiency=0.75,\n",
    "    capital_cost=1.0,  # cost of increasing capacity by 1MWh\n",
    "    marginal_cost=0.85,  # cost of producing 1 MWh of energy\n",
    "    p_nom=1.0,  # energy capacity in MWh\n",
    "    p_max_pu=1,\n",
    ")\n",
    "\n",
    "# add two loads\n",
    "\n",
    "# create 24 hours snapshot\n",
    "date = pd.date_range(start=\"2023-10-30 00:00\", end=\"2023-10-30 23:00\", freq=\"H\")\n",
    "\n",
    "# create constant base_load\n",
    "base_load = pd.Series(data=0.5, index=date)\n",
    "\n",
    "# add base_load to pypsa network\n",
    "network.add(\"Load\", name=\"electric load\", bus=\"electric bus\", p_set=base_load.values)\n",
    "\n",
    "# create  time-vvarying load for cooking time series\n",
    "cooking_data = [\n",
    "    0.1,\n",
    "    0.1,\n",
    "    0.1,\n",
    "    0.3,\n",
    "    0.5,\n",
    "    1.2,\n",
    "    1.3,\n",
    "    1.5,\n",
    "    1.6,\n",
    "    1.8,\n",
    "    2.0,\n",
    "    2.0,\n",
    "    1.9,\n",
    "    1.8,\n",
    "    1.7,\n",
    "    1.6,\n",
    "    1.5,\n",
    "    1.5,\n",
    "    1.4,\n",
    "    1.4,\n",
    "    1.2,\n",
    "    1.0,\n",
    "    0.5,\n",
    "    0.1,\n",
    "]\n",
    "\n",
    "cooking_load = pd.Series(data=cooking_data, index=date)\n",
    "\n",
    "# add base_load to pypsa network\n",
    "network.add(\n",
    "    class_name=\"Load\",\n",
    "    name=\"cooking load\",\n",
    "    bus=\"cooking bus\",\n",
    "    p_set=cooking_load.values,\n",
    ")"
   ]
  },
  {
   "cell_type": "code",
   "execution_count": null,
   "metadata": {},
   "outputs": [],
   "source": []
  },
  {
   "cell_type": "markdown",
   "metadata": {},
   "source": [
    "- Display network load details"
   ]
  },
  {
   "cell_type": "code",
   "execution_count": null,
   "metadata": {},
   "outputs": [],
   "source": [
    "network.loads_t"
   ]
  },
  {
   "cell_type": "markdown",
   "metadata": {},
   "source": [
    "* Display graphs of generation and load "
   ]
  },
  {
   "cell_type": "code",
   "execution_count": null,
   "metadata": {},
   "outputs": [],
   "source": [
    "fig, ax = plt.subplots()\n",
    "\n",
    "(network.generators_t.p_max_pu * network.generators.p_nom).plot(ax=ax)\n",
    "network.loads_t.p_set.plot(ax=ax)\n",
    "(network.links_t.p_max_pu * network.links.p_nom).plot(ax=ax)\n",
    "\n",
    "ax.set_ylabel(\"Power (MW)\")"
   ]
  },
  {
   "attachments": {},
   "cell_type": "markdown",
   "metadata": {},
   "source": [
    "* Optimize network"
   ]
  },
  {
   "cell_type": "code",
   "execution_count": null,
   "metadata": {},
   "outputs": [],
   "source": [
    "network.optimize()"
   ]
  },
  {
   "attachments": {},
   "cell_type": "markdown",
   "metadata": {},
   "source": [
    "* Add load shedding generator to pypsa network"
   ]
  },
  {
   "cell_type": "code",
   "execution_count": null,
   "metadata": {},
   "outputs": [],
   "source": [
    "# Add load shedding as generator\n",
    "network.add(\n",
    "    class_name=\"Generator\",\n",
    "    name=\"load shedding\",\n",
    "    bus=\"cooking bus\",\n",
    "    p_nom=2.0,\n",
    "    carrier=\"load\",\n",
    "    p_max_pu=1,\n",
    "    marginal_cost=1000,  # 100 €/MWh\n",
    "    p_nom_extendable=True,\n",
    ")"
   ]
  },
  {
   "attachments": {},
   "cell_type": "markdown",
   "metadata": {},
   "source": [
    "* Display graphs of generation and load with loadshedding generator added"
   ]
  },
  {
   "cell_type": "code",
   "execution_count": null,
   "metadata": {},
   "outputs": [],
   "source": [
    "fig, ax = plt.subplots()\n",
    "\n",
    "(network.generators_t.p_max_pu * network.generators.p_nom).plot(ax=ax)\n",
    "network.loads_t.p_set.plot(ax=ax)\n",
    "\n",
    "ax.set_ylabel(\"Power (MW)\")"
   ]
  },
  {
   "attachments": {},
   "cell_type": "markdown",
   "metadata": {},
   "source": [
    "* Attempt optmizing with load shedding generator."
   ]
  },
  {
   "cell_type": "code",
   "execution_count": null,
   "metadata": {},
   "outputs": [],
   "source": [
    "network.optimize()"
   ]
  },
  {
   "cell_type": "code",
   "execution_count": null,
   "metadata": {},
   "outputs": [],
   "source": [
    "network.loads_t.p.plot()"
   ]
  },
  {
   "attachments": {},
   "cell_type": "markdown",
   "metadata": {},
   "source": [
    "* Plotting the optimization results after load shedding."
   ]
  },
  {
   "cell_type": "code",
   "execution_count": null,
   "metadata": {},
   "outputs": [],
   "source": [
    "fig, ax = plt.subplots()\n",
    "\n",
    "(network.generators_t.p).plot(ax=ax, style=\"--+\")\n",
    "network.loads_t.p_set.plot(ax=ax, style=\"--\")\n",
    "(network.links_t.p0).plot(ax=ax)\n",
    "ax.set_ylabel(\"Power (MW)\")\n",
    "fig.savefig(\"cheap_gas_cooking_has_won.png\")"
   ]
  },
  {
   "cell_type": "code",
   "execution_count": null,
   "metadata": {},
   "outputs": [],
   "source": []
  }
 ],
 "metadata": {
  "kernelspec": {
   "display_name": "",
   "language": "python",
   "name": ""
  },
  "language_info": {
   "codemirror_mode": {
    "name": "ipython",
    "version": 3
   },
   "file_extension": ".py",
   "mimetype": "text/x-python",
   "name": "python",
   "nbconvert_exporter": "python",
   "pygments_lexer": "ipython3",
   "version": "3.10.12"
  },
  "orig_nbformat": 4
 },
 "nbformat": 4,
 "nbformat_minor": 2
}
