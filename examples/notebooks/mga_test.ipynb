{
 "cells": [
  {
   "cell_type": "markdown",
   "metadata": {},
   "source": [
    "# Caching MGA results."
   ]
  },
  {
   "cell_type": "code",
   "execution_count": 1,
   "metadata": {},
   "outputs": [],
   "source": [
    "# Use results from model.energy. "
   ]
  },
  {
   "cell_type": "code",
   "execution_count": 2,
   "metadata": {},
   "outputs": [],
   "source": [
    "import pandas as pd\n",
    "import pypsa\n",
    "import os\n",
    "import matplotlib.pyplot as plt"
   ]
  },
  {
   "cell_type": "code",
   "execution_count": 3,
   "metadata": {},
   "outputs": [
    {
     "name": "stderr",
     "output_type": "stream",
     "text": [
      "INFO:pypsa.network.io:Imported network 'Model-Energy' has buses, carriers, generators, links, loads, storage_units, stores\n"
     ]
    }
   ],
   "source": [
    "n = pypsa.Network(\"../networks/model-energy/model-energy.nc\")\n"
   ]
  },
  {
   "cell_type": "code",
   "execution_count": 4,
   "metadata": {},
   "outputs": [
    {
     "name": "stderr",
     "output_type": "stream",
     "text": [
      "INFO:linopy.model: Solve problem using Gurobi solver\n",
      "INFO:linopy.io:Writing objective.\n",
      "Writing constraints.: 100%|\u001b[38;2;128;191;255m██████████\u001b[0m| 21/21 [00:00<00:00, 48.99it/s]\n",
      "Writing continuous variables.: 100%|\u001b[38;2;128;191;255m██████████\u001b[0m| 11/11 [00:00<00:00, 147.60it/s]\n",
      "INFO:linopy.io: Writing time: 0.52s\n"
     ]
    },
    {
     "name": "stdout",
     "output_type": "stream",
     "text": [
      "Set parameter TokenServer to value \"sophia1.hpc.ait.dtu.dk\"\n"
     ]
    },
    {
     "name": "stderr",
     "output_type": "stream",
     "text": [
      "INFO:gurobipy:Set parameter TokenServer to value \"sophia1.hpc.ait.dtu.dk\"\n"
     ]
    },
    {
     "name": "stdout",
     "output_type": "stream",
     "text": [
      "Read LP format model from file /tmp/linopy-problem-d690nwqv.lp\n"
     ]
    },
    {
     "name": "stderr",
     "output_type": "stream",
     "text": [
      "INFO:gurobipy:Read LP format model from file /tmp/linopy-problem-d690nwqv.lp\n"
     ]
    },
    {
     "name": "stdout",
     "output_type": "stream",
     "text": [
      "Reading time = 0.13 seconds\n"
     ]
    },
    {
     "name": "stderr",
     "output_type": "stream",
     "text": [
      "INFO:gurobipy:Reading time = 0.13 seconds\n"
     ]
    },
    {
     "name": "stdout",
     "output_type": "stream",
     "text": [
      "obj: 64246 rows, 29206 columns, 124144 nonzeros\n"
     ]
    },
    {
     "name": "stderr",
     "output_type": "stream",
     "text": [
      "INFO:gurobipy:obj: 64246 rows, 29206 columns, 124144 nonzeros\n"
     ]
    },
    {
     "name": "stdout",
     "output_type": "stream",
     "text": [
      "Gurobi Optimizer version 11.0.3 build v11.0.3rc0 (linux64 - \"CentOS Linux 7 (Core)\")\n"
     ]
    },
    {
     "name": "stderr",
     "output_type": "stream",
     "text": [
      "INFO:gurobipy:Gurobi Optimizer version 11.0.3 build v11.0.3rc0 (linux64 - \"CentOS Linux 7 (Core)\")\n"
     ]
    },
    {
     "name": "stdout",
     "output_type": "stream",
     "text": [
      "\n"
     ]
    },
    {
     "name": "stderr",
     "output_type": "stream",
     "text": [
      "INFO:gurobipy:\n"
     ]
    },
    {
     "name": "stdout",
     "output_type": "stream",
     "text": [
      "CPU model: AMD EPYC 7351 16-Core Processor, instruction set [SSE2|AVX|AVX2]\n"
     ]
    },
    {
     "name": "stderr",
     "output_type": "stream",
     "text": [
      "INFO:gurobipy:CPU model: AMD EPYC 7351 16-Core Processor, instruction set [SSE2|AVX|AVX2]\n"
     ]
    },
    {
     "name": "stdout",
     "output_type": "stream",
     "text": [
      "Thread count: 32 physical cores, 32 logical processors, using up to 32 threads\n"
     ]
    },
    {
     "name": "stderr",
     "output_type": "stream",
     "text": [
      "INFO:gurobipy:Thread count: 32 physical cores, 32 logical processors, using up to 32 threads\n"
     ]
    },
    {
     "name": "stdout",
     "output_type": "stream",
     "text": [
      "\n"
     ]
    },
    {
     "name": "stderr",
     "output_type": "stream",
     "text": [
      "INFO:gurobipy:\n"
     ]
    },
    {
     "name": "stdout",
     "output_type": "stream",
     "text": [
      "Optimize a model with 64246 rows, 29206 columns and 124144 nonzeros\n"
     ]
    },
    {
     "name": "stderr",
     "output_type": "stream",
     "text": [
      "INFO:gurobipy:Optimize a model with 64246 rows, 29206 columns and 124144 nonzeros\n"
     ]
    },
    {
     "name": "stdout",
     "output_type": "stream",
     "text": [
      "Model fingerprint: 0x672bed5b\n"
     ]
    },
    {
     "name": "stderr",
     "output_type": "stream",
     "text": [
      "INFO:gurobipy:Model fingerprint: 0x672bed5b\n"
     ]
    },
    {
     "name": "stdout",
     "output_type": "stream",
     "text": [
      "Coefficient statistics:\n"
     ]
    },
    {
     "name": "stderr",
     "output_type": "stream",
     "text": [
      "INFO:gurobipy:Coefficient statistics:\n"
     ]
    },
    {
     "name": "stdout",
     "output_type": "stream",
     "text": [
      "  Matrix range     [2e-04, 3e+00]\n"
     ]
    },
    {
     "name": "stderr",
     "output_type": "stream",
     "text": [
      "INFO:gurobipy:  Matrix range     [2e-04, 3e+00]\n"
     ]
    },
    {
     "name": "stdout",
     "output_type": "stream",
     "text": [
      "  Objective range  [1e+02, 2e+05]\n"
     ]
    },
    {
     "name": "stderr",
     "output_type": "stream",
     "text": [
      "INFO:gurobipy:  Objective range  [1e+02, 2e+05]\n"
     ]
    },
    {
     "name": "stdout",
     "output_type": "stream",
     "text": [
      "  Bounds range     [0e+00, 0e+00]\n"
     ]
    },
    {
     "name": "stderr",
     "output_type": "stream",
     "text": [
      "INFO:gurobipy:  Bounds range     [0e+00, 0e+00]\n"
     ]
    },
    {
     "name": "stdout",
     "output_type": "stream",
     "text": [
      "  RHS range        [5e+03, 1e+04]\n"
     ]
    },
    {
     "name": "stderr",
     "output_type": "stream",
     "text": [
      "INFO:gurobipy:  RHS range        [5e+03, 1e+04]\n"
     ]
    },
    {
     "name": "stdout",
     "output_type": "stream",
     "text": [
      "Presolve removed 33548 rows and 4342 columns\n"
     ]
    },
    {
     "name": "stderr",
     "output_type": "stream",
     "text": [
      "INFO:gurobipy:Presolve removed 33548 rows and 4342 columns\n"
     ]
    },
    {
     "name": "stdout",
     "output_type": "stream",
     "text": [
      "Presolve time: 0.06s\n"
     ]
    },
    {
     "name": "stderr",
     "output_type": "stream",
     "text": [
      "INFO:gurobipy:Presolve time: 0.06s\n"
     ]
    },
    {
     "name": "stdout",
     "output_type": "stream",
     "text": [
      "Presolved: 30698 rows, 24864 columns, 86254 nonzeros\n"
     ]
    },
    {
     "name": "stderr",
     "output_type": "stream",
     "text": [
      "INFO:gurobipy:Presolved: 30698 rows, 24864 columns, 86254 nonzeros\n"
     ]
    },
    {
     "name": "stdout",
     "output_type": "stream",
     "text": [
      "\n"
     ]
    },
    {
     "name": "stderr",
     "output_type": "stream",
     "text": [
      "INFO:gurobipy:\n"
     ]
    },
    {
     "name": "stdout",
     "output_type": "stream",
     "text": [
      "Concurrent LP optimizer: primal simplex, dual simplex, and barrier\n"
     ]
    },
    {
     "name": "stderr",
     "output_type": "stream",
     "text": [
      "INFO:gurobipy:Concurrent LP optimizer: primal simplex, dual simplex, and barrier\n"
     ]
    },
    {
     "name": "stdout",
     "output_type": "stream",
     "text": [
      "Showing barrier log only...\n"
     ]
    },
    {
     "name": "stderr",
     "output_type": "stream",
     "text": [
      "INFO:gurobipy:Showing barrier log only...\n"
     ]
    },
    {
     "name": "stdout",
     "output_type": "stream",
     "text": [
      "\n"
     ]
    },
    {
     "name": "stderr",
     "output_type": "stream",
     "text": [
      "INFO:gurobipy:\n"
     ]
    },
    {
     "name": "stdout",
     "output_type": "stream",
     "text": [
      "Ordering time: 0.02s\n"
     ]
    },
    {
     "name": "stderr",
     "output_type": "stream",
     "text": [
      "INFO:gurobipy:Ordering time: 0.02s\n"
     ]
    },
    {
     "name": "stdout",
     "output_type": "stream",
     "text": [
      "\n"
     ]
    },
    {
     "name": "stderr",
     "output_type": "stream",
     "text": [
      "INFO:gurobipy:\n"
     ]
    },
    {
     "name": "stdout",
     "output_type": "stream",
     "text": [
      "Barrier statistics:\n"
     ]
    },
    {
     "name": "stderr",
     "output_type": "stream",
     "text": [
      "INFO:gurobipy:Barrier statistics:\n"
     ]
    },
    {
     "name": "stdout",
     "output_type": "stream",
     "text": [
      " Dense cols : 6\n"
     ]
    },
    {
     "name": "stderr",
     "output_type": "stream",
     "text": [
      "INFO:gurobipy: Dense cols : 6\n"
     ]
    },
    {
     "name": "stdout",
     "output_type": "stream",
     "text": [
      " AA' NZ     : 7.308e+04\n"
     ]
    },
    {
     "name": "stderr",
     "output_type": "stream",
     "text": [
      "INFO:gurobipy: AA' NZ     : 7.308e+04\n"
     ]
    },
    {
     "name": "stdout",
     "output_type": "stream",
     "text": [
      " Factor NZ  : 4.839e+05 (roughly 26 MB of memory)\n"
     ]
    },
    {
     "name": "stderr",
     "output_type": "stream",
     "text": [
      "INFO:gurobipy: Factor NZ  : 4.839e+05 (roughly 26 MB of memory)\n"
     ]
    },
    {
     "name": "stdout",
     "output_type": "stream",
     "text": [
      " Factor Ops : 7.913e+06 (less than 1 second per iteration)\n"
     ]
    },
    {
     "name": "stderr",
     "output_type": "stream",
     "text": [
      "INFO:gurobipy: Factor Ops : 7.913e+06 (less than 1 second per iteration)\n"
     ]
    },
    {
     "name": "stdout",
     "output_type": "stream",
     "text": [
      " Threads    : 1\n"
     ]
    },
    {
     "name": "stderr",
     "output_type": "stream",
     "text": [
      "INFO:gurobipy: Threads    : 1\n"
     ]
    },
    {
     "name": "stdout",
     "output_type": "stream",
     "text": [
      "\n"
     ]
    },
    {
     "name": "stderr",
     "output_type": "stream",
     "text": [
      "INFO:gurobipy:\n"
     ]
    },
    {
     "name": "stdout",
     "output_type": "stream",
     "text": [
      "                  Objective                Residual\n"
     ]
    },
    {
     "name": "stderr",
     "output_type": "stream",
     "text": [
      "INFO:gurobipy:                  Objective                Residual\n"
     ]
    },
    {
     "name": "stdout",
     "output_type": "stream",
     "text": [
      "Iter       Primal          Dual         Primal    Dual     Compl     Time\n"
     ]
    },
    {
     "name": "stderr",
     "output_type": "stream",
     "text": [
      "INFO:gurobipy:Iter       Primal          Dual         Primal    Dual     Compl     Time\n"
     ]
    },
    {
     "name": "stdout",
     "output_type": "stream",
     "text": [
      "   0   3.82112409e+11 -3.25347733e+12  4.37e+04 1.84e+03  1.51e+09     0s\n"
     ]
    },
    {
     "name": "stderr",
     "output_type": "stream",
     "text": [
      "INFO:gurobipy:   0   3.82112409e+11 -3.25347733e+12  4.37e+04 1.84e+03  1.51e+09     0s\n"
     ]
    },
    {
     "name": "stdout",
     "output_type": "stream",
     "text": [
      "   1   1.70134840e+11 -2.13096729e+12  1.98e+03 8.76e+03  3.02e+08     0s\n"
     ]
    },
    {
     "name": "stderr",
     "output_type": "stream",
     "text": [
      "INFO:gurobipy:   1   1.70134840e+11 -2.13096729e+12  1.98e+03 8.76e+03  3.02e+08     0s\n"
     ]
    },
    {
     "name": "stdout",
     "output_type": "stream",
     "text": [
      "   2   1.50374328e+11 -2.53694627e+10  4.44e-10 2.54e+02  1.09e+07     0s\n"
     ]
    },
    {
     "name": "stderr",
     "output_type": "stream",
     "text": [
      "INFO:gurobipy:   2   1.50374328e+11 -2.53694627e+10  4.44e-10 2.54e+02  1.09e+07     0s\n"
     ]
    },
    {
     "name": "stdout",
     "output_type": "stream",
     "text": [
      "   3   5.37854213e+10 -6.29480550e+09  3.27e-10 3.95e+01  2.23e+06     0s\n"
     ]
    },
    {
     "name": "stderr",
     "output_type": "stream",
     "text": [
      "INFO:gurobipy:   3   5.37854213e+10 -6.29480550e+09  3.27e-10 3.95e+01  2.23e+06     0s\n"
     ]
    },
    {
     "name": "stdout",
     "output_type": "stream",
     "text": [
      "   4   2.61803267e+10  1.26750503e+09  2.57e-09 1.01e+01  7.30e+05     0s\n"
     ]
    },
    {
     "name": "stderr",
     "output_type": "stream",
     "text": [
      "INFO:gurobipy:   4   2.61803267e+10  1.26750503e+09  2.57e-09 1.01e+01  7.30e+05     0s\n"
     ]
    },
    {
     "name": "stdout",
     "output_type": "stream",
     "text": [
      "   5   1.88318152e+10  3.45224962e+09  1.14e-08 3.95e+00  3.92e+05     0s\n"
     ]
    },
    {
     "name": "stderr",
     "output_type": "stream",
     "text": [
      "INFO:gurobipy:   5   1.88318152e+10  3.45224962e+09  1.14e-08 3.95e+00  3.92e+05     0s\n"
     ]
    },
    {
     "name": "stdout",
     "output_type": "stream",
     "text": [
      "   6   1.53223973e+10  4.53606793e+09  3.02e-08 2.75e+00  2.75e+05     0s\n"
     ]
    },
    {
     "name": "stderr",
     "output_type": "stream",
     "text": [
      "INFO:gurobipy:   6   1.53223973e+10  4.53606793e+09  3.02e-08 2.75e+00  2.75e+05     0s\n"
     ]
    },
    {
     "name": "stdout",
     "output_type": "stream",
     "text": [
      "   7   1.35939241e+10  5.49946514e+09  3.46e-08 2.01e+00  2.06e+05     0s\n"
     ]
    },
    {
     "name": "stderr",
     "output_type": "stream",
     "text": [
      "INFO:gurobipy:   7   1.35939241e+10  5.49946514e+09  3.46e-08 2.01e+00  2.06e+05     0s\n"
     ]
    },
    {
     "name": "stdout",
     "output_type": "stream",
     "text": [
      "   8   1.31358198e+10  5.99995818e+09  3.03e-08 1.66e+00  1.79e+05     0s\n"
     ]
    },
    {
     "name": "stderr",
     "output_type": "stream",
     "text": [
      "INFO:gurobipy:   8   1.31358198e+10  5.99995818e+09  3.03e-08 1.66e+00  1.79e+05     0s\n"
     ]
    },
    {
     "name": "stdout",
     "output_type": "stream",
     "text": [
      "   9   1.27989879e+10  6.07780664e+09  2.74e-08 1.60e+00  1.70e+05     0s\n"
     ]
    },
    {
     "name": "stderr",
     "output_type": "stream",
     "text": [
      "INFO:gurobipy:   9   1.27989879e+10  6.07780664e+09  2.74e-08 1.60e+00  1.70e+05     0s\n"
     ]
    },
    {
     "name": "stdout",
     "output_type": "stream",
     "text": [
      "  10   1.25710693e+10  6.45263178e+09  2.51e-08 1.39e+00  1.53e+05     0s\n"
     ]
    },
    {
     "name": "stderr",
     "output_type": "stream",
     "text": [
      "INFO:gurobipy:  10   1.25710693e+10  6.45263178e+09  2.51e-08 1.39e+00  1.53e+05     0s\n"
     ]
    },
    {
     "name": "stdout",
     "output_type": "stream",
     "text": [
      "  11   1.20524571e+10  6.62495579e+09  1.17e-07 1.29e+00  1.38e+05     0s\n"
     ]
    },
    {
     "name": "stderr",
     "output_type": "stream",
     "text": [
      "INFO:gurobipy:  11   1.20524571e+10  6.62495579e+09  1.17e-07 1.29e+00  1.38e+05     0s\n"
     ]
    },
    {
     "name": "stdout",
     "output_type": "stream",
     "text": [
      "  12   1.18962109e+10  6.88112039e+09  1.07e-07 1.14e+00  1.27e+05     0s\n"
     ]
    },
    {
     "name": "stderr",
     "output_type": "stream",
     "text": [
      "INFO:gurobipy:  12   1.18962109e+10  6.88112039e+09  1.07e-07 1.14e+00  1.27e+05     0s\n"
     ]
    },
    {
     "name": "stdout",
     "output_type": "stream",
     "text": [
      "  13   1.09443837e+10  7.17620582e+09  1.19e-07 9.43e-01  9.83e+04     0s\n"
     ]
    },
    {
     "name": "stderr",
     "output_type": "stream",
     "text": [
      "INFO:gurobipy:  13   1.09443837e+10  7.17620582e+09  1.19e-07 9.43e-01  9.83e+04     0s\n"
     ]
    },
    {
     "name": "stdout",
     "output_type": "stream",
     "text": [
      "  14   1.06614564e+10  7.23640662e+09  9.78e-08 8.94e-01  9.10e+04     0s\n"
     ]
    },
    {
     "name": "stderr",
     "output_type": "stream",
     "text": [
      "INFO:gurobipy:  14   1.06614564e+10  7.23640662e+09  9.78e-08 8.94e-01  9.10e+04     0s\n"
     ]
    },
    {
     "name": "stdout",
     "output_type": "stream",
     "text": [
      "  15   1.03693637e+10  7.51578311e+09  3.38e-07 7.55e-01  7.70e+04     1s\n"
     ]
    },
    {
     "name": "stderr",
     "output_type": "stream",
     "text": [
      "INFO:gurobipy:  15   1.03693637e+10  7.51578311e+09  3.38e-07 7.55e-01  7.70e+04     1s\n"
     ]
    },
    {
     "name": "stdout",
     "output_type": "stream",
     "text": [
      "  16   1.00243751e+10  7.71025503e+09  2.90e-07 6.58e-01  6.54e+04     1s\n"
     ]
    },
    {
     "name": "stderr",
     "output_type": "stream",
     "text": [
      "INFO:gurobipy:  16   1.00243751e+10  7.71025503e+09  2.90e-07 6.58e-01  6.54e+04     1s\n"
     ]
    },
    {
     "name": "stdout",
     "output_type": "stream",
     "text": [
      "  17   9.88858640e+09  7.77606021e+09  4.38e-07 6.20e-01  6.18e+04     1s\n"
     ]
    },
    {
     "name": "stderr",
     "output_type": "stream",
     "text": [
      "INFO:gurobipy:  17   9.88858640e+09  7.77606021e+09  4.38e-07 6.20e-01  6.18e+04     1s\n"
     ]
    },
    {
     "name": "stdout",
     "output_type": "stream",
     "text": [
      "  18   9.77501445e+09  7.93361282e+09  4.55e-07 5.22e-01  5.43e+04     1s\n"
     ]
    },
    {
     "name": "stderr",
     "output_type": "stream",
     "text": [
      "INFO:gurobipy:  18   9.77501445e+09  7.93361282e+09  4.55e-07 5.22e-01  5.43e+04     1s\n"
     ]
    },
    {
     "name": "stdout",
     "output_type": "stream",
     "text": [
      "  19   9.63818333e+09  8.02974971e+09  3.27e-07 4.52e-01  4.85e+04     1s\n"
     ]
    },
    {
     "name": "stderr",
     "output_type": "stream",
     "text": [
      "INFO:gurobipy:  19   9.63818333e+09  8.02974971e+09  3.27e-07 4.52e-01  4.85e+04     1s\n"
     ]
    },
    {
     "name": "stdout",
     "output_type": "stream",
     "text": [
      "  20   9.47048705e+09  8.09232322e+09  1.93e-06 3.91e-01  4.30e+04     1s\n"
     ]
    },
    {
     "name": "stderr",
     "output_type": "stream",
     "text": [
      "INFO:gurobipy:  20   9.47048705e+09  8.09232322e+09  1.93e-06 3.91e-01  4.30e+04     1s\n"
     ]
    },
    {
     "name": "stdout",
     "output_type": "stream",
     "text": [
      "  21   9.28334039e+09  8.13612386e+09  3.63e-06 3.37e-01  3.72e+04     1s\n"
     ]
    },
    {
     "name": "stderr",
     "output_type": "stream",
     "text": [
      "INFO:gurobipy:  21   9.28334039e+09  8.13612386e+09  3.63e-06 3.37e-01  3.72e+04     1s\n"
     ]
    },
    {
     "name": "stdout",
     "output_type": "stream",
     "text": [
      "  22   8.93580673e+09  8.16722922e+09  4.37e-06 3.01e-01  2.98e+04     1s\n"
     ]
    },
    {
     "name": "stderr",
     "output_type": "stream",
     "text": [
      "INFO:gurobipy:  22   8.93580673e+09  8.16722922e+09  4.37e-06 3.01e-01  2.98e+04     1s\n"
     ]
    },
    {
     "name": "stdout",
     "output_type": "stream",
     "text": [
      "  23   8.87764528e+09  8.31286994e+09  5.68e-06 1.97e-01  2.10e+04     1s\n"
     ]
    },
    {
     "name": "stderr",
     "output_type": "stream",
     "text": [
      "INFO:gurobipy:  23   8.87764528e+09  8.31286994e+09  5.68e-06 1.97e-01  2.10e+04     1s\n"
     ]
    },
    {
     "name": "stdout",
     "output_type": "stream",
     "text": [
      "  24   8.82900745e+09  8.33350682e+09  6.97e-06 1.79e-01  1.91e+04     1s\n"
     ]
    },
    {
     "name": "stderr",
     "output_type": "stream",
     "text": [
      "INFO:gurobipy:  24   8.82900745e+09  8.33350682e+09  6.97e-06 1.79e-01  1.91e+04     1s\n"
     ]
    },
    {
     "name": "stdout",
     "output_type": "stream",
     "text": [
      "  25   8.73558117e+09  8.34319023e+09  6.55e-06 1.69e-01  1.77e+04     1s\n"
     ]
    },
    {
     "name": "stderr",
     "output_type": "stream",
     "text": [
      "INFO:gurobipy:  25   8.73558117e+09  8.34319023e+09  6.55e-06 1.69e-01  1.77e+04     1s\n"
     ]
    },
    {
     "name": "stdout",
     "output_type": "stream",
     "text": [
      "  26   8.67695314e+09  8.33835580e+09  6.16e-06 1.45e-01  1.58e+04     1s\n"
     ]
    },
    {
     "name": "stderr",
     "output_type": "stream",
     "text": [
      "INFO:gurobipy:  26   8.67695314e+09  8.33835580e+09  6.16e-06 1.45e-01  1.58e+04     1s\n"
     ]
    },
    {
     "name": "stdout",
     "output_type": "stream",
     "text": [
      "  27   8.60079295e+09  8.31458748e+09  1.03e-05 1.21e-01  1.41e+04     1s\n"
     ]
    },
    {
     "name": "stderr",
     "output_type": "stream",
     "text": [
      "INFO:gurobipy:  27   8.60079295e+09  8.31458748e+09  1.03e-05 1.21e-01  1.41e+04     1s\n"
     ]
    },
    {
     "name": "stdout",
     "output_type": "stream",
     "text": [
      "  28   8.50756883e+09  8.30027138e+09  1.65e-05 8.53e-02  1.06e+04     1s\n"
     ]
    },
    {
     "name": "stderr",
     "output_type": "stream",
     "text": [
      "INFO:gurobipy:  28   8.50756883e+09  8.30027138e+09  1.65e-05 8.53e-02  1.06e+04     1s\n"
     ]
    },
    {
     "name": "stdout",
     "output_type": "stream",
     "text": [
      "  29   8.43530801e+09  8.29582830e+09  3.33e-05 7.06e-02  8.63e+03     1s\n"
     ]
    },
    {
     "name": "stderr",
     "output_type": "stream",
     "text": [
      "INFO:gurobipy:  29   8.43530801e+09  8.29582830e+09  3.33e-05 7.06e-02  8.63e+03     1s\n"
     ]
    },
    {
     "name": "stdout",
     "output_type": "stream",
     "text": [
      "  30   8.37736790e+09  8.29054363e+09  2.20e-05 6.36e-02  7.51e+03     1s\n"
     ]
    },
    {
     "name": "stderr",
     "output_type": "stream",
     "text": [
      "INFO:gurobipy:  30   8.37736790e+09  8.29054363e+09  2.20e-05 6.36e-02  7.51e+03     1s\n"
     ]
    },
    {
     "name": "stdout",
     "output_type": "stream",
     "text": [
      "  31   8.34560013e+09  8.27170432e+09  1.87e-05 4.73e-02  6.01e+03     1s\n"
     ]
    },
    {
     "name": "stderr",
     "output_type": "stream",
     "text": [
      "INFO:gurobipy:  31   8.34560013e+09  8.27170432e+09  1.87e-05 4.73e-02  6.01e+03     1s\n"
     ]
    },
    {
     "name": "stdout",
     "output_type": "stream",
     "text": [
      "  32   8.31920332e+09  8.27038165e+09  1.70e-05 4.66e-02  5.72e+03     1s\n"
     ]
    },
    {
     "name": "stderr",
     "output_type": "stream",
     "text": [
      "INFO:gurobipy:  32   8.31920332e+09  8.27038165e+09  1.70e-05 4.66e-02  5.72e+03     1s\n"
     ]
    },
    {
     "name": "stdout",
     "output_type": "stream",
     "text": [
      "  33   8.28813148e+09  8.26522559e+09  1.58e-05 4.47e-02  5.41e+03     1s\n"
     ]
    },
    {
     "name": "stderr",
     "output_type": "stream",
     "text": [
      "INFO:gurobipy:  33   8.28813148e+09  8.26522559e+09  1.58e-05 4.47e-02  5.41e+03     1s\n"
     ]
    },
    {
     "name": "stdout",
     "output_type": "stream",
     "text": [
      "  34   8.29087363e+09  8.26042539e+09  1.66e-05 4.31e-02  5.31e+03     1s\n"
     ]
    },
    {
     "name": "stderr",
     "output_type": "stream",
     "text": [
      "INFO:gurobipy:  34   8.29087363e+09  8.26042539e+09  1.66e-05 4.31e-02  5.31e+03     1s\n"
     ]
    },
    {
     "name": "stdout",
     "output_type": "stream",
     "text": [
      "  35   8.24336334e+09  8.24984604e+09  2.20e-05 4.07e-02  4.78e+03     1s\n"
     ]
    },
    {
     "name": "stderr",
     "output_type": "stream",
     "text": [
      "INFO:gurobipy:  35   8.24336334e+09  8.24984604e+09  2.20e-05 4.07e-02  4.78e+03     1s\n"
     ]
    },
    {
     "name": "stdout",
     "output_type": "stream",
     "text": [
      "  36   8.22217310e+09  8.23696637e+09  2.74e-05 3.73e-02  4.39e+03     1s\n"
     ]
    },
    {
     "name": "stderr",
     "output_type": "stream",
     "text": [
      "INFO:gurobipy:  36   8.22217310e+09  8.23696637e+09  2.74e-05 3.73e-02  4.39e+03     1s\n"
     ]
    },
    {
     "name": "stdout",
     "output_type": "stream",
     "text": [
      "  37   8.20255658e+09  8.20997329e+09  2.76e-05 2.89e-02  3.60e+03     1s\n"
     ]
    },
    {
     "name": "stderr",
     "output_type": "stream",
     "text": [
      "INFO:gurobipy:  37   8.20255658e+09  8.20997329e+09  2.76e-05 2.89e-02  3.60e+03     1s\n"
     ]
    },
    {
     "name": "stdout",
     "output_type": "stream",
     "text": [
      "  38   8.18511300e+09  8.19699137e+09  6.54e-05 2.50e-02  3.07e+03     1s\n"
     ]
    },
    {
     "name": "stderr",
     "output_type": "stream",
     "text": [
      "INFO:gurobipy:  38   8.18511300e+09  8.19699137e+09  6.54e-05 2.50e-02  3.07e+03     1s\n"
     ]
    },
    {
     "name": "stdout",
     "output_type": "stream",
     "text": [
      "  39   8.16850023e+09  8.18904867e+09  7.73e-05 2.29e-02  2.75e+03     1s\n"
     ]
    },
    {
     "name": "stderr",
     "output_type": "stream",
     "text": [
      "INFO:gurobipy:  39   8.16850023e+09  8.18904867e+09  7.73e-05 2.29e-02  2.75e+03     1s\n"
     ]
    },
    {
     "name": "stdout",
     "output_type": "stream",
     "text": [
      "  40   8.15207021e+09  8.17957152e+09  6.49e-05 2.06e-02  2.43e+03     1s\n"
     ]
    },
    {
     "name": "stderr",
     "output_type": "stream",
     "text": [
      "INFO:gurobipy:  40   8.15207021e+09  8.17957152e+09  6.49e-05 2.06e-02  2.43e+03     1s\n"
     ]
    },
    {
     "name": "stdout",
     "output_type": "stream",
     "text": [
      "  41   8.14275782e+09  8.17196501e+09  5.61e-05 1.89e-02  2.19e+03     1s\n"
     ]
    },
    {
     "name": "stderr",
     "output_type": "stream",
     "text": [
      "INFO:gurobipy:  41   8.14275782e+09  8.17196501e+09  5.61e-05 1.89e-02  2.19e+03     1s\n"
     ]
    },
    {
     "name": "stdout",
     "output_type": "stream",
     "text": [
      "  42   8.13852868e+09  8.17028538e+09  5.60e-05 1.85e-02  2.11e+03     1s\n"
     ]
    },
    {
     "name": "stderr",
     "output_type": "stream",
     "text": [
      "INFO:gurobipy:  42   8.13852868e+09  8.17028538e+09  5.60e-05 1.85e-02  2.11e+03     1s\n"
     ]
    },
    {
     "name": "stdout",
     "output_type": "stream",
     "text": [
      "  43   8.13584990e+09  8.16823869e+09  5.35e-05 1.80e-02  2.05e+03     1s\n"
     ]
    },
    {
     "name": "stderr",
     "output_type": "stream",
     "text": [
      "INFO:gurobipy:  43   8.13584990e+09  8.16823869e+09  5.35e-05 1.80e-02  2.05e+03     1s\n"
     ]
    },
    {
     "name": "stdout",
     "output_type": "stream",
     "text": [
      "  44   8.12881588e+09  8.16464609e+09  5.34e-05 1.73e-02  1.93e+03     1s\n"
     ]
    },
    {
     "name": "stderr",
     "output_type": "stream",
     "text": [
      "INFO:gurobipy:  44   8.12881588e+09  8.16464609e+09  5.34e-05 1.73e-02  1.93e+03     1s\n"
     ]
    },
    {
     "name": "stdout",
     "output_type": "stream",
     "text": [
      "  45   8.12662862e+09  8.14763119e+09  4.60e-05 1.35e-02  1.66e+03     1s\n"
     ]
    },
    {
     "name": "stderr",
     "output_type": "stream",
     "text": [
      "INFO:gurobipy:  45   8.12662862e+09  8.14763119e+09  4.60e-05 1.35e-02  1.66e+03     1s\n"
     ]
    },
    {
     "name": "stdout",
     "output_type": "stream",
     "text": [
      "  46   8.12191705e+09  8.14459338e+09  3.52e-05 1.28e-02  1.58e+03     1s\n"
     ]
    },
    {
     "name": "stderr",
     "output_type": "stream",
     "text": [
      "INFO:gurobipy:  46   8.12191705e+09  8.14459338e+09  3.52e-05 1.28e-02  1.58e+03     1s\n"
     ]
    },
    {
     "name": "stdout",
     "output_type": "stream",
     "text": [
      "  47   8.11894685e+09  8.13012328e+09  3.41e-05 9.76e-03  1.34e+03     1s\n"
     ]
    },
    {
     "name": "stderr",
     "output_type": "stream",
     "text": [
      "INFO:gurobipy:  47   8.11894685e+09  8.13012328e+09  3.41e-05 9.76e-03  1.34e+03     1s\n"
     ]
    },
    {
     "name": "stdout",
     "output_type": "stream",
     "text": [
      "  48   8.11335044e+09  8.12416182e+09  3.32e-05 8.57e-03  1.19e+03     1s\n"
     ]
    },
    {
     "name": "stderr",
     "output_type": "stream",
     "text": [
      "INFO:gurobipy:  48   8.11335044e+09  8.12416182e+09  3.32e-05 8.57e-03  1.19e+03     1s\n"
     ]
    },
    {
     "name": "stdout",
     "output_type": "stream",
     "text": [
      "  49   8.11172678e+09  8.11971165e+09  3.42e-05 7.69e-03  1.10e+03     1s\n"
     ]
    },
    {
     "name": "stderr",
     "output_type": "stream",
     "text": [
      "INFO:gurobipy:  49   8.11172678e+09  8.11971165e+09  3.42e-05 7.69e-03  1.10e+03     1s\n"
     ]
    },
    {
     "name": "stdout",
     "output_type": "stream",
     "text": [
      "  50   8.10748582e+09  8.11663580e+09  4.32e-05 7.10e-03  9.94e+02     1s\n"
     ]
    },
    {
     "name": "stderr",
     "output_type": "stream",
     "text": [
      "INFO:gurobipy:  50   8.10748582e+09  8.11663580e+09  4.32e-05 7.10e-03  9.94e+02     1s\n"
     ]
    },
    {
     "name": "stdout",
     "output_type": "stream",
     "text": [
      "  51   8.10464724e+09  8.11238843e+09  4.93e-05 6.28e-03  8.94e+02     1s\n"
     ]
    },
    {
     "name": "stderr",
     "output_type": "stream",
     "text": [
      "INFO:gurobipy:  51   8.10464724e+09  8.11238843e+09  4.93e-05 6.28e-03  8.94e+02     1s\n"
     ]
    },
    {
     "name": "stdout",
     "output_type": "stream",
     "text": [
      "  52   8.09913649e+09  8.10315767e+09  6.57e-05 4.68e-03  7.23e+02     1s\n"
     ]
    },
    {
     "name": "stderr",
     "output_type": "stream",
     "text": [
      "INFO:gurobipy:  52   8.09913649e+09  8.10315767e+09  6.57e-05 4.68e-03  7.23e+02     1s\n"
     ]
    },
    {
     "name": "stdout",
     "output_type": "stream",
     "text": [
      "  53   8.09508282e+09  8.10047343e+09  6.66e-05 4.21e-03  6.21e+02     1s\n"
     ]
    },
    {
     "name": "stderr",
     "output_type": "stream",
     "text": [
      "INFO:gurobipy:  53   8.09508282e+09  8.10047343e+09  6.66e-05 4.21e-03  6.21e+02     1s\n"
     ]
    },
    {
     "name": "stdout",
     "output_type": "stream",
     "text": [
      "  54   8.09011016e+09  8.09443169e+09  9.38e-05 3.09e-03  4.54e+02     1s\n"
     ]
    },
    {
     "name": "stderr",
     "output_type": "stream",
     "text": [
      "INFO:gurobipy:  54   8.09011016e+09  8.09443169e+09  9.38e-05 3.09e-03  4.54e+02     1s\n"
     ]
    },
    {
     "name": "stdout",
     "output_type": "stream",
     "text": [
      "  55   8.08563434e+09  8.08567117e+09  7.92e-05 1.50e-03  2.64e+02     1s\n"
     ]
    },
    {
     "name": "stderr",
     "output_type": "stream",
     "text": [
      "INFO:gurobipy:  55   8.08563434e+09  8.08567117e+09  7.92e-05 1.50e-03  2.64e+02     1s\n"
     ]
    },
    {
     "name": "stdout",
     "output_type": "stream",
     "text": [
      "  56   8.08204756e+09  8.08108345e+09  7.38e-05 6.20e-04  1.30e+02     2s\n"
     ]
    },
    {
     "name": "stderr",
     "output_type": "stream",
     "text": [
      "INFO:gurobipy:  56   8.08204756e+09  8.08108345e+09  7.38e-05 6.20e-04  1.30e+02     2s\n"
     ]
    },
    {
     "name": "stdout",
     "output_type": "stream",
     "text": [
      "  57   8.08068255e+09  8.07910222e+09  8.19e-05 2.22e-04  7.14e+01     2s\n"
     ]
    },
    {
     "name": "stderr",
     "output_type": "stream",
     "text": [
      "INFO:gurobipy:  57   8.08068255e+09  8.07910222e+09  8.19e-05 2.22e-04  7.14e+01     2s\n"
     ]
    },
    {
     "name": "stdout",
     "output_type": "stream",
     "text": [
      "  58   8.07958247e+09  8.07865553e+09  7.48e-05 1.27e-04  4.15e+01     2s\n"
     ]
    },
    {
     "name": "stderr",
     "output_type": "stream",
     "text": [
      "INFO:gurobipy:  58   8.07958247e+09  8.07865553e+09  7.48e-05 1.27e-04  4.15e+01     2s\n"
     ]
    },
    {
     "name": "stdout",
     "output_type": "stream",
     "text": [
      "  59   8.07851994e+09  8.07846840e+09  3.01e-04 8.06e-05  1.55e+01     2s\n"
     ]
    },
    {
     "name": "stderr",
     "output_type": "stream",
     "text": [
      "INFO:gurobipy:  59   8.07851994e+09  8.07846840e+09  3.01e-04 8.06e-05  1.55e+01     2s\n"
     ]
    },
    {
     "name": "stdout",
     "output_type": "stream",
     "text": [
      "  60   8.07826502e+09  8.07825805e+09  9.90e-05 3.43e-05  6.31e+00     2s\n"
     ]
    },
    {
     "name": "stderr",
     "output_type": "stream",
     "text": [
      "INFO:gurobipy:  60   8.07826502e+09  8.07825805e+09  9.90e-05 3.43e-05  6.31e+00     2s\n"
     ]
    },
    {
     "name": "stdout",
     "output_type": "stream",
     "text": [
      "  61   8.07822980e+09  8.07821918e+09  7.83e-05 2.32e-05  4.39e+00     2s\n"
     ]
    },
    {
     "name": "stderr",
     "output_type": "stream",
     "text": [
      "INFO:gurobipy:  61   8.07822980e+09  8.07821918e+09  7.83e-05 2.32e-05  4.39e+00     2s\n"
     ]
    },
    {
     "name": "stdout",
     "output_type": "stream",
     "text": [
      "  62   8.07813896e+09  8.07813252e+09  8.39e-06 4.47e-07  2.16e-01     2s\n"
     ]
    },
    {
     "name": "stderr",
     "output_type": "stream",
     "text": [
      "INFO:gurobipy:  62   8.07813896e+09  8.07813252e+09  8.39e-06 4.47e-07  2.16e-01     2s\n"
     ]
    },
    {
     "name": "stdout",
     "output_type": "stream",
     "text": [
      "  63   8.07813568e+09  8.07813567e+09  8.54e-07 2.56e-09  2.17e-04     2s\n"
     ]
    },
    {
     "name": "stderr",
     "output_type": "stream",
     "text": [
      "INFO:gurobipy:  63   8.07813568e+09  8.07813567e+09  8.54e-07 2.56e-09  2.17e-04     2s\n"
     ]
    },
    {
     "name": "stdout",
     "output_type": "stream",
     "text": [
      "  64   8.07813568e+09  8.07813568e+09  6.62e-07 1.88e-09  5.01e-07     2s\n"
     ]
    },
    {
     "name": "stderr",
     "output_type": "stream",
     "text": [
      "INFO:gurobipy:  64   8.07813568e+09  8.07813568e+09  6.62e-07 1.88e-09  5.01e-07     2s\n"
     ]
    },
    {
     "name": "stdout",
     "output_type": "stream",
     "text": [
      "  65   8.07813568e+09  8.07813568e+09  1.57e-08 1.75e-09  5.01e-10     2s\n"
     ]
    },
    {
     "name": "stderr",
     "output_type": "stream",
     "text": [
      "INFO:gurobipy:  65   8.07813568e+09  8.07813568e+09  1.57e-08 1.75e-09  5.01e-10     2s\n"
     ]
    },
    {
     "name": "stdout",
     "output_type": "stream",
     "text": [
      "\n"
     ]
    },
    {
     "name": "stderr",
     "output_type": "stream",
     "text": [
      "INFO:gurobipy:\n"
     ]
    },
    {
     "name": "stdout",
     "output_type": "stream",
     "text": [
      "Barrier solved model in 65 iterations and 1.71 seconds (1.00 work units)\n"
     ]
    },
    {
     "name": "stderr",
     "output_type": "stream",
     "text": [
      "INFO:gurobipy:Barrier solved model in 65 iterations and 1.71 seconds (1.00 work units)\n"
     ]
    },
    {
     "name": "stdout",
     "output_type": "stream",
     "text": [
      "Optimal objective 8.07813568e+09\n"
     ]
    },
    {
     "name": "stderr",
     "output_type": "stream",
     "text": [
      "INFO:gurobipy:Optimal objective 8.07813568e+09\n"
     ]
    },
    {
     "name": "stdout",
     "output_type": "stream",
     "text": [
      "\n"
     ]
    },
    {
     "name": "stderr",
     "output_type": "stream",
     "text": [
      "INFO:gurobipy:\n"
     ]
    },
    {
     "name": "stdout",
     "output_type": "stream",
     "text": [
      "Crossover log...\n"
     ]
    },
    {
     "name": "stderr",
     "output_type": "stream",
     "text": [
      "INFO:gurobipy:Crossover log...\n"
     ]
    },
    {
     "name": "stdout",
     "output_type": "stream",
     "text": [
      "\n"
     ]
    },
    {
     "name": "stderr",
     "output_type": "stream",
     "text": [
      "INFO:gurobipy:\n"
     ]
    },
    {
     "name": "stdout",
     "output_type": "stream",
     "text": [
      "     100 DPushes remaining with DInf 0.0000000e+00                 2s\n"
     ]
    },
    {
     "name": "stderr",
     "output_type": "stream",
     "text": [
      "INFO:gurobipy:     100 DPushes remaining with DInf 0.0000000e+00                 2s\n"
     ]
    },
    {
     "name": "stdout",
     "output_type": "stream",
     "text": [
      "       0 DPushes remaining with DInf 0.0000000e+00                 2s\n"
     ]
    },
    {
     "name": "stderr",
     "output_type": "stream",
     "text": [
      "INFO:gurobipy:       0 DPushes remaining with DInf 0.0000000e+00                 2s\n"
     ]
    },
    {
     "name": "stdout",
     "output_type": "stream",
     "text": [
      "\n"
     ]
    },
    {
     "name": "stderr",
     "output_type": "stream",
     "text": [
      "INFO:gurobipy:\n"
     ]
    },
    {
     "name": "stdout",
     "output_type": "stream",
     "text": [
      "    4274 PPushes remaining with PInf 0.0000000e+00                 2s\n"
     ]
    },
    {
     "name": "stderr",
     "output_type": "stream",
     "text": [
      "INFO:gurobipy:    4274 PPushes remaining with PInf 0.0000000e+00                 2s\n"
     ]
    },
    {
     "name": "stdout",
     "output_type": "stream",
     "text": [
      "       0 PPushes remaining with PInf 0.0000000e+00                 2s\n"
     ]
    },
    {
     "name": "stderr",
     "output_type": "stream",
     "text": [
      "INFO:gurobipy:       0 PPushes remaining with PInf 0.0000000e+00                 2s\n"
     ]
    },
    {
     "name": "stdout",
     "output_type": "stream",
     "text": [
      "\n"
     ]
    },
    {
     "name": "stderr",
     "output_type": "stream",
     "text": [
      "INFO:gurobipy:\n"
     ]
    },
    {
     "name": "stdout",
     "output_type": "stream",
     "text": [
      "  Push phase complete: Pinf 0.0000000e+00, Dinf 1.2338646e-09      2s\n"
     ]
    },
    {
     "name": "stderr",
     "output_type": "stream",
     "text": [
      "INFO:gurobipy:  Push phase complete: Pinf 0.0000000e+00, Dinf 1.2338646e-09      2s\n"
     ]
    },
    {
     "name": "stdout",
     "output_type": "stream",
     "text": [
      "\n"
     ]
    },
    {
     "name": "stderr",
     "output_type": "stream",
     "text": [
      "INFO:gurobipy:\n"
     ]
    },
    {
     "name": "stdout",
     "output_type": "stream",
     "text": [
      "\n"
     ]
    },
    {
     "name": "stderr",
     "output_type": "stream",
     "text": [
      "INFO:gurobipy:\n"
     ]
    },
    {
     "name": "stdout",
     "output_type": "stream",
     "text": [
      "Solved with barrier\n"
     ]
    },
    {
     "name": "stderr",
     "output_type": "stream",
     "text": [
      "INFO:gurobipy:Solved with barrier\n"
     ]
    },
    {
     "name": "stdout",
     "output_type": "stream",
     "text": [
      "Iteration    Objective       Primal Inf.    Dual Inf.      Time\n"
     ]
    },
    {
     "name": "stderr",
     "output_type": "stream",
     "text": [
      "INFO:gurobipy:Iteration    Objective       Primal Inf.    Dual Inf.      Time\n"
     ]
    },
    {
     "name": "stdout",
     "output_type": "stream",
     "text": [
      "    4377    8.0781357e+09   0.000000e+00   0.000000e+00      2s\n"
     ]
    },
    {
     "name": "stderr",
     "output_type": "stream",
     "text": [
      "INFO:gurobipy:    4377    8.0781357e+09   0.000000e+00   0.000000e+00      2s\n"
     ]
    },
    {
     "name": "stdout",
     "output_type": "stream",
     "text": [
      "\n"
     ]
    },
    {
     "name": "stderr",
     "output_type": "stream",
     "text": [
      "INFO:gurobipy:\n"
     ]
    },
    {
     "name": "stdout",
     "output_type": "stream",
     "text": [
      "Solved in 4377 iterations and 2.04 seconds (1.38 work units)\n"
     ]
    },
    {
     "name": "stderr",
     "output_type": "stream",
     "text": [
      "INFO:gurobipy:Solved in 4377 iterations and 2.04 seconds (1.38 work units)\n"
     ]
    },
    {
     "name": "stdout",
     "output_type": "stream",
     "text": [
      "Optimal objective  8.078135675e+09\n"
     ]
    },
    {
     "name": "stderr",
     "output_type": "stream",
     "text": [
      "INFO:gurobipy:Optimal objective  8.078135675e+09\n",
      "INFO:linopy.constants: Optimization successful: \n",
      "Status: ok\n",
      "Termination condition: optimal\n",
      "Solution: 29206 primals, 64246 duals\n",
      "Objective: 8.08e+09\n",
      "Solver model: available\n",
      "Solver message: 2\n",
      "\n",
      "INFO:pypsa.optimization.optimize:The shadow-prices of the constraints Generator-fix-p-lower, Generator-fix-p-upper, Generator-ext-p-lower, Generator-ext-p-upper, Link-ext-p-lower, Link-ext-p-upper, Store-ext-e-lower, Store-ext-e-upper, StorageUnit-ext-p_dispatch-lower, StorageUnit-ext-p_dispatch-upper, StorageUnit-ext-p_store-lower, StorageUnit-ext-p_store-upper, StorageUnit-ext-state_of_charge-lower, StorageUnit-ext-state_of_charge-upper, StorageUnit-energy_balance, Store-energy_balance were not assigned to the network.\n"
     ]
    },
    {
     "data": {
      "text/plain": [
       "('ok', 'optimal')"
      ]
     },
     "execution_count": 4,
     "metadata": {},
     "output_type": "execute_result"
    }
   ],
   "source": [
    "# Solve for cost optimality.\n",
    "n.optimize(solver_name=\"gurobi\")\n",
    "# n.export_to_netcdf(\"test.nc\")\n",
    "# n = pypsa.Network(\"test.nc\")"
   ]
  },
  {
   "cell_type": "code",
   "execution_count": 5,
   "metadata": {},
   "outputs": [],
   "source": [
    "# Import MGA functionalities\n",
    "from pypsa.optimization.mga import *\n",
    "\n",
    "# # Hack to load all functions from ../../pypsa/optimization/mga.py\n",
    "import sys\n",
    "sys.path.append(\"../../pypsa/optimization\")\n",
    "from mga import *\n",
    "\n",
    "from types import MethodType\n",
    "\n",
    "\n",
    "n.optimize._solve_single_direction = staticmethod(\n",
    "    OptimizationAbstractMGAMixin._solve_single_direction)\n",
    "\n",
    "n.optimize.optimize_mga_with_cache = MethodType(\n",
    "    OptimizationAbstractMGAMixin.optimize_mga_with_cache, n.optimize\n",
    ")\n",
    "n.optimize.optimize_mga_in_multiple_directions_cache = MethodType(\n",
    "    OptimizationAbstractMGAMixin.optimize_mga_in_multiple_directions_cache, n.optimize\n",
    ")\n"
   ]
  },
  {
   "cell_type": "code",
   "execution_count": 6,
   "metadata": {},
   "outputs": [],
   "source": [
    "directions = generate_directions_random([\"wind\", \"solar\"], 100, 0)\n",
    "dimensions = {\n",
    "    \"wind\": {\"Generator\": {\"p_nom\": {\"wind\": 1}}},\n",
    "    \"solar\": {\"Generator\": {\"p_nom\": {\"solar\": 1}}},\n",
    "}\n",
    "\n",
    "os.makedirs(\"cache_test\", exist_ok=True)"
   ]
  },
  {
   "cell_type": "code",
   "execution_count": 7,
   "metadata": {},
   "outputs": [
    {
     "name": "stdout",
     "output_type": "stream",
     "text": [
      "Hash value for MGA optimization: 29d6d223\n"
     ]
    },
    {
     "name": "stderr",
     "output_type": "stream",
     "text": [
      "INFO:pypsa.network.io:Imported network 'Model-Energy' has buses, carriers, generators, links, loads, storage_units, stores, sub_networks\n",
      "INFO:linopy.model: Solve problem using Gurobi solver\n",
      "INFO:linopy.io:Writing objective.\n",
      "Writing constraints.: 100%|\u001b[38;2;128;191;255m██████████\u001b[0m| 22/22 [00:00<00:00, 49.55it/s]\n",
      "Writing continuous variables.: 100%|\u001b[38;2;128;191;255m██████████\u001b[0m| 11/11 [00:00<00:00, 144.28it/s]\n",
      "INFO:linopy.io: Writing time: 0.53s\n"
     ]
    },
    {
     "name": "stdout",
     "output_type": "stream",
     "text": [
      "Set parameter TokenServer to value \"sophia1.hpc.ait.dtu.dk\"\n"
     ]
    },
    {
     "name": "stderr",
     "output_type": "stream",
     "text": [
      "INFO:gurobipy:Set parameter TokenServer to value \"sophia1.hpc.ait.dtu.dk\"\n"
     ]
    },
    {
     "name": "stdout",
     "output_type": "stream",
     "text": [
      "Read LP format model from file /tmp/linopy-problem-sl0qy1ro.lp\n"
     ]
    },
    {
     "name": "stderr",
     "output_type": "stream",
     "text": [
      "INFO:gurobipy:Read LP format model from file /tmp/linopy-problem-sl0qy1ro.lp\n"
     ]
    },
    {
     "name": "stdout",
     "output_type": "stream",
     "text": [
      "Reading time = 0.13 seconds\n"
     ]
    },
    {
     "name": "stderr",
     "output_type": "stream",
     "text": [
      "INFO:gurobipy:Reading time = 0.13 seconds\n"
     ]
    },
    {
     "name": "stdout",
     "output_type": "stream",
     "text": [
      "obj: 64247 rows, 29206 columns, 127070 nonzeros\n"
     ]
    },
    {
     "name": "stderr",
     "output_type": "stream",
     "text": [
      "INFO:gurobipy:obj: 64247 rows, 29206 columns, 127070 nonzeros\n"
     ]
    },
    {
     "name": "stdout",
     "output_type": "stream",
     "text": [
      "Gurobi Optimizer version 11.0.3 build v11.0.3rc0 (linux64 - \"CentOS Linux 7 (Core)\")\n"
     ]
    },
    {
     "name": "stderr",
     "output_type": "stream",
     "text": [
      "INFO:gurobipy:Gurobi Optimizer version 11.0.3 build v11.0.3rc0 (linux64 - \"CentOS Linux 7 (Core)\")\n"
     ]
    },
    {
     "name": "stdout",
     "output_type": "stream",
     "text": [
      "\n"
     ]
    },
    {
     "name": "stderr",
     "output_type": "stream",
     "text": [
      "INFO:gurobipy:\n"
     ]
    },
    {
     "name": "stdout",
     "output_type": "stream",
     "text": [
      "CPU model: AMD EPYC 7351 16-Core Processor, instruction set [SSE2|AVX|AVX2]\n"
     ]
    },
    {
     "name": "stderr",
     "output_type": "stream",
     "text": [
      "INFO:gurobipy:CPU model: AMD EPYC 7351 16-Core Processor, instruction set [SSE2|AVX|AVX2]\n"
     ]
    },
    {
     "name": "stdout",
     "output_type": "stream",
     "text": [
      "Thread count: 32 physical cores, 32 logical processors, using up to 32 threads\n"
     ]
    },
    {
     "name": "stderr",
     "output_type": "stream",
     "text": [
      "INFO:gurobipy:Thread count: 32 physical cores, 32 logical processors, using up to 32 threads\n"
     ]
    },
    {
     "name": "stdout",
     "output_type": "stream",
     "text": [
      "\n"
     ]
    },
    {
     "name": "stderr",
     "output_type": "stream",
     "text": [
      "INFO:gurobipy:\n"
     ]
    },
    {
     "name": "stdout",
     "output_type": "stream",
     "text": [
      "Optimize a model with 64247 rows, 29206 columns and 127070 nonzeros\n"
     ]
    },
    {
     "name": "stderr",
     "output_type": "stream",
     "text": [
      "INFO:gurobipy:Optimize a model with 64247 rows, 29206 columns and 127070 nonzeros\n"
     ]
    },
    {
     "name": "stdout",
     "output_type": "stream",
     "text": [
      "Model fingerprint: 0x0d9f044d\n"
     ]
    },
    {
     "name": "stderr",
     "output_type": "stream",
     "text": [
      "INFO:gurobipy:Model fingerprint: 0x0d9f044d\n"
     ]
    },
    {
     "name": "stdout",
     "output_type": "stream",
     "text": [
      "Coefficient statistics:\n"
     ]
    },
    {
     "name": "stderr",
     "output_type": "stream",
     "text": [
      "INFO:gurobipy:Coefficient statistics:\n"
     ]
    },
    {
     "name": "stdout",
     "output_type": "stream",
     "text": [
      "  Matrix range     [2e-04, 2e+05]\n"
     ]
    },
    {
     "name": "stderr",
     "output_type": "stream",
     "text": [
      "INFO:gurobipy:  Matrix range     [2e-04, 2e+05]\n"
     ]
    },
    {
     "name": "stdout",
     "output_type": "stream",
     "text": [
      "  Objective range  [2e-01, 1e+00]\n"
     ]
    },
    {
     "name": "stderr",
     "output_type": "stream",
     "text": [
      "INFO:gurobipy:  Objective range  [2e-01, 1e+00]\n"
     ]
    },
    {
     "name": "stdout",
     "output_type": "stream",
     "text": [
      "  Bounds range     [0e+00, 0e+00]\n"
     ]
    },
    {
     "name": "stderr",
     "output_type": "stream",
     "text": [
      "INFO:gurobipy:  Bounds range     [0e+00, 0e+00]\n"
     ]
    },
    {
     "name": "stdout",
     "output_type": "stream",
     "text": [
      "  RHS range        [5e+03, 8e+09]\n"
     ]
    },
    {
     "name": "stderr",
     "output_type": "stream",
     "text": [
      "INFO:gurobipy:  RHS range        [5e+03, 8e+09]\n"
     ]
    },
    {
     "name": "stdout",
     "output_type": "stream",
     "text": [
      "Warning: Model contains large rhs\n"
     ]
    },
    {
     "name": "stderr",
     "output_type": "stream",
     "text": [
      "INFO:gurobipy:Warning: Model contains large rhs\n"
     ]
    },
    {
     "name": "stdout",
     "output_type": "stream",
     "text": [
      "         Consider reformulating model or setting NumericFocus parameter\n"
     ]
    },
    {
     "name": "stderr",
     "output_type": "stream",
     "text": [
      "INFO:gurobipy:         Consider reformulating model or setting NumericFocus parameter\n"
     ]
    },
    {
     "name": "stdout",
     "output_type": "stream",
     "text": [
      "         to avoid numerical issues.\n"
     ]
    },
    {
     "name": "stderr",
     "output_type": "stream",
     "text": [
      "INFO:gurobipy:         to avoid numerical issues.\n"
     ]
    },
    {
     "name": "stdout",
     "output_type": "stream",
     "text": [
      "Presolve removed 33548 rows and 4342 columns\n"
     ]
    },
    {
     "name": "stderr",
     "output_type": "stream",
     "text": [
      "INFO:gurobipy:Presolve removed 33548 rows and 4342 columns\n"
     ]
    },
    {
     "name": "stdout",
     "output_type": "stream",
     "text": [
      "Presolve time: 0.07s\n"
     ]
    },
    {
     "name": "stderr",
     "output_type": "stream",
     "text": [
      "INFO:gurobipy:Presolve time: 0.07s\n"
     ]
    },
    {
     "name": "stdout",
     "output_type": "stream",
     "text": [
      "Presolved: 30699 rows, 24864 columns, 89180 nonzeros\n"
     ]
    },
    {
     "name": "stderr",
     "output_type": "stream",
     "text": [
      "INFO:gurobipy:Presolved: 30699 rows, 24864 columns, 89180 nonzeros\n"
     ]
    },
    {
     "name": "stdout",
     "output_type": "stream",
     "text": [
      "\n"
     ]
    },
    {
     "name": "stderr",
     "output_type": "stream",
     "text": [
      "INFO:gurobipy:\n"
     ]
    },
    {
     "name": "stdout",
     "output_type": "stream",
     "text": [
      "Concurrent LP optimizer: primal simplex, dual simplex, and barrier\n"
     ]
    },
    {
     "name": "stderr",
     "output_type": "stream",
     "text": [
      "INFO:gurobipy:Concurrent LP optimizer: primal simplex, dual simplex, and barrier\n"
     ]
    },
    {
     "name": "stdout",
     "output_type": "stream",
     "text": [
      "Showing barrier log only...\n"
     ]
    },
    {
     "name": "stderr",
     "output_type": "stream",
     "text": [
      "INFO:gurobipy:Showing barrier log only...\n"
     ]
    },
    {
     "name": "stdout",
     "output_type": "stream",
     "text": [
      "\n"
     ]
    },
    {
     "name": "stderr",
     "output_type": "stream",
     "text": [
      "INFO:gurobipy:\n"
     ]
    },
    {
     "name": "stdout",
     "output_type": "stream",
     "text": [
      "Ordering time: 0.02s\n"
     ]
    },
    {
     "name": "stderr",
     "output_type": "stream",
     "text": [
      "INFO:gurobipy:Ordering time: 0.02s\n"
     ]
    },
    {
     "name": "stdout",
     "output_type": "stream",
     "text": [
      "\n"
     ]
    },
    {
     "name": "stderr",
     "output_type": "stream",
     "text": [
      "INFO:gurobipy:\n"
     ]
    },
    {
     "name": "stdout",
     "output_type": "stream",
     "text": [
      "Barrier statistics:\n"
     ]
    },
    {
     "name": "stderr",
     "output_type": "stream",
     "text": [
      "INFO:gurobipy:Barrier statistics:\n"
     ]
    },
    {
     "name": "stdout",
     "output_type": "stream",
     "text": [
      " Dense cols : 6\n"
     ]
    },
    {
     "name": "stderr",
     "output_type": "stream",
     "text": [
      "INFO:gurobipy: Dense cols : 6\n"
     ]
    },
    {
     "name": "stdout",
     "output_type": "stream",
     "text": [
      " AA' NZ     : 7.600e+04\n"
     ]
    },
    {
     "name": "stderr",
     "output_type": "stream",
     "text": [
      "INFO:gurobipy: AA' NZ     : 7.600e+04\n"
     ]
    },
    {
     "name": "stdout",
     "output_type": "stream",
     "text": [
      " Factor NZ  : 5.146e+05 (roughly 27 MB of memory)\n"
     ]
    },
    {
     "name": "stderr",
     "output_type": "stream",
     "text": [
      "INFO:gurobipy: Factor NZ  : 5.146e+05 (roughly 27 MB of memory)\n"
     ]
    },
    {
     "name": "stdout",
     "output_type": "stream",
     "text": [
      " Factor Ops : 8.911e+06 (less than 1 second per iteration)\n"
     ]
    },
    {
     "name": "stderr",
     "output_type": "stream",
     "text": [
      "INFO:gurobipy: Factor Ops : 8.911e+06 (less than 1 second per iteration)\n"
     ]
    },
    {
     "name": "stdout",
     "output_type": "stream",
     "text": [
      " Threads    : 1\n"
     ]
    },
    {
     "name": "stderr",
     "output_type": "stream",
     "text": [
      "INFO:gurobipy: Threads    : 1\n"
     ]
    },
    {
     "name": "stdout",
     "output_type": "stream",
     "text": [
      "\n"
     ]
    },
    {
     "name": "stderr",
     "output_type": "stream",
     "text": [
      "INFO:gurobipy:\n"
     ]
    },
    {
     "name": "stdout",
     "output_type": "stream",
     "text": [
      "                  Objective                Residual\n"
     ]
    },
    {
     "name": "stderr",
     "output_type": "stream",
     "text": [
      "INFO:gurobipy:                  Objective                Residual\n"
     ]
    },
    {
     "name": "stdout",
     "output_type": "stream",
     "text": [
      "Iter       Primal          Dual         Primal    Dual     Compl     Time\n"
     ]
    },
    {
     "name": "stderr",
     "output_type": "stream",
     "text": [
      "INFO:gurobipy:Iter       Primal          Dual         Primal    Dual     Compl     Time\n"
     ]
    },
    {
     "name": "stdout",
     "output_type": "stream",
     "text": [
      "   0  -4.53438173e+04 -7.60462833e+06  8.29e+06 1.10e-02  7.01e+03     0s\n"
     ]
    },
    {
     "name": "stderr",
     "output_type": "stream",
     "text": [
      "INFO:gurobipy:   0  -4.53438173e+04 -7.60462833e+06  8.29e+06 1.10e-02  7.01e+03     0s\n"
     ]
    },
    {
     "name": "stdout",
     "output_type": "stream",
     "text": [
      "   1  -2.78757617e+05 -5.75804706e+06  1.65e+06 4.48e-02  2.83e+03     0s\n"
     ]
    },
    {
     "name": "stderr",
     "output_type": "stream",
     "text": [
      "INFO:gurobipy:   1  -2.78757617e+05 -5.75804706e+06  1.65e+06 4.48e-02  2.83e+03     0s\n"
     ]
    },
    {
     "name": "stdout",
     "output_type": "stream",
     "text": [
      "   2  -2.79438671e+05 -3.22862692e+06  9.01e+05 1.91e-02  1.26e+03     0s\n"
     ]
    },
    {
     "name": "stderr",
     "output_type": "stream",
     "text": [
      "INFO:gurobipy:   2  -2.79438671e+05 -3.22862692e+06  9.01e+05 1.91e-02  1.26e+03     0s\n"
     ]
    },
    {
     "name": "stdout",
     "output_type": "stream",
     "text": [
      "   3  -1.31615311e+05 -2.78267362e+06  4.33e+05 4.95e-03  4.53e+02     0s\n"
     ]
    },
    {
     "name": "stderr",
     "output_type": "stream",
     "text": [
      "INFO:gurobipy:   3  -1.31615311e+05 -2.78267362e+06  4.33e+05 4.95e-03  4.53e+02     0s\n"
     ]
    },
    {
     "name": "stdout",
     "output_type": "stream",
     "text": [
      "   4  -8.06670902e+04 -2.16579687e+06  1.89e+05 1.64e-03  1.89e+02     0s\n"
     ]
    },
    {
     "name": "stderr",
     "output_type": "stream",
     "text": [
      "INFO:gurobipy:   4  -8.06670902e+04 -2.16579687e+06  1.89e+05 1.64e-03  1.89e+02     0s\n"
     ]
    },
    {
     "name": "stdout",
     "output_type": "stream",
     "text": [
      "   5  -6.06535850e+04 -1.58627738e+06  8.72e+04 6.58e-04  8.84e+01     0s\n"
     ]
    },
    {
     "name": "stderr",
     "output_type": "stream",
     "text": [
      "INFO:gurobipy:   5  -6.06535850e+04 -1.58627738e+06  8.72e+04 6.58e-04  8.84e+01     0s\n"
     ]
    },
    {
     "name": "stdout",
     "output_type": "stream",
     "text": [
      "   6  -5.34877138e+04 -1.19633599e+06  4.98e+04 3.73e-04  5.26e+01     0s\n"
     ]
    },
    {
     "name": "stderr",
     "output_type": "stream",
     "text": [
      "INFO:gurobipy:   6  -5.34877138e+04 -1.19633599e+06  4.98e+04 3.73e-04  5.26e+01     0s\n"
     ]
    },
    {
     "name": "stdout",
     "output_type": "stream",
     "text": [
      "   7  -5.16367003e+04 -8.80811759e+05  4.00e+04 2.41e-04  3.70e+01     0s\n"
     ]
    },
    {
     "name": "stderr",
     "output_type": "stream",
     "text": [
      "INFO:gurobipy:   7  -5.16367003e+04 -8.80811759e+05  4.00e+04 2.41e-04  3.70e+01     0s\n"
     ]
    },
    {
     "name": "stdout",
     "output_type": "stream",
     "text": [
      "   8  -4.81786024e+04 -6.61064215e+05  2.73e+04 1.71e-04  2.60e+01     0s\n"
     ]
    },
    {
     "name": "stderr",
     "output_type": "stream",
     "text": [
      "INFO:gurobipy:   8  -4.81786024e+04 -6.61064215e+05  2.73e+04 1.71e-04  2.60e+01     0s\n"
     ]
    },
    {
     "name": "stdout",
     "output_type": "stream",
     "text": [
      "   9  -4.45362107e+04 -4.32877538e+05  1.63e+04 1.01e-04  1.57e+01     0s\n"
     ]
    },
    {
     "name": "stderr",
     "output_type": "stream",
     "text": [
      "INFO:gurobipy:   9  -4.45362107e+04 -4.32877538e+05  1.63e+04 1.01e-04  1.57e+01     0s\n"
     ]
    },
    {
     "name": "stdout",
     "output_type": "stream",
     "text": [
      "  10  -4.28638900e+04 -3.62975299e+05  1.16e+04 8.25e-05  1.24e+01     0s\n"
     ]
    },
    {
     "name": "stderr",
     "output_type": "stream",
     "text": [
      "INFO:gurobipy:  10  -4.28638900e+04 -3.62975299e+05  1.16e+04 8.25e-05  1.24e+01     0s\n"
     ]
    },
    {
     "name": "stdout",
     "output_type": "stream",
     "text": [
      "  11  -4.04907245e+04 -2.23433804e+05  6.42e+03 4.70e-05  7.07e+00     0s\n"
     ]
    },
    {
     "name": "stderr",
     "output_type": "stream",
     "text": [
      "INFO:gurobipy:  11  -4.04907245e+04 -2.23433804e+05  6.42e+03 4.70e-05  7.07e+00     0s\n"
     ]
    },
    {
     "name": "stdout",
     "output_type": "stream",
     "text": [
      "  12  -3.90577950e+04 -1.63671779e+05  4.50e+03 3.17e-05  4.83e+00     0s\n"
     ]
    },
    {
     "name": "stderr",
     "output_type": "stream",
     "text": [
      "INFO:gurobipy:  12  -3.90577950e+04 -1.63671779e+05  4.50e+03 3.17e-05  4.83e+00     0s\n"
     ]
    },
    {
     "name": "stdout",
     "output_type": "stream",
     "text": [
      "  13  -3.79077143e+04 -1.14527285e+05  3.18e+03 1.98e-05  3.09e+00     0s\n"
     ]
    },
    {
     "name": "stderr",
     "output_type": "stream",
     "text": [
      "INFO:gurobipy:  13  -3.79077143e+04 -1.14527285e+05  3.18e+03 1.98e-05  3.09e+00     0s\n"
     ]
    },
    {
     "name": "stdout",
     "output_type": "stream",
     "text": [
      "  14  -3.75800969e+04 -1.00692392e+05  1.81e+03 1.59e-05  2.36e+00     0s\n"
     ]
    },
    {
     "name": "stderr",
     "output_type": "stream",
     "text": [
      "INFO:gurobipy:  14  -3.75800969e+04 -1.00692392e+05  1.81e+03 1.59e-05  2.36e+00     0s\n"
     ]
    },
    {
     "name": "stdout",
     "output_type": "stream",
     "text": [
      "  15  -3.80465312e+04 -7.54392740e+04  1.11e+03 9.13e-06  1.36e+00     1s\n"
     ]
    },
    {
     "name": "stderr",
     "output_type": "stream",
     "text": [
      "INFO:gurobipy:  15  -3.80465312e+04 -7.54392740e+04  1.11e+03 9.13e-06  1.36e+00     1s\n"
     ]
    },
    {
     "name": "stdout",
     "output_type": "stream",
     "text": [
      "  16  -3.81859406e+04 -6.68892958e+04  9.29e+02 7.07e-06  1.04e+00     1s\n"
     ]
    },
    {
     "name": "stderr",
     "output_type": "stream",
     "text": [
      "INFO:gurobipy:  16  -3.81859406e+04 -6.68892958e+04  9.29e+02 7.07e-06  1.04e+00     1s\n"
     ]
    },
    {
     "name": "stdout",
     "output_type": "stream",
     "text": [
      "  17  -3.84193821e+04 -6.57973455e+04  7.57e+02 6.77e-06  9.87e-01     1s\n"
     ]
    },
    {
     "name": "stderr",
     "output_type": "stream",
     "text": [
      "INFO:gurobipy:  17  -3.84193821e+04 -6.57973455e+04  7.57e+02 6.77e-06  9.87e-01     1s\n"
     ]
    },
    {
     "name": "stdout",
     "output_type": "stream",
     "text": [
      "  18  -3.90318061e+04 -6.19098950e+04  4.86e+02 5.81e-06  8.19e-01     1s\n"
     ]
    },
    {
     "name": "stderr",
     "output_type": "stream",
     "text": [
      "INFO:gurobipy:  18  -3.90318061e+04 -6.19098950e+04  4.86e+02 5.81e-06  8.19e-01     1s\n"
     ]
    },
    {
     "name": "stdout",
     "output_type": "stream",
     "text": [
      "  19  -3.93930049e+04 -6.07238643e+04  3.86e+02 5.52e-06  7.64e-01     1s\n"
     ]
    },
    {
     "name": "stderr",
     "output_type": "stream",
     "text": [
      "INFO:gurobipy:  19  -3.93930049e+04 -6.07238643e+04  3.86e+02 5.52e-06  7.64e-01     1s\n"
     ]
    },
    {
     "name": "stdout",
     "output_type": "stream",
     "text": [
      "  20  -3.95926954e+04 -5.53448615e+04  3.15e+02 4.13e-06  5.66e-01     1s\n"
     ]
    },
    {
     "name": "stderr",
     "output_type": "stream",
     "text": [
      "INFO:gurobipy:  20  -3.95926954e+04 -5.53448615e+04  3.15e+02 4.13e-06  5.66e-01     1s\n"
     ]
    },
    {
     "name": "stdout",
     "output_type": "stream",
     "text": [
      "  21  -3.98566635e+04 -5.18844015e+04  2.58e+02 3.24e-06  4.37e-01     1s\n"
     ]
    },
    {
     "name": "stderr",
     "output_type": "stream",
     "text": [
      "INFO:gurobipy:  21  -3.98566635e+04 -5.18844015e+04  2.58e+02 3.24e-06  4.37e-01     1s\n"
     ]
    },
    {
     "name": "stdout",
     "output_type": "stream",
     "text": [
      "  22  -4.00596972e+04 -5.00627361e+04  2.22e+02 2.70e-06  3.62e-01     1s\n"
     ]
    },
    {
     "name": "stderr",
     "output_type": "stream",
     "text": [
      "INFO:gurobipy:  22  -4.00596972e+04 -5.00627361e+04  2.22e+02 2.70e-06  3.62e-01     1s\n"
     ]
    },
    {
     "name": "stdout",
     "output_type": "stream",
     "text": [
      "  23  -4.08474124e+04 -4.87770257e+04  1.55e+02 2.39e-06  3.04e-01     1s\n"
     ]
    },
    {
     "name": "stderr",
     "output_type": "stream",
     "text": [
      "INFO:gurobipy:  23  -4.08474124e+04 -4.87770257e+04  1.55e+02 2.39e-06  3.04e-01     1s\n"
     ]
    },
    {
     "name": "stdout",
     "output_type": "stream",
     "text": [
      "  24  -4.10088837e+04 -4.65883025e+04  1.39e+02 1.77e-06  2.18e-01     1s\n"
     ]
    },
    {
     "name": "stderr",
     "output_type": "stream",
     "text": [
      "INFO:gurobipy:  24  -4.10088837e+04 -4.65883025e+04  1.39e+02 1.77e-06  2.18e-01     1s\n"
     ]
    },
    {
     "name": "stdout",
     "output_type": "stream",
     "text": [
      "  25  -4.14979497e+04 -4.63933190e+04  1.05e+02 1.72e-06  2.02e-01     1s\n"
     ]
    },
    {
     "name": "stderr",
     "output_type": "stream",
     "text": [
      "INFO:gurobipy:  25  -4.14979497e+04 -4.63933190e+04  1.05e+02 1.72e-06  2.02e-01     1s\n"
     ]
    },
    {
     "name": "stdout",
     "output_type": "stream",
     "text": [
      "  26  -4.16186241e+04 -4.57904321e+04  9.77e+01 1.53e-06  1.74e-01     1s\n"
     ]
    },
    {
     "name": "stderr",
     "output_type": "stream",
     "text": [
      "INFO:gurobipy:  26  -4.16186241e+04 -4.57904321e+04  9.77e+01 1.53e-06  1.74e-01     1s\n"
     ]
    },
    {
     "name": "stdout",
     "output_type": "stream",
     "text": [
      "  27  -4.20199923e+04 -4.56258980e+04  7.17e+01 1.47e-06  1.60e-01     1s\n"
     ]
    },
    {
     "name": "stderr",
     "output_type": "stream",
     "text": [
      "INFO:gurobipy:  27  -4.20199923e+04 -4.56258980e+04  7.17e+01 1.47e-06  1.60e-01     1s\n"
     ]
    },
    {
     "name": "stdout",
     "output_type": "stream",
     "text": [
      "  28  -4.21478096e+04 -4.53951232e+04  6.50e+01 1.40e-06  1.48e-01     1s\n"
     ]
    },
    {
     "name": "stderr",
     "output_type": "stream",
     "text": [
      "INFO:gurobipy:  28  -4.21478096e+04 -4.53951232e+04  6.50e+01 1.40e-06  1.48e-01     1s\n"
     ]
    },
    {
     "name": "stdout",
     "output_type": "stream",
     "text": [
      "  29  -4.22559521e+04 -4.51572997e+04  6.00e+01 1.30e-06  1.35e-01     1s\n"
     ]
    },
    {
     "name": "stderr",
     "output_type": "stream",
     "text": [
      "INFO:gurobipy:  29  -4.22559521e+04 -4.51572997e+04  6.00e+01 1.30e-06  1.35e-01     1s\n"
     ]
    },
    {
     "name": "stdout",
     "output_type": "stream",
     "text": [
      "  30  -4.23061759e+04 -4.50291781e+04  5.29e+01 1.24e-06  1.27e-01     1s\n"
     ]
    },
    {
     "name": "stderr",
     "output_type": "stream",
     "text": [
      "INFO:gurobipy:  30  -4.23061759e+04 -4.50291781e+04  5.29e+01 1.24e-06  1.27e-01     1s\n"
     ]
    },
    {
     "name": "stdout",
     "output_type": "stream",
     "text": [
      "  31  -4.25593007e+04 -4.46348707e+04  3.81e+01 1.09e-06  1.03e-01     1s\n"
     ]
    },
    {
     "name": "stderr",
     "output_type": "stream",
     "text": [
      "INFO:gurobipy:  31  -4.25593007e+04 -4.46348707e+04  3.81e+01 1.09e-06  1.03e-01     1s\n"
     ]
    },
    {
     "name": "stdout",
     "output_type": "stream",
     "text": [
      "  32  -4.27354915e+04 -4.45284990e+04  2.93e+01 1.03e-06  9.41e-02     1s\n"
     ]
    },
    {
     "name": "stderr",
     "output_type": "stream",
     "text": [
      "INFO:gurobipy:  32  -4.27354915e+04 -4.45284990e+04  2.93e+01 1.03e-06  9.41e-02     1s\n"
     ]
    },
    {
     "name": "stdout",
     "output_type": "stream",
     "text": [
      "  33  -4.29067262e+04 -4.42584579e+04  2.35e+01 8.95e-07  7.68e-02     1s\n"
     ]
    },
    {
     "name": "stderr",
     "output_type": "stream",
     "text": [
      "INFO:gurobipy:  33  -4.29067262e+04 -4.42584579e+04  2.35e+01 8.95e-07  7.68e-02     1s\n"
     ]
    },
    {
     "name": "stdout",
     "output_type": "stream",
     "text": [
      "  34  -4.29407873e+04 -4.40939616e+04  2.19e+01 7.97e-07  6.69e-02     1s\n"
     ]
    },
    {
     "name": "stderr",
     "output_type": "stream",
     "text": [
      "INFO:gurobipy:  34  -4.29407873e+04 -4.40939616e+04  2.19e+01 7.97e-07  6.69e-02     1s\n"
     ]
    },
    {
     "name": "stdout",
     "output_type": "stream",
     "text": [
      "  35  -4.29423297e+04 -4.40592268e+04  2.18e+01 7.70e-07  6.46e-02     1s\n"
     ]
    },
    {
     "name": "stderr",
     "output_type": "stream",
     "text": [
      "INFO:gurobipy:  35  -4.29423297e+04 -4.40592268e+04  2.18e+01 7.70e-07  6.46e-02     1s\n"
     ]
    },
    {
     "name": "stdout",
     "output_type": "stream",
     "text": [
      "  36  -4.30070744e+04 -4.38704702e+04  1.85e+01 6.33e-07  5.17e-02     1s\n"
     ]
    },
    {
     "name": "stderr",
     "output_type": "stream",
     "text": [
      "INFO:gurobipy:  36  -4.30070744e+04 -4.38704702e+04  1.85e+01 6.33e-07  5.17e-02     1s\n"
     ]
    },
    {
     "name": "stdout",
     "output_type": "stream",
     "text": [
      "  37  -4.31162890e+04 -4.37908132e+04  1.21e+01 5.52e-07  4.32e-02     1s\n"
     ]
    },
    {
     "name": "stderr",
     "output_type": "stream",
     "text": [
      "INFO:gurobipy:  37  -4.31162890e+04 -4.37908132e+04  1.21e+01 5.52e-07  4.32e-02     1s\n"
     ]
    },
    {
     "name": "stdout",
     "output_type": "stream",
     "text": [
      "  38  -4.31569234e+04 -4.37562431e+04  1.06e+01 5.30e-07  4.03e-02     1s\n"
     ]
    },
    {
     "name": "stderr",
     "output_type": "stream",
     "text": [
      "INFO:gurobipy:  38  -4.31569234e+04 -4.37562431e+04  1.06e+01 5.30e-07  4.03e-02     1s\n"
     ]
    },
    {
     "name": "stdout",
     "output_type": "stream",
     "text": [
      "  39  -4.31914154e+04 -4.36677745e+04  8.84e+00 4.45e-07  3.31e-02     1s\n"
     ]
    },
    {
     "name": "stderr",
     "output_type": "stream",
     "text": [
      "INFO:gurobipy:  39  -4.31914154e+04 -4.36677745e+04  8.84e+00 4.45e-07  3.31e-02     1s\n"
     ]
    },
    {
     "name": "stdout",
     "output_type": "stream",
     "text": [
      "  40  -4.32276111e+04 -4.36394107e+04  6.86e+00 3.92e-07  2.90e-02     1s\n"
     ]
    },
    {
     "name": "stderr",
     "output_type": "stream",
     "text": [
      "INFO:gurobipy:  40  -4.32276111e+04 -4.36394107e+04  6.86e+00 3.92e-07  2.90e-02     1s\n"
     ]
    },
    {
     "name": "stdout",
     "output_type": "stream",
     "text": [
      "  41  -4.32932802e+04 -4.35774578e+04  3.54e+00 2.87e-07  2.09e-02     1s\n"
     ]
    },
    {
     "name": "stderr",
     "output_type": "stream",
     "text": [
      "INFO:gurobipy:  41  -4.32932802e+04 -4.35774578e+04  3.54e+00 2.87e-07  2.09e-02     1s\n"
     ]
    },
    {
     "name": "stdout",
     "output_type": "stream",
     "text": [
      "  42  -4.33369309e+04 -4.35301201e+04  1.73e+00 2.56e-07  1.71e-02     1s\n"
     ]
    },
    {
     "name": "stderr",
     "output_type": "stream",
     "text": [
      "INFO:gurobipy:  42  -4.33369309e+04 -4.35301201e+04  1.73e+00 2.56e-07  1.71e-02     1s\n"
     ]
    },
    {
     "name": "stdout",
     "output_type": "stream",
     "text": [
      "  43  -4.33554510e+04 -4.35117724e+04  1.05e+00 2.38e-07  1.52e-02     1s\n"
     ]
    },
    {
     "name": "stderr",
     "output_type": "stream",
     "text": [
      "INFO:gurobipy:  43  -4.33554510e+04 -4.35117724e+04  1.05e+00 2.38e-07  1.52e-02     1s\n"
     ]
    },
    {
     "name": "stdout",
     "output_type": "stream",
     "text": [
      "  44  -4.33584456e+04 -4.35055177e+04  9.49e-01 2.30e-07  1.46e-02     1s\n"
     ]
    },
    {
     "name": "stderr",
     "output_type": "stream",
     "text": [
      "INFO:gurobipy:  44  -4.33584456e+04 -4.35055177e+04  9.49e-01 2.30e-07  1.46e-02     1s\n"
     ]
    },
    {
     "name": "stdout",
     "output_type": "stream",
     "text": [
      "  45  -4.33605970e+04 -4.34791746e+04  7.52e-01 1.89e-07  1.18e-02     1s\n"
     ]
    },
    {
     "name": "stderr",
     "output_type": "stream",
     "text": [
      "INFO:gurobipy:  45  -4.33605970e+04 -4.34791746e+04  7.52e-01 1.89e-07  1.18e-02     1s\n"
     ]
    },
    {
     "name": "stdout",
     "output_type": "stream",
     "text": [
      "  46  -4.33638487e+04 -4.34720343e+04  6.17e-01 1.78e-07  1.11e-02     1s\n"
     ]
    },
    {
     "name": "stderr",
     "output_type": "stream",
     "text": [
      "INFO:gurobipy:  46  -4.33638487e+04 -4.34720343e+04  6.17e-01 1.78e-07  1.11e-02     1s\n"
     ]
    },
    {
     "name": "stdout",
     "output_type": "stream",
     "text": [
      "  47  -4.33668198e+04 -4.34259115e+04  4.88e-01 1.28e-07  7.23e-03     1s\n"
     ]
    },
    {
     "name": "stderr",
     "output_type": "stream",
     "text": [
      "INFO:gurobipy:  47  -4.33668198e+04 -4.34259115e+04  4.88e-01 1.28e-07  7.23e-03     1s\n"
     ]
    },
    {
     "name": "stdout",
     "output_type": "stream",
     "text": [
      "  48  -4.33720010e+04 -4.33895353e+04  3.72e-01 9.81e-08  4.44e-03     1s\n"
     ]
    },
    {
     "name": "stderr",
     "output_type": "stream",
     "text": [
      "INFO:gurobipy:  48  -4.33720010e+04 -4.33895353e+04  3.72e-01 9.81e-08  4.44e-03     1s\n"
     ]
    },
    {
     "name": "stdout",
     "output_type": "stream",
     "text": [
      "  49  -4.33806464e+04 -4.33872789e+04  1.31e-01 7.04e-08  3.04e-03     1s\n"
     ]
    },
    {
     "name": "stderr",
     "output_type": "stream",
     "text": [
      "INFO:gurobipy:  49  -4.33806464e+04 -4.33872789e+04  1.31e-01 7.04e-08  3.04e-03     1s\n"
     ]
    },
    {
     "name": "stdout",
     "output_type": "stream",
     "text": [
      "  50  -4.33825220e+04 -4.33823715e+04  9.19e-02 3.49e-08  1.38e-03     1s\n"
     ]
    },
    {
     "name": "stderr",
     "output_type": "stream",
     "text": [
      "INFO:gurobipy:  50  -4.33825220e+04 -4.33823715e+04  9.19e-02 3.49e-08  1.38e-03     1s\n"
     ]
    },
    {
     "name": "stdout",
     "output_type": "stream",
     "text": [
      "  51  -4.33860036e+04 -4.33833810e+04  2.89e-03 2.25e-08  8.28e-04     1s\n"
     ]
    },
    {
     "name": "stderr",
     "output_type": "stream",
     "text": [
      "INFO:gurobipy:  51  -4.33860036e+04 -4.33833810e+04  2.89e-03 2.25e-08  8.28e-04     1s\n"
     ]
    },
    {
     "name": "stdout",
     "output_type": "stream",
     "text": [
      "  52  -4.33862492e+04 -4.33764278e+04  2.11e-03 2.12e-08  5.74e-04     1s\n"
     ]
    },
    {
     "name": "stderr",
     "output_type": "stream",
     "text": [
      "INFO:gurobipy:  52  -4.33862492e+04 -4.33764278e+04  2.11e-03 2.12e-08  5.74e-04     1s\n"
     ]
    },
    {
     "name": "stdout",
     "output_type": "stream",
     "text": [
      "  53  -4.33863316e+04 -4.33743490e+04  1.83e-03 2.26e-08  5.67e-04     1s\n"
     ]
    },
    {
     "name": "stderr",
     "output_type": "stream",
     "text": [
      "INFO:gurobipy:  53  -4.33863316e+04 -4.33743490e+04  1.83e-03 2.26e-08  5.67e-04     1s\n"
     ]
    },
    {
     "name": "stdout",
     "output_type": "stream",
     "text": [
      "  54  -4.33866295e+04 -4.33596326e+04  6.52e-04 2.15e-08  1.01e-04     1s\n"
     ]
    },
    {
     "name": "stderr",
     "output_type": "stream",
     "text": [
      "INFO:gurobipy:  54  -4.33866295e+04 -4.33596326e+04  6.52e-04 2.15e-08  1.01e-04     1s\n"
     ]
    },
    {
     "name": "stdout",
     "output_type": "stream",
     "text": [
      "  55  -4.33869373e+04 -4.33869023e+04  2.85e-07 2.70e-11  1.60e-07     1s\n"
     ]
    },
    {
     "name": "stderr",
     "output_type": "stream",
     "text": [
      "INFO:gurobipy:  55  -4.33869373e+04 -4.33869023e+04  2.85e-07 2.70e-11  1.60e-07     1s\n"
     ]
    },
    {
     "name": "stdout",
     "output_type": "stream",
     "text": [
      "  56  -4.33869403e+04 -4.33867121e+04  3.24e-09 1.67e-10  1.22e-08     1s\n"
     ]
    },
    {
     "name": "stderr",
     "output_type": "stream",
     "text": [
      "INFO:gurobipy:  56  -4.33869403e+04 -4.33867121e+04  3.24e-09 1.67e-10  1.22e-08     1s\n"
     ]
    },
    {
     "name": "stdout",
     "output_type": "stream",
     "text": [
      "  57  -4.33869404e+04 -4.33869382e+04  6.66e-09 4.23e-11  3.48e-12     1s\n"
     ]
    },
    {
     "name": "stderr",
     "output_type": "stream",
     "text": [
      "INFO:gurobipy:  57  -4.33869404e+04 -4.33869382e+04  6.66e-09 4.23e-11  3.48e-12     1s\n"
     ]
    },
    {
     "name": "stdout",
     "output_type": "stream",
     "text": [
      "\n"
     ]
    },
    {
     "name": "stderr",
     "output_type": "stream",
     "text": [
      "INFO:gurobipy:\n"
     ]
    },
    {
     "name": "stdout",
     "output_type": "stream",
     "text": [
      "Barrier solved model in 57 iterations and 1.49 seconds (0.91 work units)\n"
     ]
    },
    {
     "name": "stderr",
     "output_type": "stream",
     "text": [
      "INFO:gurobipy:Barrier solved model in 57 iterations and 1.49 seconds (0.91 work units)\n"
     ]
    },
    {
     "name": "stdout",
     "output_type": "stream",
     "text": [
      "Optimal objective -4.33869404e+04\n"
     ]
    },
    {
     "name": "stderr",
     "output_type": "stream",
     "text": [
      "INFO:gurobipy:Optimal objective -4.33869404e+04\n"
     ]
    },
    {
     "name": "stdout",
     "output_type": "stream",
     "text": [
      "\n"
     ]
    },
    {
     "name": "stderr",
     "output_type": "stream",
     "text": [
      "INFO:gurobipy:\n"
     ]
    },
    {
     "name": "stdout",
     "output_type": "stream",
     "text": [
      "Crossover log...\n"
     ]
    },
    {
     "name": "stderr",
     "output_type": "stream",
     "text": [
      "INFO:gurobipy:Crossover log...\n"
     ]
    },
    {
     "name": "stdout",
     "output_type": "stream",
     "text": [
      "\n"
     ]
    },
    {
     "name": "stderr",
     "output_type": "stream",
     "text": [
      "INFO:gurobipy:\n"
     ]
    },
    {
     "name": "stdout",
     "output_type": "stream",
     "text": [
      "      41 DPushes remaining with DInf 0.0000000e+00                 2s\n"
     ]
    },
    {
     "name": "stderr",
     "output_type": "stream",
     "text": [
      "INFO:gurobipy:      41 DPushes remaining with DInf 0.0000000e+00                 2s\n"
     ]
    },
    {
     "name": "stdout",
     "output_type": "stream",
     "text": [
      "       0 DPushes remaining with DInf 0.0000000e+00                 2s\n"
     ]
    },
    {
     "name": "stderr",
     "output_type": "stream",
     "text": [
      "INFO:gurobipy:       0 DPushes remaining with DInf 0.0000000e+00                 2s\n"
     ]
    },
    {
     "name": "stdout",
     "output_type": "stream",
     "text": [
      "\n"
     ]
    },
    {
     "name": "stderr",
     "output_type": "stream",
     "text": [
      "INFO:gurobipy:\n"
     ]
    },
    {
     "name": "stdout",
     "output_type": "stream",
     "text": [
      "    5293 PPushes remaining with PInf 0.0000000e+00                 2s\n"
     ]
    },
    {
     "name": "stderr",
     "output_type": "stream",
     "text": [
      "INFO:gurobipy:    5293 PPushes remaining with PInf 0.0000000e+00                 2s\n"
     ]
    },
    {
     "name": "stdout",
     "output_type": "stream",
     "text": [
      "       0 PPushes remaining with PInf 0.0000000e+00                 2s\n"
     ]
    },
    {
     "name": "stderr",
     "output_type": "stream",
     "text": [
      "INFO:gurobipy:       0 PPushes remaining with PInf 0.0000000e+00                 2s\n"
     ]
    },
    {
     "name": "stdout",
     "output_type": "stream",
     "text": [
      "\n"
     ]
    },
    {
     "name": "stderr",
     "output_type": "stream",
     "text": [
      "INFO:gurobipy:\n"
     ]
    },
    {
     "name": "stdout",
     "output_type": "stream",
     "text": [
      "  Push phase complete: Pinf 0.0000000e+00, Dinf 9.7563559e-15      2s\n"
     ]
    },
    {
     "name": "stderr",
     "output_type": "stream",
     "text": [
      "INFO:gurobipy:  Push phase complete: Pinf 0.0000000e+00, Dinf 9.7563559e-15      2s\n"
     ]
    },
    {
     "name": "stdout",
     "output_type": "stream",
     "text": [
      "\n"
     ]
    },
    {
     "name": "stderr",
     "output_type": "stream",
     "text": [
      "INFO:gurobipy:\n"
     ]
    },
    {
     "name": "stdout",
     "output_type": "stream",
     "text": [
      "\n"
     ]
    },
    {
     "name": "stderr",
     "output_type": "stream",
     "text": [
      "INFO:gurobipy:\n"
     ]
    },
    {
     "name": "stdout",
     "output_type": "stream",
     "text": [
      "Solved with barrier\n"
     ]
    },
    {
     "name": "stderr",
     "output_type": "stream",
     "text": [
      "INFO:gurobipy:Solved with barrier\n"
     ]
    },
    {
     "name": "stdout",
     "output_type": "stream",
     "text": [
      "Iteration    Objective       Primal Inf.    Dual Inf.      Time\n"
     ]
    },
    {
     "name": "stderr",
     "output_type": "stream",
     "text": [
      "INFO:gurobipy:Iteration    Objective       Primal Inf.    Dual Inf.      Time\n"
     ]
    },
    {
     "name": "stdout",
     "output_type": "stream",
     "text": [
      "    5337   -4.3386940e+04   0.000000e+00   0.000000e+00      2s\n"
     ]
    },
    {
     "name": "stderr",
     "output_type": "stream",
     "text": [
      "INFO:gurobipy:    5337   -4.3386940e+04   0.000000e+00   0.000000e+00      2s\n"
     ]
    },
    {
     "name": "stdout",
     "output_type": "stream",
     "text": [
      "\n"
     ]
    },
    {
     "name": "stderr",
     "output_type": "stream",
     "text": [
      "INFO:gurobipy:\n"
     ]
    },
    {
     "name": "stdout",
     "output_type": "stream",
     "text": [
      "Solved in 5337 iterations and 1.83 seconds (1.36 work units)\n"
     ]
    },
    {
     "name": "stderr",
     "output_type": "stream",
     "text": [
      "INFO:gurobipy:Solved in 5337 iterations and 1.83 seconds (1.36 work units)\n"
     ]
    },
    {
     "name": "stdout",
     "output_type": "stream",
     "text": [
      "Optimal objective -4.338694036e+04\n"
     ]
    },
    {
     "name": "stderr",
     "output_type": "stream",
     "text": [
      "INFO:gurobipy:Optimal objective -4.338694036e+04\n",
      "INFO:linopy.constants: Optimization successful: \n",
      "Status: ok\n",
      "Termination condition: optimal\n",
      "Solution: 29206 primals, 64247 duals\n",
      "Objective: -4.34e+04\n",
      "Solver model: available\n",
      "Solver message: 2\n",
      "\n",
      "INFO:pypsa.optimization.optimize:The shadow-prices of the constraints Generator-fix-p-lower, Generator-fix-p-upper, Generator-ext-p-lower, Generator-ext-p-upper, Link-ext-p-lower, Link-ext-p-upper, Store-ext-e-lower, Store-ext-e-upper, StorageUnit-ext-p_dispatch-lower, StorageUnit-ext-p_dispatch-upper, StorageUnit-ext-p_store-lower, StorageUnit-ext-p_store-upper, StorageUnit-ext-state_of_charge-lower, StorageUnit-ext-state_of_charge-upper, StorageUnit-energy_balance, Store-energy_balance, budget were not assigned to the network.\n"
     ]
    },
    {
     "data": {
      "text/plain": [
       "({'wind': 0.2212195821529499, 'solar': 0.975224023736123},\n",
       " wind     28075.310873\n",
       " solar    38120.607074\n",
       " dtype: float64)"
      ]
     },
     "execution_count": 7,
     "metadata": {},
     "output_type": "execute_result"
    }
   ],
   "source": [
    "n.optimize._solve_single_direction(\n",
    "    \"test.nc\",\n",
    "    direction=directions.iloc[0].to_dict(),\n",
    "    dimensions=dimensions,\n",
    "    cache_key=hash_mga(\n",
    "        n, directions, dimensions, slack=0.02\n",
    "    ),\n",
    "    cache_dir=\"cache_test\",\n",
    "    snapshots=None,\n",
    "    multi_investment_periods=False,\n",
    "    slack=0.02,\n",
    "    model_kwargs=None,\n",
    "    kwargs={\"solver_name\": \"gurobi\"}\n",
    ")"
   ]
  },
  {
   "cell_type": "code",
   "execution_count": 8,
   "metadata": {},
   "outputs": [
    {
     "name": "stdout",
     "output_type": "stream",
     "text": [
      "Hash value for MGA optimization: 29acffb3\n",
      "Found cached results for 5 directions.\n",
      "Found cached results for 5 directions.\n",
      "All directions already cached. Returning cached results.\n"
     ]
    },
    {
     "data": {
      "text/plain": [
       "(       wind     solar\n",
       " 0  0.221220  0.975224\n",
       " 1  0.916405  0.400251\n",
       " 2 -0.463647  0.886020\n",
       " 3 -0.157325  0.987547\n",
       " 4  0.969825 -0.243801,\n",
       "            wind         solar\n",
       " 0  28075.310873  38120.607074\n",
       " 1  41337.746255  22393.533509\n",
       " 2  26149.421228  38021.574967\n",
       " 3  26706.724213  38216.272775\n",
       " 4  42028.516322  18488.386539)"
      ]
     },
     "execution_count": 8,
     "metadata": {},
     "output_type": "execute_result"
    }
   ],
   "source": [
    "n.optimize.optimize_mga_in_multiple_directions_cache(\n",
    "    directions=directions[:5], dimensions=dimensions, cache_dir=\"cache_test\", snapshots=None, slack=0.02, solver_name=\"gurobi\",\n",
    ")"
   ]
  },
  {
   "cell_type": "code",
   "execution_count": 9,
   "metadata": {},
   "outputs": [
    {
     "name": "stdout",
     "output_type": "stream",
     "text": [
      "Hash value for MGA optimization: 29acffb3\n",
      "Found cached results for 5 directions.\n",
      "Found cached results for 5 directions.\n",
      "All directions already cached. Returning cached results.\n"
     ]
    },
    {
     "data": {
      "text/plain": [
       "(       wind     solar\n",
       " 0  0.221220  0.975224\n",
       " 1  0.916405  0.400251\n",
       " 2 -0.463647  0.886020\n",
       " 3 -0.157325  0.987547\n",
       " 4  0.969825 -0.243801,\n",
       "            wind         solar\n",
       " 0  28075.310873  38120.607074\n",
       " 1  41337.746255  22393.533509\n",
       " 2  26149.421228  38021.574967\n",
       " 3  26706.724213  38216.272775\n",
       " 4  42028.516322  18488.386539)"
      ]
     },
     "execution_count": 9,
     "metadata": {},
     "output_type": "execute_result"
    }
   ],
   "source": [
    "n.optimize.optimize_mga_in_multiple_directions_cache(\n",
    "    directions=directions[:5], dimensions=dimensions, cache_dir=\"cache_test\", snapshots=None, slack=0.02, solver_name=\"gurobi\",\n",
    ")"
   ]
  },
  {
   "cell_type": "code",
   "execution_count": 10,
   "metadata": {},
   "outputs": [
    {
     "name": "stdout",
     "output_type": "stream",
     "text": [
      "No cache directory provided. Running optimizations without caching.\n"
     ]
    },
    {
     "name": "stderr",
     "output_type": "stream",
     "text": [
      "INFO:pypsa.network.io:Exported network 'Model-Energy' saved to '/tmp/tmpi07y71uu.nc contains: stores, buses, links, sub_networks, storage_units, generators, carriers, loads\n",
      "Writing constraints.: 100%|\u001b[38;2;128;191;255m██████████\u001b[0m| 22/22 [00:00<00:00, 49.51it/s]\n",
      "Writing constraints.: 100%|\u001b[38;2;128;191;255m██████████\u001b[0m| 22/22 [00:00<00:00, 49.46it/s]\n",
      "Writing constraints.: 100%|\u001b[38;2;128;191;255m██████████\u001b[0m| 22/22 [00:00<00:00, 49.32it/s]\n",
      "Writing constraints.: 100%|\u001b[38;2;128;191;255m██████████\u001b[0m| 22/22 [00:00<00:00, 48.32it/s]\n",
      "Writing continuous variables.: 100%|\u001b[38;2;128;191;255m██████████\u001b[0m| 11/11 [00:00<00:00, 148.90it/s]\n",
      "Writing continuous variables.: 100%|\u001b[38;2;128;191;255m██████████\u001b[0m| 11/11 [00:00<00:00, 148.06it/s]\n",
      "Writing continuous variables.: 100%|\u001b[38;2;128;191;255m██████████\u001b[0m| 11/11 [00:00<00:00, 147.91it/s]\n",
      "Writing continuous variables.: 100%|\u001b[38;2;128;191;255m██████████\u001b[0m| 11/11 [00:00<00:00, 146.74it/s]\n"
     ]
    },
    {
     "name": "stdout",
     "output_type": "stream",
     "text": [
      "Set parameter TokenServer to value \"sophia1.hpc.ait.dtu.dk\"\n",
      "Set parameter TokenServer to value \"sophia1.hpc.ait.dtu.dk\"\n",
      "Set parameter TokenServer to value \"sophia1.hpc.ait.dtu.dk\"\n",
      "Set parameter TokenServer to value \"sophia1.hpc.ait.dtu.dk\"\n",
      "Read LP format model from file /tmp/linopy-problem-2o63kplo.lp\n",
      "Reading time = 0.13 seconds\n",
      "obj: 64247 rows, 29206 columns, 127070 nonzeros\n",
      "Gurobi Optimizer version 11.0.3 build v11.0.3rc0 (linux64 - \"CentOS Linux 7 (Core)\")\n",
      "\n",
      "CPU model: AMD EPYC 7351 16-Core Processor, instruction set [SSE2|AVX|AVX2]\n",
      "Thread count: 32 physical cores, 32 logical processors, using up to 32 threads\n",
      "\n",
      "Optimize a model with 64247 rows, 29206 columns and 127070 nonzeros\n",
      "Read LP format model from file /tmp/linopy-problem-m967qsz5.lp\n",
      "Reading time = 0.13 seconds\n",
      "obj: 64247 rows, 29206 columns, 127070 nonzeros\n",
      "Gurobi Optimizer version 11.0.3 build v11.0.3rc0 (linux64 - \"CentOS Linux 7 (Core)\")\n",
      "\n",
      "CPU model: AMD EPYC 7351 16-Core Processor, instruction set [SSE2|AVX|AVX2]\n",
      "Thread count: 32 physical cores, 32 logical processors, using up to 32 threads\n",
      "\n",
      "Optimize a model with 64247 rows, 29206 columns and 127070 nonzeros\n",
      "Model fingerprint: 0x8590284f\n",
      "Coefficient statistics:\n",
      "  Matrix range     [2e-04, 2e+05]\n",
      "  Objective range  [5e-01, 9e-01]\n",
      "  Bounds range     [0e+00, 0e+00]\n",
      "  RHS range        [5e+03, 8e+09]\n",
      "Warning: Model contains large rhs\n",
      "         Consider reformulating model or setting NumericFocus parameter\n",
      "         to avoid numerical issues.\n",
      "Model fingerprint: 0x54c87d35\n",
      "Coefficient statistics:\n",
      "  Matrix range     [2e-04, 2e+05]\n",
      "  Objective range  [2e-01, 1e+00]\n",
      "  Bounds range     [0e+00, 0e+00]\n",
      "  RHS range        [5e+03, 8e+09]\n",
      "Warning: Model contains large rhs\n",
      "         Consider reformulating model or setting NumericFocus parameter\n",
      "         to avoid numerical issues.\n",
      "Read LP format model from file /tmp/linopy-problem-qrka0ej9.lp\n",
      "Reading time = 0.13 seconds\n",
      "obj: 64247 rows, 29206 columns, 127070 nonzeros\n",
      "Gurobi Optimizer version 11.0.3 build v11.0.3rc0 (linux64 - \"CentOS Linux 7 (Core)\")\n",
      "\n",
      "CPU model: AMD EPYC 7351 16-Core Processor, instruction set [SSE2|AVX|AVX2]\n",
      "Thread count: 32 physical cores, 32 logical processors, using up to 32 threads\n",
      "\n",
      "Optimize a model with 64247 rows, 29206 columns and 127070 nonzeros\n",
      "Model fingerprint: 0x592beb97\n",
      "Coefficient statistics:\n",
      "  Matrix range     [2e-04, 2e+05]\n",
      "  Objective range  [4e-01, 9e-01]\n",
      "  Bounds range     [0e+00, 0e+00]\n",
      "  RHS range        [5e+03, 8e+09]\n",
      "Warning: Model contains large rhs\n",
      "         Consider reformulating model or setting NumericFocus parameter\n",
      "         to avoid numerical issues.\n",
      "Read LP format model from file /tmp/linopy-problem-b91pmnv_.lp\n",
      "Reading time = 0.13 seconds\n",
      "obj: 64247 rows, 29206 columns, 127070 nonzeros\n",
      "Gurobi Optimizer version 11.0.3 build v11.0.3rc0 (linux64 - \"CentOS Linux 7 (Core)\")\n",
      "\n",
      "CPU model: AMD EPYC 7351 16-Core Processor, instruction set [SSE2|AVX|AVX2]\n",
      "Thread count: 32 physical cores, 32 logical processors, using up to 32 threads\n",
      "\n",
      "Optimize a model with 64247 rows, 29206 columns and 127070 nonzeros\n",
      "Model fingerprint: 0x0d9f044d\n",
      "Coefficient statistics:\n",
      "  Matrix range     [2e-04, 2e+05]\n",
      "  Objective range  [2e-01, 1e+00]\n",
      "  Bounds range     [0e+00, 0e+00]\n",
      "  RHS range        [5e+03, 8e+09]\n",
      "Warning: Model contains large rhs\n",
      "         Consider reformulating model or setting NumericFocus parameter\n",
      "         to avoid numerical issues.\n",
      "Presolve removed 33548 rows and 4342 columns\n",
      "Presolve time: 0.06s\n",
      "Presolved: 30699 rows, 24864 columns, 89180 nonzeros\n",
      "\n",
      "Concurrent LP optimizer: primal simplex, dual simplex, and barrier\n",
      "Showing barrier log only...\n",
      "\n",
      "Presolve removed 33548 rows and 4342 columns\n",
      "Presolve time: 0.06s\n",
      "Presolved: 30699 rows, 24864 columns, 89180 nonzeros\n",
      "\n",
      "Concurrent LP optimizer: primal simplex, dual simplex, and barrier\n",
      "Showing barrier log only...\n",
      "\n",
      "Presolve removed 33548 rows and 4342 columns\n",
      "Presolve time: 0.06s\n",
      "Presolved: 30699 rows, 24864 columns, 89180 nonzeros\n",
      "\n",
      "Concurrent LP optimizer: primal simplex, dual simplex, and barrier\n",
      "Showing barrier log only...\n",
      "\n",
      "Presolve removed 33548 rows and 4342 columns\n",
      "Presolve time: 0.06s\n",
      "Presolved: 30699 rows, 24864 columns, 89180 nonzeros\n",
      "\n",
      "Concurrent LP optimizer: primal simplex, dual simplex, and barrier\n",
      "Showing barrier log only...\n",
      "\n",
      "Ordering time: 0.02s\n",
      "Ordering time: 0.02s\n",
      "\n",
      "Barrier statistics:\n",
      " Dense cols : 6\n",
      " AA' NZ     : 7.600e+04\n",
      " Factor NZ  : 5.146e+05 (roughly 27 MB of memory)\n",
      " Factor Ops : 8.911e+06 (less than 1 second per iteration)\n",
      " Threads    : 1\n",
      "Ordering time: 0.02s\n",
      "\n",
      "Barrier statistics:\n",
      " Dense cols : 6\n",
      " AA' NZ     : 7.600e+04\n",
      " Factor NZ  : 5.146e+05 (roughly 27 MB of memory)\n",
      " Factor Ops : 8.911e+06 (less than 1 second per iteration)\n",
      " Threads    : 1\n",
      "\n",
      "Barrier statistics:\n",
      " Dense cols : 6\n",
      " AA' NZ     : 7.600e+04\n",
      " Factor NZ  : 5.146e+05 (roughly 27 MB of memory)\n",
      " Factor Ops : 8.911e+06 (less than 1 second per iteration)\n",
      " Threads    : 1\n",
      "Ordering time: 0.02s\n",
      "\n",
      "                  Objective                Residual\n",
      "Iter       Primal          Dual         Primal    Dual     Compl     Time\n",
      "   0  -2.44417094e+04 -6.97461897e+06  8.29e+06 1.02e-02  6.43e+03     0s\n",
      "\n",
      "Barrier statistics:\n",
      " Dense cols : 6\n",
      " AA' NZ     : 7.600e+04\n",
      " Factor NZ  : 5.146e+05 (roughly 27 MB of memory)\n",
      " Factor Ops : 8.911e+06 (less than 1 second per iteration)\n",
      " Threads    : 1\n",
      "\n",
      "                  Objective                Residual\n",
      "Iter       Primal          Dual         Primal    Dual     Compl     Time\n",
      "   0  -3.63036022e+04 -7.73845585e+06  8.29e+06 1.12e-02  7.13e+03     0s\n",
      "\n",
      "                  Objective                Residual\n",
      "Iter       Primal          Dual         Primal    Dual     Compl     Time\n",
      "   0  -3.94219659e+04 -6.93237127e+06  8.29e+06 1.08e-02  6.38e+03     0s\n",
      "   1  -7.11574404e+04 -5.26328392e+06  1.64e+06 4.07e-02  2.58e+03     0s\n",
      "\n",
      "                  Objective                Residual\n",
      "Iter       Primal          Dual         Primal    Dual     Compl     Time\n",
      "   0  -4.53438173e+04 -7.60462833e+06  8.29e+06 1.10e-02  7.01e+03     0s\n",
      "   1  -1.77150213e+05 -5.84914522e+06  1.65e+06 4.54e-02  2.87e+03     0s\n",
      "   1  -3.44936229e+05 -5.26754458e+06  1.65e+06 4.13e-02  2.61e+03     0s\n",
      "   2  -7.75398557e+04 -2.92096393e+06  8.93e+05 1.71e-02  1.13e+03     0s\n",
      "   1  -2.78757617e+05 -5.75804706e+06  1.65e+06 4.48e-02  2.83e+03     0s\n",
      "   2  -1.80835216e+05 -3.26224429e+06  8.97e+05 1.92e-02  1.27e+03     0s\n",
      "   2  -3.40073275e+05 -2.97954493e+06  9.05e+05 1.79e-02  1.17e+03     0s\n",
      "   3  -4.04461434e+04 -2.50852246e+06  4.29e+05 4.55e-03  4.12e+02     0s\n",
      "   2  -2.79438671e+05 -3.22862692e+06  9.01e+05 1.91e-02  1.26e+03     0s\n",
      "   3  -8.75087201e+04 -2.80631333e+06  4.31e+05 5.05e-03  4.59e+02     0s\n",
      "   3  -1.53265668e+05 -2.57674073e+06  4.32e+05 4.58e-03  4.18e+02     0s\n",
      "   3  -1.31615311e+05 -2.78267362e+06  4.33e+05 4.95e-03  4.53e+02     0s\n",
      "   4  -3.11078585e+04 -1.95500777e+06  1.92e+05 1.55e-03  1.76e+02     0s\n",
      "   4  -5.80578654e+04 -2.16996975e+06  1.92e+05 1.63e-03  1.91e+02     0s\n",
      "   4  -8.57758566e+04 -2.00515874e+06  1.84e+05 1.52e-03  1.72e+02     0s\n",
      "   5  -2.60859294e+04 -1.43093496e+06  9.39e+04 6.21e-04  8.44e+01     0s\n",
      "   4  -8.06670902e+04 -2.16579687e+06  1.89e+05 1.64e-03  1.89e+02     0s\n",
      "   5  -4.50607142e+04 -1.57599116e+06  8.91e+04 6.39e-04  8.87e+01     0s\n",
      "   5  -6.10590763e+04 -1.46537453e+06  8.10e+04 6.23e-04  7.89e+01     0s\n",
      "   6  -2.30803545e+04 -1.07030183e+06  4.95e+04 3.73e-04  4.88e+01     0s\n",
      "   5  -6.06535850e+04 -1.58627738e+06  8.72e+04 6.58e-04  8.84e+01     0s\n",
      "   6  -4.00430370e+04 -1.21037956e+06  5.07e+04 3.79e-04  5.37e+01     0s\n",
      "   6  -5.41723030e+04 -1.10058439e+06  4.75e+04 3.58e-04  4.76e+01     0s\n",
      "   7  -2.24950944e+04 -7.73688070e+05  4.08e+04 2.38e-04  3.44e+01     0s\n",
      "   6  -5.34877138e+04 -1.19633599e+06  4.98e+04 3.73e-04  5.26e+01     0s\n",
      "   7  -3.85728571e+04 -9.10305895e+05  4.00e+04 2.53e-04  3.84e+01     0s\n",
      "   7  -5.22464350e+04 -8.28515204e+05  3.78e+04 2.41e-04  3.42e+01     0s\n",
      "   8  -2.07559969e+04 -5.60806481e+05  2.84e+04 1.64e-04  2.38e+01     0s\n",
      "   7  -5.16367003e+04 -8.80811759e+05  4.00e+04 2.41e-04  3.70e+01     0s\n",
      "   8  -3.57739853e+04 -6.88278806e+05  2.78e+04 1.83e-04  2.75e+01     0s\n",
      "   9  -1.85784071e+04 -3.62527477e+05  1.68e+04 9.71e-05  1.44e+01     0s\n",
      "   8  -4.93244253e+04 -6.31107859e+05  2.57e+04 1.75e-04  2.44e+01     0s\n",
      "   8  -4.81786024e+04 -6.61064215e+05  2.73e+04 1.71e-04  2.60e+01     0s\n",
      "   9  -3.26734500e+04 -4.41249948e+05  1.62e+04 1.09e-04  1.63e+01     0s\n",
      "  10  -1.74509997e+04 -3.16504160e+05  1.20e+04 8.41e-05  1.18e+01     0s\n",
      "   9  -4.71080064e+04 -4.17990285e+05  1.51e+04 1.05e-04  1.47e+01     0s\n",
      "   9  -4.45362107e+04 -4.32877538e+05  1.63e+04 1.01e-04  1.57e+01     0s\n",
      "  10  -3.22284186e+04 -3.88168198e+05  1.50e+04 9.48e-05  1.45e+01     0s\n",
      "  10  -4.64840765e+04 -3.58810870e+05  1.04e+04 8.78e-05  1.17e+01     0s\n",
      "  11  -1.61072795e+04 -1.68876235e+05  7.92e+03 4.34e-05  6.49e+00     0s\n",
      "  10  -4.28638900e+04 -3.62975299e+05  1.16e+04 8.25e-05  1.24e+01     0s\n",
      "  11  -3.08095441e+04 -3.14013503e+05  1.05e+04 7.34e-05  1.11e+01     0s\n",
      "  12  -1.44794565e+04 -1.06614118e+05  5.03e+03 2.50e-05  3.93e+00     0s\n",
      "  11  -4.54754972e+04 -2.60124695e+05  6.24e+03 5.98e-05  7.87e+00     0s\n",
      "  11  -4.04907245e+04 -2.23433804e+05  6.42e+03 4.70e-05  7.07e+00     0s\n",
      "  12  -2.82025248e+04 -1.78176879e+05  5.12e+03 3.54e-05  5.71e+00     0s\n",
      "  13  -1.36051079e+04 -9.13719048e+04  4.09e+03 2.11e-05  3.31e+00     0s\n",
      "  12  -4.50208920e+04 -1.78080746e+05  4.88e+03 3.65e-05  5.12e+00     0s\n",
      "  12  -3.90577950e+04 -1.63671779e+05  4.50e+03 3.17e-05  4.83e+00     0s\n",
      "  13  -2.65876224e+04 -1.30125825e+05  4.14e+03 2.47e-05  4.12e+00     0s\n",
      "  14  -1.38883525e+04 -8.74467152e+04  3.32e+03 2.02e-05  3.08e+00     0s\n",
      "  13  -4.45808990e+04 -1.49928870e+05  3.42e+03 2.85e-05  3.96e+00     0s\n",
      "  13  -3.79077143e+04 -1.14527285e+05  3.18e+03 1.98e-05  3.09e+00     0s\n",
      "  14  -2.72837911e+04 -1.26525689e+05  3.29e+03 2.38e-05  3.89e+00     0s\n",
      "  14  -4.42077094e+04 -1.30117898e+05  2.06e+03 2.30e-05  3.08e+00     0s\n",
      "  15  -1.43343902e+04 -6.09214040e+04  2.16e+03 1.28e-05  1.96e+00     0s\n",
      "  14  -3.75800969e+04 -1.00692392e+05  1.81e+03 1.59e-05  2.36e+00     0s\n",
      "  15  -2.73440070e+04 -9.48379011e+04  2.13e+03 1.60e-05  2.62e+00     0s\n",
      "  15  -4.36861473e+04 -9.17728550e+04  7.75e+02 1.18e-05  1.62e+00     0s\n",
      "  15  -3.80465312e+04 -7.54392740e+04  1.11e+03 9.13e-06  1.36e+00     0s\n",
      "  16  -1.45714947e+04 -4.61423212e+04  1.01e+03 8.37e-06  1.25e+00     0s\n",
      "  16  -2.73415570e+04 -6.41362447e+04  1.09e+03 8.05e-06  1.36e+00     0s\n",
      "  16  -4.37145006e+04 -7.46002334e+04  4.82e+02 7.29e-06  1.01e+00     0s\n",
      "  16  -3.81859406e+04 -6.68892958e+04  9.29e+02 7.07e-06  1.04e+00     0s\n",
      "  17  -1.48185945e+04 -4.10526501e+04  8.07e+02 6.99e-06  1.03e+00     1s\n",
      "  17  -2.76097038e+04 -5.95884407e+04  8.49e+02 6.99e-06  1.16e+00     1s\n",
      "  17  -4.38600990e+04 -6.77081368e+04  2.83e+02 5.60e-06  7.71e-01     1s\n",
      "  17  -3.84193821e+04 -6.57973455e+04  7.57e+02 6.77e-06  9.87e-01     1s\n",
      "  18  -1.51440165e+04 -3.48477869e+04  6.10e+02 5.27e-06  7.72e-01     1s\n",
      "  18  -2.80139909e+04 -5.25716332e+04  6.37e+02 5.44e-06  8.86e-01     1s\n",
      "  19  -1.58644760e+04 -3.22882262e+04  4.76e+02 4.56e-06  6.58e-01     1s\n",
      "  18  -3.90318061e+04 -6.19098950e+04  4.86e+02 5.81e-06  8.19e-01     1s\n",
      "  18  -4.40500868e+04 -6.21005788e+04  2.11e+02 4.22e-06  5.80e-01     1s\n",
      "  19  -2.84982753e+04 -4.59361704e+04  5.10e+02 3.98e-06  6.35e-01     1s\n",
      "  20  -1.61682133e+04 -3.05434471e+04  4.46e+02 4.09e-06  5.85e-01     1s\n",
      "  19  -3.93930049e+04 -6.07238643e+04  3.86e+02 5.52e-06  7.64e-01     1s\n",
      "  19  -4.42036986e+04 -5.86682962e+04  1.85e+02 3.31e-06  4.62e-01     1s\n",
      "  20  -2.91780198e+04 -4.27011649e+04  4.08e+02 3.27e-06  5.02e-01     1s\n",
      "  21  -1.69510490e+04 -2.92395300e+04  3.53e+02 3.73e-06  5.21e-01     1s\n",
      "  20  -3.95926954e+04 -5.53448615e+04  3.15e+02 4.13e-06  5.66e-01     1s\n",
      "  20  -4.42582715e+04 -5.82280869e+04  1.70e+02 3.19e-06  4.45e-01     1s\n",
      "  21  -3.00970358e+04 -4.03586300e+04  2.91e+02 2.69e-06  3.93e-01     1s\n",
      "  22  -1.70998715e+04 -2.70527247e+04  2.79e+02 3.07e-06  4.22e-01     1s\n",
      "  21  -3.98566635e+04 -5.18844015e+04  2.58e+02 3.24e-06  4.37e-01     1s\n",
      "  21  -4.45793665e+04 -5.54401313e+04  1.28e+02 2.49e-06  3.46e-01     1s\n",
      "  23  -1.75581027e+04 -2.55317464e+04  2.44e+02 2.64e-06  3.49e-01     1s\n",
      "  22  -3.03438187e+04 -3.94995467e+04  2.58e+02 2.48e-06  3.55e-01     1s\n",
      "  22  -4.00596972e+04 -5.00627361e+04  2.22e+02 2.70e-06  3.62e-01     1s\n",
      "  22  -4.47200703e+04 -5.32731090e+04  1.18e+02 1.94e-06  2.70e-01     1s\n",
      "  24  -1.80118164e+04 -2.50025430e+04  2.09e+02 2.48e-06  3.17e-01     1s\n",
      "  23  -3.05176223e+04 -3.91274753e+04  2.39e+02 2.39e-06  3.37e-01     1s\n",
      "  23  -4.08474124e+04 -4.87770257e+04  1.55e+02 2.39e-06  3.04e-01     1s\n",
      "  23  -4.50999499e+04 -5.25476475e+04  9.84e+01 1.75e-06  2.38e-01     1s\n",
      "  25  -1.83495115e+04 -2.47005616e+04  1.75e+02 2.34e-06  2.95e-01     1s\n",
      "  24  -3.07704490e+04 -3.78794592e+04  2.17e+02 2.08e-06  2.84e-01     1s\n",
      "  24  -4.10088837e+04 -4.65883025e+04  1.39e+02 1.77e-06  2.18e-01     1s\n",
      "  24  -4.51945383e+04 -5.14199057e+04  8.43e+01 1.47e-06  1.97e-01     1s\n",
      "  26  -1.85433752e+04 -2.43552095e+04  1.62e+02 2.22e-06  2.75e-01     1s\n",
      "  25  -3.12413854e+04 -3.66817787e+04  1.80e+02 1.78e-06  2.28e-01     1s\n",
      "  25  -4.14979497e+04 -4.63933190e+04  1.05e+02 1.72e-06  2.02e-01     1s\n",
      "  25  -4.53465159e+04 -5.01407738e+04  6.32e+01 1.15e-06  1.51e-01     1s\n",
      "  27  -1.86974342e+04 -2.41519611e+04  1.47e+02 2.05e-06  2.56e-01     1s\n",
      "  26  -3.15380300e+04 -3.63880760e+04  1.57e+02 1.69e-06  2.09e-01     1s\n",
      "  26  -4.16186241e+04 -4.57904321e+04  9.77e+01 1.53e-06  1.74e-01     1s\n",
      "  26  -4.55893724e+04 -4.94922512e+04  4.31e+01 9.94e-07  1.24e-01     1s\n",
      "  28  -1.91624408e+04 -2.39989477e+04  1.18e+02 2.00e-06  2.40e-01     1s\n",
      "  27  -3.15956214e+04 -3.60668263e+04  1.46e+02 1.56e-06  1.92e-01     1s\n",
      "  27  -4.20199923e+04 -4.56258980e+04  7.17e+01 1.47e-06  1.60e-01     1s\n",
      "  27  -4.57803465e+04 -4.88784733e+04  3.57e+01 8.19e-07  9.90e-02     1s\n",
      "  29  -1.93544836e+04 -2.37154921e+04  9.87e+01 1.88e-06  2.21e-01     1s\n",
      "  28  -3.20575133e+04 -3.57113079e+04  8.89e+01 1.40e-06  1.63e-01     1s\n",
      "  28  -4.21478096e+04 -4.53951232e+04  6.50e+01 1.40e-06  1.48e-01     1s\n",
      "  28  -4.58761785e+04 -4.85325843e+04  3.18e+01 7.21e-07  8.52e-02     1s\n",
      "  30  -1.97626331e+04 -2.29368551e+04  7.72e+01 1.40e-06  1.61e-01     1s\n",
      "  29  -3.20640343e+04 -3.54781394e+04  8.21e+01 1.31e-06  1.51e-01     1s\n",
      "  29  -4.22559521e+04 -4.51572997e+04  6.00e+01 1.30e-06  1.35e-01     1s\n",
      "  29  -4.60575035e+04 -4.83758707e+04  2.44e+01 6.75e-07  7.60e-02     1s\n",
      "  31  -2.01060111e+04 -2.27063997e+04  6.02e+01 1.34e-06  1.42e-01     1s\n",
      "  30  -3.23838122e+04 -3.47812274e+04  6.62e+01 1.02e-06  1.10e-01     1s\n",
      "  30  -4.23061759e+04 -4.50291781e+04  5.29e+01 1.24e-06  1.27e-01     1s\n",
      "  30  -4.62689499e+04 -4.80047846e+04  1.83e+01 5.60e-07  5.85e-02     1s\n",
      "  32  -2.04900674e+04 -2.24284854e+04  4.68e+01 1.20e-06  1.18e-01     1s\n",
      "  31  -3.26503781e+04 -3.47170790e+04  5.22e+01 1.04e-06  1.03e-01     1s\n",
      "  31  -4.25593007e+04 -4.46348707e+04  3.81e+01 1.09e-06  1.03e-01     1s\n",
      "  31  -4.63434483e+04 -4.78967996e+04  1.64e+01 5.21e-07  5.29e-02     1s\n",
      "  33  -2.05922694e+04 -2.22179800e+04  4.01e+01 1.05e-06  1.01e-01     1s\n",
      "  32  -3.27022893e+04 -3.43162056e+04  4.38e+01 8.12e-07  7.92e-02     1s\n",
      "  32  -4.27354915e+04 -4.45284990e+04  2.93e+01 1.03e-06  9.41e-02     1s\n",
      "  32  -4.63872539e+04 -4.77832575e+04  1.43e+01 4.78e-07  4.78e-02     1s\n",
      "  34  -2.08904056e+04 -2.18952225e+04  2.54e+01 6.56e-07  6.12e-02     1s\n",
      "  33  -3.29362970e+04 -3.38575708e+04  2.91e+01 5.46e-07  4.83e-02     1s\n",
      "  33  -4.29067262e+04 -4.42584579e+04  2.35e+01 8.95e-07  7.68e-02     1s\n",
      "  33  -4.65065105e+04 -4.74394642e+04  1.04e+01 3.38e-07  3.19e-02     1s\n",
      "  35  -2.10559810e+04 -2.18117767e+04  1.92e+01 5.94e-07  5.15e-02     1s\n",
      "  34  -3.29715942e+04 -3.38030392e+04  2.72e+01 5.15e-07  4.46e-02     1s\n",
      "  34  -4.29407873e+04 -4.40939616e+04  2.19e+01 7.97e-07  6.69e-02     1s\n",
      "  34  -4.65935333e+04 -4.72328886e+04  6.92e+00 2.42e-07  2.17e-02     1s\n",
      "  36  -2.12574136e+04 -2.17312266e+04  1.08e+01 4.51e-07  3.67e-02     1s\n",
      "  35  -3.32046776e+04 -3.37313224e+04  1.58e+01 4.66e-07  3.51e-02     1s\n",
      "  35  -4.29423297e+04 -4.40592268e+04  2.18e+01 7.70e-07  6.46e-02     1s\n",
      "  35  -4.66694419e+04 -4.71064119e+04  4.86e+00 1.72e-07  1.48e-02     1s\n",
      "  37  -2.13387366e+04 -2.15883895e+04  7.81e+00 2.97e-07  2.19e-02     1s\n",
      "  36  -3.32607534e+04 -3.37109543e+04  1.38e+01 4.45e-07  3.25e-02     1s\n",
      "  36  -4.30070744e+04 -4.38704702e+04  1.85e+01 6.33e-07  5.17e-02     1s\n",
      "  36  -4.66776339e+04 -4.70208745e+04  4.50e+00 1.25e-07  1.12e-02     1s\n",
      "  38  -2.13530003e+04 -2.15796155e+04  7.16e+00 2.74e-07  2.00e-02     1s\n",
      "  37  -3.32970351e+04 -3.36829944e+04  1.15e+01 4.15e-07  2.95e-02     1s\n",
      "  37  -4.31162890e+04 -4.37908132e+04  1.21e+01 5.52e-07  4.32e-02     1s\n",
      "  37  -4.67451275e+04 -4.69843240e+04  2.65e+00 1.02e-07  8.30e-03     1s\n",
      "  39  -2.14344602e+04 -2.15651934e+04  4.28e+00 2.38e-07  1.58e-02     1s\n",
      "  38  -3.33920814e+04 -3.35570804e+04  6.56e+00 2.94e-07  1.77e-02     1s\n",
      "  38  -4.31569234e+04 -4.37562431e+04  1.06e+01 5.30e-07  4.03e-02     1s\n",
      "  38  -4.67908812e+04 -4.69703363e+04  1.45e+00 9.28e-08  6.71e-03     1s\n",
      "  40  -2.14900935e+04 -2.15507385e+04  2.29e+00 2.17e-07  1.30e-02     1s\n",
      "  39  -4.31914154e+04 -4.36677745e+04  8.84e+00 4.45e-07  3.31e-02     1s\n",
      "  39  -3.34585992e+04 -3.35259104e+04  3.76e+00 2.69e-07  1.40e-02     1s\n",
      "  39  -4.68065953e+04 -4.69348909e+04  1.05e+00 6.64e-08  4.72e-03     1s\n",
      "  41  -2.15157011e+04 -2.15188872e+04  1.43e+00 1.49e-07  7.32e-03     1s\n",
      "  40  -4.32276111e+04 -4.36394107e+04  6.86e+00 3.92e-07  2.90e-02     1s\n",
      "  40  -3.35029763e+04 -3.35148997e+04  1.68e+00 2.24e-07  1.05e-02     1s\n",
      "  40  -4.68206595e+04 -4.68983285e+04  6.43e-01 4.12e-08  2.84e-03     1s\n",
      "  42  -2.15366444e+04 -2.15308390e+04  7.89e-01 7.47e-08  3.27e-03     1s\n",
      "  41  -4.32932802e+04 -4.35774578e+04  3.54e+00 2.87e-07  2.09e-02     1s\n",
      "  41  -3.35159846e+04 -3.35139697e+04  1.06e+00 1.71e-07  7.66e-03     1s\n",
      "  43  -2.15489648e+04 -2.15510812e+04  4.20e-01 2.69e-08  1.27e-03     1s\n",
      "  41  -4.68313461e+04 -4.68606747e+04  3.62e-01 1.31e-08  1.02e-03     1s\n",
      "  42  -3.35179416e+04 -3.35174009e+04  9.47e-01 1.34e-07  5.99e-03     1s\n",
      "  42  -4.33369309e+04 -4.35301201e+04  1.73e+00 2.56e-07  1.71e-02     1s\n",
      "  44  -2.15601593e+04 -2.15609788e+04  9.64e-02 4.76e-09  2.23e-04     1s\n",
      "  42  -4.68428839e+04 -4.68458786e+04  5.45e-02 1.11e-09  8.52e-05     1s\n",
      "  43  -3.35223420e+04 -3.35215633e+04  7.19e-01 9.55e-08  4.25e-03     1s\n",
      "  43  -4.33554510e+04 -4.35117724e+04  1.05e+00 2.38e-07  1.52e-02     1s\n",
      "  43  -4.68450038e+04 -4.68453625e+04  3.12e-03 5.24e-10  1.74e-05     1s\n",
      "  45  -2.15635772e+04 -2.15632240e+04  4.05e-03 1.46e-09  3.29e-05     1s\n",
      "  44  -3.35362791e+04 -3.35356980e+04  4.45e-02 4.09e-08  1.79e-03     1s\n",
      "  44  -4.33584456e+04 -4.35055177e+04  9.49e-01 2.30e-07  1.46e-02     1s\n",
      "  44  -4.68451738e+04 -4.68452101e+04  3.81e-05 1.44e-10  3.39e-06     1s\n",
      "  46  -2.15637578e+04 -2.15569801e+04  2.53e-04 5.46e-09  4.50e-06     1s\n",
      "  45  -3.35384910e+04 -3.35384583e+04  3.13e-05 1.97e-09  8.01e-05     1s\n",
      "  45  -4.33605970e+04 -4.34791746e+04  7.52e-01 1.89e-07  1.18e-02     1s\n",
      "  45  -4.68451762e+04 -4.68451763e+04  2.79e-09 8.64e-13  6.55e-09     1s\n",
      "\n",
      "Barrier solved model in 45 iterations and 1.15 seconds (0.73 work units)\n",
      "Optimal objective -4.68451762e+04\n",
      "\n",
      "  47  -2.15637674e+04 -2.15616075e+04  1.04e-04 1.73e-09  5.42e-07     1s\n",
      "Crossover log...\n",
      "\n",
      "  46  -3.35387240e+04 -3.35387440e+04  3.55e-08 3.30e-10  1.06e-06     1s\n",
      "  46  -4.33638487e+04 -4.34720343e+04  6.17e-01 1.78e-07  1.11e-02     1s\n",
      "      79 DPushes remaining with DInf 0.0000000e+00                 1s\n",
      "  48  -2.15637736e+04 -2.15637708e+04  6.08e-09 2.01e-12  7.43e-10     1s\n",
      "\n",
      "Barrier solved model in 48 iterations and 1.19 seconds (0.78 work units)\n",
      "Optimal objective -2.15637736e+04\n",
      "\n",
      "Crossover log...\n",
      "\n",
      "       0 DPushes remaining with DInf 0.0000000e+00                 1s\n",
      "  47  -3.35387364e+04 -3.35387355e+04  2.12e-09 6.67e-13  1.06e-09     1s\n",
      "  47  -4.33668198e+04 -4.34259115e+04  4.88e-01 1.28e-07  7.23e-03     1s\n",
      "\n",
      "Barrier solved model in 47 iterations and 1.20 seconds (0.77 work units)\n",
      "Optimal objective -3.35387364e+04\n",
      "\n",
      "\n",
      "   12676 PPushes remaining with PInf 7.5340725e-03                 1s\n",
      "Crossover log...\n",
      "\n",
      "      47 DPushes remaining with DInf 0.0000000e+00                 1s\n",
      "      43 DPushes remaining with DInf 0.0000000e+00                 1s\n",
      "       0 DPushes remaining with DInf 0.0000000e+00                 1s\n",
      "  48  -4.33720010e+04 -4.33895353e+04  3.72e-01 9.81e-08  4.44e-03     1s\n",
      "\n",
      "    6380 PPushes remaining with PInf 0.0000000e+00                 1s\n",
      "       0 DPushes remaining with DInf 0.0000000e+00                 1s\n",
      "\n",
      "    6566 PPushes remaining with PInf 3.5624409e-05                 1s\n",
      "  49  -4.33806464e+04 -4.33872789e+04  1.31e-01 7.04e-08  3.04e-03     1s\n",
      "  50  -4.33825220e+04 -4.33823715e+04  9.19e-02 3.49e-08  1.38e-03     1s\n",
      "  51  -4.33860036e+04 -4.33833810e+04  2.89e-03 2.25e-08  8.28e-04     1s\n",
      "  52  -4.33862492e+04 -4.33764278e+04  2.11e-03 2.12e-08  5.74e-04     1s\n",
      "  53  -4.33863316e+04 -4.33743490e+04  1.83e-03 2.26e-08  5.67e-04     1s\n",
      "  54  -4.33866295e+04 -4.33596326e+04  6.52e-04 2.15e-08  1.01e-04     1s\n",
      "  55  -4.33869373e+04 -4.33869023e+04  2.85e-07 2.70e-11  1.60e-07     1s\n",
      "  56  -4.33869403e+04 -4.33867121e+04  3.24e-09 1.67e-10  1.22e-08     1s\n",
      "  57  -4.33869404e+04 -4.33869382e+04  6.66e-09 4.23e-11  3.48e-12     1s\n",
      "\n",
      "Barrier solved model in 57 iterations and 1.39 seconds (0.91 work units)\n",
      "Optimal objective -4.33869404e+04\n",
      "\n",
      "Crossover log...\n",
      "\n",
      "      41 DPushes remaining with DInf 0.0000000e+00                 1s\n",
      "       0 DPushes remaining with DInf 0.0000000e+00                 1s\n",
      "\n",
      "    5293 PPushes remaining with PInf 0.0000000e+00                 1s\n",
      "       0 PPushes remaining with PInf 0.0000000e+00                 2s\n",
      "\n",
      "  Push phase complete: Pinf 0.0000000e+00, Dinf 9.7563559e-15      2s\n",
      "\n",
      "\n",
      "Solved with barrier\n",
      "Iteration    Objective       Primal Inf.    Dual Inf.      Time\n",
      "    5337   -4.3386940e+04   0.000000e+00   0.000000e+00      2s\n",
      "\n",
      "Solved in 5337 iterations and 1.93 seconds (1.36 work units)\n",
      "Optimal objective -4.338694036e+04\n",
      "       0 PPushes remaining with PInf 0.0000000e+00                 4s\n",
      "\n",
      "  Push phase complete: Pinf 0.0000000e+00, Dinf 1.6416605e-02      4s\n",
      "\n",
      "Iteration    Objective       Primal Inf.    Dual Inf.      Time\n",
      "   12758   -4.6845176e+04   0.000000e+00   1.641661e-02      4s\n",
      "\n",
      "Solved with barrier\n",
      "   12761   -4.6845176e+04   0.000000e+00   0.000000e+00      4s\n",
      "\n",
      "Solved in 12761 iterations and 3.68 seconds (1.51 work units)\n",
      "Optimal objective -4.684517630e+04\n",
      "       0 PPushes remaining with PInf 0.0000000e+00                 4s\n",
      "\n",
      "  Push phase complete: Pinf 0.0000000e+00, Dinf 1.3076392e-04      4s\n",
      "\n",
      "Iteration    Objective       Primal Inf.    Dual Inf.      Time\n",
      "    6612   -3.3538736e+04   0.000000e+00   1.307639e-04      4s\n",
      "\n",
      "Solved with barrier\n",
      "    6613   -3.3538736e+04   0.000000e+00   0.000000e+00      4s\n",
      "\n",
      "Solved in 6613 iterations and 4.27 seconds (1.83 work units)\n",
      "Optimal objective -3.353873645e+04\n",
      "       0 PPushes remaining with PInf 0.0000000e+00                 4s\n",
      "\n",
      "  Push phase complete: Pinf 0.0000000e+00, Dinf 4.0163646e-14      4s\n",
      "\n",
      "\n",
      "Solved with barrier\n",
      "Iteration    Objective       Primal Inf.    Dual Inf.      Time\n",
      "    6430   -2.1563774e+04   0.000000e+00   0.000000e+00      4s\n",
      "\n",
      "Solved in 6430 iterations and 4.50 seconds (1.72 work units)\n",
      "Optimal objective -2.156377366e+04\n"
     ]
    },
    {
     "name": "stderr",
     "output_type": "stream",
     "text": [
      "Writing constraints.: 100%|\u001b[38;2;128;191;255m██████████\u001b[0m| 22/22 [00:00<00:00, 49.12it/s]\n",
      "Writing continuous variables.: 100%|\u001b[38;2;128;191;255m██████████\u001b[0m| 11/11 [00:00<00:00, 144.40it/s]\n"
     ]
    },
    {
     "name": "stdout",
     "output_type": "stream",
     "text": [
      "Set parameter TokenServer to value \"sophia1.hpc.ait.dtu.dk\"\n",
      "Read LP format model from file /tmp/linopy-problem-55g24t5f.lp\n",
      "Reading time = 0.13 seconds\n",
      "obj: 64247 rows, 29206 columns, 127070 nonzeros\n",
      "Gurobi Optimizer version 11.0.3 build v11.0.3rc0 (linux64 - \"CentOS Linux 7 (Core)\")\n",
      "\n",
      "CPU model: AMD EPYC 7351 16-Core Processor, instruction set [SSE2|AVX|AVX2]\n",
      "Thread count: 32 physical cores, 32 logical processors, using up to 32 threads\n",
      "\n",
      "Optimize a model with 64247 rows, 29206 columns and 127070 nonzeros\n",
      "Model fingerprint: 0xd3eec105\n",
      "Coefficient statistics:\n",
      "  Matrix range     [2e-04, 2e+05]\n",
      "  Objective range  [2e-01, 1e+00]\n",
      "  Bounds range     [0e+00, 0e+00]\n",
      "  RHS range        [5e+03, 8e+09]\n",
      "Warning: Model contains large rhs\n",
      "         Consider reformulating model or setting NumericFocus parameter\n",
      "         to avoid numerical issues.\n",
      "Presolve removed 33548 rows and 4342 columns\n",
      "Presolve time: 0.06s\n",
      "Presolved: 30699 rows, 24864 columns, 89180 nonzeros\n",
      "\n",
      "Concurrent LP optimizer: primal simplex, dual simplex, and barrier\n",
      "Showing barrier log only...\n",
      "\n",
      "Ordering time: 0.02s\n",
      "\n",
      "Barrier statistics:\n",
      " Dense cols : 6\n",
      " AA' NZ     : 7.600e+04\n",
      " Factor NZ  : 5.146e+05 (roughly 27 MB of memory)\n",
      " Factor Ops : 8.911e+06 (less than 1 second per iteration)\n",
      " Threads    : 1\n",
      "\n",
      "                  Objective                Residual\n",
      "Iter       Primal          Dual         Primal    Dual     Compl     Time\n",
      "   0  -1.45052052e+04 -6.92694830e+06  8.29e+06 1.19e-02  6.39e+03     0s\n",
      "   1  -2.21034984e+05 -5.26363422e+06  1.65e+06 4.14e-02  2.61e+03     0s\n",
      "   2  -2.16568032e+05 -2.96843468e+06  9.01e+05 1.78e-02  1.17e+03     0s\n",
      "   3  -9.16332300e+04 -2.56466439e+06  4.26e+05 4.68e-03  4.20e+02     0s\n",
      "   4  -4.70639840e+04 -1.99377234e+06  1.82e+05 1.56e-03  1.73e+02     0s\n",
      "   5  -3.23038723e+04 -1.45628815e+06  8.18e+04 6.50e-04  8.06e+01     0s\n",
      "   6  -2.89332560e+04 -1.06668521e+06  4.93e+04 3.56e-04  4.80e+01     0s\n",
      "   7  -2.79711745e+04 -7.75721043e+05  3.85e+04 2.27e-04  3.32e+01     0s\n",
      "   8  -2.63697658e+04 -5.91609639e+05  2.46e+04 1.66e-04  2.33e+01     0s\n",
      "   9  -2.72279165e+04 -4.03783628e+05  1.50e+04 1.05e-04  1.48e+01     0s\n",
      "  10  -2.81825398e+04 -3.30874501e+05  1.02e+04 8.27e-05  1.13e+01     0s\n",
      "  11  -2.83130629e+04 -1.84094144e+05  6.60e+03 4.02e-05  5.95e+00     0s\n",
      "  12  -2.85956537e+04 -1.27643049e+05  4.47e+03 2.53e-05  3.83e+00     0s\n",
      "  13  -2.89859418e+04 -1.00929715e+05  2.89e+03 1.83e-05  2.70e+00     0s\n",
      "  14  -3.00691875e+04 -7.40617769e+04  1.91e+03 1.09e-05  1.63e+00     0s\n",
      "  15  -3.04847896e+04 -6.18360099e+04  1.27e+03 7.67e-06  1.13e+00     0s\n",
      "  16  -3.12388169e+04 -5.66359230e+04  9.44e+02 6.21e-06  8.92e-01     0s\n",
      "  17  -3.17166965e+04 -5.19433891e+04  8.12e+02 4.81e-06  6.96e-01     1s\n",
      "  18  -3.28828933e+04 -4.77452787e+04  4.89e+02 3.57e-06  4.95e-01     1s\n",
      "  19  -3.37543573e+04 -4.64608617e+04  3.71e+02 3.19e-06  4.24e-01     1s\n",
      "  20  -3.40125346e+04 -4.22834117e+04  3.25e+02 1.92e-06  2.70e-01     1s\n",
      "  21  -3.45346901e+04 -4.06214546e+04  1.98e+02 1.41e-06  1.94e-01     1s\n",
      "  22  -3.50137526e+04 -3.90176504e+04  1.42e+02 9.15e-07  1.26e-01     1s\n",
      "  23  -3.52697655e+04 -3.86923413e+04  9.22e+01 8.16e-07  1.07e-01     1s\n",
      "  24  -3.56026630e+04 -3.83273794e+04  5.96e+01 6.88e-07  8.61e-02     1s\n",
      "  25  -3.57137180e+04 -3.75727222e+04  4.59e+01 4.47e-07  5.78e-02     1s\n",
      "  26  -3.58382573e+04 -3.72810746e+04  3.22e+01 3.58e-07  4.49e-02     1s\n",
      "  27  -3.58974458e+04 -3.68159899e+04  2.33e+01 2.19e-07  2.83e-02     1s\n",
      "  28  -3.59900953e+04 -3.66982538e+04  1.46e+01 2.20e-07  2.26e-02     1s\n",
      "  29  -3.60715347e+04 -3.65880498e+04  1.11e+01 2.01e-07  1.76e-02     1s\n",
      "  30  -3.60980176e+04 -3.63679356e+04  9.54e+00 1.65e-07  9.95e-03     1s\n",
      "  31  -3.61318709e+04 -3.62810199e+04  7.60e+00 1.37e-07  6.20e-03     1s\n",
      "  32  -3.61484682e+04 -3.62757070e+04  6.70e+00 1.33e-07  5.60e-03     1s\n",
      "  33  -3.61906637e+04 -3.62388209e+04  4.00e+00 8.87e-08  2.69e-03     1s\n",
      "  34  -3.62045730e+04 -3.62311078e+04  3.07e+00 5.94e-08  1.61e-03     1s\n",
      "  35  -3.62175755e+04 -3.62305643e+04  2.26e+00 5.34e-08  1.18e-03     1s\n",
      "  36  -3.62217271e+04 -3.62312698e+04  1.91e+00 4.99e-08  1.04e-03     1s\n",
      "  37  -3.62267673e+04 -3.62337441e+04  1.61e+00 3.89e-08  7.92e-04     1s\n",
      "  38  -3.62382349e+04 -3.62355996e+04  9.03e-01 3.45e-08  4.97e-04     1s\n",
      "  39  -3.62459908e+04 -3.62458634e+04  4.30e-01 1.28e-08  1.96e-04     1s\n",
      "  40  -3.62462994e+04 -3.62473963e+04  4.12e-01 9.87e-09  1.78e-04     1s\n",
      "  41  -3.62504484e+04 -3.62492873e+04  1.18e-01 5.94e-09  6.29e-05     1s\n",
      "  42  -3.62512291e+04 -3.62508202e+04  7.89e-02 3.36e-09  4.10e-05     1s\n",
      "  43  -3.62528096e+04 -3.62521930e+04  8.53e-04 1.01e-09  1.20e-06     1s\n",
      "  44  -3.62528353e+04 -3.62528248e+04  5.25e-07 1.61e-11  1.34e-09     1s\n",
      "\n",
      "Barrier solved model in 44 iterations and 1.10 seconds (0.72 work units)\n",
      "Optimal objective -3.62528353e+04\n",
      "\n",
      "Crossover log...\n",
      "\n",
      "      70 DPushes remaining with DInf 0.0000000e+00                 1s\n",
      "       0 DPushes remaining with DInf 0.0000000e+00                 1s\n",
      "\n",
      "   10179 PPushes remaining with PInf 0.0000000e+00                 1s\n",
      "       0 PPushes remaining with PInf 0.0000000e+00                 4s\n",
      "\n",
      "  Push phase complete: Pinf 0.0000000e+00, Dinf 1.0867697e-14      4s\n",
      "\n",
      "\n",
      "Solved with barrier\n",
      "Iteration    Objective       Primal Inf.    Dual Inf.      Time\n",
      "   10252   -3.6252835e+04   0.000000e+00   0.000000e+00      4s\n",
      "\n",
      "Solved in 10252 iterations and 4.38 seconds (4.22 work units)\n",
      "Optimal objective -3.625283535e+04\n"
     ]
    },
    {
     "data": {
      "text/plain": [
       "(       wind     solar\n",
       " 0  0.221220  0.975224\n",
       " 1  0.916405  0.400251\n",
       " 2 -0.463647  0.886020\n",
       " 3 -0.157325  0.987547\n",
       " 4  0.969825 -0.243801,\n",
       "            wind         solar\n",
       " 0  28075.310873  38120.607074\n",
       " 1  41337.746255  22393.533509\n",
       " 2  26149.421228  38021.574967\n",
       " 3  26706.724213  38216.272775\n",
       " 4  42028.516322  18488.386539)"
      ]
     },
     "execution_count": 10,
     "metadata": {},
     "output_type": "execute_result"
    }
   ],
   "source": [
    "n.optimize.optimize_mga_in_multiple_directions_cache(\n",
    "    directions=directions[:5], dimensions=dimensions, cache_dir=None, snapshots=None, slack=0.02, solver_name=\"gurobi\",\n",
    ")"
   ]
  },
  {
   "cell_type": "code",
   "execution_count": 11,
   "metadata": {},
   "outputs": [
    {
     "name": "stderr",
     "output_type": "stream",
     "text": [
      "INFO:pypsa.network.io:Exported network 'Model-Energy' saved to '/tmp/tmp_tcgrv_n.nc contains: stores, buses, links, sub_networks, storage_units, generators, carriers, loads\n",
      "Writing constraints.: 100%|\u001b[38;2;128;191;255m██████████\u001b[0m| 22/22 [00:00<00:00, 49.08it/s]\n",
      "Writing continuous variables.: 100%|\u001b[38;2;128;191;255m██████████\u001b[0m| 11/11 [00:00<00:00, 146.57it/s]\n",
      "Writing constraints.: 100%|\u001b[38;2;128;191;255m██████████\u001b[0m| 22/22 [00:00<00:00, 49.03it/s]\n",
      "Writing constraints.: 100%|\u001b[38;2;128;191;255m██████████\u001b[0m| 22/22 [00:00<00:00, 49.86it/s]\n",
      "Writing constraints.: 100%|\u001b[38;2;128;191;255m██████████\u001b[0m| 22/22 [00:00<00:00, 49.42it/s]\n",
      "Writing continuous variables.: 100%|\u001b[38;2;128;191;255m██████████\u001b[0m| 11/11 [00:00<00:00, 147.46it/s]\n",
      "Writing continuous variables.: 100%|\u001b[38;2;128;191;255m██████████\u001b[0m| 11/11 [00:00<00:00, 146.54it/s]\n",
      "Writing continuous variables.: 100%|\u001b[38;2;128;191;255m██████████\u001b[0m| 11/11 [00:00<00:00, 147.28it/s]\n"
     ]
    },
    {
     "name": "stdout",
     "output_type": "stream",
     "text": [
      "Set parameter TokenServer to value \"sophia1.hpc.ait.dtu.dk\"\n",
      "Set parameter TokenServer to value \"sophia1.hpc.ait.dtu.dk\"\n",
      "Set parameter TokenServer to value \"sophia1.hpc.ait.dtu.dk\"\n",
      "Set parameter TokenServer to value \"sophia1.hpc.ait.dtu.dk\"\n",
      "Read LP format model from file /tmp/linopy-problem-1ocknicx.lp\n",
      "Reading time = 0.13 seconds\n",
      "obj: 64247 rows, 29206 columns, 127070 nonzeros\n",
      "Gurobi Optimizer version 11.0.3 build v11.0.3rc0 (linux64 - \"CentOS Linux 7 (Core)\")\n",
      "\n",
      "CPU model: AMD EPYC 7351 16-Core Processor, instruction set [SSE2|AVX|AVX2]\n",
      "Thread count: 32 physical cores, 32 logical processors, using up to 32 threads\n",
      "\n",
      "Optimize a model with 64247 rows, 29206 columns and 127070 nonzeros\n",
      "Model fingerprint: 0x0d9f044d\n",
      "Coefficient statistics:\n",
      "  Matrix range     [2e-04, 2e+05]\n",
      "  Objective range  [2e-01, 1e+00]\n",
      "  Bounds range     [0e+00, 0e+00]\n",
      "  RHS range        [5e+03, 8e+09]\n",
      "Warning: Model contains large rhs\n",
      "         Consider reformulating model or setting NumericFocus parameter\n",
      "         to avoid numerical issues.\n",
      "Presolve removed 33548 rows and 4342 columns\n",
      "Presolve time: 0.06s\n",
      "Presolved: 30699 rows, 24864 columns, 89180 nonzeros\n",
      "\n",
      "Concurrent LP optimizer: primal simplex, dual simplex, and barrier\n",
      "Showing barrier log only...\n",
      "\n",
      "Read LP format model from file /tmp/linopy-problem-mi7xzhtu.lp\n",
      "Reading time = 0.13 seconds\n",
      "obj: 64247 rows, 29206 columns, 127070 nonzeros\n",
      "Gurobi Optimizer version 11.0.3 build v11.0.3rc0 (linux64 - \"CentOS Linux 7 (Core)\")\n",
      "\n",
      "CPU model: AMD EPYC 7351 16-Core Processor, instruction set [SSE2|AVX|AVX2]\n",
      "Thread count: 32 physical cores, 32 logical processors, using up to 32 threads\n",
      "\n",
      "Optimize a model with 64247 rows, 29206 columns and 127070 nonzeros\n",
      "Model fingerprint: 0x592beb97\n",
      "Coefficient statistics:\n",
      "  Matrix range     [2e-04, 2e+05]\n",
      "  Objective range  [4e-01, 9e-01]\n",
      "  Bounds range     [0e+00, 0e+00]\n",
      "  RHS range        [5e+03, 8e+09]\n",
      "Warning: Model contains large rhs\n",
      "         Consider reformulating model or setting NumericFocus parameter\n",
      "         to avoid numerical issues.\n",
      "Read LP format model from file /tmp/linopy-problem-32mxoyea.lp\n",
      "Reading time = 0.13 seconds\n",
      "obj: 64247 rows, 29206 columns, 127070 nonzeros\n",
      "Gurobi Optimizer version 11.0.3 build v11.0.3rc0 (linux64 - \"CentOS Linux 7 (Core)\")\n",
      "\n",
      "CPU model: AMD EPYC 7351 16-Core Processor, instruction set [SSE2|AVX|AVX2]\n",
      "Thread count: 32 physical cores, 32 logical processors, using up to 32 threads\n",
      "\n",
      "Optimize a model with 64247 rows, 29206 columns and 127070 nonzeros\n",
      "Model fingerprint: 0x54c87d35\n",
      "Coefficient statistics:\n",
      "  Matrix range     [2e-04, 2e+05]\n",
      "  Objective range  [2e-01, 1e+00]\n",
      "  Bounds range     [0e+00, 0e+00]\n",
      "  RHS range        [5e+03, 8e+09]\n",
      "Warning: Model contains large rhs\n",
      "         Consider reformulating model or setting NumericFocus parameter\n",
      "         to avoid numerical issues.\n",
      "Ordering time: 0.02s\n",
      "Read LP format model from file /tmp/linopy-problem-a67kocgi.lp\n",
      "Reading time = 0.13 seconds\n",
      "obj: 64247 rows, 29206 columns, 127070 nonzeros\n",
      "Gurobi Optimizer version 11.0.3 build v11.0.3rc0 (linux64 - \"CentOS Linux 7 (Core)\")\n",
      "\n",
      "CPU model: AMD EPYC 7351 16-Core Processor, instruction set [SSE2|AVX|AVX2]\n",
      "Thread count: 32 physical cores, 32 logical processors, using up to 32 threads\n",
      "\n",
      "Optimize a model with 64247 rows, 29206 columns and 127070 nonzeros\n",
      "Model fingerprint: 0x8590284f\n",
      "Coefficient statistics:\n",
      "  Matrix range     [2e-04, 2e+05]\n",
      "  Objective range  [5e-01, 9e-01]\n",
      "  Bounds range     [0e+00, 0e+00]\n",
      "  RHS range        [5e+03, 8e+09]\n",
      "Warning: Model contains large rhs\n",
      "         Consider reformulating model or setting NumericFocus parameter\n",
      "         to avoid numerical issues.\n",
      "\n",
      "Barrier statistics:\n",
      " Dense cols : 6\n",
      " AA' NZ     : 7.600e+04\n",
      " Factor NZ  : 5.146e+05 (roughly 27 MB of memory)\n",
      " Factor Ops : 8.911e+06 (less than 1 second per iteration)\n",
      " Threads    : 1\n",
      "\n",
      "                  Objective                Residual\n",
      "Iter       Primal          Dual         Primal    Dual     Compl     Time\n",
      "   0  -4.53438173e+04 -7.60462833e+06  8.29e+06 1.10e-02  7.01e+03     0s\n",
      "Presolve removed 33548 rows and 4342 columns\n",
      "Presolve time: 0.06s\n",
      "Presolved: 30699 rows, 24864 columns, 89180 nonzeros\n",
      "\n",
      "Concurrent LP optimizer: primal simplex, dual simplex, and barrier\n",
      "Showing barrier log only...\n",
      "\n",
      "Presolve removed 33548 rows and 4342 columns\n",
      "Presolve time: 0.06s\n",
      "Presolved: 30699 rows, 24864 columns, 89180 nonzeros\n",
      "\n",
      "Concurrent LP optimizer: primal simplex, dual simplex, and barrier\n",
      "Showing barrier log only...\n",
      "\n",
      "   1  -2.78757617e+05 -5.75804706e+06  1.65e+06 4.48e-02  2.83e+03     0s\n",
      "Presolve removed 33548 rows and 4342 columns\n",
      "Presolve time: 0.06s\n",
      "Presolved: 30699 rows, 24864 columns, 89180 nonzeros\n",
      "\n",
      "Concurrent LP optimizer: primal simplex, dual simplex, and barrier\n",
      "Showing barrier log only...\n",
      "\n",
      "   2  -2.79438671e+05 -3.22862692e+06  9.01e+05 1.91e-02  1.26e+03     0s\n",
      "Ordering time: 0.02s\n",
      "Ordering time: 0.02s\n",
      "\n",
      "Barrier statistics:\n",
      " Dense cols : 6\n",
      " AA' NZ     : 7.600e+04\n",
      " Factor NZ  : 5.146e+05 (roughly 27 MB of memory)\n",
      " Factor Ops : 8.911e+06 (less than 1 second per iteration)\n",
      " Threads    : 1\n",
      "Ordering time: 0.02s\n",
      "\n",
      "Barrier statistics:\n",
      " Dense cols : 6\n",
      " AA' NZ     : 7.600e+04\n",
      " Factor NZ  : 5.146e+05 (roughly 27 MB of memory)\n",
      " Factor Ops : 8.911e+06 (less than 1 second per iteration)\n",
      " Threads    : 1\n",
      "   3  -1.31615311e+05 -2.78267362e+06  4.33e+05 4.95e-03  4.53e+02     0s\n",
      "\n",
      "Barrier statistics:\n",
      " Dense cols : 6\n",
      " AA' NZ     : 7.600e+04\n",
      " Factor NZ  : 5.146e+05 (roughly 27 MB of memory)\n",
      " Factor Ops : 8.911e+06 (less than 1 second per iteration)\n",
      " Threads    : 1\n",
      "\n",
      "                  Objective                Residual\n",
      "Iter       Primal          Dual         Primal    Dual     Compl     Time\n",
      "   0  -3.94219659e+04 -6.93237127e+06  8.29e+06 1.08e-02  6.38e+03     0s\n",
      "\n",
      "                  Objective                Residual\n",
      "Iter       Primal          Dual         Primal    Dual     Compl     Time\n",
      "   0  -3.63036022e+04 -7.73845585e+06  8.29e+06 1.12e-02  7.13e+03     0s\n",
      "\n",
      "                  Objective                Residual\n",
      "Iter       Primal          Dual         Primal    Dual     Compl     Time\n",
      "   0  -2.44417094e+04 -6.97461897e+06  8.29e+06 1.02e-02  6.43e+03     0s\n",
      "   4  -8.06670902e+04 -2.16579687e+06  1.89e+05 1.64e-03  1.89e+02     0s\n",
      "   1  -3.44936229e+05 -5.26754458e+06  1.65e+06 4.13e-02  2.61e+03     0s\n",
      "   1  -1.77150213e+05 -5.84914522e+06  1.65e+06 4.54e-02  2.87e+03     0s\n",
      "   1  -7.11574404e+04 -5.26328392e+06  1.64e+06 4.07e-02  2.58e+03     0s\n",
      "   5  -6.06535850e+04 -1.58627738e+06  8.72e+04 6.58e-04  8.84e+01     0s\n",
      "   2  -3.40073275e+05 -2.97954493e+06  9.05e+05 1.79e-02  1.17e+03     0s\n",
      "   2  -1.80835216e+05 -3.26224429e+06  8.97e+05 1.92e-02  1.27e+03     0s\n",
      "   2  -7.75398557e+04 -2.92096393e+06  8.93e+05 1.71e-02  1.13e+03     0s\n",
      "   6  -5.34877138e+04 -1.19633599e+06  4.98e+04 3.73e-04  5.26e+01     0s\n",
      "   3  -1.53265668e+05 -2.57674073e+06  4.32e+05 4.58e-03  4.18e+02     0s\n",
      "   3  -8.75087201e+04 -2.80631333e+06  4.31e+05 5.05e-03  4.59e+02     0s\n",
      "   3  -4.04461434e+04 -2.50852246e+06  4.29e+05 4.55e-03  4.12e+02     0s\n",
      "   7  -5.16367003e+04 -8.80811759e+05  4.00e+04 2.41e-04  3.70e+01     0s\n",
      "   4  -8.57758566e+04 -2.00515874e+06  1.84e+05 1.52e-03  1.72e+02     0s\n",
      "   4  -5.80578654e+04 -2.16996975e+06  1.92e+05 1.63e-03  1.91e+02     0s\n",
      "   8  -4.81786024e+04 -6.61064215e+05  2.73e+04 1.71e-04  2.60e+01     0s\n",
      "   4  -3.11078585e+04 -1.95500777e+06  1.92e+05 1.55e-03  1.76e+02     0s\n",
      "   5  -6.10590763e+04 -1.46537453e+06  8.10e+04 6.23e-04  7.89e+01     0s\n",
      "   9  -4.45362107e+04 -4.32877538e+05  1.63e+04 1.01e-04  1.57e+01     0s\n",
      "   5  -4.50607142e+04 -1.57599116e+06  8.91e+04 6.39e-04  8.87e+01     0s\n",
      "   5  -2.60859294e+04 -1.43093496e+06  9.39e+04 6.21e-04  8.44e+01     0s\n",
      "   6  -5.41723030e+04 -1.10058439e+06  4.75e+04 3.58e-04  4.76e+01     0s\n",
      "  10  -4.28638900e+04 -3.62975299e+05  1.16e+04 8.25e-05  1.24e+01     0s\n",
      "   6  -4.00430370e+04 -1.21037956e+06  5.07e+04 3.79e-04  5.37e+01     0s\n",
      "   6  -2.30803545e+04 -1.07030183e+06  4.95e+04 3.73e-04  4.88e+01     0s\n",
      "   7  -5.22464350e+04 -8.28515204e+05  3.78e+04 2.41e-04  3.42e+01     0s\n",
      "  11  -4.04907245e+04 -2.23433804e+05  6.42e+03 4.70e-05  7.07e+00     0s\n",
      "   7  -3.85728571e+04 -9.10305895e+05  4.00e+04 2.53e-04  3.84e+01     0s\n",
      "   7  -2.24950944e+04 -7.73688070e+05  4.08e+04 2.38e-04  3.44e+01     0s\n",
      "   8  -4.93244253e+04 -6.31107859e+05  2.57e+04 1.75e-04  2.44e+01     0s\n",
      "  12  -3.90577950e+04 -1.63671779e+05  4.50e+03 3.17e-05  4.83e+00     0s\n",
      "   8  -3.57739853e+04 -6.88278806e+05  2.78e+04 1.83e-04  2.75e+01     0s\n",
      "   8  -2.07559969e+04 -5.60806481e+05  2.84e+04 1.64e-04  2.38e+01     0s\n",
      "   9  -4.71080064e+04 -4.17990285e+05  1.51e+04 1.05e-04  1.47e+01     0s\n",
      "  13  -3.79077143e+04 -1.14527285e+05  3.18e+03 1.98e-05  3.09e+00     0s\n",
      "   9  -3.26734500e+04 -4.41249948e+05  1.62e+04 1.09e-04  1.63e+01     0s\n",
      "   9  -1.85784071e+04 -3.62527477e+05  1.68e+04 9.71e-05  1.44e+01     0s\n",
      "  10  -4.64840765e+04 -3.58810870e+05  1.04e+04 8.78e-05  1.17e+01     0s\n",
      "  10  -3.22284186e+04 -3.88168198e+05  1.50e+04 9.48e-05  1.45e+01     0s\n",
      "  10  -1.74509997e+04 -3.16504160e+05  1.20e+04 8.41e-05  1.18e+01     0s\n",
      "  14  -3.75800969e+04 -1.00692392e+05  1.81e+03 1.59e-05  2.36e+00     0s\n",
      "  11  -4.54754972e+04 -2.60124695e+05  6.24e+03 5.98e-05  7.87e+00     0s\n",
      "  11  -3.08095441e+04 -3.14013503e+05  1.05e+04 7.34e-05  1.11e+01     0s\n",
      "  11  -1.61072795e+04 -1.68876235e+05  7.92e+03 4.34e-05  6.49e+00     0s\n",
      "  15  -3.80465312e+04 -7.54392740e+04  1.11e+03 9.13e-06  1.36e+00     0s\n",
      "  12  -4.50208920e+04 -1.78080746e+05  4.88e+03 3.65e-05  5.12e+00     0s\n",
      "  12  -1.44794565e+04 -1.06614118e+05  5.03e+03 2.50e-05  3.93e+00     0s\n",
      "  12  -2.82025248e+04 -1.78176879e+05  5.12e+03 3.54e-05  5.71e+00     0s\n",
      "  16  -3.81859406e+04 -6.68892958e+04  9.29e+02 7.07e-06  1.04e+00     0s\n",
      "  13  -4.45808990e+04 -1.49928870e+05  3.42e+03 2.85e-05  3.96e+00     0s\n",
      "  13  -1.36051079e+04 -9.13719048e+04  4.09e+03 2.11e-05  3.31e+00     0s\n",
      "  13  -2.65876224e+04 -1.30125825e+05  4.14e+03 2.47e-05  4.12e+00     0s\n",
      "  17  -3.84193821e+04 -6.57973455e+04  7.57e+02 6.77e-06  9.87e-01     1s\n",
      "  14  -4.42077094e+04 -1.30117898e+05  2.06e+03 2.30e-05  3.08e+00     0s\n",
      "  14  -2.72837911e+04 -1.26525689e+05  3.29e+03 2.38e-05  3.89e+00     0s\n",
      "  14  -1.38883525e+04 -8.74467152e+04  3.32e+03 2.02e-05  3.08e+00     0s\n",
      "  18  -3.90318061e+04 -6.19098950e+04  4.86e+02 5.81e-06  8.19e-01     1s\n",
      "  15  -4.36861473e+04 -9.17728550e+04  7.75e+02 1.18e-05  1.62e+00     0s\n",
      "  15  -2.73440070e+04 -9.48379011e+04  2.13e+03 1.60e-05  2.62e+00     0s\n",
      "  15  -1.43343902e+04 -6.09214040e+04  2.16e+03 1.28e-05  1.96e+00     0s\n",
      "  19  -3.93930049e+04 -6.07238643e+04  3.86e+02 5.52e-06  7.64e-01     1s\n",
      "  16  -4.37145006e+04 -7.46002334e+04  4.82e+02 7.29e-06  1.01e+00     0s\n",
      "  16  -2.73415570e+04 -6.41362447e+04  1.09e+03 8.05e-06  1.36e+00     0s\n",
      "  16  -1.45714947e+04 -4.61423212e+04  1.01e+03 8.37e-06  1.25e+00     0s\n",
      "  20  -3.95926954e+04 -5.53448615e+04  3.15e+02 4.13e-06  5.66e-01     1s\n",
      "  17  -4.38600990e+04 -6.77081368e+04  2.83e+02 5.60e-06  7.71e-01     1s\n",
      "  17  -2.76097038e+04 -5.95884407e+04  8.49e+02 6.99e-06  1.16e+00     1s\n",
      "  17  -1.48185945e+04 -4.10526501e+04  8.07e+02 6.99e-06  1.03e+00     1s\n",
      "  21  -3.98566635e+04 -5.18844015e+04  2.58e+02 3.24e-06  4.37e-01     1s\n",
      "  18  -4.40500868e+04 -6.21005788e+04  2.11e+02 4.22e-06  5.80e-01     1s\n",
      "  18  -2.80139909e+04 -5.25716332e+04  6.37e+02 5.44e-06  8.86e-01     1s\n",
      "  18  -1.51440165e+04 -3.48477869e+04  6.10e+02 5.27e-06  7.72e-01     1s\n",
      "  22  -4.00596972e+04 -5.00627361e+04  2.22e+02 2.70e-06  3.62e-01     1s\n",
      "  19  -4.42036986e+04 -5.86682962e+04  1.85e+02 3.31e-06  4.62e-01     1s\n",
      "  19  -2.84982753e+04 -4.59361704e+04  5.10e+02 3.98e-06  6.35e-01     1s\n",
      "  19  -1.58644760e+04 -3.22882262e+04  4.76e+02 4.56e-06  6.58e-01     1s\n",
      "  23  -4.08474124e+04 -4.87770257e+04  1.55e+02 2.39e-06  3.04e-01     1s\n",
      "  20  -4.42582715e+04 -5.82280869e+04  1.70e+02 3.19e-06  4.45e-01     1s\n",
      "  20  -1.61682133e+04 -3.05434471e+04  4.46e+02 4.09e-06  5.85e-01     1s\n",
      "  20  -2.91780198e+04 -4.27011649e+04  4.08e+02 3.27e-06  5.02e-01     1s\n",
      "  24  -4.10088837e+04 -4.65883025e+04  1.39e+02 1.77e-06  2.18e-01     1s\n",
      "  21  -4.45793665e+04 -5.54401313e+04  1.28e+02 2.49e-06  3.46e-01     1s\n",
      "  21  -1.69510490e+04 -2.92395300e+04  3.53e+02 3.73e-06  5.21e-01     1s\n",
      "  21  -3.00970358e+04 -4.03586300e+04  2.91e+02 2.69e-06  3.93e-01     1s\n",
      "  25  -4.14979497e+04 -4.63933190e+04  1.05e+02 1.72e-06  2.02e-01     1s\n",
      "  22  -4.47200703e+04 -5.32731090e+04  1.18e+02 1.94e-06  2.70e-01     1s\n",
      "  22  -1.70998715e+04 -2.70527247e+04  2.79e+02 3.07e-06  4.22e-01     1s\n",
      "  22  -3.03438187e+04 -3.94995467e+04  2.58e+02 2.48e-06  3.55e-01     1s\n",
      "  26  -4.16186241e+04 -4.57904321e+04  9.77e+01 1.53e-06  1.74e-01     1s\n",
      "  23  -4.50999499e+04 -5.25476475e+04  9.84e+01 1.75e-06  2.38e-01     1s\n",
      "  23  -1.75581027e+04 -2.55317464e+04  2.44e+02 2.64e-06  3.49e-01     1s\n",
      "  23  -3.05176223e+04 -3.91274753e+04  2.39e+02 2.39e-06  3.37e-01     1s\n",
      "  27  -4.20199923e+04 -4.56258980e+04  7.17e+01 1.47e-06  1.60e-01     1s\n",
      "  24  -4.51945383e+04 -5.14199057e+04  8.43e+01 1.47e-06  1.97e-01     1s\n",
      "  24  -1.80118164e+04 -2.50025430e+04  2.09e+02 2.48e-06  3.17e-01     1s\n",
      "  24  -3.07704490e+04 -3.78794592e+04  2.17e+02 2.08e-06  2.84e-01     1s\n",
      "  28  -4.21478096e+04 -4.53951232e+04  6.50e+01 1.40e-06  1.48e-01     1s\n",
      "  25  -4.53465159e+04 -5.01407738e+04  6.32e+01 1.15e-06  1.51e-01     1s\n",
      "  25  -1.83495115e+04 -2.47005616e+04  1.75e+02 2.34e-06  2.95e-01     1s\n",
      "  25  -3.12413854e+04 -3.66817787e+04  1.80e+02 1.78e-06  2.28e-01     1s\n",
      "  26  -4.55893724e+04 -4.94922512e+04  4.31e+01 9.94e-07  1.24e-01     1s\n",
      "  29  -4.22559521e+04 -4.51572997e+04  6.00e+01 1.30e-06  1.35e-01     1s\n",
      "  26  -1.85433752e+04 -2.43552095e+04  1.62e+02 2.22e-06  2.75e-01     1s\n",
      "  26  -3.15380300e+04 -3.63880760e+04  1.57e+02 1.69e-06  2.09e-01     1s\n",
      "  27  -4.57803465e+04 -4.88784733e+04  3.57e+01 8.19e-07  9.90e-02     1s\n",
      "  30  -4.23061759e+04 -4.50291781e+04  5.29e+01 1.24e-06  1.27e-01     1s\n",
      "  27  -1.86974342e+04 -2.41519611e+04  1.47e+02 2.05e-06  2.56e-01     1s\n",
      "  27  -3.15956214e+04 -3.60668263e+04  1.46e+02 1.56e-06  1.92e-01     1s\n",
      "  28  -4.58761785e+04 -4.85325843e+04  3.18e+01 7.21e-07  8.52e-02     1s\n",
      "  31  -4.25593007e+04 -4.46348707e+04  3.81e+01 1.09e-06  1.03e-01     1s\n",
      "  28  -1.91624408e+04 -2.39989477e+04  1.18e+02 2.00e-06  2.40e-01     1s\n",
      "  28  -3.20575133e+04 -3.57113079e+04  8.89e+01 1.40e-06  1.63e-01     1s\n",
      "  29  -4.60575035e+04 -4.83758707e+04  2.44e+01 6.75e-07  7.60e-02     1s\n",
      "  32  -4.27354915e+04 -4.45284990e+04  2.93e+01 1.03e-06  9.41e-02     1s\n",
      "  29  -1.93544836e+04 -2.37154921e+04  9.87e+01 1.88e-06  2.21e-01     1s\n",
      "  29  -3.20640343e+04 -3.54781394e+04  8.21e+01 1.31e-06  1.51e-01     1s\n",
      "  30  -4.62689499e+04 -4.80047846e+04  1.83e+01 5.60e-07  5.85e-02     1s\n",
      "  33  -4.29067262e+04 -4.42584579e+04  2.35e+01 8.95e-07  7.68e-02     1s\n",
      "  30  -1.97626331e+04 -2.29368551e+04  7.72e+01 1.40e-06  1.61e-01     1s\n",
      "  30  -3.23838122e+04 -3.47812274e+04  6.62e+01 1.02e-06  1.10e-01     1s\n",
      "  31  -4.63434483e+04 -4.78967996e+04  1.64e+01 5.21e-07  5.29e-02     1s\n",
      "  34  -4.29407873e+04 -4.40939616e+04  2.19e+01 7.97e-07  6.69e-02     1s\n",
      "  31  -2.01060111e+04 -2.27063997e+04  6.02e+01 1.34e-06  1.42e-01     1s\n",
      "  31  -3.26503781e+04 -3.47170790e+04  5.22e+01 1.04e-06  1.03e-01     1s\n",
      "  32  -4.63872539e+04 -4.77832575e+04  1.43e+01 4.78e-07  4.78e-02     1s\n",
      "  35  -4.29423297e+04 -4.40592268e+04  2.18e+01 7.70e-07  6.46e-02     1s\n",
      "  32  -2.04900674e+04 -2.24284854e+04  4.68e+01 1.20e-06  1.18e-01     1s\n",
      "  32  -3.27022893e+04 -3.43162056e+04  4.38e+01 8.12e-07  7.92e-02     1s\n",
      "  33  -4.65065105e+04 -4.74394642e+04  1.04e+01 3.38e-07  3.19e-02     1s\n",
      "  36  -4.30070744e+04 -4.38704702e+04  1.85e+01 6.33e-07  5.17e-02     1s\n",
      "  33  -2.05922694e+04 -2.22179800e+04  4.01e+01 1.05e-06  1.01e-01     1s\n",
      "  33  -3.29362970e+04 -3.38575708e+04  2.91e+01 5.46e-07  4.83e-02     1s\n",
      "  34  -4.65935333e+04 -4.72328886e+04  6.92e+00 2.42e-07  2.17e-02     1s\n",
      "  37  -4.31162890e+04 -4.37908132e+04  1.21e+01 5.52e-07  4.32e-02     1s\n",
      "  34  -2.08904056e+04 -2.18952225e+04  2.54e+01 6.56e-07  6.12e-02     1s\n",
      "  34  -3.29715942e+04 -3.38030392e+04  2.72e+01 5.15e-07  4.46e-02     1s\n",
      "  35  -4.66694419e+04 -4.71064119e+04  4.86e+00 1.72e-07  1.48e-02     1s\n",
      "  38  -4.31569234e+04 -4.37562431e+04  1.06e+01 5.30e-07  4.03e-02     1s\n",
      "  35  -2.10559810e+04 -2.18117767e+04  1.92e+01 5.94e-07  5.15e-02     1s\n",
      "  35  -3.32046776e+04 -3.37313224e+04  1.58e+01 4.66e-07  3.51e-02     1s\n",
      "  36  -4.66776339e+04 -4.70208745e+04  4.50e+00 1.25e-07  1.12e-02     1s\n",
      "  39  -4.31914154e+04 -4.36677745e+04  8.84e+00 4.45e-07  3.31e-02     1s\n",
      "  36  -2.12574136e+04 -2.17312266e+04  1.08e+01 4.51e-07  3.67e-02     1s\n",
      "  37  -4.67451275e+04 -4.69843240e+04  2.65e+00 1.02e-07  8.30e-03     1s\n",
      "  36  -3.32607534e+04 -3.37109543e+04  1.38e+01 4.45e-07  3.25e-02     1s\n",
      "  40  -4.32276111e+04 -4.36394107e+04  6.86e+00 3.92e-07  2.90e-02     1s\n",
      "  37  -2.13387366e+04 -2.15883895e+04  7.81e+00 2.97e-07  2.19e-02     1s\n",
      "  38  -4.67908812e+04 -4.69703363e+04  1.45e+00 9.28e-08  6.71e-03     1s\n",
      "  37  -3.32970351e+04 -3.36829944e+04  1.15e+01 4.15e-07  2.95e-02     1s\n",
      "  38  -2.13530003e+04 -2.15796155e+04  7.16e+00 2.74e-07  2.00e-02     1s\n",
      "  41  -4.32932802e+04 -4.35774578e+04  3.54e+00 2.87e-07  2.09e-02     1s\n",
      "  39  -4.68065953e+04 -4.69348909e+04  1.05e+00 6.64e-08  4.72e-03     1s\n",
      "  38  -3.33920814e+04 -3.35570804e+04  6.56e+00 2.94e-07  1.77e-02     1s\n",
      "  39  -2.14344602e+04 -2.15651934e+04  4.28e+00 2.38e-07  1.58e-02     1s\n",
      "  42  -4.33369309e+04 -4.35301201e+04  1.73e+00 2.56e-07  1.71e-02     1s\n",
      "  40  -4.68206595e+04 -4.68983285e+04  6.43e-01 4.12e-08  2.84e-03     1s\n",
      "  39  -3.34585992e+04 -3.35259104e+04  3.76e+00 2.69e-07  1.40e-02     1s\n",
      "  40  -2.14900935e+04 -2.15507385e+04  2.29e+00 2.17e-07  1.30e-02     1s\n",
      "  43  -4.33554510e+04 -4.35117724e+04  1.05e+00 2.38e-07  1.52e-02     1s\n",
      "  41  -4.68313461e+04 -4.68606747e+04  3.62e-01 1.31e-08  1.02e-03     1s\n",
      "  40  -3.35029763e+04 -3.35148997e+04  1.68e+00 2.24e-07  1.05e-02     1s\n",
      "  41  -2.15157011e+04 -2.15188872e+04  1.43e+00 1.49e-07  7.32e-03     1s\n",
      "  44  -4.33584456e+04 -4.35055177e+04  9.49e-01 2.30e-07  1.46e-02     1s\n",
      "  42  -4.68428839e+04 -4.68458786e+04  5.45e-02 1.11e-09  8.52e-05     1s\n",
      "  41  -3.35159846e+04 -3.35139697e+04  1.06e+00 1.71e-07  7.66e-03     1s\n",
      "  42  -2.15366444e+04 -2.15308390e+04  7.89e-01 7.47e-08  3.27e-03     1s\n",
      "  45  -4.33605970e+04 -4.34791746e+04  7.52e-01 1.89e-07  1.18e-02     1s\n",
      "  43  -4.68450038e+04 -4.68453625e+04  3.12e-03 5.24e-10  1.74e-05     1s\n",
      "  42  -3.35179416e+04 -3.35174009e+04  9.47e-01 1.34e-07  5.99e-03     1s\n",
      "  43  -2.15489648e+04 -2.15510812e+04  4.20e-01 2.69e-08  1.27e-03     1s\n",
      "  46  -4.33638487e+04 -4.34720343e+04  6.17e-01 1.78e-07  1.11e-02     1s\n",
      "  44  -4.68451738e+04 -4.68452101e+04  3.81e-05 1.44e-10  3.39e-06     1s\n",
      "  43  -3.35223420e+04 -3.35215633e+04  7.19e-01 9.55e-08  4.25e-03     1s\n",
      "  44  -2.15601593e+04 -2.15609788e+04  9.64e-02 4.76e-09  2.23e-04     1s\n",
      "  47  -4.33668198e+04 -4.34259115e+04  4.88e-01 1.28e-07  7.23e-03     1s\n",
      "  45  -4.68451762e+04 -4.68451763e+04  2.79e-09 8.64e-13  6.55e-09     1s\n",
      "\n",
      "Barrier solved model in 45 iterations and 1.12 seconds (0.73 work units)\n",
      "Optimal objective -4.68451762e+04\n",
      "\n",
      "  44  -3.35362791e+04 -3.35356980e+04  4.45e-02 4.09e-08  1.79e-03     1s\n",
      "Crossover log...\n",
      "\n",
      "  45  -2.15635772e+04 -2.15632240e+04  4.05e-03 1.46e-09  3.29e-05     1s\n",
      "      79 DPushes remaining with DInf 0.0000000e+00                 1s\n",
      "  48  -4.33720010e+04 -4.33895353e+04  3.72e-01 9.81e-08  4.44e-03     1s\n",
      "  45  -3.35384910e+04 -3.35384583e+04  3.13e-05 1.97e-09  8.01e-05     1s\n",
      "       0 DPushes remaining with DInf 0.0000000e+00                 1s\n",
      "\n",
      "  46  -2.15637578e+04 -2.15569801e+04  2.53e-04 5.46e-09  4.50e-06     1s\n",
      "   12676 PPushes remaining with PInf 7.5340725e-03                 1s\n",
      "  49  -4.33806464e+04 -4.33872789e+04  1.31e-01 7.04e-08  3.04e-03     1s\n",
      "  46  -3.35387240e+04 -3.35387440e+04  3.55e-08 3.30e-10  1.06e-06     1s\n",
      "  47  -2.15637674e+04 -2.15616075e+04  1.04e-04 1.73e-09  5.42e-07     1s\n",
      "  50  -4.33825220e+04 -4.33823715e+04  9.19e-02 3.49e-08  1.38e-03     1s\n",
      "  47  -3.35387364e+04 -3.35387355e+04  2.12e-09 6.67e-13  1.06e-09     1s\n",
      "\n",
      "Barrier solved model in 47 iterations and 1.19 seconds (0.77 work units)\n",
      "Optimal objective -3.35387364e+04\n",
      "\n",
      "Crossover log...\n",
      "\n",
      "  48  -2.15637736e+04 -2.15637708e+04  6.08e-09 2.01e-12  7.43e-10     1s\n",
      "\n",
      "Barrier solved model in 48 iterations and 1.19 seconds (0.78 work units)\n",
      "Optimal objective -2.15637736e+04\n",
      "\n",
      "Crossover log...\n",
      "\n",
      "  51  -4.33860036e+04 -4.33833810e+04  2.89e-03 2.25e-08  8.28e-04     1s\n",
      "      43 DPushes remaining with DInf 0.0000000e+00                 1s\n",
      "      47 DPushes remaining with DInf 0.0000000e+00                 1s\n",
      "       0 DPushes remaining with DInf 0.0000000e+00                 1s\n",
      "  52  -4.33862492e+04 -4.33764278e+04  2.11e-03 2.12e-08  5.74e-04     1s\n",
      "\n",
      "    6566 PPushes remaining with PInf 3.5624409e-05                 1s\n",
      "       0 DPushes remaining with DInf 0.0000000e+00                 1s\n",
      "\n",
      "    6380 PPushes remaining with PInf 0.0000000e+00                 1s\n",
      "  53  -4.33863316e+04 -4.33743490e+04  1.83e-03 2.26e-08  5.67e-04     1s\n",
      "  54  -4.33866295e+04 -4.33596326e+04  6.52e-04 2.15e-08  1.01e-04     1s\n",
      "  55  -4.33869373e+04 -4.33869023e+04  2.85e-07 2.70e-11  1.60e-07     1s\n",
      "  56  -4.33869403e+04 -4.33867121e+04  3.24e-09 1.67e-10  1.22e-08     2s\n",
      "  57  -4.33869404e+04 -4.33869382e+04  6.66e-09 4.23e-11  3.48e-12     2s\n",
      "\n",
      "Barrier solved model in 57 iterations and 1.62 seconds (0.91 work units)\n",
      "Optimal objective -4.33869404e+04\n",
      "\n",
      "Crossover log...\n",
      "\n",
      "      41 DPushes remaining with DInf 0.0000000e+00                 2s\n",
      "       0 DPushes remaining with DInf 0.0000000e+00                 2s\n",
      "\n",
      "    5293 PPushes remaining with PInf 0.0000000e+00                 2s\n",
      "       0 PPushes remaining with PInf 0.0000000e+00                 2s\n",
      "\n",
      "  Push phase complete: Pinf 0.0000000e+00, Dinf 9.7563559e-15      2s\n",
      "\n",
      "\n",
      "Solved with barrier\n",
      "Iteration    Objective       Primal Inf.    Dual Inf.      Time\n",
      "    5337   -4.3386940e+04   0.000000e+00   0.000000e+00      3s\n",
      "\n",
      "Solved in 5337 iterations and 2.60 seconds (1.36 work units)\n",
      "Optimal objective -4.338694036e+04\n",
      "       0 PPushes remaining with PInf 0.0000000e+00                 4s\n",
      "\n",
      "  Push phase complete: Pinf 0.0000000e+00, Dinf 1.6416605e-02      4s\n",
      "\n",
      "Iteration    Objective       Primal Inf.    Dual Inf.      Time\n",
      "   12758   -4.6845176e+04   0.000000e+00   1.641661e-02      4s\n",
      "\n",
      "Solved with barrier\n",
      "       0 PPushes remaining with PInf 0.0000000e+00                 4s\n",
      "\n",
      "  Push phase complete: Pinf 0.0000000e+00, Dinf 4.0163646e-14      4s\n",
      "\n",
      "   12761   -4.6845176e+04   0.000000e+00   0.000000e+00      4s\n",
      "\n",
      "Solved in 12761 iterations and 3.84 seconds (1.51 work units)\n",
      "Optimal objective -4.684517630e+04\n",
      "\n",
      "Solved with barrier\n",
      "Iteration    Objective       Primal Inf.    Dual Inf.      Time\n",
      "    6430   -2.1563774e+04   0.000000e+00   0.000000e+00      4s\n",
      "\n",
      "Solved in 6430 iterations and 3.90 seconds (1.72 work units)\n",
      "Optimal objective -2.156377366e+04\n",
      "       0 PPushes remaining with PInf 0.0000000e+00                 5s\n",
      "\n",
      "  Push phase complete: Pinf 0.0000000e+00, Dinf 1.3076392e-04      5s\n",
      "\n",
      "Iteration    Objective       Primal Inf.    Dual Inf.      Time\n",
      "    6612   -3.3538736e+04   0.000000e+00   1.307639e-04      5s\n",
      "\n",
      "Solved with barrier\n",
      "    6613   -3.3538736e+04   0.000000e+00   0.000000e+00      5s\n",
      "\n",
      "Solved in 6613 iterations and 4.69 seconds (1.83 work units)\n",
      "Optimal objective -3.353873645e+04\n"
     ]
    },
    {
     "name": "stderr",
     "output_type": "stream",
     "text": [
      "Writing constraints.: 100%|\u001b[38;2;128;191;255m██████████\u001b[0m| 22/22 [00:00<00:00, 49.22it/s]\n",
      "Writing continuous variables.: 100%|\u001b[38;2;128;191;255m██████████\u001b[0m| 11/11 [00:00<00:00, 148.08it/s]\n"
     ]
    },
    {
     "name": "stdout",
     "output_type": "stream",
     "text": [
      "Set parameter TokenServer to value \"sophia1.hpc.ait.dtu.dk\"\n",
      "Read LP format model from file /tmp/linopy-problem-sazoled_.lp\n",
      "Reading time = 0.13 seconds\n",
      "obj: 64247 rows, 29206 columns, 127070 nonzeros\n",
      "Gurobi Optimizer version 11.0.3 build v11.0.3rc0 (linux64 - \"CentOS Linux 7 (Core)\")\n",
      "\n",
      "CPU model: AMD EPYC 7351 16-Core Processor, instruction set [SSE2|AVX|AVX2]\n",
      "Thread count: 32 physical cores, 32 logical processors, using up to 32 threads\n",
      "\n",
      "Optimize a model with 64247 rows, 29206 columns and 127070 nonzeros\n",
      "Model fingerprint: 0xd3eec105\n",
      "Coefficient statistics:\n",
      "  Matrix range     [2e-04, 2e+05]\n",
      "  Objective range  [2e-01, 1e+00]\n",
      "  Bounds range     [0e+00, 0e+00]\n",
      "  RHS range        [5e+03, 8e+09]\n",
      "Warning: Model contains large rhs\n",
      "         Consider reformulating model or setting NumericFocus parameter\n",
      "         to avoid numerical issues.\n",
      "Presolve removed 33548 rows and 4342 columns\n",
      "Presolve time: 0.06s\n",
      "Presolved: 30699 rows, 24864 columns, 89180 nonzeros\n",
      "\n",
      "Concurrent LP optimizer: primal simplex, dual simplex, and barrier\n",
      "Showing barrier log only...\n",
      "\n",
      "Ordering time: 0.02s\n",
      "\n",
      "Barrier statistics:\n",
      " Dense cols : 6\n",
      " AA' NZ     : 7.600e+04\n",
      " Factor NZ  : 5.146e+05 (roughly 27 MB of memory)\n",
      " Factor Ops : 8.911e+06 (less than 1 second per iteration)\n",
      " Threads    : 1\n",
      "\n",
      "                  Objective                Residual\n",
      "Iter       Primal          Dual         Primal    Dual     Compl     Time\n",
      "   0  -1.45052052e+04 -6.92694830e+06  8.29e+06 1.19e-02  6.39e+03     0s\n",
      "   1  -2.21034984e+05 -5.26363422e+06  1.65e+06 4.14e-02  2.61e+03     0s\n",
      "   2  -2.16568032e+05 -2.96843468e+06  9.01e+05 1.78e-02  1.17e+03     0s\n",
      "   3  -9.16332300e+04 -2.56466439e+06  4.26e+05 4.68e-03  4.20e+02     0s\n",
      "   4  -4.70639840e+04 -1.99377234e+06  1.82e+05 1.56e-03  1.73e+02     0s\n",
      "   5  -3.23038723e+04 -1.45628815e+06  8.18e+04 6.50e-04  8.06e+01     0s\n",
      "   6  -2.89332560e+04 -1.06668521e+06  4.93e+04 3.56e-04  4.80e+01     0s\n",
      "   7  -2.79711745e+04 -7.75721043e+05  3.85e+04 2.27e-04  3.32e+01     0s\n",
      "   8  -2.63697658e+04 -5.91609639e+05  2.46e+04 1.66e-04  2.33e+01     0s\n",
      "   9  -2.72279165e+04 -4.03783628e+05  1.50e+04 1.05e-04  1.48e+01     0s\n",
      "  10  -2.81825398e+04 -3.30874501e+05  1.02e+04 8.27e-05  1.13e+01     0s\n",
      "  11  -2.83130629e+04 -1.84094144e+05  6.60e+03 4.02e-05  5.95e+00     0s\n",
      "  12  -2.85956537e+04 -1.27643049e+05  4.47e+03 2.53e-05  3.83e+00     0s\n",
      "  13  -2.89859418e+04 -1.00929715e+05  2.89e+03 1.83e-05  2.70e+00     0s\n",
      "  14  -3.00691875e+04 -7.40617769e+04  1.91e+03 1.09e-05  1.63e+00     0s\n",
      "  15  -3.04847896e+04 -6.18360099e+04  1.27e+03 7.67e-06  1.13e+00     0s\n",
      "  16  -3.12388169e+04 -5.66359230e+04  9.44e+02 6.21e-06  8.92e-01     0s\n",
      "  17  -3.17166965e+04 -5.19433891e+04  8.12e+02 4.81e-06  6.96e-01     0s\n",
      "  18  -3.28828933e+04 -4.77452787e+04  4.89e+02 3.57e-06  4.95e-01     1s\n",
      "  19  -3.37543573e+04 -4.64608617e+04  3.71e+02 3.19e-06  4.24e-01     1s\n",
      "  20  -3.40125346e+04 -4.22834117e+04  3.25e+02 1.92e-06  2.70e-01     1s\n",
      "  21  -3.45346901e+04 -4.06214546e+04  1.98e+02 1.41e-06  1.94e-01     1s\n",
      "  22  -3.50137526e+04 -3.90176504e+04  1.42e+02 9.15e-07  1.26e-01     1s\n",
      "  23  -3.52697655e+04 -3.86923413e+04  9.22e+01 8.16e-07  1.07e-01     1s\n",
      "  24  -3.56026630e+04 -3.83273794e+04  5.96e+01 6.88e-07  8.61e-02     1s\n",
      "  25  -3.57137180e+04 -3.75727222e+04  4.59e+01 4.47e-07  5.78e-02     1s\n",
      "  26  -3.58382573e+04 -3.72810746e+04  3.22e+01 3.58e-07  4.49e-02     1s\n",
      "  27  -3.58974458e+04 -3.68159899e+04  2.33e+01 2.19e-07  2.83e-02     1s\n",
      "  28  -3.59900953e+04 -3.66982538e+04  1.46e+01 2.20e-07  2.26e-02     1s\n",
      "  29  -3.60715347e+04 -3.65880498e+04  1.11e+01 2.01e-07  1.76e-02     1s\n",
      "  30  -3.60980176e+04 -3.63679356e+04  9.54e+00 1.65e-07  9.95e-03     1s\n",
      "  31  -3.61318709e+04 -3.62810199e+04  7.60e+00 1.37e-07  6.20e-03     1s\n",
      "  32  -3.61484682e+04 -3.62757070e+04  6.70e+00 1.33e-07  5.60e-03     1s\n",
      "  33  -3.61906637e+04 -3.62388209e+04  4.00e+00 8.87e-08  2.69e-03     1s\n",
      "  34  -3.62045730e+04 -3.62311078e+04  3.07e+00 5.94e-08  1.61e-03     1s\n",
      "  35  -3.62175755e+04 -3.62305643e+04  2.26e+00 5.34e-08  1.18e-03     1s\n",
      "  36  -3.62217271e+04 -3.62312698e+04  1.91e+00 4.99e-08  1.04e-03     1s\n",
      "  37  -3.62267673e+04 -3.62337441e+04  1.61e+00 3.89e-08  7.92e-04     1s\n",
      "  38  -3.62382349e+04 -3.62355996e+04  9.03e-01 3.45e-08  4.97e-04     1s\n",
      "  39  -3.62459908e+04 -3.62458634e+04  4.30e-01 1.28e-08  1.96e-04     1s\n",
      "  40  -3.62462994e+04 -3.62473963e+04  4.12e-01 9.87e-09  1.78e-04     1s\n",
      "  41  -3.62504484e+04 -3.62492873e+04  1.18e-01 5.94e-09  6.29e-05     1s\n",
      "  42  -3.62512291e+04 -3.62508202e+04  7.89e-02 3.36e-09  4.10e-05     1s\n",
      "  43  -3.62528096e+04 -3.62521930e+04  8.53e-04 1.01e-09  1.20e-06     1s\n",
      "  44  -3.62528353e+04 -3.62528248e+04  5.25e-07 1.61e-11  1.34e-09     1s\n",
      "\n",
      "Barrier solved model in 44 iterations and 1.09 seconds (0.72 work units)\n",
      "Optimal objective -3.62528353e+04\n",
      "\n",
      "Crossover log...\n",
      "\n",
      "      70 DPushes remaining with DInf 0.0000000e+00                 1s\n",
      "       0 DPushes remaining with DInf 0.0000000e+00                 1s\n",
      "\n",
      "   10179 PPushes remaining with PInf 0.0000000e+00                 1s\n",
      "       0 PPushes remaining with PInf 0.0000000e+00                 4s\n",
      "\n",
      "  Push phase complete: Pinf 0.0000000e+00, Dinf 1.0867697e-14      4s\n",
      "\n",
      "\n",
      "Solved with barrier\n",
      "Iteration    Objective       Primal Inf.    Dual Inf.      Time\n",
      "   10252   -3.6252835e+04   0.000000e+00   0.000000e+00      4s\n",
      "\n",
      "Solved in 10252 iterations and 3.91 seconds (4.22 work units)\n",
      "Optimal objective -3.625283535e+04\n"
     ]
    },
    {
     "data": {
      "text/plain": [
       "(       wind     solar\n",
       " 0  0.221220  0.975224\n",
       " 1  0.916405  0.400251\n",
       " 2 -0.463647  0.886020\n",
       " 3 -0.157325  0.987547\n",
       " 4  0.969825 -0.243801,\n",
       "            wind         solar\n",
       " 0  28075.310873  38120.607074\n",
       " 1  41337.746255  22393.533509\n",
       " 2  26149.421228  38021.574967\n",
       " 3  26706.724213  38216.272775\n",
       " 4  42028.516322  18488.386539)"
      ]
     },
     "execution_count": 11,
     "metadata": {},
     "output_type": "execute_result"
    }
   ],
   "source": [
    "n.optimize.optimize_mga_in_multiple_directions(\n",
    "    directions=directions[:5], dimensions=dimensions, snapshots=None, slack=0.02, solver_name=\"gurobi\",\n",
    ")"
   ]
  }
 ],
 "metadata": {
  "kernelspec": {
   "display_name": "binder",
   "language": "python",
   "name": "python3"
  },
  "language_info": {
   "codemirror_mode": {
    "name": "ipython",
    "version": 3
   },
   "file_extension": ".py",
   "mimetype": "text/x-python",
   "name": "python",
   "nbconvert_exporter": "python",
   "pygments_lexer": "ipython3",
   "version": "3.12.11"
  }
 },
 "nbformat": 4,
 "nbformat_minor": 2
}
