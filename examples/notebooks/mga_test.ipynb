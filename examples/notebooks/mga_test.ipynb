{
 "cells": [
  {
   "cell_type": "markdown",
   "metadata": {},
   "source": [
    "# Caching MGA results."
   ]
  },
  {
   "cell_type": "code",
   "execution_count": null,
   "metadata": {},
   "outputs": [],
   "source": [
    "# Use results from model.energy."
   ]
  },
  {
   "cell_type": "code",
   "execution_count": null,
   "metadata": {},
   "outputs": [],
   "source": [
    "import os\n",
    "\n",
    "import pypsa"
   ]
  },
  {
   "cell_type": "code",
   "execution_count": null,
   "metadata": {},
   "outputs": [],
   "source": [
    "n = pypsa.Network(\"../networks/model-energy/model-energy.nc\")"
   ]
  },
  {
   "cell_type": "code",
   "execution_count": null,
   "metadata": {},
   "outputs": [],
   "source": [
    "# Solve for cost optimality.\n",
    "n.optimize(solver_name=\"gurobi\")\n",
    "# n.export_to_netcdf(\"test.nc\")\n",
    "# n = pypsa.Network(\"test.nc\")"
   ]
  },
  {
   "cell_type": "code",
   "execution_count": null,
   "metadata": {},
   "outputs": [],
   "source": [
    "# Import MGA functionalities\n",
    "# # Hack to load all functions from ../../pypsa/optimization/mga.py\n",
    "import sys\n",
    "\n",
    "from pypsa.optimization.mga import *\n",
    "\n",
    "sys.path.append(\"../../pypsa/optimization\")\n",
    "from types import MethodType\n",
    "\n",
    "from mga import *\n",
    "\n",
    "n.optimize._solve_single_direction = staticmethod(\n",
    "    OptimizationAbstractMGAMixin._solve_single_direction\n",
    ")\n",
    "\n",
    "n.optimize.optimize_mga_with_cache = MethodType(\n",
    "    OptimizationAbstractMGAMixin.optimize_mga_with_cache, n.optimize\n",
    ")\n",
    "n.optimize.optimize_mga_in_multiple_directions_cache = MethodType(\n",
    "    OptimizationAbstractMGAMixin.optimize_mga_in_multiple_directions_cache, n.optimize\n",
    ")"
   ]
  },
  {
   "cell_type": "code",
   "execution_count": null,
   "metadata": {},
   "outputs": [],
   "source": [
    "directions = generate_directions_random([\"wind\", \"solar\"], 100, 0)\n",
    "dimensions = {\n",
    "    \"wind\": {\"Generator\": {\"p_nom\": {\"wind\": 1}}},\n",
    "    \"solar\": {\"Generator\": {\"p_nom\": {\"solar\": 1}}},\n",
    "}\n",
    "\n",
    "os.makedirs(\"cache_test\", exist_ok=True)"
   ]
  },
  {
   "cell_type": "code",
   "execution_count": null,
   "metadata": {},
   "outputs": [],
   "source": [
    "n.optimize._solve_single_direction(\n",
    "    \"test.nc\",\n",
    "    direction=directions.iloc[0].to_dict(),\n",
    "    dimensions=dimensions,\n",
    "    cache_key=hash_mga(n, directions, dimensions, slack=0.02),\n",
    "    cache_dir=\"cache_test\",\n",
    "    snapshots=None,\n",
    "    multi_investment_periods=False,\n",
    "    slack=0.02,\n",
    "    model_kwargs=None,\n",
    "    kwargs={\"solver_name\": \"gurobi\"},\n",
    ")"
   ]
  },
  {
   "cell_type": "code",
   "execution_count": null,
   "metadata": {},
   "outputs": [],
   "source": [
    "n.optimize.optimize_mga_in_multiple_directions_cache(\n",
    "    directions=directions[:5],\n",
    "    dimensions=dimensions,\n",
    "    cache_dir=\"cache_test\",\n",
    "    snapshots=None,\n",
    "    slack=0.02,\n",
    "    solver_name=\"gurobi\",\n",
    ")"
   ]
  },
  {
   "cell_type": "code",
   "execution_count": null,
   "metadata": {},
   "outputs": [],
   "source": [
    "n.optimize.optimize_mga_in_multiple_directions_cache(\n",
    "    directions=directions[:5],\n",
    "    dimensions=dimensions,\n",
    "    cache_dir=\"cache_test\",\n",
    "    snapshots=None,\n",
    "    slack=0.02,\n",
    "    solver_name=\"gurobi\",\n",
    ")"
   ]
  },
  {
   "cell_type": "code",
   "execution_count": null,
   "metadata": {},
   "outputs": [],
   "source": [
    "n.optimize.optimize_mga_in_multiple_directions_cache(\n",
    "    directions=directions[:5],\n",
    "    dimensions=dimensions,\n",
    "    cache_dir=None,\n",
    "    snapshots=None,\n",
    "    slack=0.02,\n",
    "    solver_name=\"gurobi\",\n",
    ")"
   ]
  },
  {
   "cell_type": "code",
   "execution_count": null,
   "metadata": {},
   "outputs": [],
   "source": [
    "n.optimize.optimize_mga_in_multiple_directions(\n",
    "    directions=directions[:5],\n",
    "    dimensions=dimensions,\n",
    "    snapshots=None,\n",
    "    slack=0.02,\n",
    "    solver_name=\"gurobi\",\n",
    ")"
   ]
  }
 ],
 "metadata": {
  "kernelspec": {
   "display_name": "",
   "language": "python",
   "name": ""
  },
  "language_info": {
   "codemirror_mode": {
    "name": "ipython",
    "version": 3
   },
   "file_extension": ".py",
   "mimetype": "text/x-python",
   "name": "python",
   "nbconvert_exporter": "python",
   "pygments_lexer": "ipython3",
   "version": "3.12.11"
  }
 },
 "nbformat": 4,
 "nbformat_minor": 2
}
