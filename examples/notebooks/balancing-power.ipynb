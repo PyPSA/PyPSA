{
 "cells": [
  {
   "cell_type": "markdown",
   "metadata": {},
   "source": [
    "# Implementing balancing power constraints\n",
    "\n",
    "## Objective\n",
    "In this example, we will implement balancing power constraints in PyPSA in a simplified manner. The objective is to enforce some generators to provide balanacing power by running below their nominal capacity but still keep a linear programming problem formulation. \n",

    "\n",
    "To do so, we need to implement additional variables and additional constraints to the model.\n",
    "\n",
    "## Methodology\n",
    "We follow the approach that has been presented by Andreas Hösl et al here: https://www.youtube.com/watch?v=fmwDxNpSMM4&t=8043s\n",
    "\n",
    "The basic idea is that each generator needs to provide reserve capacity **symmetrically**. That means it needs to be able to increase and decrease its output by the same amount in order to contribute to satisfy reserve requirements. This ensures that generators need to operate at partial load in order to provide reserve capacity. \n",
    "\n",
    "The following modifications need to be added to the linopy model in a PyPSA Network:\n",

    "\n",
    "- a new variable $p_{\\text{reserve}}(g,t)$ that represents the reserve power provided by generator $g$ in time step $t$. \n",
    "\n",
    "- a constraint that ensures that for each time step $t$, the sum of all reserve power provided is greater or equal the required reserves.\n",
    "$$\n",
    "\\forall t: \\sum_{g} p_{\\text{reserve}}(g,t) \\geq \\text{reserve requirement}\n",
    "$$\n",
    "\n",
    "- a constraint to ensure that the reserve power a generator provides must be less or equal than the difference between its output $p$ and its nominal capacity $p_\\text{nom}$, multiplied with a scalar coefficient $a$. This coefficient can have any value between 0 and 1 and represents the technical availability of a generator to provide balancing power. \n",
    "$$\n",
    "\\forall g, t: p_\\text{reserve}(g, t) \\leq a(g) p_\\text{nom}(g) - p(g,t)\n",
    "$$\n",
    "\n",
    "- a constraint  to ensure that the balancing power a generator provides must be less or equal than its actual output $p$, multiplied with a scalar coefficient $b$. This coefficient can have any value between 0 and 1 and represents the technical availability of a generator to provide balancing power. \n",
    "\n",
    "$$\n",
    "\\forall g, t: p_\\text{reserve}(g, t) \\leq b(g) p(g,t)\n",
    "$$\n",
    "\n",
    "The relationships between the variables $a$, $b$, $p_\\text{nom}$, $p$, and $p_\\text{reserve}$ are depicted in the following schematic graph.\n",
    "\n",
    "![balancing-reserves-graph](../../doc/img/balancing-reserves-graph.png)"
   ]
  },
  {
   "cell_type": "markdown",
   "metadata": {},
   "source": [
    "## Limitations and other approaches\n",
    "\n",
    "Note that this is a highly simplified approach that has significant limitations:\n",
    "- It does not distinguish between different categories of reserve power (primary, secondary and xx reserves). \n",
    "- Reserves are provided symmetrical; there is no distinction between positive and negative reserves\n",
    "- The approach only takes into account the provision of balancing power, but not the actual call for balancing power\n",
    "\n",
    "All these issues can be taken into account in a MIP unit commitment model, albeit at much higher numerical costs. \n",
    "\n",
    "Also note that reserve margin constraints have been added to PyPSA-EUR: https://github.com/PyPSA/pypsa-eur/blob/662492a23e4b0fe84f8d65611aad6668488aa88c/scripts/solve_network.py#L393-L472\n",
    "\n",
    "\n",
    "## Implementation\n",
    "We start by importing the required packages:"
   ]
  },
  {
   "cell_type": "code",
   "execution_count": null,
   "metadata": {},
   "outputs": [],
   "source": [
    "import matplotlib.pyplot as plt\n",
    "import numpy as np\n",
    "import pandas as pd\n",
    "\n",
    "import pypsa"
   ]
  },
  {
   "cell_type": "markdown",
   "metadata": {},
   "source": [
    "### The basic model\n",
    "\n",
    "Our toy model consits of a single bus with generators that have different marginal costs. We use a sine function for the load profile."
   ]
  },
  {
   "cell_type": "code",
   "execution_count": null,
   "metadata": {},
   "outputs": [],
   "source": [
    "def setup_network():\n",
    "    n = pypsa.Network()\n",
    "\n",
    "    n.add(\"Carrier\", name=\"carrier1\")\n",
    "\n",
    "    n.add(\"Bus\", name=\"bus1\", carrier=\"carrier1\")\n",
    "\n",
    "    # add generators with increasing marginal cost\n",
    "    n.add(\"Generator\", name=\"gen1\", bus=\"bus1\", p_nom=10, marginal_cost=1)\n",
    "    n.add(\"Generator\", name=\"gen2\", bus=\"bus1\", p_nom=10, marginal_cost=2)\n",
    "    n.add(\"Generator\", name=\"gen3\", bus=\"bus1\", p_nom=10, marginal_cost=3)\n",
    "    n.add(\"Generator\", name=\"gen4\", bus=\"bus1\", p_nom=10, marginal_cost=4)\n",
    "    n.add(\"Generator\", name=\"gen5\", bus=\"bus1\", p_nom=10, marginal_cost=5)\n",
    "    n.add(\"Generator\", name=\"gen6\", bus=\"bus1\", p_nom=10, marginal_cost=6)\n",
    "    n.add(\"Generator\", name=\"gen7\", bus=\"bus1\", p_nom=10, marginal_cost=7)\n",
    "    n.add(\"Generator\", name=\"gen8\", bus=\"bus1\", p_nom=100, marginal_cost=8)\n",
    "\n",
    "    # create 48 snapshots\n",
    "    snapshots = np.arange(1, 49)\n",
    "    n.set_snapshots(snapshots)\n",
    "\n",
    "    # create load and add to Network\n",
    "    load_max = 60\n",
    "    load_profile = np.sin(snapshots / 12 * np.pi) + 3.5\n",
    "    load_profile = load_profile / load_profile.max() * load_max\n",
    "    n.add(\"Load\", name=\"load1\", bus=\"bus1\", p_set=load_profile)\n",
    "    return n"
   ]
  },
  {
   "cell_type": "markdown",
   "metadata": {},
   "source": [
    "As a reference point, we create the model without any additional constraints and solve it:\n"
   ]
  },
  {
   "cell_type": "code",
   "execution_count": null,
   "metadata": {},
   "outputs": [],
   "source": [
    "n = setup_network()\n",
    "n.optimize()"
   ]
  },
  {
   "cell_type": "markdown",
   "metadata": {},
   "source": [
    "We plot the dispatch over time. As expected, the generators are dispatched strictly according to their marginal cost, each one running at nominal capacity until demand is met. "
   ]
  },
  {
   "cell_type": "code",
   "execution_count": null,
   "metadata": {},
   "outputs": [],
   "source": [
    "n.generators_t[\"p\"].plot.area().legend(loc=\"upper left\", bbox_to_anchor=(1.0, 1.0))\n",
    "plt.show()"
   ]
  },
  {
   "cell_type": "markdown",
   "metadata": {},
   "source": [
    "### Adding custum variable and constraints:\n",
    "\n",
    "Now let's modify the model by adding some additional constraints! We create a new network and create a model instance attached to it.  Now we can inspect the model instance to get a list of variables and constraints: "
   ]
  },
  {
   "cell_type": "code",
   "execution_count": null,
   "metadata": {},
   "outputs": [],
   "source": [
    "n_mod = setup_network()\n",
    "n_mod.optimize.create_model()\n",
    "n_mod.model"
   ]
  },
  {
   "cell_type": "markdown",
   "metadata": {},
   "source": [
    "We now add a new variable ``p_reserve`` that represents reserve power. It has a lower bound of zero, and it is defined for all dispatchable generators and has a time index.\n",
    "\n",
    "Note that PyPSA requires the name of the associated component class to be prepended to the variable or constraint name so that the solution is correctly written to the result network (see https://github.com/PyPSA/PyPSA/issues/664). In this case, the name of the new variable needs to start with ``Generator-``."
   ]
  },
  {
   "cell_type": "code",
   "execution_count": null,
   "metadata": {},
   "outputs": [],
   "source": [
    "v_rp = n_mod.model.add_variables(\n",
    "    lower=0,\n",
    "    coords=[n_mod.snapshots, n_mod.generators.index],\n",
    "    name=\"Generator-p_reserve\",\n",
    ")\n",
    "v_rp"
   ]
  },
  {
   "cell_type": "markdown",
   "metadata": {},
   "source": [
    "Next, we define a new constraint that ensures that for each snapshot, total reserve requirement is met by the sum of the reserve power provided by all generators.\n"
   ]
  },
  {
   "cell_type": "code",
   "execution_count": null,
   "metadata": {},
   "outputs": [],
   "source": [
    "reserve_req = 20\n",
    "\n",
    "c_sum = n_mod.model.add_constraints(\n",
    "    v_rp.sum(\"Generator\") >= reserve_req, name=\"GlobalConstraint-sum_of_reserves\"\n",
    ")\n",
    "c_sum"
   ]
  },
  {
   "cell_type": "markdown",
   "metadata": {},
   "source": [
    "\n",
    "\n",
    "Now we need to limit the amount of balancing power that each generator can provide. The following  constraint ensures that the balancing power a generator provides must be less or equal than the difference between its output ``p`` and its nominal capacity ``p_nom``:"
   ]
  },
  {
   "cell_type": "code",
   "execution_count": null,
   "metadata": {},
   "outputs": [],
   "source": [
    "a = 1\n",
    "\n",
    "c_rpos = n_mod.model.add_constraints(\n",
    "    v_rp <= -n_mod.model.variables[\"Generator-p\"] + a * n_mod.generators[\"p_nom\"],\n",
    "    name=\"Generator-reserve_upper_limit\",\n",
    ")\n",
    "c_rpos"
   ]
  },
  {
   "cell_type": "markdown",
   "metadata": {},
   "source": [
    "And, lastly, we add a constraint to ensure that the balancing power a generator provides must be less or equal than its actual output ``p``, multiplied with a scalar coefficient ``b``. This coefficient can have any value between 0 and 1 and represents the technical availability of a generator to provide balancing power. "
   ]
  },
  {
   "cell_type": "code",
   "execution_count": null,
   "metadata": {},
   "outputs": [],
   "source": [
    "b = 0.7\n",
    "\n",
    "c_rneg = n_mod.model.add_constraints(\n",
    "    v_rp <= b * n_mod.model.variables[\"Generator-p\"],\n",
    "    name=\"Generator-reserve_lower_limit\",\n",
    ")\n",
    "c_rneg"
   ]
  },
  {
   "cell_type": "markdown",
   "metadata": {},
   "source": [
    "We can now inspect the model formulation and see that our new variables and constraints have been successfully added:"
   ]
  },
  {
   "cell_type": "code",
   "execution_count": null,
   "metadata": {},
   "outputs": [],
   "source": [
    "n_mod.model"
   ]
  },
  {
   "cell_type": "markdown",
   "metadata": {},
   "source": [
    "We can now solve the modified model:"
   ]
  },
  {
   "cell_type": "code",
   "execution_count": null,
   "metadata": {},
   "outputs": [],
   "source": [
    "n_mod.optimize.solve_model()"
   ]
  },
  {
   "cell_type": "markdown",
   "metadata": {},
   "source": [
    "### Examine results\n",
    "\n",
    "Now we can create a plot to examine the results. \n",
    "\n",
    "- The reserve requirement of 20 MW is satisfied in each time step.\n",
    "- To be able to provide reserves, some generators always need to run below their nominal capacity.\n",
    "- Of all running generators, those with the highest marginal cost provide as much reserve capacity as possible. \n",
    " "
   ]
  },
  {
   "cell_type": "code",
   "execution_count": null,
   "metadata": {},
   "outputs": [],
   "source": [
    "fig, axs = plt.subplots(1, 2, sharey=True, figsize=(10, 5))\n",
    "n_mod.generators_t[\"p\"].plot.area(ax=axs[0], title=\"p\", legend=False)\n",
    "n_mod.generators_t[\"p_reserve\"].plot.area(ax=axs[1], title=\"p_reserve\")\n",
    "plt.tight_layout()\n",
    "plt.show()"
   ]
  },
  {
   "cell_type": "markdown",
   "metadata": {},
   "source": [
    "### Comparing both model versions:\n",
    "\n",
    "To be able to better compare the model versions with and without balancing constraints, we can encapsulate the functionality of adding the new variable and constraints to a function: "
   ]
  },
  {
   "cell_type": "code",
   "execution_count": null,
   "metadata": {},
   "outputs": [],
   "source": [
    "def add_balancing_constraints(\n",
    "    n: pypsa.Network, reserve_req: float = 0, a: float = 1, b: float = 1\n",
    ") -> pypsa.Network:\n",
    "    \"\"\"\n",
    "    Add balancing constraints to network.\n",
    "\n",
    "    - reserve_req (float): reserve requirement (MW)\n",
    "    - a (float): scaling coefficient for technical ability to provide reserve capacities. Should be between 0 and 1.\n",
    "    - b (float): scaling coefficient for technical ability to provide reserve capacities. Should be between 0 and 1.\n",
    "    \"\"\"\n",
    "\n",
    "    # create model instance:\n",
    "    n.optimize.create_model()\n",
    "\n",
    "    # add new variable reserves:\n",
    "    v_rp = n.model.add_variables(\n",
    "        lower=0, coords=[n.snapshots, n.generators.index], name=\"Generator-p_reserve\"\n",
    "    )\n",
    "\n",
    "    # add constraint (reserve requirements to be met in each timestep):\n",
    "    n.model.add_constraints(\n",
    "        v_rp.sum(\"Generator\") >= reserve_req, name=\"GlobalConstraint-sum_of_reserves\"\n",
    "    )\n",
    "\n",
    "    # add constraint (reserve must be less than diff between p and p_nom)\n",
    "    n.model.add_constraints(\n",
    "        v_rp <= -n.model.variables[\"Generator-p\"] + a * n.generators[\"p_nom\"],\n",
    "        name=\"Generator-reserve_upper_limit\",\n",
    "    )\n",
    "\n",
    "    # add constraint (reserve must be larger than b*p)\n",
    "    n.model.add_constraints(\n",
    "        v_rp <= b * n.model.variables[\"Generator-p\"],\n",
    "        name=\"Generator-reserve_lower_limit\",\n",
    "    )\n",
    "    return n"
   ]
  },
  {
   "cell_type": "markdown",
   "metadata": {},
   "source": [
    "Now we can run the model twice, once with and once without balancing constraints, repeat the steps above for each variant, and compare the results:"
   ]
  },
  {
   "cell_type": "code",
   "execution_count": null,
   "metadata": {},
   "outputs": [],
   "source": [
    "n1 = setup_network()\n",
    "add_balancing_constraints(n1, reserve_req=0, a=0.8, b=0.7)\n",
    "n1.optimize.solve_model()\n",
    "\n",
    "n2 = setup_network()\n",
    "add_balancing_constraints(n2, reserve_req=20, a=0.8, b=0.7)\n",
    "n2.optimize.solve_model()"
   ]
  },
  {
   "cell_type": "code",
   "execution_count": null,
   "metadata": {},
   "outputs": [],
   "source": [
    "fig, axs = plt.subplots(2, 2, sharex=True, sharey=True, figsize=(10, 8))\n",
    "for i, (n, r) in enumerate(zip([n1, n2], [0, 20])):\n",
    "    n.generators_t[\"p\"].plot.area(\n",
    "        ax=axs[0, i], ylabel=\"p [MW]\", title=f\"{r} MW reserve required\", legend=False\n",
    "    )\n",
    "    n.generators_t[\"p_reserve\"].plot.area(\n",
    "        ax=axs[1, i], ylabel=\"p_reserve [MW]\", legend=i == 1\n",
    "    )\n",
    "\n",
    "plt.tight_layout()\n",
    "plt.show()"
   ]
  },
  {
   "cell_type": "markdown",
   "metadata": {},
   "source": [
    "We can also compare the average power and reserve power provision over time. The plot shows that adding balancing constraints reduces the average power of the cheaper generators and increases the output of the more expensive ones. "
   ]
  },
  {
   "cell_type": "code",
   "execution_count": null,
   "metadata": {},
   "outputs": [],
   "source": [
    "fig, axs = plt.subplots(1, 2, sharey=True, figsize=(10, 4))\n",
    "for i, param in enumerate([\"p\", \"p_reserve\"]):\n",
    "    data = pd.concat(\n",
    "        [n.generators_t[param].mean() for n in [n1, n2]], axis=1, keys=[\"0 MW\", \"20 MW\"]\n",
    "    )\n",
    "    data.plot(ax=axs[i], kind=\"bar\", title=param, legend=i == 1)\n",
    "plt.show()"
   ]
  },
  {
   "cell_type": "markdown",
   "metadata": {},
   "source": [
    "And that's it. Feel free to change to values for ``reserve_req``, ``a`` and ``b`` and see how this affects the results. Be careful however that too large reserve requirements can render the model infeasible.\n",
    "\n",
    "You can also try out an interactive dashboard to play around with a small example model where you can try out different reserve settings at https://pypsa-reserves-dashboard.streamlit.app/ \n"
   ]
  },
  {
   "cell_type": "markdown",
   "metadata": {},
   "source": []
  }
 ],
 "metadata": {
  "kernelspec": {
   "display_name": "",
   "language": "python",
   "name": ""
  },
  "language_info": {
   "codemirror_mode": {
    "name": "ipython",
    "version": 3
   },
   "file_extension": ".py",
   "mimetype": "text/x-python",
   "name": "python",
   "nbconvert_exporter": "python",
   "pygments_lexer": "ipython3",
   "version": "3.10.0"
  },
  "orig_nbformat": 4
 },
 "nbformat": 4,
 "nbformat_minor": 2
}
