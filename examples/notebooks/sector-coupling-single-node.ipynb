{
 "cells": [
  {
   "cell_type": "markdown",
   "metadata": {},
   "source": "# Single Node Sector Coupling"
  },
  {
   "cell_type": "code",
   "metadata": {
    "ExecuteTime": {
     "end_time": "2024-05-24T07:42:12.661289Z",
     "start_time": "2024-05-24T07:42:11.505585Z"
    }
   },
   "source": [
    "from urllib.request import urlretrieve\n",
    "\n",
    "import matplotlib.pyplot as plt\n",
    "import pandas as pd\n",
    "\n",
    "import pypsa\n",
    "\n",
    "plt.style.use(\"bmh\")"
   ],
   "execution_count": null,
   "outputs": []
  },
  {
   "cell_type": "code",
   "metadata": {
    "tags": [
     "hide-cell"
    ],
    "ExecuteTime": {
     "end_time": "2024-05-24T07:42:13.069737Z",
     "start_time": "2024-05-24T07:42:12.662758Z"
    }
   },
   "source": [
    "fn = \"network-cem.nc\"\n",
    "url = \"https://tubcloud.tu-berlin.de/s/kpWaraGc9LeaxLK/download/\" + fn\n",
    "urlretrieve(url, fn)"
   ],
   "execution_count": null,
   "outputs": []
  },
  {
   "cell_type": "markdown",
   "metadata": {},
   "source": [
    "## Previous Capacity Expansion Model"
   ]
  },
  {
   "cell_type": "markdown",
   "metadata": {},
   "source": [
    "To explore sector-coupling options with PyPSA, let's load the capacity expansion model we built for the electricity system and add sector-coupling technologies and demands on top. \n",
    "\n",
    "This example has single node for Germany and 4-hourly temporal resolution for a year. It has wind and solar solar generation, an OCGT generator as well as battery and hydrogen storage to supply a fixed electricity demand.\n",
    "\n",
    "Some sector-coupling technologies have multiple ouputs (e.g. CHP plants producing heat and power). PyPSA can automatically handle links have more than one input (`bus0`)\n",
    "and/or output (i.e. `bus1`, `bus2`, `bus3`) with a given efficieny (`efficiency`, `efficiency2`, `efficiency3`)."
   ]
  },
  {
   "cell_type": "code",
   "metadata": {
    "ExecuteTime": {
     "end_time": "2024-05-24T07:42:13.279493Z",
     "start_time": "2024-05-24T07:42:13.071020Z"
    }
   },
   "source": [
    "n = pypsa.Network(\"network-cem.nc\")"
   ],
   "execution_count": null,
   "outputs": []
  },
  {
   "cell_type": "code",
   "metadata": {
    "ExecuteTime": {
     "end_time": "2024-05-24T07:42:13.282909Z",
     "start_time": "2024-05-24T07:42:13.280302Z"
    }
   },
   "source": [
    "n"
   ],
   "execution_count": null,
   "outputs": []
  },
  {
   "cell_type": "code",
   "metadata": {
    "ExecuteTime": {
     "end_time": "2024-05-24T07:42:13.287148Z",
     "start_time": "2024-05-24T07:42:13.284936Z"
    }
   },
   "source": [
    "n.buses.index"
   ],
   "execution_count": null,
   "outputs": []
  },
  {
   "cell_type": "code",
   "metadata": {
    "ExecuteTime": {
     "end_time": "2024-05-24T07:42:13.290156Z",
     "start_time": "2024-05-24T07:42:13.287869Z"
    }
   },
   "source": [
    "n.generators.index"
   ],
   "execution_count": null,
   "outputs": []
  },
  {
   "cell_type": "code",
   "metadata": {
    "ExecuteTime": {
     "end_time": "2024-05-24T07:42:13.292804Z",
     "start_time": "2024-05-24T07:42:13.290675Z"
    }
   },
   "source": [
    "n.storage_units.index"
   ],
   "execution_count": null,
   "outputs": []
  },
  {
   "cell_type": "markdown",
   "metadata": {},
   "source": [
    "## Hydrogen Production"
   ]
  },
  {
   "cell_type": "markdown",
   "metadata": {},
   "source": [
    "The following example shows how to model the components of hydrogen storage separately, i.e. electrolysis, fuel cell and storage.\n",
    "\n",
    "First, let's remove the simplified hydrogen storage representation:"
   ]
  },
  {
   "cell_type": "code",
   "metadata": {
    "ExecuteTime": {
     "end_time": "2024-05-24T07:42:13.296471Z",
     "start_time": "2024-05-24T07:42:13.293469Z"
    }
   },
   "source": [
    "n.remove(\"StorageUnit\", \"hydrogen storage underground\")"
   ],
   "execution_count": null,
   "outputs": []
  },
  {
   "cell_type": "markdown",
   "metadata": {},
   "source": [
    "Add a separate `Bus` for the hydrogen energy carrier:"
   ]
  },
  {
   "cell_type": "code",
   "metadata": {
    "ExecuteTime": {
     "end_time": "2024-05-24T07:42:13.301155Z",
     "start_time": "2024-05-24T07:42:13.297271Z"
    }
   },
   "source": [
    "n.add(\"Bus\", \"hydrogen\")"
   ],
   "execution_count": null,
   "outputs": []
  },
  {
   "cell_type": "markdown",
   "metadata": {},
   "source": [
    "Add a `Link` for the hydrogen electrolysis:"
   ]
  },
  {
   "cell_type": "code",
   "metadata": {
    "ExecuteTime": {
     "end_time": "2024-05-24T07:42:13.306176Z",
     "start_time": "2024-05-24T07:42:13.302049Z"
    }
   },
   "source": [
    "n.add(\n",
    "    \"Link\",\n",
    "    \"electrolysis\",\n",
    "    bus0=\"electricity\",\n",
    "    bus1=\"hydrogen\",\n",
    "    carrier=\"electrolysis\",\n",
    "    p_nom_extendable=True,\n",
    "    efficiency=0.7,\n",
    "    capital_cost=50e3,  # €/MW/a\n",
    ")"
   ],
   "execution_count": null,
   "outputs": []
  },
  {
   "cell_type": "markdown",
   "metadata": {},
   "source": [
    "Add a `Link` for the fuel cell which reconverts hydrogen to electricity:"
   ]
  },
  {
   "cell_type": "code",
   "metadata": {
    "ExecuteTime": {
     "end_time": "2024-05-24T07:42:13.310502Z",
     "start_time": "2024-05-24T07:42:13.306923Z"
    }
   },
   "source": [
    "n.add(\n",
    "    \"Link\",\n",
    "    \"fuel cell\",\n",
    "    bus0=\"hydrogen\",\n",
    "    bus1=\"electricity\",\n",
    "    carrier=\"fuel cell\",\n",
    "    p_nom_extendable=True,\n",
    "    efficiency=0.5,\n",
    "    capital_cost=120e3,  # €/MW/a\n",
    ")"
   ],
   "execution_count": null,
   "outputs": []
  },
  {
   "cell_type": "markdown",
   "metadata": {},
   "source": [
    "Add a `Store` for the hydrogen storage:"
   ]
  },
  {
   "cell_type": "code",
   "metadata": {
    "ExecuteTime": {
     "end_time": "2024-05-24T07:42:13.314801Z",
     "start_time": "2024-05-24T07:42:13.311271Z"
    }
   },
   "source": [
    "n.add(\n",
    "    \"Store\",\n",
    "    \"hydrogen storage\",\n",
    "    bus=\"hydrogen\",\n",
    "    carrier=\"hydrogen storage\",\n",
    "    capital_cost=140,  # €/MWh/a\n",
    "    e_nom_extendable=True,\n",
    "    e_cyclic=True,  # cyclic state of charge\n",
    ")"
   ],
   "execution_count": null,
   "outputs": []
  },
  {
   "cell_type": "markdown",
   "metadata": {},
   "source": [
    "We can also add a hydrogen demand to the hydrogen bus.\n",
    "\n",
    "In the example below, we add a constant hydrogen demand the size of the electricity demand."
   ]
  },
  {
   "cell_type": "code",
   "metadata": {
    "ExecuteTime": {
     "end_time": "2024-05-24T07:42:13.317310Z",
     "start_time": "2024-05-24T07:42:13.315403Z"
    }
   },
   "source": [
    "p_set = n.loads_t.p_set[\"demand\"].mean()"
   ],
   "execution_count": null,
   "outputs": []
  },
  {
   "cell_type": "code",
   "metadata": {
    "ExecuteTime": {
     "end_time": "2024-05-24T07:42:13.322445Z",
     "start_time": "2024-05-24T07:42:13.320145Z"
    }
   },
   "source": [
    "p_set"
   ],
   "execution_count": null,
   "outputs": []
  },
  {
   "cell_type": "code",
   "metadata": {
    "ExecuteTime": {
     "end_time": "2024-05-24T07:42:13.326125Z",
     "start_time": "2024-05-24T07:42:13.323032Z"
    }
   },
   "source": [
    "n.add(\"Load\", \"hydrogen demand\", bus=\"hydrogen\", carrier=\"hydrogen\", p_set=p_set)  # MW"
   ],
   "execution_count": null,
   "outputs": []
  },
  {
   "cell_type": "markdown",
   "metadata": {},
   "source": [
    "## Heat Demand"
   ]
  },
  {
   "cell_type": "markdown",
   "metadata": {},
   "source": [
    "For the heat demand, we create another bus and connect a load with the heat demand time series to it:"
   ]
  },
  {
   "cell_type": "code",
   "metadata": {
    "ExecuteTime": {
     "end_time": "2024-05-24T07:42:13.330038Z",
     "start_time": "2024-05-24T07:42:13.326792Z"
    }
   },
   "source": [
    "n.add(\"Bus\", \"heat\")"
   ],
   "execution_count": null,
   "outputs": []
  },
  {
   "cell_type": "code",
   "metadata": {
    "ExecuteTime": {
     "end_time": "2024-05-24T07:42:13.713847Z",
     "start_time": "2024-05-24T07:42:13.330846Z"
    }
   },
   "source": [
    "url = \"https://tubcloud.tu-berlin.de/s/mSkHERH8fJCKNXx/download/heat-load-example.csv\"\n",
    "p_set = pd.read_csv(url, index_col=0, parse_dates=True).squeeze()"
   ],
   "execution_count": null,
   "outputs": []
  },
  {
   "cell_type": "code",
   "metadata": {
    "ExecuteTime": {
     "end_time": "2024-05-24T07:42:13.717331Z",
     "start_time": "2024-05-24T07:42:13.714452Z"
    }
   },
   "source": [
    "p_set.head()"
   ],
   "execution_count": null,
   "outputs": []
  },
  {
   "cell_type": "code",
   "metadata": {
    "ExecuteTime": {
     "end_time": "2024-05-24T07:42:13.721025Z",
     "start_time": "2024-05-24T07:42:13.717916Z"
    }
   },
   "source": [
    "n.add(\"Load\", \"heat demand\", carrier=\"heat\", bus=\"heat\", p_set=p_set)"
   ],
   "execution_count": null,
   "outputs": []
  },
  {
   "cell_type": "code",
   "metadata": {
    "ExecuteTime": {
     "end_time": "2024-05-24T07:42:14.296982Z",
     "start_time": "2024-05-24T07:42:13.721636Z"
    }
   },
   "source": [
    "n.loads_t.p_set.div(1e3).plot(figsize=(12, 4), ylabel=\"GW\")"
   ],
   "execution_count": null,
   "outputs": []
  },
  {
   "cell_type": "markdown",
   "metadata": {},
   "source": [
    "## Heat pumps"
   ]
  },
  {
   "cell_type": "markdown",
   "metadata": {},
   "source": [
    "To model heat pumps, first we have to calculate the **coefficient of performance (COP)** profile based on the temperature profile of the heat source.\n",
    "\n",
    "In the example below, we calculate the COP for an air-sourced heat pump with a sink temperature of 55° C and a population-weighted ambient temperature profile for Germany.\n",
    "\n",
    "The heat pump performance is given by the following function:\n",
    "\n",
    "$$\n",
    "COP(\\Delta T) = 6.81 - 0.121 \\Delta T + 0.00063^\\Delta T^2\n",
    "$$\n",
    "where $\\Delta T = T_{sink} - T_{source}$."
   ]
  },
  {
   "cell_type": "code",
   "metadata": {
    "ExecuteTime": {
     "end_time": "2024-05-24T07:42:14.299601Z",
     "start_time": "2024-05-24T07:42:14.297727Z"
    }
   },
   "source": [
    "def cop(t_source, t_sink=55):\n",
    "    delta_t = t_sink - t_source\n",
    "    return 6.81 - 0.121 * delta_t + 0.000630 * delta_t**2"
   ],
   "execution_count": null,
   "outputs": []
  },
  {
   "cell_type": "code",
   "metadata": {
    "ExecuteTime": {
     "end_time": "2024-05-24T07:42:15.829886Z",
     "start_time": "2024-05-24T07:42:14.300214Z"
    }
   },
   "source": [
    "url = \"https://tubcloud.tu-berlin.de/s/S4jRAQMP5Te96jW/download/ninja_weather_country_DE_merra-2_population_weighted.csv\"\n",
    "temp = pd.read_csv(url, skiprows=2, index_col=0, parse_dates=True).loc[\n",
    "    \"2015\", \"temperature\"\n",
    "][::4]"
   ],
   "execution_count": null,
   "outputs": []
  },
  {
   "cell_type": "code",
   "metadata": {
    "ExecuteTime": {
     "end_time": "2024-05-24T07:42:16.226699Z",
     "start_time": "2024-05-24T07:42:15.830493Z"
    }
   },
   "source": [
    "cop(temp).plot(figsize=(10, 2), ylabel=\"COP\");"
   ],
   "execution_count": null,
   "outputs": []
  },
  {
   "cell_type": "code",
   "metadata": {
    "ExecuteTime": {
     "end_time": "2024-05-24T07:42:16.298001Z",
     "start_time": "2024-05-24T07:42:16.227657Z"
    }
   },
   "source": [
    "plt.scatter(temp, cop(temp))\n",
    "plt.xlabel(\"temperature [°C]\")\n",
    "plt.ylabel(\"COP [-]\")"
   ],
   "execution_count": null,
   "outputs": []
  },
  {
   "cell_type": "markdown",
   "metadata": {},
   "source": [
    "Once we have calculated the heat pump coefficient of performance, we can add the heat pump to the network as a `Link`. We use the parameter `efficiency` to incorporate the COP."
   ]
  },
  {
   "cell_type": "code",
   "metadata": {
    "ExecuteTime": {
     "end_time": "2024-05-24T07:42:16.303741Z",
     "start_time": "2024-05-24T07:42:16.298777Z"
    }
   },
   "source": [
    "n.add(\n",
    "    \"Link\",\n",
    "    \"heat pump\",\n",
    "    carrier=\"heat pump\",\n",
    "    bus0=\"electricity\",\n",
    "    bus1=\"heat\",\n",
    "    efficiency=cop(temp),\n",
    "    p_nom_extendable=True,\n",
    "    capital_cost=3e5,  # €/MWe/a\n",
    ")"
   ],
   "execution_count": null,
   "outputs": []
  },
  {
   "cell_type": "markdown",
   "metadata": {},
   "source": [
    "Let's also add a resistive heater as backup technology:"
   ]
  },
  {
   "cell_type": "code",
   "metadata": {
    "ExecuteTime": {
     "end_time": "2024-05-24T07:42:16.308918Z",
     "start_time": "2024-05-24T07:42:16.304634Z"
    }
   },
   "source": [
    "n.add(\n",
    "    \"Link\",\n",
    "    \"resistive heater\",\n",
    "    carrier=\"resistive heater\",\n",
    "    bus0=\"electricity\",\n",
    "    bus1=\"heat\",\n",
    "    efficiency=0.9,\n",
    "    capital_cost=1e4,  # €/MWe/a\n",
    "    p_nom_extendable=True,\n",
    ")"
   ],
   "execution_count": null,
   "outputs": []
  },
  {
   "cell_type": "markdown",
   "metadata": {},
   "source": [
    "## Combined Heat-and-Power (CHP)"
   ]
  },
  {
   "cell_type": "markdown",
   "metadata": {},
   "source": [
    "In the following, we are going to add gas-fired combined heat-and-power plants (CHPs). Today, these would use fossil gas, but in the example below we assume green methane with relatively high marginal costs. Since we have no other net emission technology, we can remove the CO$_2$ limit."
   ]
  },
  {
   "cell_type": "code",
   "metadata": {
    "ExecuteTime": {
     "end_time": "2024-05-24T07:42:16.312063Z",
     "start_time": "2024-05-24T07:42:16.309601Z"
    }
   },
   "source": [
    "n.remove(\"GlobalConstraint\", \"CO2Limit\")"
   ],
   "execution_count": null,
   "outputs": []
  },
  {
   "cell_type": "markdown",
   "metadata": {},
   "source": [
    "Then, we explicitly represent the energy carrier gas:"
   ]
  },
  {
   "cell_type": "code",
   "metadata": {
    "ExecuteTime": {
     "end_time": "2024-05-24T07:42:16.316389Z",
     "start_time": "2024-05-24T07:42:16.313095Z"
    }
   },
   "source": [
    "n.add(\"Bus\", \"gas\", carrier=\"gas\")"
   ],
   "execution_count": null,
   "outputs": []
  },
  {
   "cell_type": "markdown",
   "metadata": {},
   "source": [
    "And add a `Store` of gas, which can be depleted (up to 100 TWh) with fuel costs of 150 €/MWh."
   ]
  },
  {
   "cell_type": "code",
   "metadata": {
    "ExecuteTime": {
     "end_time": "2024-05-24T07:42:16.320971Z",
     "start_time": "2024-05-24T07:42:16.317343Z"
    }
   },
   "source": [
    "n.add(\n",
    "    \"Store\",\n",
    "    \"gas storage\",\n",
    "    carrier=\"gas storage\",\n",
    "    e_initial=100e6,  # MWh\n",
    "    e_nom=100e6,  # MWh\n",
    "    bus=\"gas\",\n",
    "    marginal_cost=150,  # €/MWh_th\n",
    ")"
   ],
   "execution_count": null,
   "outputs": []
  },
  {
   "cell_type": "markdown",
   "metadata": {},
   "source": [
    "When we do this, we have to model the OCGT power plant as link which converts gas to electricity, not as generator."
   ]
  },
  {
   "cell_type": "code",
   "metadata": {
    "ExecuteTime": {
     "end_time": "2024-05-24T07:42:16.324170Z",
     "start_time": "2024-05-24T07:42:16.321657Z"
    }
   },
   "source": [
    "n.remove(\"Generator\", \"OCGT\")"
   ],
   "execution_count": null,
   "outputs": []
  },
  {
   "cell_type": "code",
   "metadata": {
    "ExecuteTime": {
     "end_time": "2024-05-24T07:42:16.328332Z",
     "start_time": "2024-05-24T07:42:16.324708Z"
    }
   },
   "source": [
    "n.add(\n",
    "    \"Link\",\n",
    "    \"OCGT\",\n",
    "    bus0=\"gas\",\n",
    "    bus1=\"electricity\",\n",
    "    carrier=\"OCGT\",\n",
    "    p_nom_extendable=True,\n",
    "    capital_cost=20000,  # €/MW/a\n",
    "    efficiency=0.4,\n",
    ")"
   ],
   "execution_count": null,
   "outputs": []
  },
  {
   "cell_type": "markdown",
   "metadata": {},
   "source": [
    "Next, we are going to add a combined heat-and-power (CHP) plant with fixed heat-power ratio (i.e. backpressure operation). If you want to model flexible heat-power ratios, have a look at this example: https://pypsa.readthedocs.io/en/latest/examples/power-to-gas-boiler-chp.html"
   ]
  },
  {
   "cell_type": "code",
   "metadata": {
    "ExecuteTime": {
     "end_time": "2024-05-24T07:42:16.337212Z",
     "start_time": "2024-05-24T07:42:16.328886Z"
    }
   },
   "source": [
    "n.add(\n",
    "    \"Link\",\n",
    "    \"CHP\",\n",
    "    bus0=\"gas\",\n",
    "    bus1=\"electricity\",\n",
    "    bus2=\"heat\",\n",
    "    carrier=\"CHP\",\n",
    "    p_nom_extendable=True,\n",
    "    capital_cost=40000,\n",
    "    efficiency=0.4,\n",
    "    efficiency2=0.4,\n",
    ")"
   ],
   "execution_count": null,
   "outputs": []
  },
  {
   "cell_type": "markdown",
   "metadata": {},
   "source": [
    "## Electric Vehicles"
   ]
  },
  {
   "cell_type": "markdown",
   "metadata": {},
   "source": [
    "To model electric vehicles, we first create another bus for the electric vehicles."
   ]
  },
  {
   "cell_type": "code",
   "metadata": {
    "ExecuteTime": {
     "end_time": "2024-05-24T07:42:16.341026Z",
     "start_time": "2024-05-24T07:42:16.337923Z"
    }
   },
   "source": [
    "n.add(\"Bus\", \"EV\", carrier=\"EV\")"
   ],
   "execution_count": null,
   "outputs": []
  },
  {
   "cell_type": "markdown",
   "metadata": {},
   "source": [
    "Then, we can attach the electricity consumption of electric vehicles to this bus:"
   ]
  },
  {
   "cell_type": "code",
   "metadata": {
    "ExecuteTime": {
     "end_time": "2024-05-24T07:42:16.799320Z",
     "start_time": "2024-05-24T07:42:16.341707Z"
    }
   },
   "source": [
    "url = \"https://tubcloud.tu-berlin.de/s/9r5bMSbzzQiqG7H/download/electric-vehicle-profile-example.csv\"\n",
    "p_set = pd.read_csv(url, index_col=0, parse_dates=True).squeeze()"
   ],
   "execution_count": null,
   "outputs": []
  },
  {
   "cell_type": "code",
   "metadata": {
    "ExecuteTime": {
     "end_time": "2024-05-24T07:42:16.915306Z",
     "start_time": "2024-05-24T07:42:16.801173Z"
    }
   },
   "source": [
    "p_set.loc[\"2015-01-01\"].div(1e3).plot(figsize=(4, 4), ylabel=\"GW\")"
   ],
   "execution_count": null,
   "outputs": []
  },
  {
   "cell_type": "code",
   "metadata": {
    "ExecuteTime": {
     "end_time": "2024-05-24T07:42:16.919166Z",
     "start_time": "2024-05-24T07:42:16.916140Z"
    }
   },
   "source": [
    "n.add(\"Load\", \"EV demand\", bus=\"EV\", carrier=\"EV demand\", p_set=p_set)"
   ],
   "execution_count": null,
   "outputs": []
  },
  {
   "cell_type": "markdown",
   "metadata": {},
   "source": [
    "Let's have a quick look at how the heat, electricity, constant hydrogen and electric vehicle demands relate to each other:"
   ]
  },
  {
   "cell_type": "code",
   "metadata": {
    "ExecuteTime": {
     "end_time": "2024-05-24T07:42:17.376681Z",
     "start_time": "2024-05-24T07:42:16.920131Z"
    }
   },
   "source": [
    "n.loads_t.p_set.div(1e3).plot(figsize=(10, 3), ylabel=\"GW\")\n",
    "plt.axhline(\n",
    "    n.loads.loc[\"hydrogen demand\", \"p_set\"] / 1e3, label=\"hydrogen demand\", color=\"m\"\n",
    ")\n",
    "plt.legend()"
   ],
   "execution_count": null,
   "outputs": []
  },
  {
   "cell_type": "markdown",
   "metadata": {},
   "source": [
    "The electric vehicles can only be charged when they are plugged-in. Below we load an availability profile\n",
    "telling us what share of electric vehicles is plugged-in **at home** -- we only assume home charging in this example."
   ]
  },
  {
   "cell_type": "code",
   "metadata": {
    "ExecuteTime": {
     "end_time": "2024-05-24T07:42:17.827888Z",
     "start_time": "2024-05-24T07:42:17.377590Z"
    }
   },
   "source": [
    "url = \"https://tubcloud.tu-berlin.de/s/E3PBWPfYaWwCq7a/download/electric-vehicle-availability-example.csv\"\n",
    "availability_profile = pd.read_csv(url, index_col=0, parse_dates=True).squeeze()"
   ],
   "execution_count": null,
   "outputs": []
  },
  {
   "cell_type": "code",
   "metadata": {
    "ExecuteTime": {
     "end_time": "2024-05-24T07:42:17.945126Z",
     "start_time": "2024-05-24T07:42:17.828955Z"
    }
   },
   "source": [
    "availability_profile.loc[\"2015-01-01\"].plot(ylim=(0, 1))"
   ],
   "execution_count": null,
   "outputs": []
  },
  {
   "cell_type": "markdown",
   "metadata": {},
   "source": [
    "Then, we can add a link for the electric vehicle charger using assumption about the number of EVs and their charging rates."
   ]
  },
  {
   "cell_type": "code",
   "metadata": {
    "ExecuteTime": {
     "end_time": "2024-05-24T07:42:17.947903Z",
     "start_time": "2024-05-24T07:42:17.946086Z"
    }
   },
   "source": [
    "number_cars = 40e6  #  number of EV cars\n",
    "bev_charger_rate = 0.011  # 3-phase EV charger with 11 kW\n",
    "p_nom = number_cars * bev_charger_rate"
   ],
   "execution_count": null,
   "outputs": []
  },
  {
   "cell_type": "code",
   "metadata": {
    "ExecuteTime": {
     "end_time": "2024-05-24T07:42:17.957383Z",
     "start_time": "2024-05-24T07:42:17.952895Z"
    }
   },
   "source": [
    "n.add(\n",
    "    \"Link\",\n",
    "    \"EV charger\",\n",
    "    bus0=\"electricity\",\n",
    "    bus1=\"EV\",\n",
    "    p_nom=p_nom,\n",
    "    carrier=\"EV charger\",\n",
    "    p_max_pu=availability_profile,\n",
    "    efficiency=0.9,\n",
    ")"
   ],
   "execution_count": null,
   "outputs": []
  },
  {
   "cell_type": "markdown",
   "metadata": {},
   "source": [
    "We can also allow vehicle-to-grid operation (i.e. electric vehicles inject power into the grid):"
   ]
  },
  {
   "cell_type": "code",
   "metadata": {
    "ExecuteTime": {
     "end_time": "2024-05-24T07:42:17.962277Z",
     "start_time": "2024-05-24T07:42:17.957959Z"
    }
   },
   "source": [
    "n.add(\n",
    "    \"Link\",\n",
    "    \"V2G\",\n",
    "    bus0=\"EV\",\n",
    "    bus1=\"electricity\",\n",
    "    p_nom=p_nom,\n",
    "    carrier=\"V2G\",\n",
    "    p_max_pu=availability_profile,\n",
    "    efficiency=0.9,\n",
    ")"
   ],
   "execution_count": null,
   "outputs": []
  },
  {
   "cell_type": "markdown",
   "metadata": {},
   "source": [
    "The demand-side management potential we model as a store. This is not unlike a battery storage, but we impose additional constraints on when the store needs to be charged to a certain level (e.g. 75% full every morning)."
   ]
  },
  {
   "cell_type": "code",
   "metadata": {
    "ExecuteTime": {
     "end_time": "2024-05-24T07:42:17.964818Z",
     "start_time": "2024-05-24T07:42:17.963115Z"
    }
   },
   "source": [
    "bev_energy = 0.05  # average battery size of EV in MWh\n",
    "bev_dsm_participants = 0.5  # share of cars that do smart charging\n",
    "\n",
    "e_nom = number_cars * bev_energy * bev_dsm_participants"
   ],
   "execution_count": null,
   "outputs": []
  },
  {
   "cell_type": "code",
   "metadata": {
    "ExecuteTime": {
     "end_time": "2024-05-24T07:42:18.398795Z",
     "start_time": "2024-05-24T07:42:17.965559Z"
    }
   },
   "source": [
    "url = \"https://tubcloud.tu-berlin.de/s/K62yACBRTrxLTia/download/dsm-profile-example.csv\"\n",
    "dsm_profile = pd.read_csv(url, index_col=0, parse_dates=True).squeeze()"
   ],
   "execution_count": null,
   "outputs": []
  },
  {
   "cell_type": "code",
   "metadata": {
    "ExecuteTime": {
     "end_time": "2024-05-24T07:42:18.504224Z",
     "start_time": "2024-05-24T07:42:18.399841Z"
    }
   },
   "source": [
    "dsm_profile.loc[\"2015-01-01\"].plot(figsize=(5, 2), ylim=(0, 1))"
   ],
   "execution_count": null,
   "outputs": []
  },
  {
   "cell_type": "code",
   "metadata": {
    "ExecuteTime": {
     "end_time": "2024-05-24T07:42:18.508811Z",
     "start_time": "2024-05-24T07:42:18.504935Z"
    }
   },
   "source": [
    "n.add(\n",
    "    \"Store\",\n",
    "    \"EV DSM\",\n",
    "    bus=\"EV\",\n",
    "    carrier=\"EV battery\",\n",
    "    e_cyclic=True,  # state of charge at beginning = state of charge at the end\n",
    "    e_nom=e_nom,\n",
    "    e_min_pu=dsm_profile,\n",
    ")"
   ],
   "execution_count": null,
   "outputs": []
  },
  {
   "cell_type": "markdown",
   "metadata": {},
   "source": [
    "Then, we can solve the fully sector-coupled model altogether including electricity, passenger transport, hydrogen and heating."
   ]
  },
  {
   "cell_type": "code",
   "metadata": {
    "tags": [
     "hide-output"
    ],
    "ExecuteTime": {
     "end_time": "2024-05-24T07:43:36.334002Z",
     "start_time": "2024-05-24T07:42:18.509542Z"
    }
   },
   "source": [
    "n.optimize(solver_name=\"highs\")"
   ],
   "execution_count": null,
   "outputs": []
  },
  {
   "cell_type": "code",
   "metadata": {
    "ExecuteTime": {
     "end_time": "2024-05-24T07:43:36.477107Z",
     "start_time": "2024-05-24T07:43:36.335213Z"
    }
   },
   "source": [
    "n.statistics()"
   ],
   "execution_count": null,
   "outputs": []
  },
  {
   "cell_type": "code",
   "metadata": {
    "ExecuteTime": {
     "end_time": "2024-05-24T07:43:36.739941Z",
     "start_time": "2024-05-24T07:43:36.478646Z"
    }
   },
   "source": [
    "n.statistics()[\"Capital Expenditure\"].div(1e9).sort_values().dropna().plot.bar(\n",
    "    ylabel=\"bn€/a\", cmap=\"tab20c\", figsize=(7, 3)\n",
    ")"
   ],
   "execution_count": null,
   "outputs": []
  },
  {
   "cell_type": "code",
   "metadata": {
    "ExecuteTime": {
     "end_time": "2024-05-24T07:43:36.743213Z",
     "start_time": "2024-05-24T07:43:36.740902Z"
    }
   },
   "source": [],
   "execution_count": null,
   "outputs": []
  }
 ],
 "metadata": {
  "kernelspec": {
   "display_name": "",
   "language": "python",
   "name": ""
  },
  "language_info": {
   "codemirror_mode": {
    "name": "ipython",
    "version": 3
   },
   "file_extension": ".py",
   "mimetype": "text/x-python",
   "name": "python",
   "nbconvert_exporter": "python",
   "pygments_lexer": "ipython3",
   "version": "3.11.4"
  }
 },
 "nbformat": 4,
 "nbformat_minor": 4
}
