{
 "cells": [
  {
   "cell_type": "markdown",
   "id": "0f75d500",
   "metadata": {},
   "source": [
    "# Global Sensitivity Analysis\n",
    "\n",
    "This example demonstrates how PyPSA can be combined with Global Sensitivity Analysis (GSA) methods using Sobol indices to understand how capital cost uncertainties affect system design and costs. The third-party tool [SALib](https://salib.readthedocs.io) is used for this example. It makes sense to first read the basic SALib [tutorial](https://salib.readthedocs.io/en/latest/user_guide/basics.html) to understand the concepts before diving into this example."
   ]
  },
  {
   "cell_type": "markdown",
   "id": "568e886b",
   "metadata": {},
   "source": [
    "## Import Required Libraries\n",
    "\n",
    "We'll need PyPSA for energy system modelling and SALib for global sensitivity analysis functions. We'll also use multiprocessing to speed up the evaluation of multiple scenarios."
   ]
  },
  {
   "cell_type": "code",
   "execution_count": null,
   "id": "280bffd5",
   "metadata": {},
   "outputs": [],
   "source": [
    "import logging\n",
    "import multiprocessing as mp\n",
    "import warnings\n",
    "from functools import partial\n",
    "\n",
    "import matplotlib.pyplot as plt\n",
    "import numpy as np\n",
    "from SALib.analyze.sobol import analyze as sobol_analyze\n",
    "from SALib.sample.sobol import sample as sobol_sample\n",
    "\n",
    "import pypsa\n",
    "\n",
    "THREADS = min(mp.cpu_count(), 15)\n",
    "\n",
    "# Set to True for interaction effects\n",
    "SECOND = False\n",
    "\n",
    "# Small number of samples for demo; use 64+ for real analysis\n",
    "SAMPLES = 16\n",
    "\n",
    "logging.basicConfig(level=logging.ERROR)\n",
    "logging.getLogger(\"linopy\").setLevel(logging.ERROR)\n",
    "\n",
    "warnings.simplefilter(action='ignore', category=FutureWarning)"
   ]
  },
  {
   "cell_type": "markdown",
   "id": "36490586",
   "metadata": {},
   "source": [
    "## Create Base PyPSA Model\n",
    "\n",
    "We will re-use the [model.energy](https://model.energy) style example network. The model is a single-node capacity expansion model with only wind, solar, battery and hydrogen storage to cover a year of hourly demand. To save some computation time, we will sample just every fifth day of the year. Each day is considered at 3-hourly resolution, so we will have 8 snapshots per representative day."
   ]
  },
  {
   "cell_type": "code",
   "execution_count": null,
   "id": "a2248541",
   "metadata": {},
   "outputs": [],
   "source": [
    "n = pypsa.examples.model_energy()\n",
    "selected = n.snapshots.normalize().unique()[::5]\n",
    "snapshots = n.snapshots[n.snapshots.normalize().isin(selected)]\n",
    "n.set_snapshots(snapshots)\n",
    "n.snapshot_weightings[[\"objective\", \"generators\"]] *= 5"
   ]
  },
  {
   "cell_type": "markdown",
   "id": "cfc4e4ef",
   "metadata": {},
   "source": [
    "## Define Uncertainty Parameters\n",
    "\n",
    "We specify which technology costs are uncertain, how much they can vary and what distribution to use for sampling. The uncertainties are defined as scaling factors relative to the base investment costs for solar, wind, batteries and electrolysers."
   ]
  },
  {
   "cell_type": "code",
   "execution_count": null,
   "id": "f33c492a",
   "metadata": {},
   "outputs": [],
   "source": [
    "uncertainty_space = {\n",
    "    \"num_vars\": 4,\n",
    "    \"names\": [\"solar\", \"wind\", \"battery\", \"electrolysis\"],\n",
    "    \"bounds\": [\n",
    "        [0.6, 1],\n",
    "        [0.8, 1],\n",
    "        [0.6, 1],\n",
    "        [0.6, 1],\n",
    "    ],\n",
    "    \"dists\": [\"unif\"] * 4,\n",
    "}"
   ]
  },
  {
   "cell_type": "markdown",
   "id": "05fa092b",
   "metadata": {},
   "source": [
    "## Generate Sample Points\n",
    "\n",
    "Sobol sampling creates a systematic set of parameter combinations that efficiently explores the uncertainty space (low-discrepancy series). Each row represents one scenario to simulate."
   ]
  },
  {
   "cell_type": "code",
   "execution_count": null,
   "id": "da2c0ad8",
   "metadata": {},
   "outputs": [],
   "source": [
    "samples = sobol_sample(uncertainty_space, SAMPLES, calc_second_order=SECOND)\n",
    "display(samples[:4])\n",
    "display(len(samples))"
   ]
  },
  {
   "cell_type": "markdown",
   "id": "41a284bd",
   "metadata": {},
   "source": [
    "## Define Evaluation Function\n",
    "\n",
    "This function takes the sampled cost scaling factors, applies them to the network, runs optimization, and extracts the total system cost and optimal capacities."
   ]
  },
  {
   "cell_type": "code",
   "execution_count": null,
   "id": "4c8a4ca9",
   "metadata": {},
   "outputs": [],
   "source": [
    "def evaluate(\n",
    "    s: np.ndarray, n: pypsa.Network\n",
    ") -> tuple[float, float, float, float, float]:\n",
    "    \"\"\"Optimize with given scaling factors and evaluate system costs and capacities.\"\"\"\n",
    "    n_sim = n.copy()\n",
    "\n",
    "    attr = \"capital_cost\"\n",
    "    n_sim.generators.loc[\"solar\", attr] = s[0] * n.generators.loc[\"solar\", attr]\n",
    "    n_sim.generators.loc[\"wind\", attr] = s[1] * n.generators.loc[\"wind\", attr]\n",
    "    n_sim.storage_units.loc[\"battery storage\", attr] = (\n",
    "        s[2] * n.storage_units.loc[\"battery storage\", attr]\n",
    "    )\n",
    "    n_sim.links.loc[\"electrolysis\", attr] = s[3] * n.links.loc[\"electrolysis\", attr]\n",
    "\n",
    "    n_sim.optimize(log_to_console=False)\n",
    "\n",
    "    tsc = (n_sim.statistics.opex().sum() + n_sim.statistics.capex().sum()) / 1e9\n",
    "    solar = n_sim.generators.p_nom_opt[\"solar\"] / 1e3\n",
    "    wind = n_sim.generators.p_nom_opt[\"wind\"] / 1e3\n",
    "    battery = n_sim.storage_units.p_nom_opt[\"battery storage\"] / 1e3\n",
    "    electrolysis = n_sim.links.p_nom_opt[\"electrolysis\"] / 1e3\n",
    "\n",
    "    return tsc, solar, wind, battery, electrolysis"
   ]
  },
  {
   "cell_type": "markdown",
   "id": "5116631e",
   "metadata": {},
   "source": [
    "## Run Sensitivity Analysis\n",
    "\n",
    "We use parallel processing to evaluate all sample scenarios simultaneously, significantly reducing computation time. Each simulation optimizes the energy system with different cost assumptions and returns the total system cost and optimal capacities."
   ]
  },
  {
   "cell_type": "code",
   "execution_count": null,
   "id": "0a1c6876",
   "metadata": {},
   "outputs": [],
   "source": [
    "with mp.Pool(processes=THREADS) as pool:\n",
    "    func = partial(evaluate, n=n)\n",
    "    results = np.array(pool.map(func, samples))\n",
    "display(results[:4])"
   ]
  },
  {
   "cell_type": "markdown",
   "id": "6d2022a3",
   "metadata": {},
   "source": [
    "## Visualize Sensitivity Indices\n",
    "\n",
    "Sobol analysis calculates sensitivity indices showing how much each technology's cost uncertainty contributes to variability in system outcomes (i.e. total system cost and expanded capacities). The larger the index, the more impact that technology's cost has on the outcome. First-order indices show direct effects. Error bars indicate 95% confidence intervals. Note that for `SAMPLES = 16`, the confidence intervals may be quite large, so larger sample sizes are recommended for more reliable results."
   ]
  },
  {
   "cell_type": "code",
   "execution_count": null,
   "id": "100f9dfa",
   "metadata": {},
   "outputs": [],
   "source": [
    "outputs = [\"Total Cost\", \"Solar\", \"Wind\", \"Battery\", \"Electrolysis\"]\n",
    "for i, output in enumerate(outputs):\n",
    "    sobol_analyze(uncertainty_space, results[:, i], calc_second_order=SECOND).plot()\n",
    "    plt.gcf().suptitle(f\"{output} Sensitivity\")"
   ]
  },
  {
   "cell_type": "markdown",
   "id": "86950835",
   "metadata": {},
   "source": [
    "These illustrative results show that solar and battery costs have the largest impact on total system cost.\n",
    "The deployment of solar also substantially depends on the cost of batteries (next to its own cost).\n",
    "\n",
    "For more global sensitivity analysis functions, like the [Method of Morris](https://en.wikipedia.org/wiki/Morris_method), see the [SALib documentation](https://salib.readthedocs.io/en/latest/).\n",
    "\n",
    "## References\n",
    "\n",
    "- Herman and Usher (2017). [SALib: An open-source Python library for Sensitivity Analysis](https://doi.org/10.21105/joss.00097), Journal of Open Source Software (JOSS).\n",
    "\n",
    "- Usher et al. (2023), [Global sensitivity analysis to enhance the transparency and rigour of energy system optimisation modelling](https://doi.org/10.12688/openreseurope.15461.1), Open Research Europe.\n",
    "\n",
    "- Tröndle et al. (2020), [Trade-Offs between Geographic Scale, Cost, and Infrastructure Requirements for Fully Renewable Electricity in Europe](https://doi.org/10.1016/j.joule.2020.07.018), Joule.\n",
    "\n",
    "- Neumann et al. (2023), [Broad ranges of investment configurations for renewable power systems, robust to cost uncertainty and near-optimality](https://doi.org/10.1016/j.isci.2023.106702), iScience.\n",
    "\n"
   ]
  }
 ],
 "metadata": {
  "kernelspec": {
   "display_name": "pypsa (3.13.2)",
   "language": "python",
   "name": "python3"
  },
  "language_info": {
   "codemirror_mode": {
    "name": "ipython",
    "version": 3
   },
   "file_extension": ".py",
   "mimetype": "text/x-python",
   "name": "python",
   "nbconvert_exporter": "python",
   "pygments_lexer": "ipython3",
   "version": "3.13.2"
  }
 },
 "nbformat": 4,
 "nbformat_minor": 5
}
