{
 "cells": [
  {
   "cell_type": "code",
   "execution_count": null,
   "metadata": {
    "tags": [
     "injected-warnings",
     "hide-cell"
    ]
   },
   "outputs": [],
   "source": [
    "# General notebook settings\n",
    "import warnings\n",
    "\n",
    "warnings.filterwarnings(\"error\", category=DeprecationWarning)"
   ]
  },
  {
   "cell_type": "markdown",
   "id": "5974c3c2",
   "metadata": {},
   "source": [
    "# Rolling-Horizon Optimization\n",
    "\n",
    "An electric utility company has invested in a 200 MW wind farm, including a 20 MW battery storage system at their facilities. Suppose the facility has a constant demand of 25 MW and that the company can also obtain power from the grid at 150 €/MWh while selling excess electricity into the grid is not permitted. Given the available information, the electric utility company wants to find an optimal operational schedule for three days in March."
   ]
  },
  {
   "cell_type": "markdown",
   "id": "394aed90",
   "metadata": {},
   "source": [
    "## Initialize Network\n",
    "\n",
    "We start by modelling the electric utility company as a single node, with the load attached. The grid electricity is modelled as a generator with marginal cost of 150 €/MWh and a capacity of 30 MW."
   ]
  },
  {
   "cell_type": "code",
   "execution_count": null,
   "id": "79c94949",
   "metadata": {},
   "outputs": [],
   "source": [
    "import matplotlib.pyplot as plt\n",
    "import pandas as pd\n",
    "\n",
    "import pypsa\n",
    "\n",
    "n = pypsa.Network()\n",
    "n.add(\"Bus\", \"company\")\n",
    "n.add(\"Load\", \"demand\", bus=\"company\", p_set=25, carrier=\"load\")\n",
    "n.add(\"Generator\", \"grid\", bus=\"company\", p_nom=30, marginal_cost=150, carrier=\"grid\")"
   ]
  },
  {
   "cell_type": "markdown",
   "id": "9a9c7765",
   "metadata": {},
   "source": [
    "Next, we read in the capacity factor time series for onshore wind, which covers hourly data from 2011. We are interested in the period from 1st to 4th March. The capacity factors indicate relatively high wind availability on the 1st and 2nd of March, which decreases towards the end of the period."
   ]
  },
  {
   "cell_type": "code",
   "execution_count": null,
   "id": "d22091ff",
   "metadata": {},
   "outputs": [],
   "source": [
    "p_max_pu = pd.read_csv(\n",
    "    \"https://model.energy/data/time-series-f17c3736a2719ce7da58484180d89e2d.csv\",\n",
    "    index_col=0,\n",
    "    parse_dates=True,\n",
    ")[\"onwind\"]\n",
    "\n",
    "start_date = \"2011-03-01 00:00:00\"\n",
    "end_date = \"2011-03-03 23:00:00\"\n",
    "\n",
    "p_max_pu_select = p_max_pu[start_date:end_date]\n",
    "p_max_pu_select.plot(ylabel=\"Capacity Factor\");"
   ]
  },
  {
   "cell_type": "markdown",
   "id": "45ccb41f",
   "metadata": {},
   "source": [
    "Next, we need to tell PyPSA that theses are the snapshots (time steps) we want to optimize over. "
   ]
  },
  {
   "cell_type": "code",
   "execution_count": null,
   "id": "bc98aff0",
   "metadata": {},
   "outputs": [],
   "source": [
    "n.set_snapshots(p_max_pu_select.index)"
   ]
  },
  {
   "cell_type": "markdown",
   "id": "af262d51",
   "metadata": {},
   "source": [
    "Now, we add the wind farm with the availability time series as `p_max_pu`, and the capacity of 200 MW as `p_nom`. Then, we also add the battery storage with a dispatch capacity of 20 MW, a charge and discharge efficiency of 95% and an energy-to-power ratio of 8 hours."
   ]
  },
  {
   "cell_type": "code",
   "execution_count": null,
   "id": "77b76c61",
   "metadata": {},
   "outputs": [],
   "source": [
    "n.add(\n",
    "    \"Generator\",\n",
    "    \"onwind\",\n",
    "    bus=\"company\",\n",
    "    p_max_pu=p_max_pu_select,\n",
    "    p_nom=200,\n",
    "    carrier=\"onwind\",\n",
    ")\n",
    "\n",
    "n.add(\n",
    "    \"StorageUnit\",\n",
    "    \"battery\",\n",
    "    bus=\"company\",\n",
    "    p_nom=20,\n",
    "    carrier=\"battery\",\n",
    "    efficiency_store=0.95,\n",
    "    efficiency_dispatch=0.95,\n",
    "    max_hours=8,\n",
    ");"
   ]
  },
  {
   "cell_type": "markdown",
   "id": "8dfbe1ec",
   "metadata": {},
   "source": [
    "Now, we have received our initialised PyPSA network. In order to compare it to a system solved with rolling horizon after optimisation, we copy the initial network for convenience."
   ]
  },
  {
   "cell_type": "code",
   "execution_count": null,
   "id": "3a7c4a49",
   "metadata": {},
   "outputs": [],
   "source": [
    "m = n.copy()"
   ]
  },
  {
   "cell_type": "markdown",
   "id": "faa5cf94",
   "metadata": {},
   "source": [
    "As a first step, we solve the network optimization over the entire period under the assumption of perfect foresight. This approach assumes complete knowledge of future conditions, including weather patterns and load development."
   ]
  },
  {
   "cell_type": "code",
   "execution_count": null,
   "id": "ba1f6268",
   "metadata": {},
   "outputs": [],
   "source": [
    "n.optimize(log_to_console=False)"
   ]
  },
  {
   "cell_type": "markdown",
   "id": "6ebefe61",
   "metadata": {},
   "source": [
    "In a second step, we apply a rolling-horizon optimization to simulate limited operational foresight using the function [`n.optimize.optimize_with_rolling_horizon()`][pypsa.optimization.OptimizationAccessor.optimize_with_rolling_horizon]. Instead of optimizing over the entire period at once, the model solves shorter time windows sequentially, using only information available up to the end of the current horizon. This approach considers that future developments in weather and load conditions are uncertain. By updating the optimization as new information becomes available, the model captures more realistic operational decisions under uncertainty.\n",
    "\n",
    "For this example, we initially assume that wind capacity factor forecasts are available only 24 hours into the future (`horizon=24`) and the forecast of the next 24 hours only comes available after 24 hours (`overlap=0`). Note that we only consider limited foresight but do not account for forecast errors in this case."
   ]
  },
  {
   "cell_type": "code",
   "execution_count": null,
   "id": "c2b5b320",
   "metadata": {},
   "outputs": [],
   "source": [
    "n_rh_24_0 = m.copy()\n",
    "n_rh_24_0.optimize.optimize_with_rolling_horizon(\n",
    "    horizon=24, overlap=0, log_to_console=False\n",
    ")"
   ]
  },
  {
   "cell_type": "markdown",
   "id": "c32203d9",
   "metadata": {},
   "source": [
    "We can now compare electricity supply between the two systems. With perfect operational foresight, the model is able to integrate a higher share of wind generation, as it optimally dispatches the storage based on full knowledge of future conditions. In contrast, the limited foresight model, which lacks information about future wind scarcity, tends to deplete storage prematurely, resulting in less efficient use of wind energy."
   ]
  },
  {
   "cell_type": "code",
   "execution_count": null,
   "id": "4624dbc3",
   "metadata": {},
   "outputs": [],
   "source": [
    "supply_comparison = pd.concat(\n",
    "    {\n",
    "        \"Perfect Foresight\": n.statistics.supply(),\n",
    "        \"Rolling Horizon\": n_rh_24_0.statistics.supply(),\n",
    "    },\n",
    "    axis=1,\n",
    ").round(2)\n",
    "supply_comparison"
   ]
  },
  {
   "cell_type": "markdown",
   "id": "4b3f3f18",
   "metadata": {},
   "source": [
    "A comparison of the battery state of charge in both systems reveals the underlying cause. The system with perfect foresight anticipates upcoming drops in wind availability and therefore charges the battery fully during periods of high wind generation. This enables it to supply low-cost wind electricity to the system over a longer period. In contrast, the limited foresight model does not anticipate the decline in wind availability and, thus, discharges completely after 24 hours. Therefore, it does not see an incentive to keep the battery SOC as high as in the perfect foresight case (as long as no value is assigned to the stored energy)."
   ]
  },
  {
   "cell_type": "code",
   "execution_count": null,
   "id": "d2520ba4",
   "metadata": {},
   "outputs": [],
   "source": [
    "fig, (ax1, ax2) = plt.subplots(2, 1, sharex=True)\n",
    "\n",
    "ax1.plot(\n",
    "    n.snapshots,\n",
    "    n.storage_units_t.state_of_charge.loc[n.snapshots],\n",
    "    label=\"Perfect Foresight\",\n",
    ")\n",
    "ax1.plot(\n",
    "    n_rh_24_0.snapshots,\n",
    "    n_rh_24_0.storage_units_t.state_of_charge.loc[n_rh_24_0.snapshots],\n",
    "    label=\"Rolling Horizon (24, 0)\",\n",
    ")\n",
    "ax1.set_ylabel(\"State of Charge (MWh)\")\n",
    "ax1.set_title(\"Battery State of Charge\")\n",
    "ax1.legend(loc=\"upper left\")\n",
    "\n",
    "ax2.plot(p_max_pu_select.index, p_max_pu_select.values)\n",
    "ax2.set_ylabel(\"Capacity Factor\")\n",
    "ax2.set_title(\"Onshore Wind Capacity Factor\")"
   ]
  },
  {
   "cell_type": "markdown",
   "id": "529427c6",
   "metadata": {},
   "source": [
    "If we look at the dispatch of the different components, we can see where the perfect foresight model manages to utilize the battery better to maximise the cheaper wind energy generation. The onshore wind generation in the second half of 1st March is not utilized by the rolling horizon model. As a result the grid has to provide more electricity on 3rd of March."
   ]
  },
  {
   "cell_type": "code",
   "execution_count": null,
   "id": "e34e1345",
   "metadata": {},
   "outputs": [],
   "source": [
    "fig, (ax1, ax2) = plt.subplots(2, 1, figsize=(10, 7))\n",
    "\n",
    "# Top subplot - Perfect Foresight Network\n",
    "n.statistics.energy_balance(groupby_time=False).droplevel(0).groupby(\n",
    "    \"carrier\"\n",
    ").sum().drop(\"load\").T.plot(\n",
    "    ax=ax1,\n",
    "    title=\"Dispatch - Perfect Foresight\",\n",
    ")\n",
    "ax1.axhline(y=25, color=\"k\", linestyle=\"--\", label=\"Load\")\n",
    "ax1.axhline(y=0, color=\"k\", linestyle=\":\")\n",
    "ax1.set_ylabel(\"MW\")\n",
    "ax1.legend(ncol=4)\n",
    "\n",
    "# Bottom subplot - Rolling Horizon Network\n",
    "n_rh_24_0.statistics.energy_balance(groupby_time=False).droplevel(0).groupby(\n",
    "    \"carrier\"\n",
    ").sum().drop(\"load\").T.plot(\n",
    "    ax=ax2,\n",
    "    title=\"Dispatch - Rolling Horizon\",\n",
    ")\n",
    "ax2.axhline(y=25, color=\"k\", linestyle=\"--\", label=\"Load\")\n",
    "ax2.axhline(y=0, color=\"k\", linestyle=\":\")\n",
    "ax2.set_ylabel(\"MW\")\n",
    "ax2.legend(ncol=4)"
   ]
  },
  {
   "attachments": {   },
   "cell_type": "markdown",
   "id": "0600bc99",
   "metadata": {},
   "source": [
    "To mitigate boundary effects between consecutive optimization windows, we can introduce an overlap. This overlap will reduce the model's tendency (in myopic decision making) to deplete storage assets at the end of each optimization horizon. For example, we can investigate a 24-hour forecast horizon with a forecast update frequency of 22 hours. If the forecast update frequency is shorter than the horizon lengh, there is an overlap of the rolling horizons.\n"
   ]
  },
  {
   "cell_type": "markdown",
   "id": "2bf26d3c",
   "metadata": {},
   "source": [
    "We now investigate which effects different forecast horizon and overlap values have on the optimization, by first defining different horizon-overlap pairs and then solving them."
   ]
  },
  {
   "cell_type": "code",
   "execution_count": null,
   "id": "0dd7a29a",
   "metadata": {},
   "outputs": [],
   "source": [
    "configs = [(12, 0), (24, 2), (28, 4), (36, 12), (48, 24)]\n",
    "scenario_names = (\n",
    "    [\"Perfect Foresight\"] + [\"RH (24,0)\"] + [f\"RH ({h},{o})\" for h, o in configs]\n",
    ")\n",
    "\n",
    "results = {}\n",
    "results[\"Perfect Foresight\"] = n\n",
    "results[\"RH (24,0)\"] = n_rh_24_0\n",
    "\n",
    "for h, o in configs:\n",
    "    name = f\"RH ({h},{o})\"\n",
    "    n_temp = m.copy()\n",
    "    n_temp.optimize.optimize_with_rolling_horizon(\n",
    "        horizon=h, overlap=o, log_to_console=False\n",
    "    )\n",
    "    results[name] = n_temp"
   ]
  },
  {
   "cell_type": "markdown",
   "id": "c81662d8",
   "metadata": {},
   "source": [
    "If we look at the electricty supply of the different models, we can see that the perfect foresight model has the highest onwind generation and the lowest grid electricity consumption and vice versa the model with 12-hour foresight (no surprises!)."
   ]
  },
  {
   "cell_type": "code",
   "execution_count": null,
   "id": "6cd0ea72",
   "metadata": {},
   "outputs": [],
   "source": [
    "supply_comparison = pd.concat(\n",
    "    [results[s].statistics.supply() for s in scenario_names], axis=1\n",
    ")\n",
    "supply_comparison.columns = scenario_names\n",
    "supply_comparison"
   ]
  },
  {
   "cell_type": "markdown",
   "id": "b603acf1",
   "metadata": {},
   "source": [
    "The battery SOC illustrates the impact of different horizon and overlap parameters.\n",
    "The RH (12, 0) scenario has the least ability to anticipate future conditions and therefore fully discharges every 12 hours at the end of its rolling window.\n",
    "Compared to RH (24, 0), the RH (24, 2) scenario charges less on 2 March, which leads to a faster discharge and an earlier reliance on grid electricity.\n",
    "The RH (28, 4) and RH (36, 12) scenarios are better at anticipating the reduced wind supply toward the end of the period and, thus, discharge more slowly.\n",
    "Finally, the RH (48, 24) scenario has the longest foresight and the highest overlap, enabling it to maintain a high battery charge during the low-wind generation period and to discharge only gradually.\n",
    "Still, there is a substantial gap to the results with perfect operational foresight since the optimal charging and discharging events are more than 48 hours apart."
   ]
  },
  {
   "cell_type": "code",
   "execution_count": null,
   "id": "02b6e2e8",
   "metadata": {},
   "outputs": [],
   "source": [
    "fig, ax = plt.subplots(figsize=(10, 6))\n",
    "\n",
    "for i, s in enumerate(scenario_names):\n",
    "    ax.plot(\n",
    "        results[s].snapshots,\n",
    "        results[s].storage_units_t.state_of_charge.loc[results[s].snapshots],\n",
    "        label=s,\n",
    "        ls=\"-\" if i == 0 else \"--\",\n",
    "    )\n",
    "\n",
    "ax.legend()\n",
    "ax.set_ylabel(\"State of Charge (MWh)\")"
   ]
  },
  {
   "cell_type": "markdown",
   "id": "022a9e26",
   "metadata": {},
   "source": [
    "The limited foresight leads to suboptimal operational decisions, resulting in additional system costs compared to the perfect foresight case. "
   ]
  },
  {
   "cell_type": "code",
   "execution_count": null,
   "id": "dec2f3ed",
   "metadata": {},
   "outputs": [],
   "source": [
    "opex_comparison = pd.concat(\n",
    "    [results[s].statistics.opex() for s in scenario_names], axis=1\n",
    ")\n",
    "opex_comparison.columns = scenario_names\n",
    "opex_comparison_diff = round(\n",
    "    (opex_comparison - results[\"Perfect Foresight\"].statistics.opex().iloc[0]) / 1e3, 2\n",
    ")\n",
    "opex_comparison_diff"
   ]
  },
  {
   "cell_type": "markdown",
   "id": "33a2043c",
   "metadata": {},
   "source": [
    "Besides accounting for imperfect forecast horizons in reality, rolling horizon optimization can also help manage computational complexity by breaking up large problems into smaller chunks. In such settings, boundary effects can be mitigated by sufficient overlap between the rolling windows or assigning heuristic values for stored energy (e.g. known as water values in the hydro-electricity literature)."
   ]
  }
 ],
 "metadata": {
  "kernelspec": {
   "display_name": "",
   "language": "python",
   "name": ""
  },
  "language_info": {
   "codemirror_mode": {
    "name": "ipython",
    "version": 3
   },
   "file_extension": ".py",
   "mimetype": "text/x-python",
   "name": "python",
   "nbconvert_exporter": "python",
   "pygments_lexer": "ipython3",
   "version": "3.13.2"
  }
 },
 "nbformat": 4,
 "nbformat_minor": 5
}
