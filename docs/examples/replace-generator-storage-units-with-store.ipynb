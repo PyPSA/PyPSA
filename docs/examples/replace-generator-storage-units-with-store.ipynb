{
 "cells": [
  {
   "cell_type": "code",
   "execution_count": null,
   "metadata": {
    "tags": [
     "injected-warnings",
     "hide-cell"
    ]
   },
   "outputs": [],
   "source": [
    "# General notebook settings\n",
    "import warnings\n",
    "\n",
    "warnings.filterwarnings(\"error\", category=DeprecationWarning)"
   ]
  },
  {
   "attachments": {},
   "cell_type": "markdown",
   "metadata": {},
   "source": [
    "# StorageUnit as Link and Store Components\n",
    "\n",
    "This example demonstrates how the `StorageUnit` component can be replaced by the more fundamental `Store` and `Link` components, and how their parameters map to each other."
   ]
  },
  {
   "cell_type": "code",
   "execution_count": null,
   "metadata": {},
   "outputs": [],
   "source": [
    "import pandas as pd\n",
    "from numpy.testing import assert_almost_equal, assert_array_almost_equal\n",
    "\n",
    "import pypsa"
   ]
  },
  {
   "cell_type": "markdown",
   "metadata": {},
   "source": [
    "We define two functions we use in the following."
   ]
  },
  {
   "cell_type": "code",
   "execution_count": null,
   "metadata": {},
   "outputs": [],
   "source": [
    "def replace_storage_unit(n: pypsa.Network, name: str) -> tuple:\n",
    "    \"\"\"\n",
    "    Replace the storage unit with `name` with a bus for the energy\n",
    "    carrier, two links for the conversion of the energy carrier to and from electricity,\n",
    "    a store to keep track of the depletion of the energy carrier and its\n",
    "    CO2 emissions, and a variable generator for the storage inflow.\n",
    "\n",
    "    Because the energy size and power size are linked in the storage unit by the `max_hours`,\n",
    "    `extra_functionality` must be added to the optimisation to implement this constraint.\n",
    "    \"\"\"\n",
    "    su = n.storage_units.loc[name]\n",
    "\n",
    "    bus_name = f\"{su['bus']} {su['carrier']}\"\n",
    "    link_1_name = f\"{name} converter {su['carrier']} to AC\"\n",
    "    link_2_name = f\"{name} converter AC to {su['carrier']}\"\n",
    "    store_name = f\"{name} store {su['carrier']}\"\n",
    "    gen_name = f\"{name} inflow\"\n",
    "\n",
    "    n.add(\"Bus\", bus_name, carrier=su[\"carrier\"])\n",
    "\n",
    "    # dispatch link\n",
    "    n.add(\n",
    "        \"Link\",\n",
    "        link_1_name,\n",
    "        bus0=bus_name,\n",
    "        bus1=su[\"bus\"],\n",
    "        capital_cost=su[\"capital_cost\"] * su[\"efficiency_dispatch\"],\n",
    "        p_nom=su[\"p_nom\"] / su[\"efficiency_dispatch\"],\n",
    "        p_nom_extendable=su[\"p_nom_extendable\"],\n",
    "        p_nom_max=su[\"p_nom_max\"] / su[\"efficiency_dispatch\"],\n",
    "        p_nom_min=su[\"p_nom_min\"] / su[\"efficiency_dispatch\"],\n",
    "        p_max_pu=su[\"p_max_pu\"],\n",
    "        marginal_cost=su[\"marginal_cost\"] * su[\"efficiency_dispatch\"],\n",
    "        efficiency=su[\"efficiency_dispatch\"],\n",
    "    )\n",
    "\n",
    "    # store link\n",
    "    n.add(\n",
    "        \"Link\",\n",
    "        link_2_name,\n",
    "        bus0=su[\"bus\"],\n",
    "        bus1=bus_name,\n",
    "        p_nom=su[\"p_nom\"],\n",
    "        p_nom_extendable=su[\"p_nom_extendable\"],\n",
    "        p_nom_max=su[\"p_nom_max\"],\n",
    "        p_nom_min=su[\"p_nom_min\"],\n",
    "        p_max_pu=-su[\"p_min_pu\"],\n",
    "        efficiency=su[\"efficiency_store\"],\n",
    "    )\n",
    "\n",
    "    if (\n",
    "        name in n.storage_units_t.state_of_charge_set.columns\n",
    "        and (~pd.isnull(n.storage_units_t.state_of_charge_set[name])).any()\n",
    "    ):\n",
    "        e_max_pu = pd.Series(data=1, index=n.snapshots)\n",
    "        e_min_pu = pd.Series(data=0, index=n.snapshots)\n",
    "        non_null = ~pd.isnull(n.storage_units_t.state_of_charge_set[name])\n",
    "        e_max_pu[non_null] = n.storage_units_t.state_of_charge_set[name][non_null]\n",
    "        e_min_pu[non_null] = n.storage_units_t.state_of_charge_set[name][non_null]\n",
    "    else:\n",
    "        e_max_pu = 1\n",
    "        e_min_pu = 0\n",
    "\n",
    "    n.add(\n",
    "        \"Store\",\n",
    "        store_name,\n",
    "        bus=bus_name,\n",
    "        e_nom=su[\"p_nom\"] * su[\"max_hours\"],\n",
    "        e_nom_min=su[\"p_nom_min\"] / su[\"efficiency_dispatch\"] * su[\"max_hours\"],\n",
    "        e_nom_max=su[\"p_nom_max\"] / su[\"efficiency_dispatch\"] * su[\"max_hours\"],\n",
    "        e_nom_extendable=su[\"p_nom_extendable\"],\n",
    "        e_max_pu=e_max_pu,\n",
    "        e_min_pu=e_min_pu,\n",
    "        standing_loss=su[\"standing_loss\"],\n",
    "        e_cyclic=su[\"cyclic_state_of_charge\"],\n",
    "        e_initial=su[\"state_of_charge_initial\"],\n",
    "    )\n",
    "\n",
    "    n.add(\"Carrier\", \"rain\", co2_emissions=0)\n",
    "\n",
    "    # inflow from a variable generator, which can be curtailed (i.e. spilled)\n",
    "    inflow_max = n.storage_units_t.inflow[name].max()\n",
    "\n",
    "    if inflow_max == 0:\n",
    "        inflow_pu = 0\n",
    "    else:\n",
    "        inflow_pu = n.storage_units_t.inflow[name] / inflow_max\n",
    "\n",
    "    n.add(\n",
    "        \"Generator\",\n",
    "        gen_name,\n",
    "        bus=bus_name,\n",
    "        carrier=\"rain\",\n",
    "        p_nom=inflow_max,\n",
    "        p_max_pu=inflow_pu,\n",
    "    )\n",
    "\n",
    "    if su[\"p_nom_extendable\"]:\n",
    "        ratio2 = su[\"max_hours\"]\n",
    "        ratio1 = ratio2 * su[\"efficiency_dispatch\"]\n",
    "\n",
    "        def extra_functionality(n: pypsa.Network, sns: pd.Index) -> None:\n",
    "            m = n.model\n",
    "            lhs = (\n",
    "                m[\"Store-e_nom\"].at[store_name]\n",
    "                - m[\"Link-p_nom\"].at[link_1_name] * ratio1\n",
    "            )\n",
    "            m.add_constraints(lhs == 0, name=\"store_fix_1\")\n",
    "\n",
    "            lhs = (\n",
    "                m[\"Store-e_nom\"].at[store_name]\n",
    "                - m[\"Link-p_nom\"].at[link_2_name] * ratio2\n",
    "            )\n",
    "            m.add_constraints(lhs == 0, name=\"store_fix_2\")\n",
    "\n",
    "    else:\n",
    "        extra_functionality = None\n",
    "\n",
    "    n.remove(\"StorageUnit\", name)\n",
    "\n",
    "    return bus_name, link_1_name, link_2_name, store_name, gen_name, extra_functionality"
   ]
  },
  {
   "cell_type": "markdown",
   "metadata": {},
   "source": [
    "Now, take an existing example which has already been solved as a reference case:"
   ]
  },
  {
   "cell_type": "code",
   "execution_count": null,
   "metadata": {},
   "outputs": [],
   "source": [
    "n_r = pypsa.examples.storage_hvdc()\n",
    "n_r.optimize(log_to_console=False)"
   ]
  },
  {
   "cell_type": "markdown",
   "metadata": {},
   "source": [
    "We load it again, but now we replace the `StorageUnit` components with `Store` and `Link` components."
   ]
  },
  {
   "cell_type": "code",
   "execution_count": null,
   "metadata": {},
   "outputs": [],
   "source": [
    "n = pypsa.examples.storage_hvdc()\n",
    "\n",
    "name = \"Storage 0\"\n",
    "\n",
    "(\n",
    "    bus_name,\n",
    "    link_1_name,\n",
    "    link_2_name,\n",
    "    store_name,\n",
    "    gen_name,\n",
    "    extra_functionality,\n",
    ") = replace_storage_unit(n, name)\n",
    "n.optimize(extra_functionality=extra_functionality)"
   ]
  },
  {
   "cell_type": "markdown",
   "metadata": {},
   "source": [
    "Let's ensure that the conversion was accurate by comparing the results of the original and modified networks."
   ]
  },
  {
   "cell_type": "code",
   "execution_count": null,
   "metadata": {},
   "outputs": [],
   "source": [
    "assert_almost_equal(n_r.objective, n.objective, decimal=2)\n",
    "\n",
    "assert_array_almost_equal(\n",
    "    n_r.storage_units_t.state_of_charge[name],\n",
    "    n.stores_t.e[store_name],\n",
    ")\n",
    "\n",
    "assert_array_almost_equal(\n",
    "    n_r.storage_units_t.p[name],\n",
    "    -n.links_t.p1[link_1_name] - n.links_t.p0[link_2_name],\n",
    ")\n",
    "\n",
    "assert_array_almost_equal(\n",
    "    n_r.storage_units.at[name, \"p_nom_opt\"],\n",
    "    n.links.at[link_2_name, \"p_nom_opt\"],\n",
    ")\n",
    "\n",
    "assert_array_almost_equal(\n",
    "    n_r.storage_units.at[name, \"p_nom_opt\"],\n",
    "    n.links.at[link_1_name, \"p_nom_opt\"]\n",
    "    * n_r.storage_units.at[name, \"efficiency_dispatch\"],\n",
    ")"
   ]
  }
 ],
 "metadata": {
  "@webio": {
   "lastCommId": null,
   "lastKernelId": null
  },
  "kernelspec": {
   "display_name": "",
   "language": "python",
   "name": ""
  },
  "language_info": {
   "codemirror_mode": {
    "name": "ipython",
    "version": 3
   },
   "file_extension": ".py",
   "mimetype": "text/x-python",
   "name": "python",
   "nbconvert_exporter": "python",
   "pygments_lexer": "ipython3",
   "version": "3.13.2"
  }
 },
 "nbformat": 4,
 "nbformat_minor": 1
}
