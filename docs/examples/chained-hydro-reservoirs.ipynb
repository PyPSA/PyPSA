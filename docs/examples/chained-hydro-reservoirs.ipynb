{
 "cells": [
  {
   "attachments": {},
   "cell_type": "markdown",
   "metadata": {},
   "source": [
    "# Two chained reservoirs\n",
    "\n",
    "Two disconnected electrical loads are fed from two reservoirs linked by a river; the first reservoir has inflow from rain onto a water basin.\n",
    "\n",
    "Note that the two reservoirs are tightly coupled, meaning there is no time delay between the first one emptying and the second one filling, as there would be if there were a long stretch of river between the reservoirs. The reservoirs are essentially assumed to be close to each other. A time delay would require a \"Link\" element between different snapshots, which is not yet supported by PyPSA (but could be enabled by passing `network.optimize()` an extra_functionality function)."
   ]
  },
  {
   "cell_type": "code",
   "execution_count": null,
   "metadata": {},
   "outputs": [],
   "source": [
    "import matplotlib.pyplot as plt\n",
    "import pandas as pd\n",
    "\n",
    "import pypsa"
   ]
  },
  {
   "cell_type": "code",
   "execution_count": null,
   "metadata": {},
   "outputs": [],
   "source": [
    "network = pypsa.Network()\n",
    "network.set_snapshots(pd.date_range(\"2016-01-01 00:00\", \"2016-01-01 03:00\", freq=\"H\"))"
   ]
  },
  {
   "attachments": {},
   "cell_type": "markdown",
   "metadata": {},
   "source": [
    "Add assets to the network."
   ]
  },
  {
   "cell_type": "code",
   "execution_count": null,
   "metadata": {},
   "outputs": [],
   "source": [
    "network.add(\"Carrier\", \"reservoir\")\n",
    "network.add(\"Carrier\", \"rain\")\n",
    "\n",
    "network.add(\"Bus\", \"0\", carrier=\"AC\")\n",
    "network.add(\"Bus\", \"1\", carrier=\"AC\")\n",
    "\n",
    "network.add(\"Bus\", \"0 reservoir\", carrier=\"reservoir\")\n",
    "network.add(\"Bus\", \"1 reservoir\", carrier=\"reservoir\")\n",
    "\n",
    "\n",
    "network.add(\n",
    "    \"Generator\",\n",
    "    \"rain\",\n",
    "    bus=\"0 reservoir\",\n",
    "    carrier=\"rain\",\n",
    "    p_nom=1000,\n",
    "    p_max_pu=[0.0, 0.2, 0.7, 0.4],\n",
    ")\n",
    "\n",
    "\n",
    "network.add(\"Load\", \"0 load\", bus=\"0\", p_set=20.0)\n",
    "\n",
    "network.add(\"Load\", \"1 load\", bus=\"1\", p_set=30.0)"
   ]
  },
  {
   "attachments": {},
   "cell_type": "markdown",
   "metadata": {},
   "source": [
    "The efficiency of a river is the relation between the gravitational potential energy of 1 m^3 of water in reservoir 0 relative to its turbine versus the potential energy of 1 m^3 of water in reservoir 1 relative to its turbine"
   ]
  },
  {
   "cell_type": "code",
   "execution_count": null,
   "metadata": {},
   "outputs": [],
   "source": [
    "network.add(\n",
    "    \"Link\",\n",
    "    \"spillage\",\n",
    "    bus0=\"0 reservoir\",\n",
    "    bus1=\"1 reservoir\",\n",
    "    efficiency=0.5,\n",
    "    p_nom_extendable=True,\n",
    ")\n",
    "\n",
    "\n",
    "# water from turbine also goes into next reservoir\n",
    "network.add(\n",
    "    \"Link\",\n",
    "    \"0 turbine\",\n",
    "    bus0=\"0 reservoir\",\n",
    "    bus1=\"0\",\n",
    "    bus2=\"1 reservoir\",\n",
    "    efficiency=0.9,\n",
    "    efficiency2=0.5,\n",
    "    capital_cost=1000,\n",
    "    p_nom_extendable=True,\n",
    ")\n",
    "\n",
    "network.add(\n",
    "    \"Link\",\n",
    "    \"1 turbine\",\n",
    "    bus0=\"1 reservoir\",\n",
    "    bus1=\"1\",\n",
    "    efficiency=0.9,\n",
    "    capital_cost=1000,\n",
    "    p_nom_extendable=True,\n",
    ")\n",
    "\n",
    "\n",
    "network.add(\n",
    "    \"Store\", \"0 reservoir\", bus=\"0 reservoir\", e_cyclic=True, e_nom_extendable=True\n",
    ")\n",
    "\n",
    "network.add(\n",
    "    \"Store\", \"1 reservoir\", bus=\"1 reservoir\", e_cyclic=True, e_nom_extendable=True\n",
    ")"
   ]
  },
  {
   "cell_type": "code",
   "execution_count": null,
   "metadata": {},
   "outputs": [],
   "source": [
    "network.optimize(network.snapshots)\n",
    "print(\"Objective:\", network.objective)"
   ]
  },
  {
   "cell_type": "code",
   "execution_count": null,
   "metadata": {},
   "outputs": [],
   "source": [
    "network.generators_t.p.plot.area(figsize=(9, 4))\n",
    "plt.tight_layout()"
   ]
  },
  {
   "attachments": {},
   "cell_type": "markdown",
   "metadata": {},
   "source": [
    "Now, let's have  look at the different outputs of the links."
   ]
  },
  {
   "cell_type": "code",
   "execution_count": null,
   "metadata": {
    "scrolled": true
   },
   "outputs": [],
   "source": [
    "network.links_t.p0.plot(figsize=(9, 4), lw=3)\n",
    "plt.tight_layout()"
   ]
  },
  {
   "cell_type": "code",
   "execution_count": null,
   "metadata": {},
   "outputs": [],
   "source": [
    "network.links_t.p1.plot(figsize=(9, 4), lw=3)\n",
    "plt.tight_layout()"
   ]
  },
  {
   "cell_type": "code",
   "execution_count": null,
   "metadata": {},
   "outputs": [],
   "source": [
    "network.links_t.p2.plot(figsize=(9, 4), lw=3)\n",
    "plt.tight_layout()"
   ]
  },
  {
   "attachments": {},
   "cell_type": "markdown",
   "metadata": {},
   "source": [
    "What are the energy outputs and energy levels at the reservoirs?"
   ]
  },
  {
   "cell_type": "code",
   "execution_count": null,
   "metadata": {},
   "outputs": [],
   "source": [
    "pd.DataFrame({attr: network.stores_t[attr][\"0 reservoir\"] for attr in [\"p\", \"e\"]})"
   ]
  },
  {
   "cell_type": "code",
   "execution_count": null,
   "metadata": {},
   "outputs": [],
   "source": [
    "pd.DataFrame({attr: network.stores_t[attr][\"1 reservoir\"] for attr in [\"p\", \"e\"]})"
   ]
  },
  {
   "cell_type": "code",
   "execution_count": null,
   "metadata": {},
   "outputs": [],
   "source": []
  }
 ],
 "metadata": {
  "@webio": {
   "lastCommId": null,
   "lastKernelId": null
  },
  "kernelspec": {
   "display_name": "",
   "language": "python",
   "name": ""
  },
  "language_info": {
   "codemirror_mode": {
    "name": "ipython",
    "version": 3
   },
   "file_extension": ".py",
   "mimetype": "text/x-python",
   "name": "python",
   "nbconvert_exporter": "python",
   "pygments_lexer": "ipython3",
   "version": "3.10.5"
  }
 },
 "nbformat": 4,
 "nbformat_minor": 1
}
