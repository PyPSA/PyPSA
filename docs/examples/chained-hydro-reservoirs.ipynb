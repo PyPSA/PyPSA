{
 "cells": [
  {
   "cell_type": "code",
   "execution_count": null,
   "metadata": {
    "tags": [
     "injected-warnings",
     "hide-cell"
    ]
   },
   "outputs": [],
   "source": [
    "# General notebook settings\n",
    "import warnings\n",
    "\n",
    "warnings.filterwarnings(\"error\", category=DeprecationWarning)"
   ]
  },
  {
   "attachments": {},
   "cell_type": "markdown",
   "metadata": {},
   "source": [
    "# Chained Hydro-Reservoirs\n",
    "\n",
    "In this example, two disconnected electrical loads are fed from two reservoirs linked by a river; the first reservoir has inflow from rain onto a water basin.\n",
    "\n",
    "Note that the two reservoirs are tightly coupled, meaning there is **no time delay** between the first one emptying and the second one filling, as there would be if there were a long stretch of river between the reservoirs. The reservoirs are hence assumed to be close to each other. A time delay is currently not supported in PyPSA."
   ]
  },
  {
   "cell_type": "code",
   "execution_count": null,
   "metadata": {},
   "outputs": [],
   "source": [
    "import pandas as pd\n",
    "\n",
    "import pypsa\n",
    "\n",
    "n = pypsa.Network()\n",
    "n.set_snapshots(range(4))"
   ]
  },
  {
   "attachments": {},
   "cell_type": "markdown",
   "metadata": {},
   "source": [
    "Add assets to the network."
   ]
  },
  {
   "cell_type": "code",
   "execution_count": null,
   "metadata": {},
   "outputs": [],
   "source": [
    "n.add(\"Carrier\", \"reservoir\")\n",
    "n.add(\"Carrier\", \"rain\")\n",
    "\n",
    "n.add(\"Bus\", \"0 electricity\")\n",
    "n.add(\"Bus\", \"1 electricity\")\n",
    "\n",
    "n.add(\"Bus\", \"0 reservoir\", carrier=\"reservoir\")\n",
    "n.add(\"Bus\", \"1 reservoir\", carrier=\"reservoir\")\n",
    "\n",
    "n.add(\n",
    "    \"Generator\",\n",
    "    \"rain\",\n",
    "    bus=\"0 reservoir\",\n",
    "    carrier=\"rain\",\n",
    "    p_nom=1000,\n",
    "    p_max_pu=[0.0, 0.2, 0.7, 0.4],\n",
    ")\n",
    "\n",
    "n.add(\"Load\", \"0 load\", bus=\"0 electricity\", p_set=20)\n",
    "n.add(\"Load\", \"1 load\", bus=\"1 electricity\", p_set=30);"
   ]
  },
  {
   "attachments": {},
   "cell_type": "markdown",
   "metadata": {},
   "source": [
    "The efficiency of a river is the relation between the gravitational potential energy of 1 cubic metre of water in reservoir 0 relative to its turbine versus the potential energy of 1 cubic metre of water in reservoir 1 relative to its turbine. Water can either be spilled without generating electricity or be sent through the turbine to generate power. In both cases, the water goes into the next reservoir."
   ]
  },
  {
   "cell_type": "code",
   "execution_count": null,
   "metadata": {},
   "outputs": [],
   "source": [
    "n.add(\n",
    "    \"Link\",\n",
    "    \"spillage\",\n",
    "    bus0=\"0 reservoir\",\n",
    "    bus1=\"1 reservoir\",\n",
    "    efficiency=0.5,\n",
    "    p_nom_extendable=True,\n",
    ")\n",
    "\n",
    "n.add(\n",
    "    \"Link\",\n",
    "    \"0 turbine\",\n",
    "    bus0=\"0 reservoir\",\n",
    "    bus1=\"0 electricity\",\n",
    "    bus2=\"1 reservoir\",\n",
    "    efficiency=0.9,\n",
    "    efficiency2=0.5,\n",
    "    capital_cost=1000,\n",
    "    p_nom_extendable=True,\n",
    ")\n",
    "\n",
    "n.add(\n",
    "    \"Link\",\n",
    "    \"1 turbine\",\n",
    "    bus0=\"1 reservoir\",\n",
    "    bus1=\"1 electricity\",\n",
    "    efficiency=0.9,\n",
    "    capital_cost=1000,\n",
    "    p_nom_extendable=True,\n",
    ")\n",
    "\n",
    "\n",
    "n.add(\n",
    "    \"Store\",\n",
    "    \"0 reservoir\",\n",
    "    bus=\"0 reservoir\",\n",
    "    e_cyclic=True,\n",
    "    e_nom=10_000,\n",
    ")\n",
    "\n",
    "n.add(\n",
    "    \"Store\",\n",
    "    \"1 reservoir\",\n",
    "    bus=\"1 reservoir\",\n",
    "    e_cyclic=True,\n",
    "    e_nom=10_000,\n",
    ");"
   ]
  },
  {
   "cell_type": "code",
   "execution_count": null,
   "metadata": {},
   "outputs": [],
   "source": [
    "n.optimize(n.snapshots)\n",
    "print(\"Objective:\", n.objective)"
   ]
  },
  {
   "cell_type": "code",
   "execution_count": null,
   "metadata": {},
   "outputs": [],
   "source": [
    "n.generators_t.p.plot.area()"
   ]
  },
  {
   "attachments": {},
   "cell_type": "markdown",
   "metadata": {},
   "source": [
    "Now, let's have  look at the different outputs of the links."
   ]
  },
  {
   "cell_type": "code",
   "execution_count": null,
   "metadata": {
    "scrolled": true
   },
   "outputs": [],
   "source": [
    "n.links_t.p0.plot()"
   ]
  },
  {
   "cell_type": "code",
   "execution_count": null,
   "metadata": {},
   "outputs": [],
   "source": [
    "n.links_t.p1.plot()"
   ]
  },
  {
   "cell_type": "code",
   "execution_count": null,
   "metadata": {},
   "outputs": [],
   "source": [
    "n.links_t.p2.plot()"
   ]
  },
  {
   "attachments": {},
   "cell_type": "markdown",
   "metadata": {},
   "source": [
    "What are the energy outputs and energy levels at the reservoirs?"
   ]
  },
  {
   "cell_type": "code",
   "execution_count": null,
   "metadata": {},
   "outputs": [],
   "source": [
    "pd.DataFrame({attr: n.stores_t[attr][\"0 reservoir\"] for attr in [\"p\", \"e\"]})"
   ]
  },
  {
   "cell_type": "code",
   "execution_count": null,
   "metadata": {},
   "outputs": [],
   "source": [
    "pd.DataFrame({attr: n.stores_t[attr][\"1 reservoir\"] for attr in [\"p\", \"e\"]})"
   ]
  }
 ],
 "metadata": {
  "@webio": {
   "lastCommId": null,
   "lastKernelId": null
  },
  "kernelspec": {
   "display_name": "",
   "language": "python",
   "name": ""
  },
  "language_info": {
   "codemirror_mode": {
    "name": "ipython",
    "version": 3
   },
   "file_extension": ".py",
   "mimetype": "text/x-python",
   "name": "python",
   "nbconvert_exporter": "python",
   "pygments_lexer": "ipython3",
   "version": "3.13.2"
  }
 },
 "nbformat": 4,
 "nbformat_minor": 1
}
