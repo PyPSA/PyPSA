{
 "cells": [
  {
   "cell_type": "markdown",
   "id": "aa89fd4c",
   "metadata": {},
   "source": [
    "# Negative locational marginal prices from line congestion in DCOPF"
   ]
  },
  {
   "cell_type": "markdown",
   "id": "7814edb9",
   "metadata": {},
   "source": [
    "This notebook demonstrates how negative locational marginal prices (LMPs) can occur in electricity systems due to line congestion. Using a simple 3-bus linearised DC power flow model, we reproduce the phenomenon implemented in [Kyrie Baker's \"3bus_LMP\" example](#references). When cheap generation is trapped behind a congested line, LMPs can drop below zero as the system redistributes power flows to meet demand. This behaviour is a direct result of the duality of the DC-OPF problem, where LMPs emerge as the shadow prices of nodal power balance. With this example, we illustrates how network topology, generator costs, and constraints jointly shape prices in modern electricity markets."
   ]
  },
  {
   "cell_type": "markdown",
   "id": "49b5a086",
   "metadata": {},
   "source": [
    "## Model setup"
   ]
  },
  {
   "cell_type": "markdown",
   "id": "115c0da4",
   "metadata": {},
   "source": [
    "First, define the example electricity system in PyPSA."
   ]
  },
  {
   "cell_type": "code",
   "execution_count": null,
   "id": "72c7262d",
   "metadata": {},
   "outputs": [],
   "source": [
    "import pypsa"
   ]
  },
  {
   "cell_type": "code",
   "execution_count": null,
   "id": "6ef26c7d",
   "metadata": {},
   "outputs": [],
   "source": [
    "# Initialize network\n",
    "n = pypsa.Network()"
   ]
  },
  {
   "cell_type": "code",
   "execution_count": null,
   "id": "775b762a",
   "metadata": {},
   "outputs": [],
   "source": [
    "n.add(\"Carrier\", \"AC\", color=\"#bb0000\", nice_name=\"Electricity\")"
   ]
  },
  {
   "cell_type": "markdown",
   "id": "be31e850",
   "metadata": {},
   "source": [
    "We create three buses with generators of marginal costs $0 €/MWh (Bus1), 20 €/MWh (Bus2), and 100 €/MWh (Bus3). We connect all buses with their neighbours. All lines have the same susceptance of x=1. The line connecting Bus1 and Bus3 is bottlenecked at a maximum capacity of 10 MW. A single load of 100 MWh is connected to Bus3. "
   ]
  },
  {
   "cell_type": "code",
   "execution_count": null,
   "id": "60dd043f",
   "metadata": {},
   "outputs": [],
   "source": [
    "# Add three buses in a triangular layout\n",
    "n.add(\"Bus\", \"Bus1\", x=0, y=2, carrier=\"AC\")  # Top-left\n",
    "n.add(\"Bus\", \"Bus2\", x=2, y=2, carrier=\"AC\")  # Top-right\n",
    "n.add(\"Bus\", \"Bus3\", x=1, y=0, carrier=\"AC\")  # Bottom (load)"
   ]
  },
  {
   "cell_type": "code",
   "execution_count": null,
   "id": "0af9785a",
   "metadata": {},
   "outputs": [],
   "source": [
    "# Add generators\n",
    "n.add(\"Generator\", \"Gen1\", bus=\"Bus1\", p_nom=100, marginal_cost=10, carrier=\"AC\")\n",
    "n.add(\"Generator\", \"Gen2\", bus=\"Bus2\", p_nom=100, marginal_cost=20, carrier=\"AC\")\n",
    "n.add(\"Generator\", \"Gen3\", bus=\"Bus3\", p_nom=100, marginal_cost=100, carrier=\"AC\")"
   ]
  },
  {
   "cell_type": "code",
   "execution_count": null,
   "id": "626b5eb5",
   "metadata": {},
   "outputs": [],
   "source": [
    "# Add a load of 100 MW at Bus2\n",
    "n.add(\"Load\", \"Load3\", bus=\"Bus3\", p_set=100, carrier=\"AC\")"
   ]
  },
  {
   "cell_type": "code",
   "execution_count": null,
   "id": "a28f2f08",
   "metadata": {},
   "outputs": [],
   "source": [
    "# Add three lines\n",
    "n.add(\"Line\", \"Line12\", bus0=\"Bus1\", bus1=\"Bus2\", x=1, s_nom=100, carrier=\"AC\")\n",
    "n.add(\"Line\", \"Line23\", bus0=\"Bus2\", bus1=\"Bus3\", x=1, s_nom=100, carrier=\"AC\")\n",
    "n.add(\"Line\", \"Line13\", bus0=\"Bus1\", bus1=\"Bus3\", x=1, s_nom=10, carrier=\"AC\")"
   ]
  },
  {
   "cell_type": "markdown",
   "id": "1fd0b8e9",
   "metadata": {},
   "source": [
    "## Part 1: Negative LMPs in the DCOPF solution"
   ]
  },
  {
   "cell_type": "markdown",
   "id": "c1ddcebf",
   "metadata": {},
   "source": [
    "We solve the above network for a single timestep (\"now\"). As we have defined the components as \"Line\" components, Kirchhoff voltage laws (KVL) apply. As no investment is allowed, this operational model is equivalent to a DCOPF formulation."
   ]
  },
  {
   "cell_type": "code",
   "execution_count": null,
   "id": "a64b3125",
   "metadata": {},
   "outputs": [],
   "source": [
    "# Run linear optimal power flow\n",
    "n.optimize(solver_name=\"highs\", log_to_console=False)"
   ]
  },
  {
   "cell_type": "markdown",
   "id": "997e062b",
   "metadata": {},
   "source": [
    "Solving the model yields an optimal solution with an objective value of 7600 € in total system costs."
   ]
  },
  {
   "cell_type": "code",
   "execution_count": null,
   "id": "d31c652b",
   "metadata": {},
   "outputs": [],
   "source": [
    "print(f\"Objective value/Total system costs: {n.objective} €\")"
   ]
  },
  {
   "cell_type": "markdown",
   "id": "97ffab35",
   "metadata": {},
   "source": [
    "We find that in the optimal solution, Gen2 and Gen3 provide 30 and 70 MWh to serve the load at Bus3 respectively. Due to the KVL constraints, Gen1 is not dispatched at all, although being the cheapest, as the line connecting Bus1 and Bus3 is congested."
   ]
  },
  {
   "cell_type": "code",
   "execution_count": null,
   "id": "112548dc",
   "metadata": {},
   "outputs": [],
   "source": [
    "n.generators_t.p"
   ]
  },
  {
   "cell_type": "markdown",
   "id": "3bec5114",
   "metadata": {},
   "source": [
    "Given that all lines have equal susceptances, 2/3 of Gen2's dispatch flow across Line23 and the remaining 1/3 flow across Line13 and Line12. Accordingly, Line13 carries 10 MWh and is congested. Note that the Line12 is defined as from Bus1 to Bus2, hence the injection p0 at Bus2 is negative."
   ]
  },
  {
   "cell_type": "code",
   "execution_count": null,
   "id": "16158656",
   "metadata": {},
   "outputs": [],
   "source": [
    "n.lines_t.p0"
   ]
  },
  {
   "cell_type": "markdown",
   "id": "89ac08da",
   "metadata": {},
   "source": [
    "Looking at the marginal prices, we see that the LMP at Bus1 is negative: -60 €/MWh. As the LMP is the dual variable to the nodal balance constraint, this means we can improve (or reduce) the objective value by relieving the nodal balance at Bus1 by 1 MWh (see [Part 2](#part-2:-relieving-line-congestion))."
   ]
  },
  {
   "cell_type": "code",
   "execution_count": null,
   "id": "b7e66b4b",
   "metadata": {},
   "outputs": [],
   "source": [
    "n.buses_t.marginal_price"
   ]
  },
  {
   "cell_type": "markdown",
   "id": "f8cd0f2e",
   "metadata": {},
   "source": [
    "## Part 2: Relieving line congestion"
   ]
  },
  {
   "cell_type": "markdown",
   "id": "91c908c9",
   "metadata": {},
   "source": [
    "To see what happens when we relieve the nodal balance at Bus1, we attach a load of 1 MWh."
   ]
  },
  {
   "cell_type": "code",
   "execution_count": null,
   "id": "c8be2288",
   "metadata": {},
   "outputs": [],
   "source": [
    "n.add(\"Load\", \"Load1\", bus=\"Bus1\", p_set=1, carrier=\"AC\")"
   ]
  },
  {
   "cell_type": "markdown",
   "id": "bc32cc0e",
   "metadata": {},
   "source": [
    "... and resolve."
   ]
  },
  {
   "cell_type": "code",
   "execution_count": null,
   "id": "992cf821",
   "metadata": {},
   "outputs": [],
   "source": [
    "n.optimize(solver_name=\"highs\", log_to_console=False)"
   ]
  },
  {
   "cell_type": "code",
   "execution_count": null,
   "id": "d724b535",
   "metadata": {},
   "outputs": [],
   "source": [
    "print(f\"Objective value/Total system costs: {n.objective} €\")"
   ]
  },
  {
   "cell_type": "code",
   "execution_count": null,
   "id": "9843eeae",
   "metadata": {},
   "outputs": [],
   "source": [
    "n.generators_t.p"
   ]
  },
  {
   "cell_type": "code",
   "execution_count": null,
   "id": "65dddc9b",
   "metadata": {},
   "outputs": [],
   "source": [
    "n.lines_t.p0"
   ]
  },
  {
   "cell_type": "markdown",
   "id": "6844ed0a",
   "metadata": {},
   "source": [
    "So what has happened? By attaching a 1 MWh load at bus 1, line congestion is \"temporarily relieved\": An additional off-take of 1 MWh at bus 1 reduces the net flow from Bus1 to Bus3. Assuming Load3 to remain unchanged, this enables an injection of 2 MWh at Bus1 (coming from Gen2), with 1 MWh consumed and 1 MWh flowing from Bus1 to Bus3. Gen2 essentially increases its dispatch by 2 MWh (20 €/MWh x 2 MWh = 40 €). Line13 is still fully utilised at 10 MWh. Being the most expensive option, Gen3 decreases its output by 1 MWh (100 €/MWh x (-1 MWh) = -100 €). This combined effect creates a net reduction in total system costs of -100 € + 40 € = - 60 €."
   ]
  },
  {
   "cell_type": "markdown",
   "id": "3d1f9e8c",
   "metadata": {},
   "source": [
    "## Part 3: Plotting the regional dispatch and flows"
   ]
  },
  {
   "cell_type": "markdown",
   "id": "2f6bbb7b",
   "metadata": {},
   "source": [
    "In the following, we plot the nodal generation and line flows on a map."
   ]
  },
  {
   "cell_type": "code",
   "execution_count": null,
   "id": "f89bcae3",
   "metadata": {},
   "outputs": [],
   "source": [
    "bus_sizes = (\n",
    "    n.statistics.supply(groupby=\"bus\", comps=[\"Generator\", \"Load\"]).groupby(\"bus\").sum()\n",
    ")\n",
    "line_flows = n.lines_t.p0.iloc[0]"
   ]
  },
  {
   "cell_type": "code",
   "execution_count": null,
   "id": "bece3809",
   "metadata": {},
   "outputs": [],
   "source": [
    "import matplotlib.pyplot as plt\n",
    "\n",
    "fig, ax = plt.subplots(figsize=(8, 6))\n",
    "n.plot.map(\n",
    "    bus_sizes=bus_sizes / 10000, line_widths=line_flows / 5, line_flow=line_flows / 30\n",
    ")"
   ]
  },
  {
   "cell_type": "markdown",
   "id": "dda7b2b9",
   "metadata": {},
   "source": [
    "## References"
   ]
  },
  {
   "cell_type": "markdown",
   "id": "8e7e0714",
   "metadata": {},
   "source": [
    "- Kyri Baker (2023). 3bus_LMPs. GitHub repository. https://github.com/kyribaker/3bus_LMPs\n",
    "- Kyri Baker & Harsha Gangammanavar (2024). Locational marginal prices obey DC circuit laws. arXiv preprint arXiv:2403.19032.     \n",
    "https://doi.org/10.48550/arXiv.2403.19032"
   ]
  }
 ],
 "metadata": {
  "kernelspec": {
   "display_name": "",
   "language": "python",
   "name": ""
  },
  "language_info": {
   "codemirror_mode": {
    "name": "ipython",
    "version": 3
   },
   "file_extension": ".py",
   "mimetype": "text/x-python",
   "name": "python",
   "nbconvert_exporter": "python",
   "pygments_lexer": "ipython3",
   "version": "3.12.11"
  }
 },
 "nbformat": 4,
 "nbformat_minor": 5
}
