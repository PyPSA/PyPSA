{
 "cells": [
  {
   "cell_type": "code",
   "execution_count": null,
   "id": "8d26d3a9",
   "metadata": {
    "tags": [
     "injected-warnings",
     "hide-cell"
    ]
   },
   "outputs": [],
   "source": [
    "# General notebook settings\n",
    "import warnings\n",
    "\n",
    "warnings.filterwarnings(\"error\", category=DeprecationWarning)"
   ]
  },
  {
   "cell_type": "markdown",
   "id": "8b78da35",
   "metadata": {
    "vscode": {
     "languageId": "plaintext"
    }
   },
   "source": [
    "# Quickstart 1 - Markets\n",
    "\n",
    "## Problem Description\n",
    "\n",
    "Consider the following simple electricity market with two zones, each with a generator and a load. \n",
    "The demand in zone 1 is 500 MW and in zone 2 is 1500 MW.\n",
    "The generators have a nominal capacity of 2000 MW each, with cost functions defined as follows:\n",
    "\n",
    "- Zone 1: C1(g1) = 10 g1 + 0.005 g1²\n",
    "- Zone 2: C2(g2) = 13 g2 + 0.01 g2²\n",
    "\n",
    "Find the least-cost dispatch of the generators to meet the load while respecting the transmission capacity. Identify the marginal prices at each bus and the flow on the transmission line. Calculate the congestion rent.\n",
    "\n",
    "## PyPSA Solution\n",
    "\n",
    "For installation instructions, consult the [Installation](../home/installation.md) section first.\n",
    "\n",
    "The first step is always to import the `pypsa` module:\n"
   ]
  },
  {
   "cell_type": "code",
   "execution_count": null,
   "id": "5853e887",
   "metadata": {},
   "outputs": [],
   "source": [
    "import pypsa"
   ]
  },
  {
   "cell_type": "markdown",
   "id": "8baa1a24",
   "metadata": {},
   "source": [
    "\n",
    "A new PyPSA network instance can be created with the `pypsa.Network` constructor."
   ]
  },
  {
   "cell_type": "code",
   "execution_count": null,
   "id": "daa64f75",
   "metadata": {},
   "outputs": [],
   "source": [
    "n = pypsa.Network()"
   ]
  },
  {
   "cell_type": "markdown",
   "id": "617ff3a2",
   "metadata": {},
   "source": [
    "Components like buses can be added with `n.add()` and registered under an arbitrary name, e.g. `\"zone_1\"`:"
   ]
  },
  {
   "cell_type": "code",
   "execution_count": null,
   "id": "8e031adb",
   "metadata": {},
   "outputs": [],
   "source": [
    "n.add(\"Bus\", \"zone_1\")\n",
    "n.add(\"Bus\", \"zone_2\")\n",
    "n.buses"
   ]
  },
  {
   "cell_type": "markdown",
   "id": "3e5ae91a",
   "metadata": {},
   "source": [
    "Next, add the loads to the network, where `p_set` specifies the power demand in MW at the corresponding bus:"
   ]
  },
  {
   "cell_type": "code",
   "execution_count": null,
   "id": "e9f8a64f",
   "metadata": {},
   "outputs": [],
   "source": [
    "n.add(\"Load\", \"load_1\", bus=\"zone_1\", p_set=500)\n",
    "n.add(\"Load\", \"load_2\", bus=\"zone_2\", p_set=1500)\n",
    "n.loads"
   ]
  },
  {
   "cell_type": "markdown",
   "id": "a576f828",
   "metadata": {},
   "source": [
    "Generators are added in a similar way, where `p_nom` specifies the nominal capacity, and `marginal_cost` and `marginal_cost_quadratic` specify the linear and quadratic coefficients of the cost function:"
   ]
  },
  {
   "cell_type": "code",
   "execution_count": null,
   "id": "b1f59b5b",
   "metadata": {},
   "outputs": [],
   "source": [
    "n.add(\n",
    "    \"Generator\",\n",
    "    \"gen_1\",\n",
    "    bus=\"zone_1\",\n",
    "    p_nom=2000,\n",
    "    marginal_cost=10,\n",
    "    marginal_cost_quadratic=0.005,\n",
    ")\n",
    "n.add(\n",
    "    \"Generator\",\n",
    "    \"gen_2\",\n",
    "    bus=\"zone_2\",\n",
    "    p_nom=2000,\n",
    "    marginal_cost=13,\n",
    "    marginal_cost_quadratic=0.01,\n",
    ")\n",
    "n.generators"
   ]
  },
  {
   "cell_type": "markdown",
   "id": "9a1c138e",
   "metadata": {},
   "source": [
    "Lines connecting two buses `bus0` and `bus1` are added with a nominal capacity `s_nom` in MW and a reactance `x` in Ohm (which is required for modelling power flow):"
   ]
  },
  {
   "cell_type": "code",
   "execution_count": null,
   "id": "ecff4644",
   "metadata": {},
   "outputs": [],
   "source": [
    "n.add(\"Line\", \"line_1\", bus0=\"zone_1\", bus1=\"zone_2\", x=0.01, s_nom=400)\n",
    "n.lines"
   ]
  },
  {
   "cell_type": "markdown",
   "id": "b32efdce",
   "metadata": {},
   "source": [
    "With all components added, the network can be optimised with the `n.optimize()` method.\n",
    "This function constructs the optimisation problem with the [`linopy`](https://linopy.readthedocs.io) library, solves it with a selected solver (`\"highs\"` as default), and stores the results in the network instance `n`."
   ]
  },
  {
   "cell_type": "code",
   "execution_count": null,
   "id": "8269c5a4",
   "metadata": {},
   "outputs": [],
   "source": [
    "n.optimize(solver_name=\"highs\", log_to_console=False)"
   ]
  },
  {
   "cell_type": "markdown",
   "id": "4048af75",
   "metadata": {},
   "source": [
    "The optimised generators dispatch can be accessed with:"
   ]
  },
  {
   "cell_type": "code",
   "execution_count": null,
   "id": "ec03b8d2",
   "metadata": {},
   "outputs": [],
   "source": [
    "n.generators_t.p"
   ]
  },
  {
   "cell_type": "markdown",
   "id": "1e93200c",
   "metadata": {},
   "source": [
    "The market clearing prices per bus can be accessed with:"
   ]
  },
  {
   "cell_type": "code",
   "execution_count": null,
   "id": "36db960a",
   "metadata": {},
   "outputs": [],
   "source": [
    "n.buses_t.marginal_price"
   ]
  },
  {
   "cell_type": "markdown",
   "id": "cccae818",
   "metadata": {},
   "source": [
    "The optimised flows on transmission lines can be accessed with:"
   ]
  },
  {
   "cell_type": "code",
   "execution_count": null,
   "id": "b215da0c",
   "metadata": {},
   "outputs": [],
   "source": [
    "n.lines_t.p1"
   ]
  },
  {
   "cell_type": "markdown",
   "id": "ff110269",
   "metadata": {},
   "source": [
    "Here, `n.lines_t.p0` denotes flow from `bus0` to `bus1` if values are positive. The related attribute `n.lines_t.p1` denotes flow from `bus1` to `bus0` if values are positive.\n",
    "\n",
    "The congestion rent can be calculated as the product of the flow on the line and the price difference between the two buses:"
   ]
  },
  {
   "cell_type": "code",
   "execution_count": null,
   "id": "23817fab",
   "metadata": {},
   "outputs": [],
   "source": [
    "n.buses_t.marginal_price.eval(\"zone_2 - zone_1\") * n.lines_t.p0[\"line_1\"]"
   ]
  },
  {
   "cell_type": "markdown",
   "id": "c4ee0769",
   "metadata": {},
   "source": [
    "This example is based on Tom Brown's [Energy Systems](https://nworbmot.org/courses/es-25) course, taken from the lecture on [Complex Markets](https://nworbmot.org/courses/es-25/es-9-complex_markets.pdf), slides 37ff."
   ]
  }
 ],
 "metadata": {
  "kernelspec": {
   "display_name": "",
   "language": "python",
   "name": ""
  },
  "language_info": {
   "codemirror_mode": {
    "name": "ipython",
    "version": 3
   },
   "file_extension": ".py",
   "mimetype": "text/x-python",
   "name": "python",
   "nbconvert_exporter": "python",
   "pygments_lexer": "ipython3",
   "version": "3.13.2"
  }
 },
 "nbformat": 4,
 "nbformat_minor": 5
}
