{
 "cells": [
  {
   "cell_type": "markdown",
   "id": "8b78da35",
   "metadata": {
    "vscode": {
     "languageId": "plaintext"
    }
   },
   "source": [
    "# Quickstart 1 - Markets\n",
    "\n",
    "## Task Description\n",
    "\n",
    "Consider the following simple electricity market with two zones, each with a generator and a load. \n",
    "The demand in zone 1 is 500 MW and in zone 2 is 1500 MW.\n",
    "The generators have a nominal capacity of 2000 MW each, with cost functions defined as follows:\n",
    "- Zone 1: $C_1(g_1) = 10 g_1 + 0.005 g_1^2$\n",
    "- Zone 2: $C_2(g_2) = 13 g_2 + 0.01 g_2^2$\n",
    "\n",
    "Find the least-cost dispatch of the generators to meet the load while respecting the transmission capacity. Identify the marginal prices at each bus and the flow on the transmission line. Calculate the congestion rent.\n",
    "\n",
    "## PyPSA Solution\n",
    "\n",
    "For installation instructions, consult the [Installation](installation.md) section first.\n",
    "\n",
    "The first step is always to import the `pypsa` module:\n"
   ]
  },
  {
   "cell_type": "code",
   "execution_count": 11,
   "id": "5853e887",
   "metadata": {},
   "outputs": [],
   "source": [
    "import pypsa"
   ]
  },
  {
   "cell_type": "markdown",
   "id": "8baa1a24",
   "metadata": {},
   "source": [
    "\n",
    "A new PyPSA network instance can be created with the [`pypsa.Network`]() constructor."
   ]
  },
  {
   "cell_type": "code",
   "execution_count": 12,
   "id": "daa64f75",
   "metadata": {},
   "outputs": [],
   "source": [
    "n = pypsa.Network()"
   ]
  },
  {
   "cell_type": "markdown",
   "id": "617ff3a2",
   "metadata": {},
   "source": [
    "Components like buses can be added with [`n.add`]() and registered under an arbitrary name, e.g. `\"zone_1\"`:"
   ]
  },
  {
   "cell_type": "code",
   "execution_count": 13,
   "id": "8e031adb",
   "metadata": {},
   "outputs": [
    {
     "data": {
      "text/html": [
       "<div>\n",
       "<style scoped>\n",
       "    .dataframe tbody tr th:only-of-type {\n",
       "        vertical-align: middle;\n",
       "    }\n",
       "\n",
       "    .dataframe tbody tr th {\n",
       "        vertical-align: top;\n",
       "    }\n",
       "\n",
       "    .dataframe thead th {\n",
       "        text-align: right;\n",
       "    }\n",
       "</style>\n",
       "<table border=\"1\" class=\"dataframe\">\n",
       "  <thead>\n",
       "    <tr style=\"text-align: right;\">\n",
       "      <th></th>\n",
       "      <th>v_nom</th>\n",
       "      <th>type</th>\n",
       "      <th>x</th>\n",
       "      <th>y</th>\n",
       "      <th>carrier</th>\n",
       "      <th>unit</th>\n",
       "      <th>location</th>\n",
       "      <th>v_mag_pu_set</th>\n",
       "      <th>v_mag_pu_min</th>\n",
       "      <th>v_mag_pu_max</th>\n",
       "      <th>control</th>\n",
       "      <th>generator</th>\n",
       "      <th>sub_network</th>\n",
       "    </tr>\n",
       "    <tr>\n",
       "      <th>Bus</th>\n",
       "      <th></th>\n",
       "      <th></th>\n",
       "      <th></th>\n",
       "      <th></th>\n",
       "      <th></th>\n",
       "      <th></th>\n",
       "      <th></th>\n",
       "      <th></th>\n",
       "      <th></th>\n",
       "      <th></th>\n",
       "      <th></th>\n",
       "      <th></th>\n",
       "      <th></th>\n",
       "    </tr>\n",
       "  </thead>\n",
       "  <tbody>\n",
       "    <tr>\n",
       "      <th>zone_1</th>\n",
       "      <td>1.0</td>\n",
       "      <td></td>\n",
       "      <td>0.0</td>\n",
       "      <td>0.0</td>\n",
       "      <td>AC</td>\n",
       "      <td></td>\n",
       "      <td></td>\n",
       "      <td>1.0</td>\n",
       "      <td>0.0</td>\n",
       "      <td>inf</td>\n",
       "      <td>PQ</td>\n",
       "      <td></td>\n",
       "      <td></td>\n",
       "    </tr>\n",
       "    <tr>\n",
       "      <th>zone_2</th>\n",
       "      <td>1.0</td>\n",
       "      <td></td>\n",
       "      <td>0.0</td>\n",
       "      <td>0.0</td>\n",
       "      <td>AC</td>\n",
       "      <td></td>\n",
       "      <td></td>\n",
       "      <td>1.0</td>\n",
       "      <td>0.0</td>\n",
       "      <td>inf</td>\n",
       "      <td>PQ</td>\n",
       "      <td></td>\n",
       "      <td></td>\n",
       "    </tr>\n",
       "  </tbody>\n",
       "</table>\n",
       "</div>"
      ],
      "text/plain": [
       "        v_nom type    x    y carrier unit location  v_mag_pu_set  \\\n",
       "Bus                                                                \n",
       "zone_1    1.0       0.0  0.0      AC                         1.0   \n",
       "zone_2    1.0       0.0  0.0      AC                         1.0   \n",
       "\n",
       "        v_mag_pu_min  v_mag_pu_max control generator sub_network  \n",
       "Bus                                                               \n",
       "zone_1           0.0           inf      PQ                        \n",
       "zone_2           0.0           inf      PQ                        "
      ]
     },
     "execution_count": 13,
     "metadata": {},
     "output_type": "execute_result"
    }
   ],
   "source": [
    "n.add(\"Bus\", \"zone_1\")\n",
    "n.add(\"Bus\", \"zone_2\")\n",
    "n.buses"
   ]
  },
  {
   "cell_type": "markdown",
   "id": "3e5ae91a",
   "metadata": {},
   "source": [
    "Next, add the loads to the network, where `p_set` specifies the power demand in MW at the corresponding bus:"
   ]
  },
  {
   "cell_type": "code",
   "execution_count": 14,
   "id": "e9f8a64f",
   "metadata": {},
   "outputs": [
    {
     "data": {
      "text/html": [
       "<div>\n",
       "<style scoped>\n",
       "    .dataframe tbody tr th:only-of-type {\n",
       "        vertical-align: middle;\n",
       "    }\n",
       "\n",
       "    .dataframe tbody tr th {\n",
       "        vertical-align: top;\n",
       "    }\n",
       "\n",
       "    .dataframe thead th {\n",
       "        text-align: right;\n",
       "    }\n",
       "</style>\n",
       "<table border=\"1\" class=\"dataframe\">\n",
       "  <thead>\n",
       "    <tr style=\"text-align: right;\">\n",
       "      <th></th>\n",
       "      <th>bus</th>\n",
       "      <th>carrier</th>\n",
       "      <th>type</th>\n",
       "      <th>p_set</th>\n",
       "      <th>q_set</th>\n",
       "      <th>sign</th>\n",
       "      <th>active</th>\n",
       "    </tr>\n",
       "    <tr>\n",
       "      <th>Load</th>\n",
       "      <th></th>\n",
       "      <th></th>\n",
       "      <th></th>\n",
       "      <th></th>\n",
       "      <th></th>\n",
       "      <th></th>\n",
       "      <th></th>\n",
       "    </tr>\n",
       "  </thead>\n",
       "  <tbody>\n",
       "    <tr>\n",
       "      <th>load_1</th>\n",
       "      <td>zone_1</td>\n",
       "      <td></td>\n",
       "      <td></td>\n",
       "      <td>500.0</td>\n",
       "      <td>0.0</td>\n",
       "      <td>-1.0</td>\n",
       "      <td>True</td>\n",
       "    </tr>\n",
       "    <tr>\n",
       "      <th>load_2</th>\n",
       "      <td>zone_2</td>\n",
       "      <td></td>\n",
       "      <td></td>\n",
       "      <td>1500.0</td>\n",
       "      <td>0.0</td>\n",
       "      <td>-1.0</td>\n",
       "      <td>True</td>\n",
       "    </tr>\n",
       "  </tbody>\n",
       "</table>\n",
       "</div>"
      ],
      "text/plain": [
       "           bus carrier type   p_set  q_set  sign  active\n",
       "Load                                                    \n",
       "load_1  zone_1                500.0    0.0  -1.0    True\n",
       "load_2  zone_2               1500.0    0.0  -1.0    True"
      ]
     },
     "execution_count": 14,
     "metadata": {},
     "output_type": "execute_result"
    }
   ],
   "source": [
    "n.add(\"Load\", \"load_1\", bus=\"zone_1\", p_set=500)\n",
    "n.add(\"Load\", \"load_2\", bus=\"zone_2\", p_set=1500)\n",
    "n.loads"
   ]
  },
  {
   "cell_type": "markdown",
   "id": "a576f828",
   "metadata": {},
   "source": [
    "Generators are added in a similar way, where `p_nom` specifies the nominal capacity, and `marginal_cost` and `marginal_cost_quadratic` specify the linear and quadratic coefficients of the cost function:"
   ]
  },
  {
   "cell_type": "code",
   "execution_count": 15,
   "id": "b1f59b5b",
   "metadata": {},
   "outputs": [
    {
     "data": {
      "text/html": [
       "<div>\n",
       "<style scoped>\n",
       "    .dataframe tbody tr th:only-of-type {\n",
       "        vertical-align: middle;\n",
       "    }\n",
       "\n",
       "    .dataframe tbody tr th {\n",
       "        vertical-align: top;\n",
       "    }\n",
       "\n",
       "    .dataframe thead th {\n",
       "        text-align: right;\n",
       "    }\n",
       "</style>\n",
       "<table border=\"1\" class=\"dataframe\">\n",
       "  <thead>\n",
       "    <tr style=\"text-align: right;\">\n",
       "      <th></th>\n",
       "      <th>bus</th>\n",
       "      <th>control</th>\n",
       "      <th>type</th>\n",
       "      <th>p_nom</th>\n",
       "      <th>p_nom_mod</th>\n",
       "      <th>p_nom_extendable</th>\n",
       "      <th>p_nom_min</th>\n",
       "      <th>p_nom_max</th>\n",
       "      <th>p_min_pu</th>\n",
       "      <th>p_max_pu</th>\n",
       "      <th>...</th>\n",
       "      <th>min_up_time</th>\n",
       "      <th>min_down_time</th>\n",
       "      <th>up_time_before</th>\n",
       "      <th>down_time_before</th>\n",
       "      <th>ramp_limit_up</th>\n",
       "      <th>ramp_limit_down</th>\n",
       "      <th>ramp_limit_start_up</th>\n",
       "      <th>ramp_limit_shut_down</th>\n",
       "      <th>weight</th>\n",
       "      <th>p_nom_opt</th>\n",
       "    </tr>\n",
       "    <tr>\n",
       "      <th>Generator</th>\n",
       "      <th></th>\n",
       "      <th></th>\n",
       "      <th></th>\n",
       "      <th></th>\n",
       "      <th></th>\n",
       "      <th></th>\n",
       "      <th></th>\n",
       "      <th></th>\n",
       "      <th></th>\n",
       "      <th></th>\n",
       "      <th></th>\n",
       "      <th></th>\n",
       "      <th></th>\n",
       "      <th></th>\n",
       "      <th></th>\n",
       "      <th></th>\n",
       "      <th></th>\n",
       "      <th></th>\n",
       "      <th></th>\n",
       "      <th></th>\n",
       "      <th></th>\n",
       "    </tr>\n",
       "  </thead>\n",
       "  <tbody>\n",
       "    <tr>\n",
       "      <th>gen_1</th>\n",
       "      <td>zone_1</td>\n",
       "      <td>PQ</td>\n",
       "      <td></td>\n",
       "      <td>2000.0</td>\n",
       "      <td>0.0</td>\n",
       "      <td>False</td>\n",
       "      <td>0.0</td>\n",
       "      <td>inf</td>\n",
       "      <td>0.0</td>\n",
       "      <td>1.0</td>\n",
       "      <td>...</td>\n",
       "      <td>0</td>\n",
       "      <td>0</td>\n",
       "      <td>1</td>\n",
       "      <td>0</td>\n",
       "      <td>NaN</td>\n",
       "      <td>NaN</td>\n",
       "      <td>1.0</td>\n",
       "      <td>1.0</td>\n",
       "      <td>1.0</td>\n",
       "      <td>0.0</td>\n",
       "    </tr>\n",
       "    <tr>\n",
       "      <th>gen_2</th>\n",
       "      <td>zone_2</td>\n",
       "      <td>PQ</td>\n",
       "      <td></td>\n",
       "      <td>2000.0</td>\n",
       "      <td>0.0</td>\n",
       "      <td>False</td>\n",
       "      <td>0.0</td>\n",
       "      <td>inf</td>\n",
       "      <td>0.0</td>\n",
       "      <td>1.0</td>\n",
       "      <td>...</td>\n",
       "      <td>0</td>\n",
       "      <td>0</td>\n",
       "      <td>1</td>\n",
       "      <td>0</td>\n",
       "      <td>NaN</td>\n",
       "      <td>NaN</td>\n",
       "      <td>1.0</td>\n",
       "      <td>1.0</td>\n",
       "      <td>1.0</td>\n",
       "      <td>0.0</td>\n",
       "    </tr>\n",
       "  </tbody>\n",
       "</table>\n",
       "<p>2 rows × 37 columns</p>\n",
       "</div>"
      ],
      "text/plain": [
       "              bus control type   p_nom  p_nom_mod  p_nom_extendable  \\\n",
       "Generator                                                             \n",
       "gen_1      zone_1      PQ       2000.0        0.0             False   \n",
       "gen_2      zone_2      PQ       2000.0        0.0             False   \n",
       "\n",
       "           p_nom_min  p_nom_max  p_min_pu  p_max_pu  ...  min_up_time  \\\n",
       "Generator                                            ...                \n",
       "gen_1            0.0        inf       0.0       1.0  ...            0   \n",
       "gen_2            0.0        inf       0.0       1.0  ...            0   \n",
       "\n",
       "           min_down_time  up_time_before  down_time_before  ramp_limit_up  \\\n",
       "Generator                                                                   \n",
       "gen_1                  0               1                 0            NaN   \n",
       "gen_2                  0               1                 0            NaN   \n",
       "\n",
       "          ramp_limit_down  ramp_limit_start_up  ramp_limit_shut_down  weight  \\\n",
       "Generator                                                                      \n",
       "gen_1                 NaN                  1.0                   1.0     1.0   \n",
       "gen_2                 NaN                  1.0                   1.0     1.0   \n",
       "\n",
       "           p_nom_opt  \n",
       "Generator             \n",
       "gen_1            0.0  \n",
       "gen_2            0.0  \n",
       "\n",
       "[2 rows x 37 columns]"
      ]
     },
     "execution_count": 15,
     "metadata": {},
     "output_type": "execute_result"
    }
   ],
   "source": [
    "\n",
    "n.add(\"Generator\", \"gen_1\", bus=\"zone_1\", p_nom=2000, marginal_cost=10, marginal_cost_quadratic=0.005)\n",
    "n.add(\"Generator\", \"gen_2\", bus=\"zone_2\", p_nom=2000, marginal_cost=13, marginal_cost_quadratic=0.01)\n",
    "n.generators"
   ]
  },
  {
   "cell_type": "markdown",
   "id": "9a1c138e",
   "metadata": {},
   "source": [
    "Lines connecting two buses `bus0` and `bus1` are added with a nominal capacity `s_nom` in MW and a reactance `x` in Ohm (which is required for modelling power flow):"
   ]
  },
  {
   "cell_type": "code",
   "execution_count": 16,
   "id": "ecff4644",
   "metadata": {},
   "outputs": [
    {
     "data": {
      "text/html": [
       "<div>\n",
       "<style scoped>\n",
       "    .dataframe tbody tr th:only-of-type {\n",
       "        vertical-align: middle;\n",
       "    }\n",
       "\n",
       "    .dataframe tbody tr th {\n",
       "        vertical-align: top;\n",
       "    }\n",
       "\n",
       "    .dataframe thead th {\n",
       "        text-align: right;\n",
       "    }\n",
       "</style>\n",
       "<table border=\"1\" class=\"dataframe\">\n",
       "  <thead>\n",
       "    <tr style=\"text-align: right;\">\n",
       "      <th></th>\n",
       "      <th>bus0</th>\n",
       "      <th>bus1</th>\n",
       "      <th>type</th>\n",
       "      <th>x</th>\n",
       "      <th>r</th>\n",
       "      <th>g</th>\n",
       "      <th>b</th>\n",
       "      <th>s_nom</th>\n",
       "      <th>s_nom_mod</th>\n",
       "      <th>s_nom_extendable</th>\n",
       "      <th>...</th>\n",
       "      <th>v_ang_min</th>\n",
       "      <th>v_ang_max</th>\n",
       "      <th>sub_network</th>\n",
       "      <th>x_pu</th>\n",
       "      <th>r_pu</th>\n",
       "      <th>g_pu</th>\n",
       "      <th>b_pu</th>\n",
       "      <th>x_pu_eff</th>\n",
       "      <th>r_pu_eff</th>\n",
       "      <th>s_nom_opt</th>\n",
       "    </tr>\n",
       "    <tr>\n",
       "      <th>Line</th>\n",
       "      <th></th>\n",
       "      <th></th>\n",
       "      <th></th>\n",
       "      <th></th>\n",
       "      <th></th>\n",
       "      <th></th>\n",
       "      <th></th>\n",
       "      <th></th>\n",
       "      <th></th>\n",
       "      <th></th>\n",
       "      <th></th>\n",
       "      <th></th>\n",
       "      <th></th>\n",
       "      <th></th>\n",
       "      <th></th>\n",
       "      <th></th>\n",
       "      <th></th>\n",
       "      <th></th>\n",
       "      <th></th>\n",
       "      <th></th>\n",
       "      <th></th>\n",
       "    </tr>\n",
       "  </thead>\n",
       "  <tbody>\n",
       "    <tr>\n",
       "      <th>line_1</th>\n",
       "      <td>zone_1</td>\n",
       "      <td>zone_2</td>\n",
       "      <td></td>\n",
       "      <td>0.01</td>\n",
       "      <td>0.0</td>\n",
       "      <td>0.0</td>\n",
       "      <td>0.0</td>\n",
       "      <td>400.0</td>\n",
       "      <td>0.0</td>\n",
       "      <td>False</td>\n",
       "      <td>...</td>\n",
       "      <td>-inf</td>\n",
       "      <td>inf</td>\n",
       "      <td></td>\n",
       "      <td>0.0</td>\n",
       "      <td>0.0</td>\n",
       "      <td>0.0</td>\n",
       "      <td>0.0</td>\n",
       "      <td>0.0</td>\n",
       "      <td>0.0</td>\n",
       "      <td>0.0</td>\n",
       "    </tr>\n",
       "  </tbody>\n",
       "</table>\n",
       "<p>1 rows × 31 columns</p>\n",
       "</div>"
      ],
      "text/plain": [
       "          bus0    bus1 type     x    r    g    b  s_nom  s_nom_mod  \\\n",
       "Line                                                                 \n",
       "line_1  zone_1  zone_2       0.01  0.0  0.0  0.0  400.0        0.0   \n",
       "\n",
       "        s_nom_extendable  ...  v_ang_min  v_ang_max  sub_network  x_pu  r_pu  \\\n",
       "Line                      ...                                                  \n",
       "line_1             False  ...       -inf        inf                0.0   0.0   \n",
       "\n",
       "        g_pu  b_pu  x_pu_eff r_pu_eff  s_nom_opt  \n",
       "Line                                              \n",
       "line_1   0.0   0.0       0.0      0.0        0.0  \n",
       "\n",
       "[1 rows x 31 columns]"
      ]
     },
     "execution_count": 16,
     "metadata": {},
     "output_type": "execute_result"
    }
   ],
   "source": [
    "n.add(\"Line\", \"line_1\", bus0=\"zone_1\", bus1=\"zone_2\", x=0.01, s_nom=400)\n",
    "n.lines"
   ]
  },
  {
   "cell_type": "markdown",
   "id": "b32efdce",
   "metadata": {},
   "source": [
    "With all components added, the network can be optimised with the [`n.optimize()`]() method.\n",
    "This function constructs the optimisation problem with the [`linopy`](https://linopy.readthedocs.io) library, solves it with a selected solver (`\"highs\"` as default), and stores the results in the network instance `n`."
   ]
  },
  {
   "cell_type": "code",
   "execution_count": 17,
   "id": "8269c5a4",
   "metadata": {},
   "outputs": [
    {
     "name": "stderr",
     "output_type": "stream",
     "text": [
      "WARNING:pypsa.consistency:The following buses have carriers which are not defined:\n",
      "Index(['zone_1', 'zone_2'], dtype='object', name='Bus')\n",
      "WARNING:pypsa.consistency:The following lines have carriers which are not defined:\n",
      "Index(['line_1'], dtype='object', name='Line')\n",
      "WARNING:pypsa.consistency:The following lines have zero r, which could break the linear load flow:\n",
      "Index(['line_1'], dtype='object', name='Line')\n",
      "INFO:linopy.model: Solve problem using Highs solver\n",
      "INFO:linopy.model:Solver options:\n",
      " - log_to_console: False\n",
      "INFO:linopy.io: Writing time: 0.02s\n",
      "INFO:linopy.constants: Optimization successful: \n",
      "Status: ok\n",
      "Termination condition: optimal\n",
      "Solution: 3 primals, 8 duals\n",
      "Objective: 3.94e+04\n",
      "Solver model: available\n",
      "Solver message: Optimal\n",
      "\n",
      "INFO:pypsa.optimization.optimize:The shadow-prices of the constraints Generator-fix-p-lower, Generator-fix-p-upper, Line-fix-s-lower, Line-fix-s-upper were not assigned to the network.\n"
     ]
    },
    {
     "name": "stdout",
     "output_type": "stream",
     "text": [
      "Running HiGHS 1.11.0 (git hash: 364c83a): Copyright (c) 2025 HiGHS under MIT licence terms\n"
     ]
    },
    {
     "data": {
      "text/plain": [
       "('ok', 'optimal')"
      ]
     },
     "execution_count": 17,
     "metadata": {},
     "output_type": "execute_result"
    }
   ],
   "source": [
    "n.optimize(solver_name=\"highs\", log_to_console=False)"
   ]
  },
  {
   "cell_type": "markdown",
   "id": "4048af75",
   "metadata": {},
   "source": [
    "The optimised generators dispatch can be accessed with:"
   ]
  },
  {
   "cell_type": "code",
   "execution_count": 18,
   "id": "ec03b8d2",
   "metadata": {},
   "outputs": [
    {
     "data": {
      "text/html": [
       "<div>\n",
       "<style scoped>\n",
       "    .dataframe tbody tr th:only-of-type {\n",
       "        vertical-align: middle;\n",
       "    }\n",
       "\n",
       "    .dataframe tbody tr th {\n",
       "        vertical-align: top;\n",
       "    }\n",
       "\n",
       "    .dataframe thead th {\n",
       "        text-align: right;\n",
       "    }\n",
       "</style>\n",
       "<table border=\"1\" class=\"dataframe\">\n",
       "  <thead>\n",
       "    <tr style=\"text-align: right;\">\n",
       "      <th>Generator</th>\n",
       "      <th>gen_1</th>\n",
       "      <th>gen_2</th>\n",
       "    </tr>\n",
       "    <tr>\n",
       "      <th>snapshot</th>\n",
       "      <th></th>\n",
       "      <th></th>\n",
       "    </tr>\n",
       "  </thead>\n",
       "  <tbody>\n",
       "    <tr>\n",
       "      <th>now</th>\n",
       "      <td>900.0</td>\n",
       "      <td>1100.0</td>\n",
       "    </tr>\n",
       "  </tbody>\n",
       "</table>\n",
       "</div>"
      ],
      "text/plain": [
       "Generator  gen_1   gen_2\n",
       "snapshot                \n",
       "now        900.0  1100.0"
      ]
     },
     "execution_count": 18,
     "metadata": {},
     "output_type": "execute_result"
    }
   ],
   "source": [
    "n.generators_t.p"
   ]
  },
  {
   "cell_type": "markdown",
   "id": "1e93200c",
   "metadata": {},
   "source": [
    "The market clearing prices per bus can be accessed with:"
   ]
  },
  {
   "cell_type": "code",
   "execution_count": 19,
   "id": "36db960a",
   "metadata": {},
   "outputs": [
    {
     "data": {
      "text/html": [
       "<div>\n",
       "<style scoped>\n",
       "    .dataframe tbody tr th:only-of-type {\n",
       "        vertical-align: middle;\n",
       "    }\n",
       "\n",
       "    .dataframe tbody tr th {\n",
       "        vertical-align: top;\n",
       "    }\n",
       "\n",
       "    .dataframe thead th {\n",
       "        text-align: right;\n",
       "    }\n",
       "</style>\n",
       "<table border=\"1\" class=\"dataframe\">\n",
       "  <thead>\n",
       "    <tr style=\"text-align: right;\">\n",
       "      <th>Bus</th>\n",
       "      <th>zone_1</th>\n",
       "      <th>zone_2</th>\n",
       "    </tr>\n",
       "    <tr>\n",
       "      <th>snapshot</th>\n",
       "      <th></th>\n",
       "      <th></th>\n",
       "    </tr>\n",
       "  </thead>\n",
       "  <tbody>\n",
       "    <tr>\n",
       "      <th>now</th>\n",
       "      <td>19.00009</td>\n",
       "      <td>35.00011</td>\n",
       "    </tr>\n",
       "  </tbody>\n",
       "</table>\n",
       "</div>"
      ],
      "text/plain": [
       "Bus         zone_1    zone_2\n",
       "snapshot                    \n",
       "now       19.00009  35.00011"
      ]
     },
     "execution_count": 19,
     "metadata": {},
     "output_type": "execute_result"
    }
   ],
   "source": [
    "n.buses_t.marginal_price"
   ]
  },
  {
   "cell_type": "markdown",
   "id": "cccae818",
   "metadata": {},
   "source": [
    "The optimised flows on transmission lines can be accessed with:"
   ]
  },
  {
   "cell_type": "code",
   "execution_count": 20,
   "id": "b215da0c",
   "metadata": {},
   "outputs": [
    {
     "data": {
      "text/html": [
       "<div>\n",
       "<style scoped>\n",
       "    .dataframe tbody tr th:only-of-type {\n",
       "        vertical-align: middle;\n",
       "    }\n",
       "\n",
       "    .dataframe tbody tr th {\n",
       "        vertical-align: top;\n",
       "    }\n",
       "\n",
       "    .dataframe thead th {\n",
       "        text-align: right;\n",
       "    }\n",
       "</style>\n",
       "<table border=\"1\" class=\"dataframe\">\n",
       "  <thead>\n",
       "    <tr style=\"text-align: right;\">\n",
       "      <th>Line</th>\n",
       "      <th>line_1</th>\n",
       "    </tr>\n",
       "    <tr>\n",
       "      <th>snapshot</th>\n",
       "      <th></th>\n",
       "    </tr>\n",
       "  </thead>\n",
       "  <tbody>\n",
       "    <tr>\n",
       "      <th>now</th>\n",
       "      <td>-400.0</td>\n",
       "    </tr>\n",
       "  </tbody>\n",
       "</table>\n",
       "</div>"
      ],
      "text/plain": [
       "Line      line_1\n",
       "snapshot        \n",
       "now       -400.0"
      ]
     },
     "execution_count": 20,
     "metadata": {},
     "output_type": "execute_result"
    }
   ],
   "source": [
    "n.lines_t.p1"
   ]
  },
  {
   "cell_type": "markdown",
   "id": "ff110269",
   "metadata": {},
   "source": [
    "Here, `n.lines_t.p0` denotes flow from `bus0` to `bus1` if values are positive. The related attribute `n.lines_t.p1` denotes flow from `bus1` to `bus0` if values are positive.\n",
    "\n",
    "The congestion rent can be calculated as the product of the flow on the line and the price difference between the two buses:"
   ]
  },
  {
   "cell_type": "code",
   "execution_count": 21,
   "id": "23817fab",
   "metadata": {},
   "outputs": [
    {
     "data": {
      "text/plain": [
       "snapshot\n",
       "now    6400.008\n",
       "dtype: float64"
      ]
     },
     "execution_count": 21,
     "metadata": {},
     "output_type": "execute_result"
    }
   ],
   "source": [
    "n.buses_t.marginal_price.eval(\"zone_2 - zone_1\") * n.lines_t.p0[\"line_1\"]"
   ]
  },
  {
   "cell_type": "markdown",
   "id": "c4ee0769",
   "metadata": {},
   "source": [
    "This example is based on Tom Brown's [Energy Systems](https://nworbmot.org/courses/es-25) course, taken from the lecture on [Complex Markets](https://nworbmot.org/courses/es-25/es-9-complex_markets.pdf), slides 37ff."
   ]
  }
 ],
 "metadata": {
  "kernelspec": {
   "display_name": "pypsa",
   "language": "python",
   "name": "python3"
  },
  "language_info": {
   "codemirror_mode": {
    "name": "ipython",
    "version": 3
   },
   "file_extension": ".py",
   "mimetype": "text/x-python",
   "name": "python",
   "nbconvert_exporter": "python",
   "pygments_lexer": "ipython3",
   "version": "3.13.2"
  }
 },
 "nbformat": 4,
 "nbformat_minor": 5
}
