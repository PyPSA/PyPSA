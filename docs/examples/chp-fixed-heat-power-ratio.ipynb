{
 "cells": [
  {
   "cell_type": "code",
   "execution_count": null,
   "metadata": {
    "tags": [
     "injected-warnings",
     "hide-cell"
    ]
   },
   "outputs": [],
   "source": [
    "# General notebook settings\n",
    "import warnings\n",
    "\n",
    "warnings.filterwarnings(\"error\", category=DeprecationWarning)"
   ]
  },
  {
   "attachments": {},
   "cell_type": "markdown",
   "metadata": {},
   "source": [
    "# Backpressure CHP\n",
    "\n",
    "This example demonstrates how to model a Combined Heat and Power (CHP) plant with a fixed heat-power ratio, assuming that the plant is operated in backpressure mode.\n",
    "For an example of a CHP plant with a more complicated heat-power feasible operational area, see the [extraction-condensing CHP example](). In this example, the CHP is modelled as a `Link` component with two output buses: one for electricity and one for heat. The CHP unit must be heat-following since there is no other supply of heat to the \"Frankfurt heat\" bus."
   ]
  },
  {
   "cell_type": "code",
   "execution_count": null,
   "metadata": {},
   "outputs": [],
   "source": [
    "import pypsa\n",
    "\n",
    "n = pypsa.Network()\n",
    "\n",
    "n.add(\"Bus\", \"Frankfurt\", carrier=\"AC\")\n",
    "n.add(\"Load\", \"Frankfurt\", bus=\"Frankfurt\", p_set=5)\n",
    "\n",
    "n.add(\"Bus\", \"Frankfurt heat\", carrier=\"heat\")\n",
    "n.add(\"Load\", \"Frankfurt heat\", bus=\"Frankfurt heat\", p_set=3)\n",
    "\n",
    "n.add(\"Bus\", \"Frankfurt gas\", carrier=\"gas\")\n",
    "n.add(\"Generator\", \"Frankfurt gas\", bus=\"Frankfurt gas\", marginal_cost=100, p_nom=100)\n",
    "\n",
    "n.add(\n",
    "    \"Link\",\n",
    "    \"OCGT\",\n",
    "    bus0=\"Frankfurt gas\",\n",
    "    bus1=\"Frankfurt\",\n",
    "    p_nom_extendable=True,\n",
    "    capital_cost=600,\n",
    "    efficiency=0.4,  # electricity per unit of gas\n",
    ")\n",
    "\n",
    "n.add(\n",
    "    \"Link\",\n",
    "    \"CHP\",\n",
    "    bus0=\"Frankfurt gas\",\n",
    "    bus1=\"Frankfurt\",\n",
    "    bus2=\"Frankfurt heat\",\n",
    "    p_nom_extendable=True,\n",
    "    capital_cost=1400,\n",
    "    efficiency=0.3,  # electricity per unit of gas\n",
    "    efficiency2=0.3,  # heat per unit of gas\n",
    ")\n",
    "\n",
    "n.optimize(log_to_console=False);"
   ]
  },
  {
   "cell_type": "code",
   "execution_count": null,
   "metadata": {},
   "outputs": [],
   "source": [
    "n.loads_t.p"
   ]
  },
  {
   "cell_type": "code",
   "execution_count": null,
   "metadata": {},
   "outputs": [],
   "source": [
    "n.links_t.p0"
   ]
  },
  {
   "cell_type": "code",
   "execution_count": null,
   "metadata": {},
   "outputs": [],
   "source": [
    "n.links_t.p1"
   ]
  },
  {
   "cell_type": "code",
   "execution_count": null,
   "metadata": {},
   "outputs": [],
   "source": [
    "n.links_t.p2"
   ]
  }
 ],
 "metadata": {
  "@webio": {
   "lastCommId": null,
   "lastKernelId": null
  },
  "kernelspec": {
   "display_name": "",
   "language": "python",
   "name": ""
  },
  "language_info": {
   "codemirror_mode": {
    "name": "ipython",
    "version": 3
   },
   "file_extension": ".py",
   "mimetype": "text/x-python",
   "name": "python",
   "nbconvert_exporter": "python",
   "pygments_lexer": "ipython3",
   "version": "3.13.2"
  }
 },
 "nbformat": 4,
 "nbformat_minor": 1
}
