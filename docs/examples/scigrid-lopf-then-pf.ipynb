{
 "cells": [
  {
   "cell_type": "code",
   "execution_count": null,
   "metadata": {
    "tags": [
     "injected-warnings",
     "hide-cell"
    ]
   },
   "outputs": [],
   "source": [
    "# General notebook settings\n",
    "import warnings\n",
    "\n",
    "warnings.filterwarnings(\"error\", category=DeprecationWarning)"
   ]
  },
  {
   "cell_type": "markdown",
   "metadata": {},
   "source": [
    "# SciGRID Network\n",
    "\n",
    "In this example, the dispatch of generators is optimised using the linear optimisation, then a non-linear power flow is run on the resulting dispatch.\n",
    "This example covers the German power system (roughly in the mid 2010s) for a single day at hourly resolution.\n",
    "\n",
    "## Data sources\n",
    "\n",
    "- **Grid:** Based on [SciGRID](https://openenergyplatform.org/factsheets/models/22/) which is based on [OpenStreetMap](http://www.openstreetmap.org/).\n",
    "\n",
    "- **Load size and location:** Distributed proportional to NUTS3 GDP and population. In doubt, load and generation is attached to the 220kV substation.\n",
    "\n",
    "- **Load time series:** From ENTSO-E hourly data, scaled up uniformly by factor 1.12 (a simplification of the methodology in [Schumacher and Hirth (2015)](https://ideas.repec.org/p/fem/femwpa/2015.88.html)).\n",
    "\n",
    "- **Conventional power plant capacities and locations:** Based on list of [BNetzA](https://www.bnetza.de/) (German Federal Network Agency).\n",
    "\n",
    "- **Wind and solar capacities and locations:** Based on [EEG Stammdaten](https://www.netztransparenz.de/de-de/Erneuerbare-Energien-und-Umlagen/EEG/EEG-Abrechnungen/EEG-Jahresabrechnungen/EEG-Anlagenstammdaten), [EnergyMap](http://www.energymap.info/download.html), which represents capacities at the end of 2014.\n",
    "\n",
    "- **Wind and solar time series:** Generated with REatlas tool based on [Andresen et al. (2015)](https://doi.org/10.1016/j.energy.2015.09.071).\n",
    "\n",
    "## Warnings\n",
    "\n",
    "**The data behind this example is no longer supported or updated. The dataset is only intended to demonstrate the capabilities of PyPSA and is not suitable for research purposes. Have a look at [PyPSA-Eur](https://github.com/PyPSA/pypsa-eur) for a newer grid model with active support.**\n",
    "\n",
    "Known problems include:\n",
    "\n",
    "1. Rough approximations have been made for missing grid data, e.g. 220kV-380kV transformers and connections between close sub-stations missing from OSM.\n",
    "\n",
    "2. There appears to be some unexpected congestion in parts of the network, which may mean for example that the load attachment method is inaccurate, particularly in regions with a high density of substations.\n",
    "\n",
    "3. Attaching power plants to the nearest high voltage substation may not reflect reality.\n",
    "\n",
    "4. The borders and neighbouring countries are not represented.\n",
    "\n",
    "5. Hydroelectric power stations are not modelled accurately.\n",
    "\n",
    "6. The marginal costs of generators are illustrative, not accurate.\n",
    "\n",
    "7. Only the first day of 2011 is in the example, which is not representative.\n",
    "\n",
    "8. The ENTSO-E total load for Germany may not be scaled correctly.\n",
    "\n",
    "9. Biomass from the EEG reference data (Stammdaten) are not read in.\n",
    "\n",
    "10. Power plant start up costs, ramping limits, and minimum part loads are not considered."
   ]
  },
  {
   "cell_type": "markdown",
   "metadata": {
    "jupyter": {
     "outputs_hidden": false
    }
   },
   "source": [
    "## Input Data"
   ]
  },
  {
   "cell_type": "code",
   "execution_count": null,
   "metadata": {},
   "outputs": [],
   "source": [
    "import cartopy.crs as ccrs\n",
    "import matplotlib.pyplot as plt\n",
    "import numpy as np\n",
    "import pandas as pd\n",
    "\n",
    "import pypsa\n",
    "\n",
    "n = pypsa.examples.scigrid_de()"
   ]
  },
  {
   "cell_type": "markdown",
   "metadata": {},
   "source": [
    "Plot the distribution of the load and of generating tech"
   ]
  },
  {
   "cell_type": "code",
   "execution_count": null,
   "metadata": {
    "jupyter": {
     "outputs_hidden": false
    }
   },
   "outputs": [],
   "source": [
    "fig, ax = plt.subplots(\n",
    "    1,\n",
    "    1,\n",
    "    subplot_kw={\"projection\": ccrs.EqualEarth()},\n",
    ")\n",
    "\n",
    "load_distribution = n.loads_t.p_set.loc[n.snapshots[0]].groupby(n.loads.bus).sum()\n",
    "n.plot(bus_size=load_distribution / 30000, ax=ax, title=\"Load distribution\");"
   ]
  },
  {
   "cell_type": "code",
   "execution_count": null,
   "metadata": {
    "jupyter": {
     "outputs_hidden": false
    }
   },
   "outputs": [],
   "source": [
    "n.generators.groupby(\"carrier\")[\"p_nom\"].sum().round(1)"
   ]
  },
  {
   "cell_type": "code",
   "execution_count": null,
   "metadata": {
    "jupyter": {
     "outputs_hidden": false
    }
   },
   "outputs": [],
   "source": [
    "n.storage_units.groupby(\"carrier\")[\"p_nom\"].sum().round(1)"
   ]
  },
  {
   "cell_type": "code",
   "execution_count": null,
   "metadata": {
    "jupyter": {
     "outputs_hidden": false
    }
   },
   "outputs": [],
   "source": [
    "techs = [\"Gas\", \"Brown Coal\", \"Hard Coal\", \"Wind Offshore\", \"Wind Onshore\", \"Solar\"]\n",
    "\n",
    "n_graphs = len(techs)\n",
    "n_cols = 3\n",
    "if n_graphs % n_cols == 0:\n",
    "    n_rows = n_graphs // n_cols\n",
    "else:\n",
    "    n_rows = n_graphs // n_cols + 1\n",
    "\n",
    "\n",
    "fig, axes = plt.subplots(\n",
    "    nrows=n_rows, ncols=n_cols, subplot_kw={\"projection\": ccrs.EqualEarth()}\n",
    ")\n",
    "size = 6\n",
    "fig.set_size_inches(size * n_cols, size * n_rows)\n",
    "\n",
    "for i, tech in enumerate(techs):\n",
    "    i_row = i // n_cols\n",
    "    i_col = i % n_cols\n",
    "\n",
    "    ax = axes[i_row, i_col]\n",
    "    gens = n.generators[n.generators.carrier == tech]\n",
    "    gen_distribution = (\n",
    "        gens.groupby(\"bus\").sum()[\"p_nom\"].reindex(n.buses.index, fill_value=0)\n",
    "    )\n",
    "    n.plot(ax=ax, bus_size=gen_distribution / 20000)\n",
    "    ax.set_title(tech)\n",
    "fig.tight_layout()"
   ]
  },
  {
   "cell_type": "markdown",
   "metadata": {},
   "source": [
    "## Rolling-Horizon Optimisation\n",
    "\n",
    "Run optimisation (linear optimal power flow) on the first day of 2011.\n",
    "\n",
    "To approximate $N-1$ security and allow room for reactive power flows, we do not allow any line to be loaded above 70% of their thermal rating:"
   ]
  },
  {
   "cell_type": "code",
   "execution_count": null,
   "metadata": {
    "jupyter": {
     "outputs_hidden": false
    }
   },
   "outputs": [],
   "source": [
    "contingency_factor = 0.7\n",
    "n.lines.s_max_pu = contingency_factor"
   ]
  },
  {
   "cell_type": "markdown",
   "metadata": {},
   "source": [
    "There are some infeasibilities without small extensions"
   ]
  },
  {
   "cell_type": "code",
   "execution_count": null,
   "metadata": {},
   "outputs": [],
   "source": [
    "n.lines.loc[[\"316\", \"527\", \"602\"], \"s_nom\"] = 1715"
   ]
  },
  {
   "cell_type": "markdown",
   "metadata": {},
   "source": [
    "We are performing the optimisation for one day, 4 snapshots at a time."
   ]
  },
  {
   "cell_type": "code",
   "execution_count": null,
   "metadata": {
    "jupyter": {
     "outputs_hidden": false
    },
    "scrolled": true
   },
   "outputs": [],
   "source": [
    "n.optimize.optimize_with_rolling_horizon(horizon=4, overlap=0, log_to_console=False);"
   ]
  },
  {
   "cell_type": "markdown",
   "metadata": {
    "jupyter": {
     "outputs_hidden": false
    }
   },
   "source": [
    "## Plot dispatch time series"
   ]
  },
  {
   "cell_type": "code",
   "execution_count": null,
   "metadata": {},
   "outputs": [],
   "source": [
    "p_by_carrier = n.generators_t.p.T.groupby(n.generators.carrier).sum().T\n",
    "to_drop = p_by_carrier.max()[p_by_carrier.max() < 1700].index\n",
    "p_by_carrier.drop(to_drop, axis=1, inplace=True)\n",
    "p_by_carrier.columns"
   ]
  },
  {
   "cell_type": "code",
   "execution_count": null,
   "metadata": {
    "jupyter": {
     "outputs_hidden": false
    }
   },
   "outputs": [],
   "source": [
    "colors = {\n",
    "    \"Brown Coal\": \"brown\",\n",
    "    \"Hard Coal\": \"k\",\n",
    "    \"Nuclear\": \"r\",\n",
    "    \"Run of River\": \"green\",\n",
    "    \"Wind Onshore\": \"blue\",\n",
    "    \"Solar\": \"yellow\",\n",
    "    \"Wind Offshore\": \"cyan\",\n",
    "    \"Waste\": \"orange\",\n",
    "    \"Gas\": \"orange\",\n",
    "}\n",
    "# reorder\n",
    "cols = [\n",
    "    \"Nuclear\",\n",
    "    \"Run of River\",\n",
    "    \"Brown Coal\",\n",
    "    \"Hard Coal\",\n",
    "    \"Gas\",\n",
    "    \"Wind Offshore\",\n",
    "    \"Wind Onshore\",\n",
    "    \"Solar\",\n",
    "]\n",
    "p_by_carrier = p_by_carrier[cols]"
   ]
  },
  {
   "cell_type": "code",
   "execution_count": null,
   "metadata": {
    "jupyter": {
     "outputs_hidden": false
    }
   },
   "outputs": [],
   "source": [
    "c = [colors[col] for col in p_by_carrier.columns]\n",
    "fig, ax = plt.subplots()\n",
    "p_by_carrier.div(1e3).plot(kind=\"area\", ax=ax, lw=0, color=c, alpha=0.7)\n",
    "ax.legend(ncol=3, loc=\"upper left\", bbox_to_anchor=(0, 1.02, 1, 0.2), frameon=False)\n",
    "ax.set_ylabel(\"GW\")\n",
    "ax.set_xlabel(\"\")"
   ]
  },
  {
   "cell_type": "markdown",
   "metadata": {
    "jupyter": {
     "outputs_hidden": false
    }
   },
   "source": [
    "## Plot storage time series"
   ]
  },
  {
   "cell_type": "code",
   "execution_count": null,
   "metadata": {},
   "outputs": [],
   "source": [
    "fig, ax = plt.subplots()\n",
    "\n",
    "p_storage = n.storage_units_t.p.sum(axis=1)\n",
    "state_of_charge = n.storage_units_t.state_of_charge.sum(axis=1)\n",
    "p_storage.plot(label=\"Pumped hydro dispatch\", ax=ax)\n",
    "state_of_charge.plot(label=\"State of charge\", ax=ax)\n",
    "\n",
    "ax.axhline(0, color=\"k\", lw=0.5, ls=\"--\")\n",
    "ax.legend()\n",
    "ax.set_ylabel(\"MWh\")\n",
    "ax.set_xlabel(\"\")"
   ]
  },
  {
   "cell_type": "markdown",
   "metadata": {},
   "source": [
    "## Line loading from optimisation\n",
    "\n",
    "With the linear power flow, there is the following per unit loading at 3 AM:"
   ]
  },
  {
   "cell_type": "code",
   "execution_count": null,
   "metadata": {
    "jupyter": {
     "outputs_hidden": false
    }
   },
   "outputs": [],
   "source": [
    "now = n.snapshots[4]\n",
    "loading = n.lines_t.p0.loc[now] / n.lines.s_nom\n",
    "loading.describe()"
   ]
  },
  {
   "cell_type": "code",
   "execution_count": null,
   "metadata": {
    "jupyter": {
     "outputs_hidden": false
    }
   },
   "outputs": [],
   "source": [
    "fig, ax = plt.subplots(subplot_kw={\"projection\": ccrs.EqualEarth()})\n",
    "n.plot(\n",
    "    ax=ax,\n",
    "    line_color=loading.abs(),\n",
    "    line_cmap=\"viridis\",\n",
    "    title=\"Line loading\",\n",
    "    bus_size=1e-3,\n",
    ");"
   ]
  },
  {
   "cell_type": "markdown",
   "metadata": {},
   "source": [
    "## Locational marginal prices"
   ]
  },
  {
   "cell_type": "markdown",
   "metadata": {},
   "source": [
    "Let's have a look at the distribution of marginal prices:"
   ]
  },
  {
   "cell_type": "code",
   "execution_count": null,
   "metadata": {
    "jupyter": {
     "outputs_hidden": false
    }
   },
   "outputs": [],
   "source": [
    "n.buses_t.marginal_price.loc[now].describe()"
   ]
  },
  {
   "cell_type": "code",
   "execution_count": null,
   "metadata": {
    "jupyter": {
     "outputs_hidden": false
    }
   },
   "outputs": [],
   "source": [
    "fig, ax = plt.subplots(subplot_kw={\"projection\": ccrs.PlateCarree()})\n",
    "\n",
    "plt.hexbin(\n",
    "    n.buses.x,\n",
    "    n.buses.y,\n",
    "    gridsize=20,\n",
    "    C=n.buses_t.marginal_price.loc[now],\n",
    "    cmap=\"viridis\",\n",
    "    zorder=-1,\n",
    ")\n",
    "n.plot(ax=ax, line_width=1, bus_size=0)\n",
    "\n",
    "cb = plt.colorbar(location=\"right\")\n",
    "cb.set_label(\"Locational Marginal Price (€/MWh)\")"
   ]
  },
  {
   "cell_type": "markdown",
   "metadata": {},
   "source": [
    "## Curtailment\n",
    "\n",
    "By considering how much power is available and how much is generated, you can see what share is curtailed: "
   ]
  },
  {
   "cell_type": "code",
   "execution_count": null,
   "metadata": {
    "jupyter": {
     "outputs_hidden": false
    }
   },
   "outputs": [],
   "source": [
    "carrier = \"Wind Onshore\"\n",
    "\n",
    "capacity = n.generators.groupby(\"carrier\").sum().at[carrier, \"p_nom\"]\n",
    "p_available = n.generators_t.p_max_pu.multiply(n.generators[\"p_nom\"])\n",
    "p_available_by_carrier = p_available.T.groupby(n.generators.carrier).sum().T\n",
    "p_curtailed_by_carrier = p_available_by_carrier - p_by_carrier"
   ]
  },
  {
   "cell_type": "code",
   "execution_count": null,
   "metadata": {},
   "outputs": [],
   "source": [
    "p_df = pd.DataFrame(\n",
    "    {\n",
    "        carrier + \" available\": p_available_by_carrier[carrier],\n",
    "        carrier + \" dispatched\": p_by_carrier[carrier],\n",
    "        carrier + \" curtailed\": p_curtailed_by_carrier[carrier],\n",
    "    }\n",
    ")\n",
    "\n",
    "p_df[carrier + \" capacity\"] = capacity"
   ]
  },
  {
   "cell_type": "code",
   "execution_count": null,
   "metadata": {
    "jupyter": {
     "outputs_hidden": false
    }
   },
   "outputs": [],
   "source": [
    "p_df.loc[p_df[\"Wind Onshore curtailed\"] < 0, \"Wind Onshore curtailed\"] = 0"
   ]
  },
  {
   "cell_type": "code",
   "execution_count": null,
   "metadata": {
    "jupyter": {
     "outputs_hidden": false
    }
   },
   "outputs": [],
   "source": [
    "fig, ax = plt.subplots()\n",
    "p_df[[carrier + \" dispatched\", carrier + \" curtailed\"]].plot(kind=\"area\", ax=ax, lw=0)\n",
    "p_df[[carrier + \" available\", carrier + \" capacity\"]].plot(ax=ax)\n",
    "\n",
    "ax.set_xlabel(\"\")\n",
    "ax.set_ylabel(\"Power [MW]\")\n",
    "ax.set_ylim([0, 40_000])\n",
    "ax.legend()"
   ]
  },
  {
   "cell_type": "markdown",
   "metadata": {},
   "source": [
    "## Non-Linear Power Flow\n",
    "\n",
    "Now perform a full Newton-Raphson power flow on the first day. For the power flow, provide the setpoints from the optimisation."
   ]
  },
  {
   "cell_type": "code",
   "execution_count": null,
   "metadata": {
    "jupyter": {
     "outputs_hidden": false
    }
   },
   "outputs": [],
   "source": [
    "n.optimize.fix_optimal_dispatch()"
   ]
  },
  {
   "cell_type": "markdown",
   "metadata": {},
   "source": [
    "Set nearly all buses to PV, since we don't know what Q set points are. But we needs some PQ buses to ensure that the Jacobian is not singular.:"
   ]
  },
  {
   "cell_type": "code",
   "execution_count": null,
   "metadata": {
    "jupyter": {
     "outputs_hidden": false
    }
   },
   "outputs": [],
   "source": [
    "n.generators.control = \"PV\"\n",
    "\n",
    "f = n.generators[n.generators.bus == \"492\"]\n",
    "n.generators.loc[f.index, \"control\"] = \"PQ\""
   ]
  },
  {
   "cell_type": "markdown",
   "metadata": {},
   "source": [
    "Now, perform the non-linear PF."
   ]
  },
  {
   "cell_type": "code",
   "execution_count": null,
   "metadata": {
    "jupyter": {
     "outputs_hidden": false
    }
   },
   "outputs": [],
   "source": [
    "info = n.pf();"
   ]
  },
  {
   "cell_type": "markdown",
   "metadata": {},
   "source": [
    "Any failed to converge?"
   ]
  },
  {
   "cell_type": "code",
   "execution_count": null,
   "metadata": {
    "jupyter": {
     "outputs_hidden": false
    }
   },
   "outputs": [],
   "source": [
    "(~info.converged).any().any()"
   ]
  },
  {
   "cell_type": "markdown",
   "metadata": {},
   "source": [
    "With the non-linear load flow, there is the following per unit loading of the full thermal rating."
   ]
  },
  {
   "cell_type": "code",
   "execution_count": null,
   "metadata": {
    "jupyter": {
     "outputs_hidden": false
    }
   },
   "outputs": [],
   "source": [
    "(n.lines_t.p0.loc[now] / n.lines.s_nom).describe()"
   ]
  },
  {
   "cell_type": "markdown",
   "metadata": {},
   "source": [
    "Let's inspect the voltage angle differences across the lines have (in degrees)"
   ]
  },
  {
   "cell_type": "code",
   "execution_count": null,
   "metadata": {
    "jupyter": {
     "outputs_hidden": false
    }
   },
   "outputs": [],
   "source": [
    "df = n.lines.copy()\n",
    "\n",
    "for b in [\"bus0\", \"bus1\"]:\n",
    "    df = pd.merge(\n",
    "        df, n.buses_t.v_ang.loc[[now]].T, how=\"left\", left_on=b, right_index=True\n",
    "    )\n",
    "\n",
    "s = df[str(now) + \"_x\"] - df[str(now) + \"_y\"]\n",
    "\n",
    "(s * 180 / np.pi).describe()"
   ]
  },
  {
   "cell_type": "markdown",
   "metadata": {},
   "source": [
    "Plot the reactive power"
   ]
  },
  {
   "cell_type": "code",
   "execution_count": null,
   "metadata": {
    "jupyter": {
     "outputs_hidden": false
    }
   },
   "outputs": [],
   "source": [
    "fig, ax = plt.subplots(subplot_kw={\"projection\": ccrs.EqualEarth()})\n",
    "\n",
    "q = n.buses_t.q.loc[now]\n",
    "bus_color = q.map(lambda x: \"b\" if x < 0 else \"r\")\n",
    "\n",
    "n.plot(\n",
    "    bus_size=q.abs() / 1e4,\n",
    "    ax=ax,\n",
    "    bus_color=bus_color,\n",
    "    title=\"Reactive power feed-in\\n(red = positive, blue = negative)\",\n",
    ");"
   ]
  }
 ],
 "metadata": {
  "@webio": {
   "lastCommId": null,
   "lastKernelId": null
  },
  "kernelspec": {
   "display_name": "",
   "language": "python",
   "name": ""
  },
  "language_info": {
   "codemirror_mode": {
    "name": "ipython",
    "version": 3
   },
   "file_extension": ".py",
   "mimetype": "text/x-python",
   "name": "python",
   "nbconvert_exporter": "python",
   "pygments_lexer": "ipython3",
   "version": "3.13.2"
  }
 },
 "nbformat": 4,
 "nbformat_minor": 4
}
