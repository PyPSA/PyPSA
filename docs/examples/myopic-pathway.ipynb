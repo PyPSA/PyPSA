{
 "cells": [
  {
   "cell_type": "code",
   "execution_count": null,
   "metadata": {
    "tags": [
     "injected-warnings",
     "hide-cell"
    ]
   },
   "outputs": [],
   "source": [
    "# General notebook settings\n",
    "import warnings\n",
    "\n",
    "warnings.filterwarnings(\"error\", category=DeprecationWarning)"
   ]
  },
  {
   "cell_type": "markdown",
   "id": "3ae2fa82",
   "metadata": {},
   "source": [
    "# Myopic Pathway Planning\n",
    "\n",
    "In this example, we demonstrate how to use PyPSA to plan a myopic pathway for emission reductions. That means that we optimize the system for each investment period sequentially subject to set emission reduction targets per period. In consequence, the model does not foresee future costs or benefits of investments. This is in contrast to a [pathway optimisation with perfect foresight](), where the model optimizes the system for all investment periods at once.\n",
    "\n",
    "Here, we build a model from the [single-node capacity expansion example]() and model a myopic decision process for the investment periods 2025, 2035, and 2045. The model is set up to reduce emissions from 30 MtCO2/a in 2025 to 10 MtCO2/a in 2035 and 3 MtCO2/a in 2045. Note that the goal here is not necessarily to showcase a realistic scenario, but rather to demonstrate how it is possible to model a myopic decision process in PyPSA."
   ]
  },
  {
   "cell_type": "code",
   "execution_count": null,
   "id": "9f0afa06",
   "metadata": {},
   "outputs": [],
   "source": [
    "import pandas as pd\n",
    "\n",
    "import pypsa\n",
    "from pypsa.common import annuity\n",
    "\n",
    "temp = pypsa.examples.model_energy()\n",
    "temp.remove(\"Generator\", \"load shedding\")\n",
    "n = temp.copy()\n",
    "\n",
    "INVESTMENT_PERIODS = [2025, 2035, 2045]\n",
    "SOLVER_NAME = \"highs\""
   ]
  },
  {
   "cell_type": "markdown",
   "id": "e2866903",
   "metadata": {},
   "source": [
    "First, we add a new component for each investment period and carrier to the network. These components are used to model the individual investment decisions for each period. For instance, for solar, there will be a `Generator` component for each investment period, e.g. `solar-2025`, `solar-2035`, and `solar-2045` with the corresponding `build_year` attributes.\n",
    "\n",
    "We can also keep pre-existing capacities as non-extendable components. Here, we keep 5 GW each of wind and solar capacities, assuming 2015 as build year."
   ]
  },
  {
   "cell_type": "code",
   "execution_count": null,
   "id": "df8dd906",
   "metadata": {},
   "outputs": [],
   "source": [
    "# Assume 5 GW of wind and solar capacity each, built in 2015\n",
    "n.generators.loc[:, [\"build_year\", \"p_nom\", \"p_nom_extendable\"]] = 2015, 5_000, False\n",
    "\n",
    "# all other storage components need to be removed\n",
    "n.remove(\"Link\", n.links.index)\n",
    "n.remove(\"StorageUnit\", n.storage_units.index)\n",
    "n.remove(\"Store\", n.stores.index)\n",
    "\n",
    "for year in INVESTMENT_PERIODS:\n",
    "    n.add(\n",
    "        \"Generator\",\n",
    "        temp.generators.index + f\"-{year}\",\n",
    "        build_year=year,\n",
    "        p_max_pu=temp.generators_t.p_max_pu.rename(\n",
    "            columns=lambda s: s + f\"-{year}\"\n",
    "        ).loc[:, ::-1],\n",
    "        **temp.generators.rename(index=lambda s: s + f\"-{year}\").drop(\n",
    "            columns=[\"build_year\", \"p_max_pu\"]\n",
    "        ),\n",
    "    )\n",
    "\n",
    "    n.add(\n",
    "        \"Link\",\n",
    "        temp.links.index,\n",
    "        suffix=f\"-{year}\",\n",
    "        build_year=year,\n",
    "        **temp.links.rename(index=lambda s: s + f\"-{year}\").drop(\n",
    "            columns=[\"build_year\"]\n",
    "        ),\n",
    "    )\n",
    "\n",
    "    n.add(\n",
    "        \"StorageUnit\",\n",
    "        temp.storage_units.index,\n",
    "        suffix=f\"-{year}\",\n",
    "        build_year=year,\n",
    "        **temp.storage_units.rename(index=lambda s: s + f\"-{year}\").drop(\n",
    "            columns=[\"build_year\"]\n",
    "        ),\n",
    "    )\n",
    "\n",
    "    n.add(\n",
    "        \"Store\",\n",
    "        temp.stores.index,\n",
    "        suffix=f\"-{year}\",\n",
    "        build_year=year,\n",
    "        **temp.stores.rename(index=lambda s: s + f\"-{year}\").drop(\n",
    "            columns=[\"build_year\"]\n",
    "        ),\n",
    "    )"
   ]
  },
  {
   "cell_type": "markdown",
   "id": "ff4b1295",
   "metadata": {},
   "source": [
    "In this way, the attributes of components can vary over the investment periods, e.g. the `capital_cost` of solar PV and battery storage can decrease over time, or the capacity factors (`p_max_pu`) of wind generators can increase over time."
   ]
  },
  {
   "cell_type": "code",
   "execution_count": null,
   "id": "e5d53de5",
   "metadata": {},
   "outputs": [],
   "source": [
    "n.generators.loc[\"solar-2035\", \"capital_cost\"] *= 0.9\n",
    "n.generators.loc[\"solar-2045\", \"capital_cost\"] *= 0.85\n",
    "\n",
    "n.storage_units.loc[\"battery storage-2035\", \"capital_cost\"] *= 0.9\n",
    "n.storage_units.loc[\"battery storage-2045\", \"capital_cost\"] *= 0.85\n",
    "\n",
    "n.generators_t.p_max_pu.loc[:, \"wind-2035\"] *= 1.1\n",
    "n.generators_t.p_max_pu.loc[:, \"wind-2045\"] *= 1.15"
   ]
  },
  {
   "cell_type": "markdown",
   "id": "c3c0b316",
   "metadata": {},
   "source": [
    "Let us also add some pre-existing conventional generators to the network with emissions from burning fossil fuels.\n",
    "\n",
    "We add some old coal generators, which will retire by 2035, and some gas generators, which will retire by 2045.\n",
    "We also let the model invest in new gas generators in 2035, with slightly higher cost but better efficiency."
   ]
  },
  {
   "cell_type": "code",
   "execution_count": null,
   "id": "8606777a",
   "metadata": {},
   "outputs": [],
   "source": [
    "n.add(\n",
    "    \"Carrier\",\n",
    "    [\"coal\", \"gas\"],\n",
    "    color=[\"gray\", \"lightcoral\"],\n",
    "    co2_emissions=[0.336, 0.198],\n",
    ")\n",
    "\n",
    "n.add(\n",
    "    \"Generator\",\n",
    "    \"coal\",\n",
    "    carrier=\"coal\",\n",
    "    bus=\"electricity\",\n",
    "    p_nom=4_000,\n",
    "    p_nom_extendable=False,\n",
    "    build_year=1990,\n",
    "    lifetime=40,\n",
    "    capital_cost=annuity(0.07, 40) * 4_000_000,\n",
    "    efficiency=0.35,\n",
    "    marginal_cost=30,\n",
    ")\n",
    "\n",
    "n.add(\n",
    "    \"Generator\",\n",
    "    \"gas\",\n",
    "    carrier=\"gas\",\n",
    "    bus=\"electricity\",\n",
    "    p_nom=6_000,\n",
    "    p_nom_extendable=False,\n",
    "    build_year=2005,\n",
    "    lifetime=35,\n",
    "    capital_cost=annuity(0.07, 35) * 800_000,\n",
    "    efficiency=0.5,\n",
    "    marginal_cost=60,\n",
    ")\n",
    "\n",
    "n.add(\n",
    "    \"Generator\",\n",
    "    \"gas-2035\",\n",
    "    carrier=\"gas\",\n",
    "    bus=\"electricity\",\n",
    "    p_nom_extendable=True,\n",
    "    build_year=2035,\n",
    "    lifetime=35,\n",
    "    capital_cost=annuity(0.07, 35) * 900_000,\n",
    "    efficiency=0.55,\n",
    "    marginal_cost=55,\n",
    ")"
   ]
  },
  {
   "cell_type": "markdown",
   "id": "62dc6f49",
   "metadata": {},
   "source": [
    "In the next step, we define the investment periods and the emission reduction targets for each period.\n",
    "Note that each investment period represents a duration of 10 years, hence the annual targets are scaled to represent total emissions over the entire period."
   ]
  },
  {
   "cell_type": "code",
   "execution_count": null,
   "id": "3c167adb",
   "metadata": {},
   "outputs": [],
   "source": [
    "n.set_investment_periods(INVESTMENT_PERIODS)\n",
    "n.investment_period_weightings *= 10\n",
    "\n",
    "REDUCTION_PATH = [300e6, 100e6, 20e6]\n",
    "\n",
    "for i, year in enumerate(INVESTMENT_PERIODS):\n",
    "    n.add(\n",
    "        \"GlobalConstraint\",\n",
    "        f\"co2-limit-{year}\",\n",
    "        type=\"primary_energy\",\n",
    "        carrier_attribute=\"co2_emissions\",\n",
    "        investment_period=year,\n",
    "        constant=REDUCTION_PATH[i],\n",
    "        sense=\"<=\",\n",
    "    )"
   ]
  },
  {
   "cell_type": "markdown",
   "id": "57358f31",
   "metadata": {},
   "source": [
    "To optimize only a single investment period at a time, we have to make a selection of the relevant snapshots (i.e. all that fall into the investment period).\n",
    "Passing this selection to `n.optimize()` will exclude investment variables of any inactive components (where the build year falls into future investment periods), and also only optimise the dispatch variables for the time steps in the investment period."
   ]
  },
  {
   "cell_type": "code",
   "execution_count": null,
   "id": "5a2a1222",
   "metadata": {},
   "outputs": [],
   "source": [
    "def optimize_period(n: pypsa.Network, period: int):\n",
    "    snapshots = n.snapshots[n.snapshots.get_level_values(\"period\") == period]\n",
    "    return n.optimize(\n",
    "        multi_investment_periods=True,\n",
    "        solver_name=SOLVER_NAME,\n",
    "        snapshots=snapshots,\n",
    "        log_to_console=False,\n",
    "    )\n",
    "\n",
    "\n",
    "optimize_period(n, 2025)\n",
    "\n",
    "display(n.generators.p_nom_opt)\n",
    "\n",
    "display(n.global_constraints)"
   ]
  },
  {
   "cell_type": "markdown",
   "id": "c1d54b75",
   "metadata": {},
   "source": [
    "In the results we can see that any components after 2025 are not touched in the first investment period.\n",
    "The CO2 constraint is mildly binding at 20 €/tCO2, which is the price of CO2 in the first period.\n",
    "The energy mix is still dominated by coal and gas, with some solar and wind added to the system."
   ]
  },
  {
   "cell_type": "code",
   "execution_count": null,
   "id": "069cc724",
   "metadata": {},
   "outputs": [],
   "source": [
    "n.statistics.energy_balance().div(1e6).round(2)"
   ]
  },
  {
   "cell_type": "markdown",
   "id": "1b44b587",
   "metadata": {},
   "source": [
    "For the second investment period, we need to freeze the capacities that were built in the first period, so that they are not changed in the second period (see `freeze_period()` function below). Then we can again select the relevant snapshots and optimize the system for the second investment period -- and so on for any further investment periods."
   ]
  },
  {
   "cell_type": "code",
   "execution_count": null,
   "id": "c07e8d79",
   "metadata": {},
   "outputs": [],
   "source": [
    "def freeze_period(n: pypsa.Network, period: int):\n",
    "    for c in n.components[[\"Generator\", \"Link\", \"StorageUnit\", \"Store\"]]:\n",
    "        attr = \"e_nom\" if c.name == \"Store\" else \"p_nom\"\n",
    "        c.static[attr] = c.static[attr + \"_opt\"]\n",
    "        c.static.loc[c.static.build_year == period, attr + \"_extendable\"] = False\n",
    "\n",
    "\n",
    "freeze_period(n, 2025)\n",
    "optimize_period(n, 2035)\n",
    "\n",
    "freeze_period(n, 2035)\n",
    "optimize_period(n, 2045)"
   ]
  },
  {
   "cell_type": "markdown",
   "id": "919a75be",
   "metadata": {},
   "source": [
    "After the loop has finished, we can inspect the results of all investment periods.\n",
    "For instance, we can see how the endogenous CO2 price increases with each investment period."
   ]
  },
  {
   "cell_type": "code",
   "execution_count": null,
   "id": "521118b1",
   "metadata": {},
   "outputs": [],
   "source": [
    "n.global_constraints"
   ]
  },
  {
   "cell_type": "markdown",
   "id": "d0dcfad2",
   "metadata": {},
   "source": [
    "The energy balance and CAPEX statistics also tell us the story that the coal power plants that are phased out in 2035 are largely replaced by a large amount of new gas power plants. Only in 2045, the model starts to double down on renewables and storage investments to meet more ambitious emission reduction targets.\n",
    "By then, the new gas power plants are barely used, while their capital costs are still to be paid off."
   ]
  },
  {
   "cell_type": "code",
   "execution_count": null,
   "id": "74656968",
   "metadata": {},
   "outputs": [],
   "source": [
    "display(n.statistics.energy_balance().div(1e6).round(1))\n",
    "\n",
    "display(n.statistics.capex().div(1e6).round(1))"
   ]
  },
  {
   "cell_type": "markdown",
   "id": "ec9c9e34",
   "metadata": {},
   "source": [
    "Total annual system costs increase as emissions must be reduced. The data shown does not account for a social discount rate."
   ]
  },
  {
   "cell_type": "code",
   "execution_count": null,
   "id": "10acf7f5",
   "metadata": {},
   "outputs": [],
   "source": [
    "(n.statistics.capex().sum() + n.statistics.opex().sum()).div(1e6).round(1)"
   ]
  },
  {
   "cell_type": "markdown",
   "id": "f03c7bed",
   "metadata": {},
   "source": [
    "Some data wrangling is needed to plot the progression of operational generation capacities over time."
   ]
  },
  {
   "cell_type": "code",
   "execution_count": null,
   "id": "58fa41ba",
   "metadata": {},
   "outputs": [],
   "source": [
    "df = (\n",
    "    pd.concat(\n",
    "        {\n",
    "            year: n.generators.query(\n",
    "                f\"build_year <= {year} and build_year + lifetime > {year}\"\n",
    "            )\n",
    "            .groupby(\"carrier\")\n",
    "            .p_nom_opt.sum()\n",
    "            for year in INVESTMENT_PERIODS\n",
    "        },\n",
    "        axis=1,\n",
    "    )\n",
    "    .fillna(0)\n",
    "    .T.div(1e3)\n",
    ")\n",
    "\n",
    "df.plot.area(\n",
    "    stacked=True,\n",
    "    linewidth=0,\n",
    "    ylabel=\"GW\",\n",
    "    xlabel=\"Year\",\n",
    "    title=\"Operational Capacity\",\n",
    "    color=df.columns.map(n.carriers.color),\n",
    ")"
   ]
  },
  {
   "cell_type": "markdown",
   "id": "94a8d3f6",
   "metadata": {},
   "source": [
    "**Where to go from here?**\n",
    "\n",
    "A few ideas to explore further in this notebook:\n",
    "\n",
    "- Try different exogenous emission reduction paths. How do they affect total costs and cumulative emissions?\n",
    "- Decrease the capital cost of components over time in different ways. How does this affect the optimal build-out?\n",
    "- Decrease the capital cost of components over time as a function of the cumulative installed capacity to simulate learning effects.\n",
    "- Increase the capacity factors of wind and solar components over time to varying extents. How does this affect the optimal build-out?\n",
    "- Compare the myopic pathway with a full pathway optimization. How do they differ in terms of costs, cumulative emissions, stranded assets? A code snippet is provided blow."
   ]
  },
  {
   "cell_type": "code",
   "execution_count": null,
   "id": "bfd1055a",
   "metadata": {},
   "outputs": [],
   "source": [
    "# for c in n.iterate_components({\"Generator\", \"Link\", \"StorageUnit\", \"Store\"}):\n",
    "#     attr = \"e_nom\" if c.name == \"Store\" else \"p_nom\"\n",
    "#     c.df.loc[c.df.build_year >= 2025, attr + \"_extendable\"] = True\n",
    "\n",
    "# n.optimize(\n",
    "#     multi_investment_periods=True,\n",
    "#     solver_name=\"gurobi\",\n",
    "#     log_to_console=True,\n",
    "# )"
   ]
  }
 ],
 "metadata": {
  "kernelspec": {
   "display_name": "",
   "language": "python",
   "name": ""
  },
  "language_info": {
   "codemirror_mode": {
    "name": "ipython",
    "version": 3
   },
   "file_extension": ".py",
   "mimetype": "text/x-python",
   "name": "python",
   "nbconvert_exporter": "python",
   "pygments_lexer": "ipython3",
   "version": "3.13.8"
  }
 },
 "nbformat": 4,
 "nbformat_minor": 5
}
