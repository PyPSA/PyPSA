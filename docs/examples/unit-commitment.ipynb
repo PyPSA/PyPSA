{
 "cells": [
  {
   "cell_type": "code",
   "execution_count": null,
   "metadata": {
    "tags": [
     "injected-warnings",
     "hide-cell"
    ]
   },
   "outputs": [],
   "source": [
    "# General notebook settings\n",
    "import warnings\n",
    "\n",
    "warnings.filterwarnings(\"error\", category=DeprecationWarning)"
   ]
  },
  {
   "cell_type": "markdown",
   "metadata": {},
   "source": [
    "# Unit Commitment\n",
    "\n",
    "This tutorial runs through examples of unit commitment for generators at a single bus. Examples of minimum part-load, minimum up time, minimum down time, start up costs, shut down costs and ramp rate restrictions are shown, as well as how to set up a rolling horizon optimization.\n",
    "\n",
    "To enable unit commitment on a component (`Link` or `Generator`), set its attribute `committable=True`."
   ]
  },
  {
   "cell_type": "code",
   "execution_count": null,
   "metadata": {},
   "outputs": [],
   "source": [
    "import pandas as pd\n",
    "\n",
    "import pypsa"
   ]
  },
  {
   "cell_type": "markdown",
   "metadata": {},
   "source": [
    "## Minimum Part Load\n",
    "\n",
    "In the final snapshot, the load goes below the part-load limit of the coal generator (30%), forcing gas to commit."
   ]
  },
  {
   "cell_type": "code",
   "execution_count": null,
   "metadata": {},
   "outputs": [],
   "source": [
    "nu = pypsa.Network(snapshots=range(4))\n",
    "\n",
    "nu.add(\"Bus\", \"bus\")\n",
    "\n",
    "nu.add(\n",
    "    \"Generator\",\n",
    "    \"coal\",\n",
    "    bus=\"bus\",\n",
    "    committable=True,\n",
    "    p_min_pu=0.3,\n",
    "    marginal_cost=20,\n",
    "    p_nom=10_000,\n",
    ")\n",
    "\n",
    "nu.add(\n",
    "    \"Generator\",\n",
    "    \"gas\",\n",
    "    bus=\"bus\",\n",
    "    committable=True,\n",
    "    marginal_cost=70,\n",
    "    p_min_pu=0.1,\n",
    "    p_nom=1_000,\n",
    ")\n",
    "\n",
    "nu.add(\"Load\", \"load\", bus=\"bus\", p_set=[4_000, 6_000, 5_000, 800])"
   ]
  },
  {
   "cell_type": "code",
   "execution_count": null,
   "metadata": {},
   "outputs": [],
   "source": [
    "nu.optimize(log_to_console=False)"
   ]
  },
  {
   "cell_type": "code",
   "execution_count": null,
   "metadata": {},
   "outputs": [],
   "source": [
    "nu.generators_t.status"
   ]
  },
  {
   "cell_type": "code",
   "execution_count": null,
   "metadata": {},
   "outputs": [],
   "source": [
    "nu.generators_t.p"
   ]
  },
  {
   "cell_type": "markdown",
   "metadata": {},
   "source": [
    "## Minimum Up Time\n",
    "\n",
    "Gas has a minimum up time, forcing it to be online longer than otherwise necessary, which incurs a standby cost for status up without generation."
   ]
  },
  {
   "cell_type": "code",
   "execution_count": null,
   "metadata": {},
   "outputs": [],
   "source": [
    "nu = pypsa.Network(snapshots=range(4))\n",
    "\n",
    "nu.add(\"Bus\", \"bus\")\n",
    "\n",
    "nu.add(\n",
    "    \"Generator\",\n",
    "    \"coal\",\n",
    "    bus=\"bus\",\n",
    "    committable=True,\n",
    "    p_min_pu=0.3,\n",
    "    marginal_cost=20,\n",
    "    p_nom=10000,\n",
    ")\n",
    "\n",
    "nu.add(\n",
    "    \"Generator\",\n",
    "    \"gas\",\n",
    "    bus=\"bus\",\n",
    "    committable=True,\n",
    "    stand_by_cost=50,\n",
    "    marginal_cost=70,\n",
    "    p_min_pu=0.1,\n",
    "    up_time_before=0,\n",
    "    min_up_time=3,\n",
    "    p_nom=1_000,\n",
    ")\n",
    "\n",
    "nu.add(\"Load\", \"load\", bus=\"bus\", p_set=[4_000, 800, 5_000, 3_000])"
   ]
  },
  {
   "cell_type": "code",
   "execution_count": null,
   "metadata": {},
   "outputs": [],
   "source": [
    "nu.optimize(log_to_console=False)"
   ]
  },
  {
   "cell_type": "code",
   "execution_count": null,
   "metadata": {},
   "outputs": [],
   "source": [
    "nu.generators_t.status"
   ]
  },
  {
   "cell_type": "code",
   "execution_count": null,
   "metadata": {},
   "outputs": [],
   "source": [
    "nu.objective"
   ]
  },
  {
   "cell_type": "code",
   "execution_count": null,
   "metadata": {},
   "outputs": [],
   "source": [
    "nu.generators_t.p"
   ]
  },
  {
   "cell_type": "markdown",
   "metadata": {},
   "source": [
    "## Minimum Down Time\n",
    "\n",
    "Coal has a minimum down time, forcing it to go off longer than otherwise cost-optimal."
   ]
  },
  {
   "cell_type": "code",
   "execution_count": null,
   "metadata": {},
   "outputs": [],
   "source": [
    "nu = pypsa.Network(snapshots=range(4))\n",
    "\n",
    "nu.add(\"Bus\", \"bus\")\n",
    "\n",
    "nu.add(\n",
    "    \"Generator\",\n",
    "    \"coal\",\n",
    "    bus=\"bus\",\n",
    "    committable=True,\n",
    "    p_min_pu=0.3,\n",
    "    marginal_cost=20,\n",
    "    min_down_time=2,\n",
    "    down_time_before=1,\n",
    "    p_nom=10_000,\n",
    ")\n",
    "\n",
    "nu.add(\n",
    "    \"Generator\",\n",
    "    \"gas\",\n",
    "    bus=\"bus\",\n",
    "    committable=True,\n",
    "    marginal_cost=70,\n",
    "    p_min_pu=0.1,\n",
    "    p_nom=4_000,\n",
    ")\n",
    "\n",
    "nu.add(\"Load\", \"load\", bus=\"bus\", p_set=[3_000, 800, 3_000, 8_000])"
   ]
  },
  {
   "cell_type": "code",
   "execution_count": null,
   "metadata": {},
   "outputs": [],
   "source": [
    "nu.optimize(log_to_console=False)"
   ]
  },
  {
   "cell_type": "code",
   "execution_count": null,
   "metadata": {},
   "outputs": [],
   "source": [
    "nu.objective"
   ]
  },
  {
   "cell_type": "code",
   "execution_count": null,
   "metadata": {},
   "outputs": [],
   "source": [
    "nu.generators_t.status"
   ]
  },
  {
   "cell_type": "code",
   "execution_count": null,
   "metadata": {},
   "outputs": [],
   "source": [
    "nu.generators_t.p"
   ]
  },
  {
   "cell_type": "markdown",
   "metadata": {},
   "source": [
    "## Start Up and Shut Down Costs\n",
    "\n",
    "Now there are costs associated with shut down and start up events, which could incentivise longer up times of generators with high start-up and shut-down costs."
   ]
  },
  {
   "cell_type": "code",
   "execution_count": null,
   "metadata": {},
   "outputs": [],
   "source": [
    "nu = pypsa.Network(snapshots=range(4))\n",
    "\n",
    "nu.add(\"Bus\", \"bus\")\n",
    "\n",
    "nu.add(\n",
    "    \"Generator\",\n",
    "    \"coal\",\n",
    "    bus=\"bus\",\n",
    "    committable=True,\n",
    "    p_min_pu=0.3,\n",
    "    marginal_cost=20,\n",
    "    min_down_time=2,\n",
    "    start_up_cost=5_000,\n",
    "    p_nom=10_000,\n",
    ")\n",
    "\n",
    "nu.add(\n",
    "    \"Generator\",\n",
    "    \"gas\",\n",
    "    bus=\"bus\",\n",
    "    committable=True,\n",
    "    marginal_cost=70,\n",
    "    p_min_pu=0.1,\n",
    "    shut_down_cost=25,\n",
    "    p_nom=4_000,\n",
    ")\n",
    "\n",
    "nu.add(\"Load\", \"load\", bus=\"bus\", p_set=[3_000, 800, 3_000, 8_000])"
   ]
  },
  {
   "cell_type": "code",
   "execution_count": null,
   "metadata": {},
   "outputs": [],
   "source": [
    "nu.optimize(log_to_console=False)"
   ]
  },
  {
   "cell_type": "code",
   "execution_count": null,
   "metadata": {},
   "outputs": [],
   "source": [
    "nu.objective"
   ]
  },
  {
   "cell_type": "code",
   "execution_count": null,
   "metadata": {},
   "outputs": [],
   "source": [
    "nu.generators_t.status"
   ]
  },
  {
   "cell_type": "code",
   "execution_count": null,
   "metadata": {},
   "outputs": [],
   "source": [
    "nu.generators_t.p"
   ]
  },
  {
   "cell_type": "markdown",
   "metadata": {},
   "source": [
    "## Ramp Rate Limits\n",
    "\n",
    "Ramp rate limits can be set for ramping up and down and are given as percentage of the nominal power that can be ramped up or down per snapshot. Note that the ramp limits apply per snapshot and are **not** weighted by the time step duration (`nu.snapshot_weightings`)."
   ]
  },
  {
   "cell_type": "code",
   "execution_count": null,
   "metadata": {},
   "outputs": [],
   "source": [
    "nu = pypsa.Network(snapshots=range(6))\n",
    "\n",
    "nu.add(\"Bus\", \"bus\")\n",
    "\n",
    "nu.add(\n",
    "    \"Generator\",\n",
    "    \"coal\",\n",
    "    bus=\"bus\",\n",
    "    marginal_cost=20,\n",
    "    ramp_limit_up=0.1,\n",
    "    ramp_limit_down=0.2,\n",
    "    p_nom=10_000,\n",
    ")\n",
    "\n",
    "nu.add(\"Generator\", \"gas\", bus=\"bus\", marginal_cost=70, p_nom=4_000)\n",
    "\n",
    "nu.add(\"Load\", \"load\", bus=\"bus\", p_set=[4_000, 7_000, 7_000, 7_000, 7_000, 3_000])"
   ]
  },
  {
   "cell_type": "code",
   "execution_count": null,
   "metadata": {},
   "outputs": [],
   "source": [
    "nu.optimize(log_to_console=False)"
   ]
  },
  {
   "cell_type": "code",
   "execution_count": null,
   "metadata": {},
   "outputs": [],
   "source": [
    "nu.generators_t.p"
   ]
  },
  {
   "cell_type": "markdown",
   "metadata": {},
   "source": [
    "With capacity expansion (as long as unit is not committable):"
   ]
  },
  {
   "cell_type": "code",
   "execution_count": null,
   "metadata": {},
   "outputs": [],
   "source": [
    "nu = pypsa.Network(snapshots=range(6))\n",
    "\n",
    "nu.add(\"Bus\", \"bus\")\n",
    "\n",
    "nu.add(\n",
    "    \"Generator\",\n",
    "    \"coal\",\n",
    "    bus=\"bus\",\n",
    "    marginal_cost=20,\n",
    "    ramp_limit_up=0.1,\n",
    "    ramp_limit_down=0.2,\n",
    "    p_nom_extendable=True,\n",
    "    capital_cost=1e2,\n",
    ")\n",
    "\n",
    "nu.add(\"Generator\", \"gas\", bus=\"bus\", marginal_cost=70, p_nom=4000)\n",
    "\n",
    "nu.add(\"Load\", \"load\", bus=\"bus\", p_set=[4000, 7000, 7000, 7000, 7000, 3000])"
   ]
  },
  {
   "cell_type": "code",
   "execution_count": null,
   "metadata": {},
   "outputs": [],
   "source": [
    "nu.optimize(log_to_console=False)"
   ]
  },
  {
   "cell_type": "code",
   "execution_count": null,
   "metadata": {},
   "outputs": [],
   "source": [
    "nu.generators.p_nom_opt"
   ]
  },
  {
   "cell_type": "code",
   "execution_count": null,
   "metadata": {},
   "outputs": [],
   "source": [
    "nu.generators_t.p"
   ]
  },
  {
   "cell_type": "markdown",
   "metadata": {},
   "source": [
    "Watch out for bad interactions, for example, when the ramp limit at start up or shut down is bigger than the regular ramp limit or minimum part load, which can lead to infeasibilities."
   ]
  },
  {
   "cell_type": "code",
   "execution_count": null,
   "metadata": {},
   "outputs": [],
   "source": [
    "nu = pypsa.Network(snapshots=range(7))\n",
    "\n",
    "nu.add(\"Bus\", \"bus\")\n",
    "\n",
    "# Can get bad interactions if SU > RU and p_min_pu; similarly if SD > RD\n",
    "nu.add(\n",
    "    \"Generator\",\n",
    "    \"coal\",\n",
    "    bus=\"bus\",\n",
    "    marginal_cost=20,\n",
    "    committable=True,\n",
    "    p_min_pu=0.05,\n",
    "    initial_status=0,\n",
    "    ramp_limit_start_up=0.1,\n",
    "    ramp_limit_up=0.2,\n",
    "    ramp_limit_down=0.25,\n",
    "    ramp_limit_shut_down=0.15,\n",
    "    p_nom=10_000,\n",
    ")\n",
    "\n",
    "nu.add(\"Generator\", \"gas\", bus=\"bus\", marginal_cost=70, p_nom=10_000)\n",
    "\n",
    "nu.add(\"Load\", \"load\", bus=\"bus\", p_set=[0, 200, 7_000, 7_000, 7_000, 2_000, 0])"
   ]
  },
  {
   "cell_type": "code",
   "execution_count": null,
   "metadata": {},
   "outputs": [],
   "source": [
    "nu.optimize(log_to_console=False)"
   ]
  },
  {
   "cell_type": "code",
   "execution_count": null,
   "metadata": {},
   "outputs": [],
   "source": [
    "nu.generators_t.p"
   ]
  },
  {
   "cell_type": "code",
   "execution_count": null,
   "metadata": {},
   "outputs": [],
   "source": [
    "nu.generators_t.status"
   ]
  },
  {
   "cell_type": "markdown",
   "metadata": {},
   "source": [
    "## Rolling Horizon\n",
    "\n",
    "The unit commitment optimisation can be combined with a rolling horizon optimisation, i.e. solving the snapshots sequentially in batches. This can be done manually (as shown here) or automatically, using `nu.optimize.optimize_with_rolling_horizon()`."
   ]
  },
  {
   "cell_type": "code",
   "execution_count": null,
   "metadata": {},
   "outputs": [],
   "source": [
    "sets_of_snapshots = 6\n",
    "p_set = [4_000, 5_000, 700, 800, 4_000]\n",
    "\n",
    "nu = pypsa.Network(snapshots=range(len(p_set) * sets_of_snapshots))\n",
    "\n",
    "nu.add(\"Bus\", \"bus\")\n",
    "\n",
    "nu.add(\n",
    "    \"Generator\",\n",
    "    \"coal\",\n",
    "    bus=\"bus\",\n",
    "    committable=True,\n",
    "    p_min_pu=0.3,\n",
    "    marginal_cost=20,\n",
    "    min_down_time=2,\n",
    "    min_up_time=3,\n",
    "    up_time_before=1,\n",
    "    ramp_limit_up=1,\n",
    "    ramp_limit_down=1,\n",
    "    ramp_limit_start_up=1,\n",
    "    ramp_limit_shut_down=1,\n",
    "    shut_down_cost=150,\n",
    "    start_up_cost=200,\n",
    "    p_nom=10_000,\n",
    ")\n",
    "\n",
    "nu.add(\n",
    "    \"Generator\",\n",
    "    \"gas\",\n",
    "    bus=\"bus\",\n",
    "    committable=True,\n",
    "    marginal_cost=70,\n",
    "    p_min_pu=0.1,\n",
    "    up_time_before=2,\n",
    "    min_up_time=3,\n",
    "    shut_down_cost=20,\n",
    "    start_up_cost=50,\n",
    "    p_nom=1_000,\n",
    ")\n",
    "\n",
    "nu.add(\"Load\", \"load\", bus=\"bus\", p_set=p_set * sets_of_snapshots)"
   ]
  },
  {
   "cell_type": "code",
   "execution_count": null,
   "metadata": {},
   "outputs": [],
   "source": [
    "overlap = 2\n",
    "for i in range(sets_of_snapshots):\n",
    "    snapshots = nu.snapshots[i * len(p_set) : (i + 1) * len(p_set) + overlap]\n",
    "    nu.optimize(snapshots=snapshots, log_to_console=False)"
   ]
  },
  {
   "cell_type": "code",
   "execution_count": null,
   "metadata": {},
   "outputs": [],
   "source": [
    "pd.concat(\n",
    "    {\"Active\": nu.generators_t.status.astype(bool), \"Output\": nu.generators_t.p}, axis=1\n",
    ")"
   ]
  }
 ],
 "metadata": {
  "@webio": {
   "lastCommId": null,
   "lastKernelId": null
  },
  "kernelspec": {
   "display_name": "",
   "language": "python",
   "name": ""
  },
  "language_info": {
   "codemirror_mode": {
    "name": "ipython",
    "version": 3
   },
   "file_extension": ".py",
   "mimetype": "text/x-python",
   "name": "python",
   "nbconvert_exporter": "python",
   "pygments_lexer": "ipython3",
   "version": "3.13.2"
  }
 },
 "nbformat": 4,
 "nbformat_minor": 1
}
