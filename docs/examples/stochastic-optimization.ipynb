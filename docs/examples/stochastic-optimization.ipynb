{
 "cells": [
  {
   "cell_type": "markdown",
   "id": "ff11c8e4",
   "metadata": {},
   "source": [
    "# Stochastic Optimization\n",
    "\n",
    "This example demonstrates principles of stochastic optimization for energy system planning under uncertainty and their implementation in PyPSA. See [User Guide - Stochastic Optimization](https://docs.pypsa.org/en/latest/user-guide/optimization/stochastic.html). We will consider a stylized capacity expansion model with three scenarios with low, medium, and high gas prices. The network will have a single-bus with a constant load and solar, wind, gas and lignite as extendable generators and the following gas price scenarios:\n",
    "\n",
    "| Scenario       | Gas Price | Probability |\n",
    "|----------------|-----------|-------------|\n",
    "| Low            | 40 €/MWh  | 40%         |\n",
    "| Medium         | 70 €/MWh  | 30%         |\n",
    "| High           | 100 €/MWh | 30%         |\n"
   ]
  },
  {
   "cell_type": "markdown",
   "id": "e0f84861",
   "metadata": {},
   "source": [
    "## Import Packages\n",
    "\n",
    "Let's first import the necessary packages."
   ]
  },
  {
   "cell_type": "code",
   "execution_count": null,
   "id": "d07a7c45",
   "metadata": {},
   "outputs": [],
   "source": [
    "import matplotlib.pyplot as plt\n",
    "import pandas as pd\n",
    "\n",
    "import pypsa"
   ]
  },
  {
   "cell_type": "markdown",
   "id": "b490a45d",
   "metadata": {},
   "source": [
    "## Prepare Input Data\n",
    "\n",
    "Then, we set a few general parameters, load capacity factor time series and techno-economic data such as investment costs and conversion efficiencies."
   ]
  },
  {
   "cell_type": "code",
   "execution_count": null,
   "id": "a435f1ff",
   "metadata": {},
   "outputs": [],
   "source": [
    "# Scenario definitions - Gas price uncertainty\n",
    "SCENARIOS = [\"low\", \"med\", \"high\"]\n",
    "GAS_PRICES = {\"low\": 40, \"med\": 70, \"high\": 100}  # EUR/MWh_th\n",
    "PROB = {\"low\": 0.4, \"med\": 0.3, \"high\": 0.3}  # Scenario probabilities\n",
    "BASE = \"low\"  # Base scenario for network construction\n",
    "\n",
    "# System parameters\n",
    "FREQ = \"3h\"  # Time resolution\n",
    "LOAD_MW = 1  # Constant load (MW)\n",
    "SOLVER = \"highs\"  # Optimization solver\n",
    "\n",
    "# Time series data URL\n",
    "TS_URL = (\n",
    "    \"https://tubcloud.tu-berlin.de/s/pKttFadrbTKSJKF/download/time-series-lecture-2.csv\"\n",
    ")\n",
    "\n",
    "# Load and process time series data\n",
    "ts = pd.read_csv(TS_URL, index_col=0, parse_dates=True)\n",
    "ts = ts.resample(FREQ).asfreq()  # Resample to 3-hour resolution\n",
    "\n",
    "\n",
    "# Technology specifications\n",
    "def annuity(life, rate):\n",
    "    \"\"\"Compute capital recovery factor for annualizing investment costs.\"\"\"\n",
    "    return rate / (1 - (1 + rate) ** -life) if rate else 1 / life\n",
    "\n",
    "\n",
    "# Technology data: investment costs, efficiencies, marginal costs\n",
    "TECH = {\n",
    "    \"solar\": {\"profile\": \"solar\", \"inv\": 1e6, \"m_cost\": 0.01},\n",
    "    \"wind\": {\"profile\": \"onwind\", \"inv\": 2e6, \"m_cost\": 0.02},\n",
    "    \"gas\": {\"inv\": 7e5, \"eff\": 0.6},\n",
    "    \"lignite\": {\"inv\": 1.3e6, \"eff\": 0.4, \"m_cost\": 130},\n",
    "}\n",
    "\n",
    "# Financial parameters\n",
    "FOM, DR, LIFE = 3.0, 0.03, 25  # Fixed O&M (%), discount rate, lifetime (years)\n",
    "\n",
    "# Calculate annualized capital costs\n",
    "for cfg in TECH.values():\n",
    "    cfg[\"fixed_cost\"] = (annuity(LIFE, DR) + FOM / 100) * cfg[\"inv\"]\n",
    "\n",
    "\n",
    "COLOR_MAP = {\n",
    "    \"solar\": \"gold\",\n",
    "    \"wind\": \"skyblue\",\n",
    "    \"gas\": \"brown\",\n",
    "    \"lignite\": \"black\",\n",
    "}"
   ]
  },
  {
   "cell_type": "markdown",
   "id": "c909afb8",
   "metadata": {},
   "source": [
    "## Create PyPSA Network\n",
    "\n",
    "Next, we build the PyPSA network from the provided input data. We wrap it in a function for easy reuse for different scenarios."
   ]
  },
  {
   "cell_type": "code",
   "execution_count": null,
   "id": "a51a3e11",
   "metadata": {},
   "outputs": [],
   "source": [
    "def build_network(gas_price: float) -> pypsa.Network:\n",
    "    n = pypsa.Network()\n",
    "    n.set_snapshots(ts.index)\n",
    "    n.snapshot_weightings = pd.Series(int(FREQ[:-1]), index=ts.index)  # 3-hour weights\n",
    "\n",
    "    # Add bus and load\n",
    "    n.add(\"Bus\", \"DE\")\n",
    "    n.add(\"Load\", \"DE_load\", bus=\"DE\", p_set=LOAD_MW)\n",
    "\n",
    "    # Add renewable generators (variable renewable energy)\n",
    "    for tech in [\"solar\", \"wind\"]:\n",
    "        cfg = TECH[tech]\n",
    "        n.add(\n",
    "            \"Generator\",\n",
    "            tech,\n",
    "            bus=\"DE\",\n",
    "            p_nom_extendable=True,\n",
    "            p_max_pu=ts[cfg[\"profile\"]],  # Renewable availability profile\n",
    "            capital_cost=cfg[\"fixed_cost\"],\n",
    "            marginal_cost=cfg[\"m_cost\"],\n",
    "        )\n",
    "\n",
    "    # Add conventional generators (dispatchable)\n",
    "    for tech in [\"gas\", \"lignite\"]:\n",
    "        cfg = TECH[tech]\n",
    "        # Gas marginal cost depends on gas price and efficiency\n",
    "        mc = (gas_price / cfg.get(\"eff\")) if tech == \"gas\" else cfg[\"m_cost\"]\n",
    "        n.add(\n",
    "            \"Generator\",\n",
    "            tech,\n",
    "            bus=\"DE\",\n",
    "            p_nom_extendable=True,\n",
    "            efficiency=cfg.get(\"eff\"),\n",
    "            capital_cost=cfg[\"fixed_cost\"],\n",
    "            marginal_cost=mc,\n",
    "        )\n",
    "    return n"
   ]
  },
  {
   "cell_type": "markdown",
   "id": "b29ed3d7",
   "metadata": {},
   "source": [
    "## Deterministic Optimization\n",
    "\n",
    "Initially, let's solve separate deterministic optimization problems for each gas price scenario. This represents the approach where we assume perfect foresight on the uncertain parameter. That means we solve the problem for each scenario independently."
   ]
  },
  {
   "cell_type": "code",
   "execution_count": null,
   "id": "7eccfc50",
   "metadata": {},
   "outputs": [],
   "source": [
    "caps_det = pd.DataFrame(index=SCENARIOS, columns=TECH.keys())\n",
    "objs_det = pd.Series(index=SCENARIOS)\n",
    "\n",
    "for sc in SCENARIOS:\n",
    "    n = build_network(GAS_PRICES[sc])\n",
    "    n.optimize(solver_name=SOLVER, log_to_console=False)\n",
    "    caps_det.loc[sc] = n.generators.p_nom_opt\n",
    "    objs_det.loc[sc] = n.objective"
   ]
  },
  {
   "cell_type": "code",
   "execution_count": null,
   "id": "a84c3ef8",
   "metadata": {},
   "outputs": [],
   "source": [
    "# Visualize deterministic results\n",
    "fig, (ax1, ax2) = plt.subplots(1, 2, figsize=(14, 5))\n",
    "\n",
    "colors = [COLOR_MAP.get(c, \"gray\") for c in caps_det.columns]\n",
    "caps_det.plot(kind=\"bar\", stacked=True, ax=ax1, color=colors)\n",
    "ax1.set_title(\"Deterministic Capacity Mix by Scenario\")\n",
    "ax1.set_ylabel(\"Capacity (MW)\")\n",
    "ax1.legend(loc=\"upper left\")\n",
    "\n",
    "(objs_det / 1e6).plot(kind=\"bar\", ax=ax2, color=\"steelblue\")\n",
    "ax2.set_title(\"Deterministic Total Costs by Scenario\")\n",
    "ax2.set_ylabel(\"Total Cost (M€/year)\")"
   ]
  },
  {
   "cell_type": "markdown",
   "id": "60656ffd",
   "metadata": {},
   "source": [
    "We observe that higher gas prices lead to more renewable capacity expansion and less gas capacity. As gas prices increase, total system costs rise."
   ]
  },
  {
   "cell_type": "markdown",
   "id": "e6f73aff",
   "metadata": {},
   "source": [
    "## Stochastic Optimization\n",
    "\n",
    "The key to stochastic optimization in PyPSA is the `n.set_scenarios()` method.\n",
    "This method transforms a regular PyPSA network into a stochastic network by\n",
    "**adding scenario dimensions** to all component data which allows specifying\n",
    "scenario-specific parameters. Once scenarios are set, PyPSA treats investment\n",
    "decisions as **first-stage variables** that must be the same across all\n",
    "scenarios, while dispatch decisions become **second-stage variables** that can\n",
    "differ by scenario.\n",
    "\n",
    "We start by building a deterministic network for our (arbitrarily selected) base scenario.\n",
    "Subsequently, we add our scenarios to the network."
   ]
  },
  {
   "cell_type": "code",
   "execution_count": null,
   "id": "809efd37",
   "metadata": {},
   "outputs": [],
   "source": [
    "n_stoch = build_network(GAS_PRICES[BASE])\n",
    "n_stoch.set_scenarios(PROB)"
   ]
  },
  {
   "cell_type": "markdown",
   "id": "d03beea9",
   "metadata": {},
   "source": [
    "After that, we can set the scenario-specific parameters, i.e. the varying gas prices by scenario."
   ]
  },
  {
   "cell_type": "code",
   "execution_count": null,
   "id": "a3fe27a5",
   "metadata": {},
   "outputs": [],
   "source": [
    "for sc in SCENARIOS:\n",
    "    n_stoch.generators.loc[(sc, \"gas\"), \"marginal_cost\"] = (\n",
    "        GAS_PRICES[sc] / n_stoch.generators.loc[(sc, \"gas\"), \"efficiency\"]\n",
    "    )"
   ]
  },
  {
   "cell_type": "markdown",
   "id": "7bda08f2",
   "metadata": {},
   "source": [
    "Now, we can solve the stochastic optimisation model:"
   ]
  },
  {
   "cell_type": "code",
   "execution_count": null,
   "id": "d6056c16",
   "metadata": {},
   "outputs": [],
   "source": [
    "n_stoch.optimize(solver_name=SOLVER, log_to_console=False)\n",
    "\n",
    "print(f\"Total expected cost: {n_stoch.objective / 1e6:.3f} M€/year\")\n",
    "\n",
    "caps_api = n_stoch.generators.p_nom_opt.xs(BASE, level=\"scenario\")\n",
    "obj_api = n_stoch.objective"
   ]
  },
  {
   "cell_type": "code",
   "execution_count": null,
   "id": "4996f9e7",
   "metadata": {},
   "outputs": [],
   "source": [
    "caps_comparison = caps_det.copy()\n",
    "caps_comparison.loc[\"Stochastic\"] = caps_api\n",
    "\n",
    "objs_comparison = objs_det.copy()\n",
    "objs_comparison.loc[\"Stochastic\"] = obj_api\n",
    "\n",
    "fig, (ax1, ax2) = plt.subplots(1, 2, figsize=(15, 5))\n",
    "\n",
    "colors = [COLOR_MAP.get(c, \"gray\") for c in caps_comparison.columns]\n",
    "caps_comparison.plot(kind=\"bar\", stacked=True, ax=ax1, color=colors)\n",
    "ax1.set_title(\"Capacity Mix: Deterministic vs. Stochastic\")\n",
    "ax1.set_ylabel(\"Capacity (MW)\")\n",
    "ax1.legend(loc=\"upper left\")\n",
    "\n",
    "(objs_comparison / 1e6).plot(kind=\"bar\", ax=ax2, color=\"steelblue\")\n",
    "ax2.set_title(\"Total Cost: Deterministic vs. Stochastic\")\n",
    "ax2.set_ylabel(\"Total Cost (M€/year)\")"
   ]
  },
  {
   "cell_type": "markdown",
   "id": "9cd0b7d3",
   "metadata": {},
   "source": [
    "## Value of Information Metrics\n",
    "\n",
    "We can also now calculate the Value of Information (VoI) metrics, which include the Expected Value of Perfect Information (EVPI) and the Value of Stochastic Solution (VSS). These metrics help us understand the benefits of incorporating uncertainty into our optimization model."
   ]
  },
  {
   "cell_type": "code",
   "execution_count": null,
   "id": "5abcb081",
   "metadata": {},
   "outputs": [],
   "source": [
    "# Wait-and-See (perfect information) expected cost\n",
    "ws_cost = sum(objs_det[sc] * PROB[sc] for sc in SCENARIOS)\n",
    "print(f\"Wait-and-See (WS) cost: {ws_cost / 1e6:.3f} M€/year\")"
   ]
  },
  {
   "cell_type": "code",
   "execution_count": null,
   "id": "96b4dfa6",
   "metadata": {},
   "outputs": [],
   "source": [
    "# Expected Value of Perfect Information\n",
    "evpi = obj_api - ws_cost\n",
    "print(f\"EVPI (SP - WS): {evpi / 1e6:.3f} M€/year\")"
   ]
  },
  {
   "cell_type": "code",
   "execution_count": null,
   "id": "3ab4a725",
   "metadata": {},
   "outputs": [],
   "source": [
    "# Expected gas price\n",
    "expected_gas_price = sum(GAS_PRICES[sc] * PROB[sc] for sc in SCENARIOS)\n",
    "print(f\"Expected gas price: {expected_gas_price:.1f} EUR/MWh_th\")"
   ]
  },
  {
   "cell_type": "code",
   "execution_count": null,
   "id": "566eebca",
   "metadata": {},
   "outputs": [],
   "source": [
    "# Report stochastic programming (SP) cost\n",
    "print(f\"Stochastic Prog (SP) cost: {obj_api / 1e6:.3f} M€/year\")"
   ]
  },
  {
   "cell_type": "code",
   "execution_count": null,
   "id": "7b458f8b",
   "metadata": {},
   "outputs": [],
   "source": [
    "# Solve deterministic problem with expected gas price (EEV solution)\n",
    "n_eev = build_network(expected_gas_price)\n",
    "n_eev.optimize(solver_name=SOLVER, log_to_console=False)\n",
    "eev_capacities = n_eev.generators.p_nom_opt\n",
    "\n",
    "# Evaluate EEV capacities under each scenario\n",
    "eev_costs = []\n",
    "for sc in SCENARIOS:\n",
    "    n_eval = build_network(GAS_PRICES[sc])\n",
    "    for tech in TECH.keys():\n",
    "        n_eval.generators.loc[tech, \"p_nom_max\"] = eev_capacities[tech]\n",
    "        n_eval.generators.loc[tech, \"p_nom_min\"] = eev_capacities[tech]\n",
    "    n_eval.optimize(solver_name=SOLVER, log_to_console=False)\n",
    "    eev_costs.append(n_eval.objective)\n",
    "\n",
    "eev_expected_cost = sum(eev_costs[i] * PROB[sc] for i, sc in enumerate(SCENARIOS))\n",
    "print(f\"Expected Value (EEV) cost: {eev_expected_cost / 1e6:.3f} M€/year\")"
   ]
  },
  {
   "cell_type": "code",
   "execution_count": null,
   "id": "82347660",
   "metadata": {},
   "outputs": [],
   "source": [
    "# Value of Stochastic Solution\n",
    "vss = eev_expected_cost - obj_api\n",
    "print(f\"VSS (EEV - SP): {vss / 1e6:.3f} M€/year\")"
   ]
  },
  {
   "cell_type": "code",
   "execution_count": null,
   "id": "ffee9ff7",
   "metadata": {},
   "outputs": [],
   "source": [
    "print(\"\\nTheoretical Ordering Check:\")\n",
    "print(f\"  WS ≤ SP: {ws_cost <= obj_api} ({ws_cost:.0f} ≤ {obj_api:.0f})\")\n",
    "print(\n",
    "    f\"  SP ≤ EEV: {obj_api <= eev_expected_cost} ({obj_api:.0f} ≤ {eev_expected_cost:.0f})\"\n",
    ")\n",
    "print(f\"  EVPI ≥ 0: {evpi >= 0} ({evpi:.0f} ≥ 0)\")\n",
    "print(f\"  VSS ≥ 0: {vss >= 0} ({vss:.0f} ≥ 0)\")"
   ]
  },
  {
   "cell_type": "code",
   "execution_count": null,
   "id": "cdb86eed",
   "metadata": {},
   "outputs": [],
   "source": [
    "costs_voi = pd.Series(\n",
    "    {\n",
    "        \"Wait-and-See\\n(Perfect Info)\": ws_cost,\n",
    "        \"Stochastic\\nProgramming\": obj_api,\n",
    "        \"Expected Value\\n(Ignore Uncertainty)\": eev_expected_cost,\n",
    "    }\n",
    ")\n",
    "\n",
    "\n",
    "fig, ax1 = plt.subplots(figsize=(7, 5))\n",
    "\n",
    "# Cost comparison\n",
    "(costs_voi / 1e6).plot(kind=\"bar\", ax=ax1, color=[\"green\", \"blue\", \"red\"], alpha=0.7)\n",
    "ax1.set_title(\"Value of Information: Cost Comparison\", fontsize=14, fontweight=\"bold\")\n",
    "ax1.set_ylabel(\"Total Cost (M€/year)\")\n",
    "ax1.tick_params(axis=\"x\", rotation=45)\n",
    "ax1.grid(True, alpha=0.3)\n",
    "\n",
    "# Add EVPI and VSS arrows\n",
    "ax1.annotate(\n",
    "    \"\",\n",
    "    xy=(0, ws_cost / 1e6),\n",
    "    xytext=(1, obj_api / 1e6),\n",
    "    arrowprops={\"arrowstyle\": \"<->\", \"color\": \"purple\", \"lw\": 2},\n",
    ")\n",
    "ax1.text(\n",
    "    0.5,\n",
    "    (ws_cost + obj_api) / (2 * 1e6),\n",
    "    \"EVPI\",\n",
    "    color=\"purple\",\n",
    "    fontweight=\"bold\",\n",
    "    fontsize=10,\n",
    "    ha=\"center\",\n",
    ")\n",
    "\n",
    "ax1.annotate(\n",
    "    \"\",\n",
    "    xy=(1, obj_api / 1e6),\n",
    "    xytext=(2, eev_expected_cost / 1e6),\n",
    "    arrowprops={\"arrowstyle\": \"<->\", \"color\": \"orange\", \"lw\": 2},\n",
    ")\n",
    "ax1.text(\n",
    "    1.5,\n",
    "    (eev_expected_cost + obj_api) / (2 * 1e6),\n",
    "    \"VSS\",\n",
    "    color=\"orange\",\n",
    "    fontweight=\"bold\",\n",
    "    fontsize=10,\n",
    "    ha=\"center\",\n",
    ")"
   ]
  },
  {
   "cell_type": "markdown",
   "id": "bc1b508f",
   "metadata": {},
   "source": [
    "## References\n",
    "\n",
    "[1] Birge, J. R., & Louveaux, F. (2011). [**Introduction to Stochastic Programming**](https://link.springer.com/book/10.1007/978-1-4614-0237-4).\n",
    "\n",
    "[2] Birge, J. R. (1982). [**The value of the stochastic solution in stochastic linear programs with fixed recourse.**](https://deepblue.lib.umich.edu/bitstream/handle/2027.42/47912/10107_2005_Article_BF01585113.pdf) *Mathematical Programming*, 24(1), 314-325."
   ]
  }
 ],
 "metadata": {
  "kernelspec": {
   "display_name": "",
   "language": "python",
   "name": ""
  },
  "language_info": {
   "codemirror_mode": {
    "name": "ipython",
    "version": 3
   },
   "file_extension": ".py",
   "mimetype": "text/x-python",
   "name": "python",
   "nbconvert_exporter": "python",
   "pygments_lexer": "ipython3",
   "version": "3.13.2"
  }
 },
 "nbformat": 4,
 "nbformat_minor": 5
}
