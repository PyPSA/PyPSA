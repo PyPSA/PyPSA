{
 "cells": [
  {
   "cell_type": "code",
   "execution_count": null,
   "metadata": {
    "tags": [
     "injected-warnings",
     "hide-cell"
    ]
   },
   "outputs": [],
   "source": [
    "# General notebook settings\n",
    "import warnings\n",
    "\n",
    "warnings.filterwarnings(\"error\", category=DeprecationWarning)"
   ]
  },
  {
   "cell_type": "markdown",
   "metadata": {},
   "source": [
    "# Demand Elasticity"
   ]
  },
  {
   "cell_type": "markdown",
   "metadata": {
    "tags": []
   },
   "source": [
    "This example demonstrates how demand elasticity can be modelled in PyPSA, using single node capacity expansion model in the style of [model.energy](https://model.energy).\n",
    "\n",
    "See [Brown, Neumann, Riepin (2025)](https://doi.org/10.1016/j.eneco.2025.108483) for more details."
   ]
  },
  {
   "cell_type": "markdown",
   "metadata": {
    "ExecuteTime": {
     "end_time": "2024-05-24T08:46:20.357375Z",
     "start_time": "2024-05-24T08:46:17.846410Z"
    },
    "jp-MarkdownHeadingCollapsed": true,
    "tags": []
   },
   "source": [
    "## Preparations\n",
    "\n",
    "We start by loading packages, example networks and creating a utility function to retrieve price duration curve."
   ]
  },
  {
   "cell_type": "code",
   "execution_count": null,
   "metadata": {},
   "outputs": [],
   "source": [
    "import matplotlib.pyplot as plt\n",
    "import numpy as np\n",
    "import pandas as pd\n",
    "\n",
    "import pypsa\n",
    "\n",
    "plt.style.use(\"bmh\")"
   ]
  },
  {
   "cell_type": "code",
   "execution_count": null,
   "metadata": {},
   "outputs": [],
   "source": [
    "def get_price_duration(n: pypsa.Network, bus: str = \"electricity\") -> pd.Series:\n",
    "    s = (\n",
    "        n.buses_t.marginal_price[bus]\n",
    "        .sort_values(ascending=False)\n",
    "        .reset_index(drop=True)\n",
    "    )\n",
    "    s.index = np.arange(0, 100, 100 / len(s.index))\n",
    "    return s"
   ]
  },
  {
   "cell_type": "code",
   "execution_count": null,
   "metadata": {
    "ExecuteTime": {
     "end_time": "2024-05-24T07:37:33.819917Z",
     "start_time": "2024-05-24T07:37:33.743147Z"
    }
   },
   "outputs": [],
   "source": [
    "n = pypsa.examples.model_energy()\n",
    "n.remove(\"Load\", \"demand\")\n",
    "n.remove(\"Generator\", \"load shedding\")"
   ]
  },
  {
   "cell_type": "markdown",
   "metadata": {},
   "source": [
    "To save some computation time, we will sample just every fifth day of the year. Each day is considered at 3-hourly resolution, so we will have 8 snapshots per representative day."
   ]
  },
  {
   "cell_type": "code",
   "execution_count": null,
   "metadata": {},
   "outputs": [],
   "source": [
    "selected = n.snapshots.normalize().unique()[::5]\n",
    "snapshots = n.snapshots[n.snapshots.normalize().isin(selected)]\n",
    "n.set_snapshots(snapshots)\n",
    "n.snapshot_weightings[[\"objective\", \"generators\"]] *= 5"
   ]
  },
  {
   "cell_type": "markdown",
   "metadata": {},
   "source": [
    "## Perfectly inelastic demand\n",
    "\n",
    "Most commonly, capacity expansion models would prescribe a perfectly inelastic demand via the `p_set` attribute, e.g. 100 MW.\n",
    "\n",
    "The utility drawn from this consumption is effectively infinite. The model has to find a way to satisfy it. Otherwise, the model is infeasible."
   ]
  },
  {
   "cell_type": "code",
   "execution_count": null,
   "metadata": {},
   "outputs": [],
   "source": [
    "n.add(\"Load\", \"demand\", bus=\"electricity\", p_set=100)"
   ]
  },
  {
   "cell_type": "code",
   "execution_count": null,
   "metadata": {},
   "outputs": [],
   "source": [
    "n.optimize()"
   ]
  },
  {
   "cell_type": "markdown",
   "metadata": {},
   "source": [
    "Market clearing prices can spike to extreme values in few hours of the year, while remaining close to zero for a majority of time."
   ]
  },
  {
   "cell_type": "code",
   "execution_count": null,
   "metadata": {},
   "outputs": [],
   "source": [
    "fig, ax = plt.subplots()\n",
    "get_price_duration(n).plot(\n",
    "    ax=ax,\n",
    "    ylabel=\"Clearing Price [€/MWh]\",\n",
    "    xlabel=\"Fraction of Time [%]\",\n",
    "    label=\"default\",\n",
    "    legend=True,\n",
    ")"
   ]
  },
  {
   "cell_type": "code",
   "execution_count": null,
   "metadata": {},
   "outputs": [],
   "source": [
    "capacities = n.statistics.optimal_capacity(round=2).to_frame(\"inelastic\")\n",
    "capacities"
   ]
  },
  {
   "cell_type": "markdown",
   "metadata": {},
   "source": [
    "## Perfectly inelastic demand up to VOLL\n",
    "\n",
    "One way to avoid the price spikes is to model demand as perfectly inelastic up to a pre-defined value of lost load (VOLL).\n",
    "\n",
    "Effectively, this is defined by a utility function $U(d) = Vd$ with a constant value $V$ for consumption $d\\in[0,D]$, for instance 1000 €/MWh.\n",
    "\n",
    "The demand curve is a step function. It is perfectly inelastic up to a price of $V$ at which point it is perfectly elastic.\n",
    "\n",
    "When we make the substitution $d=D-g$, we see that we can model the VOLL case with a load shedding generator with marginal costs of $V=1000$ €/MWh, omitting the constant term $VD$.\n",
    "\n",
    "$U(d) = Vd$\n",
    "\n",
    "$U(d) = VD - Vg$\n",
    "\n",
    "Note that the objective sense of PyPSA is to minimise costs in order to maximise utility, so any costs have a postive sign and utility gains have a negative sign in the objective."
   ]
  },
  {
   "cell_type": "code",
   "execution_count": null,
   "metadata": {},
   "outputs": [],
   "source": [
    "n.add(\n",
    "    \"Generator\",\n",
    "    \"load-shedding\",\n",
    "    bus=\"electricity\",\n",
    "    carrier=\"load\",\n",
    "    marginal_cost=1000,\n",
    "    p_nom=100,\n",
    ")"
   ]
  },
  {
   "cell_type": "code",
   "execution_count": null,
   "metadata": {},
   "outputs": [],
   "source": [
    "n.optimize()"
   ]
  },
  {
   "cell_type": "markdown",
   "metadata": {},
   "source": [
    "Now, the peak price is capped at 2000 €/MWh:"
   ]
  },
  {
   "cell_type": "code",
   "execution_count": null,
   "metadata": {},
   "outputs": [],
   "source": [
    "get_price_duration(n).plot(ax=ax, label=\"VOLL\", legend=True)\n",
    "fig"
   ]
  },
  {
   "cell_type": "markdown",
   "metadata": {},
   "source": [
    "This results in some changes in the cost-optimal capacity mix, in particular in terms of backup capacities."
   ]
  },
  {
   "cell_type": "code",
   "execution_count": null,
   "metadata": {},
   "outputs": [],
   "source": [
    "capacities[\"VOLL\"] = n.statistics.optimal_capacity(round=2)\n",
    "capacities"
   ]
  },
  {
   "cell_type": "markdown",
   "metadata": {},
   "source": [
    "## Linear demand curve\n",
    "\n",
    "In reality, electricity demand is at least partially elastic. Consumers would use less electricity if its more expensive, or would use more electricity if prices are low. \n",
    "\n",
    "For a linear demand curve $p = a - bd$, where $p$ is the price, the utility is quadratic: $U(d) = ad - 0.5 b d^2$\n",
    "\n",
    "For a choice of $a=2000$ and $b=20$, the demand curve looks like this:"
   ]
  },
  {
   "cell_type": "code",
   "execution_count": null,
   "metadata": {},
   "outputs": [],
   "source": [
    "x = np.linspace(0, 100, 200)\n",
    "plt.figure(figsize=(8, 4))\n",
    "plt.plot(x, 2000 - 20 * x)\n",
    "plt.xlabel(\"Demand (MW)\")\n",
    "plt.ylabel(\"Price (€/MWh)\")"
   ]
  },
  {
   "cell_type": "markdown",
   "metadata": {},
   "source": [
    "That means, for instance, at a price of 1000 €/MWh, the demand would be only 50 MW. At a price of 400 €/MWh, 80 MW. And so on.\n",
    "\n",
    "Applying the same substition $d = a/b - g$ ($a/b$ yields the maximum consumption at the zero point), turns \n",
    "\n",
    "$U(d) = ad - 0.5 b d^2$\n",
    "\n",
    "into \n",
    "\n",
    "$U(g) = \\frac{a^2}{2b} - 0.5 b g^2$\n",
    "\n",
    "which represents a load shedding generator with quadratic marginal cost $b/2$, again omitting the constant term from the objective.\n",
    "\n",
    "Due to the quadratic terms in the objective function, this addition turns the model into a quadratic problem (QP)."
   ]
  },
  {
   "cell_type": "code",
   "execution_count": null,
   "metadata": {},
   "outputs": [],
   "source": [
    "n.remove(\"Generator\", \"load-shedding\")\n",
    "\n",
    "n.add(\n",
    "    \"Generator\",\n",
    "    \"load-shedding\",\n",
    "    bus=\"electricity\",\n",
    "    carrier=\"load\",\n",
    "    marginal_cost_quadratic=20 / 2,\n",
    "    p_nom=100,\n",
    ")"
   ]
  },
  {
   "cell_type": "code",
   "execution_count": null,
   "metadata": {},
   "outputs": [],
   "source": [
    "n.optimize(solver_name=\"highs\")"
   ]
  },
  {
   "cell_type": "markdown",
   "metadata": {},
   "source": [
    "The price duration curve is considerably smoother with less extreme prices and fewer zero-price hours:"
   ]
  },
  {
   "cell_type": "code",
   "execution_count": null,
   "metadata": {},
   "outputs": [],
   "source": [
    "get_price_duration(n).plot(ax=ax, label=\"linear-elastic\", legend=True)\n",
    "fig"
   ]
  },
  {
   "cell_type": "markdown",
   "metadata": {},
   "source": [
    "Also, the optimised capacity mix is drastically different. The model cuts down on balancing technologies and rather curtails a lot demand instead. "
   ]
  },
  {
   "cell_type": "code",
   "execution_count": null,
   "metadata": {},
   "outputs": [],
   "source": [
    "capacities[\"linear-elastic\"] = n.statistics.optimal_capacity(round=2)\n",
    "capacities"
   ]
  },
  {
   "cell_type": "markdown",
   "metadata": {},
   "source": [
    "The drawback and explanation here is that the linear demand curve becomes unrealistically elastic at higher prices."
   ]
  },
  {
   "cell_type": "markdown",
   "metadata": {},
   "source": [
    "## Partial demand elasticity\n",
    "\n",
    "It is also possible to mix different demand modelling approaches. For instance, keeping 80% of demand perfectly inelastic, while modelling 20% with a linear demand curve.\n",
    "\n",
    "This just requires adjusting the capacity and cost terms of the load shedding generator (adjusts the slope of the linear demand curve)"
   ]
  },
  {
   "cell_type": "code",
   "execution_count": null,
   "metadata": {},
   "outputs": [],
   "source": [
    "n.generators.loc[\"load-shedding\", \"p_nom_max\"] *= 0.2\n",
    "n.generators.loc[\"load-shedding\", \"marginal_cost_quadratic\"] /= 0.2"
   ]
  },
  {
   "cell_type": "markdown",
   "metadata": {},
   "source": [
    "## Piecewise-linear demand curve\n",
    "\n",
    "It is also possible to model a set of piecewise linear demand curves, e.g. to approximate a log-log demand curve ($\\ln p = a - b \\ln d$), without much modification.\n",
    "\n",
    "For details see [Brown, Neumann, Riepin (2025)](https://doi.org/10.1016/j.eneco.2025.108483), Section 3.2 and Appendix A. "
   ]
  }
 ],
 "metadata": {
  "kernelspec": {
   "display_name": "",
   "language": "python",
   "name": ""
  },
  "language_info": {
   "codemirror_mode": {
    "name": "ipython",
    "version": 3
   },
   "file_extension": ".py",
   "mimetype": "text/x-python",
   "name": "python",
   "nbconvert_exporter": "python",
   "pygments_lexer": "ipython3",
   "version": "3.13.8"
  }
 },
 "nbformat": 4,
 "nbformat_minor": 4
}
