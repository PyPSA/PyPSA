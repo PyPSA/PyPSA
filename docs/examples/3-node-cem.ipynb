{
 "cells": [
  {
   "cell_type": "code",
   "execution_count": null,
   "id": "087b95ab",
   "metadata": {
    "tags": [
     "injected-warnings",
     "hide-cell"
    ]
   },
   "outputs": [],
   "source": [
    "# General notebook settings\n",
    "import warnings\n",
    "\n",
    "warnings.filterwarnings(\"error\", category=DeprecationWarning)"
   ]
  },
  {
   "cell_type": "markdown",
   "id": "af1141d4",
   "metadata": {},
   "source": [
    "# 3-Node Capacity Expansion\n",
    "\n",
    "This example builds on the [single-node capacity expansion example]() and extends it to three regions in Australia (New South Wales, Victoria, and South Australia), which can be connected via transmission links.\n",
    "The purpose is to illustrate how to set up a capacity expansion model with multiple interconnected regions, where the model can optimize for trade-offs between generation capacity, storage, and transmission infrastructure.\n",
    "\n",
    "In this first block, we import the necessary libraries and set up some basic functions (e.g. annuity factors) and constants (e.g. temporal resolution and solver):"
   ]
  },
  {
   "cell_type": "code",
   "execution_count": null,
   "id": "0a6ec620",
   "metadata": {},
   "outputs": [],
   "source": [
    "import cartopy.crs as ccrs\n",
    "import geopandas as gpd\n",
    "import matplotlib.pyplot as plt\n",
    "import numpy as np\n",
    "import pandas as pd\n",
    "\n",
    "import pypsa\n",
    "from pypsa.common import annuity\n",
    "\n",
    "RESOLUTION = 3  # 3-hourly\n",
    "SOLVER = \"highs\"  # or 'gurobi'"
   ]
  },
  {
   "cell_type": "markdown",
   "id": "adf4a097",
   "metadata": {},
   "source": [
    "In a fresh PyPSA network instance, we set the coordinates of each state's capital (Sydney, Melbourne, and Adelaide) as the coordinates of the electricity buses."
   ]
  },
  {
   "cell_type": "code",
   "execution_count": null,
   "id": "f301c2fa",
   "metadata": {},
   "outputs": [],
   "source": [
    "n = pypsa.Network()\n",
    "\n",
    "REGIONS = pd.Index([\"VIC\", \"SA\", \"NSW\"])\n",
    "LAT = [-37.81, -34.93, -33.87]\n",
    "LON = [145.01, 138.63, 151.20]\n",
    "n.add(\"Bus\", REGIONS, x=LON, y=LAT);"
   ]
  },
  {
   "cell_type": "markdown",
   "id": "993cae45",
   "metadata": {},
   "source": [
    "We also define a range of carriers (i.e. energy carriers or technologies) that we will use in the model. This will be useful later when plotting optimisation results."
   ]
  },
  {
   "cell_type": "code",
   "execution_count": null,
   "id": "1786cd1d",
   "metadata": {},
   "outputs": [],
   "source": [
    "CARRIERS = {\n",
    "    \"solar\": \"gold\",\n",
    "    \"wind\": \"steelblue\",\n",
    "    \"load shedding\": \"indianred\",\n",
    "    \"battery charger\": \"lightgreen\",\n",
    "    \"battery discharger\": \"lightgreen\",\n",
    "    \"battery storage\": \"grey\",\n",
    "    \"battery\": \"grey\",\n",
    "    \"electrolysis\": \"violet\",\n",
    "    \"turbine\": \"violet\",\n",
    "    \"hydrogen storage\": \"orchid\",\n",
    "    \"hydrogen\": \"orchid\",\n",
    "    \"AC\": \"black\",\n",
    "    \"HVDC\": \"lightseagreen\",\n",
    "    \"load\": \"slategrey\",\n",
    "}\n",
    "\n",
    "n.add(\n",
    "    \"Carrier\",\n",
    "    CARRIERS.keys(),\n",
    "    color=CARRIERS.values(),\n",
    ");"
   ]
  },
  {
   "cell_type": "markdown",
   "id": "9e8173b5",
   "metadata": {},
   "source": [
    "As data, we have given:\n",
    "\n",
    "- `australia-example-p_set.csv` - a time series of electricity demand in each region in 2011 from the [Australian Energy Market Operator (AEMO)](https://aemo.com.au/energy-systems/electricity/national-electricity-market-nem/data-nem/aggregated-data) \n",
    "- `australia-example-p_max_pu.csv` - a time series of capacity factors in 2011 for onshore wind and solar PV for each region from [model.energy](https://model.energy/)\n",
    "- `australia-example-shapes.geojson` - a geographical representation of the three regions from the [GeoBoundaries](https://www.geoboundaries.org/) project\n",
    "\n",
    "The timestamps in the datasets are given in [UTC](https://en.wikipedia.org/wiki/Coordinated_Universal_Time).\n",
    "\n",
    "The datasets have been obtained from the following code:\n",
    "\n",
    "```python\n",
    "import pandas as pd\n",
    "import geopandas as gpd\n",
    "\n",
    "REGIONS = [\"VIC\", \"SA\", \"NSW\"]\n",
    "\n",
    "# 1. Capacity factors\n",
    "capacity_factors = {\n",
    "    \"VIC\": \"https://model.energy/data/time-series-c3ec7795e4d52617defed46495899b50.csv\",\n",
    "    \"SA\": \"https://model.energy/data/time-series-efcb605660bd6f9db75fc7c5b3fd5379.csv\",\n",
    "    \"NSW\": \"https://model.energy/data/time-series-ef16f3da1c24442d7efac9d7c4a0ce05.csv\",\n",
    "}\n",
    "\n",
    "p_max_pu = pd.concat({\n",
    "    c: pd.read_csv(\n",
    "        url,\n",
    "        index_col=0,\n",
    "        parse_dates=True,\n",
    "    )\n",
    "    for c, url in capacity_factors.items()\n",
    "}, axis=1)\n",
    "\n",
    "p_max_pu.to_csv(\"australia-example-p_max_pu.csv\")\n",
    "\n",
    "# 2. Electricity demand\n",
    "so = {'User-Agent': 'Mozilla/5.0'}\n",
    "year_months = [f\"2011{m:02d}\" for m in range(1, 13)] + [\"201201\"]  # All months in 2011 + Jan 2012\n",
    "\n",
    "p_set = pd.concat([\n",
    "    pd.concat([\n",
    "        pd.read_csv(\n",
    "            f\"https://aemo.com.au/aemo/data/nem/priceanddemand/PRICE_AND_DEMAND_{ym}_{region}1.csv\",\n",
    "            storage_options=so,\n",
    "            index_col=1,\n",
    "            parse_dates=True\n",
    "        )[\"TOTALDEMAND\"].rename(region)\n",
    "        for ym in year_months\n",
    "    ])\n",
    "    for region in REGIONS\n",
    "], axis=1)\n",
    "\n",
    "p_set = p_set.resample(\"1h\").mean().ffill(inplace=True)\n",
    "\n",
    "p_set = p_set.tz_localize(\n",
    "    \"Australia/NSW\", ambiguous=\"NaT\", nonexistent=\"shift_backward\"\n",
    ").tz_convert(\"UTC\").tz_localize(None).reindex(index=p_max_pu.index)\n",
    "\n",
    "p_set.to_csv(\"australia-example-p_set.csv\")\n",
    "\n",
    "# 3. Geographical shapes\n",
    "url = \"https://media.githubusercontent.com/media/wmgeolab/geoBoundaries/bdfb316b1fdcac1473051979152cac0943c549fa/releaseData/gbOpen/AUS/ADM1/geoBoundaries-AUS-ADM1-all.zip\"\n",
    "\n",
    "gdf = gpd.read_file(url, layer=\"geoBoundaries-AUS-ADM1_simplified\")\n",
    "gdf.index = gdf.shapeISO.str.split(\"-\").str[1]\n",
    "gdf = gdf.loc[REGIONS]\n",
    "gdf.to_file(\"australia-example-shapes.geojson\", driver=\"GeoJSON\")\n",
    "```"
   ]
  },
  {
   "cell_type": "markdown",
   "id": "58a23b1a",
   "metadata": {},
   "source": [
    "We load this data and set the snapshots of the network to the timestamps of the time series data."
   ]
  },
  {
   "cell_type": "code",
   "execution_count": null,
   "id": "1bbeb8f2",
   "metadata": {},
   "outputs": [],
   "source": [
    "url = \"https://tubcloud.tu-berlin.de/s/oPQbAebrciFBZP2/download/australia-example-p_max_pu.csv\"\n",
    "p_max_pu = pd.read_csv(url, index_col=0, parse_dates=True, header=[0, 1])\n",
    "display(p_max_pu.head(3))\n",
    "\n",
    "url = \"https://tubcloud.tu-berlin.de/s/8C6d7z3HxE7yZi9/download/australia-example-p_set.csv\"\n",
    "p_set = pd.read_csv(url, index_col=0, parse_dates=True)\n",
    "display(p_set.head(3))\n",
    "\n",
    "n.set_snapshots(p_max_pu.index)"
   ]
  },
  {
   "cell_type": "markdown",
   "id": "88a0e313",
   "metadata": {},
   "source": [
    "Then, we add the loads for each region:"
   ]
  },
  {
   "cell_type": "code",
   "execution_count": null,
   "id": "960146d4",
   "metadata": {},
   "outputs": [],
   "source": [
    "n.add(\"Load\", REGIONS, suffix=\" load\", bus=REGIONS, p_set=p_set, carrier=\"load\");"
   ]
  },
  {
   "cell_type": "markdown",
   "id": "ad06c539",
   "metadata": {},
   "source": [
    "For the wind and solar generators, we pass the capacity factors as `p_max_pu` and add the annuitized capital costs. Here, we assume a capital cost of 2000 AUD/kW for wind and 700 AUD/kW for solar, with a discount rate of 5% and a lifetime of 20 years. Note again that the capacity is given in MW, so we multiply the capital costs by 1000 to convert them to kW.\n",
    "\n",
    "As a trick for modelling curtailment, we add a small `marginal_cost` to the wind generators to nudge those to be curtailed first before solar."
   ]
  },
  {
   "cell_type": "code",
   "execution_count": null,
   "id": "14b888cf",
   "metadata": {},
   "outputs": [],
   "source": [
    "p_max_pu_wind = p_max_pu.xs(\"onwind\", level=1, axis=1).rename(\n",
    "    columns=lambda s: s + \" wind\"\n",
    ")\n",
    "\n",
    "n.add(\n",
    "    \"Generator\",\n",
    "    p_max_pu_wind.columns,\n",
    "    bus=REGIONS,\n",
    "    p_max_pu=p_max_pu_wind,\n",
    "    p_nom_extendable=True,\n",
    "    capital_cost=annuity(0.05, 30) * 2_000_000,\n",
    "    marginal_cost=0.5,\n",
    "    carrier=\"wind\",\n",
    ")\n",
    "\n",
    "p_max_pu_solar = p_max_pu.xs(\"solar\", level=1, axis=1).rename(\n",
    "    columns=lambda s: s + \" solar\"\n",
    ")\n",
    "\n",
    "n.add(\n",
    "    \"Generator\",\n",
    "    p_max_pu_solar.columns,\n",
    "    bus=REGIONS,\n",
    "    p_max_pu=p_max_pu_solar,\n",
    "    p_nom_extendable=True,\n",
    "    capital_cost=annuity(0.05, 30) * 700_000,\n",
    "    carrier=\"solar\",\n",
    ");"
   ]
  },
  {
   "cell_type": "markdown",
   "id": "3d1b4690",
   "metadata": {},
   "source": [
    "We also add a generator with a very high marginal cost to represent load shedding with a value of lost load (VoLL) of 3000 AUD/MWh."
   ]
  },
  {
   "cell_type": "code",
   "execution_count": null,
   "id": "4a0cccfa",
   "metadata": {},
   "outputs": [],
   "source": [
    "n.add(\n",
    "    \"Generator\",\n",
    "    REGIONS,\n",
    "    suffix=\" load shedding\",\n",
    "    bus=REGIONS,\n",
    "    p_nom=p_set.max(),\n",
    "    marginal_cost=3000,\n",
    "    carrier=\"load shedding\",\n",
    ");"
   ]
  },
  {
   "cell_type": "markdown",
   "id": "ad0ef23c",
   "metadata": {},
   "source": [
    "To save some computation time, we only sample every third snapshot, which corresponds to a temporal resolution of 3 hours. Note that the snapshot weightings have to be adjusted accordingly.\n",
    "\n",
    "Let's give this basic model a first spin:"
   ]
  },
  {
   "cell_type": "code",
   "execution_count": null,
   "id": "4ab41bdb",
   "metadata": {},
   "outputs": [],
   "source": [
    "n.set_snapshots(n.snapshots[::RESOLUTION])\n",
    "n.snapshot_weightings.loc[:, :] = RESOLUTION\n",
    "\n",
    "n.optimize(solver_name=SOLVER, log_to_console=False)"
   ]
  },
  {
   "cell_type": "markdown",
   "id": "a92a09be",
   "metadata": {},
   "source": [
    "In this first run, every region is isolated (no transmission) and has no storage (no batteries or hydrogen storage).\n",
    "\n",
    "Around 2.5% of the load is shed; roughly 50 TWh come from solar and 80 TWh from wind. The average cost of 226.57 AUD/MWh is quite high."
   ]
  },
  {
   "cell_type": "code",
   "execution_count": null,
   "id": "97319b87",
   "metadata": {},
   "outputs": [],
   "source": [
    "display(n.statistics.energy_balance().div(1e6).round(2).sort_values())  # TWh\n",
    "\n",
    "average_cost = (\n",
    "    (n.statistics.capex().sum() + n.statistics.opex().sum())\n",
    "    / n.loads_t.p_set.sum().sum()\n",
    "    / RESOLUTION\n",
    ")\n",
    "\n",
    "display(f\"Average cost: {average_cost:.2f} AUD/MWh\")"
   ]
  },
  {
   "cell_type": "markdown",
   "id": "458d0c87",
   "metadata": {},
   "source": [
    "The statistics and plotting functionality of PyPSA can be used to create a more detailed overview of the results on a map. For example, we can plot the energy balance and energy mix of each region as pie charts, where the upper half shows the generation and the lower half the consumption. We can also add other geographical layers from other objects to the map, such as the geographical shapes of the regions colored by the average locational marginal price (LMP)."
   ]
  },
  {
   "cell_type": "code",
   "execution_count": null,
   "id": "4ba51c09",
   "metadata": {},
   "outputs": [],
   "source": [
    "# Create an empty figure with a Cartopy projection\n",
    "crs = ccrs.PlateCarree()\n",
    "fig, ax = plt.subplots(figsize=(10, 6), subplot_kw={\"projection\": crs})\n",
    "\n",
    "# Use the energy balance statistics to prepare the bus sizes and plot the network\n",
    "bus_size = n.statistics.energy_balance(groupby=[\"bus\", \"carrier\"]).droplevel(\n",
    "    \"component\"\n",
    ")\n",
    "n.plot(ax=ax, bus_size=bus_size / 4e7, margin=0.75, bus_split_circle=True)\n",
    "\n",
    "# Load the shapefiles and add them to the plot colored by average LMP\n",
    "prices = n.buses_t.marginal_price.mean()\n",
    "gdf = gpd.read_file(\n",
    "    \"https://tubcloud.tu-berlin.de/s/4n9PegitETESBGR/download/australia-example-shapes.geojson\"\n",
    ").set_index(\"index\")\n",
    "gdf.to_crs(crs).plot(ax=ax, column=prices, cmap=\"RdYlGn_r\", vmin=90, vmax=240)\n",
    "\n",
    "# Add a legend for the LMP color scale\n",
    "norm = plt.Normalize(vmin=90, vmax=240)\n",
    "sm = plt.cm.ScalarMappable(cmap=\"RdYlGn_r\", norm=norm)\n",
    "fig.colorbar(sm, ax=ax, label=\"LMP [AUD/MWh]\", shrink=0.4)"
   ]
  },
  {
   "cell_type": "markdown",
   "id": "8278c0de",
   "metadata": {},
   "source": [
    "Now, we add some storage options to each model region:\n",
    "- For **battery storage**, we separately model the battery inverter (charger and discharger) and the battery storage itself. This has the advantage that the power-to-energy ratio can be optimised.\n",
    "- For **hydrogen storage**, we model the electrolyser, the hydrogen storage, and the turbine for re-electrification separately, so that these components can be independently sized."
   ]
  },
  {
   "cell_type": "code",
   "execution_count": null,
   "id": "f9471d84",
   "metadata": {},
   "outputs": [],
   "source": [
    "n.add(\"Bus\", REGIONS, suffix=\" hydrogen\", carrier=\"hydrogen\", x=LON, y=LAT)\n",
    "\n",
    "n.add(\n",
    "    \"Link\",\n",
    "    REGIONS,\n",
    "    suffix=\" electrolysis\",\n",
    "    bus0=REGIONS,\n",
    "    bus1=pd.Index(REGIONS) + \" hydrogen\",\n",
    "    carrier=\"electrolysis\",\n",
    "    p_nom_extendable=True,\n",
    "    efficiency=0.7,\n",
    "    capital_cost=annuity(0.05, 25) * 2_500_000,\n",
    ")\n",
    "\n",
    "n.add(\n",
    "    \"Link\",\n",
    "    REGIONS,\n",
    "    suffix=\" turbine\",\n",
    "    bus0=pd.Index(REGIONS) + \" hydrogen\",\n",
    "    bus1=REGIONS,\n",
    "    carrier=\"turbine\",\n",
    "    p_nom_extendable=True,\n",
    "    efficiency=0.4,\n",
    "    capital_cost=annuity(0.05, 25) * 2_000_000,\n",
    ")\n",
    "\n",
    "n.add(\n",
    "    \"Store\",\n",
    "    REGIONS,\n",
    "    suffix=\" hydrogen storage\",\n",
    "    bus=pd.Index(REGIONS) + \" hydrogen\",\n",
    "    carrier=\"hydrogen storage\",\n",
    "    capital_cost=annuity(0.05, 30) * 80,\n",
    "    e_nom_extendable=True,\n",
    "    e_cyclic=True,\n",
    ")\n",
    "\n",
    "n.add(\"Bus\", REGIONS, suffix=\" battery\", carrier=\"battery\", x=LON, y=LAT)\n",
    "\n",
    "n.add(\n",
    "    \"Link\",\n",
    "    REGIONS,\n",
    "    suffix=\" battery charger\",\n",
    "    bus0=REGIONS,\n",
    "    bus1=REGIONS + \" battery\",\n",
    "    carrier=\"battery charger\",\n",
    "    p_nom_extendable=True,\n",
    "    efficiency=0.95,\n",
    "    capital_cost=annuity(0.05, 10) * 300_000,\n",
    ")\n",
    "\n",
    "n.add(\n",
    "    \"Link\",\n",
    "    REGIONS,\n",
    "    suffix=\" battery discharger\",\n",
    "    bus0=REGIONS + \" battery\",\n",
    "    bus1=REGIONS,\n",
    "    carrier=\"battery discharger\",\n",
    "    p_nom_extendable=True,\n",
    "    efficiency=0.95,\n",
    ")\n",
    "\n",
    "n.add(\n",
    "    \"Store\",\n",
    "    REGIONS,\n",
    "    suffix=\" battery storage\",\n",
    "    bus=REGIONS + \" battery\",\n",
    "    carrier=\"battery storage\",\n",
    "    capital_cost=annuity(0.05, 25) * 250_000,\n",
    "    e_nom_extendable=True,\n",
    "    e_cyclic=True,\n",
    ");"
   ]
  },
  {
   "cell_type": "markdown",
   "id": "ca3cd48b",
   "metadata": {},
   "source": [
    "For the battery storage, we need to take special care of the inverter. As the same component can be used for charging and discharging, the capacities of our battery charger and discharger component must be linked.\n",
    "This is not done automatically by PyPSA, so we have to add an extra constraint, which we can pass as `extra_functionality` to the optimisation."
   ]
  },
  {
   "cell_type": "code",
   "execution_count": null,
   "id": "889ae8ab",
   "metadata": {},
   "outputs": [],
   "source": [
    "def battery_constraint(n: pypsa.Network, sns: pd.Index) -> None:\n",
    "    \"\"\"Constraint to ensure that the nominal capacity of battery chargers and dischargers are in a fixed ratio.\"\"\"\n",
    "    dischargers_i = n.links[n.links.index.str.contains(\" discharger\")].index\n",
    "    chargers_i = n.links[n.links.index.str.contains(\" charger\")].index\n",
    "\n",
    "    eff = n.links.efficiency[dischargers_i].values\n",
    "    lhs = n.model[\"Link-p_nom\"].loc[chargers_i]\n",
    "    rhs = n.model[\"Link-p_nom\"].loc[dischargers_i] * eff\n",
    "\n",
    "    n.model.add_constraints(lhs == rhs, name=\"Link-charger_ratio\")\n",
    "\n",
    "\n",
    "n.optimize(\n",
    "    solver_name=SOLVER, log_to_console=False, extra_functionality=battery_constraint\n",
    ")"
   ]
  },
  {
   "cell_type": "markdown",
   "id": "a557465a",
   "metadata": {},
   "source": [
    "A look at the new energy balance shows use of both battery and hydrogen storage, as well as a shift from wind to solar generation compared to the previous run.\n",
    "In fact, overall, we see more generation from wind and solar than the load, in order to compansate for the losses in the storage systems.\n",
    "There is a difference of around 5 TWh between power consumption and injection of the battery and a 15 TWh difference between electrolyser electricity consumption and turbine electricity production. Yet, overall, average costs are reduced drastically to 100.51 AUD/MWh."
   ]
  },
  {
   "cell_type": "code",
   "execution_count": null,
   "id": "595fa46a",
   "metadata": {},
   "outputs": [],
   "source": [
    "display(\n",
    "    n.statistics.energy_balance(bus_carrier=\"AC\").div(1e6).round(2).sort_values()\n",
    ")  # TWh\n",
    "\n",
    "average_cost = (\n",
    "    (n.statistics.capex().sum() + n.statistics.opex().sum())\n",
    "    / n.loads_t.p_set.sum().sum()\n",
    "    / RESOLUTION\n",
    ")\n",
    "\n",
    "print(f\"Average cost: {average_cost:.2f} AUD/MWh\")"
   ]
  },
  {
   "cell_type": "markdown",
   "id": "dd087a4e",
   "metadata": {},
   "source": [
    "Again, we can show these results spatially disagreggated on a map. The upper and lower half circles are still equal because no imbalances are possible due to the lack of transmission links. However, we can now see green elements for battery and purple elements for hydrogen storage, in addition to wind and solar generation."
   ]
  },
  {
   "cell_type": "code",
   "execution_count": null,
   "id": "fd8553fc",
   "metadata": {},
   "outputs": [],
   "source": [
    "bus_size = (\n",
    "    n.statistics.energy_balance(groupby=[\"bus\", \"carrier\"])\n",
    "    .droplevel(\"component\")\n",
    "    .loc[REGIONS]\n",
    ")\n",
    "\n",
    "n.plot(bus_size=bus_size / 4e7, margin=0.75, bus_split_circle=True);"
   ]
  },
  {
   "cell_type": "markdown",
   "id": "b7302075",
   "metadata": {},
   "source": [
    "Of course, there are other plots we can create from the optimised model, for instance, a price duration curve for Victoria.\n",
    "For this we sort the time series of bus marginal prices in descending order and reindex to a relative axis from 0% to 100%:"
   ]
  },
  {
   "cell_type": "code",
   "execution_count": null,
   "id": "bb23494d",
   "metadata": {},
   "outputs": [],
   "source": [
    "pdc = (\n",
    "    n.buses_t.marginal_price[\"VIC\"].sort_values(ascending=False).reset_index(drop=True)\n",
    ")\n",
    "pdc.index = np.arange(0, 100, 100 / len(pdc.index))\n",
    "pdc.plot(\n",
    "    ylim=[0, 1000], xlim=[0, 100], xlabel=\"Share of time [%]\", ylabel=\"Price [AUD/MWh]\"\n",
    ")"
   ]
  },
  {
   "cell_type": "markdown",
   "id": "62789312",
   "metadata": {},
   "source": [
    "As a final modelling step, we will now add transmission links between the regions. By modelling the interconnectors as bidirectional links, we will assume that they are controllable point-to-point HVDC connections (rather than lines subject to Kirchhoff's Voltage Law). They are also assumed to be lossless, otherwise a similar workaround with two unidirectional links as for battery inverters has to be implemented. The cost of the transmission links is length-dependent and set to 1000 AUD/MW/km."
   ]
  },
  {
   "cell_type": "code",
   "execution_count": null,
   "id": "e26de531",
   "metadata": {},
   "outputs": [],
   "source": [
    "connections = [\n",
    "    (\"VIC\", \"NSW\", 700),  # km\n",
    "    (\"VIC\", \"SA\", 650),  # km\n",
    "    (\"NSW\", \"SA\", 1150),  # km\n",
    "]\n",
    "\n",
    "for bus0, bus1, length in connections:\n",
    "    n.add(\n",
    "        \"Link\",\n",
    "        f\"{bus0}-{bus1}\",\n",
    "        bus0=bus0,\n",
    "        bus1=bus1,\n",
    "        carrier=\"HVDC\",\n",
    "        p_nom_extendable=True,\n",
    "        capital_cost=annuity(0.05, 40) * 1_000 * length,\n",
    "        p_min_pu=-1,  # bidirectional\n",
    "    )"
   ]
  },
  {
   "cell_type": "code",
   "execution_count": null,
   "id": "395558a5",
   "metadata": {},
   "outputs": [],
   "source": [
    "n.optimize(\n",
    "    solver_name=SOLVER, log_to_console=False, extra_functionality=battery_constraint\n",
    ")"
   ]
  },
  {
   "cell_type": "markdown",
   "id": "258306c4",
   "metadata": {},
   "source": [
    "With transmission enabled, we can see that the average costs are reduced further to 93.00 AUD/MWh.\n",
    "This is achieved as the interconnection facilitates the integration of wind variability across regions, \n",
    "reducing curtailment and the some need for hydrogen storage. The energy mix also shifts slightly from solar towards wind."
   ]
  },
  {
   "cell_type": "code",
   "execution_count": null,
   "id": "7debc33a",
   "metadata": {},
   "outputs": [],
   "source": [
    "display(\n",
    "    n.statistics.energy_balance(bus_carrier=\"AC\").div(1e6).round(2).sort_values()\n",
    ")  # TWh\n",
    "\n",
    "average_cost = (\n",
    "    (n.statistics.capex().sum() + n.statistics.opex().sum())\n",
    "    / n.loads_t.p_set.sum().sum()\n",
    "    / RESOLUTION\n",
    ")\n",
    "\n",
    "display(f\"Average cost: {average_cost:.2f} AUD/MWh\")"
   ]
  },
  {
   "cell_type": "markdown",
   "id": "0ac89890",
   "metadata": {},
   "source": [
    "Now, we can add further elements to the map, such as the interconnector capacities, the net flow direction as well as the average loading of the interconnectors, which show how Victoria becomes a net importer of electricity from New South Wales and South Australia."
   ]
  },
  {
   "cell_type": "code",
   "execution_count": null,
   "id": "70d6b4bc",
   "metadata": {},
   "outputs": [],
   "source": [
    "bus_size = (\n",
    "    n.statistics.energy_balance(bus_carrier=\"AC\", groupby=[\"bus\", \"carrier\"])\n",
    "    .droplevel(\"component\")\n",
    "    .loc[REGIONS]\n",
    "    .drop(\"HVDC\", level=\"carrier\")\n",
    ")\n",
    "\n",
    "link_flow = n.links_t.p0.mean()[n.links.carrier == \"HVDC\"]\n",
    "\n",
    "link_width = n.links.p_nom_opt[n.links.carrier == \"HVDC\"]\n",
    "\n",
    "link_loading = n.links_t.p0.abs().mean()[n.links.carrier == \"HVDC\"] / link_width\n",
    "\n",
    "n.plot(\n",
    "    bus_size=bus_size / 4e7,\n",
    "    margin=0.75,\n",
    "    bus_split_circle=True,\n",
    "    link_flow=link_flow / 50,\n",
    "    link_width=link_width / 1e3,\n",
    "    link_color=link_loading,\n",
    ")"
   ]
  },
  {
   "cell_type": "markdown",
   "id": "ecd743a0",
   "metadata": {},
   "source": [
    "Of course, we can also just retrieve the optimised interconnector capacities as `pandas.Series`."
   ]
  },
  {
   "cell_type": "code",
   "execution_count": null,
   "id": "5dab6681",
   "metadata": {},
   "outputs": [],
   "source": [
    "n.links.query(\"carrier == 'HVDC'\").p_nom_opt.round(2)"
   ]
  },
  {
   "cell_type": "markdown",
   "id": "73a083b7",
   "metadata": {},
   "source": [
    "A further interesting insight reveals itself when we plto the interconnector flows over the year (here as weekly rolling averages).\n",
    "The seasonality of the link between Victoria and New South Wales is striking, with VIC exporting to NSW in winter and importing in summer (Southern Hemisphere!)."
   ]
  },
  {
   "cell_type": "code",
   "execution_count": null,
   "id": "0d6a4090",
   "metadata": {},
   "outputs": [],
   "source": [
    "n.links_t.p0.loc[:, n.links.carrier == \"HVDC\"].rolling(\"7d\").mean().plot(\n",
    "    ylim=[-2500, 2500], grid=True\n",
    ")"
   ]
  },
  {
   "cell_type": "markdown",
   "id": "61380c10",
   "metadata": {},
   "source": [
    "Also the state of charge profile of the hydrogen storage shows a clear seasonal pattern, with the storage being full in summer and empty in winter (Southern Hemisphere!)."
   ]
  },
  {
   "cell_type": "code",
   "execution_count": null,
   "id": "1e970d2a",
   "metadata": {},
   "outputs": [],
   "source": [
    "n.stores_t.e.filter(like=\"hydrogen\").sum(axis=1).div(1e6).plot(\n",
    "    ylabel=\"Hydrogen storage [TWh]\", grid=True\n",
    ")"
   ]
  },
  {
   "cell_type": "markdown",
   "id": "a8ee1cdb",
   "metadata": {},
   "source": [
    "Finally, there are some more functions to interactively plot hourly energy balance time series for different carriers, such as electricity:"
   ]
  },
  {
   "cell_type": "code",
   "execution_count": null,
   "id": "d6e1f0fa",
   "metadata": {},
   "outputs": [],
   "source": [
    "n.statistics.energy_balance.iplot.area(bus_carrier=\"AC\")"
   ]
  }
 ],
 "metadata": {
  "kernelspec": {
   "display_name": "",
   "language": "python",
   "name": ""
  },
  "language_info": {
   "codemirror_mode": {
    "name": "ipython",
    "version": 3
   },
   "file_extension": ".py",
   "mimetype": "text/x-python",
   "name": "python",
   "nbconvert_exporter": "python",
   "pygments_lexer": "ipython3",
   "version": "3.13.7"
  }
 },
 "nbformat": 4,
 "nbformat_minor": 5
}
