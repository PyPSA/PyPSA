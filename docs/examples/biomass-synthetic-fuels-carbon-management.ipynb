{
 "cells": [
  {
   "cell_type": "code",
   "execution_count": null,
   "metadata": {
    "tags": [
     "injected-warnings",
     "hide-cell"
    ]
   },
   "outputs": [],
   "source": [
    "# General notebook settings\n",
    "import warnings\n",
    "\n",
    "warnings.filterwarnings(\"error\", category=DeprecationWarning)"
   ]
  },
  {
   "attachments": {},
   "cell_type": "markdown",
   "metadata": {},
   "source": [
    "# Carbon Management\n",
    "\n",
    "In this example, we show how to manage different biomass stocks with different potentials and costs, synthetic fuel production, direct air capture (DAC) and carbon capture and usage/sequestration/cycling.\n",
    "\n",
    "Demand for electricity and diesel transport have to be met from various biomass sources, natural gas with possibility for carbon capture, electrolysis for hydrogen production, direct air capture of CO2, and diesel synthesis via Fischer-Tropsch processes.\n",
    "\n",
    "The system has to reach a target of net negative emissions over the optimisation period.\n",
    "\n",
    "*All numbers/costs/efficiencies are fictitious to allow easy analysis.*"
   ]
  },
  {
   "cell_type": "code",
   "execution_count": null,
   "metadata": {},
   "outputs": [],
   "source": [
    "import pypsa\n",
    "\n",
    "n = pypsa.Network()\n",
    "n.set_snapshots(range(10))"
   ]
  },
  {
   "attachments": {},
   "cell_type": "markdown",
   "metadata": {},
   "source": [
    "Add a constant electrical load, a constant demand for transport, a diesel storage, and a hydrogen storage (which are not limited in capacity)."
   ]
  },
  {
   "cell_type": "code",
   "execution_count": null,
   "metadata": {},
   "outputs": [],
   "source": [
    "n.add(\"Bus\", \"electricity\")\n",
    "n.add(\"Load\", \"load\", bus=\"electricity\", p_set=1)\n",
    "\n",
    "n.add(\"Bus\", \"transport\")\n",
    "n.add(\"Load\", \"transport\", bus=\"transport\", p_set=1)\n",
    "\n",
    "n.add(\"Bus\", \"diesel\")\n",
    "n.add(\"Store\", \"diesel\", bus=\"diesel\", e_cyclic=True, e_nom=1000)\n",
    "\n",
    "n.add(\"Bus\", \"hydrogen\")\n",
    "n.add(\"Store\", \"hydrogen\", bus=\"hydrogen\", e_cyclic=True, e_nom=1000);"
   ]
  },
  {
   "attachments": {},
   "cell_type": "markdown",
   "metadata": {},
   "source": [
    "Add a link to represent electrolysis for hydrogen production from electricity."
   ]
  },
  {
   "cell_type": "code",
   "execution_count": null,
   "metadata": {},
   "outputs": [],
   "source": [
    "n.add(\n",
    "    \"Link\",\n",
    "    \"electrolysis\",\n",
    "    p_nom=2.0,\n",
    "    efficiency=0.8,\n",
    "    bus0=\"electricity\",\n",
    "    bus1=\"hydrogen\",\n",
    ");"
   ]
  },
  {
   "cell_type": "markdown",
   "metadata": {},
   "source": [
    "Next we set up the accounting of CO2 in the system. We add a carrier for CO2 (with minus sign because it runs opposite to how fossil fuels are used; burning of gas reduces gas, but CO2 in the atmosphere up), a bus and store for the CO2 in the atmosphere (which can be negative for the optimisation period), and a bus with a store for the CO2 that is captured and stored (for sequestration or use)."
   ]
  },
  {
   "cell_type": "code",
   "execution_count": null,
   "metadata": {},
   "outputs": [],
   "source": [
    "n.add(\"Carrier\", \"co2\", co2_emissions=-1)\n",
    "\n",
    "n.add(\"Bus\", \"co2 atmosphere\", carrier=\"co2\")\n",
    "n.add(\"Store\", \"co2 atmosphere\", e_nom=1000, e_min_pu=-1, bus=\"co2 atmosphere\")\n",
    "\n",
    "n.add(\"Bus\", \"co2 stored\")\n",
    "n.add(\"Store\", \"co2 stored\", e_nom=1000, e_min_pu=-1, bus=\"co2 stored\");"
   ]
  },
  {
   "attachments": {},
   "cell_type": "markdown",
   "metadata": {},
   "source": [
    "With that, add a multi-link for the production of diesel from H2 and CO2 using Fischer-Tropsch. Note that CO2 is another input, hence, the `efficiency2` has to be negative."
   ]
  },
  {
   "cell_type": "code",
   "execution_count": null,
   "metadata": {},
   "outputs": [],
   "source": [
    "n.add(\n",
    "    \"Link\",\n",
    "    \"Fischer-Tropsch\",\n",
    "    p_nom=4,\n",
    "    bus0=\"hydrogen\",\n",
    "    bus1=\"diesel\",\n",
    "    bus2=\"co2 stored\",\n",
    "    efficiency=1,\n",
    "    efficiency2=-1,\n",
    ");"
   ]
  },
  {
   "attachments": {},
   "cell_type": "markdown",
   "metadata": {},
   "source": [
    "Direct air capture consumes electricity to take CO2 from the air to the store."
   ]
  },
  {
   "cell_type": "code",
   "execution_count": null,
   "metadata": {},
   "outputs": [],
   "source": [
    "n.add(\n",
    "    \"Link\",\n",
    "    \"DAC\",\n",
    "    bus0=\"electricity\",\n",
    "    bus1=\"co2 stored\",\n",
    "    bus2=\"co2 atmosphere\",\n",
    "    efficiency=1,\n",
    "    efficiency2=-1,\n",
    "    p_nom=5,\n",
    ");"
   ]
  },
  {
   "attachments": {},
   "cell_type": "markdown",
   "metadata": {},
   "source": [
    "Add a link to meet transport demands with diesel. This emits CO2 into the atmosphere."
   ]
  },
  {
   "cell_type": "code",
   "execution_count": null,
   "metadata": {},
   "outputs": [],
   "source": [
    "n.add(\n",
    "    \"Link\",\n",
    "    \"diesel car\",\n",
    "    bus0=\"diesel\",\n",
    "    bus1=\"transport\",\n",
    "    bus2=\"co2 atmosphere\",\n",
    "    efficiency=1,\n",
    "    efficiency2=1,\n",
    "    p_nom=2,\n",
    ");"
   ]
  },
  {
   "cell_type": "markdown",
   "metadata": {},
   "source": [
    "Add two gas power plants, one with carbon capture and one without. The one without carbon capture emits CO2 into the atmosphere. The one with carbon capture captures CO2, but imperfectly, so that some CO2 is still emitted into the atmosphere."
   ]
  },
  {
   "cell_type": "code",
   "execution_count": null,
   "metadata": {},
   "outputs": [],
   "source": [
    "n.add(\"Bus\", \"gas\")\n",
    "\n",
    "n.add(\"Store\", \"gas\", e_initial=50, e_nom=50, marginal_cost=20, bus=\"gas\")\n",
    "\n",
    "n.add(\n",
    "    \"Link\",\n",
    "    \"OCGT\",\n",
    "    bus0=\"gas\",\n",
    "    bus1=\"electricity\",\n",
    "    bus2=\"co2 atmosphere\",\n",
    "    p_nom_extendable=True,\n",
    "    efficiency=0.5,\n",
    "    efficiency2=1,\n",
    ")\n",
    "\n",
    "n.add(\n",
    "    \"Link\",\n",
    "    \"OCGT+CCS\",\n",
    "    bus0=\"gas\",\n",
    "    bus1=\"electricity\",\n",
    "    bus2=\"co2 stored\",\n",
    "    bus3=\"co2 atmosphere\",\n",
    "    p_nom_extendable=True,\n",
    "    efficiency=0.4,\n",
    "    efficiency2=0.9,\n",
    "    efficiency3=0.1,\n",
    ");"
   ]
  },
  {
   "attachments": {},
   "cell_type": "markdown",
   "metadata": {},
   "source": [
    "Add two biomass generators, one with carbon capture and one without. The one without carbon capture simultaneously withdraws and emits CO2 into the atmosphere (hence we can ignore it for the purposes of carbon accounting). The one with carbon capture captures the renewable CO2, which counts as negative emissions if it remains in the CO2 store."
   ]
  },
  {
   "cell_type": "code",
   "execution_count": null,
   "metadata": {},
   "outputs": [],
   "source": [
    "n.add(\"Bus\", \"biomass\")\n",
    "\n",
    "n.add(\n",
    "    \"Store\",\n",
    "    \"biomass\",\n",
    "    bus=\"biomass\",\n",
    "    marginal_cost=30,\n",
    "    e_nom=55,\n",
    "    e_initial=55,\n",
    ")\n",
    "\n",
    "n.add(\n",
    "    \"Link\",\n",
    "    \"biomass\",\n",
    "    bus0=\"biomass\",\n",
    "    bus1=\"electricity\",\n",
    "    p_nom_extendable=True,\n",
    "    capital_cost=1,\n",
    "    efficiency=0.5,\n",
    ")\n",
    "\n",
    "n.add(\n",
    "    \"Link\",\n",
    "    \"biomass+CCS\",\n",
    "    bus0=\"biomass\",\n",
    "    bus1=\"electricity\",\n",
    "    bus2=\"co2 stored\",\n",
    "    bus3=\"co2 atmosphere\",\n",
    "    p_nom_extendable=True,\n",
    "    capital_cost=1,\n",
    "    efficiency=0.4,\n",
    "    efficiency2=1,\n",
    "    efficiency3=-1,\n",
    ");"
   ]
  },
  {
   "attachments": {},
   "cell_type": "markdown",
   "metadata": {},
   "source": [
    "Finally, we add a global constraint on the amount of CO2 that can be emitted into the atmosphere.\n",
    "In fact, we can set this to a negative value, which means that the system has to reach a target of net negative emissions over the optimisation period.\n",
    "In this example, we can go as far as -50, but at some point not enough electricity can be generated to supply the DAC."
   ]
  },
  {
   "cell_type": "code",
   "execution_count": null,
   "metadata": {},
   "outputs": [],
   "source": [
    "n.add(\n",
    "    \"GlobalConstraint\",\n",
    "    \"co2_limit\",\n",
    "    sense=\"<=\",\n",
    "    constant=-50,\n",
    ");"
   ]
  },
  {
   "cell_type": "code",
   "execution_count": null,
   "metadata": {},
   "outputs": [],
   "source": [
    "n.optimize(log_to_console=False);"
   ]
  },
  {
   "attachments": {},
   "cell_type": "markdown",
   "metadata": {},
   "source": [
    "How do the different stores in the system behave?"
   ]
  },
  {
   "cell_type": "code",
   "execution_count": null,
   "metadata": {},
   "outputs": [],
   "source": [
    "n.stores_t.e.plot()"
   ]
  },
  {
   "attachments": {},
   "cell_type": "markdown",
   "metadata": {},
   "source": [
    "Let's have a look at the production"
   ]
  },
  {
   "cell_type": "code",
   "execution_count": null,
   "metadata": {},
   "outputs": [],
   "source": [
    "n.links_t.p0.plot()"
   ]
  },
  {
   "attachments": {},
   "cell_type": "markdown",
   "metadata": {},
   "source": [
    "At all times, the amount of carbon in the system is constant, meaning that all carbon is tracked through the system."
   ]
  },
  {
   "cell_type": "code",
   "execution_count": null,
   "metadata": {},
   "outputs": [],
   "source": [
    "n.stores_t.e[[\"co2 stored\", \"co2 atmosphere\", \"gas\", \"diesel\"]].sum(axis=1)"
   ]
  }
 ],
 "metadata": {
  "@webio": {
   "lastCommId": null,
   "lastKernelId": null
  },
  "kernelspec": {
   "display_name": "",
   "language": "python",
   "name": ""
  },
  "language_info": {
   "codemirror_mode": {
    "name": "ipython",
    "version": 3
   },
   "file_extension": ".py",
   "mimetype": "text/x-python",
   "name": "python",
   "nbconvert_exporter": "python",
   "pygments_lexer": "ipython3",
   "version": "3.13.2"
  }
 },
 "nbformat": 4,
 "nbformat_minor": 2
}
