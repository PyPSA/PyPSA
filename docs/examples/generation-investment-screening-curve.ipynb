{
 "cells": [
  {
   "cell_type": "code",
   "execution_count": null,
   "metadata": {
    "tags": [
     "injected-warnings",
     "hide-cell"
    ]
   },
   "outputs": [],
   "source": [
    "# General notebook settings\n",
    "import warnings\n",
    "\n",
    "warnings.filterwarnings(\"error\", category=DeprecationWarning)"
   ]
  },
  {
   "cell_type": "markdown",
   "metadata": {},
   "source": [
    "# Screening Curves\n",
    "\n",
    "Compute the long-term equilibrium power plant investment for a given load duration curve ($1000-1000z$ for $z \\in [0,1]$) and a given set of generator investment options.\n",
    "\n",
    "To read up on the theory behind screenin curves, see [this lecture](https://nworbmot.org/courses/es-25/es-10-investment.pdf)."
   ]
  },
  {
   "cell_type": "code",
   "execution_count": null,
   "metadata": {},
   "outputs": [],
   "source": [
    "import numpy as np\n",
    "import pandas as pd\n",
    "\n",
    "import pypsa"
   ]
  },
  {
   "cell_type": "markdown",
   "metadata": {},
   "source": [
    "Generator marginal (`m`) and capital (`c`) costs are given in EUR/MWh - numbers chosen for simple answer."
   ]
  },
  {
   "cell_type": "code",
   "execution_count": null,
   "metadata": {},
   "outputs": [],
   "source": [
    "generators = {\n",
    "    \"coal\": {\"m\": 2, \"c\": 15},\n",
    "    \"gas\": {\"m\": 12, \"c\": 10},\n",
    "    \"load-shedding\": {\"m\": 1012, \"c\": 0},\n",
    "}"
   ]
  },
  {
   "cell_type": "markdown",
   "metadata": {},
   "source": [
    "The screening curve intersections are at 0.01 and 0.5."
   ]
  },
  {
   "cell_type": "code",
   "execution_count": null,
   "metadata": {},
   "outputs": [],
   "source": [
    "x = np.linspace(0, 1, 101)\n",
    "df = pd.DataFrame({k: v[\"c\"] + x * v[\"m\"] for k, v in generators.items()}, index=x)\n",
    "df.plot(ylim=[0, 50], title=\"Screening Curve\");"
   ]
  },
  {
   "cell_type": "code",
   "execution_count": null,
   "metadata": {},
   "outputs": [],
   "source": [
    "n = pypsa.Network()\n",
    "\n",
    "num_snapshots = 1001\n",
    "n.snapshots = np.linspace(0, 1, num_snapshots)\n",
    "n.snapshot_weightings = n.snapshot_weightings / num_snapshots\n",
    "\n",
    "n.add(\"Bus\", name=\"bus\")\n",
    "\n",
    "n.add(\"Load\", name=\"load\", bus=\"bus\", p_set=1000 - 1000 * n.snapshots.values)\n",
    "\n",
    "for gen in generators:\n",
    "    n.add(\n",
    "        \"Generator\",\n",
    "        name=gen,\n",
    "        bus=\"bus\",\n",
    "        p_nom_extendable=True,\n",
    "        marginal_cost=generators[gen][\"m\"],\n",
    "        capital_cost=generators[gen][\"c\"],\n",
    "    )"
   ]
  },
  {
   "cell_type": "code",
   "execution_count": null,
   "metadata": {},
   "outputs": [],
   "source": [
    "n.loads_t.p_set.plot.area(title=\"Load Duration Curve\", ylabel=\"MW\")"
   ]
  },
  {
   "cell_type": "code",
   "execution_count": null,
   "metadata": {},
   "outputs": [],
   "source": [
    "n.optimize()\n",
    "n.objective"
   ]
  },
  {
   "cell_type": "markdown",
   "metadata": {},
   "source": [
    "The capacity is set by total electricity required.\n",
    "\n",
    "**NB:** No load shedding since all prices are below 10 000."
   ]
  },
  {
   "cell_type": "code",
   "execution_count": null,
   "metadata": {},
   "outputs": [],
   "source": [
    "n.generators.p_nom_opt.round(2)"
   ]
  },
  {
   "cell_type": "code",
   "execution_count": null,
   "metadata": {},
   "outputs": [],
   "source": [
    "n.buses_t.marginal_price.plot(title=\"Price Duration Curve\")"
   ]
  },
  {
   "cell_type": "markdown",
   "metadata": {},
   "source": [
    "The prices correspond either to VOLL (1012) for first 0.01 or the marginal costs (12 for 0.49 and 2 for 0.5)\n",
    "\n",
    "**Except** for (infinitesimally small) points at the screening curve intersections, which correspond to changing the load duration near the intersection, so that capacity changes. This explains 7 = (12+10 - 15) (replacing coal with gas) and 22 = (12+10) (replacing load-shedding with gas). \n",
    "\n",
    "Note: What remains unclear is what is causing l = 0... it should be 2."
   ]
  },
  {
   "cell_type": "code",
   "execution_count": null,
   "metadata": {},
   "outputs": [],
   "source": [
    "n.buses_t.marginal_price.round(2).sum(axis=1).value_counts()"
   ]
  },
  {
   "cell_type": "code",
   "execution_count": null,
   "metadata": {},
   "outputs": [],
   "source": [
    "n.generators_t.p.plot(ylim=[0, 600], title=\"Generation Dispatch\")"
   ]
  },
  {
   "cell_type": "markdown",
   "metadata": {},
   "source": [
    "Demonstrate zero-profit condition.\n",
    "\n",
    "1. The total cost is given by"
   ]
  },
  {
   "cell_type": "code",
   "execution_count": null,
   "metadata": {},
   "outputs": [],
   "source": [
    "weights = n.snapshot_weightings.objective\n",
    "(\n",
    "    n.generators.p_nom_opt * n.generators.capital_cost\n",
    "    + weights @ n.generators_t.p * n.generators.marginal_cost\n",
    ")"
   ]
  },
  {
   "cell_type": "markdown",
   "metadata": {},
   "source": [
    "2. The total revenue by"
   ]
  },
  {
   "cell_type": "code",
   "execution_count": null,
   "metadata": {},
   "outputs": [],
   "source": [
    "weights @ n.generators_t.p.mul(n.buses_t.marginal_price[\"bus\"], axis=0)"
   ]
  },
  {
   "cell_type": "markdown",
   "metadata": {},
   "source": [
    "Now, take the capacities from the above long-term equilibrium, then disallow expansion.\n",
    "\n",
    "Show that the resulting market prices are identical.\n",
    "\n",
    "This holds in this example, but does **not** necessarily hold and breaks down in some circumstances (for example, when there is a lot of storage and inter-temporal shifting)."
   ]
  },
  {
   "cell_type": "code",
   "execution_count": null,
   "metadata": {},
   "outputs": [],
   "source": [
    "n.generators.p_nom_extendable = False\n",
    "n.generators.p_nom = n.generators.p_nom_opt"
   ]
  },
  {
   "cell_type": "code",
   "execution_count": null,
   "metadata": {},
   "outputs": [],
   "source": [
    "n.optimize();"
   ]
  },
  {
   "cell_type": "code",
   "execution_count": null,
   "metadata": {},
   "outputs": [],
   "source": [
    "n.buses_t.marginal_price.plot(title=\"Price Duration Curve\")"
   ]
  },
  {
   "cell_type": "code",
   "execution_count": null,
   "metadata": {},
   "outputs": [],
   "source": [
    "n.buses_t.marginal_price.sum(axis=1).value_counts()"
   ]
  },
  {
   "cell_type": "markdown",
   "metadata": {},
   "source": [
    "Demonstrate zero-profit condition. Differences are due to singular times, see above, not a problem\n",
    "\n",
    "1. Total costs"
   ]
  },
  {
   "cell_type": "code",
   "execution_count": null,
   "metadata": {},
   "outputs": [],
   "source": [
    "(\n",
    "    n.generators.p_nom * n.generators.capital_cost\n",
    "    + weights @ n.generators_t.p * n.generators.marginal_cost\n",
    ")"
   ]
  },
  {
   "cell_type": "markdown",
   "metadata": {},
   "source": [
    "2. Total revenue"
   ]
  },
  {
   "cell_type": "code",
   "execution_count": null,
   "metadata": {},
   "outputs": [],
   "source": [
    "weights @ n.generators_t.p.mul(n.buses_t.marginal_price[\"bus\"], axis=0)"
   ]
  }
 ],
 "metadata": {
  "@webio": {
   "lastCommId": null,
   "lastKernelId": null
  },
  "kernelspec": {
   "display_name": "",
   "language": "python",
   "name": ""
  },
  "language_info": {
   "codemirror_mode": {
    "name": "ipython",
    "version": 3
   },
   "file_extension": ".py",
   "mimetype": "text/x-python",
   "name": "python",
   "nbconvert_exporter": "python",
   "pygments_lexer": "ipython3",
   "version": "3.13.2"
  }
 },
 "nbformat": 4,
 "nbformat_minor": 1
}
