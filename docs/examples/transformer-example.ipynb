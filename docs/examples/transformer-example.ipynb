{
 "cells": [
  {
   "cell_type": "code",
   "execution_count": null,
   "metadata": {
    "tags": [
     "injected-warnings",
     "hide-cell"
    ]
   },
   "outputs": [],
   "source": [
    "# General notebook settings\n",
    "import warnings\n",
    "\n",
    "warnings.filterwarnings(\"error\", category=DeprecationWarning)"
   ]
  },
  {
   "cell_type": "markdown",
   "metadata": {},
   "source": [
    "# Transformers\n",
    "\n",
    "This example illustrates the use of transformers with non-trivial phase shift and tap ratio.\n",
    "The example is a copy of the [pandapower minimal example](https://github.com/e2nIEE/pandapower/blob/master/tutorials/minimal_example.ipynb)."
   ]
  },
  {
   "cell_type": "code",
   "execution_count": null,
   "metadata": {},
   "outputs": [],
   "source": [
    "import numpy as np\n",
    "import pandas as pd\n",
    "\n",
    "import pypsa\n",
    "\n",
    "n = pypsa.Network()\n",
    "\n",
    "n.add(\"Bus\", \"MV bus\", v_nom=20, v_mag_pu_set=1.02)\n",
    "n.add(\"Bus\", \"LV1 bus\", v_nom=0.4)\n",
    "n.add(\"Bus\", \"LV2 bus\", v_nom=0.4)\n",
    "\n",
    "n.add(\n",
    "    \"Transformer\",\n",
    "    \"MV-LV trafo\",\n",
    "    type=\"0.4 MVA 20/0.4 kV\",\n",
    "    bus0=\"MV bus\",\n",
    "    bus1=\"LV1 bus\",\n",
    ")\n",
    "n.add(\n",
    "    \"Line\", \"LV cable\", type=\"NAYY 4x50 SE\", bus0=\"LV1 bus\", bus1=\"LV2 bus\", length=0.1\n",
    ")\n",
    "n.add(\"Generator\", \"External Grid\", bus=\"MV bus\", control=\"Slack\", marginal_cost=10)\n",
    "n.add(\"Load\", \"LV load\", bus=\"LV2 bus\", p_set=0.1, q_set=0.05);"
   ]
  },
  {
   "cell_type": "code",
   "execution_count": null,
   "metadata": {},
   "outputs": [],
   "source": [
    "def run_power_flow(n: pypsa.Network) -> pd.DataFrame:\n",
    "    n.lpf()\n",
    "    n.pf(use_seed=True)\n",
    "    return pd.DataFrame(\n",
    "        {\n",
    "            \"Voltage Angles\": n.buses_t.v_ang.loc[\"now\"] * 180.0 / np.pi,\n",
    "            \"Voltage Magnitude\": n.buses_t.v_mag_pu.loc[\"now\"],\n",
    "        }\n",
    "    )"
   ]
  },
  {
   "cell_type": "code",
   "execution_count": null,
   "metadata": {},
   "outputs": [],
   "source": [
    "run_power_flow(n)"
   ]
  },
  {
   "cell_type": "code",
   "execution_count": null,
   "metadata": {},
   "outputs": [],
   "source": [
    "n.transformers.tap_position = 2\n",
    "run_power_flow(n)"
   ]
  },
  {
   "cell_type": "code",
   "execution_count": null,
   "metadata": {},
   "outputs": [],
   "source": [
    "n.transformers.tap_position = -2\n",
    "run_power_flow(n)"
   ]
  },
  {
   "cell_type": "markdown",
   "metadata": {},
   "source": [
    "Now play with tap changer on LV side"
   ]
  },
  {
   "cell_type": "code",
   "execution_count": null,
   "metadata": {},
   "outputs": [],
   "source": [
    "new_trafo_lv_tap = n.transformer_types.loc[[\"0.4 MVA 20/0.4 kV\"]]\n",
    "new_trafo_lv_tap.index = [\"New trafo\"]\n",
    "new_trafo_lv_tap.tap_side = 1\n",
    "new_trafo_lv_tap.T"
   ]
  },
  {
   "cell_type": "code",
   "execution_count": null,
   "metadata": {},
   "outputs": [],
   "source": [
    "n.transformer_types = pd.concat([n.transformer_types, new_trafo_lv_tap])\n",
    "n.transformers.type = \"New trafo\"\n",
    "n.transformers.tap_position = 2\n",
    "run_power_flow(n)"
   ]
  },
  {
   "cell_type": "code",
   "execution_count": null,
   "metadata": {},
   "outputs": [],
   "source": [
    "n.transformers.T"
   ]
  },
  {
   "cell_type": "code",
   "execution_count": null,
   "metadata": {},
   "outputs": [],
   "source": [
    "n.transformers.tap_position = -2\n",
    "run_power_flow(n)"
   ]
  },
  {
   "cell_type": "markdown",
   "metadata": {},
   "source": [
    "Finally, let's double-check that the phase shift is also there in the linear optimal power flow (optimisation) solution."
   ]
  },
  {
   "cell_type": "code",
   "execution_count": null,
   "metadata": {},
   "outputs": [],
   "source": [
    "n.generators.p_nom = 1\n",
    "n.lines.s_nom = 1\n",
    "n.optimize(log_to_console=False)\n",
    "pd.DataFrame(\n",
    "    {\n",
    "        \"Voltage Angles\": n.buses_t.v_ang.loc[\"now\"] * 180.0 / np.pi,\n",
    "        \"Voltage Magnitude\": n.buses_t.v_mag_pu.loc[\"now\"],\n",
    "    }\n",
    ")"
   ]
  }
 ],
 "metadata": {
  "@webio": {
   "lastCommId": null,
   "lastKernelId": null
  },
  "kernelspec": {
   "display_name": "",
   "language": "python",
   "name": ""
  },
  "language_info": {
   "codemirror_mode": {
    "name": "ipython",
    "version": 3
   },
   "file_extension": ".py",
   "mimetype": "text/x-python",
   "name": "python",
   "nbconvert_exporter": "python",
   "pygments_lexer": "ipython3",
   "version": "3.13.2"
  }
 },
 "nbformat": 4,
 "nbformat_minor": 1
}
