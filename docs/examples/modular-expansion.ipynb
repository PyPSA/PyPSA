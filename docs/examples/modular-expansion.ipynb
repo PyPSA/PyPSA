{
 "cells": [
  {
   "cell_type": "code",
   "execution_count": null,
   "id": "faec52e7",
   "metadata": {
    "tags": [
     "injected-warnings",
     "hide-cell"
    ]
   },
   "outputs": [],
   "source": [
    "# General notebook settings\n",
    "import warnings\n",
    "\n",
    "warnings.filterwarnings(\"error\", category=DeprecationWarning)"
   ]
  },
  {
   "cell_type": "markdown",
   "id": "28d4278d",
   "metadata": {},
   "source": [
    "# Modular Expansion\n",
    "\n",
    "In this example, we demonstrate how to handle the modular expansion feature in PyPSA. Modular expansion allows you to specify discrete steps for the expansion of components. This is particularly useful for technologies that can only be built in fixed block sizes, such as nuclear generators.\n",
    "\n",
    "We start by loading the 3-hourly resolved [model.energy example]() and adding a nuclear generator as expansion option (with ramp limits of 1%/h and a minimum part load of 70%). Initially, we allow the nuclear generator to be built in continuous sizes."
   ]
  },
  {
   "cell_type": "code",
   "execution_count": null,
   "id": "aa1c537c",
   "metadata": {},
   "outputs": [],
   "source": [
    "import pypsa\n",
    "from pypsa.common import annuity\n",
    "\n",
    "n = pypsa.examples.model_energy()\n",
    "\n",
    "n.add(\n",
    "    \"Generator\",\n",
    "    \"nuclear\",\n",
    "    bus=\"electricity\",\n",
    "    p_nom_extendable=True,\n",
    "    marginal_cost=15,\n",
    "    capital_cost=annuity(0.07, 50) * 8_000_000,\n",
    "    p_min_pu=0.7,\n",
    "    ramp_limit_up=0.03,\n",
    "    ramp_limit_down=0.03,\n",
    ")\n",
    "\n",
    "n.optimize(log_to_console=False)\n",
    "\n",
    "n.generators.p_nom_opt"
   ]
  },
  {
   "cell_type": "markdown",
   "id": "68e21bf1",
   "metadata": {},
   "source": [
    "As optimal capacity for the nuclear generator, we obtain 7,639 MW.\n",
    "\n",
    "Now, let's assume that the nuclear generator can only be built in discrete steps of 1,000 MW. We can set the `p_nom_mod` attribute to 1,000 MW, which introduces an integer variable that constraints the optimised capacity to be a multiple of 1,000 MW. To constrain the option space for the integer variable, and help the solver a bit, we can also set the upper limit `p_nom_max` to 10,000 MW.\n",
    "\n",
    "This problem is solved as a mixed-integer linear program (MILP), which will take longer to solve than the previous continuous linear program (LP)."
   ]
  },
  {
   "cell_type": "code",
   "execution_count": null,
   "id": "cbfc4bcb",
   "metadata": {},
   "outputs": [],
   "source": [
    "n.generators.loc[\"nuclear\", \"p_nom_mod\"] = 1000\n",
    "n.generators.loc[\"nuclear\", \"p_nom_max\"] = 10000\n",
    "n.optimize(mip_rel_gap=0.001, log_to_console=False)\n",
    "n.generators.p_nom_opt"
   ]
  },
  {
   "cell_type": "markdown",
   "id": "04322837",
   "metadata": {},
   "source": [
    "From the re-optimised results, we can see that the optimal capacity for the nuclear generator is now 8,000 MW, a multiple of 1,000 MW.\n",
    "\n",
    "As a short concluding excursion into the results, we can also illustrate how the optimal dispatch of this nuclear generator is constrained by ramp limits and minimum part loads in January 2019."
   ]
  },
  {
   "cell_type": "code",
   "execution_count": null,
   "id": "c8a7b04c",
   "metadata": {},
   "outputs": [],
   "source": [
    "n.generators_t.p.loc[\"2019-01\"].plot(figsize=(6, 3))"
   ]
  }
 ],
 "metadata": {
  "kernelspec": {
   "display_name": "",
   "language": "python",
   "name": ""
  },
  "language_info": {
   "codemirror_mode": {
    "name": "ipython",
    "version": 3
   },
   "file_extension": ".py",
   "mimetype": "text/x-python",
   "name": "python",
   "nbconvert_exporter": "python",
   "pygments_lexer": "ipython3",
   "version": "3.13.2"
  }
 },
 "nbformat": 4,
 "nbformat_minor": 5
}
