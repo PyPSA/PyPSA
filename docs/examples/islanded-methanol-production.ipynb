{
 "cells": [
  {
   "cell_type": "markdown",
   "metadata": {},
   "source": [
    "# Islanded methanol production"
   ]
  },
  {
   "cell_type": "markdown",
   "metadata": {
    "tags": []
   },
   "source": [
    "In this example, we build a simple model to assess the economics of islanded methanol production in Namibia (or Argentina).\n",
    "The model can optimise investment and operation of wind and solar, electrolysers, turbine, hydrogen and battery storage, direct air capture, CO$_2$ storage, methanolisation and methanol stores to supply a constant methanol demand of 1 TWh/a."
   ]
  },
  {
   "cell_type": "code",
   "execution_count": null,
   "metadata": {
    "ExecuteTime": {
     "end_time": "2024-05-24T08:46:20.357375Z",
     "start_time": "2024-05-24T08:46:17.846410Z"
    },
    "jp-MarkdownHeadingCollapsed": true,
    "tags": []
   },
   "outputs": [],
   "source": [
    "import pandas as pd\n",
    "\n",
    "import pypsa"
   ]
  },
  {
   "cell_type": "markdown",
   "metadata": {
    "tags": []
   },
   "source": [
    "## Techno-economic assumptions"
   ]
  },
  {
   "cell_type": "markdown",
   "metadata": {},
   "source": [
    "We take techno-economic assumptions from the [technology-data](https://github.com/PyPSA/technology-data) repository which collects assumptions on costs and efficiencies:"
   ]
  },
  {
   "cell_type": "code",
   "execution_count": null,
   "metadata": {
    "ExecuteTime": {
     "end_time": "2024-05-24T07:37:30.201456Z",
     "start_time": "2024-05-24T07:37:29.732485Z"
    }
   },
   "outputs": [],
   "source": [
    "YEAR = 2030\n",
    "url = f\"https://raw.githubusercontent.com/PyPSA/technology-data/master/outputs/costs_{YEAR}.csv\"\n",
    "costs = pd.read_csv(url, index_col=[0, 1])\n",
    "costs.loc[costs.unit.str.contains(\"/kW\"), \"value\"] *= 1e3\n",
    "costs = costs.value.unstack().fillna({\"discount rate\": 0.07, \"lifetime\": 20, \"FOM\": 0})\n",
    "\n",
    "# Let's also take a little more optimistic view on the costs of electrolysers\n",
    "costs.loc[\"electrolysis\", \"investment\"] = 500  # €/kW"
   ]
  },
  {
   "cell_type": "markdown",
   "metadata": {},
   "source": [
    "We calculate the capital costs (i.e. annualised investment costs, €/MW/a or €/MWh/a for storage), using a small utility function to calculate the **annuity factor** to annualise investment costs based on is the discount rate $r$ and lifetime $n$."
   ]
  },
  {
   "cell_type": "code",
   "execution_count": null,
   "metadata": {
    "ExecuteTime": {
     "end_time": "2024-05-24T07:37:30.222911Z",
     "start_time": "2024-05-24T07:37:30.220818Z"
    }
   },
   "outputs": [],
   "source": [
    "def annuity(r: float, n: int) -> float:\n",
    "    return r / (1.0 - 1.0 / (1.0 + r) ** n)"
   ]
  },
  {
   "cell_type": "code",
   "execution_count": null,
   "metadata": {
    "ExecuteTime": {
     "end_time": "2024-05-24T07:37:30.237265Z",
     "start_time": "2024-05-24T07:37:30.232914Z"
    }
   },
   "outputs": [],
   "source": [
    "a = costs.apply(lambda x: annuity(x[\"discount rate\"], x[\"lifetime\"]), axis=1)"
   ]
  },
  {
   "cell_type": "code",
   "execution_count": null,
   "metadata": {
    "ExecuteTime": {
     "end_time": "2024-05-24T07:37:30.240224Z",
     "start_time": "2024-05-24T07:37:30.238032Z"
    }
   },
   "outputs": [],
   "source": [
    "costs[\"capital_cost\"] = (a + costs[\"FOM\"] / 100) * costs[\"investment\"]"
   ]
  },
  {
   "cell_type": "markdown",
   "metadata": {},
   "source": [
    "## Wind and solar time series"
   ]
  },
  {
   "cell_type": "markdown",
   "metadata": {
    "ExecuteTime": {
     "end_time": "2024-05-24T07:37:33.705510Z",
     "start_time": "2024-05-24T07:37:30.240941Z"
    }
   },
   "source": [
    ":::{note}\n",
    "Go to [model.energy](https://model.energy) to retrieve wind and solar capacity factor time series for other countries. \n",
    ":::"
   ]
  },
  {
   "cell_type": "code",
   "execution_count": null,
   "metadata": {},
   "outputs": [],
   "source": [
    "RESOLUTION = 4  # hours\n",
    "url = \"https://model.energy/data/time-series-ca2bcb9e843aeb286cd6295854c885b6.csv\"  # South of Argentina\n",
    "# url = \"https://model.energy/data/time-series-57f7bbcb5c4821506de052e52d022b48.csv\" # Namibia\n",
    "ts = pd.read_csv(url, index_col=0, parse_dates=True)[::RESOLUTION]"
   ]
  },
  {
   "cell_type": "code",
   "execution_count": null,
   "metadata": {
    "ExecuteTime": {
     "end_time": "2024-05-24T07:37:33.730588Z",
     "start_time": "2024-05-24T07:37:33.709003Z"
    }
   },
   "outputs": [],
   "source": [
    "ts.head(3)"
   ]
  },
  {
   "cell_type": "markdown",
   "metadata": {},
   "source": [
    "## Build model\n",
    "\n",
    "### Initialisation\n",
    "\n",
    "Add buses, carriers and set snapshots."
   ]
  },
  {
   "cell_type": "code",
   "execution_count": null,
   "metadata": {
    "ExecuteTime": {
     "end_time": "2024-05-24T07:37:33.819917Z",
     "start_time": "2024-05-24T07:37:33.743147Z"
    }
   },
   "outputs": [],
   "source": [
    "n = pypsa.Network()\n",
    "for carrier in [\"electricity\", \"hydrogen\", \"co2\", \"methanol\"]:\n",
    "    n.add(\"Bus\", carrier, carrier=carrier, unit=\"t/h\" if carrier == \"co2\" else \"MW\")\n",
    "n.set_snapshots(ts.index)\n",
    "n.snapshot_weightings.loc[:, :] = RESOLUTION"
   ]
  },
  {
   "cell_type": "code",
   "execution_count": null,
   "metadata": {
    "ExecuteTime": {
     "end_time": "2024-05-24T07:37:33.861842Z",
     "start_time": "2024-05-24T07:37:33.856810Z"
    }
   },
   "outputs": [],
   "source": [
    "carriers = {\n",
    "    \"wind\": \"dodgerblue\",\n",
    "    \"solar\": \"gold\",\n",
    "    \"hydrogen storage\": \"blueviolet\",\n",
    "    \"battery storage 3h\": \"yellowgreen\",\n",
    "    \"battery storage 6h\": \"yellowgreen\",\n",
    "    \"electrolysis\": \"magenta\",\n",
    "    \"turbine\": \"darkorange\",\n",
    "    \"methanolisation\": \"cyan\",\n",
    "    \"direct air capture\": \"coral\",\n",
    "    \"co2 storage\": \"black\",\n",
    "    \"methanol storage\": \"cadetblue\",\n",
    "    \"electricity\": \"grey\",\n",
    "    \"hydrogen\": \"grey\",\n",
    "    \"co2\": \"grey\",\n",
    "    \"methanol\": \"grey\",\n",
    "}\n",
    "n.add(\"Carrier\", carriers.keys(), color=carriers.values())"
   ]
  },
  {
   "cell_type": "markdown",
   "metadata": {},
   "source": [
    "### Demand\n",
    "\n",
    "Add a constant methanol demand adding up to an annual target production of 1 TWh of methanol:"
   ]
  },
  {
   "cell_type": "code",
   "execution_count": null,
   "metadata": {
    "ExecuteTime": {
     "end_time": "2024-05-24T07:37:33.866618Z",
     "start_time": "2024-05-24T07:37:33.862680Z"
    }
   },
   "outputs": [],
   "source": [
    "n.add(\n",
    "    \"Load\",\n",
    "    \"demand\",\n",
    "    bus=\"methanol\",\n",
    "    p_set=1e6 / 8760,\n",
    ")"
   ]
  },
  {
   "cell_type": "markdown",
   "metadata": {},
   "source": [
    "### Wind and solar"
   ]
  },
  {
   "cell_type": "markdown",
   "metadata": {},
   "source": [
    "Add the wind and solar generators:"
   ]
  },
  {
   "cell_type": "code",
   "execution_count": null,
   "metadata": {
    "ExecuteTime": {
     "end_time": "2024-05-24T07:37:34.561820Z",
     "start_time": "2024-05-24T07:37:34.554441Z"
    }
   },
   "outputs": [],
   "source": [
    "n.add(\n",
    "    \"Generator\",\n",
    "    \"wind\",\n",
    "    bus=\"electricity\",\n",
    "    carrier=\"wind\",\n",
    "    p_max_pu=ts.onwind,\n",
    "    capital_cost=costs.at[\"onwind\", \"capital_cost\"],\n",
    "    p_nom_extendable=True,\n",
    ")"
   ]
  },
  {
   "cell_type": "code",
   "execution_count": null,
   "metadata": {},
   "outputs": [],
   "source": [
    "n.add(\n",
    "    \"Generator\",\n",
    "    \"solar\",\n",
    "    bus=\"electricity\",\n",
    "    carrier=\"solar\",\n",
    "    p_max_pu=ts.solar,\n",
    "    capital_cost=costs.at[\"solar\", \"capital_cost\"],\n",
    "    p_nom_extendable=True,\n",
    ")"
   ]
  },
  {
   "cell_type": "markdown",
   "metadata": {},
   "source": [
    "### Batteries\n",
    "\n",
    "Add a 3-hour and a 6-hour battery storage:"
   ]
  },
  {
   "cell_type": "code",
   "execution_count": null,
   "metadata": {},
   "outputs": [],
   "source": [
    "for max_hours in [3, 6]:\n",
    "    n.add(\n",
    "        \"StorageUnit\",\n",
    "        f\"battery storage {max_hours}h\",\n",
    "        bus=\"electricity\",\n",
    "        carrier=f\"battery storage {max_hours}h\",\n",
    "        max_hours=max_hours,\n",
    "        capital_cost=costs.at[\"battery inverter\", \"capital_cost\"]\n",
    "        + max_hours * costs.at[\"battery storage\", \"capital_cost\"],\n",
    "        efficiency_store=costs.at[\"battery inverter\", \"efficiency\"],\n",
    "        efficiency_dispatch=costs.at[\"battery inverter\", \"efficiency\"],\n",
    "        p_nom_extendable=True,\n",
    "        cyclic_state_of_charge=True,\n",
    "    )"
   ]
  },
  {
   "cell_type": "markdown",
   "metadata": {},
   "source": [
    "### Hydrogen\n",
    "\n",
    "Add electrolysers, hydrogen storage (steel tank), hydrogen turbine:"
   ]
  },
  {
   "cell_type": "code",
   "execution_count": null,
   "metadata": {},
   "outputs": [],
   "source": [
    "n.add(\n",
    "    \"Link\",\n",
    "    \"electrolysis\",\n",
    "    bus0=\"electricity\",\n",
    "    bus1=\"hydrogen\",\n",
    "    carrier=\"electrolysis\",\n",
    "    p_nom_extendable=True,\n",
    "    efficiency=costs.at[\"electrolysis\", \"efficiency\"],\n",
    "    capital_cost=costs.at[\"electrolysis\", \"capital_cost\"],\n",
    ")"
   ]
  },
  {
   "cell_type": "code",
   "execution_count": null,
   "metadata": {},
   "outputs": [],
   "source": [
    "n.add(\n",
    "    \"Link\",\n",
    "    \"turbine\",\n",
    "    bus0=\"hydrogen\",\n",
    "    bus1=\"electricity\",\n",
    "    carrier=\"turbine\",\n",
    "    p_nom_extendable=True,\n",
    "    efficiency=costs.at[\"OCGT\", \"efficiency\"],\n",
    "    capital_cost=costs.at[\"OCGT\", \"capital_cost\"] / costs.at[\"OCGT\", \"efficiency\"],\n",
    ")"
   ]
  },
  {
   "cell_type": "code",
   "execution_count": null,
   "metadata": {},
   "outputs": [],
   "source": [
    "tech = \"hydrogen storage tank type 1 including compressor\"\n",
    "\n",
    "n.add(\n",
    "    \"Store\",\n",
    "    \"hydrogen storage\",\n",
    "    bus=\"hydrogen\",\n",
    "    carrier=\"hydrogen storage\",\n",
    "    capital_cost=costs.at[tech, \"capital_cost\"],\n",
    "    e_nom_extendable=True,\n",
    "    e_cyclic=True,\n",
    ")"
   ]
  },
  {
   "cell_type": "markdown",
   "metadata": {},
   "source": [
    "### Carbon Dioxide\n",
    "\n",
    "Add liquid carbon dioxide storage and direct air capture, assuming for simplicity an electricity demand 2 MWh/tCO2 for heat and electricity needs of the process:\n",
    "\n",
    ":::{note}\n",
    "More detailed modelling would also model the heat supply for the direct air capture.\n",
    ":::"
   ]
  },
  {
   "cell_type": "code",
   "execution_count": null,
   "metadata": {},
   "outputs": [],
   "source": [
    "electricity_input = 2  # MWh/tCO2\n",
    "\n",
    "n.add(\n",
    "    \"Link\",\n",
    "    \"direct air capture\",\n",
    "    bus0=\"electricity\",\n",
    "    bus1=\"co2\",\n",
    "    carrier=\"direct air capture\",\n",
    "    p_nom_extendable=True,\n",
    "    efficiency=1 / electricity_input,\n",
    "    capital_cost=costs.at[\"direct air capture\", \"capital_cost\"] / electricity_input,\n",
    ")"
   ]
  },
  {
   "cell_type": "code",
   "execution_count": null,
   "metadata": {},
   "outputs": [],
   "source": [
    "n.add(\n",
    "    \"Store\",\n",
    "    \"co2 storage\",\n",
    "    bus=\"co2\",\n",
    "    carrier=\"co2 storage\",\n",
    "    capital_cost=costs.at[\"CO2 storage tank\", \"capital_cost\"],\n",
    "    e_nom_extendable=True,\n",
    "    e_cyclic=True,\n",
    ")"
   ]
  },
  {
   "cell_type": "markdown",
   "metadata": {},
   "source": [
    "## Methanol\n",
    "\n",
    "Add methanolisation unit, which takes hydrogen, electricity and carbon dioxide as input, and methanol storage:\n",
    "\n",
    ":::{note}\n",
    "Efficiencies and capital costs need to be expressed in units of `bus0`.\n",
    ":::"
   ]
  },
  {
   "cell_type": "code",
   "execution_count": null,
   "metadata": {},
   "outputs": [],
   "source": [
    "eff_h2 = 1 / costs.at[\"methanolisation\", \"hydrogen-input\"]\n",
    "\n",
    "n.add(\n",
    "    \"Link\",\n",
    "    \"methanolisation\",\n",
    "    bus0=\"hydrogen\",\n",
    "    bus1=\"methanol\",\n",
    "    bus2=\"electricity\",\n",
    "    bus3=\"co2\",\n",
    "    carrier=\"methanolisation\",\n",
    "    p_nom_extendable=True,\n",
    "    capital_cost=costs.at[\"methanolisation\", \"capital_cost\"] * eff_h2,\n",
    "    efficiency=eff_h2,\n",
    "    efficiency2=-costs.at[\"methanolisation\", \"electricity-input\"] * eff_h2,\n",
    "    efficiency3=-costs.at[\"methanolisation\", \"carbondioxide-input\"] * eff_h2,\n",
    ")"
   ]
  },
  {
   "cell_type": "markdown",
   "metadata": {},
   "source": [
    ":::{note}\n",
    "Costs for g is given in €/m³. We need to convert it to €/MWh, using the volumetric energy density of methanol (15.6 MJ/L)\n",
    ":::"
   ]
  },
  {
   "cell_type": "code",
   "execution_count": null,
   "metadata": {},
   "outputs": [],
   "source": [
    "capital_cost = costs.at[\n",
    "    \"General liquid hydrocarbon storage (crude)\", \"capital_cost\"\n",
    "] / (15.6 * 1000 / 3600)\n",
    "\n",
    "n.add(\n",
    "    \"Store\",\n",
    "    \"methanol storage\",\n",
    "    bus=\"co2\",\n",
    "    carrier=\"methanol storage\",\n",
    "    capital_cost=capital_cost,\n",
    "    e_nom_extendable=True,\n",
    "    e_cyclic=True,\n",
    ")"
   ]
  },
  {
   "cell_type": "markdown",
   "metadata": {},
   "source": [
    "## Optimisation"
   ]
  },
  {
   "cell_type": "code",
   "execution_count": null,
   "metadata": {
    "ExecuteTime": {
     "end_time": "2024-05-24T07:37:35.306567Z",
     "start_time": "2024-05-24T07:37:34.744060Z"
    }
   },
   "outputs": [],
   "source": [
    "n.optimize(solver_name=\"highs\")"
   ]
  },
  {
   "cell_type": "markdown",
   "metadata": {},
   "source": [
    "### Model evaluation"
   ]
  },
  {
   "cell_type": "markdown",
   "metadata": {},
   "source": [
    "Total system cost by technology (we only added CAPEX components):"
   ]
  },
  {
   "cell_type": "code",
   "execution_count": null,
   "metadata": {
    "ExecuteTime": {
     "end_time": "2024-05-24T07:37:35.309989Z",
     "start_time": "2024-05-24T07:37:35.307258Z"
    }
   },
   "outputs": [],
   "source": [
    "n.statistics.capex().div(1e6).sort_values(ascending=False)  # mn€/a"
   ]
  },
  {
   "cell_type": "markdown",
   "metadata": {},
   "source": [
    "Costs per unit of fuel (€/MWh):"
   ]
  },
  {
   "cell_type": "code",
   "execution_count": null,
   "metadata": {},
   "outputs": [],
   "source": [
    "n.statistics.capex().sum() / (8760 * n.loads.p_set.sum())"
   ]
  },
  {
   "cell_type": "markdown",
   "metadata": {},
   "source": [
    "The optimised capacities in MW (MWh for `Store` component):"
   ]
  },
  {
   "cell_type": "code",
   "execution_count": null,
   "metadata": {
    "ExecuteTime": {
     "end_time": "2024-05-24T07:37:35.321024Z",
     "start_time": "2024-05-24T07:37:35.316333Z"
    }
   },
   "outputs": [],
   "source": [
    "n.statistics.optimal_capacity()"
   ]
  },
  {
   "cell_type": "markdown",
   "metadata": {},
   "source": [
    "Utilisation rates and capacity factors for each technology (in percent):"
   ]
  },
  {
   "cell_type": "code",
   "execution_count": null,
   "metadata": {},
   "outputs": [],
   "source": [
    "n.statistics.capacity_factor() * 100"
   ]
  },
  {
   "cell_type": "markdown",
   "metadata": {},
   "source": [
    "Curtailment for each technology (in TWh):"
   ]
  },
  {
   "cell_type": "code",
   "execution_count": null,
   "metadata": {},
   "outputs": [],
   "source": [
    "n.statistics.curtailment().div(1e6)"
   ]
  },
  {
   "cell_type": "markdown",
   "metadata": {},
   "source": [
    "System operation on electricity, hydrogen, carbon dioxide and methanol sides (in MW):"
   ]
  },
  {
   "cell_type": "code",
   "execution_count": null,
   "metadata": {},
   "outputs": [],
   "source": [
    "n.statistics.energy_balance.plot.area(linewidth=0, bus_carrier=\"electricity\")"
   ]
  },
  {
   "cell_type": "code",
   "execution_count": null,
   "metadata": {},
   "outputs": [],
   "source": [
    "n.statistics.energy_balance.plot.area(linewidth=0, bus_carrier=\"hydrogen\")"
   ]
  },
  {
   "cell_type": "code",
   "execution_count": null,
   "metadata": {},
   "outputs": [],
   "source": [
    "n.statistics.energy_balance.plot.area(linewidth=0, bus_carrier=\"co2\")"
   ]
  },
  {
   "cell_type": "code",
   "execution_count": null,
   "metadata": {},
   "outputs": [],
   "source": [
    "n.statistics.energy_balance.plot.area(linewidth=0, bus_carrier=\"methanol\")"
   ]
  },
  {
   "cell_type": "markdown",
   "metadata": {},
   "source": [
    "## Modifications: Biogenic Carbon Dioxide\n",
    "\n",
    "How are costs affected by the availability of biogenic carbon dioxide costed at 50 €/t?"
   ]
  },
  {
   "cell_type": "code",
   "execution_count": null,
   "metadata": {},
   "outputs": [],
   "source": [
    "n.add(\n",
    "    \"Generator\",\n",
    "    \"biogenic co2\",\n",
    "    bus=\"co2\",\n",
    "    carrier=\"biogenic co2\",\n",
    "    p_nom=1000,  # non-binding\n",
    "    marginal_cost=50,\n",
    ")\n",
    "n.add(\n",
    "    \"Carrier\",\n",
    "    \"biogenic co2\",\n",
    "    color=\"forestgreen\",\n",
    ")\n",
    "n.optimize(solver_name=\"highs\")"
   ]
  },
  {
   "cell_type": "code",
   "execution_count": null,
   "metadata": {},
   "outputs": [],
   "source": [
    "(n.statistics.capex().sum() + n.statistics.opex().sum()) / 1e6  # €/MWh"
   ]
  },
  {
   "cell_type": "code",
   "execution_count": null,
   "metadata": {},
   "outputs": [],
   "source": [
    "n.statistics.energy_balance(bus_carrier=\"co2\")"
   ]
  },
  {
   "cell_type": "markdown",
   "metadata": {},
   "source": [
    "## Modifications: Inflexible PtX\n",
    "\n",
    "How are costs affected by limited flexibility of electrolyer and methanolisation units (e.g. with a minimum part load of 80%)?"
   ]
  },
  {
   "cell_type": "code",
   "execution_count": null,
   "metadata": {},
   "outputs": [],
   "source": [
    "n.links.loc[\"electrolysis\", \"p_min_pu\"] = 0.8\n",
    "n.links.loc[\"methanolisation\", \"p_min_pu\"] = 0.8\n",
    "n.optimize(solver_name=\"highs\")"
   ]
  },
  {
   "cell_type": "code",
   "execution_count": null,
   "metadata": {},
   "outputs": [],
   "source": [
    "(n.statistics.capex().sum() + n.statistics.opex().sum()) / 1e6  # €/MWh"
   ]
  },
  {
   "cell_type": "code",
   "execution_count": null,
   "metadata": {},
   "outputs": [],
   "source": [
    "n.statistics.optimal_capacity()"
   ]
  },
  {
   "cell_type": "code",
   "execution_count": null,
   "metadata": {},
   "outputs": [],
   "source": []
  },
  {
   "cell_type": "code",
   "execution_count": null,
   "metadata": {},
   "outputs": [],
   "source": []
  }
 ],
 "metadata": {
  "kernelspec": {
   "display_name": "",
   "language": "python",
   "name": ""
  },
  "language_info": {
   "codemirror_mode": {
    "name": "ipython",
    "version": 3
   },
   "file_extension": ".py",
   "mimetype": "text/x-python",
   "name": "python",
   "nbconvert_exporter": "python",
   "pygments_lexer": "ipython3",
   "version": "3.13.2"
  }
 },
 "nbformat": 4,
 "nbformat_minor": 4
}
