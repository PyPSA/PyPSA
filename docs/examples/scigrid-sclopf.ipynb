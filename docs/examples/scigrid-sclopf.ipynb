{
 "cells": [
  {
   "cell_type": "code",
   "execution_count": null,
   "metadata": {
    "tags": [
     "injected-warnings",
     "hide-cell"
    ]
   },
   "outputs": [],
   "source": [
    "# General notebook settings\n",
    "import warnings\n",
    "\n",
    "warnings.filterwarnings(\"error\", category=DeprecationWarning)"
   ]
  },
  {
   "cell_type": "markdown",
   "metadata": {},
   "source": [
    "# Security-Constrained LOPF\n",
    "\n",
    "In this example, the dispatch of generators is optimised using the security-constrained linear optimal power flow (SCLOPF) functionality of PyPSA, to guarantee that no branches are overloaded in the event of certain branch outages."
   ]
  },
  {
   "cell_type": "code",
   "execution_count": null,
   "metadata": {},
   "outputs": [],
   "source": [
    "import pypsa\n",
    "\n",
    "n = pypsa.examples.scigrid_de()\n",
    "\n",
    "# correct some infeasibilties in the network\n",
    "for line_name in [\"316\", \"527\", \"602\"]:\n",
    "    n.lines.loc[line_name, \"s_nom\"] = 1200\n",
    "\n",
    "now = n.snapshots[0]\n",
    "\n",
    "n.plot(bus_size=0);"
   ]
  },
  {
   "cell_type": "markdown",
   "metadata": {},
   "source": [
    "First, let's run the network without any $N-1$ security constraints and see how much it costs to operate the system.:"
   ]
  },
  {
   "cell_type": "code",
   "execution_count": null,
   "metadata": {},
   "outputs": [],
   "source": [
    "n0 = n.copy()\n",
    "n0.optimize(snapshots=now, log_to_console=False)\n",
    "n0.statistics.opex().sum()"
   ]
  },
  {
   "cell_type": "markdown",
   "metadata": {},
   "source": [
    "The security-constrained linear optimal power flow (SCLOPF) is executed using the `n.optimize.optimize_security_constrained()` method.\n",
    "This method takes a list of snapshots (here: `now`) and a list of branches that are to be considered as outages (here, the 30 lines with the highest loading)."
   ]
  },
  {
   "cell_type": "code",
   "execution_count": null,
   "metadata": {},
   "outputs": [],
   "source": [
    "branch_outages = (n0.lines_t.p0.loc[now] / n0.lines.s_nom).nlargest(30).index\n",
    "n.optimize.optimize_security_constrained(\n",
    "    now, branch_outages=branch_outages, log_to_console=False\n",
    ")\n",
    "n.statistics.opex().sum()"
   ]
  },
  {
   "cell_type": "markdown",
   "metadata": {},
   "source": [
    "You can see that the cost of operating the system in the given hour rises from 332 k€ to 427 k€ when the security constraints are applied.\n",
    "\n",
    "The maps below indicate the difference in the dispatch patterns, line flows and marginal prices between the $N-0$ (first) and $N-1$ (second) cases."
   ]
  },
  {
   "cell_type": "code",
   "execution_count": null,
   "metadata": {},
   "outputs": [],
   "source": [
    "def plot_network(n, snapshot):\n",
    "    bus_size = (\n",
    "        n.statistics.supply(groupby=\"bus\", components=[\"Generator\", \"StorageUnit\"])\n",
    "        .groupby(\"bus\")\n",
    "        .sum()\n",
    "    )\n",
    "    line_flows = n.lines_t.p0.loc[snapshot]\n",
    "    bus_color = n.buses_t.marginal_price.loc[snapshot]\n",
    "    line_loading = n.lines_t.p0.abs().loc[snapshot] / n.lines.s_nom\n",
    "\n",
    "    n.plot(\n",
    "        bus_size=bus_size / 30000,\n",
    "        bus_color=bus_color,\n",
    "        bus_cmap=\"Reds\",\n",
    "        line_color=line_loading,\n",
    "        line_flow=line_flows / 50,\n",
    "    )"
   ]
  },
  {
   "cell_type": "code",
   "execution_count": null,
   "metadata": {},
   "outputs": [],
   "source": [
    "plot_network(n0, now)"
   ]
  },
  {
   "cell_type": "code",
   "execution_count": null,
   "metadata": {},
   "outputs": [],
   "source": [
    "plot_network(n, now)"
   ]
  },
  {
   "cell_type": "markdown",
   "metadata": {},
   "source": [
    "We can also look at where the nodal dispatch is ramped up (red) or down (blue) in the $N-1$ case compared to the $N-0$ case. Mostly this means ramp down upstream of the potential outages, and ramp up downstream of the potential outages."
   ]
  },
  {
   "cell_type": "code",
   "execution_count": null,
   "metadata": {},
   "outputs": [],
   "source": [
    "bus_size0 = (\n",
    "    (\n",
    "        n0.statistics.supply(groupby=\"bus\", components=[\"Generator\", \"StorageUnit\"])\n",
    "        .groupby(\"bus\")\n",
    "        .sum()\n",
    "    )\n",
    "    .reindex(index=n.buses.index)\n",
    "    .fillna(0)\n",
    ")\n",
    "\n",
    "bus_size1 = (\n",
    "    (\n",
    "        n.statistics.supply(groupby=\"bus\", components=[\"Generator\", \"StorageUnit\"])\n",
    "        .groupby(\"bus\")\n",
    "        .sum()\n",
    "    )\n",
    "    .reindex(index=n.buses.index)\n",
    "    .fillna(0)\n",
    ")\n",
    "\n",
    "bus_size = bus_size1 - bus_size0\n",
    "\n",
    "n.plot(\n",
    "    bus_size=bus_size.abs() / 30000,\n",
    "    bus_color=bus_size.map(lambda x: \"b\" if x < 0 else \"r\"),\n",
    ");"
   ]
  },
  {
   "cell_type": "markdown",
   "metadata": {},
   "source": [
    "We can also double-check that the $N-1$ constraints are satisfied and no lines are overloaded in the event of the outages considered:"
   ]
  },
  {
   "cell_type": "code",
   "execution_count": null,
   "metadata": {},
   "outputs": [],
   "source": [
    "n.optimize.fix_optimal_dispatch()\n",
    "p0_test = n.lpf_contingency(now, branch_outages=branch_outages)"
   ]
  },
  {
   "cell_type": "markdown",
   "metadata": {},
   "source": [
    "Check the maximum loading as per unit of `s_nom` in each contingency:"
   ]
  },
  {
   "cell_type": "code",
   "execution_count": null,
   "metadata": {},
   "outputs": [],
   "source": [
    "max_loading = abs(p0_test.divide(n.passive_branches().s_nom, axis=0)).max()\n",
    "max_loading"
   ]
  },
  {
   "cell_type": "code",
   "execution_count": null,
   "metadata": {},
   "outputs": [],
   "source": []
  }
 ],
 "metadata": {
  "@webio": {
   "lastCommId": null,
   "lastKernelId": null
  },
  "kernelspec": {
   "display_name": "",
   "language": "python",
   "name": ""
  },
  "language_info": {
   "codemirror_mode": {
    "name": "ipython",
    "version": 3
   },
   "file_extension": ".py",
   "mimetype": "text/x-python",
   "name": "python",
   "nbconvert_exporter": "python",
   "pygments_lexer": "ipython3",
   "version": "3.13.2"
  }
 },
 "nbformat": 4,
 "nbformat_minor": 1
}
