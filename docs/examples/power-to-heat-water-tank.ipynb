{
 "cells": [
  {
   "cell_type": "code",
   "execution_count": null,
   "metadata": {
    "tags": [
     "injected-warnings",
     "hide-cell"
    ]
   },
   "outputs": [],
   "source": [
    "# General notebook settings\n",
    "import warnings\n",
    "\n",
    "warnings.filterwarnings(\"error\", category=DeprecationWarning)"
   ]
  },
  {
   "cell_type": "markdown",
   "metadata": {},
   "source": [
    "# Heat Pumps and Thermal Storage\n",
    "\n",
    "In this example, a heat demand is supplied by a wind turbine in combination with a heat pump and a water tank that stores hot water with a standing loss."
   ]
  },
  {
   "cell_type": "code",
   "execution_count": null,
   "metadata": {},
   "outputs": [],
   "source": [
    "import pandas as pd\n",
    "\n",
    "import pypsa\n",
    "\n",
    "n = pypsa.Network()\n",
    "n.set_snapshots(pd.date_range(\"2025-01-01 00:00\", \"2025-01-01 03:00\", freq=\"H\"))\n",
    "\n",
    "n.add(\"Bus\", \"power\", carrier=\"AC\")\n",
    "n.add(\"Bus\", \"heat\", carrier=\"heat\")\n",
    "\n",
    "n.add(\n",
    "    \"Generator\",\n",
    "    \"wind turbine\",\n",
    "    bus=\"power\",\n",
    "    carrier=\"wind\",\n",
    "    p_nom_extendable=True,\n",
    "    p_max_pu=[0.0, 0.2, 0.7, 0.4],\n",
    "    capital_cost=500,\n",
    ")\n",
    "\n",
    "n.add(\"Load\", \"heat demand\", bus=\"heat\", p_set=20);"
   ]
  },
  {
   "cell_type": "markdown",
   "metadata": {},
   "source": [
    "The heat pump has time-varying efficiency (i.e. its coefficient of performance, COP)  due to changing ambient temperatures."
   ]
  },
  {
   "cell_type": "code",
   "execution_count": null,
   "metadata": {},
   "outputs": [],
   "source": [
    "n.add(\n",
    "    \"Link\",\n",
    "    \"heat pump\",\n",
    "    bus0=\"power\",\n",
    "    bus1=\"heat\",\n",
    "    efficiency=[2.5, 3.0, 3.2, 3.0],\n",
    "    capital_cost=1000,\n",
    "    p_nom_extendable=True,\n",
    ");"
   ]
  },
  {
   "cell_type": "markdown",
   "metadata": {},
   "source": [
    "The hot water tank has a standing loss of 1% of its state of charge per hour."
   ]
  },
  {
   "cell_type": "code",
   "execution_count": null,
   "metadata": {},
   "outputs": [],
   "source": [
    "n.add(\n",
    "    \"Store\",\n",
    "    \"water tank\",\n",
    "    bus=\"heat\",\n",
    "    e_cyclic=True,\n",
    "    e_nom=100,\n",
    "    standing_loss=0.01,\n",
    ");"
   ]
  },
  {
   "cell_type": "markdown",
   "metadata": {},
   "source": [
    "The wind turbine and the heat pump can be sized by the optimisation, while the water tank has a fixed size of 100 MWh."
   ]
  },
  {
   "cell_type": "code",
   "execution_count": null,
   "metadata": {},
   "outputs": [],
   "source": [
    "n.optimize(log_to_console=False);"
   ]
  },
  {
   "cell_type": "code",
   "execution_count": null,
   "metadata": {},
   "outputs": [],
   "source": [
    "pd.DataFrame({attr: n.stores_t[attr][\"water tank\"] for attr in [\"p\", \"e\"]}).round(3)"
   ]
  },
  {
   "cell_type": "code",
   "execution_count": null,
   "metadata": {},
   "outputs": [],
   "source": [
    "pd.DataFrame({attr: n.links_t[attr][\"heat pump\"] for attr in [\"p0\", \"p1\"]}).round(3)"
   ]
  }
 ],
 "metadata": {
  "@webio": {
   "lastCommId": null,
   "lastKernelId": null
  },
  "kernelspec": {
   "display_name": "",
   "language": "python",
   "name": ""
  },
  "language_info": {
   "codemirror_mode": {
    "name": "ipython",
    "version": 3
   },
   "file_extension": ".py",
   "mimetype": "text/x-python",
   "name": "python",
   "nbconvert_exporter": "python",
   "pygments_lexer": "ipython3",
   "version": "3.13.2"
  }
 },
 "nbformat": 4,
 "nbformat_minor": 1
}
