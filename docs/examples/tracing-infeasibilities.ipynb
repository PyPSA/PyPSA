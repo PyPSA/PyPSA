{
 "cells": [
  {
   "cell_type": "code",
   "execution_count": null,
   "id": "63dd35f6",
   "metadata": {
    "tags": [
     "injected-warnings",
     "hide-cell"
    ]
   },
   "outputs": [],
   "source": [
    "# General notebook settings\n",
    "import warnings\n",
    "\n",
    "warnings.filterwarnings(\"error\", category=DeprecationWarning)"
   ]
  },
  {
   "cell_type": "markdown",
   "id": "1426ac78",
   "metadata": {},
   "source": [
    "# Tracing Infeasibilities\n",
    "\n",
    "This tutorial demonstrates how to identify and trace infeasibilities in PyPSA optimization models using built-in functionality. When an optimization problem becomes infeasible, PyPSA provides tools to help you understand what constraints are conflicting and causing the infeasibility.\n",
    "\n",
    "In this example, we'll deliberately create an infeasible network and then use PyPSA's built-in methods to diagnose the problem."
   ]
  },
  {
   "cell_type": "markdown",
   "id": "ab5c0398",
   "metadata": {},
   "source": [
    "## Getting ready\n",
    "\n",
    "First, let's import PyPSA and load a example network from our example suite that we'll use for demonstration.\n",
    "\n",
    "We'll use PyPSA's built-in AC-DC meshed example network, which includes:\n",
    "- AC transmission lines connecting different regions\n",
    "- A DC link providing additional transmission capacity\n",
    "- Generators and loads across multiple buses"
   ]
  },
  {
   "cell_type": "code",
   "execution_count": null,
   "id": "35033215",
   "metadata": {},
   "outputs": [],
   "source": [
    "import pypsa\n",
    "\n",
    "n = pypsa.examples.ac_dc_meshed()\n",
    "\n",
    "n"
   ]
  },
  {
   "cell_type": "markdown",
   "id": "18437def",
   "metadata": {},
   "source": [
    "For this demonstration, we'll limit the analysis to just the first snapshot to keep the example simple and focused on the infeasibility tracing concept."
   ]
  },
  {
   "cell_type": "code",
   "execution_count": null,
   "id": "425f2513",
   "metadata": {},
   "outputs": [],
   "source": [
    "## Solve only the first period\n",
    "n.snapshots = n.snapshots[:1]"
   ]
  },
  {
   "cell_type": "markdown",
   "id": "626fee86",
   "metadata": {},
   "source": [
    "This network is normally feasible, but let's modify it to create infeasibilities:"
   ]
  },
  {
   "cell_type": "code",
   "execution_count": null,
   "id": "03613350",
   "metadata": {},
   "outputs": [],
   "source": [
    "# Remove AC transmission lines connecting to London\n",
    "n.remove(\"Line\", \"0\")  # First AC line to London\n",
    "n.remove(\"Line\", \"5\")  # Second AC line to London\n",
    "\n",
    "# Disable the DC link by setting capacity to zero\n",
    "n.links.loc[\"DC link\", \"p_nom\"] = 0.0\n",
    "n.links.loc[\"DC link\", \"p_nom_extendable\"] = False"
   ]
  },
  {
   "cell_type": "markdown",
   "id": "680f05a1",
   "metadata": {},
   "source": [
    "An alternative approach would be to remove the DC link entirely, which would also create an infeasible situation (London with load but no connections):\n",
    "```python\n",
    "n.remove(\"Link\", \"DC link\")\n",
    "```\n",
    "This would completely remove the DC link from the network. However, when `n.optimize()` is called, PyPSA would detect an \"empty LHS and non-empty RHS\" error during the constraint creation phase (specifically when building nodal balance constraints) and raise a `ValueError` before the optimization model is even passed to the solver."
   ]
  },
  {
   "cell_type": "markdown",
   "id": "be6140cf",
   "metadata": {},
   "source": [
    "Let's ensure that London has power load but no generators or connections:"
   ]
  },
  {
   "cell_type": "code",
   "execution_count": null,
   "id": "795968a7",
   "metadata": {},
   "outputs": [],
   "source": [
    "print(f\"London load: {n.loads_t.p_set.loc['2015-01-01', 'London']:.1f} MW\")\n",
    "print(\n",
    "    f\"London generation: {n.generators[n.generators.bus == 'London']['p_nom'].sum():.1f} MW\"\n",
    ")\n",
    "print(\n",
    "    f\"London AC lines connected: {len(n.lines[(n.lines.bus0 == 'London') | (n.lines.bus1 == 'London')])}\"\n",
    ")\n",
    "print(f\"London DC link capacity: {n.links.loc['DC link', 'p_nom']:.1f} MW\")\n",
    "print(\"→ Infeasible: London has power load (RHS) but no supply options!\")"
   ]
  },
  {
   "cell_type": "markdown",
   "id": "e1c72410",
   "metadata": {},
   "source": [
    "## Attempting Optimization\n",
    "\n",
    "Now let's try to optimize this infeasible network. The optimization will fail because London has load but no way to meet it (no local generation and no transmission connections)"
   ]
  },
  {
   "cell_type": "code",
   "execution_count": null,
   "id": "c1c11519",
   "metadata": {},
   "outputs": [],
   "source": [
    "n.optimize(solver_name=\"gurobi\")"
   ]
  },
  {
   "cell_type": "markdown",
   "id": "d3a8d32d",
   "metadata": {},
   "source": [
    "## Tracing the Infeasibility\n",
    "\n",
    "When the optimization fails due to infeasibility, PyPSA provides a convenient method to diagnose the problem. The `print_infeasibilities()` method on the optimization model will show us exactly which constraints are causing the infeasibility."
   ]
  },
  {
   "cell_type": "code",
   "execution_count": null,
   "id": "4989a457",
   "metadata": {},
   "outputs": [],
   "source": [
    "n.model.print_infeasibilities()"
   ]
  },
  {
   "cell_type": "markdown",
   "id": "ee963ad8",
   "metadata": {},
   "source": [
    "### Interpreting the Infeasibility Output\n",
    "\n",
    "The infeasibility trace above shows us exactly what's wrong:\n",
    "\n",
    "1. **`Link-fix-p-lower[2015-01-01 00:00:00, DC link]: +1 Link-p[2015-01-01 00:00:00, DC link] ≥ -0`**\n",
    "   - This constraint says the DC link power flow must be ≥ 0 (can't flow negative)\n",
    "   - But we set the DC link capacity to 0, so Link-p value is bounded to 0\n",
    "\n",
    "2. **`Bus-nodal_balance[London, 2015-01-01 00:00:00]: -1 Link-p[2015-01-01 00:00:00, DC link] = 35.7962441027`**\n",
    "   - This is London's nodal balance equation: generation ± trade ± storage = load\n",
    "   - London has no generation, 35.8 MW load, and no AC interconnectors\n",
    "   - The DC link (the only remaining connection) can't provide any power because its capacity is 0\n",
    "\n",
    "Under the hood, `print_infeasibilities()` uses Gurobi's infeasibility analysis to identify conflicting constraints.\n",
    " **Irreducible Inconsistent Set (IIS)** identified by Gurobi shows these two constraints are fundamentally incompatible:\n",
    "- London needs power inflow via the DC link to meet its load\n",
    "- But the DC link is constrained to zero power\n",
    "- This creates an impossible situation that no solution can satisfy"
   ]
  }
 ],
 "metadata": {
  "kernelspec": {
   "display_name": "",
   "language": "python",
   "name": ""
  },
  "language_info": {
   "codemirror_mode": {
    "name": "ipython",
    "version": 3
   },
   "file_extension": ".py",
   "mimetype": "text/x-python",
   "name": "python",
   "nbconvert_exporter": "python",
   "pygments_lexer": "ipython3",
   "version": "3.13.2"
  }
 },
 "nbformat": 4,
 "nbformat_minor": 5
}
