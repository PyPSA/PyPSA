{
 "cells": [
  {
   "cell_type": "code",
   "execution_count": null,
   "id": "c50840cf",
   "metadata": {
    "tags": [
     "injected-warnings",
     "hide-cell"
    ]
   },
   "outputs": [],
   "source": [
    "# General notebook settings\n",
    "import warnings\n",
    "\n",
    "warnings.filterwarnings(\"error\", category=DeprecationWarning)"
   ]
  },
  {
   "cell_type": "markdown",
   "id": "af0d5042",
   "metadata": {},
   "source": [
    "# Pathway Planning\n",
    "\n",
    "In this example, we demonstrate how PyPSA can deal with optimisation problems spanning multiple investment periods, also known as pathway planning. \n",
    "\n",
    "For models with multiple investment periods, the total set of snapshots is divided into investment periods, which translates into multi-indexed snapshots with investment periods as the first level time steps as the second level. In each investment period, new components may be added to the system. Additionally, any component may only operate as long as allowed by their lifetime.\n",
    "\n",
    "In contrast to the models with a single investment period (overnight scenarios), the following concepts have to be taken into account.:\n",
    "\n",
    "1. The network attribute `n.investment_periods`: This is the set of periods which specify when new components may be built. These have to be the same as the first level values in the `n.snapshots` index.\n",
    "2. The network attribute `n.investment_period_weightings`: These specify the weighting of each period in the objective function and the global constraints. \n",
    "3. The component attribute `build_year`: Any one component may only be built when the build year is equal to the current investment period, or larger than the previous investment period. That means, components with `build_year=2029` are considered in the investment period `2030`, but not in the period `2025`.  \n",
    "4. The component attribute `lifetime`: Any one component is only considered for dispatch in an investment period if it is still active at the beginning of an investment period. That means, components with `build_year=2029` and `lifetime=30` are considered in the investment period `2055`, but not in the period `2060`.   \n",
    "\n",
    "In the following, we set up a three bus network with generators, lines and storage units and run a optimisation for the investment periods 2020, 2030, 2040 and 2050."
   ]
  },
  {
   "cell_type": "code",
   "execution_count": null,
   "id": "f5e767ac",
   "metadata": {},
   "outputs": [],
   "source": [
    "import numpy as np\n",
    "import pandas as pd\n",
    "\n",
    "import pypsa\n",
    "\n",
    "rng = np.random.default_rng()  # Create a random number generator"
   ]
  },
  {
   "cell_type": "markdown",
   "id": "95e62e96",
   "metadata": {},
   "source": [
    "We set up the network with investment periods and snapshots. "
   ]
  },
  {
   "cell_type": "code",
   "execution_count": null,
   "id": "bd8cdd68",
   "metadata": {},
   "outputs": [],
   "source": [
    "n = pypsa.Network()\n",
    "years = [2020, 2030, 2040, 2050]\n",
    "freq = 24\n",
    "\n",
    "snapshots = pd.DatetimeIndex([])\n",
    "for year in years:\n",
    "    period = pd.date_range(\n",
    "        start=f\"{year}-01-01 00:00\",\n",
    "        freq=f\"{freq}h\",\n",
    "        periods=8760 // freq,\n",
    "    )\n",
    "    snapshots = snapshots.append(period)\n",
    "\n",
    "# convert to multiindex and assign to network\n",
    "n.snapshots = pd.MultiIndex.from_arrays([snapshots.year, snapshots])\n",
    "n.investment_periods = years\n",
    "\n",
    "n.snapshot_weightings"
   ]
  },
  {
   "cell_type": "code",
   "execution_count": null,
   "id": "84d2d14f",
   "metadata": {},
   "outputs": [],
   "source": [
    "n.investment_periods"
   ]
  },
  {
   "cell_type": "markdown",
   "id": "ba52e3eb",
   "metadata": {},
   "source": [
    "Set the years and objective weighting per investment period. For the objective weighting, we consider a discount rate defined by \n",
    "$$ D(t) = \\dfrac{1}{(1+r)^t} $$ \n",
    "\n",
    "where $r$ is the discount rate. For each period we sum up all discounts rates of the corresponding years which gives us the effective objective weighting."
   ]
  },
  {
   "cell_type": "code",
   "execution_count": null,
   "id": "e0a025d2",
   "metadata": {},
   "outputs": [],
   "source": [
    "n.investment_period_weightings[\"years\"] = list(np.diff(years)) + [10]\n",
    "\n",
    "r = 0.01\n",
    "T = 0\n",
    "for period, nyears in n.investment_period_weightings.years.items():\n",
    "    discounts = [(1 / (1 + r) ** t) for t in range(T, T + nyears)]\n",
    "    n.investment_period_weightings.at[period, \"objective\"] = sum(discounts)\n",
    "    T += nyears\n",
    "n.investment_period_weightings"
   ]
  },
  {
   "cell_type": "markdown",
   "id": "ae5e0f16",
   "metadata": {},
   "source": [
    "Add the components"
   ]
  },
  {
   "cell_type": "code",
   "execution_count": null,
   "id": "4d90f0f0",
   "metadata": {},
   "outputs": [],
   "source": [
    "for i in range(3):\n",
    "    n.add(\"Bus\", f\"bus {i}\")\n",
    "\n",
    "# add three lines in a ring\n",
    "n.add(\n",
    "    \"Line\",\n",
    "    \"line 0->1\",\n",
    "    bus0=\"bus 0\",\n",
    "    bus1=\"bus 1\",\n",
    ")\n",
    "\n",
    "n.add(\n",
    "    \"Line\",\n",
    "    \"line 1->2\",\n",
    "    bus0=\"bus 1\",\n",
    "    bus1=\"bus 2\",\n",
    "    capital_cost=10,\n",
    "    build_year=2030,\n",
    ")\n",
    "\n",
    "n.add(\n",
    "    \"Line\",\n",
    "    \"line 2->0\",\n",
    "    bus0=\"bus 2\",\n",
    "    bus1=\"bus 0\",\n",
    ")\n",
    "\n",
    "n.lines[\"x\"] = 0.0001\n",
    "n.lines[\"s_nom_extendable\"] = True\n",
    "\n",
    "n.lines"
   ]
  },
  {
   "cell_type": "code",
   "execution_count": null,
   "id": "ccdca3cd",
   "metadata": {},
   "outputs": [],
   "source": [
    "# add some generators\n",
    "p_nom_max = pd.Series(\n",
    "    (rng.uniform() for sn in range(len(n.snapshots))),\n",
    "    index=n.snapshots,\n",
    "    name=\"generator ext 2020\",\n",
    ")\n",
    "\n",
    "# renewable (can operate 2020, 2030)\n",
    "n.add(\n",
    "    \"Generator\",\n",
    "    \"generator ext 0 2020\",\n",
    "    bus=\"bus 0\",\n",
    "    p_nom=50,\n",
    "    build_year=2020,\n",
    "    lifetime=20,\n",
    "    marginal_cost=2,\n",
    "    capital_cost=1,\n",
    "    p_max_pu=p_nom_max,\n",
    "    carrier=\"solar\",\n",
    "    p_nom_extendable=True,\n",
    ")\n",
    "\n",
    "# can operate 2040, 2050\n",
    "n.add(\n",
    "    \"Generator\",\n",
    "    \"generator ext 0 2040\",\n",
    "    bus=\"bus 0\",\n",
    "    p_nom=50,\n",
    "    build_year=2040,\n",
    "    lifetime=11,\n",
    "    marginal_cost=25,\n",
    "    capital_cost=10,\n",
    "    carrier=\"OCGT\",\n",
    "    p_nom_extendable=True,\n",
    ")\n",
    "\n",
    "# can operate in 2040\n",
    "n.add(\n",
    "    \"Generator\",\n",
    "    \"generator fix 1 2040\",\n",
    "    bus=\"bus 1\",\n",
    "    p_nom=50,\n",
    "    build_year=2040,\n",
    "    lifetime=10,\n",
    "    carrier=\"CCGT\",\n",
    "    marginal_cost=20,\n",
    "    capital_cost=1,\n",
    ")\n",
    "\n",
    "n.generators"
   ]
  },
  {
   "cell_type": "code",
   "execution_count": null,
   "id": "5025e810",
   "metadata": {},
   "outputs": [],
   "source": [
    "n.add(\n",
    "    \"StorageUnit\",\n",
    "    \"storageunit non-cyclic 2030\",\n",
    "    bus=\"bus 2\",\n",
    "    p_nom=0,\n",
    "    capital_cost=2,\n",
    "    build_year=2030,\n",
    "    lifetime=21,\n",
    "    cyclic_state_of_charge=False,\n",
    "    p_nom_extendable=False,\n",
    ")\n",
    "\n",
    "n.add(\n",
    "    \"StorageUnit\",\n",
    "    \"storageunit periodic 2020\",\n",
    "    bus=\"bus 2\",\n",
    "    p_nom=0,\n",
    "    capital_cost=1,\n",
    "    build_year=2020,\n",
    "    lifetime=21,\n",
    "    cyclic_state_of_charge=True,\n",
    "    cyclic_state_of_charge_per_period=True,\n",
    "    p_nom_extendable=True,\n",
    ")\n",
    "\n",
    "n.storage_units"
   ]
  },
  {
   "cell_type": "markdown",
   "id": "694ffb04",
   "metadata": {},
   "source": [
    "Add the load"
   ]
  },
  {
   "cell_type": "code",
   "execution_count": null,
   "id": "7981acdf",
   "metadata": {},
   "outputs": [],
   "source": [
    "load_var = pd.Series(\n",
    "    100 * rng.random(size=len(n.snapshots)), index=n.snapshots, name=\"load\"\n",
    ")\n",
    "n.add(\"Load\", \"load 2\", bus=\"bus 2\", p_set=load_var)\n",
    "\n",
    "load_fix = pd.Series(75, index=n.snapshots, name=\"load\")\n",
    "n.add(\"Load\", \"load 1\", bus=\"bus 1\", p_set=load_fix)\n",
    "\n",
    "n.loads_t.p_set.head()"
   ]
  },
  {
   "cell_type": "markdown",
   "id": "09467ca4",
   "metadata": {},
   "source": [
    "Run the optimization"
   ]
  },
  {
   "cell_type": "code",
   "execution_count": null,
   "id": "04e5db92",
   "metadata": {},
   "outputs": [],
   "source": [
    "n.optimize(multi_investment_periods=True, log_to_console=False)"
   ]
  },
  {
   "cell_type": "code",
   "execution_count": null,
   "id": "a5de32ee",
   "metadata": {},
   "outputs": [],
   "source": [
    "c = \"Generator\"\n",
    "df = pd.concat(\n",
    "    {\n",
    "        period: n.components[c].get_active_assets(period)\n",
    "        * n.components[c].static.p_nom_opt\n",
    "        for period in n.investment_periods\n",
    "    },\n",
    "    axis=1,\n",
    ")\n",
    "df.T.plot.bar(\n",
    "    stacked=True,\n",
    "    edgecolor=\"white\",\n",
    "    width=1,\n",
    "    ylabel=\"Capacity (MW)\",\n",
    "    xlabel=\"Investment Period\",\n",
    "    rot=0,\n",
    ")"
   ]
  },
  {
   "cell_type": "code",
   "execution_count": null,
   "id": "ebd9a17b",
   "metadata": {},
   "outputs": [],
   "source": [
    "df = n.generators_t.p.sum(axis=0).T.div(1e3)\n",
    "df.T.plot.bar(\n",
    "    stacked=True,\n",
    "    edgecolor=\"white\",\n",
    "    width=1,\n",
    "    ylabel=\"Generation (GWh)\",\n",
    "    xlabel=\"Investment Period\",\n",
    "    rot=0,\n",
    ")"
   ]
  }
 ],
 "metadata": {
  "@webio": {
   "lastCommId": null,
   "lastKernelId": null
  },
  "kernelspec": {
   "display_name": "",
   "language": "python",
   "name": ""
  },
  "language_info": {
   "codemirror_mode": {
    "name": "ipython",
    "version": 3
   },
   "file_extension": ".py",
   "mimetype": "text/x-python",
   "name": "python",
   "nbconvert_exporter": "python",
   "pygments_lexer": "ipython3",
   "version": "3.13.2"
  }
 },
 "nbformat": 4,
 "nbformat_minor": 5
}
