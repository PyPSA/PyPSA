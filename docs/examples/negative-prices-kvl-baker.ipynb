{
 "cells": [
  {
   "cell_type": "code",
   "execution_count": null,
   "id": "2ac6d0d9",
   "metadata": {
    "tags": [
     "injected-warnings",
     "hide-cell"
    ]
   },
   "outputs": [],
   "source": [
    "# General notebook settings\n",
    "import warnings\n",
    "\n",
    "warnings.filterwarnings(\"error\", category=DeprecationWarning)"
   ]
  },
  {
   "cell_type": "markdown",
   "id": "aa89fd4c",
   "metadata": {},
   "source": [
    "# Negative LMPs from Line Congestion"
   ]
  },
  {
   "cell_type": "markdown",
   "id": "7814edb9",
   "metadata": {},
   "source": [
    "This notebook demonstrates how negative locational marginal prices (LMPs) can occur in electricity systems due to line congestion. Using a simple 3-bus linearised DC power flow model, we reproduce the phenomenon implemented in [Kyri Baker's \"3bus_LMP\" example](#references). When cheap generation is trapped behind a congested line, LMPs can drop below zero as the system redistributes power flows to meet demand. This behaviour is a direct result of the duality of the DC-OPF (DC Optimal Power Flow) problem, where LMPs emerge as the shadow prices of nodal power balance. With this example, we illustrate how network topology, generator costs, and constraints jointly shape prices in modern electricity markets."
   ]
  },
  {
   "cell_type": "markdown",
   "id": "49b5a086",
   "metadata": {},
   "source": [
    "## Model setup"
   ]
  },
  {
   "cell_type": "markdown",
   "id": "115c0da4",
   "metadata": {},
   "source": [
    "First, define the example electricity system in PyPSA."
   ]
  },
  {
   "cell_type": "code",
   "execution_count": null,
   "id": "72c7262d",
   "metadata": {},
   "outputs": [],
   "source": [
    "import pypsa\n",
    "\n",
    "n = pypsa.Network()"
   ]
  },
  {
   "cell_type": "markdown",
   "id": "be31e850",
   "metadata": {},
   "source": [
    "We create three buses with generators of marginal costs 10 €/MWh (Bus1), 20 €/MWh (Bus2), and 100 €/MWh (Bus3). We connect all buses with their neighbours. All lines have the same reactance of x=1. The line connecting Bus1 and Bus3 is bottlenecked at a maximum capacity of 10 MW. A single load of 100 MW is connected to Bus3. "
   ]
  },
  {
   "cell_type": "code",
   "execution_count": null,
   "id": "60dd043f",
   "metadata": {},
   "outputs": [],
   "source": [
    "# Add three buses in a triangular layout\n",
    "n.add(\"Bus\", \"Bus1\", x=0, y=2)  # Top-left\n",
    "n.add(\"Bus\", \"Bus2\", x=2, y=2)  # Top-right\n",
    "n.add(\"Bus\", \"Bus3\", x=1, y=0);  # Bottom (load)"
   ]
  },
  {
   "cell_type": "code",
   "execution_count": null,
   "id": "0af9785a",
   "metadata": {},
   "outputs": [],
   "source": [
    "# Add generators\n",
    "n.add(\"Generator\", \"Gen1\", bus=\"Bus1\", p_nom=100, marginal_cost=10)\n",
    "n.add(\"Generator\", \"Gen2\", bus=\"Bus2\", p_nom=100, marginal_cost=20)\n",
    "n.add(\"Generator\", \"Gen3\", bus=\"Bus3\", p_nom=100, marginal_cost=100);"
   ]
  },
  {
   "cell_type": "code",
   "execution_count": null,
   "id": "626b5eb5",
   "metadata": {},
   "outputs": [],
   "source": [
    "# Add a load of 100 MW at Bus2\n",
    "n.add(\"Load\", \"Load3\", bus=\"Bus3\", p_set=100);"
   ]
  },
  {
   "cell_type": "code",
   "execution_count": null,
   "id": "a28f2f08",
   "metadata": {},
   "outputs": [],
   "source": [
    "# Add three lines\n",
    "n.add(\"Line\", \"Line12\", bus0=\"Bus1\", bus1=\"Bus2\", x=1, s_nom=100)\n",
    "n.add(\"Line\", \"Line23\", bus0=\"Bus2\", bus1=\"Bus3\", x=1, s_nom=100)\n",
    "n.add(\"Line\", \"Line13\", bus0=\"Bus1\", bus1=\"Bus3\", x=1, s_nom=10);"
   ]
  },
  {
   "cell_type": "markdown",
   "id": "1fd0b8e9",
   "metadata": {},
   "source": [
    "## Part 1: Negative LMPs in the DC-OPF solution"
   ]
  },
  {
   "cell_type": "markdown",
   "id": "c1ddcebf",
   "metadata": {},
   "source": [
    "We solve the above network for a single timestep (\"now\"), representing one hour. As we have defined the components as `Line` components, Kirchhoff voltage law (KVL) applies. As no investments are allowed, this operational model is equivalent to a DC-OPF formulation."
   ]
  },
  {
   "cell_type": "code",
   "execution_count": null,
   "id": "a64b3125",
   "metadata": {},
   "outputs": [],
   "source": [
    "n.optimize(log_to_console=False)"
   ]
  },
  {
   "cell_type": "markdown",
   "id": "997e062b",
   "metadata": {},
   "source": [
    "Solving the model yields an optimal solution with an objective value of 7600 €."
   ]
  },
  {
   "cell_type": "code",
   "execution_count": null,
   "id": "d31c652b",
   "metadata": {},
   "outputs": [],
   "source": [
    "print(f\"Objective value: {n.objective} €\")"
   ]
  },
  {
   "cell_type": "markdown",
   "id": "97ffab35",
   "metadata": {},
   "source": [
    "We find that in the optimal solution, Gen2 and Gen3 provide 30 and 70 MW to serve the load at Bus3 respectively. Due to the KVL constraints, Gen1 is not dispatched at all, although being the cheapest, as the line connecting Bus1 and Bus3 is congested."
   ]
  },
  {
   "cell_type": "code",
   "execution_count": null,
   "id": "112548dc",
   "metadata": {},
   "outputs": [],
   "source": [
    "n.generators_t.p"
   ]
  },
  {
   "cell_type": "markdown",
   "id": "3bec5114",
   "metadata": {},
   "source": [
    "Given that all lines have equal reactances, two-thirds of Gen2's dispatch flow across Line23 and the remaining third flows across Line13 and Line12. Accordingly, Line13 carries 10 MW and is congested. Note that the Line12 is defined as from Bus1 to Bus2, hence the injection `p0` at Bus2 is negative."
   ]
  },
  {
   "cell_type": "code",
   "execution_count": null,
   "id": "16158656",
   "metadata": {},
   "outputs": [],
   "source": [
    "n.lines_t.p0"
   ]
  },
  {
   "cell_type": "markdown",
   "id": "89ac08da",
   "metadata": {},
   "source": [
    "Looking at the marginal prices, we see that the LMP at Bus1 is negative: -60 €/MWh. As the LMP is the dual variable to the nodal balance constraint, this means we can improve (or reduce) the objective value by relieving the demand at Bus1 by 1 MW (see [Part 2](#part-2:-relieving-line-congestion))."
   ]
  },
  {
   "cell_type": "code",
   "execution_count": null,
   "id": "b7e66b4b",
   "metadata": {},
   "outputs": [],
   "source": [
    "n.buses_t.marginal_price"
   ]
  },
  {
   "cell_type": "markdown",
   "id": "f8cd0f2e",
   "metadata": {},
   "source": [
    "## Part 2: Relieving line congestion"
   ]
  },
  {
   "cell_type": "markdown",
   "id": "91c908c9",
   "metadata": {},
   "source": [
    "To see what happens when we relieve the nodal balance at Bus1, we attach a load of 1 MW."
   ]
  },
  {
   "cell_type": "code",
   "execution_count": null,
   "id": "c8be2288",
   "metadata": {},
   "outputs": [],
   "source": [
    "n.add(\"Load\", \"Load1\", bus=\"Bus1\", p_set=1);"
   ]
  },
  {
   "cell_type": "markdown",
   "id": "bc32cc0e",
   "metadata": {},
   "source": [
    "... and resolve."
   ]
  },
  {
   "cell_type": "code",
   "execution_count": null,
   "id": "992cf821",
   "metadata": {},
   "outputs": [],
   "source": [
    "n.optimize(log_to_console=False)"
   ]
  },
  {
   "cell_type": "code",
   "execution_count": null,
   "id": "d724b535",
   "metadata": {},
   "outputs": [],
   "source": [
    "print(f\"Objective value: {n.objective} €\")"
   ]
  },
  {
   "cell_type": "code",
   "execution_count": null,
   "id": "9843eeae",
   "metadata": {},
   "outputs": [],
   "source": [
    "n.generators_t.p"
   ]
  },
  {
   "cell_type": "code",
   "execution_count": null,
   "id": "65dddc9b",
   "metadata": {},
   "outputs": [],
   "source": [
    "n.lines_t.p0"
   ]
  },
  {
   "cell_type": "markdown",
   "id": "6844ed0a",
   "metadata": {},
   "source": [
    "So what has happened? By attaching a 1 MW load at bus 1, line congestion is relieved: An additional off-take of 1 MW at bus 1 reduces the net flow from Bus1 to Bus3. Assuming Load3 to remain unchanged, this enables an injection of 2 MW at Bus1 (coming from Gen2), with 1 MW consumed and 1 MW flowing from Bus1 to Bus3. Gen2 essentially increases its dispatch by 2 MW (20 €/MWh x 2 MW x 1h = 40 €). Line13 is still fully utilised at 10 MW. Being the most expensive option, Gen3 decreases its output by 1 MW (100 €/MWh x (-1 MW) x 1h = -100 €). This combined effect creates a net reduction in total system costs of -100 € + 40 € = - 60 €."
   ]
  },
  {
   "cell_type": "markdown",
   "id": "3d1f9e8c",
   "metadata": {},
   "source": [
    "## Part 3: Plotting the regional dispatch and flows"
   ]
  },
  {
   "cell_type": "markdown",
   "id": "2f6bbb7b",
   "metadata": {},
   "source": [
    "In the following, we plot the nodal generation, LMPs, line flows and line loadings on a map."
   ]
  },
  {
   "cell_type": "code",
   "execution_count": null,
   "id": "f89bcae3",
   "metadata": {},
   "outputs": [],
   "source": [
    "bus_size = (\n",
    "    n.statistics.supply(groupby=\"bus\", components=[\"Generator\", \"Load\"])\n",
    "    .groupby(\"bus\")\n",
    "    .sum()\n",
    ")\n",
    "line_flows = n.lines_t.p0.iloc[0]\n",
    "bus_color = n.buses_t.marginal_price.iloc[0]\n",
    "line_loading = n.lines_t.p0.iloc[0] / n.lines.s_nom"
   ]
  },
  {
   "cell_type": "code",
   "execution_count": null,
   "id": "bece3809",
   "metadata": {},
   "outputs": [],
   "source": [
    "n.plot.map(\n",
    "    bus_size=bus_size / 8000,\n",
    "    line_width=line_flows / 5,\n",
    "    line_flow=line_flows / 30,\n",
    "    bus_color=bus_color,\n",
    "    line_color=line_loading,\n",
    ");"
   ]
  },
  {
   "cell_type": "markdown",
   "id": "dda7b2b9",
   "metadata": {},
   "source": [
    "## References"
   ]
  },
  {
   "cell_type": "markdown",
   "id": "8e7e0714",
   "metadata": {},
   "source": [
    "- Kyri Baker (2023). 3bus_LMPs. GitHub repository. https://github.com/kyribaker/3bus_LMPs\n",
    "- Kyri Baker & Harsha Gangammanavar (2024). Locational marginal prices obey DC circuit laws. arXiv preprint arXiv:2403.19032.     \n",
    "https://doi.org/10.48550/arXiv.2403.19032"
   ]
  }
 ],
 "metadata": {
  "kernelspec": {
   "display_name": "",
   "language": "python",
   "name": ""
  },
  "language_info": {
   "codemirror_mode": {
    "name": "ipython",
    "version": 3
   },
   "file_extension": ".py",
   "mimetype": "text/x-python",
   "name": "python",
   "nbconvert_exporter": "python",
   "pygments_lexer": "ipython3",
   "version": "3.13.2"
  }
 },
 "nbformat": 4,
 "nbformat_minor": 5
}
