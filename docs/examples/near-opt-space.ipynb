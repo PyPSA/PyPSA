{
 "cells": [
  {
   "cell_type": "code",
   "execution_count": null,
   "id": "c3ee2f62",
   "metadata": {
    "tags": [
     "injected-warnings",
     "hide-cell"
    ]
   },
   "outputs": [],
   "source": [
    "# General notebook settings\n",
    "import warnings\n",
    "\n",
    "warnings.filterwarnings(\"error\", category=DeprecationWarning)"
   ]
  },
  {
   "cell_type": "markdown",
   "id": "cdcc69b5",
   "metadata": {},
   "source": [
    "# Exploring the Near-Optimal Feasible Space"
   ]
  },
  {
   "cell_type": "markdown",
   "id": "6688c196",
   "metadata": {},
   "source": [
    "Here, we use modelling to generate alternatives (MGA) to explore the near-opimal feasible space of a simple one-node model in the style of [model.energy](https://model.energy) (the same as in the previous MGA example).\n",
    "\n",
    "While we explored the use of `n.optimize.optimize_mga()` in the previous example, PyPSA includes a few additional functions making it convenient to work with near-optimal spaces in a geometric way. While the `optimize_mga` function solves a network with an alternative objective function (given by the `weights` argument), `n.optimize_mga_in_direction` is a simple alternative useful for exploring trade-offs between multiple alternative objectives. It takes two key arguments: a dictionary of `dimensions`, specifying multiple alternative objectives in the same format as the previously mentioned `weights`, and a `direction` representing a vector in the coordinate space defined by `dimensions`.\n",
    "\n",
    "In this example, we explore the trade-offs between wind and solar expansion in a simple renewables-based system. Therefore, we define our `dimensions` (or alternative objectives) as total installed wind capacity and total installed solar capacity in MW, respectively. These dimensions can also be seen as defining a projection of near-optimal space of the model down to two dimensions.\n",
    "\n",
    ":::{note}\n",
    "See also [this research article](https://doi.org/10.1016/j.eneco.2022.106496) for a background on dimension reduction and approximation of near-optimal spaces.\n",
    ":::"
   ]
  },
  {
   "cell_type": "code",
   "execution_count": null,
   "id": "143e6b28",
   "metadata": {},
   "outputs": [],
   "source": [
    "import matplotlib.pyplot as plt\n",
    "from matplotlib.collections import LineCollection\n",
    "from scipy.spatial import ConvexHull, convex_hull_plot_2d\n",
    "\n",
    "import pypsa"
   ]
  },
  {
   "cell_type": "markdown",
   "id": "fab356a0",
   "metadata": {},
   "source": [
    "Before any near-optimal analysis can start, the model has to be solved to optimality first. This is in order to find the minimum system cost, which is later used to define a system cost bound for near-optimality (i.e. \"slack\", usually in percentage of minimum system cost)."
   ]
  },
  {
   "cell_type": "code",
   "execution_count": null,
   "id": "0a2db3f1",
   "metadata": {},
   "outputs": [],
   "source": [
    "n = pypsa.examples.model_energy()\n",
    "n.snapshots = n.snapshots[::3]  # Crude reduction of time resolution for speed\n",
    "n.generators.at[\"load shedding\", \"marginal_cost\"] = 20000\n",
    "n.optimize(solver_name=\"highs\", log_to_console=False)"
   ]
  },
  {
   "cell_type": "markdown",
   "id": "f1cc40f7",
   "metadata": {},
   "source": [
    "Individual dimensions are specified just like the `weights` argument for the `n.optimize.optimize_mga` function: a nested dictionary of components, variables and finally a series or dictionary giving weights to individual components.\n",
    "\n",
    "Here, we define two dimensions, and give them the user-defined names \"wind\" and \"solar\" (the keys in the outer dictionary). These names are arbitrary and don't have to match names of underlaying components."
   ]
  },
  {
   "cell_type": "code",
   "execution_count": null,
   "id": "7e20af25",
   "metadata": {},
   "outputs": [],
   "source": [
    "dimensions = {\n",
    "    \"wind\": {\"Generator\": {\"p_nom\": {\"wind\": 1}}},\n",
    "    \"solar\": {\"Generator\": {\"p_nom\": {\"solar\": 1}}},\n",
    "}"
   ]
  },
  {
   "cell_type": "markdown",
   "id": "56079a49",
   "metadata": {},
   "source": [
    "Suppose we are interested in minimizing wind capacity alone, and also interested in minimizing the total capacity of wind and solar. These correspond to the directions (-1, 0) and (-1, -1) in wind-solar coordinate space, respectively. Let's see what is possible within a 5% total system cost slack."
   ]
  },
  {
   "cell_type": "code",
   "execution_count": null,
   "id": "221a9df6",
   "metadata": {},
   "outputs": [],
   "source": [
    "_, _, min_wind = n.optimize.optimize_mga_in_direction(\n",
    "    dimensions=dimensions,\n",
    "    direction={\n",
    "        \"wind\": -1,\n",
    "        \"solar\": 0,\n",
    "    },  # Use coordinate names matching those given in `dimensions`\n",
    "    slack=0.05,\n",
    "    solver_name=\"highs\",\n",
    "    log_to_console=False,\n",
    ")\n",
    "_, _, min_wind_solar = n.optimize.optimize_mga_in_direction(\n",
    "    dimensions=dimensions,\n",
    "    direction={\"wind\": -1, \"solar\": -1},\n",
    "    slack=0.05,\n",
    "    solver_name=\"highs\",\n",
    "    log_to_console=False,\n",
    ")\n",
    "\n",
    "display(min_wind)\n",
    "display(min_wind_solar)"
   ]
  },
  {
   "cell_type": "markdown",
   "id": "3205c79b",
   "metadata": {},
   "source": [
    "Results are returned as dictionaries represting coordinates in the wind-solar space. The dictionaries use the same user-given coordinate names that we passed in the `dimensions` argument. We see that minimizing wind alone leads to a large installation of solar, while minimizing both jointly leads to a more balanced solution."
   ]
  },
  {
   "cell_type": "markdown",
   "id": "4b1860e7",
   "metadata": {},
   "source": [
    "In order to get a full picture of the near-optimal space (projected to the wind and solar dimensions), it is useful to optimize in many directions and consider the convex hull of the resulting points.\n",
    "\n",
    "Of course, you can use `optimize_mga_in_direction` manually to do this. For convenience, PyPSA also provides the `optimize_mga_in_multiple_directions` function. This function takes a list of directions (or a pandas DataFrame with rows for directions), and uses built-in Python multiprocessing functionality to optimize in these directions in parallel. In the event of any individual optimisations failing, only the successful ones are returned.\n",
    "\n",
    "While the user is free to select directions themselves, PyPSA also includes some simple functions (for instance, `pypsa.optimization.mga.generate_directions_randomber of random directions in the format expected by `optimize_mga_in_multiple_directions`."
   ]
  },
  {
   "cell_type": "code",
   "execution_count": null,
   "id": "b7a94dda",
   "metadata": {},
   "outputs": [],
   "source": [
    "directions = pypsa.optimization.mga.generate_directions_random(\n",
    "    dimensions.keys(), 10, seed=0\n",
    ")\n",
    "dirs, pts = n.optimize.optimize_mga_in_multiple_directions(\n",
    "    dimensions=dimensions,\n",
    "    directions=directions,\n",
    "    slack=0.05,\n",
    "    solver_name=\"highs\",\n",
    "    log_to_console=False,\n",
    "    # Solve in up to 8 directions in parallel.\n",
    "    max_parallel=8,\n",
    "    # For performance reasons, we select the direct linopy-highs interface here,\n",
    "    # and use the highs interior point method (ipm) for solving each LP.\n",
    "    io_api=\"direct\",\n",
    "    solver=\"ipm\",\n",
    ")"
   ]
  },
  {
   "cell_type": "markdown",
   "id": "bb7debd3",
   "metadata": {},
   "source": [
    "The results are returned in the form of two pandas DataFrames; one for directions and one for resulting points / coordinates. Using scipy, we can compute and plot the convex hull of the points we generated."
   ]
  },
  {
   "cell_type": "code",
   "execution_count": null,
   "id": "c34f8eb7",
   "metadata": {},
   "outputs": [],
   "source": [
    "display(pts.head() / 1e3)\n",
    "\n",
    "fig, ax = plt.subplots(figsize=(8, 6))\n",
    "convex_hull_plot_2d(ConvexHull(pts / 1e3), ax)\n",
    "\n",
    "ax.axis(\"equal\")\n",
    "ax.set_xlabel(\"Wind capacity (GW)\")\n",
    "ax.set_ylabel(\"Solar capacity (GW)\")\n",
    "ax.set_title(\"Near-optimal space in wind-solar coordinate space\")\n",
    "\n",
    "plt.show()"
   ]
  },
  {
   "cell_type": "markdown",
   "id": "6b0c5a4a",
   "metadata": {},
   "source": [
    "While random directions generally work well, they are not always perfectly spaced out. In two dimensions, we can easily generate evenly spaced directions (points on a circle); implemented in PyPSA in `pypsa.optimization.mga.generate_directions_evenly_spaced`. In higher dimensions, generating evenly spaced directions is not trivial, but Halton sequences (`pypsa.optimization.mga.generate_directions_halton`) do a better job than randomly generated directions."
   ]
  },
  {
   "cell_type": "code",
   "execution_count": null,
   "id": "3716de66",
   "metadata": {},
   "outputs": [],
   "source": [
    "n_points = 20\n",
    "directions_random = pypsa.optimization.mga.generate_directions_random(\n",
    "    dimensions.keys(), n_points, seed=0\n",
    ")\n",
    "directions_even = pypsa.optimization.mga.generate_directions_evenly_spaced(\n",
    "    dimensions.keys(), n_points\n",
    ")\n",
    "directions_halton = pypsa.optimization.mga.generate_directions_halton(\n",
    "    dimensions.keys(), n_points, seed=0\n",
    ")\n",
    "fig, axs = plt.subplots(1, 3, figsize=(12, 3), sharey=True)\n",
    "directions_random.plot(kind=\"scatter\", x=\"wind\", y=\"solar\", ax=axs[0])\n",
    "directions_even.plot(kind=\"scatter\", x=\"wind\", y=\"solar\", ax=axs[1])\n",
    "directions_halton.plot(kind=\"scatter\", x=\"wind\", y=\"solar\", ax=axs[2])\n",
    "for ax in axs:\n",
    "    ax.set_xlim(-1.1, 1.1)\n",
    "    ax.set_ylim(-1.1, 1.1)\n",
    "    ax.axis(\"equal\")\n",
    "plt.show()"
   ]
  },
  {
   "cell_type": "code",
   "execution_count": null,
   "id": "09b6f5af",
   "metadata": {},
   "outputs": [],
   "source": [
    "fig, axs = plt.subplots(1, 3, figsize=(12, 3), sharey=True)\n",
    "\n",
    "for ax, directions in zip(axs, [directions_random, directions_even, directions_halton]):\n",
    "    _, pts = n.optimize.optimize_mga_in_multiple_directions(\n",
    "        dimensions=dimensions,\n",
    "        directions=directions,\n",
    "        slack=0.05,\n",
    "        solver_name=\"highs\",\n",
    "        log_to_console=False,\n",
    "        max_parallel=8,\n",
    "        io_api=\"direct\",\n",
    "        solver=\"ipm\",\n",
    "    )\n",
    "    convex_hull_plot_2d(ConvexHull(pts / 1e3), ax)\n",
    "    ax.axis(\"equal\")\n",
    "    ax.set_xlabel(\"Wind capacity (GW)\")\n",
    "    ax.set_ylabel(\"Solar capacity (GW)\")\n",
    "plt.show()"
   ]
  },
  {
   "cell_type": "markdown",
   "id": "b1b87311",
   "metadata": {},
   "source": [
    "While more difficult to visualize, more than two dimensions can be used to analyse near-optimal spaces. Suppose we are interested in the mutual trade-offs between wind, solar and energy storage. Storage, as a sum of battery and hydrogen storage, is easily defined as a third dimension. In this case, since we are comparing different kinds of components with heterogenous units, it makes sense to scale our dimensions by capital cost in order to get comparable investment numbers."
   ]
  },
  {
   "cell_type": "code",
   "execution_count": null,
   "id": "bc21f478",
   "metadata": {},
   "outputs": [],
   "source": [
    "dimensions = {\n",
    "    \"wind\": {\"Generator\": {\"p_nom\": {\"wind\": n.generators.at[\"wind\", \"capital_cost\"]}}},\n",
    "    \"solar\": {\n",
    "        \"Generator\": {\"p_nom\": {\"solar\": n.generators.at[\"solar\", \"capital_cost\"]}}\n",
    "    },\n",
    "    \"storage\": {\n",
    "        \"StorageUnit\": {\n",
    "            \"p_nom\": {\n",
    "                \"battery storage\": n.storage_units.at[\"battery storage\", \"capital_cost\"]\n",
    "            }\n",
    "        },\n",
    "        \"Store\": {\n",
    "            \"e_nom\": {\n",
    "                \"hydrogen storage\": n.stores.at[\"hydrogen storage\", \"capital_cost\"]\n",
    "            }\n",
    "        },\n",
    "        \"Link\": {\"p_nom\": n.links.capital_cost},\n",
    "    },\n",
    "}\n",
    "directions = pypsa.optimization.mga.generate_directions_halton(\n",
    "    dimensions.keys(), 50, seed=0\n",
    ")\n",
    "dirs, pts = n.optimize.optimize_mga_in_multiple_directions(\n",
    "    dimensions=dimensions,\n",
    "    directions=directions,\n",
    "    slack=0.05,\n",
    "    solver_name=\"highs\",\n",
    "    log_to_console=False,\n",
    "    max_parallel=8,\n",
    "    io_api=\"direct\",\n",
    "    solver=\"ipm\",\n",
    ")"
   ]
  },
  {
   "cell_type": "code",
   "execution_count": null,
   "id": "1edb2405",
   "metadata": {},
   "outputs": [],
   "source": [
    "fig, ax = plt.subplots(figsize=(8, 6))\n",
    "ax.scatter(\n",
    "    pts[\"wind\"] / 1e6, pts[\"solar\"] / 1e6, c=pts[\"storage\"] / 1e6, cmap=\"viridis\"\n",
    ")\n",
    "hull = ConvexHull(pts[[\"wind\", \"solar\"]] / 1e6)\n",
    "line_segments = [hull.points[simplex] for simplex in hull.simplices]\n",
    "ax.add_collection(LineCollection(line_segments, colors=\"k\", linestyle=\"solid\"))\n",
    "\n",
    "ax.axis(\"equal\")\n",
    "ax.set_xlabel(\"Wind investment (mEUR)\")\n",
    "ax.set_ylabel(\"Solar investment (mEUR)\")\n",
    "cbar = plt.colorbar(ax.collections[0], ax=ax)\n",
    "cbar.set_label(\"Storage investment (mEUR)\")"
   ]
  },
  {
   "cell_type": "markdown",
   "id": "1f187d0c",
   "metadata": {},
   "source": [
    "In the above example, we see that low investment in renewables necessitates higher investment in storage, while high investment in renewables excludes (via the total system cost bound) a high investment in storage."
   ]
  }
 ],
 "metadata": {
  "kernelspec": {
   "display_name": "",
   "language": "python",
   "name": ""
  },
  "language_info": {
   "codemirror_mode": {
    "name": "ipython",
    "version": 3
   },
   "file_extension": ".py",
   "mimetype": "text/x-python",
   "name": "python",
   "nbconvert_exporter": "python",
   "pygments_lexer": "ipython3",
   "version": "3.13.3"
  }
 },
 "nbformat": 4,
 "nbformat_minor": 5
}
