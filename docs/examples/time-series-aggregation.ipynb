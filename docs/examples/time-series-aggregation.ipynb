{
 "cells": [
  {
   "cell_type": "markdown",
   "id": "596305f2",
   "metadata": {},
   "source": [
    "# Time Series Aggregation\n",
    "\n",
    "In this example, we are going to explore different ways to cluster the temporal resolution of PyPSA models, and what impact they have on the optimisation results and solving times. Using an hourly resolved variant of the [single-node capacity expansion example](), we will compare three different approaches to reduce the number of time steps in the model:\n",
    "\n",
    "- **Sampling**: Selecting a subset of the given snapshots based on a given frequency,\n",
    "- **Averaging**: Aggregating the snapshots by averaging them over a given frequency, and\n",
    "- **Segmentation**: Clustering the snapshots into segments of a given frequency and using [`tsam`](https://tsam.readthedocs.io/en/latest/) library.\n",
    "\n",
    "We start with the usual imports and loading the hourly resolved model."
   ]
  },
  {
   "cell_type": "code",
   "execution_count": null,
   "id": "ef920172",
   "metadata": {},
   "outputs": [
    {
     "name": "stderr",
     "output_type": "stream",
     "text": [
      "INFO:pypsa.network.io:Retrieving network data from https://tubcloud.tu-berlin.de/s/8Cznnzaf5LQz4o8/download/model-energy-hourly.nc.\n",
      "WARNING:pypsa.network.io:Importing network from PyPSA version v0.0.0 while current version is v0.35.0. Read the release notes at https://pypsa.readthedocs.io/en/latest/release_notes.html to prepare your network for import.\n",
      "INFO:pypsa.network.io:New version 0.35.1 available! (Current: 0.35.0)\n",
      "INFO:pypsa.network.io:Imported network 'Unnamed Network' has buses, carriers, generators, links, loads, storage_units, stores\n"
     ]
    }
   ],
   "source": [
    "import pypsa\n",
    "import pandas as pd\n",
    "import time\n",
    "import logging\n",
    "import numpy as np\n",
    "import tsam.timeseriesaggregation as tsam\n",
    "\n",
    "logging.getLogger().setLevel(logging.WARNING)\n",
    "\n",
    "SOLVER = \"gurobi\"  # or \"highs\"\n",
    "\n",
    "template_n = pypsa.Network(\n",
    "    \"https://tubcloud.tu-berlin.de/s/8Cznnzaf5LQz4o8/download/model-energy-hourly.nc\"\n",
    ")"
   ]
  },
  {
   "cell_type": "markdown",
   "id": "039bcabc",
   "metadata": {},
   "source": [
    "Since we also want to monitor the solving times, we will use a small utility function that wraps around the solving process and returns the seconds it took to solve the model:"
   ]
  },
  {
   "cell_type": "code",
   "execution_count": null,
   "id": "c55e99fc",
   "metadata": {},
   "outputs": [],
   "source": [
    "def time_it(func, *args, **kwargs):\n",
    "    \"\"\"Time the execution of a function and return the elapsed time in seconds.\"\"\"\n",
    "    start_time = time.time()\n",
    "    result = func(*args, **kwargs)\n",
    "    elapsed_time = time.time() - start_time\n",
    "    return result, elapsed_time\n",
    "\n",
    "\n",
    "logging.getLogger().setLevel(logging.WARNING)"
   ]
  },
  {
   "cell_type": "markdown",
   "id": "1a975e1e",
   "metadata": {},
   "source": [
    "## Hourly Baseline\n",
    "\n",
    "Additionally, we need a baseline model to compare aggregated models against. We will use the hourly resolved model for this."
   ]
  },
  {
   "cell_type": "code",
   "execution_count": 3,
   "id": "e60e54d0",
   "metadata": {},
   "outputs": [
    {
     "name": "stderr",
     "output_type": "stream",
     "text": [
      "Writing constraints.: 100%|\u001b[38;2;128;191;255m██████████\u001b[0m| 25/25 [00:00<00:00, 38.94it/s]\n",
      "Writing continuous variables.: 100%|\u001b[38;2;128;191;255m██████████\u001b[0m| 11/11 [00:00<00:00, 119.00it/s]"
     ]
    },
    {
     "name": "stdout",
     "output_type": "stream",
     "text": [
      "Set parameter TokenServer to value \"gurobi-license.pypsa.org\"\n"
     ]
    },
    {
     "name": "stderr",
     "output_type": "stream",
     "text": [
      "\n"
     ]
    },
    {
     "name": "stdout",
     "output_type": "stream",
     "text": [
      "Read LP format model from file /tmp/linopy-problem-u_ipu6v4.lp\n",
      "Reading time = 0.15 seconds\n",
      "obj: 192726 rows, 87606 columns, 372396 nonzeros\n",
      "Set parameter LogToConsole to value 0\n"
     ]
    },
    {
     "data": {
      "text/plain": [
       "16.163925647735596"
      ]
     },
     "execution_count": 3,
     "metadata": {},
     "output_type": "execute_result"
    }
   ],
   "source": [
    "n_hourly = template_n.copy()\n",
    "\n",
    "_, s_hourly = time_it(n_hourly.optimize, solver_name=SOLVER, log_to_console=False)\n",
    "s_hourly\n"
   ]
  },
  {
   "cell_type": "markdown",
   "id": "ad7526bc",
   "metadata": {},
   "source": [
    "## Sampling\n",
    "\n",
    "We will start with the sampling approach, which is the simplest one. We simply select every $N$-th snapshot from the model. The important part here is that we need to adjust the snapshot weightings accordingly, as each remaining snapshot now represents $N$ hours. We iterate over N from 2 to 11, i.e. from 2-hourly to 11-hourly resolved models."
   ]
  },
  {
   "cell_type": "code",
   "execution_count": 4,
   "id": "7a019dc4",
   "metadata": {},
   "outputs": [
    {
     "name": "stderr",
     "output_type": "stream",
     "text": [
      "Writing constraints.: 100%|\u001b[38;2;128;191;255m██████████\u001b[0m| 25/25 [00:00<00:00, 75.97it/s] \n",
      "Writing continuous variables.: 100%|\u001b[38;2;128;191;255m██████████\u001b[0m| 11/11 [00:00<00:00, 171.09it/s]"
     ]
    },
    {
     "name": "stdout",
     "output_type": "stream",
     "text": [
      "Set parameter TokenServer to value \"gurobi-license.pypsa.org\"\n",
      "Read LP format model from file /tmp/linopy-problem-zq9bgetj.lp\n",
      "Reading time = 0.07 seconds\n",
      "obj: 96366 rows, 43806 columns, 186198 nonzeros\n",
      "Set parameter LogToConsole to value 0\n"
     ]
    },
    {
     "name": "stderr",
     "output_type": "stream",
     "text": [
      "\n",
      "Writing constraints.: 100%|\u001b[38;2;128;191;255m██████████\u001b[0m| 25/25 [00:00<00:00, 98.69it/s] \n",
      "Writing continuous variables.: 100%|\u001b[38;2;128;191;255m██████████\u001b[0m| 11/11 [00:00<00:00, 296.75it/s]"
     ]
    },
    {
     "name": "stdout",
     "output_type": "stream",
     "text": [
      "Set parameter TokenServer to value \"gurobi-license.pypsa.org\"\n",
      "Read LP format model from file /tmp/linopy-problem-absciimi.lp\n"
     ]
    },
    {
     "name": "stderr",
     "output_type": "stream",
     "text": [
      "\n"
     ]
    },
    {
     "name": "stdout",
     "output_type": "stream",
     "text": [
      "Reading time = 0.05 seconds\n",
      "obj: 64246 rows, 29206 columns, 124144 nonzeros\n",
      "Set parameter LogToConsole to value 0\n"
     ]
    },
    {
     "name": "stderr",
     "output_type": "stream",
     "text": [
      "Writing constraints.: 100%|\u001b[38;2;128;191;255m██████████\u001b[0m| 25/25 [00:00<00:00, 113.41it/s]\n",
      "Writing continuous variables.: 100%|\u001b[38;2;128;191;255m██████████\u001b[0m| 11/11 [00:00<00:00, 316.15it/s]"
     ]
    },
    {
     "name": "stdout",
     "output_type": "stream",
     "text": [
      "Set parameter TokenServer to value \"gurobi-license.pypsa.org\"\n",
      "Read LP format model from file /tmp/linopy-problem-20tqcgep.lp\n"
     ]
    },
    {
     "name": "stderr",
     "output_type": "stream",
     "text": [
      "\n"
     ]
    },
    {
     "name": "stdout",
     "output_type": "stream",
     "text": [
      "Reading time = 0.03 seconds\n",
      "obj: 48186 rows, 21906 columns, 93110 nonzeros\n",
      "Set parameter LogToConsole to value 0\n"
     ]
    },
    {
     "name": "stderr",
     "output_type": "stream",
     "text": [
      "Writing constraints.: 100%|\u001b[38;2;128;191;255m██████████\u001b[0m| 25/25 [00:00<00:00, 143.13it/s]\n",
      "Writing continuous variables.: 100%|\u001b[38;2;128;191;255m██████████\u001b[0m| 11/11 [00:00<00:00, 421.66it/s]"
     ]
    },
    {
     "name": "stdout",
     "output_type": "stream",
     "text": [
      "Set parameter TokenServer to value \"gurobi-license.pypsa.org\"\n",
      "Read LP format model from file /tmp/linopy-problem-a9kx0cpb.lp\n",
      "Reading time = 0.03 seconds\n",
      "obj: 38550 rows, 17526 columns, 74479 nonzeros\n",
      "Set parameter LogToConsole to value 0\n"
     ]
    },
    {
     "name": "stderr",
     "output_type": "stream",
     "text": [
      "\n",
      "Writing constraints.: 100%|\u001b[38;2;128;191;255m██████████\u001b[0m| 25/25 [00:00<00:00, 169.57it/s]\n",
      "Writing continuous variables.: 100%|\u001b[38;2;128;191;255m██████████\u001b[0m| 11/11 [00:00<00:00, 430.30it/s]"
     ]
    },
    {
     "name": "stdout",
     "output_type": "stream",
     "text": [
      "Set parameter TokenServer to value \"gurobi-license.pypsa.org\"\n",
      "Read LP format model from file /tmp/linopy-problem-818zpjs8.lp\n"
     ]
    },
    {
     "name": "stderr",
     "output_type": "stream",
     "text": [
      "\n"
     ]
    },
    {
     "name": "stdout",
     "output_type": "stream",
     "text": [
      "Reading time = 0.02 seconds\n",
      "obj: 32126 rows, 14606 columns, 62068 nonzeros\n",
      "Set parameter LogToConsole to value 0\n"
     ]
    },
    {
     "name": "stderr",
     "output_type": "stream",
     "text": [
      "Writing constraints.: 100%|\u001b[38;2;128;191;255m██████████\u001b[0m| 25/25 [00:00<00:00, 181.41it/s]\n",
      "Writing continuous variables.: 100%|\u001b[38;2;128;191;255m██████████\u001b[0m| 11/11 [00:00<00:00, 472.93it/s]"
     ]
    },
    {
     "name": "stdout",
     "output_type": "stream",
     "text": [
      "Set parameter TokenServer to value \"gurobi-license.pypsa.org\"\n"
     ]
    },
    {
     "name": "stderr",
     "output_type": "stream",
     "text": [
      "\n"
     ]
    },
    {
     "name": "stdout",
     "output_type": "stream",
     "text": [
      "Read LP format model from file /tmp/linopy-problem-j6fieo0t.lp\n",
      "Reading time = 0.02 seconds\n",
      "obj: 27550 rows, 12526 columns, 53225 nonzeros\n",
      "Set parameter LogToConsole to value 0\n"
     ]
    },
    {
     "name": "stderr",
     "output_type": "stream",
     "text": [
      "Writing constraints.: 100%|\u001b[38;2;128;191;255m██████████\u001b[0m| 25/25 [00:00<00:00, 185.49it/s]\n",
      "Writing continuous variables.: 100%|\u001b[38;2;128;191;255m██████████\u001b[0m| 11/11 [00:00<00:00, 465.10it/s]"
     ]
    },
    {
     "name": "stdout",
     "output_type": "stream",
     "text": [
      "Set parameter TokenServer to value \"gurobi-license.pypsa.org\"\n"
     ]
    },
    {
     "name": "stderr",
     "output_type": "stream",
     "text": [
      "\n"
     ]
    },
    {
     "name": "stdout",
     "output_type": "stream",
     "text": [
      "Read LP format model from file /tmp/linopy-problem-iy9o56nn.lp\n",
      "Reading time = 0.02 seconds\n",
      "obj: 24096 rows, 10956 columns, 46588 nonzeros\n",
      "Set parameter LogToConsole to value 0\n",
      "Set parameter TokenServer to value \"gurobi-license.pypsa.org\"\n",
      "Read LP format model from file /tmp/linopy-problem-o6fird7l.lp\n",
      "Reading time = 0.02 seconds\n",
      "obj: 21434 rows, 9746 columns, 41420 nonzeros\n",
      "Set parameter LogToConsole to value 0\n",
      "Set parameter TokenServer to value \"gurobi-license.pypsa.org\"\n",
      "Read LP format model from file /tmp/linopy-problem-wnyyl3hk.lp\n",
      "Reading time = 0.02 seconds\n",
      "obj: 19278 rows, 8766 columns, 37242 nonzeros\n",
      "Set parameter LogToConsole to value 0\n",
      "Set parameter TokenServer to value \"gurobi-license.pypsa.org\"\n",
      "Read LP format model from file /tmp/linopy-problem-5fcuuzh4.lp\n",
      "Reading time = 0.02 seconds\n",
      "obj: 17540 rows, 7976 columns, 33888 nonzeros\n",
      "Set parameter LogToConsole to value 0\n"
     ]
    }
   ],
   "source": [
    "sampling_n = {1: n_hourly}\n",
    "sampling_s = {1: s_hourly}\n",
    "\n",
    "for resolution in range(2, 12):\n",
    "    n = template_n.copy()\n",
    "\n",
    "    # set the sampled snapshots (time series are automatically reduced)\n",
    "    n.set_snapshots(n.snapshots[::resolution])\n",
    "    n.snapshot_weightings.loc[:, :] = resolution\n",
    "\n",
    "    _, s = time_it(n.optimize, solver_name=SOLVER, log_to_console=False)\n",
    "\n",
    "    sampling_n[resolution] = n\n",
    "    sampling_s[resolution] = s"
   ]
  },
  {
   "cell_type": "markdown",
   "id": "7767da0f",
   "metadata": {},
   "source": [
    "## Averaging\n",
    "\n",
    "The averaging approach also has equal snapshot durations, but instead of selecting data from every $N$-th snapshots, we average time series data for every $N$ snapshots. This means that the resulting model has $N$ times fewer snapshots, but each snapshot represents the average of $N$ original snapshots. Again, we need to adjust the snapshot weightings accordingly."
   ]
  },
  {
   "cell_type": "code",
   "execution_count": 5,
   "id": "1589ff92",
   "metadata": {},
   "outputs": [
    {
     "name": "stderr",
     "output_type": "stream",
     "text": [
      "Writing constraints.: 100%|\u001b[38;2;128;191;255m██████████\u001b[0m| 25/25 [00:00<00:00, 74.23it/s] \n",
      "Writing continuous variables.: 100%|\u001b[38;2;128;191;255m██████████\u001b[0m| 11/11 [00:00<00:00, 194.26it/s]"
     ]
    },
    {
     "name": "stdout",
     "output_type": "stream",
     "text": [
      "Set parameter TokenServer to value \"gurobi-license.pypsa.org\"\n",
      "Read LP format model from file /tmp/linopy-problem-iogqv45m.lp\n",
      "Reading time = 0.07 seconds\n",
      "obj: 96366 rows, 43806 columns, 186415 nonzeros\n",
      "Set parameter LogToConsole to value 0\n"
     ]
    },
    {
     "name": "stderr",
     "output_type": "stream",
     "text": [
      "\n",
      "Writing constraints.: 100%|\u001b[38;2;128;191;255m██████████\u001b[0m| 25/25 [00:00<00:00, 105.63it/s]\n",
      "Writing continuous variables.: 100%|\u001b[38;2;128;191;255m██████████\u001b[0m| 11/11 [00:00<00:00, 288.05it/s]"
     ]
    },
    {
     "name": "stdout",
     "output_type": "stream",
     "text": [
      "Set parameter TokenServer to value \"gurobi-license.pypsa.org\"\n",
      "Read LP format model from file /tmp/linopy-problem-d_hmuits.lp\n"
     ]
    },
    {
     "name": "stderr",
     "output_type": "stream",
     "text": [
      "\n"
     ]
    },
    {
     "name": "stdout",
     "output_type": "stream",
     "text": [
      "Reading time = 0.05 seconds\n",
      "obj: 64246 rows, 29206 columns, 124352 nonzeros\n",
      "Set parameter LogToConsole to value 0\n"
     ]
    },
    {
     "name": "stderr",
     "output_type": "stream",
     "text": [
      "Writing constraints.: 100%|\u001b[38;2;128;191;255m██████████\u001b[0m| 25/25 [00:00<00:00, 119.57it/s]\n",
      "Writing continuous variables.: 100%|\u001b[38;2;128;191;255m██████████\u001b[0m| 11/11 [00:00<00:00, 351.53it/s]"
     ]
    },
    {
     "name": "stdout",
     "output_type": "stream",
     "text": [
      "Set parameter TokenServer to value \"gurobi-license.pypsa.org\"\n"
     ]
    },
    {
     "name": "stderr",
     "output_type": "stream",
     "text": [
      "\n"
     ]
    },
    {
     "name": "stdout",
     "output_type": "stream",
     "text": [
      "Read LP format model from file /tmp/linopy-problem-l1hgrqfx.lp\n",
      "Reading time = 0.03 seconds\n",
      "obj: 48186 rows, 21906 columns, 93397 nonzeros\n",
      "Set parameter LogToConsole to value 0\n"
     ]
    },
    {
     "name": "stderr",
     "output_type": "stream",
     "text": [
      "Writing constraints.: 100%|\u001b[38;2;128;191;255m██████████\u001b[0m| 25/25 [00:00<00:00, 149.18it/s]\n",
      "Writing continuous variables.: 100%|\u001b[38;2;128;191;255m██████████\u001b[0m| 11/11 [00:00<00:00, 372.92it/s]\n"
     ]
    },
    {
     "name": "stdout",
     "output_type": "stream",
     "text": [
      "Set parameter TokenServer to value \"gurobi-license.pypsa.org\"\n",
      "Read LP format model from file /tmp/linopy-problem-i8n_qbdo.lp\n",
      "Reading time = 0.03 seconds\n",
      "obj: 38550 rows, 17526 columns, 74771 nonzeros\n",
      "Set parameter LogToConsole to value 0\n"
     ]
    },
    {
     "name": "stderr",
     "output_type": "stream",
     "text": [
      "Writing constraints.: 100%|\u001b[38;2;128;191;255m██████████\u001b[0m| 25/25 [00:00<00:00, 164.75it/s]\n",
      "Writing continuous variables.: 100%|\u001b[38;2;128;191;255m██████████\u001b[0m| 11/11 [00:00<00:00, 484.16it/s]"
     ]
    },
    {
     "name": "stdout",
     "output_type": "stream",
     "text": [
      "Set parameter TokenServer to value \"gurobi-license.pypsa.org\"\n"
     ]
    },
    {
     "name": "stderr",
     "output_type": "stream",
     "text": [
      "\n"
     ]
    },
    {
     "name": "stdout",
     "output_type": "stream",
     "text": [
      "Read LP format model from file /tmp/linopy-problem-_2flj7ub.lp\n",
      "Reading time = 0.02 seconds\n",
      "obj: 32126 rows, 14606 columns, 62364 nonzeros\n",
      "Set parameter LogToConsole to value 0\n"
     ]
    },
    {
     "name": "stderr",
     "output_type": "stream",
     "text": [
      "Writing constraints.: 100%|\u001b[38;2;128;191;255m██████████\u001b[0m| 25/25 [00:00<00:00, 185.15it/s]\n",
      "Writing continuous variables.: 100%|\u001b[38;2;128;191;255m██████████\u001b[0m| 11/11 [00:00<00:00, 503.03it/s]"
     ]
    },
    {
     "name": "stdout",
     "output_type": "stream",
     "text": [
      "Set parameter TokenServer to value \"gurobi-license.pypsa.org\"\n",
      "Read LP format model from file /tmp/linopy-problem-zi7d_0tx.lp\n"
     ]
    },
    {
     "name": "stderr",
     "output_type": "stream",
     "text": [
      "\n"
     ]
    },
    {
     "name": "stdout",
     "output_type": "stream",
     "text": [
      "Reading time = 0.02 seconds\n",
      "obj: 27550 rows, 12526 columns, 53538 nonzeros\n",
      "Set parameter LogToConsole to value 0\n"
     ]
    },
    {
     "name": "stderr",
     "output_type": "stream",
     "text": [
      "Writing constraints.: 100%|\u001b[38;2;128;191;255m██████████\u001b[0m| 25/25 [00:00<00:00, 194.59it/s]\n",
      "Writing continuous variables.: 100%|\u001b[38;2;128;191;255m██████████\u001b[0m| 11/11 [00:00<00:00, 553.73it/s]"
     ]
    },
    {
     "name": "stdout",
     "output_type": "stream",
     "text": [
      "Set parameter TokenServer to value \"gurobi-license.pypsa.org\"\n",
      "Read LP format model from file /tmp/linopy-problem-1j0p71rh.lp\n"
     ]
    },
    {
     "name": "stderr",
     "output_type": "stream",
     "text": [
      "\n"
     ]
    },
    {
     "name": "stdout",
     "output_type": "stream",
     "text": [
      "Reading time = 0.02 seconds\n",
      "obj: 24096 rows, 10956 columns, 46953 nonzeros\n",
      "Set parameter LogToConsole to value 0\n",
      "Set parameter TokenServer to value \"gurobi-license.pypsa.org\"\n",
      "Read LP format model from file /tmp/linopy-problem-fmq2rnlg.lp\n",
      "Reading time = 0.02 seconds\n",
      "obj: 21434 rows, 9746 columns, 41730 nonzeros\n",
      "Set parameter LogToConsole to value 0\n",
      "Set parameter TokenServer to value \"gurobi-license.pypsa.org\"\n",
      "Read LP format model from file /tmp/linopy-problem-ogtkj8uz.lp\n",
      "Reading time = 0.01 seconds\n",
      "obj: 19278 rows, 8766 columns, 37563 nonzeros\n",
      "Set parameter LogToConsole to value 0\n",
      "Set parameter TokenServer to value \"gurobi-license.pypsa.org\"\n",
      "Read LP format model from file /tmp/linopy-problem-jz0znxj7.lp\n",
      "Reading time = 0.01 seconds\n",
      "obj: 17540 rows, 7976 columns, 34205 nonzeros\n",
      "Set parameter LogToConsole to value 0\n"
     ]
    }
   ],
   "source": [
    "averaging_n = {1: n_hourly}\n",
    "averaging_s = {1: s_hourly}\n",
    "\n",
    "for resolution in range(2, 12):\n",
    "    n = template_n.copy()\n",
    "\n",
    "    # resample the time series data by averaging\n",
    "    n.loads_t.p_set = n.loads_t.p_set.resample(f\"{resolution}h\").mean()\n",
    "    n.generators_t.p_max_pu = n.generators_t.p_max_pu.resample(f\"{resolution}h\").mean()\n",
    "\n",
    "    # set the new snapshtos and adjusted snapshot weightings\n",
    "    n.set_snapshots(n.snapshots[::resolution])\n",
    "    n.snapshot_weightings.loc[:, :] = resolution\n",
    "\n",
    "    _, s = time_it(n.optimize, solver_name=SOLVER, log_to_console=False)\n",
    "\n",
    "    averaging_n[resolution] = n\n",
    "    averaging_s[resolution] = s"
   ]
  },
  {
   "cell_type": "markdown",
   "id": "3a6677b7",
   "metadata": {},
   "source": [
    "## Segmentation\n",
    "\n",
    "The segmentation approach is more complex. It uses a separate library called [`tsam`](https://tsam.readthedocs.io/en/latest/) to cluster the snapshots into segments of varying lengths. The sequence of snapshots is preserved as segments are only formed from neighbouring snapshots based on their similarity. For measuring similarity, it is advisable to normalise the time series data. This approach promises to capture the temporal patterns more effectively, as it can opt for higher resolution during periods of high variability and lower resolution during periods with low variability. The snapshot weightings are adjusted based on the number of snapshots in each segment."
   ]
  },
  {
   "cell_type": "code",
   "execution_count": 6,
   "id": "46398e54",
   "metadata": {},
   "outputs": [
    {
     "name": "stderr",
     "output_type": "stream",
     "text": [
      "Writing constraints.: 100%|\u001b[38;2;128;191;255m██████████\u001b[0m| 25/25 [00:00<00:00, 76.07it/s] \n",
      "Writing continuous variables.: 100%|\u001b[38;2;128;191;255m██████████\u001b[0m| 11/11 [00:00<00:00, 209.28it/s]"
     ]
    },
    {
     "name": "stdout",
     "output_type": "stream",
     "text": [
      "Set parameter TokenServer to value \"gurobi-license.pypsa.org\"\n"
     ]
    },
    {
     "name": "stderr",
     "output_type": "stream",
     "text": [
      "\n"
     ]
    },
    {
     "name": "stdout",
     "output_type": "stream",
     "text": [
      "Read LP format model from file /tmp/linopy-problem-b7wcqb1_.lp\n",
      "Reading time = 0.07 seconds\n",
      "obj: 96366 rows, 43806 columns, 187272 nonzeros\n",
      "Set parameter LogToConsole to value 0\n"
     ]
    },
    {
     "name": "stderr",
     "output_type": "stream",
     "text": [
      "Writing constraints.: 100%|\u001b[38;2;128;191;255m██████████\u001b[0m| 25/25 [00:00<00:00, 99.39it/s] \n",
      "Writing continuous variables.: 100%|\u001b[38;2;128;191;255m██████████\u001b[0m| 11/11 [00:00<00:00, 299.36it/s]"
     ]
    },
    {
     "name": "stdout",
     "output_type": "stream",
     "text": [
      "Set parameter TokenServer to value \"gurobi-license.pypsa.org\"\n"
     ]
    },
    {
     "name": "stderr",
     "output_type": "stream",
     "text": [
      "\n"
     ]
    },
    {
     "name": "stdout",
     "output_type": "stream",
     "text": [
      "Read LP format model from file /tmp/linopy-problem-f2ooicrt.lp\n",
      "Reading time = 0.04 seconds\n",
      "obj: 64246 rows, 29206 columns, 125094 nonzeros\n",
      "Set parameter LogToConsole to value 0\n"
     ]
    },
    {
     "name": "stderr",
     "output_type": "stream",
     "text": [
      "Writing constraints.: 100%|\u001b[38;2;128;191;255m██████████\u001b[0m| 25/25 [00:00<00:00, 123.81it/s]\n",
      "Writing continuous variables.: 100%|\u001b[38;2;128;191;255m██████████\u001b[0m| 11/11 [00:00<00:00, 277.97it/s]"
     ]
    },
    {
     "name": "stdout",
     "output_type": "stream",
     "text": [
      "Set parameter TokenServer to value \"gurobi-license.pypsa.org\"\n",
      "Read LP format model from file /tmp/linopy-problem-1sut6q1p.lp\n"
     ]
    },
    {
     "name": "stderr",
     "output_type": "stream",
     "text": [
      "\n"
     ]
    },
    {
     "name": "stdout",
     "output_type": "stream",
     "text": [
      "Reading time = 0.03 seconds\n",
      "obj: 48186 rows, 21906 columns, 93920 nonzeros\n",
      "Set parameter LogToConsole to value 0\n"
     ]
    },
    {
     "name": "stderr",
     "output_type": "stream",
     "text": [
      "Writing constraints.: 100%|\u001b[38;2;128;191;255m██████████\u001b[0m| 25/25 [00:00<00:00, 140.36it/s]\n",
      "Writing continuous variables.: 100%|\u001b[38;2;128;191;255m██████████\u001b[0m| 11/11 [00:00<00:00, 399.50it/s]"
     ]
    },
    {
     "name": "stdout",
     "output_type": "stream",
     "text": [
      "Set parameter TokenServer to value \"gurobi-license.pypsa.org\"\n",
      "Read LP format model from file /tmp/linopy-problem-8f2a1ydp.lp\n",
      "Reading time = 0.03 seconds\n",
      "obj: 38550 rows, 17526 columns, 75193 nonzeros\n",
      "Set parameter LogToConsole to value 0\n"
     ]
    },
    {
     "name": "stderr",
     "output_type": "stream",
     "text": [
      "\n",
      "Writing constraints.: 100%|\u001b[38;2;128;191;255m██████████\u001b[0m| 25/25 [00:00<00:00, 158.22it/s]\n",
      "Writing continuous variables.: 100%|\u001b[38;2;128;191;255m██████████\u001b[0m| 11/11 [00:00<00:00, 465.57it/s]"
     ]
    },
    {
     "name": "stdout",
     "output_type": "stream",
     "text": [
      "Set parameter TokenServer to value \"gurobi-license.pypsa.org\"\n",
      "Read LP format model from file /tmp/linopy-problem-1wobvj0s.lp\n"
     ]
    },
    {
     "name": "stderr",
     "output_type": "stream",
     "text": [
      "\n"
     ]
    },
    {
     "name": "stdout",
     "output_type": "stream",
     "text": [
      "Reading time = 0.02 seconds\n",
      "obj: 32126 rows, 14606 columns, 62672 nonzeros\n",
      "Set parameter LogToConsole to value 0\n"
     ]
    },
    {
     "name": "stderr",
     "output_type": "stream",
     "text": [
      "Writing constraints.: 100%|\u001b[38;2;128;191;255m██████████\u001b[0m| 25/25 [00:00<00:00, 161.84it/s]\n",
      "Writing continuous variables.: 100%|\u001b[38;2;128;191;255m██████████\u001b[0m| 11/11 [00:00<00:00, 509.79it/s]"
     ]
    },
    {
     "name": "stdout",
     "output_type": "stream",
     "text": [
      "Set parameter TokenServer to value \"gurobi-license.pypsa.org\"\n"
     ]
    },
    {
     "name": "stderr",
     "output_type": "stream",
     "text": [
      "\n"
     ]
    },
    {
     "name": "stdout",
     "output_type": "stream",
     "text": [
      "Read LP format model from file /tmp/linopy-problem-wfrmmdor.lp\n",
      "Reading time = 0.02 seconds\n",
      "obj: 27528 rows, 12516 columns, 53707 nonzeros\n",
      "Set parameter LogToConsole to value 0\n"
     ]
    },
    {
     "name": "stderr",
     "output_type": "stream",
     "text": [
      "Writing constraints.: 100%|\u001b[38;2;128;191;255m██████████\u001b[0m| 25/25 [00:00<00:00, 195.83it/s]\n",
      "Writing continuous variables.: 100%|\u001b[38;2;128;191;255m██████████\u001b[0m| 11/11 [00:00<00:00, 530.71it/s]"
     ]
    },
    {
     "name": "stdout",
     "output_type": "stream",
     "text": [
      "Set parameter TokenServer to value \"gurobi-license.pypsa.org\"\n",
      "Read LP format model from file /tmp/linopy-problem-miikvbmv.lp\n"
     ]
    },
    {
     "name": "stderr",
     "output_type": "stream",
     "text": [
      "\n"
     ]
    },
    {
     "name": "stdout",
     "output_type": "stream",
     "text": [
      "Reading time = 0.02 seconds\n",
      "obj: 24096 rows, 10956 columns, 47017 nonzeros\n",
      "Set parameter LogToConsole to value 0\n",
      "Set parameter TokenServer to value \"gurobi-license.pypsa.org\"\n",
      "Read LP format model from file /tmp/linopy-problem-ytbxjdmv.lp\n",
      "Reading time = 0.02 seconds\n",
      "obj: 21412 rows, 9736 columns, 41782 nonzeros\n",
      "Set parameter LogToConsole to value 0\n",
      "Set parameter TokenServer to value \"gurobi-license.pypsa.org\"\n",
      "Read LP format model from file /tmp/linopy-problem-n6hsffz9.lp\n",
      "Reading time = 0.01 seconds\n",
      "obj: 19278 rows, 8766 columns, 37625 nonzeros\n",
      "Set parameter LogToConsole to value 0\n",
      "Set parameter TokenServer to value \"gurobi-license.pypsa.org\"\n",
      "Read LP format model from file /tmp/linopy-problem-duoyv2z7.lp\n",
      "Reading time = 0.01 seconds\n",
      "obj: 17518 rows, 7966 columns, 34194 nonzeros\n",
      "Set parameter LogToConsole to value 0\n"
     ]
    }
   ],
   "source": [
    "segmentation_n = {1: n_hourly}\n",
    "segmentation_s = {1: s_hourly}\n",
    "\n",
    "for resolution in range(2, 12):\n",
    "    n = template_n.copy()\n",
    "\n",
    "    # calculate number of segments equivalent to resolution\n",
    "    segments = int(8760 / resolution)\n",
    "\n",
    "    # concatenate and normalize all time series with min-max normalization\n",
    "    df = pd.concat([n.generators_t.p_max_pu, n.loads_t.p_set], axis=1)\n",
    "    df_norm = (df - df.min()) / (df.max() - df.min())\n",
    "\n",
    "    # use `tsam` to run segmentation clustering algorithm\n",
    "    agg = tsam.TimeSeriesAggregation(\n",
    "        df_norm,\n",
    "        hoursPerPeriod=len(df_norm),\n",
    "        noTypicalPeriods=1,\n",
    "        noSegments=segments,\n",
    "        segmentation=True,\n",
    "        solver=SOLVER,\n",
    "    )\n",
    "    agg = agg.createTypicalPeriods()\n",
    "\n",
    "    # translate segments into time stamps and calculate new weightings\n",
    "    weightings = agg.index.get_level_values(\"Segment Duration\")\n",
    "    offsets = np.insert(np.cumsum(weightings[:-1]), 0, 0)\n",
    "    weightings = n.snapshot_weightings.loc[n.snapshots[offsets]].mul(weightings, axis=0)\n",
    "\n",
    "    # aggregate the hourly time series by averaging over the segments\n",
    "    mapping = (\n",
    "        pd.Series(weightings.index, index=weightings.index).reindex(n.snapshots).ffill()\n",
    "    )\n",
    "    n.generators_t.p_max_pu = n.generators_t.p_max_pu.groupby(mapping).mean()\n",
    "    n.loads_t.p_set = n.loads_t.p_set.groupby(mapping).mean()\n",
    "\n",
    "    # set new segmented snapshots and adjust weightings\n",
    "    n.set_snapshots(weightings.index)\n",
    "    n.snapshot_weightings = weightings\n",
    "\n",
    "    # run optimization\n",
    "    _, s = time_it(n.optimize, solver_name=SOLVER, log_to_console=False)\n",
    "\n",
    "    segmentation_n[resolution] = n\n",
    "    segmentation_s[resolution] = s"
   ]
  },
  {
   "cell_type": "markdown",
   "id": "823ce5e4",
   "metadata": {},
   "source": [
    "Now before we go ahead with the evaluation of the different approaches, let's quickly glance at the distribution of snapshot durations obtained from the segmentation approach for a resolution equivalent to a 3-hourly model. We can see quite some variability in the segment length."
   ]
  },
  {
   "cell_type": "code",
   "execution_count": 7,
   "id": "523ef52d",
   "metadata": {},
   "outputs": [
    {
     "data": {
      "text/plain": [
       "<Axes: xlabel='snapshot duration [h]', ylabel='snapshots [number]'>"
      ]
     },
     "execution_count": 7,
     "metadata": {},
     "output_type": "execute_result"
    },
    {
     "data": {
      "image/png": "[encoded data removed]",
      "text/plain": [
       "<Figure size 640x480 with 1 Axes>"
      ]
     },
     "metadata": {},
     "output_type": "display_data"
    }
   ],
   "source": [
    "segmentation_n[3].snapshot_weightings.generators.value_counts().sort_index(\n",
    "    ascending=True\n",
    ").plot.bar(ylabel=\"snapshots [number]\", xlabel=\"snapshot duration [h]\")"
   ]
  },
  {
   "cell_type": "markdown",
   "id": "dc2e9675",
   "metadata": {},
   "source": [
    "## Evaluation\n",
    "\n",
    "Let's start our evaluation with a look at the solving times. We can see that across all approaches, the solving times quickly decay, especially as we go from hourly to 2-hourly resolved models and decrease less substantially afterwards."
   ]
  },
  {
   "cell_type": "code",
   "execution_count": 8,
   "id": "f66f166b",
   "metadata": {},
   "outputs": [
    {
     "data": {
      "text/plain": [
       "<Axes: xlabel='resolution [h]', ylabel='time [s]'>"
      ]
     },
     "execution_count": 8,
     "metadata": {},
     "output_type": "execute_result"
    },
    {
     "data": {
      "image/png": "[encoded data removed]",
      "text/plain": [
       "<Figure size 640x480 with 1 Axes>"
      ]
     },
     "metadata": {},
     "output_type": "display_data"
    }
   ],
   "source": [
    "pd.Series(sampling_s).plot(label=\"sampling\", legend=True)\n",
    "pd.Series(averaging_s).plot(label=\"averaging\", legend=True)\n",
    "pd.Series(segmentation_s).plot(\n",
    "    label=\"segmentation\", ylabel=\"time [s]\", xlabel=\"resolution [h]\", legend=True\n",
    ")"
   ]
  },
  {
   "cell_type": "markdown",
   "id": "98287aea",
   "metadata": {},
   "source": [
    "Furthermore, we compare the relative error in total system costs compared to the hourly resolved model. We can see how the segmentation approach remains more stable than the other two approaches, especially for lower resolutions. Even with 11-hourly equivalent resolution, the segmentation approach only has a relative error of -1% compared to the hourly resolved model (i.e. it appears to be 1% cheaper). Similar patterns can be observed for the relative error in the total installed capacity of solar and batteries, two technologies that are particularly sensitive to the temporal resolution of the model."
   ]
  },
  {
   "cell_type": "code",
   "execution_count": 9,
   "id": "e4848f91",
   "metadata": {},
   "outputs": [
    {
     "data": {
      "text/plain": [
       "<Axes: xlabel='resolution [h]', ylabel='relative objective error [%]'>"
      ]
     },
     "execution_count": 9,
     "metadata": {},
     "output_type": "execute_result"
    },
    {
     "data": {
      "image/png": "[encoded data removed]",
      "text/plain": [
       "<Figure size 640x480 with 1 Axes>"
      ]
     },
     "metadata": {},
     "output_type": "display_data"
    }
   ],
   "source": [
    "def tsc(n):\n",
    "    return (n.statistics.capex().sum() + n.statistics.opex().sum()) / 1e9\n",
    "\n",
    "\n",
    "pd.concat(\n",
    "    [\n",
    "        pd.Series({(\"sampling\", res): tsc(n) for res, n in sampling_n.items()}),\n",
    "        pd.Series({(\"averaging\", res): tsc(n) for res, n in averaging_n.items()}),\n",
    "        pd.Series({(\"segmentation\", res): tsc(n) for res, n in segmentation_n.items()}),\n",
    "    ]\n",
    ").unstack(0).div(tsc(n_hourly)).sub(1).mul(100).plot(\n",
    "    ylabel=\"relative objective error [%]\", xlabel=\"resolution [h]\", legend=True\n",
    ")"
   ]
  },
  {
   "cell_type": "code",
   "execution_count": null,
   "id": "833a6780",
   "metadata": {},
   "outputs": [
    {
     "data": {
      "text/plain": [
       "<Axes: xlabel='resolution [h]', ylabel='relative solar capacity error [%]'>"
      ]
     },
     "execution_count": 245,
     "metadata": {},
     "output_type": "execute_result"
    },
    {
     "data": {
      "image/png": "[encoded data removed]",
      "text/plain": [
       "<Figure size 640x480 with 1 Axes>"
      ]
     },
     "metadata": {},
     "output_type": "display_data"
    }
   ],
   "source": [
    "def solar(n):\n",
    "    return n.generators.loc[\"solar\", \"p_nom_opt\"]\n",
    "\n",
    "\n",
    "pd.concat(\n",
    "    [\n",
    "        pd.Series({(\"sampling\", res): solar(n) for res, n in sampling_n.items()}),\n",
    "        pd.Series({(\"averaging\", res): solar(n) for res, n in averaging_n.items()}),\n",
    "        pd.Series(\n",
    "            {(\"segmentation\", res): solar(n) for res, n in segmentation_n.items()}\n",
    "        ),\n",
    "    ]\n",
    ").unstack(0).div(solar(n_hourly)).sub(1).mul(100).plot(\n",
    "    ylabel=\"relative solar capacity error [%]\", xlabel=\"resolution [h]\", legend=True\n",
    ")"
   ]
  },
  {
   "cell_type": "code",
   "execution_count": null,
   "id": "dba10074",
   "metadata": {},
   "outputs": [
    {
     "data": {
      "text/plain": [
       "<Axes: xlabel='resolution [h]', ylabel='relative battery capacity error [%]'>"
      ]
     },
     "execution_count": 10,
     "metadata": {},
     "output_type": "execute_result"
    },
    {
     "data": {
      "image/png": "[encoded data removed]",
      "text/plain": [
       "<Figure size 640x480 with 1 Axes>"
      ]
     },
     "metadata": {},
     "output_type": "display_data"
    }
   ],
   "source": [
    "def battery(n):\n",
    "    return n.storage_units.loc[\"battery storage\", \"p_nom_opt\"]\n",
    "\n",
    "\n",
    "pd.concat(\n",
    "    [\n",
    "        pd.Series({(\"sampling\", res): battery(n) for res, n in sampling_n.items()}),\n",
    "        pd.Series({(\"averaging\", res): battery(n) for res, n in averaging_n.items()}),\n",
    "        pd.Series(\n",
    "            {(\"segmentation\", res): battery(n) for res, n in segmentation_n.items()}\n",
    "        ),\n",
    "    ]\n",
    ").unstack(0).div(battery(n_hourly)).sub(1).mul(100).plot(\n",
    "    ylabel=\"relative battery capacity error [%]\", xlabel=\"resolution [h]\", legend=True\n",
    ")"
   ]
  },
  {
   "cell_type": "code",
   "execution_count": null,
   "id": "384602e1",
   "metadata": {},
   "outputs": [],
   "source": []
  }
 ],
 "metadata": {
  "kernelspec": {
   "display_name": "pypsa (3.13.2)",
   "language": "python",
   "name": "python3"
  },
  "language_info": {
   "codemirror_mode": {
    "name": "ipython",
    "version": 3
   },
   "file_extension": ".py",
   "mimetype": "text/x-python",
   "name": "python",
   "nbconvert_exporter": "python",
   "pygments_lexer": "ipython3",
   "version": "3.13.2"
  }
 },
 "nbformat": 4,
 "nbformat_minor": 5
}
