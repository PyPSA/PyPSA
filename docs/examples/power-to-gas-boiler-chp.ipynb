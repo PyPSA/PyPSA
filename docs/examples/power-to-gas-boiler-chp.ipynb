{
 "cells": [
  {
   "cell_type": "code",
   "execution_count": null,
   "metadata": {
    "tags": [
     "injected-warnings",
     "hide-cell"
    ]
   },
   "outputs": [],
   "source": [
    "# General notebook settings\n",
    "import warnings\n",
    "\n",
    "warnings.filterwarnings(\"error\", category=DeprecationWarning)"
   ]
  },
  {
   "cell_type": "markdown",
   "metadata": {},
   "source": [
    "# Extraction-Condensing CHP\n",
    "\n",
    "This example demonstrates how to model an extraction-condensing Combined Heat and Power (CHP) plant with flexible heat-power ratios.\n",
    "For an example of a CHP plant with a fixed heat-power ratio, see the [backpressure CHP example]().\n",
    "\n",
    "In this example, a location has an electric, gas, and heat bus. The primary energy source is wind power, which can be converted to gas. The gas can be stored to convert into electricity and/or heat when needed, using either a boiler or a CHP unit."
   ]
  },
  {
   "cell_type": "code",
   "execution_count": null,
   "metadata": {},
   "outputs": [],
   "source": [
    "import matplotlib.pyplot as plt\n",
    "import numpy as np\n",
    "import pandas as pd\n",
    "\n",
    "import pypsa"
   ]
  },
  {
   "cell_type": "markdown",
   "metadata": {},
   "source": [
    "## CHP parametrisation\n",
    "\n",
    "The setup roughly follows [Grohnheit (1993)](http://www.sciencedirect.com/science/article/pii/030142159390282K).\n",
    "We define the ratio between maximum heat and power output of the CHP unit as `nom_r`, the backpressure limit as `c_m`, and the marginal loss for each additional generation of heat as `c_v`."
   ]
  },
  {
   "cell_type": "code",
   "execution_count": null,
   "metadata": {},
   "outputs": [],
   "source": [
    "nom_r = 1.0\n",
    "c_m = 0.75\n",
    "c_v = 0.15"
   ]
  },
  {
   "cell_type": "markdown",
   "metadata": {},
   "source": [
    "The feasible operational space of the CHP unit is shown in the graph below:"
   ]
  },
  {
   "cell_type": "code",
   "execution_count": null,
   "metadata": {},
   "outputs": [],
   "source": [
    "fig, ax = plt.subplots()\n",
    "\n",
    "t = 0.01\n",
    "ph = np.arange(0, 1.0001, t)\n",
    "\n",
    "ax.plot(ph, c_m * ph, color=\"k\")\n",
    "ax.set_xlabel(\"P_heat_out\")\n",
    "ax.set_ylabel(\"P_elec_out\")\n",
    "ax.grid(True)\n",
    "\n",
    "ax.set_xlim([0, 1.1])\n",
    "ax.set_ylim([0, 1.1])\n",
    "ax.text(0.1, 0.7, \"Allowed output\", color=\"gray\")\n",
    "ax.plot(ph, 1 - c_v * ph, color=\"k\")\n",
    "\n",
    "for i in range(1, 10):\n",
    "    k = 0.1 * i\n",
    "    x = np.arange(0, k / (c_m + c_v), t)\n",
    "    ax.plot(x, k - c_v * x, color=\"orange\", linestyle=\"--\", linewidth=0.75)\n",
    "\n",
    "ax.text(0.05, 0.41, \"iso-fuel-lines\", color=\"orange\", rotation=-7)\n",
    "ax.fill_between(ph, c_m * ph, 1 - c_v * ph, facecolor=\"#ddd\")"
   ]
  },
  {
   "cell_type": "markdown",
   "metadata": {},
   "source": [
    "## Optimisation\n",
    "\n",
    "First, we add the power and gas sectors with a wind generator, a power-to-gas unit, a gas storage unit, and the turbine of the CHP unit:"
   ]
  },
  {
   "cell_type": "code",
   "execution_count": null,
   "metadata": {},
   "outputs": [],
   "source": [
    "n = pypsa.Network()\n",
    "n.set_snapshots(pd.date_range(\"2025-01-01 00:00\", \"2025-01-01 03:00\", freq=\"h\"))\n",
    "\n",
    "n.add(\"Bus\", \"0 power\", carrier=\"AC\")\n",
    "n.add(\"Bus\", \"0 gas\", carrier=\"gas\")\n",
    "\n",
    "n.add(\"Carrier\", [\"wind\", \"gas\"])\n",
    "\n",
    "n.add(\n",
    "    \"Generator\",\n",
    "    \"wind turbine\",\n",
    "    bus=\"0 power\",\n",
    "    carrier=\"wind\",\n",
    "    p_nom_extendable=True,\n",
    "    p_max_pu=[0.0, 0.2, 0.7, 0.4],\n",
    "    capital_cost=1000,\n",
    ")\n",
    "\n",
    "n.add(\"Load\", \"load\", bus=\"0 power\", p_set=5)\n",
    "\n",
    "n.add(\n",
    "    \"Link\",\n",
    "    \"power-to-gas\",\n",
    "    bus0=\"0 power\",\n",
    "    bus1=\"0 gas\",\n",
    "    efficiency=0.6,\n",
    "    capital_cost=1000,\n",
    "    p_nom_extendable=True,\n",
    ")\n",
    "\n",
    "n.add(\n",
    "    \"Link\",\n",
    "    \"generator\",\n",
    "    bus0=\"0 gas\",\n",
    "    bus1=\"0 power\",\n",
    "    efficiency=0.468,\n",
    "    capital_cost=400,\n",
    "    p_nom_extendable=True,\n",
    ")\n",
    "\n",
    "n.add(\"Store\", \"gas depot\", bus=\"0 gas\", e_cyclic=True, e_nom=1000);"
   ]
  },
  {
   "cell_type": "markdown",
   "metadata": {},
   "source": [
    "Next, we add the heat sector with the boiler of the CHP unit."
   ]
  },
  {
   "cell_type": "code",
   "execution_count": null,
   "metadata": {},
   "outputs": [],
   "source": [
    "n.add(\"Bus\", \"0 heat\", carrier=\"heat\")\n",
    "\n",
    "n.add(\"Carrier\", \"heat\")\n",
    "\n",
    "n.add(\"Load\", \"heat load\", bus=\"0 heat\", p_set=10)\n",
    "\n",
    "n.add(\n",
    "    \"Link\",\n",
    "    \"boiler\",\n",
    "    bus0=\"0 gas\",\n",
    "    bus1=\"0 heat\",\n",
    "    efficiency=0.9,\n",
    "    capital_cost=300,\n",
    "    p_nom_extendable=True,\n",
    ")\n",
    "\n",
    "n.add(\"Store\", \"water tank\", bus=\"0 heat\", e_cyclic=True, e_nom_extendable=True)"
   ]
  },
  {
   "cell_type": "markdown",
   "metadata": {},
   "source": [
    "Next, we need to add some constraints that ensure that combination of turbine and boiler output of the CHP is operationally feasible.\n",
    "This is done by implementing the operational space shown in the graph above with a set of linear constraints."
   ]
  },
  {
   "cell_type": "code",
   "execution_count": null,
   "metadata": {},
   "outputs": [],
   "source": [
    "# Guarantees ISO fuel lines, i.e. fuel consumption p_b0 + p_g0 = constant along p_g1 + c_v p_b1 = constant (b=boiler, g=generator)\n",
    "n.links.at[\"boiler\", \"efficiency\"] = n.links.at[\"generator\", \"efficiency\"] / c_v\n",
    "boiler_eff = float(n.links.at[\"boiler\", \"efficiency\"])\n",
    "generator_eff = float(n.links.at[\"generator\", \"efficiency\"])\n",
    "\n",
    "m = n.optimize.create_model()\n",
    "\n",
    "p = m.variables[\"Link-p\"]\n",
    "p_nom = m.variables[\"Link-p_nom\"]\n",
    "\n",
    "# Guarantees heat output and electric output nominal powers are proportional\n",
    "m.add_constraints(\n",
    "    generator_eff * nom_r * p_nom.loc[\"generator\"] - boiler_eff * p_nom.loc[\"boiler\"]\n",
    "    == 0,\n",
    "    name=\"heat-power output proportionality\",\n",
    ")\n",
    "\n",
    "# Guarantees c_m p_b1 <= p_g1\n",
    "m.add_constraints(\n",
    "    p.loc[:, \"boiler\"] * c_m * boiler_eff - p.loc[:, \"generator\"] * generator_eff <= 0,\n",
    "    name=\"backpressure\",\n",
    ")\n",
    "\n",
    "# Guarantees p_g1 +c_v p_b1 <= p_g1_nom\n",
    "m.add_constraints(\n",
    "    p.loc[:, \"boiler\"] + p.loc[:, \"generator\"] - p_nom.loc[\"generator\"] <= 0,\n",
    "    name=\"top_iso_fuel_line\",\n",
    ")\n",
    "\n",
    "n.optimize.solve_model(log_to_console=False)"
   ]
  },
  {
   "cell_type": "code",
   "execution_count": null,
   "metadata": {},
   "outputs": [],
   "source": [
    "n.objective"
   ]
  },
  {
   "cell_type": "markdown",
   "metadata": {},
   "source": [
    "## Results\n",
    "\n",
    "Let's start by inspecting the optimised conversion capacities:"
   ]
  },
  {
   "cell_type": "code",
   "execution_count": null,
   "metadata": {},
   "outputs": [],
   "source": [
    "n.links.p_nom_opt"
   ]
  },
  {
   "cell_type": "markdown",
   "metadata": {},
   "source": [
    "The CHP boiler is dimensioned by the heat demand met in three hours when there is no wind supply.\n",
    "The CHP generator is set by the heat demand."
   ]
  },
  {
   "cell_type": "code",
   "execution_count": null,
   "metadata": {},
   "outputs": [],
   "source": [
    "display(4 * 10 / 3 / float(n.links.at[\"boiler\", \"efficiency\"]))\n",
    "display(28.490028 * 0.15)"
   ]
  },
  {
   "cell_type": "code",
   "execution_count": null,
   "metadata": {},
   "outputs": [],
   "source": [
    "n.links_t.p0.round(2)"
   ]
  },
  {
   "cell_type": "code",
   "execution_count": null,
   "metadata": {},
   "outputs": [],
   "source": [
    "n.links_t.p1.round(2)"
   ]
  },
  {
   "cell_type": "code",
   "execution_count": null,
   "metadata": {},
   "outputs": [],
   "source": [
    "pd.DataFrame({attr: n.stores_t[attr][\"gas depot\"] for attr in [\"p\", \"e\"]}).round(2)"
   ]
  },
  {
   "cell_type": "code",
   "execution_count": null,
   "metadata": {},
   "outputs": [],
   "source": [
    "pd.DataFrame({attr: n.stores_t[attr][\"water tank\"] for attr in [\"p\", \"e\"]}).round(2)"
   ]
  },
  {
   "cell_type": "code",
   "execution_count": null,
   "metadata": {},
   "outputs": [],
   "source": [
    "pd.DataFrame({attr: n.links_t[attr][\"boiler\"] for attr in [\"p0\", \"p1\"]}).round(2)"
   ]
  },
  {
   "cell_type": "markdown",
   "metadata": {},
   "source": [
    "Finally, let's calculate the overall efficiency of the CHP system."
   ]
  },
  {
   "cell_type": "code",
   "execution_count": null,
   "metadata": {},
   "outputs": [],
   "source": [
    "eta_elec = n.links.at[\"generator\", \"efficiency\"]\n",
    "\n",
    "r = 1 / c_m\n",
    "\n",
    "# P_h = r*P_e\n",
    "(1 + r) / ((1 / eta_elec) * (1 + c_v * r))"
   ]
  }
 ],
 "metadata": {
  "@webio": {
   "lastCommId": null,
   "lastKernelId": null
  },
  "kernelspec": {
   "display_name": "",
   "language": "python",
   "name": ""
  },
  "language_info": {
   "codemirror_mode": {
    "name": "ipython",
    "version": 3
   },
   "file_extension": ".py",
   "mimetype": "text/x-python",
   "name": "python",
   "nbconvert_exporter": "python",
   "pygments_lexer": "ipython3",
   "version": "3.13.2"
  }
 },
 "nbformat": 4,
 "nbformat_minor": 1
}
