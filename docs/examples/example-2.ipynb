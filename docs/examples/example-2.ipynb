{
 "cells": [
  {
   "cell_type": "markdown",
   "id": "f73abc7d",
   "metadata": {},
   "source": [
    "# Quickstart 2 - Power Flow\n",
    "\n",
    "## Task Description\n",
    "\n",
    "Consider a three-zone electricity market with the following loads and generators:\n",
    "\n",
    "| Zone | Load (MW) | Generator | Capacity (MW) | Marginal Cost (€/MWh) |\n",
    "|------|-----------|-----------|---------------|------------------------|\n",
    "| 1    | 50        | Gen A     | 140           | 7.5                    |\n",
    "|      |           | Gen B     | 285           | 6.0                    |\n",
    "| 2    | 60        | Gen C     | 90            | 14.0                   |\n",
    "| 3    | 300       | Gen D     | 85            | 10.0                   |\n",
    "\n",
    "The zones are connected by transmission lines running on 11 kV with the following characteristics:\n",
    "\n",
    "| Line | From | To | Capacity (MW) | Reactance (Ohm) |\n",
    "|------|------|------|--------------|----------------|\n",
    "| 1 | Zone 1 | Zone 2 | 126 | 0.2 |\n",
    "| 2 | Zone 1 | Zone 3 | 250 | 0.2 |\n",
    "| 3 | Zone 2 | Zone 3 | 130 | 0.1 |\n",
    "\n",
    "Find the least-cost dispatch of the generators to meet the loads while respecting the transmission capacities. Identify the marginal prices at each bus and the flow on the transmission lines.\n",
    "Calculate the non-linear power flow based on the optimised results, and determine the losses on each line as well as the voltage angles at each bus.\n",
    "\n",
    "## PyPSA Solution"
   ]
  },
  {
   "cell_type": "markdown",
   "id": "1eb2890e",
   "metadata": {},
   "source": [
    "Start by importing PyPSA, creating a new network instance and adding the three buses with voltage level 11 kV:"
   ]
  },
  {
   "cell_type": "code",
   "execution_count": 25,
   "id": "cae76f4b",
   "metadata": {},
   "outputs": [
    {
     "data": {
      "text/plain": [
       "Index(['zone_1', 'zone_2', 'zone_3'], dtype='object')"
      ]
     },
     "execution_count": 25,
     "metadata": {},
     "output_type": "execute_result"
    }
   ],
   "source": [
    "import pypsa\n",
    "from numpy import pi\n",
    "\n",
    "n = pypsa.Network()\n",
    "\n",
    "n.add(\"Bus\", [\"zone_1\", \"zone_2\", \"zone_3\"], v_nom=11)"
   ]
  },
  {
   "cell_type": "markdown",
   "id": "005acaef",
   "metadata": {},
   "source": [
    "Adding multiple components with `n.add()` is supported by passing lists for each argument. Any scalar values are broadcasted to all components.\n",
    "\n",
    "Thus, we can add the buses, loads, generators, and lines in one go and solve the network::"
   ]
  },
  {
   "cell_type": "code",
   "execution_count": 26,
   "id": "818d69d3",
   "metadata": {},
   "outputs": [
    {
     "name": "stderr",
     "output_type": "stream",
     "text": [
      "WARNING:pypsa.consistency:The following buses have carriers which are not defined:\n",
      "Index(['zone_1', 'zone_2', 'zone_3'], dtype='object', name='Bus')\n",
      "WARNING:pypsa.consistency:The following lines have carriers which are not defined:\n",
      "Index(['line_1', 'line_2', 'line_3'], dtype='object', name='Line')\n",
      "INFO:linopy.model: Solve problem using Highs solver\n",
      "INFO:linopy.model:Solver options:\n",
      " - log_to_console: False\n",
      "INFO:linopy.io: Writing time: 0.02s\n",
      "INFO:linopy.constants: Optimization successful: \n",
      "Status: ok\n",
      "Termination condition: optimal\n",
      "Solution: 7 primals, 18 duals\n",
      "Objective: 2.83e+03\n",
      "Solver model: available\n",
      "Solver message: Optimal\n",
      "\n",
      "INFO:pypsa.optimization.optimize:The shadow-prices of the constraints Generator-fix-p-lower, Generator-fix-p-upper, Line-fix-s-lower, Line-fix-s-upper, Kirchhoff-Voltage-Law were not assigned to the network.\n"
     ]
    },
    {
     "name": "stdout",
     "output_type": "stream",
     "text": [
      "Running HiGHS 1.11.0 (git hash: 364c83a): Copyright (c) 2025 HiGHS under MIT licence terms\n"
     ]
    },
    {
     "data": {
      "text/plain": [
       "('ok', 'optimal')"
      ]
     },
     "execution_count": 26,
     "metadata": {},
     "output_type": "execute_result"
    }
   ],
   "source": [
    "\n",
    "n.add(\n",
    "    \"Load\",\n",
    "    [\"load_1\", \"load_2\", \"load_3\"],\n",
    "    bus=[\"zone_1\", \"zone_2\", \"zone_3\"],\n",
    "    p_set=[50, 60, 300],\n",
    ")\n",
    "\n",
    "n.add(\n",
    "    \"Generator\",\n",
    "    [\"gen_A\", \"gen_B\", \"gen_C\", \"gen_D\"],\n",
    "    bus=[\"zone_1\", \"zone_1\", \"zone_2\", \"zone_3\"],\n",
    "    p_nom=[140, 285, 90, 85],\n",
    "    marginal_cost=[7.5, 6, 14, 10],\n",
    ")\n",
    "\n",
    "n.add(\n",
    "    \"Line\",\n",
    "    [\"line_1\", \"line_2\", \"line_3\"],\n",
    "    bus0=[\"zone_1\", \"zone_1\", \"zone_2\"],\n",
    "    bus1=[\"zone_2\", \"zone_3\", \"zone_3\"],\n",
    "    s_nom=[126, 250, 130],\n",
    "    x=[0.02, 0.02, 0.01],\n",
    "    r=0.01,\n",
    ")\n",
    "\n",
    "n.optimize(log_to_console=False)"
   ]
  },
  {
   "cell_type": "markdown",
   "id": "096acc81",
   "metadata": {},
   "source": [
    "It is possible to inspect the underlying `linopy` model once either `n.optimize()` or `n.optimize.create_model()` have been called. This can be done by accessing the `n.model` attribute, which prints the variable and constraint names and their dimensions."
   ]
  },
  {
   "cell_type": "code",
   "execution_count": 27,
   "id": "1b07bed8",
   "metadata": {},
   "outputs": [
    {
     "data": {
      "text/plain": [
       "Linopy LP model\n",
       "===============\n",
       "\n",
       "Variables:\n",
       "----------\n",
       " * Generator-p (snapshot, Generator)\n",
       " * Line-s (snapshot, Line)\n",
       "\n",
       "Constraints:\n",
       "------------\n",
       " * Generator-fix-p-lower (snapshot, Generator-fix)\n",
       " * Generator-fix-p-upper (snapshot, Generator-fix)\n",
       " * Line-fix-s-lower (snapshot, Line-fix)\n",
       " * Line-fix-s-upper (snapshot, Line-fix)\n",
       " * Bus-nodal_balance (Bus, snapshot)\n",
       " * Kirchhoff-Voltage-Law (snapshot, cycles)\n",
       "\n",
       "Status:\n",
       "-------\n",
       "ok"
      ]
     },
     "execution_count": 27,
     "metadata": {},
     "output_type": "execute_result"
    }
   ],
   "source": [
    "n.model"
   ]
  },
  {
   "cell_type": "markdown",
   "id": "a41a7fd8",
   "metadata": {},
   "source": [
    "To look at the equations of a specific constraint, such as the nodal balances of the buses in each time step, execute:"
   ]
  },
  {
   "cell_type": "code",
   "execution_count": 28,
   "id": "669b228f",
   "metadata": {},
   "outputs": [
    {
     "data": {
      "text/plain": [
       "Constraint `Bus-nodal_balance` [Bus: 3, snapshot: 1]:\n",
       "-----------------------------------------------------\n",
       "[zone_1, now]: +1 Generator-p[now, gen_A] + 1 Generator-p[now, gen_B] - 1 Line-s[now, line_1] - 1 Line-s[now, line_2] = 50.0\n",
       "[zone_2, now]: +1 Generator-p[now, gen_C] - 1 Line-s[now, line_3] + 1 Line-s[now, line_1]                             = 60.0\n",
       "[zone_3, now]: +1 Generator-p[now, gen_D] + 1 Line-s[now, line_2] + 1 Line-s[now, line_3]                             = 300.0"
      ]
     },
     "execution_count": 28,
     "metadata": {},
     "output_type": "execute_result"
    }
   ],
   "source": [
    "n.model.constraints[\"Bus-nodal_balance\"]"
   ]
  },
  {
   "cell_type": "markdown",
   "id": "1c9a1bd2",
   "metadata": {},
   "source": [
    "As in the first example, the optimal solution can be accessed from the network object:"
   ]
  },
  {
   "cell_type": "code",
   "execution_count": 29,
   "id": "cbd416ea",
   "metadata": {},
   "outputs": [
    {
     "data": {
      "text/html": [
       "<div>\n",
       "<style scoped>\n",
       "    .dataframe tbody tr th:only-of-type {\n",
       "        vertical-align: middle;\n",
       "    }\n",
       "\n",
       "    .dataframe tbody tr th {\n",
       "        vertical-align: top;\n",
       "    }\n",
       "\n",
       "    .dataframe thead th {\n",
       "        text-align: right;\n",
       "    }\n",
       "</style>\n",
       "<table border=\"1\" class=\"dataframe\">\n",
       "  <thead>\n",
       "    <tr style=\"text-align: right;\">\n",
       "      <th>Bus</th>\n",
       "      <th>zone_1</th>\n",
       "      <th>zone_2</th>\n",
       "      <th>zone_3</th>\n",
       "    </tr>\n",
       "    <tr>\n",
       "      <th>snapshot</th>\n",
       "      <th></th>\n",
       "      <th></th>\n",
       "      <th></th>\n",
       "    </tr>\n",
       "  </thead>\n",
       "  <tbody>\n",
       "    <tr>\n",
       "      <th>now</th>\n",
       "      <td>7.5</td>\n",
       "      <td>11.25</td>\n",
       "      <td>10.0</td>\n",
       "    </tr>\n",
       "  </tbody>\n",
       "</table>\n",
       "</div>"
      ],
      "text/plain": [
       "Bus       zone_1  zone_2  zone_3\n",
       "snapshot                        \n",
       "now          7.5   11.25    10.0"
      ]
     },
     "metadata": {},
     "output_type": "display_data"
    },
    {
     "data": {
      "text/html": [
       "<div>\n",
       "<style scoped>\n",
       "    .dataframe tbody tr th:only-of-type {\n",
       "        vertical-align: middle;\n",
       "    }\n",
       "\n",
       "    .dataframe tbody tr th {\n",
       "        vertical-align: top;\n",
       "    }\n",
       "\n",
       "    .dataframe thead th {\n",
       "        text-align: right;\n",
       "    }\n",
       "</style>\n",
       "<table border=\"1\" class=\"dataframe\">\n",
       "  <thead>\n",
       "    <tr style=\"text-align: right;\">\n",
       "      <th>Generator</th>\n",
       "      <th>gen_A</th>\n",
       "      <th>gen_B</th>\n",
       "      <th>gen_C</th>\n",
       "      <th>gen_D</th>\n",
       "    </tr>\n",
       "    <tr>\n",
       "      <th>snapshot</th>\n",
       "      <th></th>\n",
       "      <th></th>\n",
       "      <th></th>\n",
       "      <th></th>\n",
       "    </tr>\n",
       "  </thead>\n",
       "  <tbody>\n",
       "    <tr>\n",
       "      <th>now</th>\n",
       "      <td>50.0</td>\n",
       "      <td>285.0</td>\n",
       "      <td>-0.0</td>\n",
       "      <td>75.0</td>\n",
       "    </tr>\n",
       "  </tbody>\n",
       "</table>\n",
       "</div>"
      ],
      "text/plain": [
       "Generator  gen_A  gen_B  gen_C  gen_D\n",
       "snapshot                             \n",
       "now         50.0  285.0   -0.0   75.0"
      ]
     },
     "metadata": {},
     "output_type": "display_data"
    },
    {
     "data": {
      "text/html": [
       "<div>\n",
       "<style scoped>\n",
       "    .dataframe tbody tr th:only-of-type {\n",
       "        vertical-align: middle;\n",
       "    }\n",
       "\n",
       "    .dataframe tbody tr th {\n",
       "        vertical-align: top;\n",
       "    }\n",
       "\n",
       "    .dataframe thead th {\n",
       "        text-align: right;\n",
       "    }\n",
       "</style>\n",
       "<table border=\"1\" class=\"dataframe\">\n",
       "  <thead>\n",
       "    <tr style=\"text-align: right;\">\n",
       "      <th>Line</th>\n",
       "      <th>line_1</th>\n",
       "      <th>line_2</th>\n",
       "      <th>line_3</th>\n",
       "    </tr>\n",
       "    <tr>\n",
       "      <th>snapshot</th>\n",
       "      <th></th>\n",
       "      <th></th>\n",
       "      <th></th>\n",
       "    </tr>\n",
       "  </thead>\n",
       "  <tbody>\n",
       "    <tr>\n",
       "      <th>now</th>\n",
       "      <td>126.0</td>\n",
       "      <td>159.0</td>\n",
       "      <td>66.0</td>\n",
       "    </tr>\n",
       "  </tbody>\n",
       "</table>\n",
       "</div>"
      ],
      "text/plain": [
       "Line      line_1  line_2  line_3\n",
       "snapshot                        \n",
       "now        126.0   159.0    66.0"
      ]
     },
     "metadata": {},
     "output_type": "display_data"
    }
   ],
   "source": [
    "display(n.buses_t.marginal_price)\n",
    "display(n.generators_t.p)\n",
    "display(n.lines_t.p0)"
   ]
  },
  {
   "cell_type": "markdown",
   "id": "9e5a9b9c",
   "metadata": {},
   "source": [
    "For the next step, we want to calculate the non-linear AC power flow based on the optimised results (which uses the linearised DC power flow model) using the Newton-Raphson method.\n",
    "This can be done by calling [`n.pf()`](), but first we need to provide the set points for the generator dispatch.\n",
    "These will be kept in the power flow, except for the slack generator, the output of which will be adjusted to balance the network."
   ]
  },
  {
   "cell_type": "code",
   "execution_count": 30,
   "id": "ca7c5cc4",
   "metadata": {},
   "outputs": [
    {
     "data": {
      "text/html": [
       "<div>\n",
       "<style scoped>\n",
       "    .dataframe tbody tr th:only-of-type {\n",
       "        vertical-align: middle;\n",
       "    }\n",
       "\n",
       "    .dataframe tbody tr th {\n",
       "        vertical-align: top;\n",
       "    }\n",
       "\n",
       "    .dataframe thead th {\n",
       "        text-align: right;\n",
       "    }\n",
       "</style>\n",
       "<table border=\"1\" class=\"dataframe\">\n",
       "  <thead>\n",
       "    <tr style=\"text-align: right;\">\n",
       "      <th>Generator</th>\n",
       "      <th>gen_A</th>\n",
       "      <th>gen_B</th>\n",
       "      <th>gen_C</th>\n",
       "      <th>gen_D</th>\n",
       "    </tr>\n",
       "    <tr>\n",
       "      <th>snapshot</th>\n",
       "      <th></th>\n",
       "      <th></th>\n",
       "      <th></th>\n",
       "      <th></th>\n",
       "    </tr>\n",
       "  </thead>\n",
       "  <tbody>\n",
       "    <tr>\n",
       "      <th>now</th>\n",
       "      <td>50.0</td>\n",
       "      <td>285.0</td>\n",
       "      <td>-0.0</td>\n",
       "      <td>75.0</td>\n",
       "    </tr>\n",
       "  </tbody>\n",
       "</table>\n",
       "</div>"
      ],
      "text/plain": [
       "Generator  gen_A  gen_B  gen_C  gen_D\n",
       "snapshot                             \n",
       "now         50.0  285.0   -0.0   75.0"
      ]
     },
     "metadata": {},
     "output_type": "display_data"
    },
    {
     "data": {
      "text/plain": [
       "Generator\n",
       "gen_A    Slack\n",
       "gen_B       PQ\n",
       "gen_C       PQ\n",
       "gen_D       PQ\n",
       "Name: control, dtype: object"
      ]
     },
     "metadata": {},
     "output_type": "display_data"
    },
    {
     "name": "stderr",
     "output_type": "stream",
     "text": [
      "INFO:pypsa.network.power_flow:Performing non-linear load-flow on AC sub-network <pypsa.networks.SubNetwork object at 0x7133669ff680> for snapshots Index(['now'], dtype='object', name='snapshot')\n"
     ]
    },
    {
     "data": {
      "text/plain": [
       "{'n_iter': SubNetwork  0\n",
       " snapshot     \n",
       " now         3,\n",
       " 'error': SubNetwork             0\n",
       " snapshot                \n",
       " now         1.490434e-09,\n",
       " 'converged': SubNetwork     0\n",
       " snapshot        \n",
       " now         True}"
      ]
     },
     "execution_count": 30,
     "metadata": {},
     "output_type": "execute_result"
    }
   ],
   "source": [
    "n.optimize.fix_optimal_dispatch()\n",
    "\n",
    "display(n.generators_t.p_set)\n",
    "display(n.generators.control)\n",
    "\n",
    "n.pf()"
   ]
  },
  {
   "cell_type": "markdown",
   "id": "d6d4f1a4",
   "metadata": {},
   "source": [
    "Alright, it converged! Now we can see how the slack generator is used to balance\n",
    "the line losses as well as the reactive power of the generators and lines. The\n",
    "linear power flow necglects both.\n"
   ]
  },
  {
   "cell_type": "code",
   "execution_count": 31,
   "id": "8954ac52",
   "metadata": {},
   "outputs": [
    {
     "data": {
      "text/html": [
       "<div>\n",
       "<style scoped>\n",
       "    .dataframe tbody tr th:only-of-type {\n",
       "        vertical-align: middle;\n",
       "    }\n",
       "\n",
       "    .dataframe tbody tr th {\n",
       "        vertical-align: top;\n",
       "    }\n",
       "\n",
       "    .dataframe thead th {\n",
       "        text-align: right;\n",
       "    }\n",
       "</style>\n",
       "<table border=\"1\" class=\"dataframe\">\n",
       "  <thead>\n",
       "    <tr style=\"text-align: right;\">\n",
       "      <th>Generator</th>\n",
       "      <th>gen_A</th>\n",
       "      <th>gen_B</th>\n",
       "      <th>gen_C</th>\n",
       "      <th>gen_D</th>\n",
       "    </tr>\n",
       "    <tr>\n",
       "      <th>snapshot</th>\n",
       "      <th></th>\n",
       "      <th></th>\n",
       "      <th></th>\n",
       "      <th></th>\n",
       "    </tr>\n",
       "  </thead>\n",
       "  <tbody>\n",
       "    <tr>\n",
       "      <th>now</th>\n",
       "      <td>53.860705</td>\n",
       "      <td>285.0</td>\n",
       "      <td>-0.0</td>\n",
       "      <td>75.0</td>\n",
       "    </tr>\n",
       "  </tbody>\n",
       "</table>\n",
       "</div>"
      ],
      "text/plain": [
       "Generator      gen_A  gen_B  gen_C  gen_D\n",
       "snapshot                                 \n",
       "now        53.860705  285.0   -0.0   75.0"
      ]
     },
     "metadata": {},
     "output_type": "display_data"
    },
    {
     "data": {
      "text/html": [
       "<div>\n",
       "<style scoped>\n",
       "    .dataframe tbody tr th:only-of-type {\n",
       "        vertical-align: middle;\n",
       "    }\n",
       "\n",
       "    .dataframe tbody tr th {\n",
       "        vertical-align: top;\n",
       "    }\n",
       "\n",
       "    .dataframe thead th {\n",
       "        text-align: right;\n",
       "    }\n",
       "</style>\n",
       "<table border=\"1\" class=\"dataframe\">\n",
       "  <thead>\n",
       "    <tr style=\"text-align: right;\">\n",
       "      <th>Generator</th>\n",
       "      <th>gen_A</th>\n",
       "      <th>gen_B</th>\n",
       "      <th>gen_C</th>\n",
       "      <th>gen_D</th>\n",
       "    </tr>\n",
       "    <tr>\n",
       "      <th>snapshot</th>\n",
       "      <th></th>\n",
       "      <th></th>\n",
       "      <th></th>\n",
       "      <th></th>\n",
       "    </tr>\n",
       "  </thead>\n",
       "  <tbody>\n",
       "    <tr>\n",
       "      <th>now</th>\n",
       "      <td>7.379326</td>\n",
       "      <td>0.0</td>\n",
       "      <td>0.0</td>\n",
       "      <td>0.0</td>\n",
       "    </tr>\n",
       "  </tbody>\n",
       "</table>\n",
       "</div>"
      ],
      "text/plain": [
       "Generator     gen_A  gen_B  gen_C  gen_D\n",
       "snapshot                                \n",
       "now        7.379326    0.0    0.0    0.0"
      ]
     },
     "metadata": {},
     "output_type": "display_data"
    },
    {
     "data": {
      "text/html": [
       "<div>\n",
       "<style scoped>\n",
       "    .dataframe tbody tr th:only-of-type {\n",
       "        vertical-align: middle;\n",
       "    }\n",
       "\n",
       "    .dataframe tbody tr th {\n",
       "        vertical-align: top;\n",
       "    }\n",
       "\n",
       "    .dataframe thead th {\n",
       "        text-align: right;\n",
       "    }\n",
       "</style>\n",
       "<table border=\"1\" class=\"dataframe\">\n",
       "  <thead>\n",
       "    <tr style=\"text-align: right;\">\n",
       "      <th></th>\n",
       "      <th>line_1</th>\n",
       "      <th>line_2</th>\n",
       "      <th>line_3</th>\n",
       "    </tr>\n",
       "    <tr>\n",
       "      <th>snapshot</th>\n",
       "      <th></th>\n",
       "      <th></th>\n",
       "      <th></th>\n",
       "    </tr>\n",
       "  </thead>\n",
       "  <tbody>\n",
       "    <tr>\n",
       "      <th>now</th>\n",
       "      <td>-1.811567</td>\n",
       "      <td>9.190894</td>\n",
       "      <td>-4.388279</td>\n",
       "    </tr>\n",
       "  </tbody>\n",
       "</table>\n",
       "</div>"
      ],
      "text/plain": [
       "            line_1    line_2    line_3\n",
       "snapshot                              \n",
       "now      -1.811567  9.190894 -4.388279"
      ]
     },
     "metadata": {},
     "output_type": "display_data"
    },
    {
     "data": {
      "text/plain": [
       "np.float64(3.86070466598143)"
      ]
     },
     "metadata": {},
     "output_type": "display_data"
    }
   ],
   "source": [
    "display(n.generators_t.p)\n",
    "display(n.generators_t.q)\n",
    "display(n.lines_t.q0)\n",
    "display((n.lines_t.p0 + n.lines_t.p1).sum().sum()) # active power losses"
   ]
  },
  {
   "cell_type": "markdown",
   "id": "60e10e48",
   "metadata": {},
   "source": [
    "You can see that the increase in the slack generator's output is equal to the sum of the active power losses in the lines.\n",
    "\n",
    "With non-linear power flow, the voltage angles at the buses are calculated as well, which are stored in radians but can easily be converted to degrees:"
   ]
  },
  {
   "cell_type": "code",
   "execution_count": 32,
   "id": "f22ecb44",
   "metadata": {},
   "outputs": [
    {
     "data": {
      "text/html": [
       "<div>\n",
       "<style scoped>\n",
       "    .dataframe tbody tr th:only-of-type {\n",
       "        vertical-align: middle;\n",
       "    }\n",
       "\n",
       "    .dataframe tbody tr th {\n",
       "        vertical-align: top;\n",
       "    }\n",
       "\n",
       "    .dataframe thead th {\n",
       "        text-align: right;\n",
       "    }\n",
       "</style>\n",
       "<table border=\"1\" class=\"dataframe\">\n",
       "  <thead>\n",
       "    <tr style=\"text-align: right;\">\n",
       "      <th>Bus</th>\n",
       "      <th>zone_1</th>\n",
       "      <th>zone_2</th>\n",
       "      <th>zone_3</th>\n",
       "    </tr>\n",
       "    <tr>\n",
       "      <th>snapshot</th>\n",
       "      <th></th>\n",
       "      <th></th>\n",
       "      <th></th>\n",
       "    </tr>\n",
       "  </thead>\n",
       "  <tbody>\n",
       "    <tr>\n",
       "      <th>now</th>\n",
       "      <td>0.0</td>\n",
       "      <td>-1.202765</td>\n",
       "      <td>-1.532529</td>\n",
       "    </tr>\n",
       "  </tbody>\n",
       "</table>\n",
       "</div>"
      ],
      "text/plain": [
       "Bus       zone_1    zone_2    zone_3\n",
       "snapshot                            \n",
       "now          0.0 -1.202765 -1.532529"
      ]
     },
     "execution_count": 32,
     "metadata": {},
     "output_type": "execute_result"
    }
   ],
   "source": [
    "n.buses_t.v_ang * 180 / pi"
   ]
  },
  {
   "cell_type": "markdown",
   "id": "8c64de27",
   "metadata": {},
   "source": [
    "This example is based on Tom Brown's [Energy Systems](https://nworbmot.org/courses/es-25) course, taken from the lecture [Complex Markets](https://nworbmot.org/courses/es-25/es-9-complex_markets.pdf), slides 42ff."
   ]
  }
 ],
 "metadata": {
  "kernelspec": {
   "display_name": "pypsa",
   "language": "python",
   "name": "python3"
  },
  "language_info": {
   "codemirror_mode": {
    "name": "ipython",
    "version": 3
   },
   "file_extension": ".py",
   "mimetype": "text/x-python",
   "name": "python",
   "nbconvert_exporter": "python",
   "pygments_lexer": "ipython3",
   "version": "3.13.2"
  }
 },
 "nbformat": 4,
 "nbformat_minor": 5
}
