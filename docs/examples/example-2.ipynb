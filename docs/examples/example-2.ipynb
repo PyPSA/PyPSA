{
 "cells": [
  {
   "cell_type": "code",
   "execution_count": null,
   "metadata": {
    "tags": [
     "injected-warnings",
     "hide-cell"
    ]
   },
   "outputs": [],
   "source": [
    "# General notebook settings\n",
    "import warnings\n",
    "\n",
    "warnings.filterwarnings(\"error\", category=DeprecationWarning)"
   ]
  },
  {
   "cell_type": "markdown",
   "id": "f73abc7d",
   "metadata": {},
   "source": [
    "# Quickstart 2 - Power Flow\n",
    "\n",
    "## Problem Description\n",
    "\n",
    "Consider a three-zone electricity market with the following loads and generators:\n",
    "\n",
    "| Zone | Load (MW) | Generator | Capacity (MW) | Marginal Cost (€/MWh) |\n",
    "|------|-----------|-----------|---------------|------------------------|\n",
    "| 1    | 50        | Gen A     | 140           | 7.5                    |\n",
    "|      |           | Gen B     | 285           | 6.0                    |\n",
    "| 2    | 60        | Gen C     | 90            | 14.0                   |\n",
    "| 3    | 300       | Gen D     | 85            | 10.0                   |\n",
    "\n",
    "The zones are connected by transmission lines running on 11 kV with the following characteristics:\n",
    "\n",
    "| Line | From | To | Capacity (MW) | Reactance (Ohm) |\n",
    "|------|------|------|--------------|----------------|\n",
    "| 1 | Zone 1 | Zone 2 | 126 | 0.2 |\n",
    "| 2 | Zone 1 | Zone 3 | 250 | 0.2 |\n",
    "| 3 | Zone 2 | Zone 3 | 130 | 0.1 |\n",
    "\n",
    "Find the least-cost dispatch of the generators to meet the loads while respecting the transmission capacities. Identify the marginal prices at each bus and the flow on the transmission lines.\n",
    "Calculate the non-linear power flow based on the optimised results, and determine the losses on each line as well as the voltage angles at each bus.\n",
    "\n",
    "## PyPSA Solution"
   ]
  },
  {
   "cell_type": "markdown",
   "id": "1eb2890e",
   "metadata": {},
   "source": [
    "Start by importing PyPSA, creating a new network instance and adding the three buses with voltage level 11 kV:"
   ]
  },
  {
   "cell_type": "code",
   "execution_count": null,
   "id": "cae76f4b",
   "metadata": {},
   "outputs": [],
   "source": [
    "from numpy import pi\n",
    "\n",
    "import pypsa\n",
    "\n",
    "n = pypsa.Network()\n",
    "\n",
    "n.add(\"Bus\", [\"zone_1\", \"zone_2\", \"zone_3\"], v_nom=11)"
   ]
  },
  {
   "cell_type": "markdown",
   "id": "005acaef",
   "metadata": {},
   "source": [
    "Adding multiple components with `n.add()` is supported by passing lists for each argument. Any scalar values are broadcasted to all components.\n",
    "\n",
    "Thus, we can add the buses, loads, generators, and lines in one go and solve the network::"
   ]
  },
  {
   "cell_type": "code",
   "execution_count": null,
   "id": "818d69d3",
   "metadata": {},
   "outputs": [],
   "source": [
    "n.add(\n",
    "    \"Load\",\n",
    "    [\"load_1\", \"load_2\", \"load_3\"],\n",
    "    bus=[\"zone_1\", \"zone_2\", \"zone_3\"],\n",
    "    p_set=[50, 60, 300],\n",
    ")\n",
    "\n",
    "n.add(\n",
    "    \"Generator\",\n",
    "    [\"gen_A\", \"gen_B\", \"gen_C\", \"gen_D\"],\n",
    "    bus=[\"zone_1\", \"zone_1\", \"zone_2\", \"zone_3\"],\n",
    "    p_nom=[140, 285, 90, 85],\n",
    "    marginal_cost=[7.5, 6, 14, 10],\n",
    ")\n",
    "\n",
    "n.add(\n",
    "    \"Line\",\n",
    "    [\"line_1\", \"line_2\", \"line_3\"],\n",
    "    bus0=[\"zone_1\", \"zone_1\", \"zone_2\"],\n",
    "    bus1=[\"zone_2\", \"zone_3\", \"zone_3\"],\n",
    "    s_nom=[126, 250, 130],\n",
    "    x=[0.02, 0.02, 0.01],\n",
    "    r=0.01,\n",
    ")\n",
    "\n",
    "n.optimize(log_to_console=False)"
   ]
  },
  {
   "cell_type": "markdown",
   "id": "096acc81",
   "metadata": {},
   "source": [
    "It is possible to inspect the underlying `linopy` model once either `n.optimize()` or `n.optimize.create_model()` have been called. This can be done by accessing the `n.model` attribute, which prints the variable and constraint names and their dimensions."
   ]
  },
  {
   "cell_type": "code",
   "execution_count": null,
   "id": "1b07bed8",
   "metadata": {},
   "outputs": [],
   "source": [
    "n.model"
   ]
  },
  {
   "cell_type": "markdown",
   "id": "a41a7fd8",
   "metadata": {},
   "source": [
    "To look at the equations of a specific constraint, such as the nodal balances of the buses in each time step, execute:"
   ]
  },
  {
   "cell_type": "code",
   "execution_count": null,
   "id": "669b228f",
   "metadata": {},
   "outputs": [],
   "source": [
    "n.model.constraints[\"Bus-nodal_balance\"]"
   ]
  },
  {
   "cell_type": "markdown",
   "id": "1c9a1bd2",
   "metadata": {},
   "source": [
    "As in the first example, the optimal solution can be accessed from the network object:"
   ]
  },
  {
   "cell_type": "code",
   "execution_count": null,
   "id": "cbd416ea",
   "metadata": {},
   "outputs": [],
   "source": [
    "display(n.buses_t.marginal_price)\n",
    "display(n.generators_t.p)\n",
    "display(n.lines_t.p0)"
   ]
  },
  {
   "cell_type": "markdown",
   "id": "9e5a9b9c",
   "metadata": {},
   "source": [
    "For the next step, we want to calculate the non-linear AC power flow based on the optimised results (which uses the linearised DC power flow model) using the Newton-Raphson method.\n",
    "This can be done by calling [`n.pf()`](), but first we need to provide the set points for the generator dispatch.\n",
    "These will be kept in the power flow, except for the slack generator, the output of which will be adjusted to balance the network."
   ]
  },
  {
   "cell_type": "code",
   "execution_count": null,
   "id": "ca7c5cc4",
   "metadata": {},
   "outputs": [],
   "source": [
    "n.optimize.fix_optimal_dispatch()\n",
    "\n",
    "display(n.generators_t.p_set)\n",
    "display(n.generators.control)\n",
    "\n",
    "n.pf()"
   ]
  },
  {
   "cell_type": "markdown",
   "id": "d6d4f1a4",
   "metadata": {},
   "source": [
    "Alright, it converged! Now we can see how the slack generator is used to balance\n",
    "the line losses as well as the reactive power of the generators and lines. The\n",
    "linear power flow necglects both.\n"
   ]
  },
  {
   "cell_type": "code",
   "execution_count": null,
   "id": "8954ac52",
   "metadata": {},
   "outputs": [],
   "source": [
    "display(n.generators_t.p)\n",
    "display(n.generators_t.q)\n",
    "display(n.lines_t.q0)\n",
    "display((n.lines_t.p0 + n.lines_t.p1).sum().sum())  # active power losses"
   ]
  },
  {
   "cell_type": "markdown",
   "id": "60e10e48",
   "metadata": {},
   "source": [
    "You can see that the increase in the slack generator's output is equal to the sum of the active power losses in the lines.\n",
    "\n",
    "With non-linear power flow, the voltage angles at the buses are calculated as well, which are stored in radians but can easily be converted to degrees:"
   ]
  },
  {
   "cell_type": "code",
   "execution_count": null,
   "id": "f22ecb44",
   "metadata": {},
   "outputs": [],
   "source": [
    "n.buses_t.v_ang * 180 / pi"
   ]
  },
  {
   "cell_type": "markdown",
   "id": "8c64de27",
   "metadata": {},
   "source": [
    "This example is based on Tom Brown's [Energy Systems](https://nworbmot.org/courses/es-25) course, taken from the lecture [Complex Markets](https://nworbmot.org/courses/es-25/es-9-complex_markets.pdf), slides 42ff."
   ]
  }
 ],
 "metadata": {
  "kernelspec": {
   "display_name": "",
   "language": "python",
   "name": ""
  },
  "language_info": {
   "codemirror_mode": {
    "name": "ipython",
    "version": 3
   },
   "file_extension": ".py",
   "mimetype": "text/x-python",
   "name": "python",
   "nbconvert_exporter": "python",
   "pygments_lexer": "ipython3",
   "version": "3.13.2"
  }
 },
 "nbformat": 4,
 "nbformat_minor": 5
}
