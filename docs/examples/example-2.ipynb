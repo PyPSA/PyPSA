{
 "cells": [
  {
   "cell_type": "markdown",
   "id": "f73abc7d",
   "metadata": {},
   "source": [
    "# Quickstart 2 - Power Flow\n",
    "\n",
    "## Task Description\n",
    "\n",
    "Consider a three-zone electricity market with the following characteristics:\n",
    "- Zone 1: 50 MW load, 140 MW generator with marginal cost 7.5 €/MWh, 285 MW generator with marginal cost 6 €/MWh,\n",
    "- Zone 2: 60 MW load, 90 MW generator with marginal cost 14 €/MWh,\n",
    "- Zone 3: 300 MW load, 85 MW generator with marginal cost 10 €/MWh.\n",
    "\n",
    "The zones are connected by transmission lines running on 11 kV with the following characteristics:\n",
    "- Line 1: connects Zone 1 and Zone 2, with a capacity of 126 MW and a reactance of 0.2 Ohm.\n",
    "- Line 2: connects Zone 1 and Zone 3, with a capacity of 250 MW and a reactance of 0.2 Ohm.\n",
    "- Line 3: connects Zone 2 and Zone 3, with a capacity of 130 MW and a reactance of 0.1 Ohm.\n",
    "\n",
    "Find the least-cost dispatch of the generators to meet the loads while respecting the transmission capacities. Identify the marginal prices at each bus and the flow on the transmission lines.\n",
    "Calculate the non-linear power flow based on the optimised results, and determine the losses on each line as well as the voltage angles at each bus.\n",
    "\n",
    "## PyPSA Solution"
   ]
  },
  {
   "cell_type": "code",
   "execution_count": null,
   "id": "1eb2890e",
   "metadata": {},
   "outputs": [
    {
     "data": {
      "text/plain": [
       "Index(['zone_1', 'zone_2', 'zone_3'], dtype='object')"
      ]
     },
     "execution_count": 525,
     "metadata": {},
     "output_type": "execute_result"
    }
   ],
   "source": [
    "import pypsa\n",
    "\n",
    "n = pypsa.Network()\n",
    "\n",
    "n.add(\"Bus\", [\"zone_1\", \"zone_2\", \"zone_3\"], v_nom=11)\n"
   ]
  },
  {
   "cell_type": "code",
   "execution_count": 526,
   "id": "005acaef",
   "metadata": {},
   "outputs": [
    {
     "data": {
      "text/plain": [
       "Index(['load_1', 'load_2', 'load_3'], dtype='object')"
      ]
     },
     "execution_count": 526,
     "metadata": {},
     "output_type": "execute_result"
    }
   ],
   "source": [
    "\n",
    "n.add(\n",
    "    \"Load\",\n",
    "    [\"load_1\", \"load_2\", \"load_3\"],\n",
    "    bus=[\"zone_1\", \"zone_2\", \"zone_3\"],\n",
    "    p_set=[50, 60, 300],\n",
    ")\n"
   ]
  },
  {
   "cell_type": "code",
   "execution_count": 527,
   "id": "0c5907e4",
   "metadata": {},
   "outputs": [
    {
     "data": {
      "text/plain": [
       "Index(['gen_A', 'gen_B', 'gen_C', 'gen_D'], dtype='object')"
      ]
     },
     "execution_count": 527,
     "metadata": {},
     "output_type": "execute_result"
    }
   ],
   "source": [
    "\n",
    "n.add(\n",
    "    \"Generator\",\n",
    "    [\"gen_A\", \"gen_B\", \"gen_C\", \"gen_D\"],\n",
    "    bus=[\"zone_1\", \"zone_1\", \"zone_2\", \"zone_3\"],\n",
    "    p_nom=[140, 285, 90, 85],\n",
    "    marginal_cost=[7.5, 6, 14, 10],\n",
    ")\n"
   ]
  },
  {
   "cell_type": "code",
   "execution_count": 528,
   "id": "1c0d82ad",
   "metadata": {},
   "outputs": [
    {
     "data": {
      "text/plain": [
       "Index(['line_1', 'line_2', 'line_3'], dtype='object')"
      ]
     },
     "execution_count": 528,
     "metadata": {},
     "output_type": "execute_result"
    }
   ],
   "source": [
    "n.add(\n",
    "    \"Line\",\n",
    "    [\"line_1\", \"line_2\", \"line_3\"],\n",
    "    bus0=[\"zone_1\", \"zone_1\", \"zone_2\"],\n",
    "    bus1=[\"zone_2\", \"zone_3\", \"zone_3\"],\n",
    "    s_nom=[126, 250, 130],\n",
    "    x=[0.02, 0.02, 0.01],\n",
    "    r=0.01,\n",
    ")"
   ]
  },
  {
   "cell_type": "code",
   "execution_count": 530,
   "id": "096acc81",
   "metadata": {},
   "outputs": [
    {
     "name": "stderr",
     "output_type": "stream",
     "text": [
      "WARNING:pypsa.consistency:The following buses have carriers which are not defined:\n",
      "Index(['zone_1', 'zone_2', 'zone_3'], dtype='object', name='Bus')\n",
      "WARNING:pypsa.consistency:The following lines have carriers which are not defined:\n",
      "Index(['line_1', 'line_2', 'line_3'], dtype='object', name='Line')\n",
      "INFO:linopy.model: Solve problem using Highs solver\n",
      "INFO:linopy.model:Solver options:\n",
      " - log_to_console: False\n",
      "INFO:linopy.io: Writing time: 0.02s\n",
      "INFO:linopy.constants: Optimization successful: \n",
      "Status: ok\n",
      "Termination condition: optimal\n",
      "Solution: 7 primals, 18 duals\n",
      "Objective: 2.83e+03\n",
      "Solver model: available\n",
      "Solver message: Optimal\n",
      "\n",
      "INFO:pypsa.optimization.optimize:The shadow-prices of the constraints Generator-fix-p-lower, Generator-fix-p-upper, Line-fix-s-lower, Line-fix-s-upper, Kirchhoff-Voltage-Law were not assigned to the network.\n"
     ]
    },
    {
     "name": "stdout",
     "output_type": "stream",
     "text": [
      "Running HiGHS 1.11.0 (git hash: 364c83a): Copyright (c) 2025 HiGHS under MIT licence terms\n"
     ]
    },
    {
     "data": {
      "text/plain": [
       "('ok', 'optimal')"
      ]
     },
     "execution_count": 530,
     "metadata": {},
     "output_type": "execute_result"
    }
   ],
   "source": [
    "n.optimize(log_to_console=False)"
   ]
  },
  {
   "cell_type": "code",
   "execution_count": 531,
   "id": "1b07bed8",
   "metadata": {},
   "outputs": [
    {
     "data": {
      "text/plain": [
       "Linopy LP model\n",
       "===============\n",
       "\n",
       "Variables:\n",
       "----------\n",
       " * Generator-p (snapshot, Generator)\n",
       " * Line-s (snapshot, Line)\n",
       "\n",
       "Constraints:\n",
       "------------\n",
       " * Generator-fix-p-lower (snapshot, Generator-fix)\n",
       " * Generator-fix-p-upper (snapshot, Generator-fix)\n",
       " * Line-fix-s-lower (snapshot, Line-fix)\n",
       " * Line-fix-s-upper (snapshot, Line-fix)\n",
       " * Bus-nodal_balance (Bus, snapshot)\n",
       " * Kirchhoff-Voltage-Law (snapshot, cycles)\n",
       "\n",
       "Status:\n",
       "-------\n",
       "ok"
      ]
     },
     "execution_count": 531,
     "metadata": {},
     "output_type": "execute_result"
    }
   ],
   "source": [
    "n.model"
   ]
  },
  {
   "cell_type": "code",
   "execution_count": 532,
   "id": "a41a7fd8",
   "metadata": {},
   "outputs": [
    {
     "data": {
      "text/plain": [
       "Constraint `Bus-nodal_balance` [Bus: 3, snapshot: 1]:\n",
       "-----------------------------------------------------\n",
       "[zone_1, now]: +1 Generator-p[now, gen_A] + 1 Generator-p[now, gen_B] - 1 Line-s[now, line_1] - 1 Line-s[now, line_2] = 50.0\n",
       "[zone_2, now]: +1 Generator-p[now, gen_C] - 1 Line-s[now, line_3] + 1 Line-s[now, line_1]                             = 60.0\n",
       "[zone_3, now]: +1 Generator-p[now, gen_D] + 1 Line-s[now, line_2] + 1 Line-s[now, line_3]                             = 300.0"
      ]
     },
     "execution_count": 532,
     "metadata": {},
     "output_type": "execute_result"
    }
   ],
   "source": [
    "n.model.constraints[\"Bus-nodal_balance\"]"
   ]
  },
  {
   "cell_type": "code",
   "execution_count": 533,
   "id": "1c9a1bd2",
   "metadata": {},
   "outputs": [
    {
     "data": {
      "text/html": [
       "<div>\n",
       "<style scoped>\n",
       "    .dataframe tbody tr th:only-of-type {\n",
       "        vertical-align: middle;\n",
       "    }\n",
       "\n",
       "    .dataframe tbody tr th {\n",
       "        vertical-align: top;\n",
       "    }\n",
       "\n",
       "    .dataframe thead th {\n",
       "        text-align: right;\n",
       "    }\n",
       "</style>\n",
       "<table border=\"1\" class=\"dataframe\">\n",
       "  <thead>\n",
       "    <tr style=\"text-align: right;\">\n",
       "      <th>Bus</th>\n",
       "      <th>zone_1</th>\n",
       "      <th>zone_2</th>\n",
       "      <th>zone_3</th>\n",
       "    </tr>\n",
       "    <tr>\n",
       "      <th>snapshot</th>\n",
       "      <th></th>\n",
       "      <th></th>\n",
       "      <th></th>\n",
       "    </tr>\n",
       "  </thead>\n",
       "  <tbody>\n",
       "    <tr>\n",
       "      <th>now</th>\n",
       "      <td>7.5</td>\n",
       "      <td>11.25</td>\n",
       "      <td>10.0</td>\n",
       "    </tr>\n",
       "  </tbody>\n",
       "</table>\n",
       "</div>"
      ],
      "text/plain": [
       "Bus       zone_1  zone_2  zone_3\n",
       "snapshot                        \n",
       "now          7.5   11.25    10.0"
      ]
     },
     "execution_count": 533,
     "metadata": {},
     "output_type": "execute_result"
    }
   ],
   "source": [
    "n.buses_t.marginal_price"
   ]
  },
  {
   "cell_type": "code",
   "execution_count": 534,
   "id": "1edb29b0",
   "metadata": {},
   "outputs": [
    {
     "data": {
      "text/html": [
       "<div>\n",
       "<style scoped>\n",
       "    .dataframe tbody tr th:only-of-type {\n",
       "        vertical-align: middle;\n",
       "    }\n",
       "\n",
       "    .dataframe tbody tr th {\n",
       "        vertical-align: top;\n",
       "    }\n",
       "\n",
       "    .dataframe thead th {\n",
       "        text-align: right;\n",
       "    }\n",
       "</style>\n",
       "<table border=\"1\" class=\"dataframe\">\n",
       "  <thead>\n",
       "    <tr style=\"text-align: right;\">\n",
       "      <th>Generator</th>\n",
       "      <th>gen_A</th>\n",
       "      <th>gen_B</th>\n",
       "      <th>gen_C</th>\n",
       "      <th>gen_D</th>\n",
       "    </tr>\n",
       "    <tr>\n",
       "      <th>snapshot</th>\n",
       "      <th></th>\n",
       "      <th></th>\n",
       "      <th></th>\n",
       "      <th></th>\n",
       "    </tr>\n",
       "  </thead>\n",
       "  <tbody>\n",
       "    <tr>\n",
       "      <th>now</th>\n",
       "      <td>50.0</td>\n",
       "      <td>285.0</td>\n",
       "      <td>-0.0</td>\n",
       "      <td>75.0</td>\n",
       "    </tr>\n",
       "  </tbody>\n",
       "</table>\n",
       "</div>"
      ],
      "text/plain": [
       "Generator  gen_A  gen_B  gen_C  gen_D\n",
       "snapshot                             \n",
       "now         50.0  285.0   -0.0   75.0"
      ]
     },
     "execution_count": 534,
     "metadata": {},
     "output_type": "execute_result"
    }
   ],
   "source": [
    "n.generators_t.p"
   ]
  },
  {
   "cell_type": "code",
   "execution_count": 535,
   "id": "07da94fb",
   "metadata": {},
   "outputs": [
    {
     "data": {
      "text/html": [
       "<div>\n",
       "<style scoped>\n",
       "    .dataframe tbody tr th:only-of-type {\n",
       "        vertical-align: middle;\n",
       "    }\n",
       "\n",
       "    .dataframe tbody tr th {\n",
       "        vertical-align: top;\n",
       "    }\n",
       "\n",
       "    .dataframe thead th {\n",
       "        text-align: right;\n",
       "    }\n",
       "</style>\n",
       "<table border=\"1\" class=\"dataframe\">\n",
       "  <thead>\n",
       "    <tr style=\"text-align: right;\">\n",
       "      <th>Line</th>\n",
       "      <th>line_1</th>\n",
       "      <th>line_2</th>\n",
       "      <th>line_3</th>\n",
       "    </tr>\n",
       "    <tr>\n",
       "      <th>snapshot</th>\n",
       "      <th></th>\n",
       "      <th></th>\n",
       "      <th></th>\n",
       "    </tr>\n",
       "  </thead>\n",
       "  <tbody>\n",
       "    <tr>\n",
       "      <th>now</th>\n",
       "      <td>126.0</td>\n",
       "      <td>159.0</td>\n",
       "      <td>66.0</td>\n",
       "    </tr>\n",
       "  </tbody>\n",
       "</table>\n",
       "</div>"
      ],
      "text/plain": [
       "Line      line_1  line_2  line_3\n",
       "snapshot                        \n",
       "now        126.0   159.0    66.0"
      ]
     },
     "execution_count": 535,
     "metadata": {},
     "output_type": "execute_result"
    }
   ],
   "source": [
    "n.lines_t.p0"
   ]
  },
  {
   "cell_type": "code",
   "execution_count": 536,
   "id": "9e5a9b9c",
   "metadata": {},
   "outputs": [],
   "source": [
    "n.optimize.fix_optimal_dispatch()"
   ]
  },
  {
   "cell_type": "code",
   "execution_count": 537,
   "id": "ca7c5cc4",
   "metadata": {},
   "outputs": [
    {
     "data": {
      "text/html": [
       "<div>\n",
       "<style scoped>\n",
       "    .dataframe tbody tr th:only-of-type {\n",
       "        vertical-align: middle;\n",
       "    }\n",
       "\n",
       "    .dataframe tbody tr th {\n",
       "        vertical-align: top;\n",
       "    }\n",
       "\n",
       "    .dataframe thead th {\n",
       "        text-align: right;\n",
       "    }\n",
       "</style>\n",
       "<table border=\"1\" class=\"dataframe\">\n",
       "  <thead>\n",
       "    <tr style=\"text-align: right;\">\n",
       "      <th>Generator</th>\n",
       "      <th>gen_A</th>\n",
       "      <th>gen_B</th>\n",
       "      <th>gen_C</th>\n",
       "      <th>gen_D</th>\n",
       "    </tr>\n",
       "    <tr>\n",
       "      <th>snapshot</th>\n",
       "      <th></th>\n",
       "      <th></th>\n",
       "      <th></th>\n",
       "      <th></th>\n",
       "    </tr>\n",
       "  </thead>\n",
       "  <tbody>\n",
       "    <tr>\n",
       "      <th>now</th>\n",
       "      <td>50.0</td>\n",
       "      <td>285.0</td>\n",
       "      <td>-0.0</td>\n",
       "      <td>75.0</td>\n",
       "    </tr>\n",
       "  </tbody>\n",
       "</table>\n",
       "</div>"
      ],
      "text/plain": [
       "Generator  gen_A  gen_B  gen_C  gen_D\n",
       "snapshot                             \n",
       "now         50.0  285.0   -0.0   75.0"
      ]
     },
     "execution_count": 537,
     "metadata": {},
     "output_type": "execute_result"
    }
   ],
   "source": [
    "n.generators_t.p_set"
   ]
  },
  {
   "cell_type": "code",
   "execution_count": 548,
   "id": "f0fe8ed7",
   "metadata": {},
   "outputs": [
    {
     "data": {
      "text/plain": [
       "Generator\n",
       "gen_A    Slack\n",
       "gen_B       PQ\n",
       "gen_C       PQ\n",
       "gen_D       PQ\n",
       "Name: control, dtype: object"
      ]
     },
     "execution_count": 548,
     "metadata": {},
     "output_type": "execute_result"
    }
   ],
   "source": [
    "n.generators.control"
   ]
  },
  {
   "cell_type": "code",
   "execution_count": null,
   "id": "92d5dc2c",
   "metadata": {},
   "outputs": [
    {
     "name": "stderr",
     "output_type": "stream",
     "text": [
      "INFO:pypsa.network.power_flow:Performing non-linear load-flow on AC sub-network <pypsa.networks.SubNetwork object at 0x762976f33e90> for snapshots Index(['now'], dtype='object', name='snapshot')\n"
     ]
    }
   ],
   "source": [
    "n.pf()"
   ]
  },
  {
   "cell_type": "code",
   "execution_count": 539,
   "id": "d6d4f1a4",
   "metadata": {},
   "outputs": [
    {
     "data": {
      "text/html": [
       "<div>\n",
       "<style scoped>\n",
       "    .dataframe tbody tr th:only-of-type {\n",
       "        vertical-align: middle;\n",
       "    }\n",
       "\n",
       "    .dataframe tbody tr th {\n",
       "        vertical-align: top;\n",
       "    }\n",
       "\n",
       "    .dataframe thead th {\n",
       "        text-align: right;\n",
       "    }\n",
       "</style>\n",
       "<table border=\"1\" class=\"dataframe\">\n",
       "  <thead>\n",
       "    <tr style=\"text-align: right;\">\n",
       "      <th>Generator</th>\n",
       "      <th>gen_A</th>\n",
       "      <th>gen_B</th>\n",
       "      <th>gen_C</th>\n",
       "      <th>gen_D</th>\n",
       "    </tr>\n",
       "    <tr>\n",
       "      <th>snapshot</th>\n",
       "      <th></th>\n",
       "      <th></th>\n",
       "      <th></th>\n",
       "      <th></th>\n",
       "    </tr>\n",
       "  </thead>\n",
       "  <tbody>\n",
       "    <tr>\n",
       "      <th>now</th>\n",
       "      <td>53.860705</td>\n",
       "      <td>285.0</td>\n",
       "      <td>-0.0</td>\n",
       "      <td>75.0</td>\n",
       "    </tr>\n",
       "  </tbody>\n",
       "</table>\n",
       "</div>"
      ],
      "text/plain": [
       "Generator      gen_A  gen_B  gen_C  gen_D\n",
       "snapshot                                 \n",
       "now        53.860705  285.0   -0.0   75.0"
      ]
     },
     "execution_count": 539,
     "metadata": {},
     "output_type": "execute_result"
    }
   ],
   "source": [
    "n.generators_t.p"
   ]
  },
  {
   "cell_type": "code",
   "execution_count": null,
   "id": "60e10e48",
   "metadata": {},
   "outputs": [],
   "source": [
    "(n.lines_t.p0 + n.lines_t.p1).sum().sum()"
   ]
  },
  {
   "cell_type": "code",
   "execution_count": 540,
   "id": "c6a0e8e7",
   "metadata": {},
   "outputs": [
    {
     "data": {
      "text/html": [
       "<div>\n",
       "<style scoped>\n",
       "    .dataframe tbody tr th:only-of-type {\n",
       "        vertical-align: middle;\n",
       "    }\n",
       "\n",
       "    .dataframe tbody tr th {\n",
       "        vertical-align: top;\n",
       "    }\n",
       "\n",
       "    .dataframe thead th {\n",
       "        text-align: right;\n",
       "    }\n",
       "</style>\n",
       "<table border=\"1\" class=\"dataframe\">\n",
       "  <thead>\n",
       "    <tr style=\"text-align: right;\">\n",
       "      <th>Generator</th>\n",
       "      <th>gen_A</th>\n",
       "      <th>gen_B</th>\n",
       "      <th>gen_C</th>\n",
       "      <th>gen_D</th>\n",
       "    </tr>\n",
       "    <tr>\n",
       "      <th>snapshot</th>\n",
       "      <th></th>\n",
       "      <th></th>\n",
       "      <th></th>\n",
       "      <th></th>\n",
       "    </tr>\n",
       "  </thead>\n",
       "  <tbody>\n",
       "    <tr>\n",
       "      <th>now</th>\n",
       "      <td>7.379326</td>\n",
       "      <td>0.0</td>\n",
       "      <td>0.0</td>\n",
       "      <td>0.0</td>\n",
       "    </tr>\n",
       "  </tbody>\n",
       "</table>\n",
       "</div>"
      ],
      "text/plain": [
       "Generator     gen_A  gen_B  gen_C  gen_D\n",
       "snapshot                                \n",
       "now        7.379326    0.0    0.0    0.0"
      ]
     },
     "execution_count": 540,
     "metadata": {},
     "output_type": "execute_result"
    }
   ],
   "source": [
    "n.generators_t.q"
   ]
  },
  {
   "cell_type": "code",
   "execution_count": 541,
   "id": "a8567029",
   "metadata": {},
   "outputs": [
    {
     "data": {
      "text/html": [
       "<div>\n",
       "<style scoped>\n",
       "    .dataframe tbody tr th:only-of-type {\n",
       "        vertical-align: middle;\n",
       "    }\n",
       "\n",
       "    .dataframe tbody tr th {\n",
       "        vertical-align: top;\n",
       "    }\n",
       "\n",
       "    .dataframe thead th {\n",
       "        text-align: right;\n",
       "    }\n",
       "</style>\n",
       "<table border=\"1\" class=\"dataframe\">\n",
       "  <thead>\n",
       "    <tr style=\"text-align: right;\">\n",
       "      <th></th>\n",
       "      <th>line_1</th>\n",
       "      <th>line_2</th>\n",
       "      <th>line_3</th>\n",
       "    </tr>\n",
       "    <tr>\n",
       "      <th>snapshot</th>\n",
       "      <th></th>\n",
       "      <th></th>\n",
       "      <th></th>\n",
       "    </tr>\n",
       "  </thead>\n",
       "  <tbody>\n",
       "    <tr>\n",
       "      <th>now</th>\n",
       "      <td>-1.811567</td>\n",
       "      <td>9.190894</td>\n",
       "      <td>-4.388279</td>\n",
       "    </tr>\n",
       "  </tbody>\n",
       "</table>\n",
       "</div>"
      ],
      "text/plain": [
       "            line_1    line_2    line_3\n",
       "snapshot                              \n",
       "now      -1.811567  9.190894 -4.388279"
      ]
     },
     "execution_count": 541,
     "metadata": {},
     "output_type": "execute_result"
    }
   ],
   "source": [
    "n.lines_t.q0"
   ]
  },
  {
   "cell_type": "code",
   "execution_count": null,
   "id": "f22ecb44",
   "metadata": {},
   "outputs": [
    {
     "data": {
      "text/html": [
       "<div>\n",
       "<style scoped>\n",
       "    .dataframe tbody tr th:only-of-type {\n",
       "        vertical-align: middle;\n",
       "    }\n",
       "\n",
       "    .dataframe tbody tr th {\n",
       "        vertical-align: top;\n",
       "    }\n",
       "\n",
       "    .dataframe thead th {\n",
       "        text-align: right;\n",
       "    }\n",
       "</style>\n",
       "<table border=\"1\" class=\"dataframe\">\n",
       "  <thead>\n",
       "    <tr style=\"text-align: right;\">\n",
       "      <th>Bus</th>\n",
       "      <th>zone_1</th>\n",
       "      <th>zone_2</th>\n",
       "      <th>zone_3</th>\n",
       "    </tr>\n",
       "    <tr>\n",
       "      <th>snapshot</th>\n",
       "      <th></th>\n",
       "      <th></th>\n",
       "      <th></th>\n",
       "    </tr>\n",
       "  </thead>\n",
       "  <tbody>\n",
       "    <tr>\n",
       "      <th>now</th>\n",
       "      <td>0.0</td>\n",
       "      <td>-1.202765</td>\n",
       "      <td>-1.532529</td>\n",
       "    </tr>\n",
       "  </tbody>\n",
       "</table>\n",
       "</div>"
      ],
      "text/plain": [
       "Bus       zone_1    zone_2    zone_3\n",
       "snapshot                            \n",
       "now          0.0 -1.202765 -1.532529"
      ]
     },
     "execution_count": 542,
     "metadata": {},
     "output_type": "execute_result"
    }
   ],
   "source": [
    "from numpy import pi\n",
    "n.buses_t.v_ang * 180 / pi"
   ]
  },
  {
   "cell_type": "markdown",
   "id": "8c64de27",
   "metadata": {},
   "source": [
    "This example is based on Tom Brown's [Energy Systems](https://nworbmot.org/courses/es-25) course, taken from lecture [Complex Markets](https://nworbmot.org/courses/es-25/es-9-complex_markets.pdf) slides 42ff."
   ]
  },
  {
   "cell_type": "markdown",
   "id": "7896aa81",
   "metadata": {},
   "source": []
  }
 ],
 "metadata": {
  "kernelspec": {
   "display_name": "pypsa",
   "language": "python",
   "name": "python3"
  },
  "language_info": {
   "codemirror_mode": {
    "name": "ipython",
    "version": 3
   },
   "file_extension": ".py",
   "mimetype": "text/x-python",
   "name": "python",
   "nbconvert_exporter": "python",
   "pygments_lexer": "ipython3",
   "version": "3.13.2"
  }
 },
 "nbformat": 4,
 "nbformat_minor": 5
}
