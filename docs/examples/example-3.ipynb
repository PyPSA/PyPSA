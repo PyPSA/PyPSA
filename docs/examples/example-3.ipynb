{
 "cells": [
  {
   "cell_type": "code",
   "execution_count": null,
   "metadata": {
    "tags": [
     "injected-warnings",
     "hide-cell"
    ]
   },
   "outputs": [],
   "source": [
    "# General notebook settings\n",
    "import warnings\n",
    "\n",
    "warnings.filterwarnings(\"error\", category=DeprecationWarning)"
   ]
  },
  {
   "cell_type": "markdown",
   "id": "7fa1d5b2",
   "metadata": {},
   "source": [
    "\n",
    "# Quickstart 3 - Investments & Storage\n",
    "\n",
    "\n",
    "## Problem Description\n",
    "\n",
    "A data centre in Seville, Spain, has a constant demand of 100 MW. The operator\n",
    "considers investing in on-site solar PV and battery storage to reduce reliance\n",
    "on grid electricity, which is priced at 120 €/MWh. The investment costs and\n",
    "characteristics of the components are as follows:\n",
    "\n",
    "\n",
    "| Component | Overnight Cost | Lifetime | Discount Rate |\n",
    "|-----------|----------------|----------|---------------|\n",
    "| Solar PV  | 400 €/kW       | 25 years | 5%            |\n",
    "| Battery Storage   | 150 €/kWh      | 25 years | 5%            |\n",
    "| Battery Inverter  | 170 €/kW       | 10 years | 5%            |\n",
    "\n",
    "- The battery storage system has a round-trip efficiency of 90% and an energy-to-power ratio of 4 hours.\n",
    "- The solar PV plant has a capacity factor time series given [here](https://model.energy/data/time-series-f17c3736a2719ce7da58484180d89e2d.csv).\n",
    "- Assume that feeding electricity into the grid is not allowed.\n",
    "\n",
    "Find the least-cost investment in solar PV and battery storage to cover the load. What is the average cost per unit of electricity consumed?\n",
    "How much electricity is consumed from the grid and when? How is the battery operated?\n",
    "\n",
    "## PyPSA Solution\n",
    "\n",
    "We start by creating a new network with a single bus and the data centre load.\n",
    "We also add a generator to model supply from the grid priced at 120 €/MWh.\n",
    "These are the fixed components of the network."
   ]
  },
  {
   "cell_type": "code",
   "execution_count": null,
   "id": "cfe717e0",
   "metadata": {},
   "outputs": [],
   "source": [
    "import numpy as np\n",
    "import pandas as pd\n",
    "\n",
    "import pypsa\n",
    "from pypsa.common import annuity\n",
    "\n",
    "n = pypsa.Network()\n",
    "\n",
    "n.add(\"Bus\", \"seville\")\n",
    "\n",
    "n.add(\"Load\", \"demand\", bus=\"seville\", p_set=100)\n",
    "\n",
    "n.add(\"Generator\", \"grid\", bus=\"seville\", p_nom=100, marginal_cost=120, carrier=\"grid\");"
   ]
  },
  {
   "cell_type": "markdown",
   "id": "4133f74f",
   "metadata": {},
   "source": [
    "Next, we read in the capacity factor time series of the network, which covers hourly data for the year 2011."
   ]
  },
  {
   "cell_type": "code",
   "execution_count": null,
   "id": "a78d0105",
   "metadata": {},
   "outputs": [],
   "source": [
    "p_max_pu = pd.read_csv(\n",
    "    \"https://model.energy/data/time-series-f17c3736a2719ce7da58484180d89e2d.csv\",\n",
    "    index_col=0,\n",
    "    parse_dates=True,\n",
    ")[\"solar\"]\n",
    "p_max_pu[7:15]"
   ]
  },
  {
   "cell_type": "markdown",
   "id": "b6cdee7c",
   "metadata": {},
   "source": [
    "We need to tell PyPSA that these are the snapshots (time steps) we want to optimise over."
   ]
  },
  {
   "cell_type": "code",
   "execution_count": null,
   "id": "b08e0a1a",
   "metadata": {},
   "outputs": [],
   "source": [
    "n.set_snapshots(p_max_pu.index)\n",
    "len(n.snapshots)"
   ]
  },
  {
   "cell_type": "markdown",
   "id": "38dfb874",
   "metadata": {},
   "source": [
    "Then, we add the solar PV with the availability time series as `p_max_pu`, the annualised costs in €/MW/a as `capital_cost` and mark the component as extendable with `p_nom_extendable`."
   ]
  },
  {
   "cell_type": "code",
   "execution_count": null,
   "id": "7c4e74b6",
   "metadata": {},
   "outputs": [],
   "source": [
    "n.add(\n",
    "    \"Generator\",\n",
    "    \"solar\",\n",
    "    bus=\"seville\",\n",
    "    p_max_pu=p_max_pu,\n",
    "    capital_cost=annuity(0.05, 25) * 400_000,\n",
    "    p_nom_extendable=True,\n",
    "    carrier=\"solar\",\n",
    ");"
   ]
  },
  {
   "cell_type": "markdown",
   "id": "417fbf37",
   "metadata": {},
   "source": [
    "Similarly, we add the battery storage. Here, we need to take extra care with the multiple cost components of the battery system for the `capital_cost`, and the energy-to-power ratio (`max_hours`)."
   ]
  },
  {
   "cell_type": "code",
   "execution_count": null,
   "id": "d29cd8ae",
   "metadata": {},
   "outputs": [],
   "source": [
    "cc_inverter = annuity(0.05, 25) * 170_000\n",
    "cc_storage = annuity(0.05, 25) * 150_000\n",
    "\n",
    "n.add(\n",
    "    \"StorageUnit\",\n",
    "    \"battery\",\n",
    "    bus=\"seville\",\n",
    "    capital_cost=cc_inverter + 4 * cc_storage,\n",
    "    p_nom_extendable=True,\n",
    "    carrier=\"battery\",\n",
    "    efficiency_store=np.sqrt(0.9),\n",
    "    efficiency_dispatch=np.sqrt(0.9),\n",
    "    max_hours=4,\n",
    ");"
   ]
  },
  {
   "cell_type": "markdown",
   "id": "d2ac023b",
   "metadata": {},
   "source": [
    "Now, the model is ready to be solved:"
   ]
  },
  {
   "cell_type": "code",
   "execution_count": null,
   "id": "f2cb8256",
   "metadata": {},
   "outputs": [],
   "source": [
    "n.optimize(log_to_console=False)"
   ]
  },
  {
   "cell_type": "markdown",
   "id": "2093f988",
   "metadata": {},
   "source": [
    "To retrieve the optimised capacities, we can either directly access the `p_nom_opt` attribute of the components, or use the `n.statistics` module."
   ]
  },
  {
   "cell_type": "code",
   "execution_count": null,
   "id": "85993680",
   "metadata": {},
   "outputs": [],
   "source": [
    "display(n.generators.p_nom_opt)\n",
    "display(n.storage_units.p_nom_opt)"
   ]
  },
  {
   "cell_type": "code",
   "execution_count": null,
   "id": "aca55198",
   "metadata": {},
   "outputs": [],
   "source": [
    "n.statistics.optimal_capacity()"
   ]
  },
  {
   "cell_type": "markdown",
   "id": "89e7238c",
   "metadata": {},
   "source": [
    "The statistics module also provides a convenient way to calculate investment and operational costs, as well as the average cost per unit of electricity consumed."
   ]
  },
  {
   "cell_type": "code",
   "execution_count": null,
   "id": "2aac689b",
   "metadata": {},
   "outputs": [],
   "source": [
    "totex = {\"opex\": n.statistics.opex(), \"capex\": n.statistics.capex()}\n",
    "pd.concat(totex, axis=1).div(1e6).round(2)  # M€/a"
   ]
  },
  {
   "cell_type": "code",
   "execution_count": null,
   "id": "c1a1f113",
   "metadata": {},
   "outputs": [],
   "source": [
    "(n.statistics.capex().sum() + n.statistics.opex().sum()) / 100 / 8760  # €/MWh"
   ]
  },
  {
   "cell_type": "markdown",
   "id": "4e0469ac",
   "metadata": {},
   "source": [
    "The statistics module can also give you the energy balances of the system, to see how much electricity is consumed from the grid and when, and what the battery storage losses are."
   ]
  },
  {
   "cell_type": "code",
   "execution_count": null,
   "id": "902d26e0",
   "metadata": {},
   "outputs": [],
   "source": [
    "n.statistics.energy_balance().div(1e3)  # GWh"
   ]
  },
  {
   "cell_type": "markdown",
   "id": "94e24dce",
   "metadata": {},
   "source": [
    "To access and plot the state of charge profile of the battery for January, run"
   ]
  },
  {
   "cell_type": "code",
   "execution_count": null,
   "id": "45979457",
   "metadata": {},
   "outputs": [],
   "source": [
    "n.storage_units_t.state_of_charge.loc[\"2011-01\"].plot(backend=\"plotly\")"
   ]
  },
  {
   "cell_type": "markdown",
   "id": "80334eaa",
   "metadata": {},
   "source": [
    "The statistics functions also have built-in plotting capabilities, e.g. to plot the dispatch profiles of the system as stacked area charts."
   ]
  },
  {
   "cell_type": "code",
   "execution_count": null,
   "id": "3eccce6e",
   "metadata": {},
   "outputs": [],
   "source": [
    "n.add(\n",
    "    \"Carrier\",\n",
    "    [\"grid\", \"solar\", \"battery\", \"AC\"],\n",
    "    color=[\"blue\", \"yellow\", \"green\", \"k\"],\n",
    ")\n",
    "\n",
    "n.statistics.energy_balance.iplot()"
   ]
  },
  {
   "cell_type": "markdown",
   "id": "ed5e87b4",
   "metadata": {},
   "source": [
    "Finally, any network object can be exported to files, for example to Excel or NetCDF, for further analysis or reporting.  Importing from files is of course also possible."
   ]
  },
  {
   "cell_type": "code",
   "execution_count": null,
   "id": "ab792144",
   "metadata": {},
   "outputs": [],
   "source": [
    "n.export_to_excel(\"data-centre-investment.xlsx\")\n",
    "n.export_to_netcdf(\"data-centre-investment.nc\")\n",
    "\n",
    "o = pypsa.Network(\"data-centre-investment.nc\")"
   ]
  },
  {
   "cell_type": "markdown",
   "id": "4b9cfaa6",
   "metadata": {},
   "source": [
    "Find many more extensive examples in the [examples](examples.md) section.\n",
    "\n",
    "The [user guide](user-guide.md) section contains detailed information on architecture, components, problem formulation and utilities."
   ]
  }
 ],
 "metadata": {
  "kernelspec": {
   "display_name": "",
   "language": "python",
   "name": ""
  },
  "language_info": {
   "codemirror_mode": {
    "name": "ipython",
    "version": 3
   },
   "file_extension": ".py",
   "mimetype": "text/x-python",
   "name": "python",
   "nbconvert_exporter": "python",
   "pygments_lexer": "ipython3",
   "version": "3.13.2"
  }
 },
 "nbformat": 4,
 "nbformat_minor": 5
}
