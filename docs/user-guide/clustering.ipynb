{
 "cells": [
  {
   "cell_type": "code",
   "execution_count": null,
   "id": "929954c0",
   "metadata": {
    "tags": [
     "injected-warnings",
     "hide-cell"
    ]
   },
   "outputs": [],
   "source": [
    "# General notebook settings\n",
    "import warnings\n",
    "\n",
    "warnings.filterwarnings(\"error\", category=DeprecationWarning)"
   ]
  },
  {
   "cell_type": "markdown",
   "id": "c907dcbe",
   "metadata": {},
   "source": [
    "# Network Clustering\n",
    "\n",
    "In this section, we show how PyPSA can deal with spatial clustering of networks. We first load the SciGRID example network and reduce it to standard attributes as otherwise the clustering does not work.\n",
    "\n",
    "The important information needed for spatial clustering is in the `busmap`. This `pandas.Series` contains the mapping of which buses from the unclustered network should be grouped together, similar to the `groupby` argument known from `pandas`.\n",
    "\n",
    "You can either calculate a `busmap` from the provided **clustering algorithms** or you can provide your **own busmap**."
   ]
  },
  {
   "cell_type": "code",
   "execution_count": null,
   "id": "4ca7c4ab",
   "metadata": {},
   "outputs": [],
   "source": [
    "import cartopy.crs as ccrs\n",
    "import geopandas as gpd\n",
    "import matplotlib.pyplot as plt\n",
    "import pandas as pd\n",
    "\n",
    "import pypsa\n",
    "\n",
    "crs = ccrs.LambertConformal(\n",
    "    central_longitude=10, central_latitude=51, standard_parallels=(47, 55)\n",
    ")\n",
    "\n",
    "kwargs = {\"boundaries\": [6, 15, 47, 55]}\n",
    "\n",
    "n = pypsa.examples.scigrid_de()\n",
    "\n",
    "n.calculate_dependent_values()\n",
    "n.lines = n.lines.reindex(columns=n.components[\"Line\"][\"defaults\"].index[1:])\n",
    "n.lines[\"type\"] = \"Al/St 240/40 2-bundle 220.0\"\n",
    "n.buses = n.buses.reindex(columns=n.components[\"Bus\"][\"defaults\"].index[1:])\n",
    "n.buses[\"frequency\"] = 50"
   ]
  },
  {
   "cell_type": "markdown",
   "id": "3d8716b3",
   "metadata": {},
   "source": [
    "## Custom Clustering\n",
    "\n",
    "Let's start with creating an own busmap. Suppose we want to cluster by federal states.\n",
    "Using `geopandas` we can achieve this by spatially joining the bus coordinates with a `geopandas.GeoDataFrame` containing the federal state boundaries.\n",
    "Here, we use the function `.sjoin_nearest()` with an appropriate projection (\"EPSG:3035\") as some buses are located near the borders of federal states in neighbouring countries.\n"
   ]
  },
  {
   "cell_type": "code",
   "execution_count": null,
   "id": "ab25c89b",
   "metadata": {},
   "outputs": [],
   "source": [
    "url = \"https://media.githubusercontent.com/media/wmgeolab/geoBoundaries/9469f09592ced973a3448cf66b6100b741b64c0d/releaseData/gbOpen/DEU/ADM1/geoBoundaries-DEU-ADM1-all.zip\"\n",
    "states = gpd.read_file(url, layer=\"geoBoundaries-DEU-ADM1_simplified\")\n",
    "states.plot(edgecolor=\"k\")"
   ]
  },
  {
   "cell_type": "code",
   "execution_count": null,
   "id": "d4b00deb",
   "metadata": {},
   "outputs": [],
   "source": [
    "bus_coords = gpd.GeoDataFrame(\n",
    "    geometry=gpd.points_from_xy(n.buses.x, n.buses.y, crs=4326), index=n.buses.index\n",
    ")\n",
    "busmap = bus_coords.to_crs(3035).sjoin_nearest(states.to_crs(3035), how=\"left\").shapeISO\n",
    "busmap.head(10)"
   ]
  },
  {
   "cell_type": "markdown",
   "id": "eaf3f939",
   "metadata": {},
   "source": [
    "Now we cluster the network based on the busmap."
   ]
  },
  {
   "cell_type": "code",
   "execution_count": null,
   "id": "d42f0202",
   "metadata": {},
   "outputs": [],
   "source": [
    "cluster = n.cluster.get_clustering_from_busmap(busmap)"
   ]
  },
  {
   "cell_type": "markdown",
   "id": "d28013f7",
   "metadata": {},
   "source": [
    "`cluster` is a [`Clustering`][pypsa.clustering.spatial.Clustering] object which contains the `cluster.busmap`, the derived `cluster.linemap` (mapping of parallel lines to aggregate), and the clustered network `cluster.n`.\n",
    "\n",
    "Let's compare the original to the clustered network topology:"
   ]
  },
  {
   "cell_type": "code",
   "execution_count": null,
   "id": "47dadcaa",
   "metadata": {},
   "outputs": [],
   "source": [
    "fig, axs = plt.subplots(1, 2, subplot_kw={\"projection\": crs}, figsize=(10, 7))\n",
    "for ax in axs:\n",
    "    states.to_crs(crs.proj4_init).plot(ax=ax, edgecolor=\"orange\", facecolor=\"none\")\n",
    "n.plot(ax=axs[0], title=\"unclustered\", bus_size=0.005, **kwargs)\n",
    "cluster.n.plot(ax=axs[1], title=\"clustered by federal state\", bus_size=0.005, **kwargs);"
   ]
  },
  {
   "cell_type": "markdown",
   "id": "c7b4503a",
   "metadata": {},
   "source": [
    "With the default settings of `get_clustering_from_busmap()`, the attached components are **not** aggregated. That means, for example, for every generator, only the `bus` it attaches to is changed to the respective new clustered bus."
   ]
  },
  {
   "cell_type": "code",
   "execution_count": null,
   "id": "2c1e833b",
   "metadata": {},
   "outputs": [],
   "source": [
    "cluster.n.generators.query(\"bus=='DE-HB'\")[[\"p_nom\", \"carrier\"]]"
   ]
  },
  {
   "cell_type": "markdown",
   "id": "d5faf412",
   "metadata": {},
   "source": [
    "When clustering of attached components to one representative generator per `carrier` is desired, the `aggregate_one_ports` option can be used. For instance, to cluster generators to one representative generator per `carrier` and `bus` run:"
   ]
  },
  {
   "cell_type": "code",
   "execution_count": null,
   "id": "c5a77202",
   "metadata": {},
   "outputs": [],
   "source": [
    "cluster = n.cluster.get_clustering_from_busmap(\n",
    "    busmap, aggregate_one_ports={\"Generator\"}\n",
    ")\n",
    "cluster.n.generators.query(\"bus=='DE-HB'\")[[\"p_nom\", \"carrier\"]]"
   ]
  },
  {
   "cell_type": "markdown",
   "id": "af8e8a4b",
   "metadata": {},
   "source": [
    "If only some carriers should be aggregated, this can be controlled with the `aggregate_generators_carriers` option. For example, to aggregate wind, solar and hard coal, run:"
   ]
  },
  {
   "cell_type": "code",
   "execution_count": null,
   "id": "bbf697e4",
   "metadata": {},
   "outputs": [],
   "source": [
    "cluster = n.cluster.get_clustering_from_busmap(\n",
    "    busmap,\n",
    "    aggregate_generators_carriers=[\"Hard Coal\", \"Wind Onshore\", \"Solar\"],\n",
    "    aggregate_generators_weighted=True,\n",
    ")\n",
    "cluster.n.generators.query(\"bus=='DE-HB'\")[[\"p_nom\", \"carrier\"]]"
   ]
  },
  {
   "cell_type": "markdown",
   "id": "9a6addc9",
   "metadata": {},
   "source": [
    "For each attribute, default aggregation strategies are defined (e.g. minimum, maximum, sum, or capacity-weighted sum). These can be found under:\n",
    "\n",
    "```python\n",
    "from pypsa.clustering.spatial import DEFAULT_ONE_PORT_STRATEGIES, DEFAULT_BUS_STRATEGIES, DEFAULT_LINE_STRATEGIES\n",
    "```"
   ]
  },
  {
   "cell_type": "markdown",
   "id": "22bd0ef9",
   "metadata": {},
   "source": [
    "## K-means Clustering\n",
    "\n",
    "Let's now determine' a clustering automatically based on the [K-means algorithm](https://en.wikipedia.org/wiki/K-means_clustering) for a target number of 40 clusters using [`sklearn.cluster.KMeans`](https://scikit-learn.org/stable/modules/generated/sklearn.cluster.KMeans.html).\n",
    "Initially, we will assume uniform weights for all buses (i.e. the clustering will be based on pure geographical distance). Later we will add bus-specific weights."
   ]
  },
  {
   "cell_type": "code",
   "execution_count": null,
   "id": "59b16295",
   "metadata": {},
   "outputs": [],
   "source": [
    "weighting = pd.Series(1, n.buses.index)\n",
    "busmap = n.cluster.busmap_by_kmeans(bus_weightings=weighting, n_clusters=40)\n",
    "n_clustered = n.cluster.cluster_by_busmap(busmap)"
   ]
  },
  {
   "cell_type": "markdown",
   "id": "89681fef",
   "metadata": {},
   "source": [
    "We can also achieve the same in one function call without first defining the `busmap` manually:"
   ]
  },
  {
   "cell_type": "code",
   "execution_count": null,
   "id": "86ad0c94",
   "metadata": {},
   "outputs": [],
   "source": [
    "n_clustered = n.cluster.cluster_spatially_by_kmeans(\n",
    "    bus_weightings=weighting, n_clusters=40\n",
    ")"
   ]
  },
  {
   "cell_type": "markdown",
   "id": "83610fb8",
   "metadata": {},
   "source": [
    "\n",
    "Again, let's plot the networks to compare (with bus sizes proportional to loads):"
   ]
  },
  {
   "cell_type": "code",
   "execution_count": null,
   "id": "61da02ab",
   "metadata": {},
   "outputs": [],
   "source": [
    "fig, axs = plt.subplots(1, 2, subplot_kw={\"projection\": crs}, figsize=(10, 7))\n",
    "n.plot(ax=axs[0], title=\"unclustered\", bus_size=0.005, **kwargs)\n",
    "n_clustered.plot(ax=axs[1], title=\"clustered by kmeans\", bus_size=0.005, **kwargs);"
   ]
  },
  {
   "cell_type": "markdown",
   "id": "b817f06a",
   "metadata": {},
   "source": [
    "We can also assign some weights to the buses, for example, so that low-demand buses are aggregated more strongly:"
   ]
  },
  {
   "cell_type": "code",
   "execution_count": null,
   "id": "031c8371",
   "metadata": {},
   "outputs": [],
   "source": [
    "loads = (\n",
    "    n.loads_t.p_set.sum()\n",
    "    .groupby(n.loads.bus)\n",
    "    .sum()\n",
    "    .reindex(index=n.buses.index)\n",
    "    .fillna(1)\n",
    ")\n",
    "n_clustered = n.cluster.cluster_spatially_by_kmeans(bus_weightings=loads, n_clusters=40)"
   ]
  },
  {
   "cell_type": "code",
   "execution_count": null,
   "id": "dd251359",
   "metadata": {},
   "outputs": [],
   "source": [
    "loads_clustered = (\n",
    "    n_clustered.loads_t.p_set.sum()\n",
    "    .groupby(n_clustered.loads.bus)\n",
    "    .sum()\n",
    "    .reindex(index=n_clustered.buses.index)\n",
    ")\n",
    "fig, axs = plt.subplots(1, 2, subplot_kw={\"projection\": crs}, figsize=(10, 7))\n",
    "n.plot(ax=axs[0], title=\"unclustered\", bus_size=loads.div(1e6), **kwargs)\n",
    "n_clustered.plot(\n",
    "    ax=axs[1],\n",
    "    title=\"clustered by weighted kmeans\",\n",
    "    bus_size=loads_clustered.div(1e6),\n",
    "    **kwargs,\n",
    ");"
   ]
  },
  {
   "cell_type": "markdown",
   "id": "a9cdfcdc",
   "metadata": {},
   "source": [
    "## Hierarchical Clustering\n",
    "\n",
    "The Hierarchical Agglomerative Clustering (HAC) is a bottom-up approach that initially treats each node as its own cluster. In each iteration two adjacent clusters (e.g. connected by a line or link) are aggregated that have the most similar feature(s) with respect to a given similarity measure. The implementation uses [`sklearn.cluster.AgglomerativeClustering`](https://scikit-learn.org/stable/modules/generated/sklearn.cluster.AgglomerativeClustering.html).\n",
    "\n",
    "Let's say we want to cluster the buses based on similarity in their solar generation profiles in existing plants (note that in the example dataset there are few solar generators in the central part of Germany).\n",
    "Then we would prepare the `feature` matrix as follows:"
   ]
  },
  {
   "cell_type": "code",
   "execution_count": null,
   "id": "5f99108c",
   "metadata": {},
   "outputs": [],
   "source": [
    "feature = (\n",
    "    n.generators_t.p_max_pu.filter(like=\"Solar\")\n",
    "    .T.groupby(n.generators.bus)\n",
    "    .mean()\n",
    "    .reindex(n.buses.index)\n",
    "    .ffill()\n",
    ")\n",
    "\n",
    "n_clustered = n.cluster.cluster_spatially_by_hac(feature=feature, n_clusters=40)\n",
    "\n",
    "feature.iloc[:5, 8:16]"
   ]
  },
  {
   "cell_type": "code",
   "execution_count": null,
   "id": "7d3c11bf",
   "metadata": {},
   "outputs": [],
   "source": [
    "feature_clustered = (\n",
    "    n_clustered.generators_t.p_max_pu.filter(like=\"Solar\")\n",
    "    .T.groupby(n_clustered.generators.bus)\n",
    "    .mean()\n",
    ")\n",
    "fig, axs = plt.subplots(1, 2, subplot_kw={\"projection\": crs}, figsize=(10, 7))\n",
    "n.plot(\n",
    "    ax=axs[0],\n",
    "    title=\"unclustered\",\n",
    "    bus_size=0.01,\n",
    "    bus_color=feature.mean(axis=1),\n",
    "    **kwargs,\n",
    ")\n",
    "n_clustered.plot(\n",
    "    ax=axs[1],\n",
    "    title=\"clustered by hac (solar)\",\n",
    "    bus_size=0.01,\n",
    "    bus_color=feature_clustered.mean(axis=1),\n",
    "    **kwargs,\n",
    ");"
   ]
  },
  {
   "cell_type": "markdown",
   "id": "8d151921",
   "metadata": {},
   "source": [
    "## Greedy Modularity Clustering\n",
    "\n",
    "The greedy modularity clustering approach seeks to find community structures using [`networkx.community.greedy_modularity_communities`](https://networkx.org/documentation/stable/reference/algorithms/generated/networkx.algorithms.community.modularity_max.greedy_modularity_communities.html). The algorithm begins with each node in its own cluster and joins the pair of clusters that most increases [modularity](https://en.wikipedia.org/wiki/Modularity_(networks)). No weights are applied for this algorithm."
   ]
  },
  {
   "cell_type": "code",
   "execution_count": null,
   "id": "e236b1ee",
   "metadata": {},
   "outputs": [],
   "source": [
    "n_clustered = n.cluster.cluster_spatially_by_greedy_modularity(n_clusters=80)"
   ]
  },
  {
   "cell_type": "markdown",
   "id": "6dd85e5c",
   "metadata": {},
   "source": [
    "## References\n",
    "\n",
    "For more information, consult the following research papers:\n",
    "\n",
    "1. Frysztacki, Recht, Brown (2022), [A comparison of clustering methods for the spatial reduction of renewable electricity optimisation models of Europe](https://energyinformatics.springeropen.com/articles/10.1186/s42162-022-00187-7), **Energy Informatics**.\n",
    "\n",
    "2. Frysztacki, Hörsch, Hagenmeyer, Brown (2021), [The strong effect of network resolution on electricity system models with high shares of wind and solar](https://doi.org/10.1016/j.apenergy.2021.116726), **Applied Energy**."
   ]
  },
  {
   "cell_type": "markdown",
   "id": "382e519a",
   "metadata": {},
   "source": []
  }
 ],
 "metadata": {
  "kernelspec": {
   "display_name": "",
   "language": "python",
   "name": ""
  },
  "language_info": {
   "codemirror_mode": {
    "name": "ipython",
    "version": 3
   },
   "file_extension": ".py",
   "mimetype": "text/x-python",
   "name": "python",
   "nbconvert_exporter": "python",
   "pygments_lexer": "ipython3",
   "version": "3.13.2"
  }
 },
 "nbformat": 4,
 "nbformat_minor": 5
}
