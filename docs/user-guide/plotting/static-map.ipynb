{
 "cells": [
  {
   "cell_type": "code",
   "execution_count": null,
   "metadata": {
    "tags": [
     "injected-warnings",
     "hide-cell"
    ]
   },
   "outputs": [],
   "source": [
    "# General notebook settings\n",
    "import warnings\n",
    "\n",
    "warnings.filterwarnings(\"error\", category=DeprecationWarning)"
   ]
  },
  {
   "cell_type": "markdown",
   "id": "fc823344",
   "metadata": {},
   "source": [
    "# Maps (Static)"
   ]
  },
  {
   "cell_type": "markdown",
   "id": "2cd0b43d",
   "metadata": {},
   "source": [
    "PyPSA has a built-in method to map parameters and results in a static plot using `n.plot()`. For interactive maps, please see [Interactive Maps](/user-guide/plotting/plotting-maps-interactive)"
   ]
  },
  {
   "cell_type": "markdown",
   "id": "bf33add3",
   "metadata": {},
   "source": [
    "## Input data"
   ]
  },
  {
   "cell_type": "code",
   "execution_count": null,
   "id": "e6eecbc9",
   "metadata": {},
   "outputs": [],
   "source": [
    "import geopandas as gpd\n",
    "\n",
    "import pypsa\n",
    "\n",
    "n = pypsa.examples.scigrid_de()"
   ]
  },
  {
   "cell_type": "markdown",
   "id": "78e4f4ff",
   "metadata": {},
   "source": [
    "## Preparation"
   ]
  },
  {
   "cell_type": "markdown",
   "id": "8a625075",
   "metadata": {},
   "source": [
    "For illustrative purposes and a simpler postprocessing workflow, we cluster the network based on federal states. For a more detailed guide on clustering, please go to [Network Clustering](/examples/clustering). Within the scope of this guide, you can ignore the following blocks."
   ]
  },
  {
   "cell_type": "code",
   "execution_count": null,
   "id": "d51cc221",
   "metadata": {},
   "outputs": [],
   "source": [
    "n.calculate_dependent_values()\n",
    "n.lines = n.lines.reindex(columns=n.components[\"Line\"][\"defaults\"].index[1:])\n",
    "n.lines[\"type\"] = \"Al/St 240/40 2-bundle 220.0\"\n",
    "n.buses = n.buses.reindex(columns=n.components[\"Bus\"][\"defaults\"].index[1:])\n",
    "n.buses[\"frequency\"] = 50\n",
    "\n",
    "url = \"https://media.githubusercontent.com/media/wmgeolab/geoBoundaries/9469f09592ced973a3448cf66b6100b741b64c0d/releaseData/gbOpen/DEU/ADM1/geoBoundaries-DEU-ADM1-all.zip\"\n",
    "states = gpd.read_file(url, layer=\"geoBoundaries-DEU-ADM1_simplified\")\n",
    "states[\"shapeName\"] = states[\"shapeName\"].apply(\n",
    "    lambda x: x.encode(\"latin1\").decode(\"utf-8\")\n",
    ")  # fix encoding issue\n",
    "\n",
    "bus_coords = gpd.GeoDataFrame(\n",
    "    geometry=gpd.points_from_xy(n.buses.x, n.buses.y, crs=4326), index=n.buses.index\n",
    ")\n",
    "busmap = bus_coords.to_crs(3035).sjoin_nearest(states.to_crs(3035), how=\"left\").shapeISO\n",
    "nc = n.cluster.cluster_by_busmap(busmap)"
   ]
  },
  {
   "cell_type": "markdown",
   "id": "ec137b09",
   "metadata": {},
   "source": [
    "By default, calling `n.plot()` will render all network components based on the `x` and `y` coordinates defined in `n.buses`. This allows us to get a first visual overview on the two networks, before and after clustering."
   ]
  },
  {
   "cell_type": "code",
   "execution_count": null,
   "id": "773bb70e",
   "metadata": {},
   "outputs": [],
   "source": [
    "n.plot()"
   ]
  },
  {
   "cell_type": "code",
   "execution_count": null,
   "id": "3c11c716",
   "metadata": {},
   "outputs": [],
   "source": [
    "nc.plot()"
   ]
  },
  {
   "cell_type": "markdown",
   "id": "90c33ba9",
   "metadata": {},
   "source": [
    "## Retrieving Results Data"
   ]
  },
  {
   "cell_type": "markdown",
   "id": "fe56d158",
   "metadata": {},
   "source": [
    "To map result to parameters of `n.plot()`, we first solve the network and then use `n.statistics()` to calculate relevant metrics."
   ]
  },
  {
   "cell_type": "code",
   "execution_count": null,
   "id": "eb9e905e",
   "metadata": {},
   "outputs": [],
   "source": [
    "# We reduce logging output for clarity\n",
    "import logging\n",
    "\n",
    "logging.getLogger(\"pypsa\").setLevel(logging.ERROR)\n",
    "logging.getLogger(\"linopy\").setLevel(logging.ERROR)\n",
    "\n",
    "nc.optimize()"
   ]
  },
  {
   "cell_type": "markdown",
   "id": "39c862fc",
   "metadata": {},
   "source": [
    "From above we learned that `bus_size` accepts parameters of type `float`, `dict`, and `pd.Series`. When passing a multi-index `pd.Series`, its values will be mapped to pie chart slices."
   ]
  },
  {
   "cell_type": "code",
   "execution_count": null,
   "id": "469ea126",
   "metadata": {},
   "outputs": [],
   "source": [
    "eb = (\n",
    "    nc.statistics.energy_balance(\n",
    "        groupby=[\"bus\", \"carrier\"],\n",
    "        components=[\"Generator\", \"Load\", \"StorageUnit\"],\n",
    "    )\n",
    "    .groupby([\"bus\", \"carrier\"])\n",
    "    .sum()\n",
    ")"
   ]
  },
  {
   "cell_type": "markdown",
   "id": "824d6d1d",
   "metadata": {},
   "source": [
    "We also extract branch results, e.g., line and link flows in this example."
   ]
  },
  {
   "cell_type": "code",
   "execution_count": null,
   "id": "7f34b341",
   "metadata": {},
   "outputs": [],
   "source": [
    "line_flow = nc.lines_t.p0.sum(axis=0)\n",
    "link_flow = nc.links_t.p0.sum(axis=0)"
   ]
  },
  {
   "cell_type": "markdown",
   "id": "c6a1dc9f",
   "metadata": {},
   "source": [
    "Note that for the pie slices to be plotted and colored correctly, passing a multi-index `pd.Series` requires all carrier colors to exist. Colors can be specified by their hex code representation or from the list of [matplotlib names](https://matplotlib.org/stable/gallery/color/named_colors.html). In `n.statistics.energy_balance()` load is also included, so we also need to include a color for the load carrier."
   ]
  },
  {
   "cell_type": "code",
   "execution_count": null,
   "id": "6ac7c878",
   "metadata": {},
   "outputs": [],
   "source": [
    "colors = {\n",
    "    \"Multiple\": \"pink\",\n",
    "    \"AC\": \"black\",\n",
    "    \"Brown Coal\": \"saddlebrown\",\n",
    "    \"Gas\": \"darkorange\",\n",
    "    \"Geothermal\": \"firebrick\",\n",
    "    \"Hard Coal\": \"darkslategray\",\n",
    "    \"Nuclear\": \"mediumorchid\",\n",
    "    \"Oil\": \"peru\",\n",
    "    \"Other\": \"dimgray\",\n",
    "    \"Pumped Hydro\": \"cornflowerblue\",\n",
    "    \"Run of River\": \"royalblue\",\n",
    "    \"Solar\": \"gold\",\n",
    "    \"Storage Hydro\": \"navy\",\n",
    "    \"Waste\": \"olive\",\n",
    "    \"Wind Offshore\": \"teal\",\n",
    "    \"Wind Onshore\": \"turquoise\",\n",
    "}\n",
    "\n",
    "nc.carriers.color = nc.carriers.index.map(colors)"
   ]
  },
  {
   "cell_type": "markdown",
   "id": "573072cd",
   "metadata": {},
   "source": [
    "As the carriers for loads are missing, we need to add them, manually."
   ]
  },
  {
   "cell_type": "code",
   "execution_count": null,
   "id": "3cd2b6f9",
   "metadata": {},
   "outputs": [],
   "source": [
    "nc.carriers.loc[\"\", \"color\"] = \"darkred\"\n",
    "nc.carriers.loc[\"-\", \"color\"] = \"darkred\""
   ]
  },
  {
   "cell_type": "markdown",
   "id": "5a528be6",
   "metadata": {},
   "source": [
    "## Balances and flow"
   ]
  },
  {
   "cell_type": "markdown",
   "id": "798c82b7",
   "metadata": {},
   "source": [
    "We first choose a suitable projection for the plot by importing `cartopy` and `matplotlib`. Commonly used projections include `ccrs.Mercator()` or `ccrs.EqualEarth()`. We can also pass `geomap_color=True` to get default colorings for land and water bodies. Note that this requires cartopy to be installed."
   ]
  },
  {
   "cell_type": "code",
   "execution_count": null,
   "id": "a41cddad",
   "metadata": {},
   "outputs": [],
   "source": [
    "import cartopy.crs as ccrs\n",
    "import matplotlib.pyplot as plt\n",
    "\n",
    "fig, ax = plt.subplots(figsize=(8, 7), subplot_kw={\"projection\": ccrs.EqualEarth()})\n",
    "nc.plot(ax=ax, geomap_color=True)"
   ]
  },
  {
   "cell_type": "markdown",
   "id": "634c7c53",
   "metadata": {},
   "source": [
    "Next, let's pass the results to `n.explore()`. Setting `bus_split_circle=True` maps negative values to the bottom half and positive values to the positive half. If set to `False`, bottom half circles are not used and negative values will automatically be omitted. Note that the area of `bus_size` scales proportionally to the values passed. To get a useful map, we need to scale the values, according to personal preference."
   ]
  },
  {
   "cell_type": "code",
   "execution_count": null,
   "id": "46b56145",
   "metadata": {},
   "outputs": [],
   "source": [
    "bus_size_factor = 3e6\n",
    "branch_width_factor = 2e4\n",
    "branch_flow_factor = 5e4\n",
    "\n",
    "nc.plot(\n",
    "    ax=ax,\n",
    "    bus_size=eb / bus_size_factor,\n",
    "    bus_split_circle=True,\n",
    "    line_width=line_flow / branch_width_factor,\n",
    "    link_width=link_flow / branch_width_factor,\n",
    "    line_flow=line_flow / branch_flow_factor,\n",
    ")\n",
    "\n",
    "fig"
   ]
  },
  {
   "cell_type": "markdown",
   "id": "233494ca",
   "metadata": {},
   "source": [
    "## Legends"
   ]
  },
  {
   "cell_type": "markdown",
   "id": "8243b676",
   "metadata": {},
   "source": [
    "We import additional functions from `pypsa.plot` to add legends to our figure. It makes sense to select values that are close to values represented in the figure, e.g. the maximum, minimum values and something in between."
   ]
  },
  {
   "cell_type": "code",
   "execution_count": null,
   "id": "c56c7d24",
   "metadata": {},
   "outputs": [],
   "source": [
    "from pypsa.plot import add_legend_lines, add_legend_patches, add_legend_semicircles\n",
    "\n",
    "print(f\"Max flow: {line_flow.abs().max()}\")\n",
    "print(f\"Min flow: {line_flow.abs().min()}\")"
   ]
  },
  {
   "cell_type": "markdown",
   "id": "02a02bc0",
   "metadata": {},
   "source": [
    "Based on the values, we choose the following. Not that the values need to be scaled with the same factors determined before."
   ]
  },
  {
   "cell_type": "code",
   "execution_count": null,
   "id": "22498550",
   "metadata": {},
   "outputs": [],
   "source": [
    "add_legend_lines(\n",
    "    ax,\n",
    "    sizes=[branch / branch_width_factor for branch in [150000, 100000, 10000]],\n",
    "    labels=[\"150\", \"100\", \"10\"],\n",
    "    legend_kw={\"loc\": \"lower right\", \"frameon\": False, \"title\": \"Line flow (GWh)\"},\n",
    ")\n",
    "fig"
   ]
  },
  {
   "cell_type": "markdown",
   "id": "40033a57",
   "metadata": {},
   "source": [
    "Now we apply the same process for bus sizes."
   ]
  },
  {
   "cell_type": "code",
   "execution_count": null,
   "id": "7a3877af",
   "metadata": {},
   "outputs": [],
   "source": [
    "print(f\"Max gen./load: {eb.groupby('bus').sum().abs().max()}\")\n",
    "print(f\"Max gen./load: {eb.groupby('bus').sum().abs().min()}\")"
   ]
  },
  {
   "cell_type": "code",
   "execution_count": null,
   "id": "2b67ad1d",
   "metadata": {},
   "outputs": [],
   "source": [
    "add_legend_semicircles(\n",
    "    ax,\n",
    "    sizes=[bus / bus_size_factor for bus in [120000, -120000]],\n",
    "    labels=[\"+120 GWh\", \"-120 GWh\"],\n",
    "    legend_kw={\n",
    "        \"loc\": \"upper left\",\n",
    "        \"frameon\": False,\n",
    "        \"bbox_to_anchor\": (0.02, 0.98),\n",
    "    },\n",
    ")\n",
    "fig"
   ]
  },
  {
   "cell_type": "markdown",
   "id": "aad793e5",
   "metadata": {},
   "source": [
    "To add legend entries for each bus carrier, we use `add_legend_patches`."
   ]
  },
  {
   "cell_type": "code",
   "execution_count": null,
   "id": "0ae3a279",
   "metadata": {},
   "outputs": [],
   "source": [
    "add_legend_patches(\n",
    "    ax,\n",
    "    colors=list(nc.carriers.color),  # colors\n",
    "    labels=list(nc.carriers.index),  # labels\n",
    "    legend_kw={\n",
    "        \"loc\": \"lower center\",\n",
    "        \"bbox_to_anchor\": (0.5, -0.25),  # For offsetting\n",
    "        \"ncol\": 4,\n",
    "        \"frameon\": False,\n",
    "    },\n",
    ")\n",
    "\n",
    "fig"
   ]
  },
  {
   "cell_type": "markdown",
   "id": "55de92c9",
   "metadata": {},
   "source": [
    "## Export"
   ]
  },
  {
   "cell_type": "markdown",
   "id": "92d18bff",
   "metadata": {},
   "source": [
    "We can export the figure to any desired format, i.e., `.png`, `.jpg`, `.pdf` etc."
   ]
  },
  {
   "cell_type": "code",
   "execution_count": null,
   "id": "7b65239c",
   "metadata": {},
   "outputs": [],
   "source": [
    "fig.savefig(\"static-plot.jpg\", dpi=150)"
   ]
  }
 ],
 "metadata": {
  "kernelspec": {
   "display_name": "",
   "language": "python",
   "name": ""
  },
  "language_info": {
   "codemirror_mode": {
    "name": "ipython",
    "version": 3
   },
   "file_extension": ".py",
   "mimetype": "text/x-python",
   "name": "python",
   "nbconvert_exporter": "python",
   "pygments_lexer": "ipython3",
   "version": "3.12.11"
  }
 },
 "nbformat": 4,
 "nbformat_minor": 5
}
