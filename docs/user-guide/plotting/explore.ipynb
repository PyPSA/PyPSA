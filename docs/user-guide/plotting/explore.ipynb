{
 "cells": [
  {
   "cell_type": "code",
   "execution_count": null,
   "id": "5c7934eb",
   "metadata": {
    "tags": [
     "injected-warnings",
     "hide-cell"
    ]
   },
   "outputs": [],
   "source": [
    "# General notebook settings\n",
    "import warnings\n",
    "\n",
    "warnings.filterwarnings(\"error\", category=DeprecationWarning)"
   ]
  },
  {
   "cell_type": "markdown",
   "id": "b62ec1aa",
   "metadata": {},
   "source": [
    "# Maps (Interactive)"
   ]
  },
  {
   "cell_type": "markdown",
   "id": "9848f516",
   "metadata": {},
   "source": [
    "Next to static map plotting, PyPSA allows for exploring networks on a map, interactively. With `n.explore()`, you can explore the location of all components, including buses, lines, links, transformers, their component attributes and map results or other properties to the bus sizes, branch widths, colors, etc. Calling the method returns a standard `pydeck.Deck` object than can be layered on top of other `pydeck.Deck` objects (see https://deckgl.readthedocs.io/en/latest/layer.html). They can also be exported in self-contained HTML files for sharing. In this notebook, we demonstrate the features of `n.explore()` using the [SciGRID example](/examples/scigrid-lopf-then-pf).\n"
   ]
  },
  {
   "cell_type": "markdown",
   "id": "aa9ad5cf",
   "metadata": {},
   "source": [
    "## Input data"
   ]
  },
  {
   "cell_type": "code",
   "execution_count": null,
   "id": "ec9b441c",
   "metadata": {},
   "outputs": [],
   "source": [
    "import geopandas as gpd\n",
    "\n",
    "import pypsa\n",
    "\n",
    "n = pypsa.examples.scigrid_de()"
   ]
  },
  {
   "cell_type": "markdown",
   "id": "90f5a1c7",
   "metadata": {},
   "source": [
    "## Preparation"
   ]
  },
  {
   "cell_type": "markdown",
   "id": "b6b69008",
   "metadata": {},
   "source": [
    "For illustrative purposes, we cluster the network based on federal states. For a more detailed guide on clustering, please go to [Network Clustering](/examples/clustering). For the scope of this guide, you can ignore the following blocks."
   ]
  },
  {
   "cell_type": "code",
   "execution_count": null,
   "id": "35bd29ac",
   "metadata": {},
   "outputs": [],
   "source": [
    "n.calculate_dependent_values()\n",
    "n.lines = n.lines.reindex(columns=n.components[\"Line\"][\"defaults\"].index[1:])\n",
    "n.lines[\"type\"] = \"Al/St 240/40 2-bundle 220.0\"\n",
    "n.buses = n.buses.reindex(columns=n.components[\"Bus\"][\"defaults\"].index[1:])\n",
    "n.buses[\"frequency\"] = 50\n",
    "\n",
    "url = \"https://media.githubusercontent.com/media/wmgeolab/geoBoundaries/9469f09592ced973a3448cf66b6100b741b64c0d/releaseData/gbOpen/DEU/ADM1/geoBoundaries-DEU-ADM1-all.zip\"\n",
    "states = gpd.read_file(url, layer=\"geoBoundaries-DEU-ADM1_simplified\")\n",
    "states[\"shapeName\"] = states[\"shapeName\"].apply(\n",
    "    lambda x: x.encode(\"latin1\").decode(\"utf-8\")\n",
    ")  # fix encoding issue\n",
    "\n",
    "bus_coords = gpd.GeoDataFrame(\n",
    "    geometry=gpd.points_from_xy(n.buses.x, n.buses.y, crs=4326), index=n.buses.index\n",
    ")\n",
    "busmap = bus_coords.to_crs(3035).sjoin_nearest(states.to_crs(3035), how=\"left\").shapeISO\n",
    "nc = n.cluster.cluster_by_busmap(busmap)"
   ]
  },
  {
   "cell_type": "markdown",
   "id": "017d976b",
   "metadata": {},
   "source": [
    "Let’s take an initial look at the network. By default, `n.explore()` displays information in the tooltip for each component type, including component names and their default sizes or widths. You can hover over the elements in the map below to inspect the data interactively. Optionally, you can disable tooltip by setting `tooltip=False` - this can help reduce processing time and decrease the file size when exporting to HTML."
   ]
  },
  {
   "cell_type": "code",
   "execution_count": null,
   "id": "2cedd146",
   "metadata": {},
   "outputs": [],
   "source": [
    "nc.explore()"
   ]
  },
  {
   "cell_type": "markdown",
   "id": "8c0d11b2",
   "metadata": {},
   "source": [
    "With `help(n.explore)`, we can check what parameters the method accepts:"
   ]
  },
  {
   "cell_type": "markdown",
   "id": "82f71917",
   "metadata": {},
   "source": [
    "<style>\n",
    "/* Scrollable fenced code block just for this cell */\n",
    ".scrollable-code pre {\n",
    "    max-height: 250px;\n",
    "    overflow-y: auto;\n",
    "    display: block;\n",
    "}\n",
    "</style>\n",
    "\n",
    "<div class=\"scrollable-code\">\n",
    "\n",
    "```text\n",
    "Docstring:\n",
    "Create an interactive map of the PyPSA network using Pydeck.\n",
    "\n",
    "Parameters\n",
    "----------\n",
    "branch_width_factor : float, default 1.0\n",
    "    Branch widths are scaled by this factor.\n",
    "bus_size : float/dict/pandas.Series\n",
    "    Sizes of bus points in km² (corresponds to circle area), defaults to 25 km².\n",
    "bus_size_factor : float, default 1.0\n",
    "    Bus sizes are scaled by this factor.\n",
    "bus_split_circle : bool, default False\n",
    "    Draw half circles if bus_size is a pandas.Series with a Multiindex.\n",
    "    If set to true, the upper half circle per bus then includes all positive values\n",
    "    of the series, the lower half circle all negative values. Defaults to False.\n",
    "bus_color : str/dict/pandas.Series/None\n",
    "    Colors for the buses, defaults to \"cadetblue\". If bus_size is a\n",
    "    pandas.Series with a Multiindex, bus_color defaults to the\n",
    "    n.c.carriers.static['color'] column.\n",
    "bus_cmap : mcolors.Colormap/str, default 'Reds'\n",
    "    If bus_color are floats, this color map will assign the colors.\n",
    "bus_cmap_norm : mcolors.Normalize/None\n",
    "    Normalization for bus_cmap, defaults to None.\n",
    "bus_alpha : float/dict/pandas.Series\n",
    "    Add alpha channel to buses, defaults to 0.9.\n",
    "line_flow : float/dict/pandas.Series, default 0\n",
    "    Series of line flows indexed by line names, defaults to 0. If 0, no arrows will be created.\n",
    "    If a float is provided, it will be used as a constant flow for all lines.\n",
    "line_color : str/dict/pandas.Series\n",
    "    Colors for the lines, defaults to 'rosybrown'.\n",
    "line_alpha : float/dict/pandas.Series\n",
    "    Add alpha channel to lines, defaults to 0.9.\n",
    "line_width : float/dict/pandas.Series, default 2\n",
    "    Widths of line component in km.\n",
    "link_flow : float/dict/pandas.Series, default 0\n",
    "    Series of link flows indexed by link names, defaults to 0. If 0, no arrows will be created.\n",
    "    If a float is provided, it will be used as a constant flow for all links.\n",
    "link_color : str/dict/pandas.Series\n",
    "    Colors for the links, defaults to 'darkseagreen'.\n",
    "link_alpha : float/dict/pandas.Series\n",
    "    Add alpha channel to links, defaults to 0.9.\n",
    "link_width : float/dict/pandas.Series, default 2\n",
    "    Widths of link component in km.\n",
    "tooltip : bool, default True\n",
    "    Whether to add a tooltip to the bus layer.\n",
    "\n",
    "Other Parameters\n",
    "----------------\n",
    "branch_components : list, set, optional, default ['Line', 'Link', 'Transformer']\n",
    "    Branch components to be plotted.\n",
    "branch_width_max : float, default 10\n",
    "    Maximum width of branch component in km when `auto_scale` is True.\n",
    "bus_size_max : float, default 10000\n",
    "    Maximum area size of bus component in km² when `auto_scale` is True.\n",
    "line_cmap : mcolors.Colormap/str, default 'viridis'\n",
    "    If line_color are floats, this color map will assign the colors.\n",
    "line_cmap_norm : mcolors.Normalize\n",
    "    The norm applied to the line_cmap.\n",
    "link_cmap : mcolors.Colormap/str, default 'viridis'\n",
    "    If link_color are floats, this color map will assign the colors.\n",
    "link_cmap_norm : mcolors.Normalize|matplotlib.colors.*Norm\n",
    "    The norm applied to the link_cmap.\n",
    "transformer_flow : float/dict/pandas.Series, default 0\n",
    "    Series of transformer flows indexed by transformer names, defaults to 0. If 0, no arrows will be created.\n",
    "    If a float is provided, it will be used as a constant flow for all transformers.\n",
    "transformer_color : str/dict/pandas.Series\n",
    "    Colors for the transformers, defaults to 'orange'.\n",
    "transformer_cmap : mcolors.Colormap/str, default 'viridis'\n",
    "    If transformer_color are floats, this color map will assign the colors.\n",
    "transformer_cmap_norm : matplotlib.colors.Normalize|matplotlib.colors.*Norm\n",
    "    The norm applied to the transformer_cmap.\n",
    "transformer_alpha : float/dict/pandas.Series\n",
    "    Add alpha channel to transformers, defaults to 0.9.\n",
    "transformer_width : float/dict/pandas.Series, default 2\n",
    "    Widths of transformer in km.\n",
    "arrow_size_factor : float, default 1.5\n",
    "    Multiplier on branch flows to scale the arrow size.\n",
    "arrow_color : str/dict/pandas.Series | None, default None\n",
    "    Colors for the arrows. If not specified, defaults to the same colors as the respective branch component.\n",
    "arrow_cmap : str/matplotlib.colors.Colormap, default 'viridis'\n",
    "    Colormap to use if arrow_color is a numeric pandas.Series.\n",
    "arrow_cmap_norm : matplotlib.colors.Normalize, optional\n",
    "    Normalization to use if arrow_color is a numeric pandas.Series.\n",
    "arrow_alpha : float/dict/pandas.Series, default 0.9\n",
    "    Add alpha channel to arrows, defaults to 0.9.\n",
    "bus_columns : list, default None\n",
    "    List of bus columns to include.\n",
    "    Specify additional columns to include in the tooltip.\n",
    "line_columns : list, default None\n",
    "    List of line columns to include. If None, only the bus0 and bus1 columns are used.\n",
    "    Specify additional columns to include in the tooltip.\n",
    "link_columns : list, default None\n",
    "    List of link columns to include. If None, only the bus0 and bus1 columns are used.\n",
    "    Specify additional columns to include in the tooltip.\n",
    "transformer_columns : list, default None\n",
    "    List of transformer columns to include. If None, only the bus0 and bus1 columns are used.\n",
    "    Specify additional columns to include in the tooltip.\n",
    "geomap : bool, default False\n",
    "    Whether to add a geomap layer to the plot.\n",
    "geomap_alpha : float, default 0.9\n",
    "    Alpha transparency for the geomap features.\n",
    "geomap_color : dict | None, default None\n",
    "    Dictionary specifying colors for different geomap features. If None, default colors will be used: `{'land': 'whitesmoke', 'ocean': 'lightblue'}\n",
    "geomap_resolution : {'110m', '50m', '10m'}, default '50m'\n",
    "    Resolution of the geomap features. One of '110m', '50m', or '10m'.\n",
    "geometry : bool, default False\n",
    "    Whether to use the geometry column of the branch components.\n",
    "\n",
    "Returns\n",
    "-------\n",
    "PydeckPlotter\n",
    "    The PydeckPlotter instance with the created layers.\n",
    "```"
   ]
  },
  {
   "cell_type": "markdown",
   "id": "ef2301ab",
   "metadata": {},
   "source": [
    "In the docstrings, you can see that the method allows for passing the same arguments as its static counterpart `n.plot()` and even a few more. Please be aware that due to how `pydeck` and `matplotlib.pyplot` handle numeric values, passing a value for e.g. `line_width` will achieve a different scalings in each method. In `n.explore()`, all widths and flows passed are translated into kilometers on the interactive map. Values passed for `bus_size` translate into km², accordingly. By default, all branches are rendered at a width of 2 km, buses at a size of 25 km²."
   ]
  },
  {
   "cell_type": "markdown",
   "id": "c7ebd9bf",
   "metadata": {},
   "source": [
    "## Retrieving Results Data"
   ]
  },
  {
   "cell_type": "markdown",
   "id": "463c42fd",
   "metadata": {},
   "source": [
    "To map result to parameters of the interactive map, we first solve the network and then use `n.statistics()` to calculate relevant metrics."
   ]
  },
  {
   "cell_type": "code",
   "execution_count": null,
   "id": "3e9f80d9",
   "metadata": {},
   "outputs": [],
   "source": [
    "# We reduce logging output for clarity\n",
    "import logging\n",
    "\n",
    "logging.getLogger(\"pypsa\").setLevel(logging.ERROR)\n",
    "logging.getLogger(\"linopy\").setLevel(logging.ERROR)\n",
    "\n",
    "nc.optimize()"
   ]
  },
  {
   "cell_type": "markdown",
   "id": "2abedd89",
   "metadata": {},
   "source": [
    "From above we learned that `bus_size` accepts parameters of type `float`, `dict`, and `pd.Series`. When passing a multi-index `pd.Series`, its values will be mapped to pie chart slices."
   ]
  },
  {
   "cell_type": "code",
   "execution_count": null,
   "id": "5b7c3000",
   "metadata": {},
   "outputs": [],
   "source": [
    "eb = (\n",
    "    nc.statistics.energy_balance(\n",
    "        groupby=[\"bus\", \"carrier\"],\n",
    "        components=[\"Generator\", \"Load\", \"StorageUnit\"],\n",
    "    )\n",
    "    .groupby([\"bus\", \"carrier\"])\n",
    "    .sum()\n",
    ")"
   ]
  },
  {
   "cell_type": "markdown",
   "id": "5e85a5f3",
   "metadata": {},
   "source": [
    "We also extract branch results, e.g., line and link flows in this example."
   ]
  },
  {
   "cell_type": "code",
   "execution_count": null,
   "id": "c6c904c4",
   "metadata": {},
   "outputs": [],
   "source": [
    "line_flow = nc.lines_t.p0.sum(axis=0)\n",
    "link_flow = nc.links_t.p0.sum(axis=0)"
   ]
  },
  {
   "cell_type": "markdown",
   "id": "d0187703",
   "metadata": {},
   "source": [
    "Note that for the pie slices to be plotted and colored correctly, passing a multi-index `pd.Series` requires all carrier colors to exist. Colors can be specified by their hex code representation or from the list of [matplotlib names](https://matplotlib.org/stable/gallery/color/named_colors.html). In `n.statistics.energy_balance()` load is also included, so we also need to include a color for the load carrier."
   ]
  },
  {
   "cell_type": "code",
   "execution_count": null,
   "id": "68810aa5",
   "metadata": {},
   "outputs": [],
   "source": [
    "colors = {\n",
    "    \"Multiple\": \"pink\",\n",
    "    \"AC\": \"black\",\n",
    "    \"Brown Coal\": \"saddlebrown\",\n",
    "    \"Gas\": \"darkorange\",\n",
    "    \"Geothermal\": \"firebrick\",\n",
    "    \"Hard Coal\": \"darkslategray\",\n",
    "    \"Nuclear\": \"mediumorchid\",\n",
    "    \"Oil\": \"peru\",\n",
    "    \"Other\": \"dimgray\",\n",
    "    \"Pumped Hydro\": \"cornflowerblue\",\n",
    "    \"Run of River\": \"royalblue\",\n",
    "    \"Solar\": \"gold\",\n",
    "    \"Storage Hydro\": \"navy\",\n",
    "    \"Waste\": \"olive\",\n",
    "    \"Wind Offshore\": \"teal\",\n",
    "    \"Wind Onshore\": \"turquoise\",\n",
    "}\n",
    "\n",
    "nc.carriers.color = nc.carriers.index.map(colors)"
   ]
  },
  {
   "cell_type": "markdown",
   "id": "cc62f8bd",
   "metadata": {},
   "source": [
    "As the carriers for loads are missing, we need to add them, manually."
   ]
  },
  {
   "cell_type": "code",
   "execution_count": null,
   "id": "95717b7e",
   "metadata": {},
   "outputs": [],
   "source": [
    "nc.carriers.loc[\"\", \"color\"] = \"darkred\"\n",
    "nc.carriers.loc[\"-\", \"color\"] = \"darkred\""
   ]
  },
  {
   "cell_type": "markdown",
   "id": "5d199d08",
   "metadata": {},
   "source": [
    "## Applying n.explore()"
   ]
  },
  {
   "cell_type": "markdown",
   "id": "9e89ce50",
   "metadata": {},
   "source": [
    "Finally, let's pass the results to `n.explore()`. By default the `map_style='road'` is used, we pass `dark` for illustrative purposes. Setting `bus_split_circle=True` maps negative values to the bottom half and positive values to the positive half. If set to `False`, bottom half circles are not used and negative values will automatically be omitted. As the values scale proportionally to the bus area, they are directly translated into km². This may not achieve the outcome we want, this is why we set `auto_scale=True`. This scales the maximum value to `bus_size_max`.  The same applies to `branch_width` and `branch_flow` (`branch_width_max`). By defaults, arrows are scaled by 1.5, so that arrowheads are visible. If you want those to be less or more prominent, scale accordingly. We can pass additional columns for each component type that we want to include in the tooltip. Note that we disable the tooltip in the documentation due to file size limitations of our documentation."
   ]
  },
  {
   "cell_type": "markdown",
   "id": "b36f0240",
   "metadata": {},
   "source": [
    "Optionally, you can pass a `pdk.ViewState` object or a `dict`. By default, PyPSA will set zoom level of `4` and calculate the initial view based on all coordinates in n.buses. For details on how to use `view_state`, we refer to the [pydeck documentation](https://deckgl.readthedocs.io/en/latest/view_state.html)."
   ]
  },
  {
   "cell_type": "code",
   "execution_count": null,
   "id": "c43a4f4e",
   "metadata": {},
   "outputs": [],
   "source": [
    "view_state = {}\n",
    "view_state[\"zoom\"] = 6\n",
    "view_state[\"pitch\"] = 35  # Up/down angle relative to the map's plane\n",
    "\n",
    "map = nc.explore(\n",
    "    view_state=view_state,\n",
    "    map_style=\"dark\",\n",
    "    bus_size=eb,  # MWh -> km²\n",
    "    bus_split_circle=True,\n",
    "    bus_size_max=7000,  # km²\n",
    "    line_color=\"yellow\",\n",
    "    line_width=line_flow,  # MWh -> km\n",
    "    link_width=link_flow,  # MWh -> km\n",
    "    line_flow=line_flow,  # MWh -> km\n",
    "    link_flow=link_flow,  # MWh -> km\n",
    "    branch_width_max=16,  # km\n",
    "    auto_scale=True,\n",
    "    bus_columns=[\"v_nom\"],\n",
    "    line_columns=[\"s_nom\"],\n",
    "    link_columns=[\"p_nom\"],\n",
    "    arrow_size_factor=2,\n",
    "    tooltip=True,  # disabled here for technical limits of mkdocs-jupyter plugin\n",
    ")"
   ]
  },
  {
   "cell_type": "markdown",
   "id": "2252087c",
   "metadata": {},
   "source": [
    "## Map Export"
   ]
  },
  {
   "cell_type": "markdown",
   "id": "7ccd46af",
   "metadata": {},
   "source": [
    "To export the interactive map, we use `pydeck`'s built-in features (`pdk.to_html()`). Passing `offline=True` embeds deck.gls JavaScript library. Note that you require an internet connection if you want to be able to view the map tiles in the background. If you want country shapes also be included in the self-contained HTML, set `geomap=True`. This will however increase the file size noticeably."
   ]
  },
  {
   "cell_type": "code",
   "execution_count": null,
   "id": "81fa17e1",
   "metadata": {},
   "outputs": [],
   "source": [
    "map.to_html(\"exploring.html\")"
   ]
  },
  {
   "cell_type": "markdown",
   "id": "3096f620",
   "metadata": {},
   "source": [
    "## Static Equivalent"
   ]
  },
  {
   "cell_type": "markdown",
   "id": "58cc0099",
   "metadata": {},
   "source": [
    "This would be its static equivalent. As mentioned above, scaling is handled differently in `pydeck` and `matplotlib`."
   ]
  },
  {
   "cell_type": "code",
   "execution_count": null,
   "id": "c12cf8d2",
   "metadata": {},
   "outputs": [],
   "source": [
    "nc.plot(\n",
    "    bus_size=eb / 3e6,\n",
    "    bus_split_circle=True,\n",
    "    line_width=line_flow / 1e4,\n",
    "    link_width=link_flow / 1e4,\n",
    "    line_flow=line_flow / 5e4,\n",
    ")"
   ]
  },
  {
   "cell_type": "markdown",
   "id": "49b1cfc4",
   "metadata": {},
   "source": [
    "## Stacking Pydeck Layers"
   ]
  },
  {
   "cell_type": "markdown",
   "id": "be7bd5af",
   "metadata": {},
   "source": [
    "We can use `pydeck`s built-in layer functionalities to extend the interactive map with features that are completely unrelated to `pypsa`. For example, we can use the `GeoDataFrame` containing `Polygon` and `MultiPolygon` geometries to color them by average prices (€/MWh)."
   ]
  },
  {
   "cell_type": "code",
   "execution_count": null,
   "id": "0b98ef48",
   "metadata": {},
   "outputs": [],
   "source": [
    "avg_prices = nc.statistics.prices()\n",
    "avg_prices.head()"
   ]
  },
  {
   "cell_type": "code",
   "execution_count": null,
   "id": "87c92c69",
   "metadata": {},
   "outputs": [],
   "source": [
    "# Map average prices by shapeISO\n",
    "states[\"avg_price\"] = states[\"shapeISO\"].map(avg_prices).round(2)"
   ]
  },
  {
   "cell_type": "markdown",
   "id": "d99582b4",
   "metadata": {},
   "source": [
    "Now we can map colors to the shapes using a colormap and store them as in RGBA formatted lists in the states `GeoDataFrame`."
   ]
  },
  {
   "cell_type": "code",
   "execution_count": null,
   "id": "cea75c46",
   "metadata": {},
   "outputs": [],
   "source": [
    "import matplotlib.colors as mcolors\n",
    "import matplotlib.pyplot as plt\n",
    "\n",
    "values = states[\"avg_price\"]\n",
    "cmap = plt.get_cmap(\"Reds\")\n",
    "norm = mcolors.Normalize(vmin=values.min(), vmax=values.max())"
   ]
  },
  {
   "cell_type": "markdown",
   "id": "acf368ba",
   "metadata": {},
   "source": [
    "We need a small helper to convert `mcolors` to `pydeck` ready RGBA lists"
   ]
  },
  {
   "cell_type": "code",
   "execution_count": null,
   "id": "2354a30c",
   "metadata": {},
   "outputs": [],
   "source": [
    "def price_to_color(price, alpha=0.7):\n",
    "    color = cmap(norm(price))  # RGBA in 0-1\n",
    "    rgb = [round(c * 255) for c in color[:3]]  # only RGB\n",
    "    a = round(alpha * 255)\n",
    "    return rgb + [a]"
   ]
  },
  {
   "cell_type": "code",
   "execution_count": null,
   "id": "439d30f0",
   "metadata": {},
   "outputs": [],
   "source": [
    "states[\"color\"] = states[\"avg_price\"].apply(price_to_color)\n",
    "states.head()"
   ]
  },
  {
   "cell_type": "markdown",
   "id": "410a36c1",
   "metadata": {},
   "source": [
    "We now create a new layer based on our states `GeoDataFrame` and insert it to `map.layers`. If we append it, the states layer would lie above the pie charts, which would obtrude our previous map."
   ]
  },
  {
   "cell_type": "code",
   "execution_count": null,
   "id": "b59f5097",
   "metadata": {},
   "outputs": [],
   "source": [
    "import pydeck as pdk\n",
    "\n",
    "# Add a custom tooltip column (HTML or plain text)\n",
    "states[\"tooltip_html\"] = (\n",
    "    \"<b>State:</b> \"\n",
    "    + states[\"shapeName\"]\n",
    "    + \"<br>\"\n",
    "    + \"<b>GID:</b> \"\n",
    "    + states[\"shapeISO\"]\n",
    "    + \"<br><b>Avg. Price:</b> \"\n",
    "    + states[\"avg_price\"].astype(str)\n",
    "    + \" €/MWh\"\n",
    ")\n",
    "\n",
    "# Create layer\n",
    "states_layer = pdk.Layer(\n",
    "    \"GeoJsonLayer\",\n",
    "    states,\n",
    "    stroked=True,\n",
    "    filled=True,\n",
    "    get_fill_color=\"color\",\n",
    "    get_line_color=[255, 255, 255, 255],\n",
    "    line_width_min_pixels=1,\n",
    "    pickable=True,\n",
    "    auto_highlight=True,\n",
    ")"
   ]
  },
  {
   "cell_type": "code",
   "execution_count": null,
   "id": "a319f27e",
   "metadata": {},
   "outputs": [],
   "source": [
    "map.layers.insert(0, states_layer)"
   ]
  },
  {
   "cell_type": "code",
   "execution_count": null,
   "id": "7e4aaa3f",
   "metadata": {},
   "outputs": [],
   "source": [
    "map.show()"
   ]
  }
 ],
 "metadata": {
  "kernelspec": {
   "display_name": "",
   "language": "python",
   "name": ""
  },
  "language_info": {
   "codemirror_mode": {
    "name": "ipython",
    "version": 3
   },
   "file_extension": ".py",
   "mimetype": "text/x-python",
   "name": "python",
   "nbconvert_exporter": "python",
   "pygments_lexer": "ipython3",
   "version": "3.12.11"
  }
 },
 "nbformat": 4,
 "nbformat_minor": 5
}
