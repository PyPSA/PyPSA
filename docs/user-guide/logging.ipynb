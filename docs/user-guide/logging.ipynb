{
 "cells": [
  {
   "cell_type": "code",
   "execution_count": null,
   "metadata": {
    "tags": [
     "injected-warnings",
     "hide-cell"
    ]
   },
   "outputs": [],
   "source": [
    "# General notebook settings\n",
    "import warnings\n",
    "\n",
    "warnings.filterwarnings(\"error\", category=DeprecationWarning)"
   ]
  },
  {
   "cell_type": "markdown",
   "metadata": {},
   "source": [
    "# Logging\n",
    "\n",
    "PyPSA uses the Python standard library [logging](https://docs.python.org/3/library/logging.html) module to provide informative messages during execution.\n",
    "\n",
    "You can set the logging level to different values like **ERROR**, **WARNING**, **INFO**, or **DEBUG**. This can be configured independently for different modules.\n",
    "\n",
    "We'll start by setting the basic logging level to **INFO** to see informational messages."
   ]
  },
  {
   "cell_type": "code",
   "execution_count": null,
   "metadata": {},
   "outputs": [],
   "source": [
    "import logging\n",
    "\n",
    "import pypsa\n",
    "\n",
    "logging.basicConfig(level=logging.INFO)\n",
    "\n",
    "network = pypsa.examples.ac_dc_meshed()\n",
    "\n",
    "out = network.optimize()"
   ]
  },
  {
   "cell_type": "markdown",
   "metadata": {},
   "source": [
    "Now let's turn on **INFO** level messages specifically for the optimization module to see detailed optimization progress."
   ]
  },
  {
   "cell_type": "code",
   "execution_count": null,
   "metadata": {},
   "outputs": [],
   "source": [
    "pypsa.optimization.optimize.logger.setLevel(logging.INFO)\n",
    "\n",
    "out = network.optimize()"
   ]
  },
  {
   "cell_type": "markdown",
   "metadata": {},
   "source": [
    "Now let's reduce verbosity by setting the optimization module to only show **WARNING** level messages."
   ]
  },
  {
   "cell_type": "code",
   "execution_count": null,
   "metadata": {},
   "outputs": [],
   "source": [
    "pypsa.optimization.optimize.logger.setLevel(logging.WARNING)\n",
    "\n",
    "out = network.optimize()"
   ]
  },
  {
   "cell_type": "markdown",
   "metadata": {},
   "source": [
    "Now let's turn on **DEBUG** level messages for the power flow module to see the most detailed output."
   ]
  },
  {
   "cell_type": "code",
   "execution_count": null,
   "metadata": {},
   "outputs": [],
   "source": [
    "pypsa.network.power_flow.logger.setLevel(logging.DEBUG)\n",
    "\n",
    "out = network.lpf()"
   ]
  },
  {
   "cell_type": "markdown",
   "metadata": {},
   "source": [
    "Finally, let's turn off messages for the power flow module by setting it back to **ERROR** level."
   ]
  },
  {
   "cell_type": "code",
   "execution_count": null,
   "metadata": {},
   "outputs": [],
   "source": [
    "pypsa.network.power_flow.logger.setLevel(logging.ERROR)\n",
    "\n",
    "out = network.lpf()"
   ]
  },
  {
   "cell_type": "markdown",
   "metadata": {},
   "source": [
    "## Python Warnings versus Logging\n",
    "\n",
    "PyPSA also uses Python's [warnings](https://docs.python.org/3/library/warnings.html) next to the logging module:\n",
    "\n",
    "- **logging**: For tracking application behavior - records events and provides debugging information\n",
    "- **Python Warnings**: For developers/users - alerts about deprecated features or potential issues\n"
   ]
  },
  {
   "cell_type": "code",
   "execution_count": null,
   "metadata": {
    "tags": [
     "hide-cell"
    ]
   },
   "outputs": [],
   "source": [
    "warnings.filterwarnings(\"default\", category=DeprecationWarning)"
   ]
  },
  {
   "cell_type": "code",
   "execution_count": null,
   "metadata": {},
   "outputs": [],
   "source": [
    "# Access a deprecated feature to see a warning\n",
    "network.components.generators.component_names"
   ]
  },
  {
   "cell_type": "code",
   "execution_count": null,
   "metadata": {},
   "outputs": [],
   "source": [
    "import warnings\n",
    "\n",
    "warnings.filterwarnings(\"ignore\", category=DeprecationWarning)\n",
    "network.components.generators.component_names"
   ]
  }
 ],
 "metadata": {
  "@webio": {
   "lastCommId": null,
   "lastKernelId": null
  },
  "kernelspec": {
   "display_name": "",
   "language": "python",
   "name": ""
  },
  "language_info": {
   "codemirror_mode": {
    "name": "ipython",
    "version": 3
   },
   "file_extension": ".py",
   "mimetype": "text/x-python",
   "name": "python",
   "nbconvert_exporter": "python",
   "pygments_lexer": "ipython3",
   "version": "3.13.7"
  }
 },
 "nbformat": 4,
 "nbformat_minor": 1
}
